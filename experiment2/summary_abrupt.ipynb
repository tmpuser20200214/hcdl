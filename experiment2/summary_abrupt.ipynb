{
 "cells": [
  {
   "cell_type": "code",
   "execution_count": 1,
   "metadata": {},
   "outputs": [],
   "source": [
    "import numpy as np\n",
    "import pandas as pd\n",
    "import networkx as nx\n",
    "\n",
    "import matplotlib.pyplot as plt\n",
    "import seaborn as sns\n",
    "sns.reset_orig()\n",
    "\n",
    "from matplotlib import rc\n",
    "rc('text', usetex=True)\n",
    "rc('font', **{'family' : \"sans-serif\"})\n",
    "params = {'text.latex.preamble' : [r'\\usepackage{siunitx}', r'\\usepackage{amsmath}']}\n",
    "plt.rcParams.update(params)\n",
    "\n",
    "from scipy.stats import bernoulli\n",
    "from scipy.special import loggamma\n",
    "\n",
    "from sklearn.preprocessing import OneHotEncoder\n",
    "\n",
    "import tqdm\n",
    "\n",
    "from rpy2.robjects import numpy2ri\n",
    "from rpy2.robjects.packages import importr"
   ]
  },
  {
   "cell_type": "code",
   "execution_count": 2,
   "metadata": {},
   "outputs": [],
   "source": [
    "import os\n",
    "import pickle"
   ]
  },
  {
   "cell_type": "code",
   "execution_count": 3,
   "metadata": {},
   "outputs": [],
   "source": [
    "pd.options.display.max_rows = 10000\n",
    "pd.options.display.max_columns = 1000"
   ]
  },
  {
   "cell_type": "code",
   "execution_count": 4,
   "metadata": {},
   "outputs": [],
   "source": [
    "from functools import lru_cache\n",
    "\n",
    "@lru_cache(maxsize = 10000)\n",
    "def normterm_discrete(n, k):\n",
    "    if n == 1:\n",
    "        return np.log(k)\n",
    "    if k == 1:\n",
    "        return 1.0\n",
    "    elif k == 2:\n",
    "        return np.sum(sorted([ np.exp(loggamma(n+1) - loggamma(t+1) - loggamma(n-t+1) + \n",
    "                               t*(np.log(t) - np.log(n)) + (n-t)*(np.log(n-t) - np.log(n))\n",
    "                        )\n",
    "                        for t in range(1, n)]))\n",
    "    else:\n",
    "        return normterm_discrete(n, k-1) + n/(k-2) * normterm_discrete(n, k-2)"
   ]
  },
  {
   "cell_type": "code",
   "execution_count": 5,
   "metadata": {},
   "outputs": [],
   "source": [
    "def calc_dnml(X, Z1, Z2, K=3, L=3):    \n",
    "    N = X.shape[0]\n",
    "    \n",
    "    codelen_x_z = 0.0\n",
    "    codelen_z = 0.0\n",
    "\n",
    "    for k in range(K):\n",
    "        for l in range(L):\n",
    "            n_pos = np.sum(X[Z1 == k, :][:, Z2 == l] == 1)\n",
    "            n_neg = np.sum(X[Z1 == k, :][:, Z2 == l] == 0)\n",
    "            n_all = n_pos + n_neg\n",
    "\n",
    "            if n_all >=2:\n",
    "                codelen_x_z += n_all * np.log(n_all)\n",
    "                codelen_x_z += np.log(normterm_discrete(n_all, 2))\n",
    "            \n",
    "            if n_pos >=2:\n",
    "                codelen_x_z -= n_pos * np.log(n_pos)\n",
    "            if n_neg >=2:\n",
    "                codelen_x_z -= n_neg * np.log(n_neg)\n",
    "            \n",
    "        n_k = np.sum(Z1 == k)\n",
    "        if n_k >= 1:\n",
    "            codelen_z += n_k * (np.log(N) - np.log(n_k))\n",
    "\n",
    "    codelen_z += np.log(normterm_discrete(N, K))\n",
    "    \n",
    "    codelen = codelen_x_z + codelen_z\n",
    "\n",
    "    return codelen, codelen_x_z, codelen_z"
   ]
  },
  {
   "cell_type": "code",
   "execution_count": 6,
   "metadata": {},
   "outputs": [],
   "source": [
    "def calc_dnml_with_estimator(X, Z1, Z2, pi, theta, K=3, L=3):\n",
    "    N = X.shape[0]\n",
    "    \n",
    "    codelen_x_z = 0.0\n",
    "    codelen_z = 0.0\n",
    "\n",
    "    for k in range(K):\n",
    "        for l in range(L):\n",
    "            n_pos = np.sum(X[Z1 == k, :][:, Z2 == l] == 1)\n",
    "            n_neg = np.sum(X[Z1 == k, :][:, Z2 == l] == 0)\n",
    "            n_all = n_pos + n_neg\n",
    "\n",
    "            if n_all >=2:\n",
    "                codelen_x_z += -n_pos * np.log(theta[k, l])\n",
    "                codelen_x_z += -n_neg * np.log(1 - theta[k, l])\n",
    "                codelen_x_z += np.log(normterm_discrete(n_all, 2))\n",
    "\n",
    "        n_k = np.sum(Z1 == k)\n",
    "        if n_k >= 1:\n",
    "            codelen_z += -n_k * np.log(pi[k])\n",
    "\n",
    "    codelen_z += np.log(normterm_discrete(N, K))\n",
    "    \n",
    "    codelen = codelen_x_z + codelen_z\n",
    "\n",
    "    return codelen, codelen_x_z, codelen_z"
   ]
  },
  {
   "cell_type": "code",
   "execution_count": 7,
   "metadata": {},
   "outputs": [],
   "source": [
    "def calc_lsc(X, Z1, Z2, K=3, L=3):    \n",
    "    codelen = 0.0\n",
    "    N = X.shape[0]\n",
    "\n",
    "    for k in range(K):\n",
    "        for l in range(L):\n",
    "            n_pos = np.sum(X[Z1 == k, :][:, Z2 == l] == 1)\n",
    "            n_neg = np.sum(X[Z1 == k, :][:, Z2 == l] == 0)\n",
    "            n_all = n_pos + n_neg\n",
    "\n",
    "            if n_all >=2:\n",
    "                codelen += n_all * np.log(n_all)\n",
    "            \n",
    "            if n_pos >=2:\n",
    "                codelen -= n_pos * np.log(n_pos)\n",
    "            if n_neg >=2:\n",
    "                codelen -= n_neg * np.log(n_neg)\n",
    "\n",
    "        n_k = np.sum(Z1 == k)\n",
    "        if n_k >= 1:\n",
    "            codelen += n_k * (np.log(N) - np.log(n_k))\n",
    "\n",
    "        codelen += (k + (k+1)*(k+2))/2 * np.log(N/(2.0*np.pi)) -(k+1)/2 * np.log(2.0) + \\\n",
    "           (k+1) * loggamma((k+3)/2) - loggamma((k+1)*(k+3)/2) + (k+1)*(k+2)/2 * np.log(np.pi)\n",
    "\n",
    "    return codelen"
   ]
  },
  {
   "cell_type": "code",
   "execution_count": 8,
   "metadata": {},
   "outputs": [],
   "source": [
    "def calc_stats(scores, scores_f, scores_l):\n",
    "    scores = np.array(scores)\n",
    "    scores_f = np.array(scores_f)\n",
    "    scores_l = np.array(scores_l)\n",
    "    \n",
    "    idxes_all = np.argmin(scores, axis=2)\n",
    "    \n",
    "    idxes_former = np.zeros((n_trial, T-2*h), dtype=np.int)\n",
    "    idxes_latter = np.zeros((n_trial, T-2*h), dtype=np.int)\n",
    "\n",
    "    for trial in range(scores.shape[0]):\n",
    "        for t in range(T-2*h):\n",
    "            stats_half_t = np.zeros((cluster_range_max, cluster_range_max), dtype=np.float)\n",
    "            for k1 in range(cluster_range_max):\n",
    "                stats_former = scores_f[trial, t, k1]\n",
    "                for k2 in range(cluster_range_max):\n",
    "                    stats_latter = scores_l[trial, t, k2]\n",
    "                    stats_half_t[k1, k2] = stats_former + stats_latter    \n",
    "            idx_f, idx_l = np.unravel_index(np.argmin(stats_half_t), (cluster_range_max, cluster_range_max))\n",
    "            idxes_latter[trial, t] = idx_l\n",
    "            \n",
    "    stats_complete = np.zeros((idxes_all.shape[0], idxes_all.shape[1]), dtype=np.float)\n",
    "    for trial in range(idxes_all.shape[0]):\n",
    "        for t in range(idxes_all.shape[1]):\n",
    "            stat = scores[trial, t, idxes_all[trial, t]] - 0.5*(scores_f[trial, t, idxes_former[trial, t]] + scores_l[trial, t, idxes_latter[trial, t]])\n",
    "            stats_complete[trial, t] = stat\n",
    "            \n",
    "    stats_complete = np.hstack(([[np.nan]*2*h]*stats_complete.shape[0], stats_complete))\n",
    "            \n",
    "    return stats_complete, idxes_all, idxes_former, idxes_latter"
   ]
  },
  {
   "cell_type": "code",
   "execution_count": 9,
   "metadata": {},
   "outputs": [],
   "source": [
    "def calc_stats_with_modelidx(scores, scores_f, scores_l, idxes_model, idxes_model_f, idxes_model_l):\n",
    "    scores = np.array(scores)\n",
    "    scores_f = np.array(scores_f)\n",
    "    scores_l = np.array(scores_l)\n",
    "    \n",
    "    stats_complete = np.zeros((idxes_all.shape[0], idxes_all.shape[1]), dtype=np.float)\n",
    "    for trial in range(idxes_all.shape[0]):\n",
    "        for t in range(idxes_all.shape[1]):\n",
    "            stat = scores[trial, t, idxes_model[trial, t]] - 0.5*(scores_f[trial, t, idxes_model_f[trial, t]] + scores_l[trial, t, idxes_model_l[trial, t]])\n",
    "            stats_complete[trial, t] = stat\n",
    "            \n",
    "    stats_complete = np.hstack(([[np.nan]*2*h]*stats_complete.shape[0], stats_complete))\n",
    "            \n",
    "    return stats_complete"
   ]
  },
  {
   "cell_type": "code",
   "execution_count": 10,
   "metadata": {},
   "outputs": [],
   "source": [
    "outdir = './output/'\n",
    "if not os.path.exists(outdir):\n",
    "    os.makedirs(outdir)"
   ]
  },
  {
   "cell_type": "code",
   "execution_count": 11,
   "metadata": {},
   "outputs": [],
   "source": [
    "np.set_printoptions(threshold=10000)"
   ]
  },
  {
   "cell_type": "code",
   "execution_count": 12,
   "metadata": {},
   "outputs": [],
   "source": [
    "T = 80\n",
    "cluster_range_max = 6"
   ]
  },
  {
   "cell_type": "code",
   "execution_count": 37,
   "metadata": {},
   "outputs": [],
   "source": [
    "with open('./data/X_abrupt.pkl', 'rb') as f:\n",
    "    X_all = pickle.load(f)\n",
    "#with open('../../src/experiment2_sbm/data/abrupt/X_abrupt_20200126.pkl', 'rb') as f:\n",
    "#    X_all = pickle.load(f)"
   ]
  },
  {
   "cell_type": "code",
   "execution_count": 38,
   "metadata": {},
   "outputs": [],
   "source": [
    "with open(os.path.join(outdir, 'pi_abrupt.pkl'), 'rb') as f:\n",
    "    pi_all = pickle.load(f)\n",
    "with open(os.path.join(outdir, 'theta_abrupt.pkl'), 'rb') as f:\n",
    "    theta_all = pickle.load(f)\n",
    "with open(os.path.join(outdir, 'z_abrupt.pkl'), 'rb') as f:\n",
    "    z_all = pickle.load(f)\n",
    "    \n",
    "#with open('../../output/experiment2/pi_abrupt_20200126.pkl', 'rb') as f:\n",
    "#    pi_all = pickle.load(f)\n",
    "#with open('../../output/experiment2/theta_abrupt_20200126.pkl', 'rb') as f:\n",
    "#    theta_all = pickle.load(f)\n",
    "#with open('../../output/experiment2/z_abrupt_20200126.pkl', 'rb') as f:\n",
    "#    z_all = pickle.load(f)"
   ]
  },
  {
   "cell_type": "code",
   "execution_count": 39,
   "metadata": {},
   "outputs": [],
   "source": [
    "dnml_estimated = np.zeros((10, T, cluster_range_max), dtype=np.int)\n",
    "nml_x_z_estimated = np.zeros((10, T, cluster_range_max), dtype=np.int)\n",
    "nml_z_estimated = np.zeros((10, T, cluster_range_max), dtype=np.int)"
   ]
  },
  {
   "cell_type": "code",
   "execution_count": 40,
   "metadata": {},
   "outputs": [
    {
     "name": "stderr",
     "output_type": "stream",
     "text": [
      " 22%|██▎       | 18/80 [00:00<00:00, 176.12it/s]"
     ]
    },
    {
     "name": "stdout",
     "output_type": "stream",
     "text": [
      "trial = 0\n"
     ]
    },
    {
     "name": "stderr",
     "output_type": "stream",
     "text": [
      "100%|██████████| 80/80 [00:00<00:00, 222.20it/s]\n",
      "  4%|▍         | 3/80 [00:00<00:02, 29.41it/s]"
     ]
    },
    {
     "name": "stdout",
     "output_type": "stream",
     "text": [
      "trial = 1\n"
     ]
    },
    {
     "name": "stderr",
     "output_type": "stream",
     "text": [
      "100%|██████████| 80/80 [00:00<00:00, 135.59it/s]\n",
      " 31%|███▏      | 25/80 [00:00<00:00, 245.98it/s]"
     ]
    },
    {
     "name": "stdout",
     "output_type": "stream",
     "text": [
      "trial = 2\n"
     ]
    },
    {
     "name": "stderr",
     "output_type": "stream",
     "text": [
      "100%|██████████| 80/80 [00:00<00:00, 186.28it/s]\n",
      " 34%|███▍      | 27/80 [00:00<00:00, 265.76it/s]"
     ]
    },
    {
     "name": "stdout",
     "output_type": "stream",
     "text": [
      "trial = 3\n"
     ]
    },
    {
     "name": "stderr",
     "output_type": "stream",
     "text": [
      "100%|██████████| 80/80 [00:00<00:00, 191.63it/s]\n",
      " 22%|██▎       | 18/80 [00:00<00:00, 175.30it/s]"
     ]
    },
    {
     "name": "stdout",
     "output_type": "stream",
     "text": [
      "trial = 4\n"
     ]
    },
    {
     "name": "stderr",
     "output_type": "stream",
     "text": [
      "100%|██████████| 80/80 [00:00<00:00, 120.92it/s]\n",
      " 25%|██▌       | 20/80 [00:00<00:00, 128.42it/s]"
     ]
    },
    {
     "name": "stdout",
     "output_type": "stream",
     "text": [
      "trial = 5\n"
     ]
    },
    {
     "name": "stderr",
     "output_type": "stream",
     "text": [
      "100%|██████████| 80/80 [00:00<00:00, 175.23it/s]\n",
      "  1%|▏         | 1/80 [00:00<00:08,  9.11it/s]"
     ]
    },
    {
     "name": "stdout",
     "output_type": "stream",
     "text": [
      "trial = 6\n"
     ]
    },
    {
     "name": "stderr",
     "output_type": "stream",
     "text": [
      "100%|██████████| 80/80 [00:00<00:00, 153.29it/s]\n",
      " 39%|███▉      | 31/80 [00:00<00:00, 303.02it/s]"
     ]
    },
    {
     "name": "stdout",
     "output_type": "stream",
     "text": [
      "trial = 7\n"
     ]
    },
    {
     "name": "stderr",
     "output_type": "stream",
     "text": [
      "100%|██████████| 80/80 [00:00<00:00, 297.35it/s]\n",
      " 21%|██▏       | 17/80 [00:00<00:00, 165.90it/s]"
     ]
    },
    {
     "name": "stdout",
     "output_type": "stream",
     "text": [
      "trial = 8\n"
     ]
    },
    {
     "name": "stderr",
     "output_type": "stream",
     "text": [
      "100%|██████████| 80/80 [00:00<00:00, 150.44it/s]\n",
      " 25%|██▌       | 20/80 [00:00<00:00, 105.32it/s]"
     ]
    },
    {
     "name": "stdout",
     "output_type": "stream",
     "text": [
      "trial = 9\n"
     ]
    },
    {
     "name": "stderr",
     "output_type": "stream",
     "text": [
      "100%|██████████| 80/80 [00:00<00:00, 146.53it/s]\n"
     ]
    }
   ],
   "source": [
    "for trial in range(10):\n",
    "    print('trial =', trial)\n",
    "    for t in tqdm.tqdm(range(T)):\n",
    "        seed = trial*T + t\n",
    "        \n",
    "        X = X_all[trial, t, :, :]\n",
    "        \n",
    "        for i, k in enumerate(range(1, cluster_range_max+1)):\n",
    "            z = np.argmax(z_all[trial][t][i], axis=1)\n",
    "            d, n_x_z, n_z = calc_dnml(X, z, z, k, k)\n",
    "            dnml_estimated[trial, t, i] = d\n",
    "            nml_x_z_estimated[trial, t, i] = n_x_z\n",
    "            nml_z_estimated[trial, t, i] = n_z"
   ]
  },
  {
   "cell_type": "code",
   "execution_count": 41,
   "metadata": {},
   "outputs": [
    {
     "name": "stderr",
     "output_type": "stream",
     "text": [
      "100%|██████████| 76/76 [00:00<00:00, 2009.94it/s]\n",
      "100%|██████████| 76/76 [00:00<00:00, 1983.67it/s]\n",
      "100%|██████████| 76/76 [00:00<00:00, 2040.17it/s]\n",
      "100%|██████████| 76/76 [00:00<00:00, 2083.73it/s]\n",
      "100%|██████████| 76/76 [00:00<00:00, 2188.49it/s]\n",
      "  0%|          | 0/76 [00:00<?, ?it/s]"
     ]
    },
    {
     "name": "stdout",
     "output_type": "stream",
     "text": [
      "trial = 0\n",
      "trial = 1\n",
      "trial = 2\n",
      "trial = 3\n",
      "trial = 4\n",
      "trial = 5\n"
     ]
    },
    {
     "name": "stderr",
     "output_type": "stream",
     "text": [
      "100%|██████████| 76/76 [00:00<00:00, 2138.31it/s]\n",
      "100%|██████████| 76/76 [00:00<00:00, 2105.62it/s]\n",
      "100%|██████████| 76/76 [00:00<00:00, 2178.20it/s]\n",
      "100%|██████████| 76/76 [00:00<00:00, 2260.70it/s]\n",
      "100%|██████████| 76/76 [00:00<00:00, 2220.99it/s]"
     ]
    },
    {
     "name": "stdout",
     "output_type": "stream",
     "text": [
      "trial = 6\n",
      "trial = 7\n",
      "trial = 8\n",
      "trial = 9\n"
     ]
    },
    {
     "name": "stderr",
     "output_type": "stream",
     "text": [
      "\n"
     ]
    }
   ],
   "source": [
    "EPS = np.finfo(np.float).eps\n",
    "\n",
    "h = 2\n",
    "\n",
    "n_trial = X_all.shape[0]\n",
    "T = X_all.shape[1]\n",
    "\n",
    "dnml_all = []\n",
    "dnml_f_all = []\n",
    "dnml_l_all = []\n",
    "\n",
    "nml_x_z_all = []\n",
    "nml_x_z_f_all = []\n",
    "nml_x_z_l_all = []\n",
    "\n",
    "nml_z_all = []\n",
    "nml_z_f_all = []\n",
    "nml_z_l_all = []\n",
    "\n",
    "lsc_all = []\n",
    "\n",
    "#for trial in range(n_trial):\n",
    "for trial in range(10):\n",
    "    print('trial =', trial)\n",
    "\n",
    "    dnml_trial = []\n",
    "    dnml_f_trial = []\n",
    "    dnml_l_trial = []\n",
    "    \n",
    "    nml_x_z_trial = []\n",
    "    nml_x_z_f_trial = []\n",
    "    nml_x_z_l_trial = []\n",
    "    \n",
    "    nml_z_trial = []\n",
    "    nml_z_f_trial = []\n",
    "    nml_z_l_trial = []\n",
    "    \n",
    "    lsc_trial = []\n",
    "    \n",
    "    for t in tqdm.tqdm(range(h, T-h)):\n",
    "        seed = trial*T + t\n",
    "        \n",
    "        X = X_all[trial, t, :, :]\n",
    "\n",
    "        dnml_t = []\n",
    "        dnml_f_t = []\n",
    "        dnml_l_t = []\n",
    "        \n",
    "        nml_x_z_t = []\n",
    "        nml_x_z_f_t = []\n",
    "        nml_x_z_l_t = []\n",
    "        \n",
    "        nml_z_t = []\n",
    "        nml_z_f_t = []\n",
    "        nml_z_l_t = []\n",
    "        \n",
    "        lsc_t = []\n",
    "        \n",
    "        for i, k in enumerate(range(1, cluster_range_max+1)):\n",
    "            dnml_t.append(np.mean(dnml_estimated[trial, (t-h):(t+h+1), i]))\n",
    "            dnml_f_t.append(np.mean(dnml_estimated[trial, (t-h):t, i]))\n",
    "            dnml_l_t.append(np.mean(dnml_estimated[trial, t:(t+h+1), i]))\n",
    "            \n",
    "            nml_x_z_t.append(np.mean(nml_x_z_estimated[trial, (t-h):(t+h+1), i]))\n",
    "            nml_x_z_f_t.append(np.mean(nml_x_z_estimated[trial, (t-h):t, i]))\n",
    "            nml_x_z_l_t.append(np.mean(nml_x_z_estimated[trial, t:(t+h+1), i]))\n",
    "            \n",
    "            nml_z_t.append(np.mean(nml_z_estimated[trial, (t-h):(t+h+1), i]) )\n",
    "            nml_z_f_t.append(np.mean(nml_z_estimated[trial, (t-h):t, i]))\n",
    "            nml_z_l_t.append(np.mean(nml_z_estimated[trial, t:(t+h+1), i]))\n",
    "            #lsc_t.append(lsc)\n",
    "        \n",
    "        dnml_trial.append(dnml_t)\n",
    "        dnml_f_trial.append(dnml_f_t)\n",
    "        dnml_l_trial.append(dnml_l_t)\n",
    "        \n",
    "        nml_x_z_trial.append(nml_x_z_t)\n",
    "        nml_x_z_f_trial.append(nml_x_z_f_t)\n",
    "        nml_x_z_l_trial.append(nml_x_z_l_t)\n",
    "        \n",
    "        nml_z_trial.append(nml_z_t)\n",
    "        nml_z_f_trial.append(nml_z_f_t)\n",
    "        nml_z_l_trial.append(nml_z_l_t)\n",
    "        #lsc_trial.append(lsc_t)\n",
    "    \n",
    "    #dnml_complete_trial += [[np.nan] * cluster_range_max] * h\n",
    "    #dnml_x_z_trial += [[np.nan] * cluster_range_max] * h\n",
    "    #dnml_z_trial += [[np.nan] * cluster_range_max] * h\n",
    "    \n",
    "    dnml_all.append(dnml_trial)\n",
    "    dnml_f_all.append(dnml_f_trial)\n",
    "    dnml_l_all.append(dnml_l_trial)\n",
    "\n",
    "    nml_x_z_all.append(nml_x_z_trial)\n",
    "    nml_x_z_f_all.append(nml_x_z_f_trial)\n",
    "    nml_x_z_l_all.append(nml_x_z_l_trial)\n",
    "    \n",
    "    nml_z_all.append(nml_z_trial)\n",
    "    nml_z_f_all.append(nml_z_f_trial)\n",
    "    nml_z_l_all.append(nml_z_l_trial)"
   ]
  },
  {
   "cell_type": "code",
   "execution_count": 42,
   "metadata": {},
   "outputs": [],
   "source": [
    "dnml, idxes_all, idxes_former, idxes_latter = calc_stats(dnml_all, dnml_f_all, dnml_l_all)\n",
    "nml_x_z = calc_stats_with_modelidx(nml_x_z_all, nml_x_z_f_all, nml_x_z_l_all, idxes_all, idxes_former, idxes_latter)\n",
    "nml_z = calc_stats_with_modelidx(nml_z_all, nml_z_f_all, nml_z_l_all, idxes_all, idxes_former, idxes_latter)"
   ]
  },
  {
   "cell_type": "code",
   "execution_count": 43,
   "metadata": {},
   "outputs": [],
   "source": [
    "dnml_df = pd.DataFrame(np.abs(dnml), columns=np.arange(1, T+1).astype(str)).reset_index()\n",
    "nml_x_z_df = pd.DataFrame(np.abs(nml_x_z), columns=np.arange(1, T+1).astype(str)).reset_index()\n",
    "nml_z_df = pd.DataFrame(np.abs(nml_z), columns=np.arange(1, T+1).astype(str)).reset_index()"
   ]
  },
  {
   "cell_type": "code",
   "execution_count": 44,
   "metadata": {},
   "outputs": [],
   "source": [
    "dnml_df_melt = dnml_df.melt(id_vars='index')\n",
    "dnml_df_melt['variable'] = dnml_df_melt['variable'].astype(int)\n",
    "\n",
    "nml_x_z_df_melt = nml_x_z_df.melt(id_vars='index')\n",
    "nml_x_z_df_melt['variable'] = nml_x_z_df_melt['variable'].astype(int)\n",
    "\n",
    "nml_z_df_melt = nml_z_df.melt(id_vars='index')\n",
    "nml_z_df_melt['variable'] = nml_z_df_melt['variable'].astype(int)"
   ]
  },
  {
   "cell_type": "code",
   "execution_count": 45,
   "metadata": {},
   "outputs": [],
   "source": [
    "dnml_df_melt['criterion'] = 'DNML'\n",
    "nml_x_z_df_melt['criterion'] = 'NML (X|Z)'\n",
    "nml_z_df_melt['criterion'] = 'NML (Z)'"
   ]
  },
  {
   "cell_type": "code",
   "execution_count": 46,
   "metadata": {},
   "outputs": [],
   "source": [
    "idxes_all_df_melt = pd.DataFrame(idxes_all+1, columns=np.arange(2*h+1, T+1)).melt()\n",
    "idxes_all_df_melt['variable'] = idxes_all_df_melt['variable'].astype(int)"
   ]
  },
  {
   "cell_type": "code",
   "execution_count": 47,
   "metadata": {},
   "outputs": [],
   "source": [
    "idxes_all_df_melt = pd.DataFrame(idxes_all+1, columns=np.arange(2*h+1, T+1)).melt()\n",
    "idxes_all_df_melt['variable'] = idxes_all_df_melt['variable'].astype(int)"
   ]
  },
  {
   "cell_type": "code",
   "execution_count": 50,
   "metadata": {},
   "outputs": [
    {
     "name": "stderr",
     "output_type": "stream",
     "text": [
      "/Users/shi-fukushima/.pyenv/versions/anaconda3-5.3.1/lib/python3.7/site-packages/scipy/stats/stats.py:1713: FutureWarning: Using a non-tuple sequence for multidimensional indexing is deprecated; use `arr[tuple(seq)]` instead of `arr[seq]`. In the future this will be interpreted as an array index, `arr[np.array(seq)]`, which will result either in an error or a different result.\n",
      "  return np.add.reduce(sorted[indexer] * weights, axis=axis) / sumval\n"
     ]
    },
    {
     "data": {
      "image/png": "[encoded data removed]",
      "text/plain": [
       "<Figure size 1200x1200 with 4 Axes>"
      ]
     },
     "metadata": {
      "needs_background": "light"
     },
     "output_type": "display_data"
    }
   ],
   "source": [
    "fig, axes = plt.subplots(4, 1, sharex=True, figsize=(6, 6), dpi=200)\n",
    "\n",
    "sns.lineplot(x='variable', y='value', data=idxes_all_df_melt, ax=axes[0])\n",
    "axes[0].axvline(x=20, color='red', linestyle='dashed')\n",
    "axes[0].axvline(x=40, color='blue', linestyle='dashed')\n",
    "axes[0].axvline(x=60, color='green', linestyle='dashed')\n",
    "axes[0].grid()\n",
    "axes[0].set_title('(a)')\n",
    "axes[0].set_xlabel('Time')\n",
    "axes[0].set_ylabel('Estimated \\# of blocks')\n",
    "\n",
    "sns.lineplot(x='variable', y='value', data=dnml_df_melt, ax=axes[1])\n",
    "axes[1].axvline(x=20, color='red', linestyle='dashed')\n",
    "axes[1].axvline(x=40, color='blue', linestyle='dashed')\n",
    "axes[1].axvline(x=60, color='green', linestyle='dashed')\n",
    "axes[1].grid()\n",
    "axes[1].set_title('(b)')\n",
    "axes[1].set_xlabel('Time')\n",
    "axes[1].set_ylabel(r'$\\Phi_{t}$')\n",
    "\n",
    "sns.lineplot(x='variable', y='value', data=nml_z_df_melt, ax=axes[2])\n",
    "axes[2].axvline(x=20, color='red', linestyle='dashed')\n",
    "axes[2].axvline(x=40, color='blue', linestyle='dashed')\n",
    "axes[2].axvline(x=60, color='green', linestyle='dashed')\n",
    "axes[2].grid()\n",
    "axes[2].set_title('(c)')\n",
    "axes[2].set_xlabel('Time')\n",
    "axes[2].set_ylabel(r'$\\Phi_{t}^{Z}$')\n",
    "\n",
    "sns.lineplot(x='variable', y='value', data=nml_x_z_df_melt, ax=axes[3])\n",
    "axes[3].axvline(x=20, color='red', linestyle='dashed')\n",
    "axes[3].axvline(x=40, color='blue', linestyle='dashed')\n",
    "axes[3].axvline(x=60, color='green', linestyle='dashed')\n",
    "axes[3].grid()\n",
    "axes[3].set_title('(d)')\n",
    "axes[3].set_xlabel('Time')\n",
    "axes[3].set_ylabel(r'$\\Phi_{t}^{X|Z}$')\n",
    "\n",
    "fig.tight_layout()\n",
    "\n",
    "plt.show()"
   ]
  },
  {
   "cell_type": "code",
   "execution_count": null,
   "metadata": {},
   "outputs": [],
   "source": []
  },
  {
   "cell_type": "code",
   "execution_count": null,
   "metadata": {},
   "outputs": [],
   "source": []
  }
 ],
 "metadata": {
  "kernelspec": {
   "display_name": "Python 3",
   "language": "python",
   "name": "python3"
  },
  "language_info": {
   "codemirror_mode": {
    "name": "ipython",
    "version": 3
   },
   "file_extension": ".py",
   "mimetype": "text/x-python",
   "name": "python",
   "nbconvert_exporter": "python",
   "pygments_lexer": "ipython3",
   "version": "3.7.2"
  }
 },
 "nbformat": 4,
 "nbformat_minor": 4
}
