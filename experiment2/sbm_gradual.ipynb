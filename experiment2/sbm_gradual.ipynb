{
 "cells": [
  {
   "cell_type": "code",
   "execution_count": 1,
   "metadata": {},
   "outputs": [],
   "source": [
    "%matplotlib inline\n",
    "import numpy as np\n",
    "import pandas as pd\n",
    "import networkx as nx\n",
    "\n",
    "import matplotlib.pyplot as plt\n",
    "import seaborn as sns\n",
    "sns.reset_orig()\n",
    "\n",
    "from matplotlib import rc\n",
    "rc('text', usetex=True)\n",
    "rc('font', **{'family' : \"sans-serif\"})\n",
    "params = {'text.latex.preamble' : [r'\\usepackage{siunitx}', r'\\usepackage{amsmath}']}\n",
    "plt.rcParams.update(params)\n",
    "\n",
    "from scipy.stats import bernoulli\n",
    "from scipy.special import loggamma\n",
    "\n",
    "from sklearn.preprocessing import OneHotEncoder\n",
    "\n",
    "import tqdm\n",
    "\n",
    "from rpy2.robjects import numpy2ri\n",
    "from rpy2.robjects.packages import importr"
   ]
  },
  {
   "cell_type": "code",
   "execution_count": 2,
   "metadata": {},
   "outputs": [],
   "source": [
    "import os\n",
    "import pickle"
   ]
  },
  {
   "cell_type": "code",
   "execution_count": 3,
   "metadata": {},
   "outputs": [],
   "source": [
    "from joblib import Parallel, delayed"
   ]
  },
  {
   "cell_type": "code",
   "execution_count": 4,
   "metadata": {},
   "outputs": [],
   "source": [
    "import warnings\n",
    "warnings.resetwarnings()\n",
    "warnings.simplefilter('ignore', UserWarning)"
   ]
  },
  {
   "cell_type": "code",
   "execution_count": 5,
   "metadata": {},
   "outputs": [],
   "source": [
    "EPS = np.finfo(np.float).eps"
   ]
  },
  {
   "cell_type": "code",
   "execution_count": 6,
   "metadata": {},
   "outputs": [],
   "source": [
    "pd.options.display.max_rows = 200\n",
    "pd.options.display.max_columns = 200"
   ]
  },
  {
   "cell_type": "code",
   "execution_count": 7,
   "metadata": {},
   "outputs": [],
   "source": [
    "indir = './data'\n",
    "outdir = './output'\n",
    "if not os.path.exists(outdir):\n",
    "    os.makedirs(outdir)"
   ]
  },
  {
   "cell_type": "code",
   "execution_count": 8,
   "metadata": {},
   "outputs": [],
   "source": [
    "# R packages\n",
    "## blockmodels\n",
    "blockmodels = importr(\"blockmodels\")\n",
    "## label.switching\n",
    "label_switching = importr(\"label.switching\")\n",
    "## base\n",
    "base = importr(\"base\")\n",
    "\n",
    "dollar = base.__dict__[\"$\"]"
   ]
  },
  {
   "cell_type": "code",
   "execution_count": 9,
   "metadata": {},
   "outputs": [],
   "source": [
    "from functools import lru_cache\n",
    "\n",
    "@lru_cache(maxsize = 10000)\n",
    "def normterm_discrete(n, k):\n",
    "    if n == 1:\n",
    "        return np.log(k)\n",
    "    if k == 1:\n",
    "        return 1.0\n",
    "    elif k == 2:\n",
    "        return np.sum(sorted([ np.exp(loggamma(n+1) - loggamma(t+1) - loggamma(n-t+1) + \n",
    "                               t*(np.log(t) - np.log(n)) + (n-t)*(np.log(n-t) - np.log(n))\n",
    "                        )\n",
    "                        for t in range(1, n)]))\n",
    "    else:\n",
    "        return normterm_discrete(n, k-1) + n/(k-2) * normterm_discrete(n, k-2)"
   ]
  },
  {
   "cell_type": "code",
   "execution_count": 10,
   "metadata": {},
   "outputs": [],
   "source": [
    "def check_latent_index_variable(z):\n",
    "    unique_z = sorted(np.unique(z))\n",
    "    if len(unique_z) == np.max(z) + 1:\n",
    "        return z\n",
    "    new_z = np.zeros(z.shape, dtype=np.int)\n",
    "    for index, current in enumerate(unique_z):\n",
    "        new_z[z == current] = index\n",
    "    return new_z"
   ]
  },
  {
   "cell_type": "code",
   "execution_count": 12,
   "metadata": {},
   "outputs": [],
   "source": [
    "def calc_dnml(X, Z1, Z2, K=3, L=3):    \n",
    "    N = X.shape[0]\n",
    "    \n",
    "    codelen_x_z = 0.0\n",
    "    codelen_z = 0.0\n",
    "\n",
    "    for k in range(K):\n",
    "        for l in range(L):\n",
    "            n_pos = np.sum(X[Z1 == k, :][:, Z2 == l] == 1)\n",
    "            n_neg = np.sum(X[Z1 == k, :][:, Z2 == l] == 0)\n",
    "            n_all = n_pos + n_neg\n",
    "\n",
    "            if n_all >=2:\n",
    "                codelen_x_z += n_all * np.log(n_all)\n",
    "                codelen_x_z += np.log(normterm_discrete(n_all, 2))\n",
    "            \n",
    "            if n_pos >=2:\n",
    "                codelen_x_z -= n_pos * np.log(n_pos)\n",
    "            if n_neg >=2:\n",
    "                codelen_x_z -= n_neg * np.log(n_neg)\n",
    "            \n",
    "        n_k = np.sum(Z1 == k)\n",
    "        if n_k >= 1:\n",
    "            codelen_z += n_k * (np.log(N) - np.log(n_k))\n",
    "\n",
    "    codelen_z += np.log(normterm_discrete(N, K))\n",
    "    \n",
    "    codelen = codelen_x_z + codelen_z\n",
    "\n",
    "    return codelen, codelen_x_z, codelen_z"
   ]
  },
  {
   "cell_type": "code",
   "execution_count": 13,
   "metadata": {},
   "outputs": [],
   "source": [
    "def calc_dnml_by_prob(X, Z, alpha, theta, K=3, L=3, eps=1e-12):    \n",
    "    N = X.shape[0]\n",
    "    \n",
    "    Z1 = np.argmax(Z, axis=1)\n",
    "    \n",
    "    Z1 = check_latent_index_variable(Z1)\n",
    "    Z2 = Z1\n",
    "    \n",
    "    codelen_x_z = 0.0\n",
    "    codelen_z = 0.0\n",
    "        \n",
    "    for k in range(K):\n",
    "        for l in range(L):\n",
    "            n_pos = np.sum(X[Z1 == k, :][:, Z2 == l] == 1)\n",
    "            n_neg = np.sum(X[Z1 == k, :][:, Z2 == l] == 0)\n",
    "            n_all = n_pos + n_neg\n",
    "            \n",
    "            if theta[k, l] < eps:\n",
    "                theta[k, l] = eps\n",
    "            if theta[k, l] > 1.0 - eps:\n",
    "                theta[k, l] = 1.0 - eps\n",
    "            \n",
    "            codelen_x_z += -n_pos * np.ma.log(theta[k, l]) - n_neg * np.ma.log(1.0 - theta[k, l])\n",
    "\n",
    "            if n_all >=2:\n",
    "                codelen_x_z += np.log(normterm_discrete(n_all, 2))\n",
    "    \n",
    "        n_k = np.sum(Z1 == k)\n",
    "        codelen_z += -n_k * np.log(alpha[k])\n",
    "\n",
    "    codelen_z += np.log(normterm_discrete(N, K))\n",
    "\n",
    "    codelen = codelen_x_z + codelen_z\n",
    "\n",
    "    return codelen, codelen_x_z, codelen_z"
   ]
  },
  {
   "cell_type": "code",
   "execution_count": 14,
   "metadata": {},
   "outputs": [],
   "source": [
    "def calc_lsc(X, Z1, Z2, K=3, L=3):    \n",
    "    codelen = 0.0\n",
    "    N = X.shape[0]\n",
    "\n",
    "    for k in range(K):\n",
    "        for l in range(L):\n",
    "            n_pos = np.sum(X[Z1 == k, :][:, Z2 == l] == 1)\n",
    "            n_neg = np.sum(X[Z1 == k, :][:, Z2 == l] == 0)\n",
    "            n_all = n_pos + n_neg\n",
    "\n",
    "            if n_all >=2:\n",
    "                codelen += n_all * np.log(n_all)\n",
    "            \n",
    "            if n_pos >=2:\n",
    "                codelen -= n_pos * np.log(n_pos)\n",
    "            if n_neg >=2:\n",
    "                codelen -= n_neg * np.log(n_neg)\n",
    "\n",
    "        n_k = np.sum(Z1 == k)\n",
    "        if n_k >= 1:\n",
    "            codelen += n_k * (np.log(N) - np.log(n_k))\n",
    "\n",
    "        codelen += (k + (k+1)*(k+2))/2 * np.log(N/(2.0*np.pi)) -(k+1)/2 * np.log(2.0) + \\\n",
    "           (k+1) * loggamma((k+3)/2) - loggamma((k+1)*(k+3)/2) + (k+1)*(k+2)/2 * np.log(np.pi)\n",
    "\n",
    "    return codelen"
   ]
  },
  {
   "cell_type": "code",
   "execution_count": 15,
   "metadata": {},
   "outputs": [],
   "source": [
    "def calc_stats(X, #z, \n",
    "               scores, scores_f, scores_l, h, delta, K=10):\n",
    "    scores = np.array(scores)\n",
    "    scores_f = np.array(scores_f)\n",
    "    scores_l = np.array(scores_l)\n",
    "    \n",
    "    K = scores.shape[2]\n",
    "    N_trial = scores.shape[0]\n",
    "    T = scores.shape[1]\n",
    "    \n",
    "    codelens = np.array([ codelen_integer(k) for k in range(1, K+1)])\n",
    "    \n",
    "    idxes_all = np.argmin(scores + np.tile(codelens[np.newaxis, np.newaxis], (N_trial, T, 1))[0, 0, :], axis=2)\n",
    "    \n",
    "    models_estimated = np.nan * np.ones((N_trial, T), dtype=np.float)\n",
    "    models_former = np.nan * np.ones((N_trial, T), dtype=np.float)\n",
    "    models_latter = np.nan * np.ones((N_trial, T), dtype=np.float)\n",
    "    stats_complete = np.nan * np.ones((N_trial, T), dtype=np.float)\n",
    "    \n",
    "    for trial in range(scores.shape[0]):\n",
    "        n_change = 0  # number of changes so far.\n",
    "        for t in range(h, T-h):\n",
    "            alpha= (n_change+1/2) / (t+1+1)\n",
    "            m_estimated = idxes_all[trial, t]\n",
    "\n",
    "            # Lv.3 change (Model change)\n",
    "            stats_half_t = np.zeros((K, K), dtype=np.float)\n",
    "            for k1 in range(K):\n",
    "                stats_former = scores_f[trial, t, k1]\n",
    "                for k2 in range(K):\n",
    "                    if k1 == k2:\n",
    "                        p = 1.0 - alpha\n",
    "                    else:\n",
    "                        p = alpha/(K-1)\n",
    "                    stats_latter = scores_l[trial, t, k2]\n",
    "                    stats_half_t[k1, k2] = (stats_former + stats_latter) + codelens[k1] - np.log(p)\n",
    "            m_former_estimated, m_latter_estimated = np.unravel_index(np.nanargmin(stats_half_t), (K, K))\n",
    "            models_former[trial, t] = m_former_estimated\n",
    "            models_latter[trial, t] = m_latter_estimated\n",
    "            \n",
    "            stat = 0.5 / h *(scores[trial, t, m_estimated] + codelens[m_estimated] - stats_half_t[m_former_estimated, m_latter_estimated])\n",
    "            stats_complete[trial, t] = stat\n",
    "            \n",
    "            if (m_estimated == m_latter_estimated):\n",
    "                # no model change happened\n",
    "                model_t = m_estimated\n",
    "            else:\n",
    "                model_t = m_latter_estimated\n",
    "            \n",
    "            if t >= 1:\n",
    "                model_prev = models_estimated[trial, t-1]\n",
    "                if model_t != model_prev:\n",
    "                    n_change += 1            \n",
    "            models_estimated[trial, t] = model_t\n",
    "    \n",
    "    return stats_complete, models_estimated, models_former, models_latter"
   ]
  },
  {
   "cell_type": "code",
   "execution_count": 16,
   "metadata": {},
   "outputs": [],
   "source": [
    "def calc_stats_with_modelidx(scores, scores_f, scores_l, idxes_model, idxes_model_f, idxes_model_l, h):\n",
    "    scores = np.array(scores)\n",
    "    scores_f = np.array(scores_f)\n",
    "    scores_l = np.array(scores_l)\n",
    "    \n",
    "    stats_complete = np.nan * np.ones((idxes_model.shape[0], idxes_model.shape[1]), dtype=np.float)\n",
    "    for trial in range(idxes_model.shape[0]):\n",
    "        for t in range(h, idxes_model.shape[1]-h):\n",
    "            stat = 0.5/h * (scores[trial, t, int(idxes_model[trial, t])] - \\\n",
    "                            (scores_f[trial, t, int(idxes_model_f[trial, t])] + \\\n",
    "                            scores_l[trial, t, int(idxes_model_l[trial, t])] ))\n",
    "            stats_complete[trial, t] = stat\n",
    "            \n",
    "    return stats_complete"
   ]
  },
  {
   "cell_type": "code",
   "execution_count": 17,
   "metadata": {},
   "outputs": [],
   "source": [
    "def codelen_integer(k):\n",
    "    codelen = np.log(2.865)\n",
    "    k = np.log(k)\n",
    "    while k >= 0.0:\n",
    "        codelen += k\n",
    "        k = np.log(k)\n",
    "        \n",
    "    return codelen"
   ]
  },
  {
   "cell_type": "code",
   "execution_count": null,
   "metadata": {},
   "outputs": [],
   "source": []
  },
  {
   "cell_type": "code",
   "execution_count": 18,
   "metadata": {},
   "outputs": [],
   "source": [
    "with open(os.path.join(indir, 'X_gradual.pkl'), 'rb') as f:\n",
    "    X_all = pickle.load(f)\n",
    "with open(os.path.join(indir, 'Z_gradual.pkl'), 'rb') as f:\n",
    "    Z_true_all = pickle.load(f)"
   ]
  },
  {
   "cell_type": "code",
   "execution_count": 19,
   "metadata": {},
   "outputs": [
    {
     "data": {
      "text/plain": [
       "(20, 90, 100, 100)"
      ]
     },
     "execution_count": 19,
     "metadata": {},
     "output_type": "execute_result"
    }
   ],
   "source": [
    "X_all.shape"
   ]
  },
  {
   "cell_type": "code",
   "execution_count": 20,
   "metadata": {},
   "outputs": [],
   "source": [
    "def estimate_sbm_each_trial(X, trial, K, T):\n",
    "    pi_list_trial = []\n",
    "    theta_list_trial = []\n",
    "    z_list_trial = []\n",
    "    \n",
    "    for t in tqdm.tqdm(range(T)):\n",
    "        seed = trial * T + t\n",
    "        numpy2ri.activate()\n",
    "        sbm = blockmodels.BM_bernoulli(membership_type=\"SBM\", \n",
    "                                       adj=np.array(X[trial, t, :, :]),\n",
    "                                       verbosity=0,\n",
    "                                       exploration_factor=1.5,\n",
    "                                       explore_min=K,\n",
    "                                       explore_max=K)\n",
    "\n",
    "        estimate = dollar(sbm, \"estimate\")\n",
    "        estimate()\n",
    "\n",
    "        pi_list = []\n",
    "        theta_list = []\n",
    "        z_posterior_list = []\n",
    "        for k in range(K):\n",
    "            n_clusters = k + 1\n",
    "            theta = np.array(dollar(dollar(sbm, \"model_parameters\")[k], \"pi\"))\n",
    "            z_posterior = np.array(dollar(dollar(sbm, \"memberships\")[k], \"Z\"))\n",
    "            pi = np.sum(z_posterior, axis=0) + 10 * EPS\n",
    "            pi /= np.sum(pi)\n",
    "\n",
    "            theta_list.append(theta)\n",
    "            z_posterior_list.append(z_posterior)\n",
    "            pi_list.append(pi)\n",
    "\n",
    "        numpy2ri.deactivate()\n",
    "        \n",
    "        pi_list_trial.append(pi_list)\n",
    "        theta_list_trial.append(theta_list)\n",
    "        z_list_trial.append(z_posterior_list)\n",
    "\n",
    "    return pi_list_trial, theta_list_trial, z_list_trial"
   ]
  },
  {
   "cell_type": "code",
   "execution_count": 21,
   "metadata": {},
   "outputs": [
    {
     "name": "stderr",
     "output_type": "stream",
     "text": [
      "  0%|          | 0/90 [00:00<?, ?it/s]"
     ]
    },
    {
     "name": "stdout",
     "output_type": "stream",
     "text": []
    },
    {
     "name": "stdout",
     "output_type": "stream",
     "text": [
      "\n"
     ]
    },
    {
     "name": "stderr",
     "output_type": "stream",
     "text": [
      "  1%|          | 1/90 [00:07<10:25,  7.03s/it]"
     ]
    },
    {
     "name": "stdout",
     "output_type": "stream",
     "text": []
    },
    {
     "name": "stdout",
     "output_type": "stream",
     "text": [
      "\n"
     ]
    },
    {
     "name": "stderr",
     "output_type": "stream",
     "text": [
      "  2%|▏         | 2/90 [00:14<10:17,  7.02s/it]"
     ]
    },
    {
     "name": "stdout",
     "output_type": "stream",
     "text": []
    },
    {
     "name": "stdout",
     "output_type": "stream",
     "text": [
      "\n"
     ]
    },
    {
     "name": "stderr",
     "output_type": "stream",
     "text": [
      "  3%|▎         | 3/90 [00:20<10:08,  7.00s/it]"
     ]
    },
    {
     "name": "stdout",
     "output_type": "stream",
     "text": []
    },
    {
     "name": "stdout",
     "output_type": "stream",
     "text": [
      "\n"
     ]
    },
    {
     "name": "stderr",
     "output_type": "stream",
     "text": [
      "  4%|▍         | 4/90 [00:26<09:13,  6.44s/it]"
     ]
    },
    {
     "name": "stdout",
     "output_type": "stream",
     "text": []
    },
    {
     "name": "stdout",
     "output_type": "stream",
     "text": [
      "\n"
     ]
    },
    {
     "name": "stderr",
     "output_type": "stream",
     "text": [
      "  6%|▌         | 5/90 [00:31<08:44,  6.17s/it]"
     ]
    },
    {
     "name": "stdout",
     "output_type": "stream",
     "text": []
    },
    {
     "name": "stdout",
     "output_type": "stream",
     "text": [
      "\n"
     ]
    },
    {
     "name": "stderr",
     "output_type": "stream",
     "text": [
      "  7%|▋         | 6/90 [00:38<08:49,  6.31s/it]"
     ]
    },
    {
     "name": "stdout",
     "output_type": "stream",
     "text": []
    },
    {
     "name": "stdout",
     "output_type": "stream",
     "text": [
      "\n"
     ]
    },
    {
     "name": "stderr",
     "output_type": "stream",
     "text": [
      "  8%|▊         | 7/90 [00:44<08:39,  6.26s/it]"
     ]
    },
    {
     "name": "stdout",
     "output_type": "stream",
     "text": []
    },
    {
     "name": "stdout",
     "output_type": "stream",
     "text": [
      "\n"
     ]
    },
    {
     "name": "stderr",
     "output_type": "stream",
     "text": [
      "  9%|▉         | 8/90 [00:49<07:56,  5.81s/it]"
     ]
    },
    {
     "name": "stdout",
     "output_type": "stream",
     "text": []
    },
    {
     "name": "stdout",
     "output_type": "stream",
     "text": [
      "\n"
     ]
    },
    {
     "name": "stderr",
     "output_type": "stream",
     "text": [
      " 10%|█         | 9/90 [00:54<07:44,  5.73s/it]"
     ]
    },
    {
     "name": "stdout",
     "output_type": "stream",
     "text": []
    },
    {
     "name": "stdout",
     "output_type": "stream",
     "text": [
      "\n"
     ]
    },
    {
     "name": "stderr",
     "output_type": "stream",
     "text": [
      " 11%|█         | 10/90 [00:59<07:11,  5.39s/it]"
     ]
    },
    {
     "name": "stdout",
     "output_type": "stream",
     "text": []
    },
    {
     "name": "stdout",
     "output_type": "stream",
     "text": [
      "\n"
     ]
    },
    {
     "name": "stderr",
     "output_type": "stream",
     "text": [
      " 12%|█▏        | 11/90 [01:05<07:31,  5.72s/it]"
     ]
    },
    {
     "name": "stdout",
     "output_type": "stream",
     "text": []
    },
    {
     "name": "stdout",
     "output_type": "stream",
     "text": [
      "\n"
     ]
    },
    {
     "name": "stderr",
     "output_type": "stream",
     "text": [
      " 13%|█▎        | 12/90 [01:12<07:52,  6.06s/it]"
     ]
    },
    {
     "name": "stdout",
     "output_type": "stream",
     "text": []
    },
    {
     "name": "stdout",
     "output_type": "stream",
     "text": [
      "\n"
     ]
    },
    {
     "name": "stderr",
     "output_type": "stream",
     "text": [
      " 14%|█▍        | 13/90 [01:21<08:50,  6.89s/it]"
     ]
    },
    {
     "name": "stdout",
     "output_type": "stream",
     "text": []
    },
    {
     "name": "stdout",
     "output_type": "stream",
     "text": [
      "\n"
     ]
    },
    {
     "name": "stderr",
     "output_type": "stream",
     "text": [
      " 16%|█▌        | 14/90 [01:25<07:40,  6.06s/it]"
     ]
    },
    {
     "name": "stdout",
     "output_type": "stream",
     "text": []
    },
    {
     "name": "stdout",
     "output_type": "stream",
     "text": [
      "\n"
     ]
    },
    {
     "name": "stderr",
     "output_type": "stream",
     "text": [
      " 17%|█▋        | 15/90 [01:31<07:30,  6.00s/it]"
     ]
    },
    {
     "name": "stdout",
     "output_type": "stream",
     "text": []
    },
    {
     "name": "stdout",
     "output_type": "stream",
     "text": [
      "\n"
     ]
    },
    {
     "name": "stderr",
     "output_type": "stream",
     "text": [
      " 18%|█▊        | 16/90 [01:36<06:54,  5.60s/it]"
     ]
    },
    {
     "name": "stdout",
     "output_type": "stream",
     "text": []
    },
    {
     "name": "stdout",
     "output_type": "stream",
     "text": [
      "\n"
     ]
    },
    {
     "name": "stderr",
     "output_type": "stream",
     "text": [
      " 19%|█▉        | 17/90 [01:39<05:57,  4.90s/it]"
     ]
    },
    {
     "name": "stdout",
     "output_type": "stream",
     "text": []
    },
    {
     "name": "stdout",
     "output_type": "stream",
     "text": [
      "\n"
     ]
    },
    {
     "name": "stderr",
     "output_type": "stream",
     "text": [
      " 20%|██        | 18/90 [01:43<05:43,  4.77s/it]"
     ]
    },
    {
     "name": "stdout",
     "output_type": "stream",
     "text": []
    },
    {
     "name": "stdout",
     "output_type": "stream",
     "text": [
      "\n"
     ]
    },
    {
     "name": "stderr",
     "output_type": "stream",
     "text": [
      " 21%|██        | 19/90 [01:47<05:08,  4.34s/it]"
     ]
    },
    {
     "name": "stdout",
     "output_type": "stream",
     "text": []
    },
    {
     "name": "stdout",
     "output_type": "stream",
     "text": [
      "\n"
     ]
    },
    {
     "name": "stderr",
     "output_type": "stream",
     "text": [
      " 22%|██▏       | 20/90 [01:50<04:49,  4.14s/it]"
     ]
    },
    {
     "name": "stdout",
     "output_type": "stream",
     "text": []
    },
    {
     "name": "stdout",
     "output_type": "stream",
     "text": [
      "\n"
     ]
    },
    {
     "name": "stderr",
     "output_type": "stream",
     "text": [
      " 23%|██▎       | 21/90 [01:54<04:37,  4.03s/it]"
     ]
    },
    {
     "name": "stdout",
     "output_type": "stream",
     "text": []
    },
    {
     "name": "stdout",
     "output_type": "stream",
     "text": [
      "\n"
     ]
    },
    {
     "name": "stderr",
     "output_type": "stream",
     "text": [
      " 24%|██▍       | 22/90 [01:59<04:43,  4.17s/it]"
     ]
    },
    {
     "name": "stdout",
     "output_type": "stream",
     "text": []
    },
    {
     "name": "stdout",
     "output_type": "stream",
     "text": [
      "\n"
     ]
    },
    {
     "name": "stderr",
     "output_type": "stream",
     "text": [
      " 26%|██▌       | 23/90 [02:05<05:24,  4.84s/it]"
     ]
    },
    {
     "name": "stdout",
     "output_type": "stream",
     "text": []
    },
    {
     "name": "stdout",
     "output_type": "stream",
     "text": [
      "\n"
     ]
    },
    {
     "name": "stderr",
     "output_type": "stream",
     "text": [
      " 27%|██▋       | 24/90 [02:11<05:41,  5.17s/it]"
     ]
    },
    {
     "name": "stdout",
     "output_type": "stream",
     "text": []
    },
    {
     "name": "stdout",
     "output_type": "stream",
     "text": [
      "\n"
     ]
    },
    {
     "name": "stderr",
     "output_type": "stream",
     "text": [
      " 28%|██▊       | 25/90 [02:16<05:28,  5.05s/it]"
     ]
    },
    {
     "name": "stdout",
     "output_type": "stream",
     "text": []
    },
    {
     "name": "stdout",
     "output_type": "stream",
     "text": [
      "\n"
     ]
    },
    {
     "name": "stderr",
     "output_type": "stream",
     "text": [
      " 29%|██▉       | 26/90 [02:20<05:15,  4.93s/it]"
     ]
    },
    {
     "name": "stdout",
     "output_type": "stream",
     "text": []
    },
    {
     "name": "stdout",
     "output_type": "stream",
     "text": [
      "\n"
     ]
    },
    {
     "name": "stderr",
     "output_type": "stream",
     "text": [
      " 30%|███       | 27/90 [02:26<05:14,  5.00s/it]"
     ]
    },
    {
     "name": "stdout",
     "output_type": "stream",
     "text": []
    },
    {
     "name": "stdout",
     "output_type": "stream",
     "text": [
      "\n"
     ]
    },
    {
     "name": "stderr",
     "output_type": "stream",
     "text": [
      " 31%|███       | 28/90 [02:29<04:46,  4.62s/it]"
     ]
    },
    {
     "name": "stdout",
     "output_type": "stream",
     "text": []
    },
    {
     "name": "stdout",
     "output_type": "stream",
     "text": [
      "\n"
     ]
    },
    {
     "name": "stderr",
     "output_type": "stream",
     "text": [
      " 32%|███▏      | 29/90 [02:34<04:51,  4.78s/it]"
     ]
    },
    {
     "name": "stdout",
     "output_type": "stream",
     "text": []
    },
    {
     "name": "stdout",
     "output_type": "stream",
     "text": [
      "\n"
     ]
    },
    {
     "name": "stderr",
     "output_type": "stream",
     "text": [
      " 33%|███▎      | 30/90 [02:39<04:34,  4.58s/it]"
     ]
    },
    {
     "name": "stdout",
     "output_type": "stream",
     "text": []
    },
    {
     "name": "stdout",
     "output_type": "stream",
     "text": [
      "\n"
     ]
    },
    {
     "name": "stderr",
     "output_type": "stream",
     "text": [
      " 34%|███▍      | 31/90 [02:44<04:51,  4.93s/it]"
     ]
    },
    {
     "name": "stdout",
     "output_type": "stream",
     "text": []
    },
    {
     "name": "stdout",
     "output_type": "stream",
     "text": [
      "\n"
     ]
    },
    {
     "name": "stderr",
     "output_type": "stream",
     "text": [
      " 36%|███▌      | 32/90 [02:53<05:45,  5.95s/it]"
     ]
    },
    {
     "name": "stdout",
     "output_type": "stream",
     "text": []
    },
    {
     "name": "stdout",
     "output_type": "stream",
     "text": [
      "\n"
     ]
    },
    {
     "name": "stderr",
     "output_type": "stream",
     "text": [
      " 37%|███▋      | 33/90 [02:58<05:34,  5.87s/it]"
     ]
    },
    {
     "name": "stdout",
     "output_type": "stream",
     "text": []
    },
    {
     "name": "stdout",
     "output_type": "stream",
     "text": [
      "\n"
     ]
    },
    {
     "name": "stderr",
     "output_type": "stream",
     "text": [
      " 38%|███▊      | 34/90 [03:04<05:19,  5.71s/it]"
     ]
    },
    {
     "name": "stdout",
     "output_type": "stream",
     "text": []
    },
    {
     "name": "stdout",
     "output_type": "stream",
     "text": [
      "\n"
     ]
    },
    {
     "name": "stderr",
     "output_type": "stream",
     "text": [
      " 39%|███▉      | 35/90 [03:07<04:42,  5.14s/it]"
     ]
    },
    {
     "name": "stdout",
     "output_type": "stream",
     "text": []
    },
    {
     "name": "stdout",
     "output_type": "stream",
     "text": [
      "\n"
     ]
    },
    {
     "name": "stderr",
     "output_type": "stream",
     "text": [
      " 40%|████      | 36/90 [03:11<04:17,  4.76s/it]"
     ]
    },
    {
     "name": "stdout",
     "output_type": "stream",
     "text": []
    },
    {
     "name": "stdout",
     "output_type": "stream",
     "text": [
      "\n"
     ]
    },
    {
     "name": "stderr",
     "output_type": "stream",
     "text": [
      " 41%|████      | 37/90 [03:15<03:59,  4.52s/it]"
     ]
    },
    {
     "name": "stdout",
     "output_type": "stream",
     "text": []
    },
    {
     "name": "stdout",
     "output_type": "stream",
     "text": [
      "\n"
     ]
    },
    {
     "name": "stderr",
     "output_type": "stream",
     "text": [
      " 42%|████▏     | 38/90 [03:19<03:45,  4.33s/it]"
     ]
    },
    {
     "name": "stdout",
     "output_type": "stream",
     "text": []
    },
    {
     "name": "stdout",
     "output_type": "stream",
     "text": [
      "\n"
     ]
    },
    {
     "name": "stderr",
     "output_type": "stream",
     "text": [
      " 43%|████▎     | 39/90 [03:23<03:33,  4.19s/it]"
     ]
    },
    {
     "name": "stdout",
     "output_type": "stream",
     "text": []
    },
    {
     "name": "stdout",
     "output_type": "stream",
     "text": [
      "\n"
     ]
    },
    {
     "name": "stderr",
     "output_type": "stream",
     "text": [
      " 44%|████▍     | 40/90 [03:28<03:39,  4.40s/it]"
     ]
    },
    {
     "name": "stdout",
     "output_type": "stream",
     "text": []
    },
    {
     "name": "stdout",
     "output_type": "stream",
     "text": [
      "\n"
     ]
    },
    {
     "name": "stderr",
     "output_type": "stream",
     "text": [
      " 46%|████▌     | 41/90 [03:34<03:53,  4.76s/it]"
     ]
    },
    {
     "name": "stdout",
     "output_type": "stream",
     "text": []
    },
    {
     "name": "stdout",
     "output_type": "stream",
     "text": [
      "\n"
     ]
    },
    {
     "name": "stderr",
     "output_type": "stream",
     "text": [
      " 47%|████▋     | 42/90 [03:37<03:33,  4.45s/it]"
     ]
    },
    {
     "name": "stdout",
     "output_type": "stream",
     "text": []
    },
    {
     "name": "stdout",
     "output_type": "stream",
     "text": [
      "\n"
     ]
    },
    {
     "name": "stderr",
     "output_type": "stream",
     "text": [
      " 48%|████▊     | 43/90 [03:43<03:43,  4.75s/it]"
     ]
    },
    {
     "name": "stdout",
     "output_type": "stream",
     "text": []
    },
    {
     "name": "stdout",
     "output_type": "stream",
     "text": [
      "\n"
     ]
    },
    {
     "name": "stderr",
     "output_type": "stream",
     "text": [
      " 49%|████▉     | 44/90 [03:47<03:30,  4.57s/it]"
     ]
    },
    {
     "name": "stdout",
     "output_type": "stream",
     "text": []
    },
    {
     "name": "stdout",
     "output_type": "stream",
     "text": [
      "\n"
     ]
    },
    {
     "name": "stderr",
     "output_type": "stream",
     "text": [
      " 50%|█████     | 45/90 [03:51<03:16,  4.36s/it]"
     ]
    },
    {
     "name": "stdout",
     "output_type": "stream",
     "text": []
    },
    {
     "name": "stdout",
     "output_type": "stream",
     "text": [
      "\n"
     ]
    },
    {
     "name": "stderr",
     "output_type": "stream",
     "text": [
      " 51%|█████     | 46/90 [03:55<03:03,  4.18s/it]"
     ]
    },
    {
     "name": "stdout",
     "output_type": "stream",
     "text": []
    },
    {
     "name": "stdout",
     "output_type": "stream",
     "text": [
      "\n"
     ]
    },
    {
     "name": "stderr",
     "output_type": "stream",
     "text": [
      " 52%|█████▏    | 47/90 [04:02<03:38,  5.08s/it]"
     ]
    },
    {
     "name": "stdout",
     "output_type": "stream",
     "text": []
    },
    {
     "name": "stdout",
     "output_type": "stream",
     "text": [
      "\n"
     ]
    },
    {
     "name": "stderr",
     "output_type": "stream",
     "text": [
      " 53%|█████▎    | 48/90 [04:05<03:16,  4.69s/it]"
     ]
    },
    {
     "name": "stdout",
     "output_type": "stream",
     "text": []
    },
    {
     "name": "stdout",
     "output_type": "stream",
     "text": [
      "\n"
     ]
    },
    {
     "name": "stderr",
     "output_type": "stream",
     "text": [
      " 54%|█████▍    | 49/90 [04:10<03:07,  4.57s/it]"
     ]
    },
    {
     "name": "stdout",
     "output_type": "stream",
     "text": []
    },
    {
     "name": "stdout",
     "output_type": "stream",
     "text": [
      "\n"
     ]
    },
    {
     "name": "stderr",
     "output_type": "stream",
     "text": [
      " 56%|█████▌    | 50/90 [04:14<03:00,  4.51s/it]"
     ]
    },
    {
     "name": "stdout",
     "output_type": "stream",
     "text": []
    },
    {
     "name": "stdout",
     "output_type": "stream",
     "text": [
      "\n"
     ]
    },
    {
     "name": "stderr",
     "output_type": "stream",
     "text": [
      " 57%|█████▋    | 51/90 [04:18<02:47,  4.30s/it]"
     ]
    },
    {
     "name": "stdout",
     "output_type": "stream",
     "text": []
    },
    {
     "name": "stdout",
     "output_type": "stream",
     "text": [
      "\n"
     ]
    },
    {
     "name": "stderr",
     "output_type": "stream",
     "text": [
      " 58%|█████▊    | 52/90 [04:24<03:00,  4.75s/it]"
     ]
    },
    {
     "name": "stdout",
     "output_type": "stream",
     "text": []
    },
    {
     "name": "stdout",
     "output_type": "stream",
     "text": [
      "\n"
     ]
    },
    {
     "name": "stderr",
     "output_type": "stream",
     "text": [
      " 59%|█████▉    | 53/90 [04:28<02:47,  4.52s/it]"
     ]
    },
    {
     "name": "stdout",
     "output_type": "stream",
     "text": []
    },
    {
     "name": "stdout",
     "output_type": "stream",
     "text": [
      "\n"
     ]
    },
    {
     "name": "stderr",
     "output_type": "stream",
     "text": [
      " 60%|██████    | 54/90 [04:31<02:29,  4.16s/it]"
     ]
    },
    {
     "name": "stdout",
     "output_type": "stream",
     "text": []
    },
    {
     "name": "stdout",
     "output_type": "stream",
     "text": [
      "\n"
     ]
    },
    {
     "name": "stderr",
     "output_type": "stream",
     "text": [
      " 61%|██████    | 55/90 [04:35<02:19,  3.99s/it]"
     ]
    },
    {
     "name": "stdout",
     "output_type": "stream",
     "text": []
    },
    {
     "name": "stdout",
     "output_type": "stream",
     "text": [
      "\n"
     ]
    },
    {
     "name": "stderr",
     "output_type": "stream",
     "text": [
      " 62%|██████▏   | 56/90 [04:39<02:24,  4.24s/it]"
     ]
    },
    {
     "name": "stdout",
     "output_type": "stream",
     "text": []
    },
    {
     "name": "stdout",
     "output_type": "stream",
     "text": [
      "\n"
     ]
    },
    {
     "name": "stderr",
     "output_type": "stream",
     "text": [
      " 63%|██████▎   | 57/90 [04:45<02:32,  4.63s/it]"
     ]
    },
    {
     "name": "stdout",
     "output_type": "stream",
     "text": []
    },
    {
     "name": "stdout",
     "output_type": "stream",
     "text": [
      "\n"
     ]
    },
    {
     "name": "stderr",
     "output_type": "stream",
     "text": [
      " 64%|██████▍   | 58/90 [04:49<02:17,  4.30s/it]"
     ]
    },
    {
     "name": "stdout",
     "output_type": "stream",
     "text": []
    },
    {
     "name": "stdout",
     "output_type": "stream",
     "text": [
      "\n"
     ]
    },
    {
     "name": "stderr",
     "output_type": "stream",
     "text": [
      " 66%|██████▌   | 59/90 [04:52<02:08,  4.14s/it]"
     ]
    },
    {
     "name": "stdout",
     "output_type": "stream",
     "text": []
    },
    {
     "name": "stdout",
     "output_type": "stream",
     "text": [
      "\n"
     ]
    },
    {
     "name": "stderr",
     "output_type": "stream",
     "text": [
      " 67%|██████▋   | 60/90 [04:57<02:08,  4.30s/it]"
     ]
    },
    {
     "name": "stdout",
     "output_type": "stream",
     "text": []
    },
    {
     "name": "stdout",
     "output_type": "stream",
     "text": [
      "\n"
     ]
    },
    {
     "name": "stderr",
     "output_type": "stream",
     "text": [
      " 68%|██████▊   | 61/90 [05:00<01:54,  3.95s/it]"
     ]
    },
    {
     "name": "stdout",
     "output_type": "stream",
     "text": []
    },
    {
     "name": "stdout",
     "output_type": "stream",
     "text": [
      "\n"
     ]
    },
    {
     "name": "stderr",
     "output_type": "stream",
     "text": [
      " 69%|██████▉   | 62/90 [05:05<02:01,  4.33s/it]"
     ]
    },
    {
     "name": "stdout",
     "output_type": "stream",
     "text": []
    },
    {
     "name": "stdout",
     "output_type": "stream",
     "text": [
      "\n"
     ]
    },
    {
     "name": "stderr",
     "output_type": "stream",
     "text": [
      " 70%|███████   | 63/90 [05:09<01:48,  4.02s/it]"
     ]
    },
    {
     "name": "stdout",
     "output_type": "stream",
     "text": []
    },
    {
     "name": "stdout",
     "output_type": "stream",
     "text": [
      "\n"
     ]
    },
    {
     "name": "stderr",
     "output_type": "stream",
     "text": [
      " 71%|███████   | 64/90 [05:12<01:42,  3.93s/it]"
     ]
    },
    {
     "name": "stdout",
     "output_type": "stream",
     "text": []
    },
    {
     "name": "stdout",
     "output_type": "stream",
     "text": [
      "\n"
     ]
    },
    {
     "name": "stderr",
     "output_type": "stream",
     "text": [
      " 72%|███████▏  | 65/90 [05:18<01:48,  4.32s/it]"
     ]
    },
    {
     "name": "stdout",
     "output_type": "stream",
     "text": []
    },
    {
     "name": "stdout",
     "output_type": "stream",
     "text": [
      "\n"
     ]
    },
    {
     "name": "stderr",
     "output_type": "stream",
     "text": [
      " 73%|███████▎  | 66/90 [05:24<01:57,  4.89s/it]"
     ]
    },
    {
     "name": "stdout",
     "output_type": "stream",
     "text": []
    },
    {
     "name": "stdout",
     "output_type": "stream",
     "text": [
      "\n"
     ]
    },
    {
     "name": "stderr",
     "output_type": "stream",
     "text": [
      " 74%|███████▍  | 67/90 [05:30<02:03,  5.37s/it]"
     ]
    },
    {
     "name": "stdout",
     "output_type": "stream",
     "text": []
    },
    {
     "name": "stdout",
     "output_type": "stream",
     "text": [
      "\n"
     ]
    },
    {
     "name": "stderr",
     "output_type": "stream",
     "text": [
      " 76%|███████▌  | 68/90 [05:34<01:50,  5.02s/it]"
     ]
    },
    {
     "name": "stdout",
     "output_type": "stream",
     "text": []
    },
    {
     "name": "stdout",
     "output_type": "stream",
     "text": [
      "\n"
     ]
    },
    {
     "name": "stderr",
     "output_type": "stream",
     "text": [
      " 77%|███████▋  | 69/90 [05:39<01:41,  4.82s/it]"
     ]
    },
    {
     "name": "stdout",
     "output_type": "stream",
     "text": []
    },
    {
     "name": "stdout",
     "output_type": "stream",
     "text": [
      "\n"
     ]
    },
    {
     "name": "stderr",
     "output_type": "stream",
     "text": [
      " 78%|███████▊  | 70/90 [05:42<01:28,  4.41s/it]"
     ]
    },
    {
     "name": "stdout",
     "output_type": "stream",
     "text": []
    },
    {
     "name": "stdout",
     "output_type": "stream",
     "text": [
      "\n"
     ]
    },
    {
     "name": "stderr",
     "output_type": "stream",
     "text": [
      " 79%|███████▉  | 71/90 [05:47<01:24,  4.44s/it]"
     ]
    },
    {
     "name": "stdout",
     "output_type": "stream",
     "text": []
    },
    {
     "name": "stdout",
     "output_type": "stream",
     "text": [
      "\n"
     ]
    },
    {
     "name": "stderr",
     "output_type": "stream",
     "text": [
      " 80%|████████  | 72/90 [05:51<01:21,  4.50s/it]"
     ]
    },
    {
     "name": "stdout",
     "output_type": "stream",
     "text": []
    },
    {
     "name": "stdout",
     "output_type": "stream",
     "text": [
      "\n"
     ]
    },
    {
     "name": "stderr",
     "output_type": "stream",
     "text": [
      " 81%|████████  | 73/90 [05:57<01:21,  4.79s/it]"
     ]
    },
    {
     "name": "stdout",
     "output_type": "stream",
     "text": []
    },
    {
     "name": "stdout",
     "output_type": "stream",
     "text": [
      "\n"
     ]
    },
    {
     "name": "stderr",
     "output_type": "stream",
     "text": [
      " 82%|████████▏ | 74/90 [06:01<01:12,  4.53s/it]"
     ]
    },
    {
     "name": "stdout",
     "output_type": "stream",
     "text": []
    },
    {
     "name": "stdout",
     "output_type": "stream",
     "text": [
      "\n"
     ]
    },
    {
     "name": "stderr",
     "output_type": "stream",
     "text": [
      " 83%|████████▎ | 75/90 [06:05<01:04,  4.33s/it]"
     ]
    },
    {
     "name": "stdout",
     "output_type": "stream",
     "text": []
    },
    {
     "name": "stdout",
     "output_type": "stream",
     "text": [
      "\n"
     ]
    },
    {
     "name": "stderr",
     "output_type": "stream",
     "text": [
      " 84%|████████▍ | 76/90 [06:10<01:03,  4.54s/it]"
     ]
    },
    {
     "name": "stdout",
     "output_type": "stream",
     "text": []
    },
    {
     "name": "stdout",
     "output_type": "stream",
     "text": [
      "\n"
     ]
    },
    {
     "name": "stderr",
     "output_type": "stream",
     "text": [
      " 86%|████████▌ | 77/90 [06:14<00:58,  4.52s/it]"
     ]
    },
    {
     "name": "stdout",
     "output_type": "stream",
     "text": []
    },
    {
     "name": "stdout",
     "output_type": "stream",
     "text": [
      "\n"
     ]
    },
    {
     "name": "stderr",
     "output_type": "stream",
     "text": [
      " 87%|████████▋ | 78/90 [06:21<01:00,  5.07s/it]"
     ]
    },
    {
     "name": "stdout",
     "output_type": "stream",
     "text": []
    },
    {
     "name": "stdout",
     "output_type": "stream",
     "text": [
      "\n"
     ]
    },
    {
     "name": "stderr",
     "output_type": "stream",
     "text": [
      " 88%|████████▊ | 79/90 [06:24<00:49,  4.46s/it]"
     ]
    },
    {
     "name": "stdout",
     "output_type": "stream",
     "text": []
    },
    {
     "name": "stdout",
     "output_type": "stream",
     "text": [
      "\n"
     ]
    },
    {
     "name": "stderr",
     "output_type": "stream",
     "text": [
      " 89%|████████▉ | 80/90 [06:29<00:47,  4.74s/it]"
     ]
    },
    {
     "name": "stdout",
     "output_type": "stream",
     "text": []
    },
    {
     "name": "stdout",
     "output_type": "stream",
     "text": [
      "\n"
     ]
    },
    {
     "name": "stderr",
     "output_type": "stream",
     "text": [
      " 90%|█████████ | 81/90 [06:33<00:39,  4.38s/it]"
     ]
    },
    {
     "name": "stdout",
     "output_type": "stream",
     "text": []
    },
    {
     "name": "stdout",
     "output_type": "stream",
     "text": [
      "\n"
     ]
    },
    {
     "name": "stderr",
     "output_type": "stream",
     "text": [
      " 91%|█████████ | 82/90 [06:37<00:34,  4.32s/it]"
     ]
    },
    {
     "name": "stdout",
     "output_type": "stream",
     "text": []
    },
    {
     "name": "stdout",
     "output_type": "stream",
     "text": [
      "\n"
     ]
    },
    {
     "name": "stderr",
     "output_type": "stream",
     "text": [
      " 92%|█████████▏| 83/90 [06:40<00:28,  4.13s/it]"
     ]
    },
    {
     "name": "stdout",
     "output_type": "stream",
     "text": []
    },
    {
     "name": "stdout",
     "output_type": "stream",
     "text": [
      "\n"
     ]
    },
    {
     "name": "stderr",
     "output_type": "stream",
     "text": [
      " 93%|█████████▎| 84/90 [06:43<00:22,  3.77s/it]"
     ]
    },
    {
     "name": "stdout",
     "output_type": "stream",
     "text": []
    },
    {
     "name": "stdout",
     "output_type": "stream",
     "text": [
      "\n"
     ]
    },
    {
     "name": "stderr",
     "output_type": "stream",
     "text": [
      " 94%|█████████▍| 85/90 [06:47<00:18,  3.70s/it]"
     ]
    },
    {
     "name": "stdout",
     "output_type": "stream",
     "text": []
    },
    {
     "name": "stdout",
     "output_type": "stream",
     "text": [
      "\n"
     ]
    },
    {
     "name": "stderr",
     "output_type": "stream",
     "text": [
      " 96%|█████████▌| 86/90 [06:51<00:15,  3.85s/it]"
     ]
    },
    {
     "name": "stdout",
     "output_type": "stream",
     "text": []
    },
    {
     "name": "stdout",
     "output_type": "stream",
     "text": [
      "\n"
     ]
    },
    {
     "name": "stderr",
     "output_type": "stream",
     "text": [
      " 97%|█████████▋| 87/90 [06:57<00:13,  4.39s/it]"
     ]
    },
    {
     "name": "stdout",
     "output_type": "stream",
     "text": []
    },
    {
     "name": "stdout",
     "output_type": "stream",
     "text": [
      "\n"
     ]
    },
    {
     "name": "stderr",
     "output_type": "stream",
     "text": [
      " 98%|█████████▊| 88/90 [07:02<00:09,  4.54s/it]"
     ]
    },
    {
     "name": "stdout",
     "output_type": "stream",
     "text": []
    },
    {
     "name": "stdout",
     "output_type": "stream",
     "text": [
      "\n"
     ]
    },
    {
     "name": "stderr",
     "output_type": "stream",
     "text": [
      " 99%|█████████▉| 89/90 [07:06<00:04,  4.58s/it]"
     ]
    },
    {
     "name": "stdout",
     "output_type": "stream",
     "text": []
    },
    {
     "name": "stdout",
     "output_type": "stream",
     "text": [
      "\n"
     ]
    },
    {
     "name": "stderr",
     "output_type": "stream",
     "text": [
      "100%|██████████| 90/90 [07:13<00:00,  5.19s/it]\n",
      "  0%|          | 0/90 [00:00<?, ?it/s]"
     ]
    },
    {
     "name": "stdout",
     "output_type": "stream",
     "text": []
    },
    {
     "name": "stdout",
     "output_type": "stream",
     "text": [
      "\n"
     ]
    },
    {
     "name": "stderr",
     "output_type": "stream",
     "text": [
      "  1%|          | 1/90 [00:06<09:23,  6.33s/it]"
     ]
    },
    {
     "name": "stdout",
     "output_type": "stream",
     "text": []
    },
    {
     "name": "stdout",
     "output_type": "stream",
     "text": [
      "\n"
     ]
    },
    {
     "name": "stderr",
     "output_type": "stream",
     "text": [
      "  2%|▏         | 2/90 [00:11<08:44,  5.96s/it]"
     ]
    },
    {
     "name": "stdout",
     "output_type": "stream",
     "text": []
    },
    {
     "name": "stdout",
     "output_type": "stream",
     "text": [
      "\n"
     ]
    },
    {
     "name": "stderr",
     "output_type": "stream",
     "text": [
      "  3%|▎         | 3/90 [00:19<09:32,  6.58s/it]"
     ]
    },
    {
     "name": "stdout",
     "output_type": "stream",
     "text": []
    },
    {
     "name": "stdout",
     "output_type": "stream",
     "text": [
      "\n"
     ]
    },
    {
     "name": "stderr",
     "output_type": "stream",
     "text": [
      "  4%|▍         | 4/90 [00:23<08:31,  5.95s/it]"
     ]
    },
    {
     "name": "stdout",
     "output_type": "stream",
     "text": []
    },
    {
     "name": "stdout",
     "output_type": "stream",
     "text": [
      "\n"
     ]
    },
    {
     "name": "stderr",
     "output_type": "stream",
     "text": [
      "  6%|▌         | 5/90 [00:28<07:40,  5.42s/it]"
     ]
    },
    {
     "name": "stdout",
     "output_type": "stream",
     "text": []
    },
    {
     "name": "stdout",
     "output_type": "stream",
     "text": [
      "\n"
     ]
    },
    {
     "name": "stderr",
     "output_type": "stream",
     "text": [
      "  7%|▋         | 6/90 [00:34<08:07,  5.80s/it]"
     ]
    },
    {
     "name": "stdout",
     "output_type": "stream",
     "text": []
    },
    {
     "name": "stdout",
     "output_type": "stream",
     "text": [
      "\n"
     ]
    },
    {
     "name": "stderr",
     "output_type": "stream",
     "text": [
      "  8%|▊         | 7/90 [00:37<06:48,  4.92s/it]"
     ]
    },
    {
     "name": "stdout",
     "output_type": "stream",
     "text": []
    },
    {
     "name": "stdout",
     "output_type": "stream",
     "text": [
      "\n"
     ]
    },
    {
     "name": "stderr",
     "output_type": "stream",
     "text": [
      "  9%|▉         | 8/90 [00:42<06:47,  4.97s/it]"
     ]
    },
    {
     "name": "stdout",
     "output_type": "stream",
     "text": []
    },
    {
     "name": "stdout",
     "output_type": "stream",
     "text": [
      "\n"
     ]
    },
    {
     "name": "stderr",
     "output_type": "stream",
     "text": [
      " 10%|█         | 9/90 [00:45<05:51,  4.35s/it]"
     ]
    },
    {
     "name": "stdout",
     "output_type": "stream",
     "text": []
    },
    {
     "name": "stdout",
     "output_type": "stream",
     "text": [
      "\n"
     ]
    },
    {
     "name": "stderr",
     "output_type": "stream",
     "text": [
      " 11%|█         | 10/90 [00:51<06:12,  4.65s/it]"
     ]
    },
    {
     "name": "stdout",
     "output_type": "stream",
     "text": []
    },
    {
     "name": "stdout",
     "output_type": "stream",
     "text": [
      "\n"
     ]
    },
    {
     "name": "stderr",
     "output_type": "stream",
     "text": [
      " 12%|█▏        | 11/90 [00:55<06:11,  4.70s/it]"
     ]
    },
    {
     "name": "stdout",
     "output_type": "stream",
     "text": []
    },
    {
     "name": "stdout",
     "output_type": "stream",
     "text": [
      "\n"
     ]
    },
    {
     "name": "stderr",
     "output_type": "stream",
     "text": [
      " 13%|█▎        | 12/90 [00:59<05:42,  4.39s/it]"
     ]
    },
    {
     "name": "stdout",
     "output_type": "stream",
     "text": []
    },
    {
     "name": "stdout",
     "output_type": "stream",
     "text": [
      "\n"
     ]
    },
    {
     "name": "stderr",
     "output_type": "stream",
     "text": [
      " 14%|█▍        | 13/90 [01:04<05:50,  4.56s/it]"
     ]
    },
    {
     "name": "stdout",
     "output_type": "stream",
     "text": []
    },
    {
     "name": "stdout",
     "output_type": "stream",
     "text": [
      "\n"
     ]
    },
    {
     "name": "stderr",
     "output_type": "stream",
     "text": [
      " 16%|█▌        | 14/90 [01:08<05:33,  4.39s/it]"
     ]
    },
    {
     "name": "stdout",
     "output_type": "stream",
     "text": []
    },
    {
     "name": "stdout",
     "output_type": "stream",
     "text": [
      "\n"
     ]
    },
    {
     "name": "stderr",
     "output_type": "stream",
     "text": [
      " 17%|█▋        | 15/90 [01:11<05:01,  4.03s/it]"
     ]
    },
    {
     "name": "stdout",
     "output_type": "stream",
     "text": []
    },
    {
     "name": "stdout",
     "output_type": "stream",
     "text": [
      "\n"
     ]
    },
    {
     "name": "stderr",
     "output_type": "stream",
     "text": [
      " 18%|█▊        | 16/90 [01:14<04:39,  3.78s/it]"
     ]
    },
    {
     "name": "stdout",
     "output_type": "stream",
     "text": []
    },
    {
     "name": "stdout",
     "output_type": "stream",
     "text": [
      "\n"
     ]
    },
    {
     "name": "stderr",
     "output_type": "stream",
     "text": [
      " 19%|█▉        | 17/90 [01:19<04:56,  4.06s/it]"
     ]
    },
    {
     "name": "stdout",
     "output_type": "stream",
     "text": []
    },
    {
     "name": "stdout",
     "output_type": "stream",
     "text": [
      "\n"
     ]
    },
    {
     "name": "stderr",
     "output_type": "stream",
     "text": [
      " 20%|██        | 18/90 [01:23<04:56,  4.12s/it]"
     ]
    },
    {
     "name": "stdout",
     "output_type": "stream",
     "text": []
    },
    {
     "name": "stdout",
     "output_type": "stream",
     "text": [
      "\n"
     ]
    },
    {
     "name": "stderr",
     "output_type": "stream",
     "text": [
      " 21%|██        | 19/90 [01:30<05:51,  4.95s/it]"
     ]
    },
    {
     "name": "stdout",
     "output_type": "stream",
     "text": []
    },
    {
     "name": "stdout",
     "output_type": "stream",
     "text": [
      "\n"
     ]
    },
    {
     "name": "stderr",
     "output_type": "stream",
     "text": [
      " 22%|██▏       | 20/90 [01:38<06:39,  5.70s/it]"
     ]
    },
    {
     "name": "stdout",
     "output_type": "stream",
     "text": []
    },
    {
     "name": "stdout",
     "output_type": "stream",
     "text": [
      "\n"
     ]
    },
    {
     "name": "stderr",
     "output_type": "stream",
     "text": [
      " 23%|██▎       | 21/90 [01:44<06:43,  5.85s/it]"
     ]
    },
    {
     "name": "stdout",
     "output_type": "stream",
     "text": []
    },
    {
     "name": "stdout",
     "output_type": "stream",
     "text": [
      "\n"
     ]
    },
    {
     "name": "stderr",
     "output_type": "stream",
     "text": [
      " 24%|██▍       | 22/90 [01:51<06:59,  6.17s/it]"
     ]
    },
    {
     "name": "stdout",
     "output_type": "stream",
     "text": []
    },
    {
     "name": "stdout",
     "output_type": "stream",
     "text": [
      "\n"
     ]
    },
    {
     "name": "stderr",
     "output_type": "stream",
     "text": [
      " 26%|██▌       | 23/90 [02:00<07:53,  7.06s/it]"
     ]
    },
    {
     "name": "stdout",
     "output_type": "stream",
     "text": []
    },
    {
     "name": "stdout",
     "output_type": "stream",
     "text": [
      "\n"
     ]
    },
    {
     "name": "stderr",
     "output_type": "stream",
     "text": [
      " 27%|██▋       | 24/90 [02:03<06:31,  5.93s/it]"
     ]
    },
    {
     "name": "stdout",
     "output_type": "stream",
     "text": []
    },
    {
     "name": "stdout",
     "output_type": "stream",
     "text": [
      "\n"
     ]
    },
    {
     "name": "stderr",
     "output_type": "stream",
     "text": [
      " 28%|██▊       | 25/90 [02:09<06:17,  5.81s/it]"
     ]
    },
    {
     "name": "stdout",
     "output_type": "stream",
     "text": []
    },
    {
     "name": "stdout",
     "output_type": "stream",
     "text": [
      "\n"
     ]
    },
    {
     "name": "stderr",
     "output_type": "stream",
     "text": [
      " 29%|██▉       | 26/90 [02:12<05:24,  5.07s/it]"
     ]
    },
    {
     "name": "stdout",
     "output_type": "stream",
     "text": []
    },
    {
     "name": "stdout",
     "output_type": "stream",
     "text": [
      "\n"
     ]
    },
    {
     "name": "stderr",
     "output_type": "stream",
     "text": [
      " 30%|███       | 27/90 [02:16<04:51,  4.62s/it]"
     ]
    },
    {
     "name": "stdout",
     "output_type": "stream",
     "text": []
    },
    {
     "name": "stdout",
     "output_type": "stream",
     "text": [
      "\n"
     ]
    },
    {
     "name": "stderr",
     "output_type": "stream",
     "text": [
      " 31%|███       | 28/90 [02:19<04:30,  4.36s/it]"
     ]
    },
    {
     "name": "stdout",
     "output_type": "stream",
     "text": []
    },
    {
     "name": "stdout",
     "output_type": "stream",
     "text": [
      "\n"
     ]
    },
    {
     "name": "stderr",
     "output_type": "stream",
     "text": [
      " 32%|███▏      | 29/90 [02:27<05:26,  5.36s/it]"
     ]
    },
    {
     "name": "stdout",
     "output_type": "stream",
     "text": []
    },
    {
     "name": "stdout",
     "output_type": "stream",
     "text": [
      "\n"
     ]
    },
    {
     "name": "stderr",
     "output_type": "stream",
     "text": [
      " 33%|███▎      | 30/90 [02:32<05:11,  5.20s/it]"
     ]
    },
    {
     "name": "stdout",
     "output_type": "stream",
     "text": []
    },
    {
     "name": "stdout",
     "output_type": "stream",
     "text": [
      "\n"
     ]
    },
    {
     "name": "stderr",
     "output_type": "stream",
     "text": [
      " 34%|███▍      | 31/90 [02:41<06:19,  6.43s/it]"
     ]
    },
    {
     "name": "stdout",
     "output_type": "stream",
     "text": []
    },
    {
     "name": "stdout",
     "output_type": "stream",
     "text": [
      "\n"
     ]
    },
    {
     "name": "stderr",
     "output_type": "stream",
     "text": [
      " 36%|███▌      | 32/90 [02:46<05:48,  6.01s/it]"
     ]
    },
    {
     "name": "stdout",
     "output_type": "stream",
     "text": []
    },
    {
     "name": "stdout",
     "output_type": "stream",
     "text": [
      "\n"
     ]
    },
    {
     "name": "stderr",
     "output_type": "stream",
     "text": [
      " 37%|███▋      | 33/90 [02:51<05:20,  5.62s/it]"
     ]
    },
    {
     "name": "stdout",
     "output_type": "stream",
     "text": []
    },
    {
     "name": "stdout",
     "output_type": "stream",
     "text": [
      "\n"
     ]
    },
    {
     "name": "stderr",
     "output_type": "stream",
     "text": [
      " 38%|███▊      | 34/90 [02:58<05:47,  6.20s/it]"
     ]
    },
    {
     "name": "stdout",
     "output_type": "stream",
     "text": []
    },
    {
     "name": "stdout",
     "output_type": "stream",
     "text": [
      "\n"
     ]
    },
    {
     "name": "stderr",
     "output_type": "stream",
     "text": [
      " 39%|███▉      | 35/90 [03:03<05:13,  5.69s/it]"
     ]
    },
    {
     "name": "stdout",
     "output_type": "stream",
     "text": []
    },
    {
     "name": "stdout",
     "output_type": "stream",
     "text": [
      "\n"
     ]
    },
    {
     "name": "stderr",
     "output_type": "stream",
     "text": [
      " 40%|████      | 36/90 [03:08<04:54,  5.45s/it]"
     ]
    },
    {
     "name": "stdout",
     "output_type": "stream",
     "text": []
    },
    {
     "name": "stdout",
     "output_type": "stream",
     "text": [
      "\n"
     ]
    },
    {
     "name": "stderr",
     "output_type": "stream",
     "text": [
      " 41%|████      | 37/90 [03:12<04:21,  4.94s/it]"
     ]
    },
    {
     "name": "stdout",
     "output_type": "stream",
     "text": []
    },
    {
     "name": "stdout",
     "output_type": "stream",
     "text": [
      "\n"
     ]
    },
    {
     "name": "stderr",
     "output_type": "stream",
     "text": [
      " 42%|████▏     | 38/90 [03:15<03:49,  4.42s/it]"
     ]
    },
    {
     "name": "stdout",
     "output_type": "stream",
     "text": []
    },
    {
     "name": "stdout",
     "output_type": "stream",
     "text": [
      "\n"
     ]
    },
    {
     "name": "stderr",
     "output_type": "stream",
     "text": [
      " 43%|████▎     | 39/90 [03:20<03:57,  4.66s/it]"
     ]
    },
    {
     "name": "stdout",
     "output_type": "stream",
     "text": []
    },
    {
     "name": "stdout",
     "output_type": "stream",
     "text": [
      "\n"
     ]
    },
    {
     "name": "stderr",
     "output_type": "stream",
     "text": [
      " 44%|████▍     | 40/90 [03:24<03:47,  4.54s/it]"
     ]
    },
    {
     "name": "stdout",
     "output_type": "stream",
     "text": []
    },
    {
     "name": "stdout",
     "output_type": "stream",
     "text": [
      "\n"
     ]
    },
    {
     "name": "stderr",
     "output_type": "stream",
     "text": [
      " 46%|████▌     | 41/90 [03:30<03:58,  4.87s/it]"
     ]
    },
    {
     "name": "stdout",
     "output_type": "stream",
     "text": []
    },
    {
     "name": "stdout",
     "output_type": "stream",
     "text": [
      "\n"
     ]
    },
    {
     "name": "stderr",
     "output_type": "stream",
     "text": [
      " 47%|████▋     | 42/90 [03:33<03:29,  4.37s/it]"
     ]
    },
    {
     "name": "stdout",
     "output_type": "stream",
     "text": []
    },
    {
     "name": "stdout",
     "output_type": "stream",
     "text": [
      "\n"
     ]
    },
    {
     "name": "stderr",
     "output_type": "stream",
     "text": [
      " 48%|████▊     | 43/90 [03:39<03:44,  4.78s/it]"
     ]
    },
    {
     "name": "stdout",
     "output_type": "stream",
     "text": []
    },
    {
     "name": "stdout",
     "output_type": "stream",
     "text": [
      "\n"
     ]
    },
    {
     "name": "stderr",
     "output_type": "stream",
     "text": [
      " 49%|████▉     | 44/90 [03:44<03:45,  4.90s/it]"
     ]
    },
    {
     "name": "stdout",
     "output_type": "stream",
     "text": []
    },
    {
     "name": "stdout",
     "output_type": "stream",
     "text": [
      "\n"
     ]
    },
    {
     "name": "stderr",
     "output_type": "stream",
     "text": [
      " 50%|█████     | 45/90 [03:52<04:15,  5.68s/it]"
     ]
    },
    {
     "name": "stdout",
     "output_type": "stream",
     "text": []
    },
    {
     "name": "stdout",
     "output_type": "stream",
     "text": [
      "\n"
     ]
    },
    {
     "name": "stderr",
     "output_type": "stream",
     "text": [
      " 51%|█████     | 46/90 [03:58<04:22,  5.96s/it]"
     ]
    },
    {
     "name": "stdout",
     "output_type": "stream",
     "text": []
    },
    {
     "name": "stdout",
     "output_type": "stream",
     "text": [
      "\n"
     ]
    },
    {
     "name": "stderr",
     "output_type": "stream",
     "text": [
      " 52%|█████▏    | 47/90 [04:05<04:23,  6.13s/it]"
     ]
    },
    {
     "name": "stdout",
     "output_type": "stream",
     "text": []
    },
    {
     "name": "stdout",
     "output_type": "stream",
     "text": [
      "\n"
     ]
    },
    {
     "name": "stderr",
     "output_type": "stream",
     "text": [
      " 53%|█████▎    | 48/90 [04:08<03:47,  5.42s/it]"
     ]
    },
    {
     "name": "stdout",
     "output_type": "stream",
     "text": []
    },
    {
     "name": "stdout",
     "output_type": "stream",
     "text": [
      "\n"
     ]
    },
    {
     "name": "stderr",
     "output_type": "stream",
     "text": [
      " 54%|█████▍    | 49/90 [04:12<03:14,  4.76s/it]"
     ]
    },
    {
     "name": "stdout",
     "output_type": "stream",
     "text": []
    },
    {
     "name": "stdout",
     "output_type": "stream",
     "text": [
      "\n"
     ]
    },
    {
     "name": "stderr",
     "output_type": "stream",
     "text": [
      " 56%|█████▌    | 50/90 [04:14<02:44,  4.12s/it]"
     ]
    },
    {
     "name": "stdout",
     "output_type": "stream",
     "text": []
    },
    {
     "name": "stdout",
     "output_type": "stream",
     "text": [
      "\n"
     ]
    },
    {
     "name": "stderr",
     "output_type": "stream",
     "text": [
      " 57%|█████▋    | 51/90 [04:20<03:01,  4.65s/it]"
     ]
    },
    {
     "name": "stdout",
     "output_type": "stream",
     "text": []
    },
    {
     "name": "stdout",
     "output_type": "stream",
     "text": [
      "\n"
     ]
    },
    {
     "name": "stderr",
     "output_type": "stream",
     "text": [
      " 58%|█████▊    | 52/90 [04:26<03:06,  4.92s/it]"
     ]
    },
    {
     "name": "stdout",
     "output_type": "stream",
     "text": []
    },
    {
     "name": "stdout",
     "output_type": "stream",
     "text": [
      "\n"
     ]
    },
    {
     "name": "stderr",
     "output_type": "stream",
     "text": [
      " 59%|█████▉    | 53/90 [04:30<02:50,  4.60s/it]"
     ]
    },
    {
     "name": "stdout",
     "output_type": "stream",
     "text": []
    },
    {
     "name": "stdout",
     "output_type": "stream",
     "text": [
      "\n"
     ]
    },
    {
     "name": "stderr",
     "output_type": "stream",
     "text": [
      " 60%|██████    | 54/90 [04:34<02:45,  4.61s/it]"
     ]
    },
    {
     "name": "stdout",
     "output_type": "stream",
     "text": []
    },
    {
     "name": "stdout",
     "output_type": "stream",
     "text": [
      "\n"
     ]
    },
    {
     "name": "stderr",
     "output_type": "stream",
     "text": [
      " 61%|██████    | 55/90 [04:40<02:56,  5.05s/it]"
     ]
    },
    {
     "name": "stdout",
     "output_type": "stream",
     "text": []
    },
    {
     "name": "stdout",
     "output_type": "stream",
     "text": [
      "\n"
     ]
    },
    {
     "name": "stderr",
     "output_type": "stream",
     "text": [
      " 62%|██████▏   | 56/90 [04:46<03:00,  5.31s/it]"
     ]
    },
    {
     "name": "stdout",
     "output_type": "stream",
     "text": []
    },
    {
     "name": "stdout",
     "output_type": "stream",
     "text": [
      "\n"
     ]
    },
    {
     "name": "stderr",
     "output_type": "stream",
     "text": [
      " 63%|██████▎   | 57/90 [04:53<03:10,  5.77s/it]"
     ]
    },
    {
     "name": "stdout",
     "output_type": "stream",
     "text": []
    },
    {
     "name": "stdout",
     "output_type": "stream",
     "text": [
      "\n"
     ]
    },
    {
     "name": "stderr",
     "output_type": "stream",
     "text": [
      " 64%|██████▍   | 58/90 [04:59<03:05,  5.81s/it]"
     ]
    },
    {
     "name": "stdout",
     "output_type": "stream",
     "text": []
    },
    {
     "name": "stdout",
     "output_type": "stream",
     "text": [
      "\n"
     ]
    },
    {
     "name": "stderr",
     "output_type": "stream",
     "text": [
      " 66%|██████▌   | 59/90 [05:03<02:44,  5.32s/it]"
     ]
    },
    {
     "name": "stdout",
     "output_type": "stream",
     "text": []
    },
    {
     "name": "stdout",
     "output_type": "stream",
     "text": [
      "\n"
     ]
    },
    {
     "name": "stderr",
     "output_type": "stream",
     "text": [
      " 67%|██████▋   | 60/90 [05:07<02:24,  4.80s/it]"
     ]
    },
    {
     "name": "stdout",
     "output_type": "stream",
     "text": []
    },
    {
     "name": "stdout",
     "output_type": "stream",
     "text": [
      "\n"
     ]
    },
    {
     "name": "stderr",
     "output_type": "stream",
     "text": [
      " 68%|██████▊   | 61/90 [05:12<02:19,  4.80s/it]"
     ]
    },
    {
     "name": "stdout",
     "output_type": "stream",
     "text": []
    },
    {
     "name": "stdout",
     "output_type": "stream",
     "text": [
      "\n"
     ]
    },
    {
     "name": "stderr",
     "output_type": "stream",
     "text": [
      " 69%|██████▉   | 62/90 [05:20<02:48,  6.00s/it]"
     ]
    },
    {
     "name": "stdout",
     "output_type": "stream",
     "text": []
    },
    {
     "name": "stdout",
     "output_type": "stream",
     "text": [
      "\n"
     ]
    },
    {
     "name": "stderr",
     "output_type": "stream",
     "text": [
      " 70%|███████   | 63/90 [05:26<02:40,  5.96s/it]"
     ]
    },
    {
     "name": "stdout",
     "output_type": "stream",
     "text": []
    },
    {
     "name": "stdout",
     "output_type": "stream",
     "text": [
      "\n"
     ]
    },
    {
     "name": "stderr",
     "output_type": "stream",
     "text": [
      " 71%|███████   | 64/90 [05:31<02:27,  5.66s/it]"
     ]
    },
    {
     "name": "stdout",
     "output_type": "stream",
     "text": []
    },
    {
     "name": "stdout",
     "output_type": "stream",
     "text": [
      "\n"
     ]
    },
    {
     "name": "stderr",
     "output_type": "stream",
     "text": [
      " 72%|███████▏  | 65/90 [05:35<02:08,  5.14s/it]"
     ]
    },
    {
     "name": "stdout",
     "output_type": "stream",
     "text": []
    },
    {
     "name": "stdout",
     "output_type": "stream",
     "text": [
      "\n"
     ]
    },
    {
     "name": "stderr",
     "output_type": "stream",
     "text": [
      " 73%|███████▎  | 66/90 [05:42<02:12,  5.54s/it]"
     ]
    },
    {
     "name": "stdout",
     "output_type": "stream",
     "text": []
    },
    {
     "name": "stdout",
     "output_type": "stream",
     "text": [
      "\n"
     ]
    },
    {
     "name": "stderr",
     "output_type": "stream",
     "text": [
      " 74%|███████▍  | 67/90 [05:47<02:08,  5.59s/it]"
     ]
    },
    {
     "name": "stdout",
     "output_type": "stream",
     "text": []
    },
    {
     "name": "stdout",
     "output_type": "stream",
     "text": [
      "\n"
     ]
    },
    {
     "name": "stderr",
     "output_type": "stream",
     "text": [
      " 76%|███████▌  | 68/90 [05:52<01:54,  5.20s/it]"
     ]
    },
    {
     "name": "stdout",
     "output_type": "stream",
     "text": []
    },
    {
     "name": "stdout",
     "output_type": "stream",
     "text": [
      "\n"
     ]
    },
    {
     "name": "stderr",
     "output_type": "stream",
     "text": [
      " 77%|███████▋  | 69/90 [05:56<01:42,  4.88s/it]"
     ]
    },
    {
     "name": "stdout",
     "output_type": "stream",
     "text": []
    },
    {
     "name": "stdout",
     "output_type": "stream",
     "text": [
      "\n"
     ]
    },
    {
     "name": "stderr",
     "output_type": "stream",
     "text": [
      " 78%|███████▊  | 70/90 [06:01<01:37,  4.87s/it]"
     ]
    },
    {
     "name": "stdout",
     "output_type": "stream",
     "text": []
    },
    {
     "name": "stdout",
     "output_type": "stream",
     "text": [
      "\n"
     ]
    },
    {
     "name": "stderr",
     "output_type": "stream",
     "text": [
      " 79%|███████▉  | 71/90 [06:04<01:24,  4.43s/it]"
     ]
    },
    {
     "name": "stdout",
     "output_type": "stream",
     "text": []
    },
    {
     "name": "stdout",
     "output_type": "stream",
     "text": [
      "\n"
     ]
    },
    {
     "name": "stderr",
     "output_type": "stream",
     "text": [
      " 80%|████████  | 72/90 [06:08<01:19,  4.39s/it]"
     ]
    },
    {
     "name": "stdout",
     "output_type": "stream",
     "text": []
    },
    {
     "name": "stdout",
     "output_type": "stream",
     "text": [
      "\n"
     ]
    },
    {
     "name": "stderr",
     "output_type": "stream",
     "text": [
      " 81%|████████  | 73/90 [06:12<01:10,  4.17s/it]"
     ]
    },
    {
     "name": "stdout",
     "output_type": "stream",
     "text": []
    },
    {
     "name": "stdout",
     "output_type": "stream",
     "text": [
      "\n"
     ]
    },
    {
     "name": "stderr",
     "output_type": "stream",
     "text": [
      " 82%|████████▏ | 74/90 [06:16<01:04,  4.01s/it]"
     ]
    },
    {
     "name": "stdout",
     "output_type": "stream",
     "text": []
    },
    {
     "name": "stdout",
     "output_type": "stream",
     "text": [
      "\n"
     ]
    },
    {
     "name": "stderr",
     "output_type": "stream",
     "text": [
      " 83%|████████▎ | 75/90 [06:21<01:06,  4.43s/it]"
     ]
    },
    {
     "name": "stdout",
     "output_type": "stream",
     "text": []
    },
    {
     "name": "stdout",
     "output_type": "stream",
     "text": [
      "\n"
     ]
    },
    {
     "name": "stderr",
     "output_type": "stream",
     "text": [
      " 84%|████████▍ | 76/90 [06:26<01:04,  4.63s/it]"
     ]
    },
    {
     "name": "stdout",
     "output_type": "stream",
     "text": []
    },
    {
     "name": "stdout",
     "output_type": "stream",
     "text": [
      "\n"
     ]
    },
    {
     "name": "stderr",
     "output_type": "stream",
     "text": [
      " 86%|████████▌ | 77/90 [06:30<00:55,  4.30s/it]"
     ]
    },
    {
     "name": "stdout",
     "output_type": "stream",
     "text": []
    },
    {
     "name": "stdout",
     "output_type": "stream",
     "text": [
      "\n"
     ]
    },
    {
     "name": "stderr",
     "output_type": "stream",
     "text": [
      " 87%|████████▋ | 78/90 [06:37<01:01,  5.12s/it]"
     ]
    },
    {
     "name": "stdout",
     "output_type": "stream",
     "text": []
    },
    {
     "name": "stdout",
     "output_type": "stream",
     "text": [
      "\n"
     ]
    },
    {
     "name": "stderr",
     "output_type": "stream",
     "text": [
      " 88%|████████▊ | 79/90 [06:41<00:54,  4.98s/it]"
     ]
    },
    {
     "name": "stdout",
     "output_type": "stream",
     "text": []
    },
    {
     "name": "stdout",
     "output_type": "stream",
     "text": [
      "\n"
     ]
    },
    {
     "name": "stderr",
     "output_type": "stream",
     "text": [
      " 89%|████████▉ | 80/90 [06:46<00:48,  4.83s/it]"
     ]
    },
    {
     "name": "stdout",
     "output_type": "stream",
     "text": []
    },
    {
     "name": "stdout",
     "output_type": "stream",
     "text": [
      "\n"
     ]
    },
    {
     "name": "stderr",
     "output_type": "stream",
     "text": [
      " 90%|█████████ | 81/90 [06:50<00:40,  4.55s/it]"
     ]
    },
    {
     "name": "stdout",
     "output_type": "stream",
     "text": []
    },
    {
     "name": "stdout",
     "output_type": "stream",
     "text": [
      "\n"
     ]
    },
    {
     "name": "stderr",
     "output_type": "stream",
     "text": [
      " 91%|█████████ | 82/90 [06:53<00:33,  4.17s/it]"
     ]
    },
    {
     "name": "stdout",
     "output_type": "stream",
     "text": []
    },
    {
     "name": "stdout",
     "output_type": "stream",
     "text": [
      "\n"
     ]
    },
    {
     "name": "stderr",
     "output_type": "stream",
     "text": [
      " 92%|█████████▏| 83/90 [06:57<00:28,  4.13s/it]"
     ]
    },
    {
     "name": "stdout",
     "output_type": "stream",
     "text": []
    },
    {
     "name": "stdout",
     "output_type": "stream",
     "text": [
      "\n"
     ]
    },
    {
     "name": "stderr",
     "output_type": "stream",
     "text": [
      " 93%|█████████▎| 84/90 [07:03<00:28,  4.79s/it]"
     ]
    },
    {
     "name": "stdout",
     "output_type": "stream",
     "text": []
    },
    {
     "name": "stdout",
     "output_type": "stream",
     "text": [
      "\n"
     ]
    },
    {
     "name": "stderr",
     "output_type": "stream",
     "text": [
      " 94%|█████████▍| 85/90 [07:08<00:24,  4.90s/it]"
     ]
    },
    {
     "name": "stdout",
     "output_type": "stream",
     "text": []
    },
    {
     "name": "stdout",
     "output_type": "stream",
     "text": [
      "\n"
     ]
    },
    {
     "name": "stderr",
     "output_type": "stream",
     "text": [
      " 96%|█████████▌| 86/90 [07:17<00:24,  6.10s/it]"
     ]
    },
    {
     "name": "stdout",
     "output_type": "stream",
     "text": []
    },
    {
     "name": "stdout",
     "output_type": "stream",
     "text": [
      "\n"
     ]
    },
    {
     "name": "stderr",
     "output_type": "stream",
     "text": [
      " 97%|█████████▋| 87/90 [07:21<00:16,  5.42s/it]"
     ]
    },
    {
     "name": "stdout",
     "output_type": "stream",
     "text": []
    },
    {
     "name": "stdout",
     "output_type": "stream",
     "text": [
      "\n"
     ]
    },
    {
     "name": "stderr",
     "output_type": "stream",
     "text": [
      " 98%|█████████▊| 88/90 [07:25<00:09,  4.97s/it]"
     ]
    },
    {
     "name": "stdout",
     "output_type": "stream",
     "text": []
    },
    {
     "name": "stdout",
     "output_type": "stream",
     "text": [
      "\n"
     ]
    },
    {
     "name": "stderr",
     "output_type": "stream",
     "text": [
      " 99%|█████████▉| 89/90 [07:29<00:04,  4.79s/it]"
     ]
    },
    {
     "name": "stdout",
     "output_type": "stream",
     "text": []
    },
    {
     "name": "stdout",
     "output_type": "stream",
     "text": [
      "\n"
     ]
    },
    {
     "name": "stderr",
     "output_type": "stream",
     "text": [
      "100%|██████████| 90/90 [07:34<00:00,  4.72s/it]\n",
      "  0%|          | 0/90 [00:00<?, ?it/s]"
     ]
    },
    {
     "name": "stdout",
     "output_type": "stream",
     "text": []
    },
    {
     "name": "stdout",
     "output_type": "stream",
     "text": [
      "\n"
     ]
    },
    {
     "name": "stderr",
     "output_type": "stream",
     "text": [
      "  1%|          | 1/90 [00:03<05:10,  3.49s/it]"
     ]
    },
    {
     "name": "stdout",
     "output_type": "stream",
     "text": []
    },
    {
     "name": "stdout",
     "output_type": "stream",
     "text": [
      "\n"
     ]
    },
    {
     "name": "stderr",
     "output_type": "stream",
     "text": [
      "  2%|▏         | 2/90 [00:08<05:45,  3.93s/it]"
     ]
    },
    {
     "name": "stdout",
     "output_type": "stream",
     "text": []
    },
    {
     "name": "stdout",
     "output_type": "stream",
     "text": [
      "\n"
     ]
    },
    {
     "name": "stderr",
     "output_type": "stream",
     "text": [
      "  3%|▎         | 3/90 [00:11<05:29,  3.79s/it]"
     ]
    },
    {
     "name": "stdout",
     "output_type": "stream",
     "text": []
    },
    {
     "name": "stdout",
     "output_type": "stream",
     "text": [
      "\n"
     ]
    },
    {
     "name": "stderr",
     "output_type": "stream",
     "text": [
      "  4%|▍         | 4/90 [00:24<09:04,  6.34s/it]"
     ]
    },
    {
     "name": "stdout",
     "output_type": "stream",
     "text": []
    },
    {
     "name": "stdout",
     "output_type": "stream",
     "text": [
      "\n"
     ]
    },
    {
     "name": "stderr",
     "output_type": "stream",
     "text": [
      "  6%|▌         | 5/90 [00:29<08:24,  5.93s/it]"
     ]
    },
    {
     "name": "stdout",
     "output_type": "stream",
     "text": []
    },
    {
     "name": "stdout",
     "output_type": "stream",
     "text": [
      "\n"
     ]
    },
    {
     "name": "stderr",
     "output_type": "stream",
     "text": [
      "  7%|▋         | 6/90 [00:32<07:24,  5.30s/it]"
     ]
    },
    {
     "name": "stdout",
     "output_type": "stream",
     "text": []
    },
    {
     "name": "stdout",
     "output_type": "stream",
     "text": [
      "\n"
     ]
    },
    {
     "name": "stderr",
     "output_type": "stream",
     "text": [
      "  8%|▊         | 7/90 [00:37<06:54,  5.00s/it]"
     ]
    },
    {
     "name": "stdout",
     "output_type": "stream",
     "text": []
    },
    {
     "name": "stdout",
     "output_type": "stream",
     "text": [
      "\n"
     ]
    },
    {
     "name": "stderr",
     "output_type": "stream",
     "text": [
      "  9%|▉         | 8/90 [00:43<07:11,  5.26s/it]"
     ]
    },
    {
     "name": "stdout",
     "output_type": "stream",
     "text": []
    },
    {
     "name": "stdout",
     "output_type": "stream",
     "text": [
      "\n"
     ]
    },
    {
     "name": "stderr",
     "output_type": "stream",
     "text": [
      " 10%|█         | 9/90 [00:47<06:47,  5.03s/it]"
     ]
    },
    {
     "name": "stdout",
     "output_type": "stream",
     "text": []
    },
    {
     "name": "stdout",
     "output_type": "stream",
     "text": [
      "\n"
     ]
    },
    {
     "name": "stderr",
     "output_type": "stream",
     "text": [
      " 11%|█         | 10/90 [00:52<06:28,  4.86s/it]"
     ]
    },
    {
     "name": "stdout",
     "output_type": "stream",
     "text": []
    },
    {
     "name": "stdout",
     "output_type": "stream",
     "text": [
      "\n"
     ]
    },
    {
     "name": "stderr",
     "output_type": "stream",
     "text": [
      " 12%|█▏        | 11/90 [00:57<06:46,  5.14s/it]"
     ]
    },
    {
     "name": "stdout",
     "output_type": "stream",
     "text": []
    },
    {
     "name": "stdout",
     "output_type": "stream",
     "text": [
      "\n"
     ]
    },
    {
     "name": "stderr",
     "output_type": "stream",
     "text": [
      " 13%|█▎        | 12/90 [01:01<06:14,  4.81s/it]"
     ]
    },
    {
     "name": "stdout",
     "output_type": "stream",
     "text": []
    },
    {
     "name": "stdout",
     "output_type": "stream",
     "text": [
      "\n"
     ]
    },
    {
     "name": "stderr",
     "output_type": "stream",
     "text": [
      " 14%|█▍        | 13/90 [01:07<06:22,  4.96s/it]"
     ]
    },
    {
     "name": "stdout",
     "output_type": "stream",
     "text": []
    },
    {
     "name": "stdout",
     "output_type": "stream",
     "text": [
      "\n"
     ]
    },
    {
     "name": "stderr",
     "output_type": "stream",
     "text": [
      " 16%|█▌        | 14/90 [01:12<06:31,  5.15s/it]"
     ]
    },
    {
     "name": "stdout",
     "output_type": "stream",
     "text": []
    },
    {
     "name": "stdout",
     "output_type": "stream",
     "text": [
      "\n"
     ]
    },
    {
     "name": "stderr",
     "output_type": "stream",
     "text": [
      " 17%|█▋        | 15/90 [01:17<06:25,  5.14s/it]"
     ]
    },
    {
     "name": "stdout",
     "output_type": "stream",
     "text": []
    },
    {
     "name": "stdout",
     "output_type": "stream",
     "text": [
      "\n"
     ]
    },
    {
     "name": "stderr",
     "output_type": "stream",
     "text": [
      " 18%|█▊        | 16/90 [01:23<06:25,  5.21s/it]"
     ]
    },
    {
     "name": "stdout",
     "output_type": "stream",
     "text": []
    },
    {
     "name": "stdout",
     "output_type": "stream",
     "text": [
      "\n"
     ]
    },
    {
     "name": "stderr",
     "output_type": "stream",
     "text": [
      " 19%|█▉        | 17/90 [01:29<06:34,  5.41s/it]"
     ]
    },
    {
     "name": "stdout",
     "output_type": "stream",
     "text": []
    },
    {
     "name": "stdout",
     "output_type": "stream",
     "text": [
      "\n"
     ]
    },
    {
     "name": "stderr",
     "output_type": "stream",
     "text": [
      " 20%|██        | 18/90 [01:33<06:02,  5.04s/it]"
     ]
    },
    {
     "name": "stdout",
     "output_type": "stream",
     "text": []
    },
    {
     "name": "stdout",
     "output_type": "stream",
     "text": [
      "\n"
     ]
    },
    {
     "name": "stderr",
     "output_type": "stream",
     "text": [
      " 21%|██        | 19/90 [01:39<06:25,  5.42s/it]"
     ]
    },
    {
     "name": "stdout",
     "output_type": "stream",
     "text": []
    },
    {
     "name": "stdout",
     "output_type": "stream",
     "text": [
      "\n"
     ]
    },
    {
     "name": "stderr",
     "output_type": "stream",
     "text": [
      " 22%|██▏       | 20/90 [01:43<05:53,  5.05s/it]"
     ]
    },
    {
     "name": "stdout",
     "output_type": "stream",
     "text": []
    },
    {
     "name": "stdout",
     "output_type": "stream",
     "text": [
      "\n"
     ]
    },
    {
     "name": "stderr",
     "output_type": "stream",
     "text": [
      " 23%|██▎       | 21/90 [01:47<05:17,  4.61s/it]"
     ]
    },
    {
     "name": "stdout",
     "output_type": "stream",
     "text": []
    },
    {
     "name": "stdout",
     "output_type": "stream",
     "text": [
      "\n"
     ]
    },
    {
     "name": "stderr",
     "output_type": "stream",
     "text": [
      " 24%|██▍       | 22/90 [01:50<04:49,  4.26s/it]"
     ]
    },
    {
     "name": "stdout",
     "output_type": "stream",
     "text": []
    },
    {
     "name": "stdout",
     "output_type": "stream",
     "text": [
      "\n"
     ]
    },
    {
     "name": "stderr",
     "output_type": "stream",
     "text": [
      " 26%|██▌       | 23/90 [01:55<04:48,  4.31s/it]"
     ]
    },
    {
     "name": "stdout",
     "output_type": "stream",
     "text": []
    },
    {
     "name": "stdout",
     "output_type": "stream",
     "text": [
      "\n"
     ]
    },
    {
     "name": "stderr",
     "output_type": "stream",
     "text": [
      " 27%|██▋       | 24/90 [01:58<04:30,  4.11s/it]"
     ]
    },
    {
     "name": "stdout",
     "output_type": "stream",
     "text": []
    },
    {
     "name": "stdout",
     "output_type": "stream",
     "text": [
      "\n"
     ]
    },
    {
     "name": "stderr",
     "output_type": "stream",
     "text": [
      " 28%|██▊       | 25/90 [02:02<04:24,  4.07s/it]"
     ]
    },
    {
     "name": "stdout",
     "output_type": "stream",
     "text": []
    },
    {
     "name": "stdout",
     "output_type": "stream",
     "text": [
      "\n"
     ]
    },
    {
     "name": "stderr",
     "output_type": "stream",
     "text": [
      " 29%|██▉       | 26/90 [02:09<05:11,  4.86s/it]"
     ]
    },
    {
     "name": "stdout",
     "output_type": "stream",
     "text": []
    },
    {
     "name": "stdout",
     "output_type": "stream",
     "text": [
      "\n"
     ]
    },
    {
     "name": "stderr",
     "output_type": "stream",
     "text": [
      " 30%|███       | 27/90 [02:15<05:25,  5.16s/it]"
     ]
    },
    {
     "name": "stdout",
     "output_type": "stream",
     "text": []
    },
    {
     "name": "stdout",
     "output_type": "stream",
     "text": [
      "\n"
     ]
    },
    {
     "name": "stderr",
     "output_type": "stream",
     "text": [
      " 31%|███       | 28/90 [02:21<05:43,  5.54s/it]"
     ]
    },
    {
     "name": "stdout",
     "output_type": "stream",
     "text": []
    },
    {
     "name": "stdout",
     "output_type": "stream",
     "text": [
      "\n"
     ]
    },
    {
     "name": "stderr",
     "output_type": "stream",
     "text": [
      " 32%|███▏      | 29/90 [02:28<06:03,  5.97s/it]"
     ]
    },
    {
     "name": "stdout",
     "output_type": "stream",
     "text": []
    },
    {
     "name": "stdout",
     "output_type": "stream",
     "text": [
      "\n"
     ]
    },
    {
     "name": "stderr",
     "output_type": "stream",
     "text": [
      " 33%|███▎      | 30/90 [02:33<05:34,  5.57s/it]"
     ]
    },
    {
     "name": "stdout",
     "output_type": "stream",
     "text": []
    },
    {
     "name": "stdout",
     "output_type": "stream",
     "text": [
      "\n"
     ]
    },
    {
     "name": "stderr",
     "output_type": "stream",
     "text": [
      " 34%|███▍      | 31/90 [02:40<05:52,  5.97s/it]"
     ]
    },
    {
     "name": "stdout",
     "output_type": "stream",
     "text": []
    },
    {
     "name": "stdout",
     "output_type": "stream",
     "text": [
      "\n"
     ]
    },
    {
     "name": "stderr",
     "output_type": "stream",
     "text": [
      " 36%|███▌      | 32/90 [02:43<05:01,  5.20s/it]"
     ]
    },
    {
     "name": "stdout",
     "output_type": "stream",
     "text": []
    },
    {
     "name": "stdout",
     "output_type": "stream",
     "text": [
      "\n"
     ]
    },
    {
     "name": "stderr",
     "output_type": "stream",
     "text": [
      " 37%|███▋      | 33/90 [02:50<05:19,  5.61s/it]"
     ]
    },
    {
     "name": "stdout",
     "output_type": "stream",
     "text": []
    },
    {
     "name": "stdout",
     "output_type": "stream",
     "text": [
      "\n"
     ]
    },
    {
     "name": "stderr",
     "output_type": "stream",
     "text": [
      " 38%|███▊      | 34/90 [02:55<05:10,  5.54s/it]"
     ]
    },
    {
     "name": "stdout",
     "output_type": "stream",
     "text": []
    },
    {
     "name": "stdout",
     "output_type": "stream",
     "text": [
      "\n"
     ]
    },
    {
     "name": "stderr",
     "output_type": "stream",
     "text": [
      " 39%|███▉      | 35/90 [03:01<05:08,  5.61s/it]"
     ]
    },
    {
     "name": "stdout",
     "output_type": "stream",
     "text": []
    },
    {
     "name": "stdout",
     "output_type": "stream",
     "text": [
      "\n"
     ]
    },
    {
     "name": "stderr",
     "output_type": "stream",
     "text": [
      " 40%|████      | 36/90 [03:05<04:35,  5.09s/it]"
     ]
    },
    {
     "name": "stdout",
     "output_type": "stream",
     "text": []
    },
    {
     "name": "stdout",
     "output_type": "stream",
     "text": [
      "\n"
     ]
    },
    {
     "name": "stderr",
     "output_type": "stream",
     "text": [
      " 41%|████      | 37/90 [03:09<04:18,  4.87s/it]"
     ]
    },
    {
     "name": "stdout",
     "output_type": "stream",
     "text": []
    },
    {
     "name": "stdout",
     "output_type": "stream",
     "text": [
      "\n"
     ]
    },
    {
     "name": "stderr",
     "output_type": "stream",
     "text": [
      " 42%|████▏     | 38/90 [03:18<05:13,  6.03s/it]"
     ]
    },
    {
     "name": "stdout",
     "output_type": "stream",
     "text": []
    },
    {
     "name": "stdout",
     "output_type": "stream",
     "text": [
      "\n"
     ]
    },
    {
     "name": "stderr",
     "output_type": "stream",
     "text": [
      " 43%|████▎     | 39/90 [03:23<04:57,  5.83s/it]"
     ]
    },
    {
     "name": "stdout",
     "output_type": "stream",
     "text": []
    },
    {
     "name": "stdout",
     "output_type": "stream",
     "text": [
      "\n"
     ]
    },
    {
     "name": "stderr",
     "output_type": "stream",
     "text": [
      " 44%|████▍     | 40/90 [03:30<05:05,  6.11s/it]"
     ]
    },
    {
     "name": "stdout",
     "output_type": "stream",
     "text": []
    },
    {
     "name": "stdout",
     "output_type": "stream",
     "text": [
      "\n"
     ]
    },
    {
     "name": "stderr",
     "output_type": "stream",
     "text": [
      " 46%|████▌     | 41/90 [03:37<05:08,  6.29s/it]"
     ]
    },
    {
     "name": "stdout",
     "output_type": "stream",
     "text": []
    },
    {
     "name": "stdout",
     "output_type": "stream",
     "text": [
      "\n"
     ]
    },
    {
     "name": "stderr",
     "output_type": "stream",
     "text": [
      " 47%|████▋     | 42/90 [03:41<04:30,  5.64s/it]"
     ]
    },
    {
     "name": "stdout",
     "output_type": "stream",
     "text": []
    },
    {
     "name": "stdout",
     "output_type": "stream",
     "text": [
      "\n"
     ]
    },
    {
     "name": "stderr",
     "output_type": "stream",
     "text": [
      " 48%|████▊     | 43/90 [03:47<04:32,  5.80s/it]"
     ]
    },
    {
     "name": "stdout",
     "output_type": "stream",
     "text": []
    },
    {
     "name": "stdout",
     "output_type": "stream",
     "text": [
      "\n"
     ]
    },
    {
     "name": "stderr",
     "output_type": "stream",
     "text": [
      " 49%|████▉     | 44/90 [03:50<03:49,  4.98s/it]"
     ]
    },
    {
     "name": "stdout",
     "output_type": "stream",
     "text": []
    },
    {
     "name": "stdout",
     "output_type": "stream",
     "text": [
      "\n"
     ]
    },
    {
     "name": "stderr",
     "output_type": "stream",
     "text": [
      " 50%|█████     | 45/90 [03:54<03:29,  4.65s/it]"
     ]
    },
    {
     "name": "stdout",
     "output_type": "stream",
     "text": []
    },
    {
     "name": "stdout",
     "output_type": "stream",
     "text": [
      "\n"
     ]
    },
    {
     "name": "stderr",
     "output_type": "stream",
     "text": [
      " 51%|█████     | 46/90 [03:59<03:27,  4.73s/it]"
     ]
    },
    {
     "name": "stdout",
     "output_type": "stream",
     "text": []
    },
    {
     "name": "stdout",
     "output_type": "stream",
     "text": [
      "\n"
     ]
    },
    {
     "name": "stderr",
     "output_type": "stream",
     "text": [
      " 52%|█████▏    | 47/90 [04:05<03:41,  5.14s/it]"
     ]
    },
    {
     "name": "stdout",
     "output_type": "stream",
     "text": []
    },
    {
     "name": "stdout",
     "output_type": "stream",
     "text": [
      "\n"
     ]
    },
    {
     "name": "stderr",
     "output_type": "stream",
     "text": [
      " 53%|█████▎    | 48/90 [04:11<03:46,  5.40s/it]"
     ]
    },
    {
     "name": "stdout",
     "output_type": "stream",
     "text": []
    },
    {
     "name": "stdout",
     "output_type": "stream",
     "text": [
      "\n"
     ]
    },
    {
     "name": "stderr",
     "output_type": "stream",
     "text": [
      " 54%|█████▍    | 49/90 [04:15<03:25,  5.00s/it]"
     ]
    },
    {
     "name": "stdout",
     "output_type": "stream",
     "text": []
    },
    {
     "name": "stdout",
     "output_type": "stream",
     "text": [
      "\n"
     ]
    },
    {
     "name": "stderr",
     "output_type": "stream",
     "text": [
      " 56%|█████▌    | 50/90 [04:22<03:44,  5.60s/it]"
     ]
    },
    {
     "name": "stdout",
     "output_type": "stream",
     "text": []
    },
    {
     "name": "stdout",
     "output_type": "stream",
     "text": [
      "\n"
     ]
    },
    {
     "name": "stderr",
     "output_type": "stream",
     "text": [
      " 57%|█████▋    | 51/90 [04:27<03:31,  5.42s/it]"
     ]
    },
    {
     "name": "stdout",
     "output_type": "stream",
     "text": []
    },
    {
     "name": "stdout",
     "output_type": "stream",
     "text": [
      "\n"
     ]
    },
    {
     "name": "stderr",
     "output_type": "stream",
     "text": [
      " 58%|█████▊    | 52/90 [04:32<03:18,  5.23s/it]"
     ]
    },
    {
     "name": "stdout",
     "output_type": "stream",
     "text": []
    },
    {
     "name": "stdout",
     "output_type": "stream",
     "text": [
      "\n"
     ]
    },
    {
     "name": "stderr",
     "output_type": "stream",
     "text": [
      " 59%|█████▉    | 53/90 [04:37<03:12,  5.21s/it]"
     ]
    },
    {
     "name": "stdout",
     "output_type": "stream",
     "text": []
    },
    {
     "name": "stdout",
     "output_type": "stream",
     "text": [
      "\n"
     ]
    },
    {
     "name": "stderr",
     "output_type": "stream",
     "text": [
      " 60%|██████    | 54/90 [04:41<02:57,  4.92s/it]"
     ]
    },
    {
     "name": "stdout",
     "output_type": "stream",
     "text": []
    },
    {
     "name": "stdout",
     "output_type": "stream",
     "text": [
      "\n"
     ]
    },
    {
     "name": "stderr",
     "output_type": "stream",
     "text": [
      " 61%|██████    | 55/90 [04:49<03:17,  5.65s/it]"
     ]
    },
    {
     "name": "stdout",
     "output_type": "stream",
     "text": []
    },
    {
     "name": "stdout",
     "output_type": "stream",
     "text": [
      "\n"
     ]
    },
    {
     "name": "stderr",
     "output_type": "stream",
     "text": [
      " 62%|██████▏   | 56/90 [04:54<03:06,  5.49s/it]"
     ]
    },
    {
     "name": "stdout",
     "output_type": "stream",
     "text": []
    },
    {
     "name": "stdout",
     "output_type": "stream",
     "text": [
      "\n"
     ]
    },
    {
     "name": "stderr",
     "output_type": "stream",
     "text": [
      " 63%|██████▎   | 57/90 [04:57<02:42,  4.91s/it]"
     ]
    },
    {
     "name": "stdout",
     "output_type": "stream",
     "text": []
    },
    {
     "name": "stdout",
     "output_type": "stream",
     "text": [
      "\n"
     ]
    },
    {
     "name": "stderr",
     "output_type": "stream",
     "text": [
      " 64%|██████▍   | 58/90 [05:01<02:27,  4.60s/it]"
     ]
    },
    {
     "name": "stdout",
     "output_type": "stream",
     "text": []
    },
    {
     "name": "stdout",
     "output_type": "stream",
     "text": [
      "\n"
     ]
    },
    {
     "name": "stderr",
     "output_type": "stream",
     "text": [
      " 66%|██████▌   | 59/90 [05:08<02:40,  5.17s/it]"
     ]
    },
    {
     "name": "stdout",
     "output_type": "stream",
     "text": []
    },
    {
     "name": "stdout",
     "output_type": "stream",
     "text": [
      "\n"
     ]
    },
    {
     "name": "stderr",
     "output_type": "stream",
     "text": [
      " 67%|██████▋   | 60/90 [05:11<02:21,  4.71s/it]"
     ]
    },
    {
     "name": "stdout",
     "output_type": "stream",
     "text": []
    },
    {
     "name": "stdout",
     "output_type": "stream",
     "text": [
      "\n"
     ]
    },
    {
     "name": "stderr",
     "output_type": "stream",
     "text": [
      " 68%|██████▊   | 61/90 [05:17<02:20,  4.86s/it]"
     ]
    },
    {
     "name": "stdout",
     "output_type": "stream",
     "text": []
    },
    {
     "name": "stdout",
     "output_type": "stream",
     "text": [
      "\n"
     ]
    },
    {
     "name": "stderr",
     "output_type": "stream",
     "text": [
      " 69%|██████▉   | 62/90 [05:21<02:07,  4.55s/it]"
     ]
    },
    {
     "name": "stdout",
     "output_type": "stream",
     "text": []
    },
    {
     "name": "stdout",
     "output_type": "stream",
     "text": [
      "\n"
     ]
    },
    {
     "name": "stderr",
     "output_type": "stream",
     "text": [
      " 70%|███████   | 63/90 [05:25<02:01,  4.49s/it]"
     ]
    },
    {
     "name": "stdout",
     "output_type": "stream",
     "text": []
    },
    {
     "name": "stdout",
     "output_type": "stream",
     "text": [
      "\n"
     ]
    },
    {
     "name": "stderr",
     "output_type": "stream",
     "text": [
      " 71%|███████   | 64/90 [05:30<02:04,  4.78s/it]"
     ]
    },
    {
     "name": "stdout",
     "output_type": "stream",
     "text": []
    },
    {
     "name": "stdout",
     "output_type": "stream",
     "text": [
      "\n"
     ]
    },
    {
     "name": "stderr",
     "output_type": "stream",
     "text": [
      " 72%|███████▏  | 65/90 [05:35<01:57,  4.70s/it]"
     ]
    },
    {
     "name": "stdout",
     "output_type": "stream",
     "text": []
    },
    {
     "name": "stdout",
     "output_type": "stream",
     "text": [
      "\n"
     ]
    },
    {
     "name": "stderr",
     "output_type": "stream",
     "text": [
      " 73%|███████▎  | 66/90 [05:38<01:44,  4.37s/it]"
     ]
    },
    {
     "name": "stdout",
     "output_type": "stream",
     "text": []
    },
    {
     "name": "stdout",
     "output_type": "stream",
     "text": [
      "\n"
     ]
    },
    {
     "name": "stderr",
     "output_type": "stream",
     "text": [
      " 74%|███████▍  | 67/90 [05:43<01:38,  4.29s/it]"
     ]
    },
    {
     "name": "stdout",
     "output_type": "stream",
     "text": []
    },
    {
     "name": "stdout",
     "output_type": "stream",
     "text": [
      "\n"
     ]
    },
    {
     "name": "stderr",
     "output_type": "stream",
     "text": [
      " 76%|███████▌  | 68/90 [05:47<01:32,  4.23s/it]"
     ]
    },
    {
     "name": "stdout",
     "output_type": "stream",
     "text": []
    },
    {
     "name": "stdout",
     "output_type": "stream",
     "text": [
      "\n"
     ]
    },
    {
     "name": "stderr",
     "output_type": "stream",
     "text": [
      " 77%|███████▋  | 69/90 [05:51<01:29,  4.26s/it]"
     ]
    },
    {
     "name": "stdout",
     "output_type": "stream",
     "text": []
    },
    {
     "name": "stdout",
     "output_type": "stream",
     "text": [
      "\n"
     ]
    },
    {
     "name": "stderr",
     "output_type": "stream",
     "text": [
      " 78%|███████▊  | 70/90 [05:57<01:34,  4.74s/it]"
     ]
    },
    {
     "name": "stdout",
     "output_type": "stream",
     "text": []
    },
    {
     "name": "stdout",
     "output_type": "stream",
     "text": [
      "\n"
     ]
    },
    {
     "name": "stderr",
     "output_type": "stream",
     "text": [
      " 79%|███████▉  | 71/90 [06:02<01:32,  4.87s/it]"
     ]
    },
    {
     "name": "stdout",
     "output_type": "stream",
     "text": []
    },
    {
     "name": "stdout",
     "output_type": "stream",
     "text": [
      "\n"
     ]
    },
    {
     "name": "stderr",
     "output_type": "stream",
     "text": [
      " 80%|████████  | 72/90 [06:05<01:17,  4.32s/it]"
     ]
    },
    {
     "name": "stdout",
     "output_type": "stream",
     "text": []
    },
    {
     "name": "stdout",
     "output_type": "stream",
     "text": [
      "\n"
     ]
    },
    {
     "name": "stderr",
     "output_type": "stream",
     "text": [
      " 81%|████████  | 73/90 [06:12<01:29,  5.25s/it]"
     ]
    },
    {
     "name": "stdout",
     "output_type": "stream",
     "text": []
    },
    {
     "name": "stdout",
     "output_type": "stream",
     "text": [
      "\n"
     ]
    },
    {
     "name": "stderr",
     "output_type": "stream",
     "text": [
      " 82%|████████▏ | 74/90 [06:15<01:13,  4.56s/it]"
     ]
    },
    {
     "name": "stdout",
     "output_type": "stream",
     "text": []
    },
    {
     "name": "stdout",
     "output_type": "stream",
     "text": [
      "\n"
     ]
    },
    {
     "name": "stderr",
     "output_type": "stream",
     "text": [
      " 83%|████████▎ | 75/90 [06:24<01:25,  5.72s/it]"
     ]
    },
    {
     "name": "stdout",
     "output_type": "stream",
     "text": []
    },
    {
     "name": "stdout",
     "output_type": "stream",
     "text": [
      "\n"
     ]
    },
    {
     "name": "stderr",
     "output_type": "stream",
     "text": [
      " 84%|████████▍ | 76/90 [06:29<01:18,  5.61s/it]"
     ]
    },
    {
     "name": "stdout",
     "output_type": "stream",
     "text": []
    },
    {
     "name": "stdout",
     "output_type": "stream",
     "text": [
      "\n"
     ]
    },
    {
     "name": "stderr",
     "output_type": "stream",
     "text": [
      " 86%|████████▌ | 77/90 [06:33<01:04,  4.94s/it]"
     ]
    },
    {
     "name": "stdout",
     "output_type": "stream",
     "text": []
    },
    {
     "name": "stdout",
     "output_type": "stream",
     "text": [
      "\n"
     ]
    },
    {
     "name": "stderr",
     "output_type": "stream",
     "text": [
      " 87%|████████▋ | 78/90 [06:38<01:01,  5.10s/it]"
     ]
    },
    {
     "name": "stdout",
     "output_type": "stream",
     "text": []
    },
    {
     "name": "stdout",
     "output_type": "stream",
     "text": [
      "\n"
     ]
    },
    {
     "name": "stderr",
     "output_type": "stream",
     "text": [
      " 88%|████████▊ | 79/90 [06:45<01:00,  5.54s/it]"
     ]
    },
    {
     "name": "stdout",
     "output_type": "stream",
     "text": []
    },
    {
     "name": "stdout",
     "output_type": "stream",
     "text": [
      "\n"
     ]
    },
    {
     "name": "stderr",
     "output_type": "stream",
     "text": [
      " 89%|████████▉ | 80/90 [06:50<00:54,  5.50s/it]"
     ]
    },
    {
     "name": "stdout",
     "output_type": "stream",
     "text": []
    },
    {
     "name": "stdout",
     "output_type": "stream",
     "text": [
      "\n"
     ]
    },
    {
     "name": "stderr",
     "output_type": "stream",
     "text": [
      " 90%|█████████ | 81/90 [06:55<00:47,  5.31s/it]"
     ]
    },
    {
     "name": "stdout",
     "output_type": "stream",
     "text": []
    },
    {
     "name": "stdout",
     "output_type": "stream",
     "text": [
      "\n"
     ]
    },
    {
     "name": "stderr",
     "output_type": "stream",
     "text": [
      " 91%|█████████ | 82/90 [07:03<00:48,  6.08s/it]"
     ]
    },
    {
     "name": "stdout",
     "output_type": "stream",
     "text": []
    },
    {
     "name": "stdout",
     "output_type": "stream",
     "text": [
      "\n"
     ]
    },
    {
     "name": "stderr",
     "output_type": "stream",
     "text": [
      " 92%|█████████▏| 83/90 [07:07<00:39,  5.63s/it]"
     ]
    },
    {
     "name": "stdout",
     "output_type": "stream",
     "text": []
    },
    {
     "name": "stdout",
     "output_type": "stream",
     "text": [
      "\n"
     ]
    },
    {
     "name": "stderr",
     "output_type": "stream",
     "text": [
      " 93%|█████████▎| 84/90 [2:07:12<3:36:31, 2165.25s/it]"
     ]
    },
    {
     "name": "stdout",
     "output_type": "stream",
     "text": []
    },
    {
     "name": "stdout",
     "output_type": "stream",
     "text": [
      "\n"
     ]
    },
    {
     "name": "stderr",
     "output_type": "stream",
     "text": [
      " 94%|█████████▍| 85/90 [2:07:17<2:06:26, 1517.36s/it]"
     ]
    },
    {
     "name": "stdout",
     "output_type": "stream",
     "text": []
    },
    {
     "name": "stdout",
     "output_type": "stream",
     "text": [
      "\n"
     ]
    },
    {
     "name": "stderr",
     "output_type": "stream",
     "text": [
      " 96%|█████████▌| 86/90 [2:07:23<1:10:54, 1063.72s/it]"
     ]
    },
    {
     "name": "stdout",
     "output_type": "stream",
     "text": []
    },
    {
     "name": "stdout",
     "output_type": "stream",
     "text": [
      "\n"
     ]
    },
    {
     "name": "stderr",
     "output_type": "stream",
     "text": [
      " 97%|█████████▋| 87/90 [3:23:30<1:45:44, 2114.95s/it]"
     ]
    },
    {
     "name": "stdout",
     "output_type": "stream",
     "text": []
    },
    {
     "name": "stdout",
     "output_type": "stream",
     "text": [
      "\n"
     ]
    },
    {
     "name": "stderr",
     "output_type": "stream",
     "text": [
      " 98%|█████████▊| 88/90 [3:23:34<49:23, 1481.62s/it]  "
     ]
    },
    {
     "name": "stdout",
     "output_type": "stream",
     "text": []
    },
    {
     "name": "stdout",
     "output_type": "stream",
     "text": [
      "\n"
     ]
    },
    {
     "name": "stderr",
     "output_type": "stream",
     "text": [
      " 99%|█████████▉| 89/90 [3:23:37<17:18, 1038.11s/it]"
     ]
    },
    {
     "name": "stdout",
     "output_type": "stream",
     "text": []
    },
    {
     "name": "stdout",
     "output_type": "stream",
     "text": [
      "\n"
     ]
    },
    {
     "name": "stderr",
     "output_type": "stream",
     "text": [
      "100%|██████████| 90/90 [3:23:41<00:00, 727.80s/it] \n",
      "  0%|          | 0/90 [00:00<?, ?it/s]"
     ]
    },
    {
     "name": "stdout",
     "output_type": "stream",
     "text": []
    },
    {
     "name": "stdout",
     "output_type": "stream",
     "text": [
      "\n"
     ]
    },
    {
     "name": "stderr",
     "output_type": "stream",
     "text": [
      "  1%|          | 1/90 [00:05<08:16,  5.58s/it]"
     ]
    },
    {
     "name": "stdout",
     "output_type": "stream",
     "text": []
    },
    {
     "name": "stdout",
     "output_type": "stream",
     "text": [
      "\n"
     ]
    },
    {
     "name": "stderr",
     "output_type": "stream",
     "text": [
      "  2%|▏         | 2/90 [00:09<07:38,  5.21s/it]"
     ]
    },
    {
     "name": "stdout",
     "output_type": "stream",
     "text": []
    },
    {
     "name": "stdout",
     "output_type": "stream",
     "text": [
      "\n"
     ]
    },
    {
     "name": "stderr",
     "output_type": "stream",
     "text": [
      "  3%|▎         | 3/90 [00:15<07:50,  5.41s/it]"
     ]
    },
    {
     "name": "stdout",
     "output_type": "stream",
     "text": []
    },
    {
     "name": "stdout",
     "output_type": "stream",
     "text": [
      "\n"
     ]
    },
    {
     "name": "stderr",
     "output_type": "stream",
     "text": [
      "  4%|▍         | 4/90 [00:21<07:47,  5.44s/it]"
     ]
    },
    {
     "name": "stdout",
     "output_type": "stream",
     "text": []
    },
    {
     "name": "stdout",
     "output_type": "stream",
     "text": [
      "\n"
     ]
    },
    {
     "name": "stderr",
     "output_type": "stream",
     "text": [
      "  6%|▌         | 5/90 [00:27<07:58,  5.63s/it]"
     ]
    },
    {
     "name": "stdout",
     "output_type": "stream",
     "text": []
    },
    {
     "name": "stdout",
     "output_type": "stream",
     "text": [
      "\n"
     ]
    },
    {
     "name": "stderr",
     "output_type": "stream",
     "text": [
      "  7%|▋         | 6/90 [00:31<07:08,  5.10s/it]"
     ]
    },
    {
     "name": "stdout",
     "output_type": "stream",
     "text": []
    },
    {
     "name": "stdout",
     "output_type": "stream",
     "text": [
      "\n"
     ]
    },
    {
     "name": "stderr",
     "output_type": "stream",
     "text": [
      "  8%|▊         | 7/90 [00:34<06:22,  4.61s/it]"
     ]
    },
    {
     "name": "stdout",
     "output_type": "stream",
     "text": []
    },
    {
     "name": "stdout",
     "output_type": "stream",
     "text": [
      "\n"
     ]
    },
    {
     "name": "stderr",
     "output_type": "stream",
     "text": [
      "  9%|▉         | 8/90 [00:38<05:55,  4.33s/it]"
     ]
    },
    {
     "name": "stdout",
     "output_type": "stream",
     "text": []
    },
    {
     "name": "stdout",
     "output_type": "stream",
     "text": [
      "\n"
     ]
    },
    {
     "name": "stderr",
     "output_type": "stream",
     "text": [
      " 10%|█         | 9/90 [00:42<05:40,  4.21s/it]"
     ]
    },
    {
     "name": "stdout",
     "output_type": "stream",
     "text": []
    },
    {
     "name": "stdout",
     "output_type": "stream",
     "text": [
      "\n"
     ]
    },
    {
     "name": "stderr",
     "output_type": "stream",
     "text": [
      " 11%|█         | 10/90 [00:48<06:34,  4.93s/it]"
     ]
    },
    {
     "name": "stdout",
     "output_type": "stream",
     "text": []
    },
    {
     "name": "stdout",
     "output_type": "stream",
     "text": [
      "\n"
     ]
    },
    {
     "name": "stderr",
     "output_type": "stream",
     "text": [
      " 12%|█▏        | 11/90 [00:52<05:59,  4.56s/it]"
     ]
    },
    {
     "name": "stdout",
     "output_type": "stream",
     "text": []
    },
    {
     "name": "stdout",
     "output_type": "stream",
     "text": [
      "\n"
     ]
    },
    {
     "name": "stderr",
     "output_type": "stream",
     "text": [
      " 13%|█▎        | 12/90 [00:57<06:10,  4.75s/it]"
     ]
    },
    {
     "name": "stdout",
     "output_type": "stream",
     "text": []
    },
    {
     "name": "stdout",
     "output_type": "stream",
     "text": [
      "\n"
     ]
    },
    {
     "name": "stderr",
     "output_type": "stream",
     "text": [
      " 14%|█▍        | 13/90 [01:05<07:15,  5.65s/it]"
     ]
    },
    {
     "name": "stdout",
     "output_type": "stream",
     "text": []
    },
    {
     "name": "stdout",
     "output_type": "stream",
     "text": [
      "\n"
     ]
    },
    {
     "name": "stderr",
     "output_type": "stream",
     "text": [
      " 16%|█▌        | 14/90 [01:12<07:49,  6.18s/it]"
     ]
    },
    {
     "name": "stdout",
     "output_type": "stream",
     "text": []
    },
    {
     "name": "stdout",
     "output_type": "stream",
     "text": [
      "\n"
     ]
    },
    {
     "name": "stderr",
     "output_type": "stream",
     "text": [
      " 17%|█▋        | 15/90 [01:22<08:53,  7.11s/it]"
     ]
    },
    {
     "name": "stdout",
     "output_type": "stream",
     "text": []
    },
    {
     "name": "stdout",
     "output_type": "stream",
     "text": [
      "\n"
     ]
    },
    {
     "name": "stderr",
     "output_type": "stream",
     "text": [
      " 18%|█▊        | 16/90 [01:26<07:37,  6.18s/it]"
     ]
    },
    {
     "name": "stdout",
     "output_type": "stream",
     "text": []
    },
    {
     "name": "stdout",
     "output_type": "stream",
     "text": [
      "\n"
     ]
    },
    {
     "name": "stderr",
     "output_type": "stream",
     "text": [
      " 19%|█▉        | 17/90 [01:32<07:27,  6.13s/it]"
     ]
    },
    {
     "name": "stdout",
     "output_type": "stream",
     "text": []
    },
    {
     "name": "stdout",
     "output_type": "stream",
     "text": [
      "\n"
     ]
    },
    {
     "name": "stderr",
     "output_type": "stream",
     "text": [
      " 20%|██        | 18/90 [01:37<06:53,  5.74s/it]"
     ]
    },
    {
     "name": "stdout",
     "output_type": "stream",
     "text": []
    },
    {
     "name": "stdout",
     "output_type": "stream",
     "text": [
      "\n"
     ]
    },
    {
     "name": "stderr",
     "output_type": "stream",
     "text": [
      " 21%|██        | 19/90 [01:48<08:50,  7.48s/it]"
     ]
    },
    {
     "name": "stdout",
     "output_type": "stream",
     "text": []
    },
    {
     "name": "stdout",
     "output_type": "stream",
     "text": [
      "\n"
     ]
    },
    {
     "name": "stderr",
     "output_type": "stream",
     "text": [
      " 22%|██▏       | 20/90 [01:52<07:33,  6.48s/it]"
     ]
    },
    {
     "name": "stdout",
     "output_type": "stream",
     "text": []
    },
    {
     "name": "stdout",
     "output_type": "stream",
     "text": [
      "\n"
     ]
    },
    {
     "name": "stderr",
     "output_type": "stream",
     "text": [
      " 23%|██▎       | 21/90 [01:58<07:15,  6.31s/it]"
     ]
    },
    {
     "name": "stdout",
     "output_type": "stream",
     "text": []
    },
    {
     "name": "stdout",
     "output_type": "stream",
     "text": [
      "\n"
     ]
    },
    {
     "name": "stderr",
     "output_type": "stream",
     "text": [
      " 24%|██▍       | 22/90 [02:07<07:57,  7.02s/it]"
     ]
    },
    {
     "name": "stdout",
     "output_type": "stream",
     "text": []
    },
    {
     "name": "stdout",
     "output_type": "stream",
     "text": [
      "\n"
     ]
    },
    {
     "name": "stderr",
     "output_type": "stream",
     "text": [
      " 26%|██▌       | 23/90 [02:15<08:12,  7.36s/it]"
     ]
    },
    {
     "name": "stdout",
     "output_type": "stream",
     "text": []
    },
    {
     "name": "stdout",
     "output_type": "stream",
     "text": [
      "\n"
     ]
    },
    {
     "name": "stderr",
     "output_type": "stream",
     "text": [
      " 27%|██▋       | 24/90 [02:21<07:33,  6.87s/it]"
     ]
    },
    {
     "name": "stdout",
     "output_type": "stream",
     "text": []
    },
    {
     "name": "stdout",
     "output_type": "stream",
     "text": [
      "\n"
     ]
    },
    {
     "name": "stderr",
     "output_type": "stream",
     "text": [
      " 28%|██▊       | 25/90 [02:24<06:12,  5.72s/it]"
     ]
    },
    {
     "name": "stdout",
     "output_type": "stream",
     "text": []
    },
    {
     "name": "stdout",
     "output_type": "stream",
     "text": [
      "\n"
     ]
    },
    {
     "name": "stderr",
     "output_type": "stream",
     "text": [
      " 29%|██▉       | 26/90 [02:30<06:15,  5.86s/it]"
     ]
    },
    {
     "name": "stdout",
     "output_type": "stream",
     "text": []
    },
    {
     "name": "stdout",
     "output_type": "stream",
     "text": [
      "\n"
     ]
    },
    {
     "name": "stderr",
     "output_type": "stream",
     "text": [
      " 30%|███       | 27/90 [02:36<06:14,  5.95s/it]"
     ]
    },
    {
     "name": "stdout",
     "output_type": "stream",
     "text": []
    },
    {
     "name": "stdout",
     "output_type": "stream",
     "text": [
      "\n"
     ]
    },
    {
     "name": "stderr",
     "output_type": "stream",
     "text": [
      " 31%|███       | 28/90 [02:40<05:32,  5.37s/it]"
     ]
    },
    {
     "name": "stdout",
     "output_type": "stream",
     "text": []
    },
    {
     "name": "stdout",
     "output_type": "stream",
     "text": [
      "\n"
     ]
    },
    {
     "name": "stderr",
     "output_type": "stream",
     "text": [
      " 32%|███▏      | 29/90 [02:46<05:43,  5.63s/it]"
     ]
    },
    {
     "name": "stdout",
     "output_type": "stream",
     "text": []
    },
    {
     "name": "stdout",
     "output_type": "stream",
     "text": [
      "\n"
     ]
    },
    {
     "name": "stderr",
     "output_type": "stream",
     "text": [
      " 33%|███▎      | 30/90 [02:53<05:51,  5.87s/it]"
     ]
    },
    {
     "name": "stdout",
     "output_type": "stream",
     "text": []
    },
    {
     "name": "stdout",
     "output_type": "stream",
     "text": [
      "\n"
     ]
    },
    {
     "name": "stderr",
     "output_type": "stream",
     "text": [
      " 34%|███▍      | 31/90 [02:56<05:05,  5.17s/it]"
     ]
    },
    {
     "name": "stdout",
     "output_type": "stream",
     "text": []
    },
    {
     "name": "stdout",
     "output_type": "stream",
     "text": [
      "\n"
     ]
    },
    {
     "name": "stderr",
     "output_type": "stream",
     "text": [
      " 36%|███▌      | 32/90 [03:02<05:14,  5.42s/it]"
     ]
    },
    {
     "name": "stdout",
     "output_type": "stream",
     "text": []
    },
    {
     "name": "stdout",
     "output_type": "stream",
     "text": [
      "\n"
     ]
    },
    {
     "name": "stderr",
     "output_type": "stream",
     "text": [
      " 37%|███▋      | 33/90 [03:06<04:38,  4.89s/it]"
     ]
    },
    {
     "name": "stdout",
     "output_type": "stream",
     "text": []
    },
    {
     "name": "stdout",
     "output_type": "stream",
     "text": [
      "\n"
     ]
    },
    {
     "name": "stderr",
     "output_type": "stream",
     "text": [
      " 38%|███▊      | 34/90 [03:09<04:07,  4.42s/it]"
     ]
    },
    {
     "name": "stdout",
     "output_type": "stream",
     "text": []
    },
    {
     "name": "stdout",
     "output_type": "stream",
     "text": [
      "\n"
     ]
    },
    {
     "name": "stderr",
     "output_type": "stream",
     "text": [
      " 39%|███▉      | 35/90 [03:15<04:30,  4.91s/it]"
     ]
    },
    {
     "name": "stdout",
     "output_type": "stream",
     "text": []
    },
    {
     "name": "stdout",
     "output_type": "stream",
     "text": [
      "\n"
     ]
    },
    {
     "name": "stderr",
     "output_type": "stream",
     "text": [
      " 40%|████      | 36/90 [03:20<04:24,  4.90s/it]"
     ]
    },
    {
     "name": "stdout",
     "output_type": "stream",
     "text": []
    },
    {
     "name": "stdout",
     "output_type": "stream",
     "text": [
      "\n"
     ]
    },
    {
     "name": "stderr",
     "output_type": "stream",
     "text": [
      " 41%|████      | 37/90 [03:24<04:07,  4.66s/it]"
     ]
    },
    {
     "name": "stdout",
     "output_type": "stream",
     "text": []
    },
    {
     "name": "stdout",
     "output_type": "stream",
     "text": [
      "\n"
     ]
    },
    {
     "name": "stderr",
     "output_type": "stream",
     "text": [
      " 42%|████▏     | 38/90 [03:29<03:54,  4.52s/it]"
     ]
    },
    {
     "name": "stdout",
     "output_type": "stream",
     "text": []
    },
    {
     "name": "stdout",
     "output_type": "stream",
     "text": [
      "\n"
     ]
    },
    {
     "name": "stderr",
     "output_type": "stream",
     "text": [
      " 43%|████▎     | 39/90 [03:33<03:51,  4.53s/it]"
     ]
    },
    {
     "name": "stdout",
     "output_type": "stream",
     "text": []
    },
    {
     "name": "stdout",
     "output_type": "stream",
     "text": [
      "\n"
     ]
    },
    {
     "name": "stderr",
     "output_type": "stream",
     "text": [
      " 44%|████▍     | 40/90 [03:38<03:45,  4.52s/it]"
     ]
    },
    {
     "name": "stdout",
     "output_type": "stream",
     "text": []
    },
    {
     "name": "stdout",
     "output_type": "stream",
     "text": [
      "\n"
     ]
    },
    {
     "name": "stderr",
     "output_type": "stream",
     "text": [
      " 46%|████▌     | 41/90 [03:42<03:38,  4.47s/it]"
     ]
    },
    {
     "name": "stdout",
     "output_type": "stream",
     "text": []
    },
    {
     "name": "stdout",
     "output_type": "stream",
     "text": [
      "\n"
     ]
    },
    {
     "name": "stderr",
     "output_type": "stream",
     "text": [
      " 47%|████▋     | 42/90 [03:49<04:16,  5.34s/it]"
     ]
    },
    {
     "name": "stdout",
     "output_type": "stream",
     "text": []
    },
    {
     "name": "stdout",
     "output_type": "stream",
     "text": [
      "\n"
     ]
    },
    {
     "name": "stderr",
     "output_type": "stream",
     "text": [
      " 48%|████▊     | 43/90 [03:54<03:55,  5.00s/it]"
     ]
    },
    {
     "name": "stdout",
     "output_type": "stream",
     "text": []
    },
    {
     "name": "stdout",
     "output_type": "stream",
     "text": [
      "\n"
     ]
    },
    {
     "name": "stderr",
     "output_type": "stream",
     "text": [
      " 49%|████▉     | 44/90 [03:59<03:52,  5.06s/it]"
     ]
    },
    {
     "name": "stdout",
     "output_type": "stream",
     "text": []
    },
    {
     "name": "stdout",
     "output_type": "stream",
     "text": [
      "\n"
     ]
    },
    {
     "name": "stderr",
     "output_type": "stream",
     "text": [
      " 50%|█████     | 45/90 [04:06<04:12,  5.61s/it]"
     ]
    },
    {
     "name": "stdout",
     "output_type": "stream",
     "text": []
    },
    {
     "name": "stdout",
     "output_type": "stream",
     "text": [
      "\n"
     ]
    },
    {
     "name": "stderr",
     "output_type": "stream",
     "text": [
      " 51%|█████     | 46/90 [04:13<04:27,  6.07s/it]"
     ]
    },
    {
     "name": "stdout",
     "output_type": "stream",
     "text": []
    },
    {
     "name": "stdout",
     "output_type": "stream",
     "text": [
      "\n"
     ]
    },
    {
     "name": "stderr",
     "output_type": "stream",
     "text": [
      " 52%|█████▏    | 47/90 [04:17<03:58,  5.55s/it]"
     ]
    },
    {
     "name": "stdout",
     "output_type": "stream",
     "text": []
    },
    {
     "name": "stdout",
     "output_type": "stream",
     "text": [
      "\n"
     ]
    },
    {
     "name": "stderr",
     "output_type": "stream",
     "text": [
      " 53%|█████▎    | 48/90 [04:27<04:51,  6.94s/it]"
     ]
    },
    {
     "name": "stdout",
     "output_type": "stream",
     "text": []
    },
    {
     "name": "stdout",
     "output_type": "stream",
     "text": [
      "\n"
     ]
    },
    {
     "name": "stderr",
     "output_type": "stream",
     "text": [
      " 54%|█████▍    | 49/90 [04:33<04:25,  6.49s/it]"
     ]
    },
    {
     "name": "stdout",
     "output_type": "stream",
     "text": []
    },
    {
     "name": "stdout",
     "output_type": "stream",
     "text": [
      "\n"
     ]
    },
    {
     "name": "stderr",
     "output_type": "stream",
     "text": [
      " 56%|█████▌    | 50/90 [04:39<04:21,  6.53s/it]"
     ]
    },
    {
     "name": "stdout",
     "output_type": "stream",
     "text": []
    },
    {
     "name": "stdout",
     "output_type": "stream",
     "text": [
      "\n"
     ]
    },
    {
     "name": "stderr",
     "output_type": "stream",
     "text": [
      " 57%|█████▋    | 51/90 [04:46<04:12,  6.47s/it]"
     ]
    },
    {
     "name": "stdout",
     "output_type": "stream",
     "text": []
    },
    {
     "name": "stdout",
     "output_type": "stream",
     "text": [
      "\n"
     ]
    },
    {
     "name": "stderr",
     "output_type": "stream",
     "text": [
      " 58%|█████▊    | 52/90 [04:52<04:09,  6.55s/it]"
     ]
    },
    {
     "name": "stdout",
     "output_type": "stream",
     "text": []
    },
    {
     "name": "stdout",
     "output_type": "stream",
     "text": [
      "\n"
     ]
    },
    {
     "name": "stderr",
     "output_type": "stream",
     "text": [
      " 59%|█████▉    | 53/90 [04:58<03:54,  6.33s/it]"
     ]
    },
    {
     "name": "stdout",
     "output_type": "stream",
     "text": []
    },
    {
     "name": "stdout",
     "output_type": "stream",
     "text": [
      "\n"
     ]
    },
    {
     "name": "stderr",
     "output_type": "stream",
     "text": [
      " 60%|██████    | 54/90 [05:04<03:40,  6.13s/it]"
     ]
    },
    {
     "name": "stdout",
     "output_type": "stream",
     "text": []
    },
    {
     "name": "stdout",
     "output_type": "stream",
     "text": [
      "\n"
     ]
    },
    {
     "name": "stderr",
     "output_type": "stream",
     "text": [
      " 61%|██████    | 55/90 [05:07<03:06,  5.32s/it]"
     ]
    },
    {
     "name": "stdout",
     "output_type": "stream",
     "text": []
    },
    {
     "name": "stdout",
     "output_type": "stream",
     "text": [
      "\n"
     ]
    },
    {
     "name": "stderr",
     "output_type": "stream",
     "text": [
      " 62%|██████▏   | 56/90 [05:16<03:33,  6.29s/it]"
     ]
    },
    {
     "name": "stdout",
     "output_type": "stream",
     "text": []
    },
    {
     "name": "stdout",
     "output_type": "stream",
     "text": [
      "\n"
     ]
    },
    {
     "name": "stderr",
     "output_type": "stream",
     "text": [
      " 63%|██████▎   | 57/90 [05:22<03:26,  6.27s/it]"
     ]
    },
    {
     "name": "stdout",
     "output_type": "stream",
     "text": []
    },
    {
     "name": "stdout",
     "output_type": "stream",
     "text": [
      "\n"
     ]
    },
    {
     "name": "stderr",
     "output_type": "stream",
     "text": [
      " 64%|██████▍   | 58/90 [05:29<03:23,  6.35s/it]"
     ]
    },
    {
     "name": "stdout",
     "output_type": "stream",
     "text": []
    },
    {
     "name": "stdout",
     "output_type": "stream",
     "text": [
      "\n"
     ]
    },
    {
     "name": "stderr",
     "output_type": "stream",
     "text": [
      " 66%|██████▌   | 59/90 [05:36<03:24,  6.59s/it]"
     ]
    },
    {
     "name": "stdout",
     "output_type": "stream",
     "text": []
    },
    {
     "name": "stdout",
     "output_type": "stream",
     "text": [
      "\n"
     ]
    },
    {
     "name": "stderr",
     "output_type": "stream",
     "text": [
      " 67%|██████▋   | 60/90 [05:40<02:56,  5.89s/it]"
     ]
    },
    {
     "name": "stdout",
     "output_type": "stream",
     "text": []
    },
    {
     "name": "stdout",
     "output_type": "stream",
     "text": [
      "\n"
     ]
    },
    {
     "name": "stderr",
     "output_type": "stream",
     "text": [
      " 68%|██████▊   | 61/90 [05:44<02:36,  5.39s/it]"
     ]
    },
    {
     "name": "stdout",
     "output_type": "stream",
     "text": []
    },
    {
     "name": "stdout",
     "output_type": "stream",
     "text": [
      "\n"
     ]
    },
    {
     "name": "stderr",
     "output_type": "stream",
     "text": [
      " 69%|██████▉   | 62/90 [05:48<02:15,  4.85s/it]"
     ]
    },
    {
     "name": "stdout",
     "output_type": "stream",
     "text": []
    },
    {
     "name": "stdout",
     "output_type": "stream",
     "text": [
      "\n"
     ]
    },
    {
     "name": "stderr",
     "output_type": "stream",
     "text": [
      " 70%|███████   | 63/90 [05:52<02:08,  4.76s/it]"
     ]
    },
    {
     "name": "stdout",
     "output_type": "stream",
     "text": []
    },
    {
     "name": "stdout",
     "output_type": "stream",
     "text": [
      "\n"
     ]
    },
    {
     "name": "stderr",
     "output_type": "stream",
     "text": [
      " 71%|███████   | 64/90 [05:56<01:57,  4.52s/it]"
     ]
    },
    {
     "name": "stdout",
     "output_type": "stream",
     "text": []
    },
    {
     "name": "stdout",
     "output_type": "stream",
     "text": [
      "\n"
     ]
    },
    {
     "name": "stderr",
     "output_type": "stream",
     "text": [
      " 72%|███████▏  | 65/90 [06:02<01:58,  4.76s/it]"
     ]
    },
    {
     "name": "stdout",
     "output_type": "stream",
     "text": []
    },
    {
     "name": "stdout",
     "output_type": "stream",
     "text": [
      "\n"
     ]
    },
    {
     "name": "stderr",
     "output_type": "stream",
     "text": [
      " 73%|███████▎  | 66/90 [06:07<01:59,  4.99s/it]"
     ]
    },
    {
     "name": "stdout",
     "output_type": "stream",
     "text": []
    },
    {
     "name": "stdout",
     "output_type": "stream",
     "text": [
      "\n"
     ]
    },
    {
     "name": "stderr",
     "output_type": "stream",
     "text": [
      " 74%|███████▍  | 67/90 [06:12<01:53,  4.94s/it]"
     ]
    },
    {
     "name": "stdout",
     "output_type": "stream",
     "text": []
    },
    {
     "name": "stdout",
     "output_type": "stream",
     "text": [
      "\n"
     ]
    },
    {
     "name": "stderr",
     "output_type": "stream",
     "text": [
      " 76%|███████▌  | 68/90 [06:16<01:43,  4.73s/it]"
     ]
    },
    {
     "name": "stdout",
     "output_type": "stream",
     "text": []
    },
    {
     "name": "stdout",
     "output_type": "stream",
     "text": [
      "\n"
     ]
    },
    {
     "name": "stderr",
     "output_type": "stream",
     "text": [
      " 77%|███████▋  | 69/90 [06:20<01:29,  4.28s/it]"
     ]
    },
    {
     "name": "stdout",
     "output_type": "stream",
     "text": []
    },
    {
     "name": "stdout",
     "output_type": "stream",
     "text": [
      "\n"
     ]
    },
    {
     "name": "stderr",
     "output_type": "stream",
     "text": [
      " 78%|███████▊  | 70/90 [06:24<01:29,  4.46s/it]"
     ]
    },
    {
     "name": "stdout",
     "output_type": "stream",
     "text": []
    },
    {
     "name": "stdout",
     "output_type": "stream",
     "text": [
      "\n"
     ]
    },
    {
     "name": "stderr",
     "output_type": "stream",
     "text": [
      " 79%|███████▉  | 71/90 [06:29<01:26,  4.56s/it]"
     ]
    },
    {
     "name": "stdout",
     "output_type": "stream",
     "text": []
    },
    {
     "name": "stdout",
     "output_type": "stream",
     "text": [
      "\n"
     ]
    },
    {
     "name": "stderr",
     "output_type": "stream",
     "text": [
      " 80%|████████  | 72/90 [06:32<01:15,  4.18s/it]"
     ]
    },
    {
     "name": "stdout",
     "output_type": "stream",
     "text": []
    },
    {
     "name": "stdout",
     "output_type": "stream",
     "text": [
      "\n"
     ]
    },
    {
     "name": "stderr",
     "output_type": "stream",
     "text": [
      " 81%|████████  | 73/90 [06:36<01:06,  3.90s/it]"
     ]
    },
    {
     "name": "stdout",
     "output_type": "stream",
     "text": []
    },
    {
     "name": "stdout",
     "output_type": "stream",
     "text": [
      "\n"
     ]
    },
    {
     "name": "stderr",
     "output_type": "stream",
     "text": [
      " 82%|████████▏ | 74/90 [06:44<01:21,  5.12s/it]"
     ]
    },
    {
     "name": "stdout",
     "output_type": "stream",
     "text": []
    },
    {
     "name": "stdout",
     "output_type": "stream",
     "text": [
      "\n"
     ]
    },
    {
     "name": "stderr",
     "output_type": "stream",
     "text": [
      " 83%|████████▎ | 75/90 [06:49<01:18,  5.25s/it]"
     ]
    },
    {
     "name": "stdout",
     "output_type": "stream",
     "text": []
    },
    {
     "name": "stdout",
     "output_type": "stream",
     "text": [
      "\n"
     ]
    },
    {
     "name": "stderr",
     "output_type": "stream",
     "text": [
      " 84%|████████▍ | 76/90 [06:53<01:07,  4.85s/it]"
     ]
    },
    {
     "name": "stdout",
     "output_type": "stream",
     "text": []
    },
    {
     "name": "stdout",
     "output_type": "stream",
     "text": [
      "\n"
     ]
    },
    {
     "name": "stderr",
     "output_type": "stream",
     "text": [
      " 86%|████████▌ | 77/90 [06:57<00:57,  4.41s/it]"
     ]
    },
    {
     "name": "stdout",
     "output_type": "stream",
     "text": []
    },
    {
     "name": "stdout",
     "output_type": "stream",
     "text": [
      "\n"
     ]
    },
    {
     "name": "stderr",
     "output_type": "stream",
     "text": [
      " 87%|████████▋ | 78/90 [07:03<00:59,  4.95s/it]"
     ]
    },
    {
     "name": "stdout",
     "output_type": "stream",
     "text": []
    },
    {
     "name": "stdout",
     "output_type": "stream",
     "text": [
      "\n"
     ]
    },
    {
     "name": "stderr",
     "output_type": "stream",
     "text": [
      " 88%|████████▊ | 79/90 [07:06<00:50,  4.55s/it]"
     ]
    },
    {
     "name": "stdout",
     "output_type": "stream",
     "text": []
    },
    {
     "name": "stdout",
     "output_type": "stream",
     "text": [
      "\n"
     ]
    },
    {
     "name": "stderr",
     "output_type": "stream",
     "text": [
      " 89%|████████▉ | 80/90 [07:11<00:46,  4.62s/it]"
     ]
    },
    {
     "name": "stdout",
     "output_type": "stream",
     "text": []
    },
    {
     "name": "stdout",
     "output_type": "stream",
     "text": [
      "\n"
     ]
    },
    {
     "name": "stderr",
     "output_type": "stream",
     "text": [
      " 90%|█████████ | 81/90 [07:16<00:42,  4.67s/it]"
     ]
    },
    {
     "name": "stdout",
     "output_type": "stream",
     "text": []
    },
    {
     "name": "stdout",
     "output_type": "stream",
     "text": [
      "\n"
     ]
    },
    {
     "name": "stderr",
     "output_type": "stream",
     "text": [
      " 91%|█████████ | 82/90 [07:20<00:35,  4.47s/it]"
     ]
    },
    {
     "name": "stdout",
     "output_type": "stream",
     "text": []
    },
    {
     "name": "stdout",
     "output_type": "stream",
     "text": [
      "\n"
     ]
    },
    {
     "name": "stderr",
     "output_type": "stream",
     "text": [
      " 92%|█████████▏| 83/90 [07:25<00:31,  4.53s/it]"
     ]
    },
    {
     "name": "stdout",
     "output_type": "stream",
     "text": []
    },
    {
     "name": "stdout",
     "output_type": "stream",
     "text": [
      "\n"
     ]
    },
    {
     "name": "stderr",
     "output_type": "stream",
     "text": [
      " 93%|█████████▎| 84/90 [07:28<00:25,  4.26s/it]"
     ]
    },
    {
     "name": "stdout",
     "output_type": "stream",
     "text": []
    },
    {
     "name": "stdout",
     "output_type": "stream",
     "text": [
      "\n"
     ]
    },
    {
     "name": "stderr",
     "output_type": "stream",
     "text": [
      " 94%|█████████▍| 85/90 [07:33<00:22,  4.51s/it]"
     ]
    },
    {
     "name": "stdout",
     "output_type": "stream",
     "text": []
    },
    {
     "name": "stdout",
     "output_type": "stream",
     "text": [
      "\n"
     ]
    },
    {
     "name": "stderr",
     "output_type": "stream",
     "text": [
      " 96%|█████████▌| 86/90 [07:39<00:19,  4.85s/it]"
     ]
    },
    {
     "name": "stdout",
     "output_type": "stream",
     "text": []
    },
    {
     "name": "stdout",
     "output_type": "stream",
     "text": [
      "\n"
     ]
    },
    {
     "name": "stderr",
     "output_type": "stream",
     "text": [
      " 97%|█████████▋| 87/90 [07:46<00:16,  5.59s/it]"
     ]
    },
    {
     "name": "stdout",
     "output_type": "stream",
     "text": []
    },
    {
     "name": "stdout",
     "output_type": "stream",
     "text": [
      "\n"
     ]
    },
    {
     "name": "stderr",
     "output_type": "stream",
     "text": [
      " 98%|█████████▊| 88/90 [07:54<00:12,  6.21s/it]"
     ]
    },
    {
     "name": "stdout",
     "output_type": "stream",
     "text": []
    },
    {
     "name": "stdout",
     "output_type": "stream",
     "text": [
      "\n"
     ]
    },
    {
     "name": "stderr",
     "output_type": "stream",
     "text": [
      " 99%|█████████▉| 89/90 [07:59<00:05,  5.88s/it]"
     ]
    },
    {
     "name": "stdout",
     "output_type": "stream",
     "text": []
    },
    {
     "name": "stdout",
     "output_type": "stream",
     "text": [
      "\n"
     ]
    },
    {
     "name": "stderr",
     "output_type": "stream",
     "text": [
      "100%|██████████| 90/90 [08:06<00:00,  6.11s/it]\n",
      "  0%|          | 0/90 [00:00<?, ?it/s]"
     ]
    },
    {
     "name": "stdout",
     "output_type": "stream",
     "text": []
    },
    {
     "name": "stdout",
     "output_type": "stream",
     "text": [
      "\n"
     ]
    },
    {
     "name": "stderr",
     "output_type": "stream",
     "text": [
      "  1%|          | 1/90 [00:07<11:23,  7.68s/it]"
     ]
    },
    {
     "name": "stdout",
     "output_type": "stream",
     "text": []
    },
    {
     "name": "stdout",
     "output_type": "stream",
     "text": [
      "\n"
     ]
    },
    {
     "name": "stderr",
     "output_type": "stream",
     "text": [
      "  2%|▏         | 2/90 [00:14<10:57,  7.47s/it]"
     ]
    },
    {
     "name": "stdout",
     "output_type": "stream",
     "text": []
    },
    {
     "name": "stdout",
     "output_type": "stream",
     "text": [
      "\n"
     ]
    },
    {
     "name": "stderr",
     "output_type": "stream",
     "text": [
      "  3%|▎         | 3/90 [00:21<10:27,  7.21s/it]"
     ]
    },
    {
     "name": "stdout",
     "output_type": "stream",
     "text": []
    },
    {
     "name": "stdout",
     "output_type": "stream",
     "text": [
      "\n"
     ]
    },
    {
     "name": "stderr",
     "output_type": "stream",
     "text": [
      "  4%|▍         | 4/90 [00:25<09:03,  6.32s/it]"
     ]
    },
    {
     "name": "stdout",
     "output_type": "stream",
     "text": []
    },
    {
     "name": "stdout",
     "output_type": "stream",
     "text": [
      "\n"
     ]
    },
    {
     "name": "stderr",
     "output_type": "stream",
     "text": [
      "  6%|▌         | 5/90 [00:36<10:50,  7.65s/it]"
     ]
    },
    {
     "name": "stdout",
     "output_type": "stream",
     "text": []
    },
    {
     "name": "stdout",
     "output_type": "stream",
     "text": [
      "\n"
     ]
    },
    {
     "name": "stderr",
     "output_type": "stream",
     "text": [
      "  7%|▋         | 6/90 [00:40<09:15,  6.61s/it]"
     ]
    },
    {
     "name": "stdout",
     "output_type": "stream",
     "text": []
    },
    {
     "name": "stdout",
     "output_type": "stream",
     "text": [
      "\n"
     ]
    },
    {
     "name": "stderr",
     "output_type": "stream",
     "text": [
      "  8%|▊         | 7/90 [00:44<08:12,  5.94s/it]"
     ]
    },
    {
     "name": "stdout",
     "output_type": "stream",
     "text": []
    },
    {
     "name": "stdout",
     "output_type": "stream",
     "text": [
      "\n"
     ]
    },
    {
     "name": "stderr",
     "output_type": "stream",
     "text": [
      "  9%|▉         | 8/90 [00:54<09:28,  6.93s/it]"
     ]
    },
    {
     "name": "stdout",
     "output_type": "stream",
     "text": []
    },
    {
     "name": "stdout",
     "output_type": "stream",
     "text": [
      "\n"
     ]
    },
    {
     "name": "stderr",
     "output_type": "stream",
     "text": [
      " 10%|█         | 9/90 [01:00<09:19,  6.90s/it]"
     ]
    },
    {
     "name": "stdout",
     "output_type": "stream",
     "text": []
    },
    {
     "name": "stdout",
     "output_type": "stream",
     "text": [
      "\n"
     ]
    },
    {
     "name": "stderr",
     "output_type": "stream",
     "text": [
      " 11%|█         | 10/90 [01:04<07:50,  5.88s/it]"
     ]
    },
    {
     "name": "stdout",
     "output_type": "stream",
     "text": []
    },
    {
     "name": "stdout",
     "output_type": "stream",
     "text": [
      "\n"
     ]
    },
    {
     "name": "stderr",
     "output_type": "stream",
     "text": [
      " 12%|█▏        | 11/90 [01:09<07:15,  5.52s/it]"
     ]
    },
    {
     "name": "stdout",
     "output_type": "stream",
     "text": []
    },
    {
     "name": "stdout",
     "output_type": "stream",
     "text": [
      "\n"
     ]
    },
    {
     "name": "stderr",
     "output_type": "stream",
     "text": [
      " 13%|█▎        | 12/90 [01:13<06:36,  5.09s/it]"
     ]
    },
    {
     "name": "stdout",
     "output_type": "stream",
     "text": []
    },
    {
     "name": "stdout",
     "output_type": "stream",
     "text": [
      "\n"
     ]
    },
    {
     "name": "stderr",
     "output_type": "stream",
     "text": [
      " 14%|█▍        | 13/90 [01:18<06:34,  5.12s/it]"
     ]
    },
    {
     "name": "stdout",
     "output_type": "stream",
     "text": []
    },
    {
     "name": "stdout",
     "output_type": "stream",
     "text": [
      "\n"
     ]
    },
    {
     "name": "stderr",
     "output_type": "stream",
     "text": [
      " 16%|█▌        | 14/90 [01:23<06:23,  5.04s/it]"
     ]
    },
    {
     "name": "stdout",
     "output_type": "stream",
     "text": []
    },
    {
     "name": "stdout",
     "output_type": "stream",
     "text": [
      "\n"
     ]
    },
    {
     "name": "stderr",
     "output_type": "stream",
     "text": [
      " 17%|█▋        | 15/90 [01:27<06:00,  4.80s/it]"
     ]
    },
    {
     "name": "stdout",
     "output_type": "stream",
     "text": []
    },
    {
     "name": "stdout",
     "output_type": "stream",
     "text": [
      "\n"
     ]
    },
    {
     "name": "stderr",
     "output_type": "stream",
     "text": [
      " 18%|█▊        | 16/90 [01:33<06:26,  5.23s/it]"
     ]
    },
    {
     "name": "stdout",
     "output_type": "stream",
     "text": []
    },
    {
     "name": "stdout",
     "output_type": "stream",
     "text": [
      "\n"
     ]
    },
    {
     "name": "stderr",
     "output_type": "stream",
     "text": [
      " 19%|█▉        | 17/90 [01:37<05:59,  4.92s/it]"
     ]
    },
    {
     "name": "stdout",
     "output_type": "stream",
     "text": []
    },
    {
     "name": "stdout",
     "output_type": "stream",
     "text": [
      "\n"
     ]
    },
    {
     "name": "stderr",
     "output_type": "stream",
     "text": [
      " 20%|██        | 18/90 [01:44<06:36,  5.51s/it]"
     ]
    },
    {
     "name": "stdout",
     "output_type": "stream",
     "text": []
    },
    {
     "name": "stdout",
     "output_type": "stream",
     "text": [
      "\n"
     ]
    },
    {
     "name": "stderr",
     "output_type": "stream",
     "text": [
      " 21%|██        | 19/90 [01:49<06:10,  5.23s/it]"
     ]
    },
    {
     "name": "stdout",
     "output_type": "stream",
     "text": []
    },
    {
     "name": "stdout",
     "output_type": "stream",
     "text": [
      "\n"
     ]
    },
    {
     "name": "stderr",
     "output_type": "stream",
     "text": [
      " 22%|██▏       | 20/90 [01:55<06:32,  5.60s/it]"
     ]
    },
    {
     "name": "stdout",
     "output_type": "stream",
     "text": []
    },
    {
     "name": "stdout",
     "output_type": "stream",
     "text": [
      "\n"
     ]
    },
    {
     "name": "stderr",
     "output_type": "stream",
     "text": [
      " 23%|██▎       | 21/90 [02:00<06:05,  5.30s/it]"
     ]
    },
    {
     "name": "stdout",
     "output_type": "stream",
     "text": []
    },
    {
     "name": "stdout",
     "output_type": "stream",
     "text": [
      "\n"
     ]
    },
    {
     "name": "stderr",
     "output_type": "stream",
     "text": [
      " 24%|██▍       | 22/90 [02:06<06:15,  5.52s/it]"
     ]
    },
    {
     "name": "stdout",
     "output_type": "stream",
     "text": []
    },
    {
     "name": "stdout",
     "output_type": "stream",
     "text": [
      "\n"
     ]
    },
    {
     "name": "stderr",
     "output_type": "stream",
     "text": [
      " 26%|██▌       | 23/90 [02:12<06:25,  5.76s/it]"
     ]
    },
    {
     "name": "stdout",
     "output_type": "stream",
     "text": []
    },
    {
     "name": "stdout",
     "output_type": "stream",
     "text": [
      "\n"
     ]
    },
    {
     "name": "stderr",
     "output_type": "stream",
     "text": [
      " 27%|██▋       | 24/90 [02:18<06:26,  5.85s/it]"
     ]
    },
    {
     "name": "stdout",
     "output_type": "stream",
     "text": []
    },
    {
     "name": "stdout",
     "output_type": "stream",
     "text": [
      "\n"
     ]
    },
    {
     "name": "stderr",
     "output_type": "stream",
     "text": [
      " 28%|██▊       | 25/90 [02:24<06:25,  5.92s/it]"
     ]
    },
    {
     "name": "stdout",
     "output_type": "stream",
     "text": []
    },
    {
     "name": "stdout",
     "output_type": "stream",
     "text": [
      "\n"
     ]
    },
    {
     "name": "stderr",
     "output_type": "stream",
     "text": [
      " 29%|██▉       | 26/90 [02:30<06:16,  5.88s/it]"
     ]
    },
    {
     "name": "stdout",
     "output_type": "stream",
     "text": []
    },
    {
     "name": "stdout",
     "output_type": "stream",
     "text": [
      "\n"
     ]
    },
    {
     "name": "stderr",
     "output_type": "stream",
     "text": [
      " 30%|███       | 27/90 [02:35<05:50,  5.56s/it]"
     ]
    },
    {
     "name": "stdout",
     "output_type": "stream",
     "text": []
    },
    {
     "name": "stdout",
     "output_type": "stream",
     "text": [
      "\n"
     ]
    },
    {
     "name": "stderr",
     "output_type": "stream",
     "text": [
      " 31%|███       | 28/90 [02:40<05:33,  5.38s/it]"
     ]
    },
    {
     "name": "stdout",
     "output_type": "stream",
     "text": []
    },
    {
     "name": "stdout",
     "output_type": "stream",
     "text": [
      "\n"
     ]
    },
    {
     "name": "stderr",
     "output_type": "stream",
     "text": [
      " 32%|███▏      | 29/90 [02:44<05:08,  5.06s/it]"
     ]
    },
    {
     "name": "stdout",
     "output_type": "stream",
     "text": []
    },
    {
     "name": "stdout",
     "output_type": "stream",
     "text": [
      "\n"
     ]
    },
    {
     "name": "stderr",
     "output_type": "stream",
     "text": [
      " 33%|███▎      | 30/90 [02:52<05:44,  5.74s/it]"
     ]
    },
    {
     "name": "stdout",
     "output_type": "stream",
     "text": []
    },
    {
     "name": "stdout",
     "output_type": "stream",
     "text": [
      "\n"
     ]
    },
    {
     "name": "stderr",
     "output_type": "stream",
     "text": [
      " 34%|███▍      | 31/90 [02:56<05:23,  5.48s/it]"
     ]
    },
    {
     "name": "stdout",
     "output_type": "stream",
     "text": []
    },
    {
     "name": "stdout",
     "output_type": "stream",
     "text": [
      "\n"
     ]
    },
    {
     "name": "stderr",
     "output_type": "stream",
     "text": [
      " 36%|███▌      | 32/90 [03:02<05:15,  5.44s/it]"
     ]
    },
    {
     "name": "stdout",
     "output_type": "stream",
     "text": []
    },
    {
     "name": "stdout",
     "output_type": "stream",
     "text": [
      "\n"
     ]
    },
    {
     "name": "stderr",
     "output_type": "stream",
     "text": [
      " 37%|███▋      | 33/90 [03:10<05:52,  6.19s/it]"
     ]
    },
    {
     "name": "stdout",
     "output_type": "stream",
     "text": []
    },
    {
     "name": "stdout",
     "output_type": "stream",
     "text": [
      "\n"
     ]
    },
    {
     "name": "stderr",
     "output_type": "stream",
     "text": [
      " 38%|███▊      | 34/90 [03:14<05:16,  5.66s/it]"
     ]
    },
    {
     "name": "stdout",
     "output_type": "stream",
     "text": []
    },
    {
     "name": "stdout",
     "output_type": "stream",
     "text": [
      "\n"
     ]
    },
    {
     "name": "stderr",
     "output_type": "stream",
     "text": [
      " 39%|███▉      | 35/90 [03:17<04:32,  4.95s/it]"
     ]
    },
    {
     "name": "stdout",
     "output_type": "stream",
     "text": []
    },
    {
     "name": "stdout",
     "output_type": "stream",
     "text": [
      "\n"
     ]
    },
    {
     "name": "stderr",
     "output_type": "stream",
     "text": [
      " 40%|████      | 36/90 [03:25<05:09,  5.74s/it]"
     ]
    },
    {
     "name": "stdout",
     "output_type": "stream",
     "text": []
    },
    {
     "name": "stdout",
     "output_type": "stream",
     "text": [
      "\n"
     ]
    },
    {
     "name": "stderr",
     "output_type": "stream",
     "text": [
      " 41%|████      | 37/90 [03:34<05:57,  6.74s/it]"
     ]
    },
    {
     "name": "stdout",
     "output_type": "stream",
     "text": []
    },
    {
     "name": "stdout",
     "output_type": "stream",
     "text": [
      "\n"
     ]
    },
    {
     "name": "stderr",
     "output_type": "stream",
     "text": [
      " 42%|████▏     | 38/90 [03:43<06:28,  7.47s/it]"
     ]
    },
    {
     "name": "stdout",
     "output_type": "stream",
     "text": []
    },
    {
     "name": "stdout",
     "output_type": "stream",
     "text": [
      "\n"
     ]
    },
    {
     "name": "stderr",
     "output_type": "stream",
     "text": [
      " 43%|████▎     | 39/90 [03:48<05:42,  6.72s/it]"
     ]
    },
    {
     "name": "stdout",
     "output_type": "stream",
     "text": []
    },
    {
     "name": "stdout",
     "output_type": "stream",
     "text": [
      "\n"
     ]
    },
    {
     "name": "stderr",
     "output_type": "stream",
     "text": [
      " 44%|████▍     | 40/90 [03:55<05:28,  6.58s/it]"
     ]
    },
    {
     "name": "stdout",
     "output_type": "stream",
     "text": []
    },
    {
     "name": "stdout",
     "output_type": "stream",
     "text": [
      "\n"
     ]
    },
    {
     "name": "stderr",
     "output_type": "stream",
     "text": [
      " 46%|████▌     | 41/90 [03:59<04:54,  6.01s/it]"
     ]
    },
    {
     "name": "stdout",
     "output_type": "stream",
     "text": []
    },
    {
     "name": "stdout",
     "output_type": "stream",
     "text": [
      "\n"
     ]
    },
    {
     "name": "stderr",
     "output_type": "stream",
     "text": [
      " 47%|████▋     | 42/90 [04:06<04:52,  6.10s/it]"
     ]
    },
    {
     "name": "stdout",
     "output_type": "stream",
     "text": []
    },
    {
     "name": "stdout",
     "output_type": "stream",
     "text": [
      "\n"
     ]
    },
    {
     "name": "stderr",
     "output_type": "stream",
     "text": [
      " 48%|████▊     | 43/90 [04:10<04:30,  5.75s/it]"
     ]
    },
    {
     "name": "stdout",
     "output_type": "stream",
     "text": []
    },
    {
     "name": "stdout",
     "output_type": "stream",
     "text": [
      "\n"
     ]
    },
    {
     "name": "stderr",
     "output_type": "stream",
     "text": [
      " 49%|████▉     | 44/90 [04:15<04:01,  5.24s/it]"
     ]
    },
    {
     "name": "stdout",
     "output_type": "stream",
     "text": []
    },
    {
     "name": "stdout",
     "output_type": "stream",
     "text": [
      "\n"
     ]
    },
    {
     "name": "stderr",
     "output_type": "stream",
     "text": [
      " 50%|█████     | 45/90 [04:19<03:40,  4.91s/it]"
     ]
    },
    {
     "name": "stdout",
     "output_type": "stream",
     "text": []
    },
    {
     "name": "stdout",
     "output_type": "stream",
     "text": [
      "\n"
     ]
    },
    {
     "name": "stderr",
     "output_type": "stream",
     "text": [
      " 51%|█████     | 46/90 [04:25<04:00,  5.46s/it]"
     ]
    },
    {
     "name": "stdout",
     "output_type": "stream",
     "text": []
    },
    {
     "name": "stdout",
     "output_type": "stream",
     "text": [
      "\n"
     ]
    },
    {
     "name": "stderr",
     "output_type": "stream",
     "text": [
      " 52%|█████▏    | 47/90 [04:33<04:19,  6.04s/it]"
     ]
    },
    {
     "name": "stdout",
     "output_type": "stream",
     "text": []
    },
    {
     "name": "stdout",
     "output_type": "stream",
     "text": [
      "\n"
     ]
    },
    {
     "name": "stderr",
     "output_type": "stream",
     "text": [
      " 53%|█████▎    | 48/90 [04:41<04:35,  6.57s/it]"
     ]
    },
    {
     "name": "stdout",
     "output_type": "stream",
     "text": []
    },
    {
     "name": "stdout",
     "output_type": "stream",
     "text": [
      "\n"
     ]
    },
    {
     "name": "stderr",
     "output_type": "stream",
     "text": [
      " 54%|█████▍    | 49/90 [04:48<04:36,  6.75s/it]"
     ]
    },
    {
     "name": "stdout",
     "output_type": "stream",
     "text": []
    },
    {
     "name": "stdout",
     "output_type": "stream",
     "text": [
      "\n"
     ]
    },
    {
     "name": "stderr",
     "output_type": "stream",
     "text": [
      " 56%|█████▌    | 50/90 [04:52<04:00,  6.01s/it]"
     ]
    },
    {
     "name": "stdout",
     "output_type": "stream",
     "text": []
    },
    {
     "name": "stdout",
     "output_type": "stream",
     "text": [
      "\n"
     ]
    },
    {
     "name": "stderr",
     "output_type": "stream",
     "text": [
      " 57%|█████▋    | 51/90 [04:58<03:49,  5.88s/it]"
     ]
    },
    {
     "name": "stdout",
     "output_type": "stream",
     "text": []
    },
    {
     "name": "stdout",
     "output_type": "stream",
     "text": [
      "\n"
     ]
    },
    {
     "name": "stderr",
     "output_type": "stream",
     "text": [
      " 58%|█████▊    | 52/90 [05:03<03:35,  5.67s/it]"
     ]
    },
    {
     "name": "stdout",
     "output_type": "stream",
     "text": []
    },
    {
     "name": "stdout",
     "output_type": "stream",
     "text": [
      "\n"
     ]
    },
    {
     "name": "stderr",
     "output_type": "stream",
     "text": [
      " 59%|█████▉    | 53/90 [05:10<03:42,  6.01s/it]"
     ]
    },
    {
     "name": "stdout",
     "output_type": "stream",
     "text": []
    },
    {
     "name": "stdout",
     "output_type": "stream",
     "text": [
      "\n"
     ]
    },
    {
     "name": "stderr",
     "output_type": "stream",
     "text": [
      " 60%|██████    | 54/90 [05:16<03:38,  6.07s/it]"
     ]
    },
    {
     "name": "stdout",
     "output_type": "stream",
     "text": []
    },
    {
     "name": "stdout",
     "output_type": "stream",
     "text": [
      "\n"
     ]
    },
    {
     "name": "stderr",
     "output_type": "stream",
     "text": [
      " 61%|██████    | 55/90 [05:27<04:29,  7.69s/it]"
     ]
    },
    {
     "name": "stdout",
     "output_type": "stream",
     "text": []
    },
    {
     "name": "stdout",
     "output_type": "stream",
     "text": [
      "\n"
     ]
    },
    {
     "name": "stderr",
     "output_type": "stream",
     "text": [
      " 62%|██████▏   | 56/90 [05:32<03:54,  6.89s/it]"
     ]
    },
    {
     "name": "stdout",
     "output_type": "stream",
     "text": []
    },
    {
     "name": "stdout",
     "output_type": "stream",
     "text": [
      "\n"
     ]
    },
    {
     "name": "stderr",
     "output_type": "stream",
     "text": [
      " 63%|██████▎   | 57/90 [05:39<03:49,  6.97s/it]"
     ]
    },
    {
     "name": "stdout",
     "output_type": "stream",
     "text": []
    },
    {
     "name": "stdout",
     "output_type": "stream",
     "text": [
      "\n"
     ]
    },
    {
     "name": "stderr",
     "output_type": "stream",
     "text": [
      " 64%|██████▍   | 58/90 [05:51<04:28,  8.38s/it]"
     ]
    },
    {
     "name": "stdout",
     "output_type": "stream",
     "text": []
    },
    {
     "name": "stdout",
     "output_type": "stream",
     "text": [
      "\n"
     ]
    },
    {
     "name": "stderr",
     "output_type": "stream",
     "text": [
      " 66%|██████▌   | 59/90 [05:57<03:56,  7.63s/it]"
     ]
    },
    {
     "name": "stdout",
     "output_type": "stream",
     "text": []
    },
    {
     "name": "stdout",
     "output_type": "stream",
     "text": [
      "\n"
     ]
    },
    {
     "name": "stderr",
     "output_type": "stream",
     "text": [
      " 67%|██████▋   | 60/90 [06:01<03:13,  6.46s/it]"
     ]
    },
    {
     "name": "stdout",
     "output_type": "stream",
     "text": []
    },
    {
     "name": "stdout",
     "output_type": "stream",
     "text": [
      "\n"
     ]
    },
    {
     "name": "stderr",
     "output_type": "stream",
     "text": [
      " 68%|██████▊   | 61/90 [06:07<03:02,  6.30s/it]"
     ]
    },
    {
     "name": "stdout",
     "output_type": "stream",
     "text": []
    },
    {
     "name": "stdout",
     "output_type": "stream",
     "text": [
      "\n"
     ]
    },
    {
     "name": "stderr",
     "output_type": "stream",
     "text": [
      " 69%|██████▉   | 62/90 [06:15<03:16,  7.03s/it]"
     ]
    },
    {
     "name": "stdout",
     "output_type": "stream",
     "text": []
    },
    {
     "name": "stdout",
     "output_type": "stream",
     "text": [
      "\n"
     ]
    },
    {
     "name": "stderr",
     "output_type": "stream",
     "text": [
      " 70%|███████   | 63/90 [06:24<03:26,  7.63s/it]"
     ]
    },
    {
     "name": "stdout",
     "output_type": "stream",
     "text": []
    },
    {
     "name": "stdout",
     "output_type": "stream",
     "text": [
      "\n"
     ]
    },
    {
     "name": "stderr",
     "output_type": "stream",
     "text": [
      " 71%|███████   | 64/90 [06:29<02:57,  6.84s/it]"
     ]
    },
    {
     "name": "stdout",
     "output_type": "stream",
     "text": []
    },
    {
     "name": "stdout",
     "output_type": "stream",
     "text": [
      "\n"
     ]
    },
    {
     "name": "stderr",
     "output_type": "stream",
     "text": [
      " 72%|███████▏  | 65/90 [06:35<02:39,  6.39s/it]"
     ]
    },
    {
     "name": "stdout",
     "output_type": "stream",
     "text": []
    },
    {
     "name": "stdout",
     "output_type": "stream",
     "text": [
      "\n"
     ]
    },
    {
     "name": "stderr",
     "output_type": "stream",
     "text": [
      " 73%|███████▎  | 66/90 [06:40<02:24,  6.01s/it]"
     ]
    },
    {
     "name": "stdout",
     "output_type": "stream",
     "text": []
    },
    {
     "name": "stdout",
     "output_type": "stream",
     "text": [
      "\n"
     ]
    },
    {
     "name": "stderr",
     "output_type": "stream",
     "text": [
      " 74%|███████▍  | 67/90 [06:44<02:08,  5.58s/it]"
     ]
    },
    {
     "name": "stdout",
     "output_type": "stream",
     "text": []
    },
    {
     "name": "stdout",
     "output_type": "stream",
     "text": [
      "\n"
     ]
    },
    {
     "name": "stderr",
     "output_type": "stream",
     "text": [
      " 76%|███████▌  | 68/90 [06:53<02:23,  6.54s/it]"
     ]
    },
    {
     "name": "stdout",
     "output_type": "stream",
     "text": []
    },
    {
     "name": "stdout",
     "output_type": "stream",
     "text": [
      "\n"
     ]
    },
    {
     "name": "stderr",
     "output_type": "stream",
     "text": [
      " 77%|███████▋  | 69/90 [06:57<02:00,  5.72s/it]"
     ]
    },
    {
     "name": "stdout",
     "output_type": "stream",
     "text": []
    },
    {
     "name": "stdout",
     "output_type": "stream",
     "text": [
      "\n"
     ]
    },
    {
     "name": "stderr",
     "output_type": "stream",
     "text": [
      " 78%|███████▊  | 70/90 [07:05<02:10,  6.53s/it]"
     ]
    },
    {
     "name": "stdout",
     "output_type": "stream",
     "text": []
    },
    {
     "name": "stdout",
     "output_type": "stream",
     "text": [
      "\n"
     ]
    },
    {
     "name": "stderr",
     "output_type": "stream",
     "text": [
      " 79%|███████▉  | 71/90 [07:10<01:54,  6.03s/it]"
     ]
    },
    {
     "name": "stdout",
     "output_type": "stream",
     "text": []
    },
    {
     "name": "stdout",
     "output_type": "stream",
     "text": [
      "\n"
     ]
    },
    {
     "name": "stderr",
     "output_type": "stream",
     "text": [
      " 80%|████████  | 72/90 [07:14<01:35,  5.33s/it]"
     ]
    },
    {
     "name": "stdout",
     "output_type": "stream",
     "text": []
    },
    {
     "name": "stdout",
     "output_type": "stream",
     "text": [
      "\n"
     ]
    },
    {
     "name": "stderr",
     "output_type": "stream",
     "text": [
      " 81%|████████  | 73/90 [07:19<01:26,  5.10s/it]"
     ]
    },
    {
     "name": "stdout",
     "output_type": "stream",
     "text": []
    },
    {
     "name": "stdout",
     "output_type": "stream",
     "text": [
      "\n"
     ]
    },
    {
     "name": "stderr",
     "output_type": "stream",
     "text": [
      " 82%|████████▏ | 74/90 [07:26<01:31,  5.75s/it]"
     ]
    },
    {
     "name": "stdout",
     "output_type": "stream",
     "text": []
    },
    {
     "name": "stdout",
     "output_type": "stream",
     "text": [
      "\n"
     ]
    },
    {
     "name": "stderr",
     "output_type": "stream",
     "text": [
      " 83%|████████▎ | 75/90 [07:31<01:23,  5.54s/it]"
     ]
    },
    {
     "name": "stdout",
     "output_type": "stream",
     "text": []
    },
    {
     "name": "stdout",
     "output_type": "stream",
     "text": [
      "\n"
     ]
    },
    {
     "name": "stderr",
     "output_type": "stream",
     "text": [
      " 84%|████████▍ | 76/90 [07:35<01:10,  5.02s/it]"
     ]
    },
    {
     "name": "stdout",
     "output_type": "stream",
     "text": []
    },
    {
     "name": "stdout",
     "output_type": "stream",
     "text": [
      "\n"
     ]
    },
    {
     "name": "stderr",
     "output_type": "stream",
     "text": [
      " 86%|████████▌ | 77/90 [07:39<01:00,  4.68s/it]"
     ]
    },
    {
     "name": "stdout",
     "output_type": "stream",
     "text": []
    },
    {
     "name": "stdout",
     "output_type": "stream",
     "text": [
      "\n"
     ]
    },
    {
     "name": "stderr",
     "output_type": "stream",
     "text": [
      " 87%|████████▋ | 78/90 [07:43<00:55,  4.65s/it]"
     ]
    },
    {
     "name": "stdout",
     "output_type": "stream",
     "text": []
    },
    {
     "name": "stdout",
     "output_type": "stream",
     "text": [
      "\n"
     ]
    },
    {
     "name": "stderr",
     "output_type": "stream",
     "text": [
      " 88%|████████▊ | 79/90 [07:48<00:50,  4.57s/it]"
     ]
    },
    {
     "name": "stdout",
     "output_type": "stream",
     "text": []
    },
    {
     "name": "stdout",
     "output_type": "stream",
     "text": [
      "\n"
     ]
    },
    {
     "name": "stderr",
     "output_type": "stream",
     "text": [
      " 89%|████████▉ | 80/90 [07:51<00:42,  4.22s/it]"
     ]
    },
    {
     "name": "stdout",
     "output_type": "stream",
     "text": []
    },
    {
     "name": "stdout",
     "output_type": "stream",
     "text": [
      "\n"
     ]
    },
    {
     "name": "stderr",
     "output_type": "stream",
     "text": [
      " 90%|█████████ | 81/90 [07:57<00:42,  4.70s/it]"
     ]
    },
    {
     "name": "stdout",
     "output_type": "stream",
     "text": []
    },
    {
     "name": "stdout",
     "output_type": "stream",
     "text": [
      "\n"
     ]
    },
    {
     "name": "stderr",
     "output_type": "stream",
     "text": [
      " 91%|█████████ | 82/90 [08:03<00:41,  5.20s/it]"
     ]
    },
    {
     "name": "stdout",
     "output_type": "stream",
     "text": []
    },
    {
     "name": "stdout",
     "output_type": "stream",
     "text": [
      "\n"
     ]
    },
    {
     "name": "stderr",
     "output_type": "stream",
     "text": [
      " 92%|█████████▏| 83/90 [08:13<00:46,  6.60s/it]"
     ]
    },
    {
     "name": "stdout",
     "output_type": "stream",
     "text": []
    },
    {
     "name": "stdout",
     "output_type": "stream",
     "text": [
      "\n"
     ]
    },
    {
     "name": "stderr",
     "output_type": "stream",
     "text": [
      " 93%|█████████▎| 84/90 [08:18<00:36,  6.13s/it]"
     ]
    },
    {
     "name": "stdout",
     "output_type": "stream",
     "text": []
    },
    {
     "name": "stdout",
     "output_type": "stream",
     "text": [
      "\n"
     ]
    },
    {
     "name": "stderr",
     "output_type": "stream",
     "text": [
      " 94%|█████████▍| 85/90 [08:23<00:29,  5.90s/it]"
     ]
    },
    {
     "name": "stdout",
     "output_type": "stream",
     "text": []
    },
    {
     "name": "stdout",
     "output_type": "stream",
     "text": [
      "\n"
     ]
    },
    {
     "name": "stderr",
     "output_type": "stream",
     "text": [
      " 96%|█████████▌| 86/90 [08:28<00:21,  5.43s/it]"
     ]
    },
    {
     "name": "stdout",
     "output_type": "stream",
     "text": []
    },
    {
     "name": "stdout",
     "output_type": "stream",
     "text": [
      "\n"
     ]
    },
    {
     "name": "stderr",
     "output_type": "stream",
     "text": [
      " 97%|█████████▋| 87/90 [08:34<00:16,  5.66s/it]"
     ]
    },
    {
     "name": "stdout",
     "output_type": "stream",
     "text": []
    },
    {
     "name": "stdout",
     "output_type": "stream",
     "text": [
      "\n"
     ]
    },
    {
     "name": "stderr",
     "output_type": "stream",
     "text": [
      " 98%|█████████▊| 88/90 [08:40<00:11,  5.69s/it]"
     ]
    },
    {
     "name": "stdout",
     "output_type": "stream",
     "text": []
    },
    {
     "name": "stdout",
     "output_type": "stream",
     "text": [
      "\n"
     ]
    },
    {
     "name": "stderr",
     "output_type": "stream",
     "text": [
      " 99%|█████████▉| 89/90 [08:44<00:05,  5.30s/it]"
     ]
    },
    {
     "name": "stdout",
     "output_type": "stream",
     "text": []
    },
    {
     "name": "stdout",
     "output_type": "stream",
     "text": [
      "\n"
     ]
    },
    {
     "name": "stderr",
     "output_type": "stream",
     "text": [
      "100%|██████████| 90/90 [08:48<00:00,  4.78s/it]\n",
      "  0%|          | 0/90 [00:00<?, ?it/s]"
     ]
    },
    {
     "name": "stdout",
     "output_type": "stream",
     "text": []
    },
    {
     "name": "stdout",
     "output_type": "stream",
     "text": [
      "\n"
     ]
    },
    {
     "name": "stderr",
     "output_type": "stream",
     "text": [
      "  1%|          | 1/90 [00:07<11:45,  7.93s/it]"
     ]
    },
    {
     "name": "stdout",
     "output_type": "stream",
     "text": []
    },
    {
     "name": "stdout",
     "output_type": "stream",
     "text": [
      "\n"
     ]
    },
    {
     "name": "stderr",
     "output_type": "stream",
     "text": [
      "  2%|▏         | 2/90 [00:13<10:33,  7.20s/it]"
     ]
    },
    {
     "name": "stdout",
     "output_type": "stream",
     "text": []
    },
    {
     "name": "stdout",
     "output_type": "stream",
     "text": [
      "\n"
     ]
    },
    {
     "name": "stderr",
     "output_type": "stream",
     "text": [
      "  3%|▎         | 3/90 [00:18<09:29,  6.55s/it]"
     ]
    },
    {
     "name": "stdout",
     "output_type": "stream",
     "text": []
    },
    {
     "name": "stdout",
     "output_type": "stream",
     "text": [
      "\n"
     ]
    },
    {
     "name": "stderr",
     "output_type": "stream",
     "text": [
      "  4%|▍         | 4/90 [00:22<08:15,  5.77s/it]"
     ]
    },
    {
     "name": "stdout",
     "output_type": "stream",
     "text": []
    },
    {
     "name": "stdout",
     "output_type": "stream",
     "text": [
      "\n"
     ]
    },
    {
     "name": "stderr",
     "output_type": "stream",
     "text": [
      "  6%|▌         | 5/90 [00:26<07:19,  5.17s/it]"
     ]
    },
    {
     "name": "stdout",
     "output_type": "stream",
     "text": []
    },
    {
     "name": "stdout",
     "output_type": "stream",
     "text": [
      "\n"
     ]
    },
    {
     "name": "stderr",
     "output_type": "stream",
     "text": [
      "  7%|▋         | 6/90 [00:30<06:53,  4.92s/it]"
     ]
    },
    {
     "name": "stdout",
     "output_type": "stream",
     "text": []
    },
    {
     "name": "stdout",
     "output_type": "stream",
     "text": [
      "\n"
     ]
    },
    {
     "name": "stderr",
     "output_type": "stream",
     "text": [
      "  8%|▊         | 7/90 [00:35<06:51,  4.96s/it]"
     ]
    },
    {
     "name": "stdout",
     "output_type": "stream",
     "text": []
    },
    {
     "name": "stdout",
     "output_type": "stream",
     "text": [
      "\n"
     ]
    },
    {
     "name": "stderr",
     "output_type": "stream",
     "text": [
      "  9%|▉         | 8/90 [00:39<06:19,  4.63s/it]"
     ]
    },
    {
     "name": "stdout",
     "output_type": "stream",
     "text": []
    },
    {
     "name": "stdout",
     "output_type": "stream",
     "text": [
      "\n"
     ]
    },
    {
     "name": "stderr",
     "output_type": "stream",
     "text": [
      " 10%|█         | 9/90 [00:46<07:02,  5.21s/it]"
     ]
    },
    {
     "name": "stdout",
     "output_type": "stream",
     "text": []
    },
    {
     "name": "stdout",
     "output_type": "stream",
     "text": [
      "\n"
     ]
    },
    {
     "name": "stderr",
     "output_type": "stream",
     "text": [
      " 11%|█         | 10/90 [00:50<06:32,  4.91s/it]"
     ]
    },
    {
     "name": "stdout",
     "output_type": "stream",
     "text": []
    },
    {
     "name": "stdout",
     "output_type": "stream",
     "text": [
      "\n"
     ]
    },
    {
     "name": "stderr",
     "output_type": "stream",
     "text": [
      " 12%|█▏        | 11/90 [00:53<05:45,  4.37s/it]"
     ]
    },
    {
     "name": "stdout",
     "output_type": "stream",
     "text": []
    },
    {
     "name": "stdout",
     "output_type": "stream",
     "text": [
      "\n"
     ]
    },
    {
     "name": "stderr",
     "output_type": "stream",
     "text": [
      " 13%|█▎        | 12/90 [00:57<05:28,  4.21s/it]"
     ]
    },
    {
     "name": "stdout",
     "output_type": "stream",
     "text": []
    },
    {
     "name": "stdout",
     "output_type": "stream",
     "text": [
      "\n"
     ]
    },
    {
     "name": "stderr",
     "output_type": "stream",
     "text": [
      " 14%|█▍        | 13/90 [01:03<06:19,  4.93s/it]"
     ]
    },
    {
     "name": "stdout",
     "output_type": "stream",
     "text": []
    },
    {
     "name": "stdout",
     "output_type": "stream",
     "text": [
      "\n"
     ]
    },
    {
     "name": "stderr",
     "output_type": "stream",
     "text": [
      " 16%|█▌        | 14/90 [01:11<07:11,  5.68s/it]"
     ]
    },
    {
     "name": "stdout",
     "output_type": "stream",
     "text": []
    },
    {
     "name": "stdout",
     "output_type": "stream",
     "text": [
      "\n"
     ]
    },
    {
     "name": "stderr",
     "output_type": "stream",
     "text": [
      " 17%|█▋        | 15/90 [01:15<06:32,  5.23s/it]"
     ]
    },
    {
     "name": "stdout",
     "output_type": "stream",
     "text": []
    },
    {
     "name": "stdout",
     "output_type": "stream",
     "text": [
      "\n"
     ]
    },
    {
     "name": "stderr",
     "output_type": "stream",
     "text": [
      " 18%|█▊        | 16/90 [01:23<07:31,  6.09s/it]"
     ]
    },
    {
     "name": "stdout",
     "output_type": "stream",
     "text": []
    },
    {
     "name": "stdout",
     "output_type": "stream",
     "text": [
      "\n"
     ]
    },
    {
     "name": "stderr",
     "output_type": "stream",
     "text": [
      " 19%|█▉        | 17/90 [01:28<07:10,  5.90s/it]"
     ]
    },
    {
     "name": "stdout",
     "output_type": "stream",
     "text": []
    },
    {
     "name": "stdout",
     "output_type": "stream",
     "text": [
      "\n"
     ]
    },
    {
     "name": "stderr",
     "output_type": "stream",
     "text": [
      " 20%|██        | 18/90 [01:32<06:14,  5.21s/it]"
     ]
    },
    {
     "name": "stdout",
     "output_type": "stream",
     "text": []
    },
    {
     "name": "stdout",
     "output_type": "stream",
     "text": [
      "\n"
     ]
    },
    {
     "name": "stderr",
     "output_type": "stream",
     "text": [
      " 21%|██        | 19/90 [01:38<06:22,  5.38s/it]"
     ]
    },
    {
     "name": "stdout",
     "output_type": "stream",
     "text": []
    },
    {
     "name": "stdout",
     "output_type": "stream",
     "text": [
      "\n"
     ]
    },
    {
     "name": "stderr",
     "output_type": "stream",
     "text": [
      " 22%|██▏       | 20/90 [01:41<05:30,  4.72s/it]"
     ]
    },
    {
     "name": "stdout",
     "output_type": "stream",
     "text": []
    },
    {
     "name": "stdout",
     "output_type": "stream",
     "text": [
      "\n"
     ]
    },
    {
     "name": "stderr",
     "output_type": "stream",
     "text": [
      " 23%|██▎       | 21/90 [01:46<05:38,  4.90s/it]"
     ]
    },
    {
     "name": "stdout",
     "output_type": "stream",
     "text": []
    },
    {
     "name": "stdout",
     "output_type": "stream",
     "text": [
      "\n"
     ]
    },
    {
     "name": "stderr",
     "output_type": "stream",
     "text": [
      " 24%|██▍       | 22/90 [01:55<06:53,  6.08s/it]"
     ]
    },
    {
     "name": "stdout",
     "output_type": "stream",
     "text": []
    },
    {
     "name": "stdout",
     "output_type": "stream",
     "text": [
      "\n"
     ]
    },
    {
     "name": "stderr",
     "output_type": "stream",
     "text": [
      " 26%|██▌       | 23/90 [02:01<06:46,  6.06s/it]"
     ]
    },
    {
     "name": "stdout",
     "output_type": "stream",
     "text": []
    },
    {
     "name": "stdout",
     "output_type": "stream",
     "text": [
      "\n"
     ]
    },
    {
     "name": "stderr",
     "output_type": "stream",
     "text": [
      " 27%|██▋       | 24/90 [02:06<06:22,  5.79s/it]"
     ]
    },
    {
     "name": "stdout",
     "output_type": "stream",
     "text": []
    },
    {
     "name": "stdout",
     "output_type": "stream",
     "text": [
      "\n"
     ]
    },
    {
     "name": "stderr",
     "output_type": "stream",
     "text": [
      " 28%|██▊       | 25/90 [02:12<06:20,  5.85s/it]"
     ]
    },
    {
     "name": "stdout",
     "output_type": "stream",
     "text": []
    },
    {
     "name": "stdout",
     "output_type": "stream",
     "text": [
      "\n"
     ]
    },
    {
     "name": "stderr",
     "output_type": "stream",
     "text": [
      " 29%|██▉       | 26/90 [02:19<06:39,  6.24s/it]"
     ]
    },
    {
     "name": "stdout",
     "output_type": "stream",
     "text": []
    },
    {
     "name": "stdout",
     "output_type": "stream",
     "text": [
      "\n"
     ]
    },
    {
     "name": "stderr",
     "output_type": "stream",
     "text": [
      " 30%|███       | 27/90 [02:24<06:09,  5.86s/it]"
     ]
    },
    {
     "name": "stdout",
     "output_type": "stream",
     "text": []
    },
    {
     "name": "stdout",
     "output_type": "stream",
     "text": [
      "\n"
     ]
    },
    {
     "name": "stderr",
     "output_type": "stream",
     "text": [
      " 31%|███       | 28/90 [02:31<06:11,  6.00s/it]"
     ]
    },
    {
     "name": "stdout",
     "output_type": "stream",
     "text": []
    },
    {
     "name": "stdout",
     "output_type": "stream",
     "text": [
      "\n"
     ]
    },
    {
     "name": "stderr",
     "output_type": "stream",
     "text": [
      " 32%|███▏      | 29/90 [02:39<06:48,  6.70s/it]"
     ]
    },
    {
     "name": "stdout",
     "output_type": "stream",
     "text": []
    },
    {
     "name": "stdout",
     "output_type": "stream",
     "text": [
      "\n"
     ]
    },
    {
     "name": "stderr",
     "output_type": "stream",
     "text": [
      " 33%|███▎      | 30/90 [02:45<06:36,  6.61s/it]"
     ]
    },
    {
     "name": "stdout",
     "output_type": "stream",
     "text": []
    },
    {
     "name": "stdout",
     "output_type": "stream",
     "text": [
      "\n"
     ]
    },
    {
     "name": "stderr",
     "output_type": "stream",
     "text": [
      " 34%|███▍      | 31/90 [02:52<06:36,  6.71s/it]"
     ]
    },
    {
     "name": "stdout",
     "output_type": "stream",
     "text": []
    },
    {
     "name": "stdout",
     "output_type": "stream",
     "text": [
      "\n"
     ]
    },
    {
     "name": "stderr",
     "output_type": "stream",
     "text": [
      " 36%|███▌      | 32/90 [03:00<06:39,  6.90s/it]"
     ]
    },
    {
     "name": "stdout",
     "output_type": "stream",
     "text": []
    },
    {
     "name": "stdout",
     "output_type": "stream",
     "text": [
      "\n"
     ]
    },
    {
     "name": "stderr",
     "output_type": "stream",
     "text": [
      " 37%|███▋      | 33/90 [03:05<06:07,  6.45s/it]"
     ]
    },
    {
     "name": "stdout",
     "output_type": "stream",
     "text": []
    },
    {
     "name": "stdout",
     "output_type": "stream",
     "text": [
      "\n"
     ]
    },
    {
     "name": "stderr",
     "output_type": "stream",
     "text": [
      " 38%|███▊      | 34/90 [03:09<05:12,  5.58s/it]"
     ]
    },
    {
     "name": "stdout",
     "output_type": "stream",
     "text": []
    },
    {
     "name": "stdout",
     "output_type": "stream",
     "text": [
      "\n"
     ]
    },
    {
     "name": "stderr",
     "output_type": "stream",
     "text": [
      " 39%|███▉      | 35/90 [03:13<04:44,  5.18s/it]"
     ]
    },
    {
     "name": "stdout",
     "output_type": "stream",
     "text": []
    },
    {
     "name": "stdout",
     "output_type": "stream",
     "text": [
      "\n"
     ]
    },
    {
     "name": "stderr",
     "output_type": "stream",
     "text": [
      " 40%|████      | 36/90 [03:17<04:27,  4.96s/it]"
     ]
    },
    {
     "name": "stdout",
     "output_type": "stream",
     "text": []
    },
    {
     "name": "stdout",
     "output_type": "stream",
     "text": [
      "\n"
     ]
    },
    {
     "name": "stderr",
     "output_type": "stream",
     "text": [
      " 41%|████      | 37/90 [03:22<04:12,  4.76s/it]"
     ]
    },
    {
     "name": "stdout",
     "output_type": "stream",
     "text": []
    },
    {
     "name": "stdout",
     "output_type": "stream",
     "text": [
      "\n"
     ]
    },
    {
     "name": "stderr",
     "output_type": "stream",
     "text": [
      " 42%|████▏     | 38/90 [03:26<04:03,  4.68s/it]"
     ]
    },
    {
     "name": "stdout",
     "output_type": "stream",
     "text": []
    },
    {
     "name": "stdout",
     "output_type": "stream",
     "text": [
      "\n"
     ]
    },
    {
     "name": "stderr",
     "output_type": "stream",
     "text": [
      " 43%|████▎     | 39/90 [03:31<03:55,  4.62s/it]"
     ]
    },
    {
     "name": "stdout",
     "output_type": "stream",
     "text": []
    },
    {
     "name": "stdout",
     "output_type": "stream",
     "text": [
      "\n"
     ]
    },
    {
     "name": "stderr",
     "output_type": "stream",
     "text": [
      " 44%|████▍     | 40/90 [03:36<03:56,  4.72s/it]"
     ]
    },
    {
     "name": "stdout",
     "output_type": "stream",
     "text": []
    },
    {
     "name": "stdout",
     "output_type": "stream",
     "text": [
      "\n"
     ]
    },
    {
     "name": "stderr",
     "output_type": "stream",
     "text": [
      " 46%|████▌     | 41/90 [03:40<03:51,  4.73s/it]"
     ]
    },
    {
     "name": "stdout",
     "output_type": "stream",
     "text": []
    },
    {
     "name": "stdout",
     "output_type": "stream",
     "text": [
      "\n"
     ]
    },
    {
     "name": "stderr",
     "output_type": "stream",
     "text": [
      " 47%|████▋     | 42/90 [03:45<03:49,  4.78s/it]"
     ]
    },
    {
     "name": "stdout",
     "output_type": "stream",
     "text": []
    },
    {
     "name": "stdout",
     "output_type": "stream",
     "text": [
      "\n"
     ]
    },
    {
     "name": "stderr",
     "output_type": "stream",
     "text": [
      " 48%|████▊     | 43/90 [03:53<04:21,  5.56s/it]"
     ]
    },
    {
     "name": "stdout",
     "output_type": "stream",
     "text": []
    },
    {
     "name": "stdout",
     "output_type": "stream",
     "text": [
      "\n"
     ]
    },
    {
     "name": "stderr",
     "output_type": "stream",
     "text": [
      " 49%|████▉     | 44/90 [04:00<04:44,  6.19s/it]"
     ]
    },
    {
     "name": "stdout",
     "output_type": "stream",
     "text": []
    },
    {
     "name": "stdout",
     "output_type": "stream",
     "text": [
      "\n"
     ]
    },
    {
     "name": "stderr",
     "output_type": "stream",
     "text": [
      " 50%|█████     | 45/90 [04:05<04:15,  5.68s/it]"
     ]
    },
    {
     "name": "stdout",
     "output_type": "stream",
     "text": []
    },
    {
     "name": "stdout",
     "output_type": "stream",
     "text": [
      "\n"
     ]
    },
    {
     "name": "stderr",
     "output_type": "stream",
     "text": [
      " 51%|█████     | 46/90 [04:09<03:46,  5.14s/it]"
     ]
    },
    {
     "name": "stdout",
     "output_type": "stream",
     "text": []
    },
    {
     "name": "stdout",
     "output_type": "stream",
     "text": [
      "\n"
     ]
    },
    {
     "name": "stderr",
     "output_type": "stream",
     "text": [
      " 52%|█████▏    | 47/90 [04:12<03:16,  4.58s/it]"
     ]
    },
    {
     "name": "stdout",
     "output_type": "stream",
     "text": []
    },
    {
     "name": "stdout",
     "output_type": "stream",
     "text": [
      "\n"
     ]
    },
    {
     "name": "stderr",
     "output_type": "stream",
     "text": [
      " 53%|█████▎    | 48/90 [04:19<03:38,  5.19s/it]"
     ]
    },
    {
     "name": "stdout",
     "output_type": "stream",
     "text": []
    },
    {
     "name": "stdout",
     "output_type": "stream",
     "text": [
      "\n"
     ]
    },
    {
     "name": "stderr",
     "output_type": "stream",
     "text": [
      " 54%|█████▍    | 49/90 [04:23<03:25,  5.02s/it]"
     ]
    },
    {
     "name": "stdout",
     "output_type": "stream",
     "text": []
    },
    {
     "name": "stdout",
     "output_type": "stream",
     "text": [
      "\n"
     ]
    },
    {
     "name": "stderr",
     "output_type": "stream",
     "text": [
      " 56%|█████▌    | 50/90 [04:30<03:43,  5.60s/it]"
     ]
    },
    {
     "name": "stdout",
     "output_type": "stream",
     "text": []
    },
    {
     "name": "stdout",
     "output_type": "stream",
     "text": [
      "\n"
     ]
    },
    {
     "name": "stderr",
     "output_type": "stream",
     "text": [
      " 57%|█████▋    | 51/90 [04:40<04:33,  7.00s/it]"
     ]
    },
    {
     "name": "stdout",
     "output_type": "stream",
     "text": []
    },
    {
     "name": "stdout",
     "output_type": "stream",
     "text": [
      "\n"
     ]
    },
    {
     "name": "stderr",
     "output_type": "stream",
     "text": [
      " 58%|█████▊    | 52/90 [04:45<04:02,  6.39s/it]"
     ]
    },
    {
     "name": "stdout",
     "output_type": "stream",
     "text": []
    },
    {
     "name": "stdout",
     "output_type": "stream",
     "text": [
      "\n"
     ]
    },
    {
     "name": "stderr",
     "output_type": "stream",
     "text": [
      " 59%|█████▉    | 53/90 [04:51<03:45,  6.08s/it]"
     ]
    },
    {
     "name": "stdout",
     "output_type": "stream",
     "text": []
    },
    {
     "name": "stdout",
     "output_type": "stream",
     "text": [
      "\n"
     ]
    },
    {
     "name": "stderr",
     "output_type": "stream",
     "text": [
      " 60%|██████    | 54/90 [04:57<03:46,  6.28s/it]"
     ]
    },
    {
     "name": "stdout",
     "output_type": "stream",
     "text": []
    },
    {
     "name": "stdout",
     "output_type": "stream",
     "text": [
      "\n"
     ]
    },
    {
     "name": "stderr",
     "output_type": "stream",
     "text": [
      " 61%|██████    | 55/90 [05:02<03:17,  5.65s/it]"
     ]
    },
    {
     "name": "stdout",
     "output_type": "stream",
     "text": []
    },
    {
     "name": "stdout",
     "output_type": "stream",
     "text": [
      "\n"
     ]
    },
    {
     "name": "stderr",
     "output_type": "stream",
     "text": [
      " 62%|██████▏   | 56/90 [05:06<03:02,  5.35s/it]"
     ]
    },
    {
     "name": "stdout",
     "output_type": "stream",
     "text": []
    },
    {
     "name": "stdout",
     "output_type": "stream",
     "text": [
      "\n"
     ]
    },
    {
     "name": "stderr",
     "output_type": "stream",
     "text": [
      " 63%|██████▎   | 57/90 [05:15<03:25,  6.22s/it]"
     ]
    },
    {
     "name": "stdout",
     "output_type": "stream",
     "text": []
    },
    {
     "name": "stdout",
     "output_type": "stream",
     "text": [
      "\n"
     ]
    },
    {
     "name": "stderr",
     "output_type": "stream",
     "text": [
      " 64%|██████▍   | 58/90 [05:20<03:14,  6.09s/it]"
     ]
    },
    {
     "name": "stdout",
     "output_type": "stream",
     "text": []
    },
    {
     "name": "stdout",
     "output_type": "stream",
     "text": [
      "\n"
     ]
    },
    {
     "name": "stderr",
     "output_type": "stream",
     "text": [
      " 66%|██████▌   | 59/90 [05:25<02:52,  5.57s/it]"
     ]
    },
    {
     "name": "stdout",
     "output_type": "stream",
     "text": []
    },
    {
     "name": "stdout",
     "output_type": "stream",
     "text": [
      "\n"
     ]
    },
    {
     "name": "stderr",
     "output_type": "stream",
     "text": [
      " 67%|██████▋   | 60/90 [05:30<02:47,  5.59s/it]"
     ]
    },
    {
     "name": "stdout",
     "output_type": "stream",
     "text": []
    },
    {
     "name": "stdout",
     "output_type": "stream",
     "text": [
      "\n"
     ]
    },
    {
     "name": "stderr",
     "output_type": "stream",
     "text": [
      " 68%|██████▊   | 61/90 [05:34<02:25,  5.01s/it]"
     ]
    },
    {
     "name": "stdout",
     "output_type": "stream",
     "text": []
    },
    {
     "name": "stdout",
     "output_type": "stream",
     "text": [
      "\n"
     ]
    },
    {
     "name": "stderr",
     "output_type": "stream",
     "text": [
      " 69%|██████▉   | 62/90 [05:39<02:23,  5.11s/it]"
     ]
    },
    {
     "name": "stdout",
     "output_type": "stream",
     "text": []
    },
    {
     "name": "stdout",
     "output_type": "stream",
     "text": [
      "\n"
     ]
    },
    {
     "name": "stderr",
     "output_type": "stream",
     "text": [
      " 70%|███████   | 63/90 [05:43<02:06,  4.68s/it]"
     ]
    },
    {
     "name": "stdout",
     "output_type": "stream",
     "text": []
    },
    {
     "name": "stdout",
     "output_type": "stream",
     "text": [
      "\n"
     ]
    },
    {
     "name": "stderr",
     "output_type": "stream",
     "text": [
      " 71%|███████   | 64/90 [05:50<02:18,  5.34s/it]"
     ]
    },
    {
     "name": "stdout",
     "output_type": "stream",
     "text": []
    },
    {
     "name": "stdout",
     "output_type": "stream",
     "text": [
      "\n"
     ]
    },
    {
     "name": "stderr",
     "output_type": "stream",
     "text": [
      " 72%|███████▏  | 65/90 [53:22<5:58:02, 859.29s/it]"
     ]
    },
    {
     "name": "stdout",
     "output_type": "stream",
     "text": []
    },
    {
     "name": "stdout",
     "output_type": "stream",
     "text": [
      "\n"
     ]
    },
    {
     "name": "stderr",
     "output_type": "stream",
     "text": [
      " 73%|███████▎  | 66/90 [53:26<4:01:08, 602.85s/it]"
     ]
    },
    {
     "name": "stdout",
     "output_type": "stream",
     "text": []
    },
    {
     "name": "stdout",
     "output_type": "stream",
     "text": [
      "\n"
     ]
    },
    {
     "name": "stderr",
     "output_type": "stream",
     "text": [
      " 74%|███████▍  | 67/90 [53:32<2:42:26, 423.78s/it]"
     ]
    },
    {
     "name": "stdout",
     "output_type": "stream",
     "text": []
    },
    {
     "name": "stdout",
     "output_type": "stream",
     "text": [
      "\n"
     ]
    },
    {
     "name": "stderr",
     "output_type": "stream",
     "text": [
      " 76%|███████▌  | 68/90 [53:37<1:49:20, 298.19s/it]"
     ]
    },
    {
     "name": "stdout",
     "output_type": "stream",
     "text": []
    },
    {
     "name": "stdout",
     "output_type": "stream",
     "text": [
      "\n"
     ]
    },
    {
     "name": "stderr",
     "output_type": "stream",
     "text": [
      " 77%|███████▋  | 69/90 [53:43<1:13:38, 210.38s/it]"
     ]
    },
    {
     "name": "stdout",
     "output_type": "stream",
     "text": []
    },
    {
     "name": "stdout",
     "output_type": "stream",
     "text": [
      "\n"
     ]
    },
    {
     "name": "stderr",
     "output_type": "stream",
     "text": [
      " 78%|███████▊  | 70/90 [53:46<49:25, 148.27s/it]  "
     ]
    },
    {
     "name": "stdout",
     "output_type": "stream",
     "text": []
    },
    {
     "name": "stdout",
     "output_type": "stream",
     "text": [
      "\n"
     ]
    },
    {
     "name": "stderr",
     "output_type": "stream",
     "text": [
      " 79%|███████▉  | 71/90 [53:50<33:12, 104.86s/it]"
     ]
    },
    {
     "name": "stdout",
     "output_type": "stream",
     "text": []
    },
    {
     "name": "stdout",
     "output_type": "stream",
     "text": [
      "\n"
     ]
    },
    {
     "name": "stderr",
     "output_type": "stream",
     "text": [
      " 80%|████████  | 72/90 [53:53<22:20, 74.45s/it] "
     ]
    },
    {
     "name": "stdout",
     "output_type": "stream",
     "text": []
    },
    {
     "name": "stdout",
     "output_type": "stream",
     "text": [
      "\n"
     ]
    },
    {
     "name": "stderr",
     "output_type": "stream",
     "text": [
      " 81%|████████  | 73/90 [53:59<15:13, 53.71s/it]"
     ]
    },
    {
     "name": "stdout",
     "output_type": "stream",
     "text": []
    },
    {
     "name": "stdout",
     "output_type": "stream",
     "text": [
      "\n"
     ]
    },
    {
     "name": "stderr",
     "output_type": "stream",
     "text": [
      " 82%|████████▏ | 74/90 [54:04<10:26, 39.14s/it]"
     ]
    },
    {
     "name": "stdout",
     "output_type": "stream",
     "text": []
    },
    {
     "name": "stdout",
     "output_type": "stream",
     "text": [
      "\n"
     ]
    },
    {
     "name": "stderr",
     "output_type": "stream",
     "text": [
      " 83%|████████▎ | 75/90 [54:07<07:05, 28.37s/it]"
     ]
    },
    {
     "name": "stdout",
     "output_type": "stream",
     "text": []
    },
    {
     "name": "stdout",
     "output_type": "stream",
     "text": [
      "\n"
     ]
    },
    {
     "name": "stderr",
     "output_type": "stream",
     "text": [
      " 84%|████████▍ | 76/90 [54:12<04:59, 21.36s/it]"
     ]
    },
    {
     "name": "stdout",
     "output_type": "stream",
     "text": []
    },
    {
     "name": "stdout",
     "output_type": "stream",
     "text": [
      "\n"
     ]
    },
    {
     "name": "stderr",
     "output_type": "stream",
     "text": [
      " 86%|████████▌ | 77/90 [54:17<03:32, 16.38s/it]"
     ]
    },
    {
     "name": "stdout",
     "output_type": "stream",
     "text": []
    },
    {
     "name": "stdout",
     "output_type": "stream",
     "text": [
      "\n"
     ]
    },
    {
     "name": "stderr",
     "output_type": "stream",
     "text": [
      " 87%|████████▋ | 78/90 [54:20<02:27, 12.31s/it]"
     ]
    },
    {
     "name": "stdout",
     "output_type": "stream",
     "text": []
    },
    {
     "name": "stdout",
     "output_type": "stream",
     "text": [
      "\n"
     ]
    },
    {
     "name": "stderr",
     "output_type": "stream",
     "text": [
      " 88%|████████▊ | 79/90 [54:24<01:48,  9.85s/it]"
     ]
    },
    {
     "name": "stdout",
     "output_type": "stream",
     "text": []
    },
    {
     "name": "stdout",
     "output_type": "stream",
     "text": [
      "\n"
     ]
    },
    {
     "name": "stderr",
     "output_type": "stream",
     "text": [
      " 89%|████████▉ | 80/90 [54:27<01:17,  7.76s/it]"
     ]
    },
    {
     "name": "stdout",
     "output_type": "stream",
     "text": []
    },
    {
     "name": "stdout",
     "output_type": "stream",
     "text": [
      "\n"
     ]
    },
    {
     "name": "stderr",
     "output_type": "stream",
     "text": [
      " 90%|█████████ | 81/90 [54:30<00:57,  6.38s/it]"
     ]
    },
    {
     "name": "stdout",
     "output_type": "stream",
     "text": []
    },
    {
     "name": "stdout",
     "output_type": "stream",
     "text": [
      "\n"
     ]
    },
    {
     "name": "stderr",
     "output_type": "stream",
     "text": [
      " 91%|█████████ | 82/90 [54:33<00:42,  5.35s/it]"
     ]
    },
    {
     "name": "stdout",
     "output_type": "stream",
     "text": []
    },
    {
     "name": "stdout",
     "output_type": "stream",
     "text": [
      "\n"
     ]
    },
    {
     "name": "stderr",
     "output_type": "stream",
     "text": [
      " 92%|█████████▏| 83/90 [54:36<00:33,  4.80s/it]"
     ]
    },
    {
     "name": "stdout",
     "output_type": "stream",
     "text": []
    },
    {
     "name": "stdout",
     "output_type": "stream",
     "text": [
      "\n"
     ]
    },
    {
     "name": "stderr",
     "output_type": "stream",
     "text": [
      " 93%|█████████▎| 84/90 [54:41<00:29,  4.93s/it]"
     ]
    },
    {
     "name": "stdout",
     "output_type": "stream",
     "text": []
    },
    {
     "name": "stdout",
     "output_type": "stream",
     "text": [
      "\n"
     ]
    },
    {
     "name": "stderr",
     "output_type": "stream",
     "text": [
      " 94%|█████████▍| 85/90 [54:44<00:21,  4.29s/it]"
     ]
    },
    {
     "name": "stdout",
     "output_type": "stream",
     "text": []
    },
    {
     "name": "stdout",
     "output_type": "stream",
     "text": [
      "\n"
     ]
    },
    {
     "name": "stderr",
     "output_type": "stream",
     "text": [
      " 96%|█████████▌| 86/90 [54:47<00:15,  3.99s/it]"
     ]
    },
    {
     "name": "stdout",
     "output_type": "stream",
     "text": []
    },
    {
     "name": "stdout",
     "output_type": "stream",
     "text": [
      "\n"
     ]
    },
    {
     "name": "stderr",
     "output_type": "stream",
     "text": [
      " 97%|█████████▋| 87/90 [54:51<00:11,  3.74s/it]"
     ]
    },
    {
     "name": "stdout",
     "output_type": "stream",
     "text": []
    },
    {
     "name": "stdout",
     "output_type": "stream",
     "text": [
      "\n"
     ]
    },
    {
     "name": "stderr",
     "output_type": "stream",
     "text": [
      " 98%|█████████▊| 88/90 [54:56<00:08,  4.17s/it]"
     ]
    },
    {
     "name": "stdout",
     "output_type": "stream",
     "text": []
    },
    {
     "name": "stdout",
     "output_type": "stream",
     "text": [
      "\n"
     ]
    },
    {
     "name": "stderr",
     "output_type": "stream",
     "text": [
      " 99%|█████████▉| 89/90 [55:02<00:04,  4.66s/it]"
     ]
    },
    {
     "name": "stdout",
     "output_type": "stream",
     "text": []
    },
    {
     "name": "stdout",
     "output_type": "stream",
     "text": [
      "\n"
     ]
    },
    {
     "name": "stderr",
     "output_type": "stream",
     "text": [
      "100%|██████████| 90/90 [55:06<00:00,  4.50s/it]\n",
      "  0%|          | 0/90 [00:00<?, ?it/s]"
     ]
    },
    {
     "name": "stdout",
     "output_type": "stream",
     "text": []
    },
    {
     "name": "stdout",
     "output_type": "stream",
     "text": [
      "\n"
     ]
    },
    {
     "name": "stderr",
     "output_type": "stream",
     "text": [
      "  1%|          | 1/90 [00:05<08:18,  5.60s/it]"
     ]
    },
    {
     "name": "stdout",
     "output_type": "stream",
     "text": []
    },
    {
     "name": "stdout",
     "output_type": "stream",
     "text": [
      "\n"
     ]
    },
    {
     "name": "stderr",
     "output_type": "stream",
     "text": [
      "  2%|▏         | 2/90 [00:09<07:41,  5.24s/it]"
     ]
    },
    {
     "name": "stdout",
     "output_type": "stream",
     "text": []
    },
    {
     "name": "stdout",
     "output_type": "stream",
     "text": [
      "\n"
     ]
    },
    {
     "name": "stderr",
     "output_type": "stream",
     "text": [
      "  3%|▎         | 3/90 [00:13<06:59,  4.82s/it]"
     ]
    },
    {
     "name": "stdout",
     "output_type": "stream",
     "text": []
    },
    {
     "name": "stdout",
     "output_type": "stream",
     "text": [
      "\n"
     ]
    },
    {
     "name": "stderr",
     "output_type": "stream",
     "text": [
      "  4%|▍         | 4/90 [00:19<07:28,  5.22s/it]"
     ]
    },
    {
     "name": "stdout",
     "output_type": "stream",
     "text": []
    },
    {
     "name": "stdout",
     "output_type": "stream",
     "text": [
      "\n"
     ]
    },
    {
     "name": "stderr",
     "output_type": "stream",
     "text": [
      "  6%|▌         | 5/90 [00:23<06:47,  4.79s/it]"
     ]
    },
    {
     "name": "stdout",
     "output_type": "stream",
     "text": []
    },
    {
     "name": "stdout",
     "output_type": "stream",
     "text": [
      "\n"
     ]
    },
    {
     "name": "stderr",
     "output_type": "stream",
     "text": [
      "  7%|▋         | 6/90 [00:27<06:16,  4.48s/it]"
     ]
    },
    {
     "name": "stdout",
     "output_type": "stream",
     "text": []
    },
    {
     "name": "stdout",
     "output_type": "stream",
     "text": [
      "\n"
     ]
    },
    {
     "name": "stderr",
     "output_type": "stream",
     "text": [
      "  8%|▊         | 7/90 [00:32<06:14,  4.51s/it]"
     ]
    },
    {
     "name": "stdout",
     "output_type": "stream",
     "text": []
    },
    {
     "name": "stdout",
     "output_type": "stream",
     "text": [
      "\n"
     ]
    },
    {
     "name": "stderr",
     "output_type": "stream",
     "text": [
      "  9%|▉         | 8/90 [00:38<06:53,  5.04s/it]"
     ]
    },
    {
     "name": "stdout",
     "output_type": "stream",
     "text": []
    },
    {
     "name": "stdout",
     "output_type": "stream",
     "text": [
      "\n"
     ]
    },
    {
     "name": "stderr",
     "output_type": "stream",
     "text": [
      " 10%|█         | 9/90 [00:44<07:23,  5.48s/it]"
     ]
    },
    {
     "name": "stdout",
     "output_type": "stream",
     "text": []
    },
    {
     "name": "stdout",
     "output_type": "stream",
     "text": [
      "\n"
     ]
    },
    {
     "name": "stderr",
     "output_type": "stream",
     "text": [
      " 11%|█         | 10/90 [00:48<06:39,  5.00s/it]"
     ]
    },
    {
     "name": "stdout",
     "output_type": "stream",
     "text": []
    },
    {
     "name": "stdout",
     "output_type": "stream",
     "text": [
      "\n"
     ]
    },
    {
     "name": "stderr",
     "output_type": "stream",
     "text": [
      " 12%|█▏        | 11/90 [00:53<06:21,  4.83s/it]"
     ]
    },
    {
     "name": "stdout",
     "output_type": "stream",
     "text": []
    },
    {
     "name": "stdout",
     "output_type": "stream",
     "text": [
      "\n"
     ]
    },
    {
     "name": "stderr",
     "output_type": "stream",
     "text": [
      " 13%|█▎        | 12/90 [00:59<07:02,  5.41s/it]"
     ]
    },
    {
     "name": "stdout",
     "output_type": "stream",
     "text": []
    },
    {
     "name": "stdout",
     "output_type": "stream",
     "text": [
      "\n"
     ]
    },
    {
     "name": "stderr",
     "output_type": "stream",
     "text": [
      " 14%|█▍        | 13/90 [01:04<06:41,  5.21s/it]"
     ]
    },
    {
     "name": "stdout",
     "output_type": "stream",
     "text": []
    },
    {
     "name": "stdout",
     "output_type": "stream",
     "text": [
      "\n"
     ]
    },
    {
     "name": "stderr",
     "output_type": "stream",
     "text": [
      " 16%|█▌        | 14/90 [01:09<06:33,  5.18s/it]"
     ]
    },
    {
     "name": "stdout",
     "output_type": "stream",
     "text": []
    },
    {
     "name": "stdout",
     "output_type": "stream",
     "text": [
      "\n"
     ]
    },
    {
     "name": "stderr",
     "output_type": "stream",
     "text": [
      " 17%|█▋        | 15/90 [01:15<06:41,  5.35s/it]"
     ]
    },
    {
     "name": "stdout",
     "output_type": "stream",
     "text": []
    },
    {
     "name": "stdout",
     "output_type": "stream",
     "text": [
      "\n"
     ]
    },
    {
     "name": "stderr",
     "output_type": "stream",
     "text": [
      " 18%|█▊        | 16/90 [01:19<05:56,  4.81s/it]"
     ]
    },
    {
     "name": "stdout",
     "output_type": "stream",
     "text": []
    },
    {
     "name": "stdout",
     "output_type": "stream",
     "text": [
      "\n"
     ]
    },
    {
     "name": "stderr",
     "output_type": "stream",
     "text": [
      " 19%|█▉        | 17/90 [01:23<05:50,  4.80s/it]"
     ]
    },
    {
     "name": "stdout",
     "output_type": "stream",
     "text": []
    },
    {
     "name": "stdout",
     "output_type": "stream",
     "text": [
      "\n"
     ]
    },
    {
     "name": "stderr",
     "output_type": "stream",
     "text": [
      " 20%|██        | 18/90 [01:28<05:36,  4.68s/it]"
     ]
    },
    {
     "name": "stdout",
     "output_type": "stream",
     "text": []
    },
    {
     "name": "stdout",
     "output_type": "stream",
     "text": [
      "\n"
     ]
    },
    {
     "name": "stderr",
     "output_type": "stream",
     "text": [
      " 21%|██        | 19/90 [01:32<05:20,  4.51s/it]"
     ]
    },
    {
     "name": "stdout",
     "output_type": "stream",
     "text": []
    },
    {
     "name": "stdout",
     "output_type": "stream",
     "text": [
      "\n"
     ]
    },
    {
     "name": "stderr",
     "output_type": "stream",
     "text": [
      " 22%|██▏       | 20/90 [01:39<06:19,  5.42s/it]"
     ]
    },
    {
     "name": "stdout",
     "output_type": "stream",
     "text": []
    },
    {
     "name": "stdout",
     "output_type": "stream",
     "text": [
      "\n"
     ]
    },
    {
     "name": "stderr",
     "output_type": "stream",
     "text": [
      " 23%|██▎       | 21/90 [01:45<06:21,  5.53s/it]"
     ]
    },
    {
     "name": "stdout",
     "output_type": "stream",
     "text": []
    },
    {
     "name": "stdout",
     "output_type": "stream",
     "text": [
      "\n"
     ]
    },
    {
     "name": "stderr",
     "output_type": "stream",
     "text": [
      " 24%|██▍       | 22/90 [01:50<05:52,  5.18s/it]"
     ]
    },
    {
     "name": "stdout",
     "output_type": "stream",
     "text": []
    },
    {
     "name": "stdout",
     "output_type": "stream",
     "text": [
      "\n"
     ]
    },
    {
     "name": "stderr",
     "output_type": "stream",
     "text": [
      " 26%|██▌       | 23/90 [01:53<05:07,  4.59s/it]"
     ]
    },
    {
     "name": "stdout",
     "output_type": "stream",
     "text": []
    },
    {
     "name": "stdout",
     "output_type": "stream",
     "text": [
      "\n"
     ]
    },
    {
     "name": "stderr",
     "output_type": "stream",
     "text": [
      " 27%|██▋       | 24/90 [01:58<05:22,  4.89s/it]"
     ]
    },
    {
     "name": "stdout",
     "output_type": "stream",
     "text": []
    },
    {
     "name": "stdout",
     "output_type": "stream",
     "text": [
      "\n"
     ]
    },
    {
     "name": "stderr",
     "output_type": "stream",
     "text": [
      " 28%|██▊       | 25/90 [02:02<04:44,  4.37s/it]"
     ]
    },
    {
     "name": "stdout",
     "output_type": "stream",
     "text": []
    },
    {
     "name": "stdout",
     "output_type": "stream",
     "text": [
      "\n"
     ]
    },
    {
     "name": "stderr",
     "output_type": "stream",
     "text": [
      " 29%|██▉       | 26/90 [02:09<05:29,  5.15s/it]"
     ]
    },
    {
     "name": "stdout",
     "output_type": "stream",
     "text": []
    },
    {
     "name": "stdout",
     "output_type": "stream",
     "text": [
      "\n"
     ]
    },
    {
     "name": "stderr",
     "output_type": "stream",
     "text": [
      " 30%|███       | 27/90 [02:12<04:53,  4.66s/it]"
     ]
    },
    {
     "name": "stdout",
     "output_type": "stream",
     "text": []
    },
    {
     "name": "stdout",
     "output_type": "stream",
     "text": [
      "\n"
     ]
    },
    {
     "name": "stderr",
     "output_type": "stream",
     "text": [
      " 31%|███       | 28/90 [02:17<04:53,  4.74s/it]"
     ]
    },
    {
     "name": "stdout",
     "output_type": "stream",
     "text": []
    },
    {
     "name": "stdout",
     "output_type": "stream",
     "text": [
      "\n"
     ]
    },
    {
     "name": "stderr",
     "output_type": "stream",
     "text": [
      " 32%|███▏      | 29/90 [02:21<04:27,  4.38s/it]"
     ]
    },
    {
     "name": "stdout",
     "output_type": "stream",
     "text": []
    },
    {
     "name": "stdout",
     "output_type": "stream",
     "text": [
      "\n"
     ]
    },
    {
     "name": "stderr",
     "output_type": "stream",
     "text": [
      " 33%|███▎      | 30/90 [02:24<04:12,  4.21s/it]"
     ]
    },
    {
     "name": "stdout",
     "output_type": "stream",
     "text": []
    },
    {
     "name": "stdout",
     "output_type": "stream",
     "text": [
      "\n"
     ]
    },
    {
     "name": "stderr",
     "output_type": "stream",
     "text": [
      " 34%|███▍      | 31/90 [02:28<03:54,  3.97s/it]"
     ]
    },
    {
     "name": "stdout",
     "output_type": "stream",
     "text": []
    },
    {
     "name": "stdout",
     "output_type": "stream",
     "text": [
      "\n"
     ]
    },
    {
     "name": "stderr",
     "output_type": "stream",
     "text": [
      " 36%|███▌      | 32/90 [02:32<03:52,  4.00s/it]"
     ]
    },
    {
     "name": "stdout",
     "output_type": "stream",
     "text": []
    },
    {
     "name": "stdout",
     "output_type": "stream",
     "text": [
      "\n"
     ]
    },
    {
     "name": "stderr",
     "output_type": "stream",
     "text": [
      " 37%|███▋      | 33/90 [02:37<04:04,  4.29s/it]"
     ]
    },
    {
     "name": "stdout",
     "output_type": "stream",
     "text": []
    },
    {
     "name": "stdout",
     "output_type": "stream",
     "text": [
      "\n"
     ]
    },
    {
     "name": "stderr",
     "output_type": "stream",
     "text": [
      " 38%|███▊      | 34/90 [02:40<03:39,  3.92s/it]"
     ]
    },
    {
     "name": "stdout",
     "output_type": "stream",
     "text": []
    },
    {
     "name": "stdout",
     "output_type": "stream",
     "text": [
      "\n"
     ]
    },
    {
     "name": "stderr",
     "output_type": "stream",
     "text": [
      " 39%|███▉      | 35/90 [02:44<03:38,  3.98s/it]"
     ]
    },
    {
     "name": "stdout",
     "output_type": "stream",
     "text": []
    },
    {
     "name": "stdout",
     "output_type": "stream",
     "text": [
      "\n"
     ]
    },
    {
     "name": "stderr",
     "output_type": "stream",
     "text": [
      " 40%|████      | 36/90 [02:50<04:13,  4.69s/it]"
     ]
    },
    {
     "name": "stdout",
     "output_type": "stream",
     "text": []
    },
    {
     "name": "stdout",
     "output_type": "stream",
     "text": [
      "\n"
     ]
    },
    {
     "name": "stderr",
     "output_type": "stream",
     "text": [
      " 41%|████      | 37/90 [02:54<03:58,  4.50s/it]"
     ]
    },
    {
     "name": "stdout",
     "output_type": "stream",
     "text": []
    },
    {
     "name": "stdout",
     "output_type": "stream",
     "text": [
      "\n"
     ]
    },
    {
     "name": "stderr",
     "output_type": "stream",
     "text": [
      " 42%|████▏     | 38/90 [02:58<03:38,  4.20s/it]"
     ]
    },
    {
     "name": "stdout",
     "output_type": "stream",
     "text": []
    },
    {
     "name": "stdout",
     "output_type": "stream",
     "text": [
      "\n"
     ]
    },
    {
     "name": "stderr",
     "output_type": "stream",
     "text": [
      " 43%|████▎     | 39/90 [03:02<03:34,  4.20s/it]"
     ]
    },
    {
     "name": "stdout",
     "output_type": "stream",
     "text": []
    },
    {
     "name": "stdout",
     "output_type": "stream",
     "text": [
      "\n"
     ]
    },
    {
     "name": "stderr",
     "output_type": "stream",
     "text": [
      " 44%|████▍     | 40/90 [03:05<03:09,  3.78s/it]"
     ]
    },
    {
     "name": "stdout",
     "output_type": "stream",
     "text": []
    },
    {
     "name": "stdout",
     "output_type": "stream",
     "text": [
      "\n"
     ]
    },
    {
     "name": "stderr",
     "output_type": "stream",
     "text": [
      " 46%|████▌     | 41/90 [03:10<03:18,  4.05s/it]"
     ]
    },
    {
     "name": "stdout",
     "output_type": "stream",
     "text": []
    },
    {
     "name": "stdout",
     "output_type": "stream",
     "text": [
      "\n"
     ]
    },
    {
     "name": "stderr",
     "output_type": "stream",
     "text": [
      " 47%|████▋     | 42/90 [03:17<03:58,  4.98s/it]"
     ]
    },
    {
     "name": "stdout",
     "output_type": "stream",
     "text": []
    },
    {
     "name": "stdout",
     "output_type": "stream",
     "text": [
      "\n"
     ]
    },
    {
     "name": "stderr",
     "output_type": "stream",
     "text": [
      " 48%|████▊     | 43/90 [03:24<04:27,  5.70s/it]"
     ]
    },
    {
     "name": "stdout",
     "output_type": "stream",
     "text": []
    },
    {
     "name": "stdout",
     "output_type": "stream",
     "text": [
      "\n"
     ]
    },
    {
     "name": "stderr",
     "output_type": "stream",
     "text": [
      " 49%|████▉     | 44/90 [03:28<03:53,  5.07s/it]"
     ]
    },
    {
     "name": "stdout",
     "output_type": "stream",
     "text": []
    },
    {
     "name": "stdout",
     "output_type": "stream",
     "text": [
      "\n"
     ]
    },
    {
     "name": "stderr",
     "output_type": "stream",
     "text": [
      " 50%|█████     | 45/90 [03:32<03:42,  4.94s/it]"
     ]
    },
    {
     "name": "stdout",
     "output_type": "stream",
     "text": []
    },
    {
     "name": "stdout",
     "output_type": "stream",
     "text": [
      "\n"
     ]
    },
    {
     "name": "stderr",
     "output_type": "stream",
     "text": [
      " 51%|█████     | 46/90 [03:35<03:07,  4.25s/it]"
     ]
    },
    {
     "name": "stdout",
     "output_type": "stream",
     "text": []
    },
    {
     "name": "stdout",
     "output_type": "stream",
     "text": [
      "\n"
     ]
    },
    {
     "name": "stderr",
     "output_type": "stream",
     "text": [
      " 52%|█████▏    | 47/90 [03:38<02:44,  3.81s/it]"
     ]
    },
    {
     "name": "stdout",
     "output_type": "stream",
     "text": []
    },
    {
     "name": "stdout",
     "output_type": "stream",
     "text": [
      "\n"
     ]
    },
    {
     "name": "stderr",
     "output_type": "stream",
     "text": [
      " 53%|█████▎    | 48/90 [03:42<02:42,  3.87s/it]"
     ]
    },
    {
     "name": "stdout",
     "output_type": "stream",
     "text": []
    },
    {
     "name": "stdout",
     "output_type": "stream",
     "text": [
      "\n"
     ]
    },
    {
     "name": "stderr",
     "output_type": "stream",
     "text": [
      " 54%|█████▍    | 49/90 [03:49<03:23,  4.97s/it]"
     ]
    },
    {
     "name": "stdout",
     "output_type": "stream",
     "text": []
    },
    {
     "name": "stdout",
     "output_type": "stream",
     "text": [
      "\n"
     ]
    },
    {
     "name": "stderr",
     "output_type": "stream",
     "text": [
      " 56%|█████▌    | 50/90 [03:53<03:06,  4.67s/it]"
     ]
    },
    {
     "name": "stdout",
     "output_type": "stream",
     "text": []
    },
    {
     "name": "stdout",
     "output_type": "stream",
     "text": [
      "\n"
     ]
    },
    {
     "name": "stderr",
     "output_type": "stream",
     "text": [
      " 57%|█████▋    | 51/90 [03:58<03:06,  4.78s/it]"
     ]
    },
    {
     "name": "stdout",
     "output_type": "stream",
     "text": []
    },
    {
     "name": "stdout",
     "output_type": "stream",
     "text": [
      "\n"
     ]
    },
    {
     "name": "stderr",
     "output_type": "stream",
     "text": [
      " 58%|█████▊    | 52/90 [04:04<03:10,  5.02s/it]"
     ]
    },
    {
     "name": "stdout",
     "output_type": "stream",
     "text": []
    },
    {
     "name": "stdout",
     "output_type": "stream",
     "text": [
      "\n"
     ]
    },
    {
     "name": "stderr",
     "output_type": "stream",
     "text": [
      " 59%|█████▉    | 53/90 [04:07<02:42,  4.40s/it]"
     ]
    },
    {
     "name": "stdout",
     "output_type": "stream",
     "text": []
    },
    {
     "name": "stdout",
     "output_type": "stream",
     "text": [
      "\n"
     ]
    },
    {
     "name": "stderr",
     "output_type": "stream",
     "text": [
      " 60%|██████    | 54/90 [04:11<02:39,  4.42s/it]"
     ]
    },
    {
     "name": "stdout",
     "output_type": "stream",
     "text": []
    },
    {
     "name": "stdout",
     "output_type": "stream",
     "text": [
      "\n"
     ]
    },
    {
     "name": "stderr",
     "output_type": "stream",
     "text": [
      " 61%|██████    | 55/90 [04:16<02:32,  4.35s/it]"
     ]
    },
    {
     "name": "stdout",
     "output_type": "stream",
     "text": []
    },
    {
     "name": "stdout",
     "output_type": "stream",
     "text": [
      "\n"
     ]
    },
    {
     "name": "stderr",
     "output_type": "stream",
     "text": [
      " 62%|██████▏   | 56/90 [04:20<02:24,  4.25s/it]"
     ]
    },
    {
     "name": "stdout",
     "output_type": "stream",
     "text": []
    },
    {
     "name": "stdout",
     "output_type": "stream",
     "text": [
      "\n"
     ]
    },
    {
     "name": "stderr",
     "output_type": "stream",
     "text": [
      " 63%|██████▎   | 57/90 [04:24<02:25,  4.42s/it]"
     ]
    },
    {
     "name": "stdout",
     "output_type": "stream",
     "text": []
    },
    {
     "name": "stdout",
     "output_type": "stream",
     "text": [
      "\n"
     ]
    },
    {
     "name": "stderr",
     "output_type": "stream",
     "text": [
      " 64%|██████▍   | 58/90 [04:28<02:18,  4.34s/it]"
     ]
    },
    {
     "name": "stdout",
     "output_type": "stream",
     "text": []
    },
    {
     "name": "stdout",
     "output_type": "stream",
     "text": [
      "\n"
     ]
    },
    {
     "name": "stderr",
     "output_type": "stream",
     "text": [
      " 66%|██████▌   | 59/90 [04:32<02:04,  4.02s/it]"
     ]
    },
    {
     "name": "stdout",
     "output_type": "stream",
     "text": []
    },
    {
     "name": "stdout",
     "output_type": "stream",
     "text": [
      "\n"
     ]
    },
    {
     "name": "stderr",
     "output_type": "stream",
     "text": [
      " 67%|██████▋   | 60/90 [04:36<02:02,  4.07s/it]"
     ]
    },
    {
     "name": "stdout",
     "output_type": "stream",
     "text": []
    },
    {
     "name": "stdout",
     "output_type": "stream",
     "text": [
      "\n"
     ]
    },
    {
     "name": "stderr",
     "output_type": "stream",
     "text": [
      " 68%|██████▊   | 61/90 [04:41<02:05,  4.33s/it]"
     ]
    },
    {
     "name": "stdout",
     "output_type": "stream",
     "text": []
    },
    {
     "name": "stdout",
     "output_type": "stream",
     "text": [
      "\n"
     ]
    },
    {
     "name": "stderr",
     "output_type": "stream",
     "text": [
      " 69%|██████▉   | 62/90 [04:45<02:00,  4.29s/it]"
     ]
    },
    {
     "name": "stdout",
     "output_type": "stream",
     "text": []
    },
    {
     "name": "stdout",
     "output_type": "stream",
     "text": [
      "\n"
     ]
    },
    {
     "name": "stderr",
     "output_type": "stream",
     "text": [
      " 70%|███████   | 63/90 [04:48<01:45,  3.91s/it]"
     ]
    },
    {
     "name": "stdout",
     "output_type": "stream",
     "text": []
    },
    {
     "name": "stdout",
     "output_type": "stream",
     "text": [
      "\n"
     ]
    },
    {
     "name": "stderr",
     "output_type": "stream",
     "text": [
      " 71%|███████   | 64/90 [04:54<01:58,  4.57s/it]"
     ]
    },
    {
     "name": "stdout",
     "output_type": "stream",
     "text": []
    },
    {
     "name": "stdout",
     "output_type": "stream",
     "text": [
      "\n"
     ]
    },
    {
     "name": "stderr",
     "output_type": "stream",
     "text": [
      " 72%|███████▏  | 65/90 [05:00<02:00,  4.81s/it]"
     ]
    },
    {
     "name": "stdout",
     "output_type": "stream",
     "text": []
    },
    {
     "name": "stdout",
     "output_type": "stream",
     "text": [
      "\n"
     ]
    },
    {
     "name": "stderr",
     "output_type": "stream",
     "text": [
      " 73%|███████▎  | 66/90 [05:03<01:46,  4.42s/it]"
     ]
    },
    {
     "name": "stdout",
     "output_type": "stream",
     "text": []
    },
    {
     "name": "stdout",
     "output_type": "stream",
     "text": [
      "\n"
     ]
    },
    {
     "name": "stderr",
     "output_type": "stream",
     "text": [
      " 74%|███████▍  | 67/90 [05:08<01:47,  4.66s/it]"
     ]
    },
    {
     "name": "stdout",
     "output_type": "stream",
     "text": []
    },
    {
     "name": "stdout",
     "output_type": "stream",
     "text": [
      "\n"
     ]
    },
    {
     "name": "stderr",
     "output_type": "stream",
     "text": [
      " 76%|███████▌  | 68/90 [05:11<01:31,  4.17s/it]"
     ]
    },
    {
     "name": "stdout",
     "output_type": "stream",
     "text": []
    },
    {
     "name": "stdout",
     "output_type": "stream",
     "text": [
      "\n"
     ]
    },
    {
     "name": "stderr",
     "output_type": "stream",
     "text": [
      " 77%|███████▋  | 69/90 [05:16<01:32,  4.38s/it]"
     ]
    },
    {
     "name": "stdout",
     "output_type": "stream",
     "text": []
    },
    {
     "name": "stdout",
     "output_type": "stream",
     "text": [
      "\n"
     ]
    },
    {
     "name": "stderr",
     "output_type": "stream",
     "text": [
      " 78%|███████▊  | 70/90 [05:20<01:24,  4.25s/it]"
     ]
    },
    {
     "name": "stdout",
     "output_type": "stream",
     "text": []
    },
    {
     "name": "stdout",
     "output_type": "stream",
     "text": [
      "\n"
     ]
    },
    {
     "name": "stderr",
     "output_type": "stream",
     "text": [
      " 79%|███████▉  | 71/90 [05:23<01:11,  3.74s/it]"
     ]
    },
    {
     "name": "stdout",
     "output_type": "stream",
     "text": []
    },
    {
     "name": "stdout",
     "output_type": "stream",
     "text": [
      "\n"
     ]
    },
    {
     "name": "stderr",
     "output_type": "stream",
     "text": [
      " 80%|████████  | 72/90 [05:26<01:03,  3.51s/it]"
     ]
    },
    {
     "name": "stdout",
     "output_type": "stream",
     "text": []
    },
    {
     "name": "stdout",
     "output_type": "stream",
     "text": [
      "\n"
     ]
    },
    {
     "name": "stderr",
     "output_type": "stream",
     "text": [
      " 81%|████████  | 73/90 [05:29<00:58,  3.45s/it]"
     ]
    },
    {
     "name": "stdout",
     "output_type": "stream",
     "text": []
    },
    {
     "name": "stdout",
     "output_type": "stream",
     "text": [
      "\n"
     ]
    },
    {
     "name": "stderr",
     "output_type": "stream",
     "text": [
      " 82%|████████▏ | 74/90 [05:33<00:55,  3.47s/it]"
     ]
    },
    {
     "name": "stdout",
     "output_type": "stream",
     "text": []
    },
    {
     "name": "stdout",
     "output_type": "stream",
     "text": [
      "\n"
     ]
    },
    {
     "name": "stderr",
     "output_type": "stream",
     "text": [
      " 83%|████████▎ | 75/90 [05:36<00:53,  3.54s/it]"
     ]
    },
    {
     "name": "stdout",
     "output_type": "stream",
     "text": []
    },
    {
     "name": "stdout",
     "output_type": "stream",
     "text": [
      "\n"
     ]
    },
    {
     "name": "stderr",
     "output_type": "stream",
     "text": [
      " 84%|████████▍ | 76/90 [05:39<00:47,  3.41s/it]"
     ]
    },
    {
     "name": "stdout",
     "output_type": "stream",
     "text": []
    },
    {
     "name": "stdout",
     "output_type": "stream",
     "text": [
      "\n"
     ]
    },
    {
     "name": "stderr",
     "output_type": "stream",
     "text": [
      " 86%|████████▌ | 77/90 [05:42<00:41,  3.22s/it]"
     ]
    },
    {
     "name": "stdout",
     "output_type": "stream",
     "text": []
    },
    {
     "name": "stdout",
     "output_type": "stream",
     "text": [
      "\n"
     ]
    },
    {
     "name": "stderr",
     "output_type": "stream",
     "text": [
      " 87%|████████▋ | 78/90 [05:45<00:38,  3.25s/it]"
     ]
    },
    {
     "name": "stdout",
     "output_type": "stream",
     "text": []
    },
    {
     "name": "stdout",
     "output_type": "stream",
     "text": [
      "\n"
     ]
    },
    {
     "name": "stderr",
     "output_type": "stream",
     "text": [
      " 88%|████████▊ | 79/90 [05:49<00:37,  3.39s/it]"
     ]
    },
    {
     "name": "stdout",
     "output_type": "stream",
     "text": []
    },
    {
     "name": "stdout",
     "output_type": "stream",
     "text": [
      "\n"
     ]
    },
    {
     "name": "stderr",
     "output_type": "stream",
     "text": [
      " 89%|████████▉ | 80/90 [05:52<00:32,  3.28s/it]"
     ]
    },
    {
     "name": "stdout",
     "output_type": "stream",
     "text": []
    },
    {
     "name": "stdout",
     "output_type": "stream",
     "text": [
      "\n"
     ]
    },
    {
     "name": "stderr",
     "output_type": "stream",
     "text": [
      " 90%|█████████ | 81/90 [05:56<00:30,  3.41s/it]"
     ]
    },
    {
     "name": "stdout",
     "output_type": "stream",
     "text": []
    },
    {
     "name": "stdout",
     "output_type": "stream",
     "text": [
      "\n"
     ]
    },
    {
     "name": "stderr",
     "output_type": "stream",
     "text": [
      " 91%|█████████ | 82/90 [05:59<00:26,  3.35s/it]"
     ]
    },
    {
     "name": "stdout",
     "output_type": "stream",
     "text": []
    },
    {
     "name": "stdout",
     "output_type": "stream",
     "text": [
      "\n"
     ]
    },
    {
     "name": "stderr",
     "output_type": "stream",
     "text": [
      " 92%|█████████▏| 83/90 [06:03<00:24,  3.47s/it]"
     ]
    },
    {
     "name": "stdout",
     "output_type": "stream",
     "text": []
    },
    {
     "name": "stdout",
     "output_type": "stream",
     "text": [
      "\n"
     ]
    },
    {
     "name": "stderr",
     "output_type": "stream",
     "text": [
      " 93%|█████████▎| 84/90 [06:08<00:24,  4.07s/it]"
     ]
    },
    {
     "name": "stdout",
     "output_type": "stream",
     "text": []
    },
    {
     "name": "stdout",
     "output_type": "stream",
     "text": [
      "\n"
     ]
    },
    {
     "name": "stderr",
     "output_type": "stream",
     "text": [
      " 94%|█████████▍| 85/90 [06:12<00:19,  3.85s/it]"
     ]
    },
    {
     "name": "stdout",
     "output_type": "stream",
     "text": []
    },
    {
     "name": "stdout",
     "output_type": "stream",
     "text": [
      "\n"
     ]
    },
    {
     "name": "stderr",
     "output_type": "stream",
     "text": [
      " 96%|█████████▌| 86/90 [06:16<00:15,  3.91s/it]"
     ]
    },
    {
     "name": "stdout",
     "output_type": "stream",
     "text": []
    },
    {
     "name": "stdout",
     "output_type": "stream",
     "text": [
      "\n"
     ]
    },
    {
     "name": "stderr",
     "output_type": "stream",
     "text": [
      " 97%|█████████▋| 87/90 [06:19<00:11,  3.69s/it]"
     ]
    },
    {
     "name": "stdout",
     "output_type": "stream",
     "text": []
    },
    {
     "name": "stdout",
     "output_type": "stream",
     "text": [
      "\n"
     ]
    },
    {
     "name": "stderr",
     "output_type": "stream",
     "text": [
      " 98%|█████████▊| 88/90 [06:22<00:07,  3.65s/it]"
     ]
    },
    {
     "name": "stdout",
     "output_type": "stream",
     "text": []
    },
    {
     "name": "stdout",
     "output_type": "stream",
     "text": [
      "\n"
     ]
    },
    {
     "name": "stderr",
     "output_type": "stream",
     "text": [
      " 99%|█████████▉| 89/90 [06:28<00:04,  4.16s/it]"
     ]
    },
    {
     "name": "stdout",
     "output_type": "stream",
     "text": []
    },
    {
     "name": "stdout",
     "output_type": "stream",
     "text": [
      "\n"
     ]
    },
    {
     "name": "stderr",
     "output_type": "stream",
     "text": [
      "100%|██████████| 90/90 [06:32<00:00,  4.20s/it]\n",
      "  0%|          | 0/90 [00:00<?, ?it/s]"
     ]
    },
    {
     "name": "stdout",
     "output_type": "stream",
     "text": []
    },
    {
     "name": "stdout",
     "output_type": "stream",
     "text": [
      "\n"
     ]
    },
    {
     "name": "stderr",
     "output_type": "stream",
     "text": [
      "  1%|          | 1/90 [00:06<09:35,  6.46s/it]"
     ]
    },
    {
     "name": "stdout",
     "output_type": "stream",
     "text": []
    },
    {
     "name": "stdout",
     "output_type": "stream",
     "text": [
      "\n"
     ]
    },
    {
     "name": "stderr",
     "output_type": "stream",
     "text": [
      "  2%|▏         | 2/90 [00:12<09:22,  6.39s/it]"
     ]
    },
    {
     "name": "stdout",
     "output_type": "stream",
     "text": []
    },
    {
     "name": "stdout",
     "output_type": "stream",
     "text": [
      "\n"
     ]
    },
    {
     "name": "stderr",
     "output_type": "stream",
     "text": [
      "  3%|▎         | 3/90 [00:15<07:49,  5.40s/it]"
     ]
    },
    {
     "name": "stdout",
     "output_type": "stream",
     "text": []
    },
    {
     "name": "stdout",
     "output_type": "stream",
     "text": [
      "\n"
     ]
    },
    {
     "name": "stderr",
     "output_type": "stream",
     "text": [
      "  4%|▍         | 4/90 [00:20<07:29,  5.23s/it]"
     ]
    },
    {
     "name": "stdout",
     "output_type": "stream",
     "text": []
    },
    {
     "name": "stdout",
     "output_type": "stream",
     "text": [
      "\n"
     ]
    },
    {
     "name": "stderr",
     "output_type": "stream",
     "text": [
      "  6%|▌         | 5/90 [00:25<07:26,  5.25s/it]"
     ]
    },
    {
     "name": "stdout",
     "output_type": "stream",
     "text": []
    },
    {
     "name": "stdout",
     "output_type": "stream",
     "text": [
      "\n"
     ]
    },
    {
     "name": "stderr",
     "output_type": "stream",
     "text": [
      "  7%|▋         | 6/90 [00:31<07:41,  5.49s/it]"
     ]
    },
    {
     "name": "stdout",
     "output_type": "stream",
     "text": []
    },
    {
     "name": "stdout",
     "output_type": "stream",
     "text": [
      "\n"
     ]
    },
    {
     "name": "stderr",
     "output_type": "stream",
     "text": [
      "  8%|▊         | 7/90 [00:38<08:00,  5.79s/it]"
     ]
    },
    {
     "name": "stdout",
     "output_type": "stream",
     "text": []
    },
    {
     "name": "stdout",
     "output_type": "stream",
     "text": [
      "\n"
     ]
    },
    {
     "name": "stderr",
     "output_type": "stream",
     "text": [
      "  9%|▉         | 8/90 [00:45<08:17,  6.07s/it]"
     ]
    },
    {
     "name": "stdout",
     "output_type": "stream",
     "text": []
    },
    {
     "name": "stdout",
     "output_type": "stream",
     "text": [
      "\n"
     ]
    },
    {
     "name": "stderr",
     "output_type": "stream",
     "text": [
      " 10%|█         | 9/90 [00:48<07:00,  5.19s/it]"
     ]
    },
    {
     "name": "stdout",
     "output_type": "stream",
     "text": []
    },
    {
     "name": "stdout",
     "output_type": "stream",
     "text": [
      "\n"
     ]
    },
    {
     "name": "stderr",
     "output_type": "stream",
     "text": [
      " 11%|█         | 10/90 [00:52<06:41,  5.02s/it]"
     ]
    },
    {
     "name": "stdout",
     "output_type": "stream",
     "text": []
    },
    {
     "name": "stdout",
     "output_type": "stream",
     "text": [
      "\n"
     ]
    },
    {
     "name": "stderr",
     "output_type": "stream",
     "text": [
      " 12%|█▏        | 11/90 [00:59<07:05,  5.39s/it]"
     ]
    },
    {
     "name": "stdout",
     "output_type": "stream",
     "text": []
    },
    {
     "name": "stdout",
     "output_type": "stream",
     "text": [
      "\n"
     ]
    },
    {
     "name": "stderr",
     "output_type": "stream",
     "text": [
      " 13%|█▎        | 12/90 [01:05<07:22,  5.68s/it]"
     ]
    },
    {
     "name": "stdout",
     "output_type": "stream",
     "text": []
    },
    {
     "name": "stdout",
     "output_type": "stream",
     "text": [
      "\n"
     ]
    },
    {
     "name": "stderr",
     "output_type": "stream",
     "text": [
      " 14%|█▍        | 13/90 [01:11<07:17,  5.69s/it]"
     ]
    },
    {
     "name": "stdout",
     "output_type": "stream",
     "text": []
    },
    {
     "name": "stdout",
     "output_type": "stream",
     "text": [
      "\n"
     ]
    },
    {
     "name": "stderr",
     "output_type": "stream",
     "text": [
      " 16%|█▌        | 14/90 [01:15<06:29,  5.12s/it]"
     ]
    },
    {
     "name": "stdout",
     "output_type": "stream",
     "text": []
    },
    {
     "name": "stdout",
     "output_type": "stream",
     "text": [
      "\n"
     ]
    },
    {
     "name": "stderr",
     "output_type": "stream",
     "text": [
      " 17%|█▋        | 15/90 [01:19<06:05,  4.87s/it]"
     ]
    },
    {
     "name": "stdout",
     "output_type": "stream",
     "text": []
    },
    {
     "name": "stdout",
     "output_type": "stream",
     "text": [
      "\n"
     ]
    },
    {
     "name": "stderr",
     "output_type": "stream",
     "text": [
      " 18%|█▊        | 16/90 [01:23<05:53,  4.77s/it]"
     ]
    },
    {
     "name": "stdout",
     "output_type": "stream",
     "text": []
    },
    {
     "name": "stdout",
     "output_type": "stream",
     "text": [
      "\n"
     ]
    },
    {
     "name": "stderr",
     "output_type": "stream",
     "text": [
      " 19%|█▉        | 17/90 [01:29<06:10,  5.08s/it]"
     ]
    },
    {
     "name": "stdout",
     "output_type": "stream",
     "text": []
    },
    {
     "name": "stdout",
     "output_type": "stream",
     "text": [
      "\n"
     ]
    },
    {
     "name": "stderr",
     "output_type": "stream",
     "text": [
      " 20%|██        | 18/90 [01:36<06:33,  5.46s/it]"
     ]
    },
    {
     "name": "stdout",
     "output_type": "stream",
     "text": []
    },
    {
     "name": "stdout",
     "output_type": "stream",
     "text": [
      "\n"
     ]
    },
    {
     "name": "stderr",
     "output_type": "stream",
     "text": [
      " 21%|██        | 19/90 [01:40<06:10,  5.22s/it]"
     ]
    },
    {
     "name": "stdout",
     "output_type": "stream",
     "text": []
    },
    {
     "name": "stdout",
     "output_type": "stream",
     "text": [
      "\n"
     ]
    },
    {
     "name": "stderr",
     "output_type": "stream",
     "text": [
      " 22%|██▏       | 20/90 [01:44<05:30,  4.72s/it]"
     ]
    },
    {
     "name": "stdout",
     "output_type": "stream",
     "text": []
    },
    {
     "name": "stdout",
     "output_type": "stream",
     "text": [
      "\n"
     ]
    },
    {
     "name": "stderr",
     "output_type": "stream",
     "text": [
      " 23%|██▎       | 21/90 [01:52<06:48,  5.92s/it]"
     ]
    },
    {
     "name": "stdout",
     "output_type": "stream",
     "text": []
    },
    {
     "name": "stdout",
     "output_type": "stream",
     "text": [
      "\n"
     ]
    },
    {
     "name": "stderr",
     "output_type": "stream",
     "text": [
      " 24%|██▍       | 22/90 [01:56<05:56,  5.24s/it]"
     ]
    },
    {
     "name": "stdout",
     "output_type": "stream",
     "text": []
    },
    {
     "name": "stdout",
     "output_type": "stream",
     "text": [
      "\n"
     ]
    },
    {
     "name": "stderr",
     "output_type": "stream",
     "text": [
      " 26%|██▌       | 23/90 [02:01<05:49,  5.21s/it]"
     ]
    },
    {
     "name": "stdout",
     "output_type": "stream",
     "text": []
    },
    {
     "name": "stdout",
     "output_type": "stream",
     "text": [
      "\n"
     ]
    },
    {
     "name": "stderr",
     "output_type": "stream",
     "text": [
      " 27%|██▋       | 24/90 [02:06<05:25,  4.93s/it]"
     ]
    },
    {
     "name": "stdout",
     "output_type": "stream",
     "text": []
    },
    {
     "name": "stdout",
     "output_type": "stream",
     "text": [
      "\n"
     ]
    },
    {
     "name": "stderr",
     "output_type": "stream",
     "text": [
      " 28%|██▊       | 25/90 [02:10<05:09,  4.76s/it]"
     ]
    },
    {
     "name": "stdout",
     "output_type": "stream",
     "text": []
    },
    {
     "name": "stdout",
     "output_type": "stream",
     "text": [
      "\n"
     ]
    },
    {
     "name": "stderr",
     "output_type": "stream",
     "text": [
      " 29%|██▉       | 26/90 [02:13<04:35,  4.31s/it]"
     ]
    },
    {
     "name": "stdout",
     "output_type": "stream",
     "text": []
    },
    {
     "name": "stdout",
     "output_type": "stream",
     "text": [
      "\n"
     ]
    },
    {
     "name": "stderr",
     "output_type": "stream",
     "text": [
      " 30%|███       | 27/90 [02:19<04:58,  4.74s/it]"
     ]
    },
    {
     "name": "stdout",
     "output_type": "stream",
     "text": []
    },
    {
     "name": "stdout",
     "output_type": "stream",
     "text": [
      "\n"
     ]
    },
    {
     "name": "stderr",
     "output_type": "stream",
     "text": [
      " 31%|███       | 28/90 [02:22<04:30,  4.36s/it]"
     ]
    },
    {
     "name": "stdout",
     "output_type": "stream",
     "text": []
    },
    {
     "name": "stdout",
     "output_type": "stream",
     "text": [
      "\n"
     ]
    },
    {
     "name": "stderr",
     "output_type": "stream",
     "text": [
      " 32%|███▏      | 29/90 [02:28<04:51,  4.78s/it]"
     ]
    },
    {
     "name": "stdout",
     "output_type": "stream",
     "text": []
    },
    {
     "name": "stdout",
     "output_type": "stream",
     "text": [
      "\n"
     ]
    },
    {
     "name": "stderr",
     "output_type": "stream",
     "text": [
      " 33%|███▎      | 30/90 [02:32<04:32,  4.54s/it]"
     ]
    },
    {
     "name": "stdout",
     "output_type": "stream",
     "text": []
    },
    {
     "name": "stdout",
     "output_type": "stream",
     "text": [
      "\n"
     ]
    },
    {
     "name": "stderr",
     "output_type": "stream",
     "text": [
      " 34%|███▍      | 31/90 [02:37<04:43,  4.80s/it]"
     ]
    },
    {
     "name": "stdout",
     "output_type": "stream",
     "text": []
    },
    {
     "name": "stdout",
     "output_type": "stream",
     "text": [
      "\n"
     ]
    },
    {
     "name": "stderr",
     "output_type": "stream",
     "text": [
      " 36%|███▌      | 32/90 [02:41<04:23,  4.54s/it]"
     ]
    },
    {
     "name": "stdout",
     "output_type": "stream",
     "text": []
    },
    {
     "name": "stdout",
     "output_type": "stream",
     "text": [
      "\n"
     ]
    },
    {
     "name": "stderr",
     "output_type": "stream",
     "text": [
      " 37%|███▋      | 33/90 [02:48<04:53,  5.15s/it]"
     ]
    },
    {
     "name": "stdout",
     "output_type": "stream",
     "text": []
    },
    {
     "name": "stdout",
     "output_type": "stream",
     "text": [
      "\n"
     ]
    },
    {
     "name": "stderr",
     "output_type": "stream",
     "text": [
      " 38%|███▊      | 34/90 [02:55<05:14,  5.62s/it]"
     ]
    },
    {
     "name": "stdout",
     "output_type": "stream",
     "text": []
    },
    {
     "name": "stdout",
     "output_type": "stream",
     "text": [
      "\n"
     ]
    },
    {
     "name": "stderr",
     "output_type": "stream",
     "text": [
      " 39%|███▉      | 35/90 [03:01<05:13,  5.71s/it]"
     ]
    },
    {
     "name": "stdout",
     "output_type": "stream",
     "text": []
    },
    {
     "name": "stdout",
     "output_type": "stream",
     "text": [
      "\n"
     ]
    },
    {
     "name": "stderr",
     "output_type": "stream",
     "text": [
      " 40%|████      | 36/90 [03:05<04:43,  5.25s/it]"
     ]
    },
    {
     "name": "stdout",
     "output_type": "stream",
     "text": []
    },
    {
     "name": "stdout",
     "output_type": "stream",
     "text": [
      "\n"
     ]
    },
    {
     "name": "stderr",
     "output_type": "stream",
     "text": [
      " 41%|████      | 37/90 [03:07<03:56,  4.47s/it]"
     ]
    },
    {
     "name": "stdout",
     "output_type": "stream",
     "text": []
    },
    {
     "name": "stdout",
     "output_type": "stream",
     "text": [
      "\n"
     ]
    },
    {
     "name": "stderr",
     "output_type": "stream",
     "text": [
      " 42%|████▏     | 38/90 [03:14<04:18,  4.98s/it]"
     ]
    },
    {
     "name": "stdout",
     "output_type": "stream",
     "text": []
    },
    {
     "name": "stdout",
     "output_type": "stream",
     "text": [
      "\n"
     ]
    },
    {
     "name": "stderr",
     "output_type": "stream",
     "text": [
      " 43%|████▎     | 39/90 [03:20<04:35,  5.41s/it]"
     ]
    },
    {
     "name": "stdout",
     "output_type": "stream",
     "text": []
    },
    {
     "name": "stdout",
     "output_type": "stream",
     "text": [
      "\n"
     ]
    },
    {
     "name": "stderr",
     "output_type": "stream",
     "text": [
      " 44%|████▍     | 40/90 [03:24<04:13,  5.06s/it]"
     ]
    },
    {
     "name": "stdout",
     "output_type": "stream",
     "text": []
    },
    {
     "name": "stdout",
     "output_type": "stream",
     "text": [
      "\n"
     ]
    },
    {
     "name": "stderr",
     "output_type": "stream",
     "text": [
      " 46%|████▌     | 41/90 [03:27<03:39,  4.47s/it]"
     ]
    },
    {
     "name": "stdout",
     "output_type": "stream",
     "text": []
    },
    {
     "name": "stdout",
     "output_type": "stream",
     "text": [
      "\n"
     ]
    },
    {
     "name": "stderr",
     "output_type": "stream",
     "text": [
      " 47%|████▋     | 42/90 [03:32<03:41,  4.62s/it]"
     ]
    },
    {
     "name": "stdout",
     "output_type": "stream",
     "text": []
    },
    {
     "name": "stdout",
     "output_type": "stream",
     "text": [
      "\n"
     ]
    },
    {
     "name": "stderr",
     "output_type": "stream",
     "text": [
      " 48%|████▊     | 43/90 [03:36<03:20,  4.27s/it]"
     ]
    },
    {
     "name": "stdout",
     "output_type": "stream",
     "text": []
    },
    {
     "name": "stdout",
     "output_type": "stream",
     "text": [
      "\n"
     ]
    },
    {
     "name": "stderr",
     "output_type": "stream",
     "text": [
      " 49%|████▉     | 44/90 [03:41<03:23,  4.43s/it]"
     ]
    },
    {
     "name": "stdout",
     "output_type": "stream",
     "text": []
    },
    {
     "name": "stdout",
     "output_type": "stream",
     "text": [
      "\n"
     ]
    },
    {
     "name": "stderr",
     "output_type": "stream",
     "text": [
      " 50%|█████     | 45/90 [03:46<03:26,  4.58s/it]"
     ]
    },
    {
     "name": "stdout",
     "output_type": "stream",
     "text": []
    },
    {
     "name": "stdout",
     "output_type": "stream",
     "text": [
      "\n"
     ]
    },
    {
     "name": "stderr",
     "output_type": "stream",
     "text": [
      " 51%|█████     | 46/90 [03:48<02:59,  4.08s/it]"
     ]
    },
    {
     "name": "stdout",
     "output_type": "stream",
     "text": []
    },
    {
     "name": "stdout",
     "output_type": "stream",
     "text": [
      "\n"
     ]
    },
    {
     "name": "stderr",
     "output_type": "stream",
     "text": [
      " 52%|█████▏    | 47/90 [03:52<02:50,  3.97s/it]"
     ]
    },
    {
     "name": "stdout",
     "output_type": "stream",
     "text": []
    },
    {
     "name": "stdout",
     "output_type": "stream",
     "text": [
      "\n"
     ]
    },
    {
     "name": "stderr",
     "output_type": "stream",
     "text": [
      " 53%|█████▎    | 48/90 [03:57<02:51,  4.09s/it]"
     ]
    },
    {
     "name": "stdout",
     "output_type": "stream",
     "text": []
    },
    {
     "name": "stdout",
     "output_type": "stream",
     "text": [
      "\n"
     ]
    },
    {
     "name": "stderr",
     "output_type": "stream",
     "text": [
      " 54%|█████▍    | 49/90 [04:00<02:45,  4.04s/it]"
     ]
    },
    {
     "name": "stdout",
     "output_type": "stream",
     "text": []
    },
    {
     "name": "stdout",
     "output_type": "stream",
     "text": [
      "\n"
     ]
    },
    {
     "name": "stderr",
     "output_type": "stream",
     "text": [
      " 56%|█████▌    | 50/90 [04:06<02:56,  4.41s/it]"
     ]
    },
    {
     "name": "stdout",
     "output_type": "stream",
     "text": []
    },
    {
     "name": "stdout",
     "output_type": "stream",
     "text": [
      "\n"
     ]
    },
    {
     "name": "stderr",
     "output_type": "stream",
     "text": [
      " 57%|█████▋    | 51/90 [04:10<02:53,  4.46s/it]"
     ]
    },
    {
     "name": "stdout",
     "output_type": "stream",
     "text": []
    },
    {
     "name": "stdout",
     "output_type": "stream",
     "text": [
      "\n"
     ]
    },
    {
     "name": "stderr",
     "output_type": "stream",
     "text": [
      " 58%|█████▊    | 52/90 [04:14<02:42,  4.28s/it]"
     ]
    },
    {
     "name": "stdout",
     "output_type": "stream",
     "text": []
    },
    {
     "name": "stdout",
     "output_type": "stream",
     "text": [
      "\n"
     ]
    },
    {
     "name": "stderr",
     "output_type": "stream",
     "text": [
      " 59%|█████▉    | 53/90 [04:17<02:21,  3.82s/it]"
     ]
    },
    {
     "name": "stdout",
     "output_type": "stream",
     "text": []
    },
    {
     "name": "stdout",
     "output_type": "stream",
     "text": [
      "\n"
     ]
    },
    {
     "name": "stderr",
     "output_type": "stream",
     "text": [
      " 60%|██████    | 54/90 [04:21<02:17,  3.82s/it]"
     ]
    },
    {
     "name": "stdout",
     "output_type": "stream",
     "text": []
    },
    {
     "name": "stdout",
     "output_type": "stream",
     "text": [
      "\n"
     ]
    },
    {
     "name": "stderr",
     "output_type": "stream",
     "text": [
      " 61%|██████    | 55/90 [04:25<02:15,  3.87s/it]"
     ]
    },
    {
     "name": "stdout",
     "output_type": "stream",
     "text": []
    },
    {
     "name": "stdout",
     "output_type": "stream",
     "text": [
      "\n"
     ]
    },
    {
     "name": "stderr",
     "output_type": "stream",
     "text": [
      " 62%|██████▏   | 56/90 [04:29<02:14,  3.96s/it]"
     ]
    },
    {
     "name": "stdout",
     "output_type": "stream",
     "text": []
    },
    {
     "name": "stdout",
     "output_type": "stream",
     "text": [
      "\n"
     ]
    },
    {
     "name": "stderr",
     "output_type": "stream",
     "text": [
      " 63%|██████▎   | 57/90 [04:35<02:27,  4.46s/it]"
     ]
    },
    {
     "name": "stdout",
     "output_type": "stream",
     "text": []
    },
    {
     "name": "stdout",
     "output_type": "stream",
     "text": [
      "\n"
     ]
    },
    {
     "name": "stderr",
     "output_type": "stream",
     "text": [
      " 64%|██████▍   | 58/90 [04:39<02:24,  4.52s/it]"
     ]
    },
    {
     "name": "stdout",
     "output_type": "stream",
     "text": []
    },
    {
     "name": "stdout",
     "output_type": "stream",
     "text": [
      "\n"
     ]
    },
    {
     "name": "stderr",
     "output_type": "stream",
     "text": [
      " 66%|██████▌   | 59/90 [04:43<02:13,  4.32s/it]"
     ]
    },
    {
     "name": "stdout",
     "output_type": "stream",
     "text": []
    },
    {
     "name": "stdout",
     "output_type": "stream",
     "text": [
      "\n"
     ]
    },
    {
     "name": "stderr",
     "output_type": "stream",
     "text": [
      " 67%|██████▋   | 60/90 [04:46<01:54,  3.81s/it]"
     ]
    },
    {
     "name": "stdout",
     "output_type": "stream",
     "text": []
    },
    {
     "name": "stdout",
     "output_type": "stream",
     "text": [
      "\n"
     ]
    },
    {
     "name": "stderr",
     "output_type": "stream",
     "text": [
      " 68%|██████▊   | 61/90 [04:50<01:52,  3.87s/it]"
     ]
    },
    {
     "name": "stdout",
     "output_type": "stream",
     "text": []
    },
    {
     "name": "stdout",
     "output_type": "stream",
     "text": [
      "\n"
     ]
    },
    {
     "name": "stderr",
     "output_type": "stream",
     "text": [
      " 69%|██████▉   | 62/90 [04:56<02:07,  4.56s/it]"
     ]
    },
    {
     "name": "stdout",
     "output_type": "stream",
     "text": []
    },
    {
     "name": "stdout",
     "output_type": "stream",
     "text": [
      "\n"
     ]
    },
    {
     "name": "stderr",
     "output_type": "stream",
     "text": [
      " 70%|███████   | 63/90 [04:59<01:49,  4.05s/it]"
     ]
    },
    {
     "name": "stdout",
     "output_type": "stream",
     "text": []
    },
    {
     "name": "stdout",
     "output_type": "stream",
     "text": [
      "\n"
     ]
    },
    {
     "name": "stderr",
     "output_type": "stream",
     "text": [
      " 71%|███████   | 64/90 [05:03<01:49,  4.23s/it]"
     ]
    },
    {
     "name": "stdout",
     "output_type": "stream",
     "text": []
    },
    {
     "name": "stdout",
     "output_type": "stream",
     "text": [
      "\n"
     ]
    },
    {
     "name": "stderr",
     "output_type": "stream",
     "text": [
      " 72%|███████▏  | 65/90 [05:07<01:41,  4.07s/it]"
     ]
    },
    {
     "name": "stdout",
     "output_type": "stream",
     "text": []
    },
    {
     "name": "stdout",
     "output_type": "stream",
     "text": [
      "\n"
     ]
    },
    {
     "name": "stderr",
     "output_type": "stream",
     "text": [
      " 73%|███████▎  | 66/90 [05:12<01:41,  4.23s/it]"
     ]
    },
    {
     "name": "stdout",
     "output_type": "stream",
     "text": []
    },
    {
     "name": "stdout",
     "output_type": "stream",
     "text": [
      "\n"
     ]
    },
    {
     "name": "stderr",
     "output_type": "stream",
     "text": [
      " 74%|███████▍  | 67/90 [05:15<01:28,  3.84s/it]"
     ]
    },
    {
     "name": "stdout",
     "output_type": "stream",
     "text": []
    },
    {
     "name": "stdout",
     "output_type": "stream",
     "text": [
      "\n"
     ]
    },
    {
     "name": "stderr",
     "output_type": "stream",
     "text": [
      " 76%|███████▌  | 68/90 [05:19<01:31,  4.17s/it]"
     ]
    },
    {
     "name": "stdout",
     "output_type": "stream",
     "text": []
    },
    {
     "name": "stdout",
     "output_type": "stream",
     "text": [
      "\n"
     ]
    },
    {
     "name": "stderr",
     "output_type": "stream",
     "text": [
      " 77%|███████▋  | 69/90 [05:25<01:36,  4.58s/it]"
     ]
    },
    {
     "name": "stdout",
     "output_type": "stream",
     "text": []
    },
    {
     "name": "stdout",
     "output_type": "stream",
     "text": [
      "\n"
     ]
    },
    {
     "name": "stderr",
     "output_type": "stream",
     "text": [
      " 78%|███████▊  | 70/90 [05:28<01:24,  4.22s/it]"
     ]
    },
    {
     "name": "stdout",
     "output_type": "stream",
     "text": []
    },
    {
     "name": "stdout",
     "output_type": "stream",
     "text": [
      "\n"
     ]
    },
    {
     "name": "stderr",
     "output_type": "stream",
     "text": [
      " 79%|███████▉  | 71/90 [05:31<01:13,  3.87s/it]"
     ]
    },
    {
     "name": "stdout",
     "output_type": "stream",
     "text": []
    },
    {
     "name": "stdout",
     "output_type": "stream",
     "text": [
      "\n"
     ]
    },
    {
     "name": "stderr",
     "output_type": "stream",
     "text": [
      " 80%|████████  | 72/90 [05:36<01:12,  4.01s/it]"
     ]
    },
    {
     "name": "stdout",
     "output_type": "stream",
     "text": []
    },
    {
     "name": "stdout",
     "output_type": "stream",
     "text": [
      "\n"
     ]
    },
    {
     "name": "stderr",
     "output_type": "stream",
     "text": [
      " 81%|████████  | 73/90 [05:39<01:02,  3.68s/it]"
     ]
    },
    {
     "name": "stdout",
     "output_type": "stream",
     "text": []
    },
    {
     "name": "stdout",
     "output_type": "stream",
     "text": [
      "\n"
     ]
    },
    {
     "name": "stderr",
     "output_type": "stream",
     "text": [
      " 82%|████████▏ | 74/90 [05:43<00:59,  3.74s/it]"
     ]
    },
    {
     "name": "stdout",
     "output_type": "stream",
     "text": []
    },
    {
     "name": "stdout",
     "output_type": "stream",
     "text": [
      "\n"
     ]
    },
    {
     "name": "stderr",
     "output_type": "stream",
     "text": [
      " 83%|████████▎ | 75/90 [05:45<00:50,  3.38s/it]"
     ]
    },
    {
     "name": "stdout",
     "output_type": "stream",
     "text": []
    },
    {
     "name": "stdout",
     "output_type": "stream",
     "text": [
      "\n"
     ]
    },
    {
     "name": "stderr",
     "output_type": "stream",
     "text": [
      " 84%|████████▍ | 76/90 [05:48<00:46,  3.29s/it]"
     ]
    },
    {
     "name": "stdout",
     "output_type": "stream",
     "text": []
    },
    {
     "name": "stdout",
     "output_type": "stream",
     "text": [
      "\n"
     ]
    },
    {
     "name": "stderr",
     "output_type": "stream",
     "text": [
      " 86%|████████▌ | 77/90 [05:51<00:41,  3.18s/it]"
     ]
    },
    {
     "name": "stdout",
     "output_type": "stream",
     "text": []
    },
    {
     "name": "stdout",
     "output_type": "stream",
     "text": [
      "\n"
     ]
    },
    {
     "name": "stderr",
     "output_type": "stream",
     "text": [
      " 87%|████████▋ | 78/90 [05:54<00:36,  3.06s/it]"
     ]
    },
    {
     "name": "stdout",
     "output_type": "stream",
     "text": []
    },
    {
     "name": "stdout",
     "output_type": "stream",
     "text": [
      "\n"
     ]
    },
    {
     "name": "stderr",
     "output_type": "stream",
     "text": [
      " 88%|████████▊ | 79/90 [05:56<00:31,  2.87s/it]"
     ]
    },
    {
     "name": "stdout",
     "output_type": "stream",
     "text": []
    },
    {
     "name": "stdout",
     "output_type": "stream",
     "text": [
      "\n"
     ]
    },
    {
     "name": "stderr",
     "output_type": "stream",
     "text": [
      " 89%|████████▉ | 80/90 [06:01<00:34,  3.47s/it]"
     ]
    },
    {
     "name": "stdout",
     "output_type": "stream",
     "text": []
    },
    {
     "name": "stdout",
     "output_type": "stream",
     "text": [
      "\n"
     ]
    },
    {
     "name": "stderr",
     "output_type": "stream",
     "text": [
      " 90%|█████████ | 81/90 [06:05<00:31,  3.54s/it]"
     ]
    },
    {
     "name": "stdout",
     "output_type": "stream",
     "text": []
    },
    {
     "name": "stdout",
     "output_type": "stream",
     "text": [
      "\n"
     ]
    },
    {
     "name": "stderr",
     "output_type": "stream",
     "text": [
      " 91%|█████████ | 82/90 [06:08<00:27,  3.42s/it]"
     ]
    },
    {
     "name": "stdout",
     "output_type": "stream",
     "text": []
    },
    {
     "name": "stdout",
     "output_type": "stream",
     "text": [
      "\n"
     ]
    },
    {
     "name": "stderr",
     "output_type": "stream",
     "text": [
      " 92%|█████████▏| 83/90 [06:11<00:22,  3.19s/it]"
     ]
    },
    {
     "name": "stdout",
     "output_type": "stream",
     "text": []
    },
    {
     "name": "stdout",
     "output_type": "stream",
     "text": [
      "\n"
     ]
    },
    {
     "name": "stderr",
     "output_type": "stream",
     "text": [
      " 93%|█████████▎| 84/90 [06:13<00:17,  2.86s/it]"
     ]
    },
    {
     "name": "stdout",
     "output_type": "stream",
     "text": []
    },
    {
     "name": "stdout",
     "output_type": "stream",
     "text": [
      "\n"
     ]
    },
    {
     "name": "stderr",
     "output_type": "stream",
     "text": [
      " 94%|█████████▍| 85/90 [06:18<00:18,  3.70s/it]"
     ]
    },
    {
     "name": "stdout",
     "output_type": "stream",
     "text": []
    },
    {
     "name": "stdout",
     "output_type": "stream",
     "text": [
      "\n"
     ]
    },
    {
     "name": "stderr",
     "output_type": "stream",
     "text": [
      " 96%|█████████▌| 86/90 [06:22<00:14,  3.56s/it]"
     ]
    },
    {
     "name": "stdout",
     "output_type": "stream",
     "text": []
    },
    {
     "name": "stdout",
     "output_type": "stream",
     "text": [
      "\n"
     ]
    },
    {
     "name": "stderr",
     "output_type": "stream",
     "text": [
      " 97%|█████████▋| 87/90 [06:27<00:12,  4.07s/it]"
     ]
    },
    {
     "name": "stdout",
     "output_type": "stream",
     "text": []
    },
    {
     "name": "stdout",
     "output_type": "stream",
     "text": [
      "\n"
     ]
    },
    {
     "name": "stderr",
     "output_type": "stream",
     "text": [
      " 98%|█████████▊| 88/90 [06:30<00:07,  3.86s/it]"
     ]
    },
    {
     "name": "stdout",
     "output_type": "stream",
     "text": []
    },
    {
     "name": "stdout",
     "output_type": "stream",
     "text": [
      "\n"
     ]
    },
    {
     "name": "stderr",
     "output_type": "stream",
     "text": [
      " 99%|█████████▉| 89/90 [06:36<00:04,  4.33s/it]"
     ]
    },
    {
     "name": "stdout",
     "output_type": "stream",
     "text": []
    },
    {
     "name": "stdout",
     "output_type": "stream",
     "text": [
      "\n"
     ]
    },
    {
     "name": "stderr",
     "output_type": "stream",
     "text": [
      "100%|██████████| 90/90 [06:41<00:00,  4.59s/it]\n",
      "  0%|          | 0/90 [00:00<?, ?it/s]"
     ]
    },
    {
     "name": "stdout",
     "output_type": "stream",
     "text": []
    },
    {
     "name": "stdout",
     "output_type": "stream",
     "text": [
      "\n"
     ]
    },
    {
     "name": "stderr",
     "output_type": "stream",
     "text": [
      "  1%|          | 1/90 [00:04<07:20,  4.95s/it]"
     ]
    },
    {
     "name": "stdout",
     "output_type": "stream",
     "text": []
    },
    {
     "name": "stdout",
     "output_type": "stream",
     "text": [
      "\n"
     ]
    },
    {
     "name": "stderr",
     "output_type": "stream",
     "text": [
      "  2%|▏         | 2/90 [00:10<07:38,  5.21s/it]"
     ]
    },
    {
     "name": "stdout",
     "output_type": "stream",
     "text": []
    },
    {
     "name": "stdout",
     "output_type": "stream",
     "text": [
      "\n"
     ]
    },
    {
     "name": "stderr",
     "output_type": "stream",
     "text": [
      "  3%|▎         | 3/90 [00:16<07:34,  5.23s/it]"
     ]
    },
    {
     "name": "stdout",
     "output_type": "stream",
     "text": []
    },
    {
     "name": "stdout",
     "output_type": "stream",
     "text": [
      "\n"
     ]
    },
    {
     "name": "stderr",
     "output_type": "stream",
     "text": [
      "  4%|▍         | 4/90 [00:19<06:48,  4.75s/it]"
     ]
    },
    {
     "name": "stdout",
     "output_type": "stream",
     "text": []
    },
    {
     "name": "stdout",
     "output_type": "stream",
     "text": [
      "\n"
     ]
    },
    {
     "name": "stderr",
     "output_type": "stream",
     "text": [
      "  6%|▌         | 5/90 [00:23<06:33,  4.63s/it]"
     ]
    },
    {
     "name": "stdout",
     "output_type": "stream",
     "text": []
    },
    {
     "name": "stdout",
     "output_type": "stream",
     "text": [
      "\n"
     ]
    },
    {
     "name": "stderr",
     "output_type": "stream",
     "text": [
      "  7%|▋         | 6/90 [00:28<06:26,  4.60s/it]"
     ]
    },
    {
     "name": "stdout",
     "output_type": "stream",
     "text": []
    },
    {
     "name": "stdout",
     "output_type": "stream",
     "text": [
      "\n"
     ]
    },
    {
     "name": "stderr",
     "output_type": "stream",
     "text": [
      "  8%|▊         | 7/90 [00:33<06:28,  4.68s/it]"
     ]
    },
    {
     "name": "stdout",
     "output_type": "stream",
     "text": []
    },
    {
     "name": "stdout",
     "output_type": "stream",
     "text": [
      "\n"
     ]
    },
    {
     "name": "stderr",
     "output_type": "stream",
     "text": [
      "  9%|▉         | 8/90 [00:36<05:47,  4.24s/it]"
     ]
    },
    {
     "name": "stdout",
     "output_type": "stream",
     "text": []
    },
    {
     "name": "stdout",
     "output_type": "stream",
     "text": [
      "\n"
     ]
    },
    {
     "name": "stderr",
     "output_type": "stream",
     "text": [
      " 10%|█         | 9/90 [00:40<05:38,  4.18s/it]"
     ]
    },
    {
     "name": "stdout",
     "output_type": "stream",
     "text": []
    },
    {
     "name": "stdout",
     "output_type": "stream",
     "text": [
      "\n"
     ]
    },
    {
     "name": "stderr",
     "output_type": "stream",
     "text": [
      " 11%|█         | 10/90 [00:43<05:06,  3.84s/it]"
     ]
    },
    {
     "name": "stdout",
     "output_type": "stream",
     "text": []
    },
    {
     "name": "stdout",
     "output_type": "stream",
     "text": [
      "\n"
     ]
    },
    {
     "name": "stderr",
     "output_type": "stream",
     "text": [
      " 12%|█▏        | 11/90 [00:47<05:03,  3.85s/it]"
     ]
    },
    {
     "name": "stdout",
     "output_type": "stream",
     "text": []
    },
    {
     "name": "stdout",
     "output_type": "stream",
     "text": [
      "\n"
     ]
    },
    {
     "name": "stderr",
     "output_type": "stream",
     "text": [
      " 13%|█▎        | 12/90 [00:53<05:39,  4.35s/it]"
     ]
    },
    {
     "name": "stdout",
     "output_type": "stream",
     "text": []
    },
    {
     "name": "stdout",
     "output_type": "stream",
     "text": [
      "\n"
     ]
    },
    {
     "name": "stderr",
     "output_type": "stream",
     "text": [
      " 14%|█▍        | 13/90 [00:56<05:07,  4.00s/it]"
     ]
    },
    {
     "name": "stdout",
     "output_type": "stream",
     "text": []
    },
    {
     "name": "stdout",
     "output_type": "stream",
     "text": [
      "\n"
     ]
    },
    {
     "name": "stderr",
     "output_type": "stream",
     "text": [
      " 16%|█▌        | 14/90 [06:41<2:14:44, 106.38s/it]"
     ]
    },
    {
     "name": "stdout",
     "output_type": "stream",
     "text": []
    },
    {
     "name": "stdout",
     "output_type": "stream",
     "text": [
      "\n"
     ]
    },
    {
     "name": "stderr",
     "output_type": "stream",
     "text": [
      " 17%|█▋        | 15/90 [06:51<1:36:49, 77.46s/it] "
     ]
    },
    {
     "name": "stdout",
     "output_type": "stream",
     "text": []
    },
    {
     "name": "stdout",
     "output_type": "stream",
     "text": [
      "\n"
     ]
    },
    {
     "name": "stderr",
     "output_type": "stream",
     "text": [
      " 18%|█▊        | 16/90 [06:56<1:08:34, 55.61s/it]"
     ]
    },
    {
     "name": "stdout",
     "output_type": "stream",
     "text": []
    },
    {
     "name": "stdout",
     "output_type": "stream",
     "text": [
      "\n"
     ]
    },
    {
     "name": "stderr",
     "output_type": "stream",
     "text": [
      " 19%|█▉        | 17/90 [07:02<49:31, 40.71s/it]  "
     ]
    },
    {
     "name": "stdout",
     "output_type": "stream",
     "text": []
    },
    {
     "name": "stdout",
     "output_type": "stream",
     "text": [
      "\n"
     ]
    },
    {
     "name": "stderr",
     "output_type": "stream",
     "text": [
      " 20%|██        | 18/90 [07:07<35:58, 29.97s/it]"
     ]
    },
    {
     "name": "stdout",
     "output_type": "stream",
     "text": []
    },
    {
     "name": "stdout",
     "output_type": "stream",
     "text": [
      "\n"
     ]
    },
    {
     "name": "stderr",
     "output_type": "stream",
     "text": [
      " 21%|██        | 19/90 [07:13<27:02, 22.86s/it]"
     ]
    },
    {
     "name": "stdout",
     "output_type": "stream",
     "text": []
    },
    {
     "name": "stdout",
     "output_type": "stream",
     "text": [
      "\n"
     ]
    },
    {
     "name": "stderr",
     "output_type": "stream",
     "text": [
      " 22%|██▏       | 20/90 [07:20<21:06, 18.09s/it]"
     ]
    },
    {
     "name": "stdout",
     "output_type": "stream",
     "text": []
    },
    {
     "name": "stdout",
     "output_type": "stream",
     "text": [
      "\n"
     ]
    },
    {
     "name": "stderr",
     "output_type": "stream",
     "text": [
      " 23%|██▎       | 21/90 [07:24<15:55, 13.84s/it]"
     ]
    },
    {
     "name": "stdout",
     "output_type": "stream",
     "text": []
    },
    {
     "name": "stdout",
     "output_type": "stream",
     "text": [
      "\n"
     ]
    },
    {
     "name": "stderr",
     "output_type": "stream",
     "text": [
      " 24%|██▍       | 22/90 [07:27<12:14, 10.81s/it]"
     ]
    },
    {
     "name": "stdout",
     "output_type": "stream",
     "text": []
    },
    {
     "name": "stdout",
     "output_type": "stream",
     "text": [
      "\n"
     ]
    },
    {
     "name": "stderr",
     "output_type": "stream",
     "text": [
      " 26%|██▌       | 23/90 [07:31<09:47,  8.77s/it]"
     ]
    },
    {
     "name": "stdout",
     "output_type": "stream",
     "text": []
    },
    {
     "name": "stdout",
     "output_type": "stream",
     "text": [
      "\n"
     ]
    },
    {
     "name": "stderr",
     "output_type": "stream",
     "text": [
      " 27%|██▋       | 24/90 [07:39<09:06,  8.29s/it]"
     ]
    },
    {
     "name": "stdout",
     "output_type": "stream",
     "text": []
    },
    {
     "name": "stdout",
     "output_type": "stream",
     "text": [
      "\n"
     ]
    },
    {
     "name": "stderr",
     "output_type": "stream",
     "text": [
      " 28%|██▊       | 25/90 [07:43<07:40,  7.09s/it]"
     ]
    },
    {
     "name": "stdout",
     "output_type": "stream",
     "text": []
    },
    {
     "name": "stdout",
     "output_type": "stream",
     "text": [
      "\n"
     ]
    },
    {
     "name": "stderr",
     "output_type": "stream",
     "text": [
      " 29%|██▉       | 26/90 [07:53<08:34,  8.04s/it]"
     ]
    },
    {
     "name": "stdout",
     "output_type": "stream",
     "text": []
    },
    {
     "name": "stdout",
     "output_type": "stream",
     "text": [
      "\n"
     ]
    },
    {
     "name": "stderr",
     "output_type": "stream",
     "text": [
      " 30%|███       | 27/90 [07:58<07:24,  7.06s/it]"
     ]
    },
    {
     "name": "stdout",
     "output_type": "stream",
     "text": []
    },
    {
     "name": "stdout",
     "output_type": "stream",
     "text": [
      "\n"
     ]
    },
    {
     "name": "stderr",
     "output_type": "stream",
     "text": [
      " 31%|███       | 28/90 [08:03<06:32,  6.33s/it]"
     ]
    },
    {
     "name": "stdout",
     "output_type": "stream",
     "text": []
    },
    {
     "name": "stdout",
     "output_type": "stream",
     "text": [
      "\n"
     ]
    },
    {
     "name": "stderr",
     "output_type": "stream",
     "text": [
      " 32%|███▏      | 29/90 [08:06<05:29,  5.40s/it]"
     ]
    },
    {
     "name": "stdout",
     "output_type": "stream",
     "text": []
    },
    {
     "name": "stdout",
     "output_type": "stream",
     "text": [
      "\n"
     ]
    },
    {
     "name": "stderr",
     "output_type": "stream",
     "text": [
      " 33%|███▎      | 30/90 [08:10<05:11,  5.19s/it]"
     ]
    },
    {
     "name": "stdout",
     "output_type": "stream",
     "text": []
    },
    {
     "name": "stdout",
     "output_type": "stream",
     "text": [
      "\n"
     ]
    },
    {
     "name": "stderr",
     "output_type": "stream",
     "text": [
      " 34%|███▍      | 31/90 [08:15<05:01,  5.11s/it]"
     ]
    },
    {
     "name": "stdout",
     "output_type": "stream",
     "text": []
    },
    {
     "name": "stdout",
     "output_type": "stream",
     "text": [
      "\n"
     ]
    },
    {
     "name": "stderr",
     "output_type": "stream",
     "text": [
      " 36%|███▌      | 32/90 [08:19<04:35,  4.75s/it]"
     ]
    },
    {
     "name": "stdout",
     "output_type": "stream",
     "text": []
    },
    {
     "name": "stdout",
     "output_type": "stream",
     "text": [
      "\n"
     ]
    },
    {
     "name": "stderr",
     "output_type": "stream",
     "text": [
      " 37%|███▋      | 33/90 [08:25<04:54,  5.17s/it]"
     ]
    },
    {
     "name": "stdout",
     "output_type": "stream",
     "text": []
    },
    {
     "name": "stdout",
     "output_type": "stream",
     "text": [
      "\n"
     ]
    },
    {
     "name": "stderr",
     "output_type": "stream",
     "text": [
      " 38%|███▊      | 34/90 [08:31<04:50,  5.19s/it]"
     ]
    },
    {
     "name": "stdout",
     "output_type": "stream",
     "text": []
    },
    {
     "name": "stdout",
     "output_type": "stream",
     "text": [
      "\n"
     ]
    },
    {
     "name": "stderr",
     "output_type": "stream",
     "text": [
      " 39%|███▉      | 35/90 [08:35<04:28,  4.89s/it]"
     ]
    },
    {
     "name": "stdout",
     "output_type": "stream",
     "text": []
    },
    {
     "name": "stdout",
     "output_type": "stream",
     "text": [
      "\n"
     ]
    },
    {
     "name": "stderr",
     "output_type": "stream",
     "text": [
      " 40%|████      | 36/90 [08:45<05:44,  6.37s/it]"
     ]
    },
    {
     "name": "stdout",
     "output_type": "stream",
     "text": []
    },
    {
     "name": "stdout",
     "output_type": "stream",
     "text": [
      "\n"
     ]
    },
    {
     "name": "stderr",
     "output_type": "stream",
     "text": [
      " 41%|████      | 37/90 [08:54<06:23,  7.23s/it]"
     ]
    },
    {
     "name": "stdout",
     "output_type": "stream",
     "text": []
    },
    {
     "name": "stdout",
     "output_type": "stream",
     "text": [
      "\n"
     ]
    },
    {
     "name": "stderr",
     "output_type": "stream",
     "text": [
      " 42%|████▏     | 38/90 [08:59<05:39,  6.54s/it]"
     ]
    },
    {
     "name": "stdout",
     "output_type": "stream",
     "text": []
    },
    {
     "name": "stdout",
     "output_type": "stream",
     "text": [
      "\n"
     ]
    },
    {
     "name": "stderr",
     "output_type": "stream",
     "text": [
      " 43%|████▎     | 39/90 [09:05<05:33,  6.54s/it]"
     ]
    },
    {
     "name": "stdout",
     "output_type": "stream",
     "text": []
    },
    {
     "name": "stdout",
     "output_type": "stream",
     "text": [
      "\n"
     ]
    },
    {
     "name": "stderr",
     "output_type": "stream",
     "text": [
      " 44%|████▍     | 40/90 [09:09<04:43,  5.67s/it]"
     ]
    },
    {
     "name": "stdout",
     "output_type": "stream",
     "text": []
    },
    {
     "name": "stdout",
     "output_type": "stream",
     "text": [
      "\n"
     ]
    },
    {
     "name": "stderr",
     "output_type": "stream",
     "text": [
      " 46%|████▌     | 41/90 [09:14<04:20,  5.31s/it]"
     ]
    },
    {
     "name": "stdout",
     "output_type": "stream",
     "text": []
    },
    {
     "name": "stdout",
     "output_type": "stream",
     "text": [
      "\n"
     ]
    },
    {
     "name": "stderr",
     "output_type": "stream",
     "text": [
      " 47%|████▋     | 42/90 [09:18<04:00,  5.00s/it]"
     ]
    },
    {
     "name": "stdout",
     "output_type": "stream",
     "text": []
    },
    {
     "name": "stdout",
     "output_type": "stream",
     "text": [
      "\n"
     ]
    },
    {
     "name": "stderr",
     "output_type": "stream",
     "text": [
      " 48%|████▊     | 43/90 [09:21<03:28,  4.43s/it]"
     ]
    },
    {
     "name": "stdout",
     "output_type": "stream",
     "text": []
    },
    {
     "name": "stdout",
     "output_type": "stream",
     "text": [
      "\n"
     ]
    },
    {
     "name": "stderr",
     "output_type": "stream",
     "text": [
      " 49%|████▉     | 44/90 [09:26<03:37,  4.72s/it]"
     ]
    },
    {
     "name": "stdout",
     "output_type": "stream",
     "text": []
    },
    {
     "name": "stdout",
     "output_type": "stream",
     "text": [
      "\n"
     ]
    },
    {
     "name": "stderr",
     "output_type": "stream",
     "text": [
      " 50%|█████     | 45/90 [09:32<03:44,  4.99s/it]"
     ]
    },
    {
     "name": "stdout",
     "output_type": "stream",
     "text": []
    },
    {
     "name": "stdout",
     "output_type": "stream",
     "text": [
      "\n"
     ]
    },
    {
     "name": "stderr",
     "output_type": "stream",
     "text": [
      " 51%|█████     | 46/90 [09:42<04:40,  6.39s/it]"
     ]
    },
    {
     "name": "stdout",
     "output_type": "stream",
     "text": []
    },
    {
     "name": "stdout",
     "output_type": "stream",
     "text": [
      "\n"
     ]
    },
    {
     "name": "stderr",
     "output_type": "stream",
     "text": [
      " 52%|█████▏    | 47/90 [09:45<03:52,  5.41s/it]"
     ]
    },
    {
     "name": "stdout",
     "output_type": "stream",
     "text": []
    },
    {
     "name": "stdout",
     "output_type": "stream",
     "text": [
      "\n"
     ]
    },
    {
     "name": "stderr",
     "output_type": "stream",
     "text": [
      " 53%|█████▎    | 48/90 [09:49<03:32,  5.06s/it]"
     ]
    },
    {
     "name": "stdout",
     "output_type": "stream",
     "text": []
    },
    {
     "name": "stdout",
     "output_type": "stream",
     "text": [
      "\n"
     ]
    },
    {
     "name": "stderr",
     "output_type": "stream",
     "text": [
      " 54%|█████▍    | 49/90 [09:52<03:08,  4.59s/it]"
     ]
    },
    {
     "name": "stdout",
     "output_type": "stream",
     "text": []
    },
    {
     "name": "stdout",
     "output_type": "stream",
     "text": [
      "\n"
     ]
    },
    {
     "name": "stderr",
     "output_type": "stream",
     "text": [
      " 56%|█████▌    | 50/90 [09:57<03:02,  4.56s/it]"
     ]
    },
    {
     "name": "stdout",
     "output_type": "stream",
     "text": []
    },
    {
     "name": "stdout",
     "output_type": "stream",
     "text": [
      "\n"
     ]
    },
    {
     "name": "stderr",
     "output_type": "stream",
     "text": [
      " 57%|█████▋    | 51/90 [10:00<02:37,  4.04s/it]"
     ]
    },
    {
     "name": "stdout",
     "output_type": "stream",
     "text": []
    },
    {
     "name": "stdout",
     "output_type": "stream",
     "text": [
      "\n"
     ]
    },
    {
     "name": "stderr",
     "output_type": "stream",
     "text": [
      " 58%|█████▊    | 52/90 [10:03<02:27,  3.89s/it]"
     ]
    },
    {
     "name": "stdout",
     "output_type": "stream",
     "text": []
    },
    {
     "name": "stdout",
     "output_type": "stream",
     "text": [
      "\n"
     ]
    },
    {
     "name": "stderr",
     "output_type": "stream",
     "text": [
      " 59%|█████▉    | 53/90 [10:07<02:22,  3.86s/it]"
     ]
    },
    {
     "name": "stdout",
     "output_type": "stream",
     "text": []
    },
    {
     "name": "stdout",
     "output_type": "stream",
     "text": [
      "\n"
     ]
    },
    {
     "name": "stderr",
     "output_type": "stream",
     "text": [
      " 60%|██████    | 54/90 [10:11<02:15,  3.78s/it]"
     ]
    },
    {
     "name": "stdout",
     "output_type": "stream",
     "text": []
    },
    {
     "name": "stdout",
     "output_type": "stream",
     "text": [
      "\n"
     ]
    },
    {
     "name": "stderr",
     "output_type": "stream",
     "text": [
      " 61%|██████    | 55/90 [10:14<02:11,  3.75s/it]"
     ]
    },
    {
     "name": "stdout",
     "output_type": "stream",
     "text": []
    },
    {
     "name": "stdout",
     "output_type": "stream",
     "text": [
      "\n"
     ]
    },
    {
     "name": "stderr",
     "output_type": "stream",
     "text": [
      " 62%|██████▏   | 56/90 [10:21<02:36,  4.60s/it]"
     ]
    },
    {
     "name": "stdout",
     "output_type": "stream",
     "text": []
    },
    {
     "name": "stdout",
     "output_type": "stream",
     "text": [
      "\n"
     ]
    },
    {
     "name": "stderr",
     "output_type": "stream",
     "text": [
      " 63%|██████▎   | 57/90 [10:25<02:24,  4.37s/it]"
     ]
    },
    {
     "name": "stdout",
     "output_type": "stream",
     "text": []
    },
    {
     "name": "stdout",
     "output_type": "stream",
     "text": [
      "\n"
     ]
    },
    {
     "name": "stderr",
     "output_type": "stream",
     "text": [
      " 64%|██████▍   | 58/90 [10:33<02:58,  5.58s/it]"
     ]
    },
    {
     "name": "stdout",
     "output_type": "stream",
     "text": []
    },
    {
     "name": "stdout",
     "output_type": "stream",
     "text": [
      "\n"
     ]
    },
    {
     "name": "stderr",
     "output_type": "stream",
     "text": [
      " 66%|██████▌   | 59/90 [10:39<02:57,  5.73s/it]"
     ]
    },
    {
     "name": "stdout",
     "output_type": "stream",
     "text": []
    },
    {
     "name": "stdout",
     "output_type": "stream",
     "text": [
      "\n"
     ]
    },
    {
     "name": "stderr",
     "output_type": "stream",
     "text": [
      " 67%|██████▋   | 60/90 [10:44<02:42,  5.42s/it]"
     ]
    },
    {
     "name": "stdout",
     "output_type": "stream",
     "text": []
    },
    {
     "name": "stdout",
     "output_type": "stream",
     "text": [
      "\n"
     ]
    },
    {
     "name": "stderr",
     "output_type": "stream",
     "text": [
      " 68%|██████▊   | 61/90 [10:48<02:24,  4.99s/it]"
     ]
    },
    {
     "name": "stdout",
     "output_type": "stream",
     "text": []
    },
    {
     "name": "stdout",
     "output_type": "stream",
     "text": [
      "\n"
     ]
    },
    {
     "name": "stderr",
     "output_type": "stream",
     "text": [
      " 69%|██████▉   | 62/90 [10:54<02:25,  5.21s/it]"
     ]
    },
    {
     "name": "stdout",
     "output_type": "stream",
     "text": []
    },
    {
     "name": "stdout",
     "output_type": "stream",
     "text": [
      "\n"
     ]
    },
    {
     "name": "stderr",
     "output_type": "stream",
     "text": [
      " 70%|███████   | 63/90 [10:58<02:14,  4.98s/it]"
     ]
    },
    {
     "name": "stdout",
     "output_type": "stream",
     "text": []
    },
    {
     "name": "stdout",
     "output_type": "stream",
     "text": [
      "\n"
     ]
    },
    {
     "name": "stderr",
     "output_type": "stream",
     "text": [
      " 71%|███████   | 64/90 [11:03<02:10,  5.02s/it]"
     ]
    },
    {
     "name": "stdout",
     "output_type": "stream",
     "text": []
    },
    {
     "name": "stdout",
     "output_type": "stream",
     "text": [
      "\n"
     ]
    },
    {
     "name": "stderr",
     "output_type": "stream",
     "text": [
      " 72%|███████▏  | 65/90 [11:10<02:19,  5.59s/it]"
     ]
    },
    {
     "name": "stdout",
     "output_type": "stream",
     "text": []
    },
    {
     "name": "stdout",
     "output_type": "stream",
     "text": [
      "\n"
     ]
    },
    {
     "name": "stderr",
     "output_type": "stream",
     "text": [
      " 73%|███████▎  | 66/90 [11:15<02:12,  5.50s/it]"
     ]
    },
    {
     "name": "stdout",
     "output_type": "stream",
     "text": []
    },
    {
     "name": "stdout",
     "output_type": "stream",
     "text": [
      "\n"
     ]
    },
    {
     "name": "stderr",
     "output_type": "stream",
     "text": [
      " 74%|███████▍  | 67/90 [11:20<02:00,  5.25s/it]"
     ]
    },
    {
     "name": "stdout",
     "output_type": "stream",
     "text": []
    },
    {
     "name": "stdout",
     "output_type": "stream",
     "text": [
      "\n"
     ]
    },
    {
     "name": "stderr",
     "output_type": "stream",
     "text": [
      " 76%|███████▌  | 68/90 [11:25<01:56,  5.29s/it]"
     ]
    },
    {
     "name": "stdout",
     "output_type": "stream",
     "text": []
    },
    {
     "name": "stdout",
     "output_type": "stream",
     "text": [
      "\n"
     ]
    },
    {
     "name": "stderr",
     "output_type": "stream",
     "text": [
      " 77%|███████▋  | 69/90 [11:30<01:43,  4.95s/it]"
     ]
    },
    {
     "name": "stdout",
     "output_type": "stream",
     "text": []
    },
    {
     "name": "stdout",
     "output_type": "stream",
     "text": [
      "\n"
     ]
    },
    {
     "name": "stderr",
     "output_type": "stream",
     "text": [
      " 78%|███████▊  | 70/90 [11:34<01:36,  4.84s/it]"
     ]
    },
    {
     "name": "stdout",
     "output_type": "stream",
     "text": []
    },
    {
     "name": "stdout",
     "output_type": "stream",
     "text": [
      "\n"
     ]
    },
    {
     "name": "stderr",
     "output_type": "stream",
     "text": [
      " 79%|███████▉  | 71/90 [11:38<01:28,  4.65s/it]"
     ]
    },
    {
     "name": "stdout",
     "output_type": "stream",
     "text": []
    },
    {
     "name": "stdout",
     "output_type": "stream",
     "text": [
      "\n"
     ]
    },
    {
     "name": "stderr",
     "output_type": "stream",
     "text": [
      " 80%|████████  | 72/90 [11:43<01:23,  4.65s/it]"
     ]
    },
    {
     "name": "stdout",
     "output_type": "stream",
     "text": []
    },
    {
     "name": "stdout",
     "output_type": "stream",
     "text": [
      "\n"
     ]
    },
    {
     "name": "stderr",
     "output_type": "stream",
     "text": [
      " 81%|████████  | 73/90 [11:48<01:22,  4.85s/it]"
     ]
    },
    {
     "name": "stdout",
     "output_type": "stream",
     "text": []
    },
    {
     "name": "stdout",
     "output_type": "stream",
     "text": [
      "\n"
     ]
    },
    {
     "name": "stderr",
     "output_type": "stream",
     "text": [
      " 82%|████████▏ | 74/90 [11:52<01:10,  4.41s/it]"
     ]
    },
    {
     "name": "stdout",
     "output_type": "stream",
     "text": []
    },
    {
     "name": "stdout",
     "output_type": "stream",
     "text": [
      "\n"
     ]
    },
    {
     "name": "stderr",
     "output_type": "stream",
     "text": [
      " 83%|████████▎ | 75/90 [11:56<01:05,  4.36s/it]"
     ]
    },
    {
     "name": "stdout",
     "output_type": "stream",
     "text": []
    },
    {
     "name": "stdout",
     "output_type": "stream",
     "text": [
      "\n"
     ]
    },
    {
     "name": "stderr",
     "output_type": "stream",
     "text": [
      " 84%|████████▍ | 76/90 [12:02<01:06,  4.76s/it]"
     ]
    },
    {
     "name": "stdout",
     "output_type": "stream",
     "text": []
    },
    {
     "name": "stdout",
     "output_type": "stream",
     "text": [
      "\n"
     ]
    },
    {
     "name": "stderr",
     "output_type": "stream",
     "text": [
      " 86%|████████▌ | 77/90 [12:08<01:07,  5.18s/it]"
     ]
    },
    {
     "name": "stdout",
     "output_type": "stream",
     "text": []
    },
    {
     "name": "stdout",
     "output_type": "stream",
     "text": [
      "\n"
     ]
    },
    {
     "name": "stderr",
     "output_type": "stream",
     "text": [
      " 87%|████████▋ | 78/90 [12:13<01:01,  5.13s/it]"
     ]
    },
    {
     "name": "stdout",
     "output_type": "stream",
     "text": []
    },
    {
     "name": "stdout",
     "output_type": "stream",
     "text": [
      "\n"
     ]
    },
    {
     "name": "stderr",
     "output_type": "stream",
     "text": [
      " 88%|████████▊ | 79/90 [12:17<00:53,  4.86s/it]"
     ]
    },
    {
     "name": "stdout",
     "output_type": "stream",
     "text": []
    },
    {
     "name": "stdout",
     "output_type": "stream",
     "text": [
      "\n"
     ]
    },
    {
     "name": "stderr",
     "output_type": "stream",
     "text": [
      " 89%|████████▉ | 80/90 [12:21<00:46,  4.63s/it]"
     ]
    },
    {
     "name": "stdout",
     "output_type": "stream",
     "text": []
    },
    {
     "name": "stdout",
     "output_type": "stream",
     "text": [
      "\n"
     ]
    },
    {
     "name": "stderr",
     "output_type": "stream",
     "text": [
      " 90%|█████████ | 81/90 [12:27<00:45,  5.08s/it]"
     ]
    },
    {
     "name": "stdout",
     "output_type": "stream",
     "text": []
    },
    {
     "name": "stdout",
     "output_type": "stream",
     "text": [
      "\n"
     ]
    },
    {
     "name": "stderr",
     "output_type": "stream",
     "text": [
      " 91%|█████████ | 82/90 [12:33<00:41,  5.22s/it]"
     ]
    },
    {
     "name": "stdout",
     "output_type": "stream",
     "text": []
    },
    {
     "name": "stdout",
     "output_type": "stream",
     "text": [
      "\n"
     ]
    },
    {
     "name": "stderr",
     "output_type": "stream",
     "text": [
      " 92%|█████████▏| 83/90 [12:36<00:32,  4.71s/it]"
     ]
    },
    {
     "name": "stdout",
     "output_type": "stream",
     "text": []
    },
    {
     "name": "stdout",
     "output_type": "stream",
     "text": [
      "\n"
     ]
    },
    {
     "name": "stderr",
     "output_type": "stream",
     "text": [
      " 93%|█████████▎| 84/90 [12:43<00:32,  5.41s/it]"
     ]
    },
    {
     "name": "stdout",
     "output_type": "stream",
     "text": []
    },
    {
     "name": "stdout",
     "output_type": "stream",
     "text": [
      "\n"
     ]
    },
    {
     "name": "stderr",
     "output_type": "stream",
     "text": [
      " 94%|█████████▍| 85/90 [12:47<00:24,  4.89s/it]"
     ]
    },
    {
     "name": "stdout",
     "output_type": "stream",
     "text": []
    },
    {
     "name": "stdout",
     "output_type": "stream",
     "text": [
      "\n"
     ]
    },
    {
     "name": "stderr",
     "output_type": "stream",
     "text": [
      " 96%|█████████▌| 86/90 [12:51<00:18,  4.54s/it]"
     ]
    },
    {
     "name": "stdout",
     "output_type": "stream",
     "text": []
    },
    {
     "name": "stdout",
     "output_type": "stream",
     "text": [
      "\n"
     ]
    },
    {
     "name": "stderr",
     "output_type": "stream",
     "text": [
      " 97%|█████████▋| 87/90 [12:57<00:15,  5.04s/it]"
     ]
    },
    {
     "name": "stdout",
     "output_type": "stream",
     "text": []
    },
    {
     "name": "stdout",
     "output_type": "stream",
     "text": [
      "\n"
     ]
    },
    {
     "name": "stderr",
     "output_type": "stream",
     "text": [
      " 98%|█████████▊| 88/90 [13:00<00:09,  4.52s/it]"
     ]
    },
    {
     "name": "stdout",
     "output_type": "stream",
     "text": []
    },
    {
     "name": "stdout",
     "output_type": "stream",
     "text": [
      "\n"
     ]
    },
    {
     "name": "stderr",
     "output_type": "stream",
     "text": [
      " 99%|█████████▉| 89/90 [13:05<00:04,  4.56s/it]"
     ]
    },
    {
     "name": "stdout",
     "output_type": "stream",
     "text": []
    },
    {
     "name": "stdout",
     "output_type": "stream",
     "text": [
      "\n"
     ]
    },
    {
     "name": "stderr",
     "output_type": "stream",
     "text": [
      "100%|██████████| 90/90 [13:10<00:00,  4.64s/it]\n",
      "  0%|          | 0/90 [00:00<?, ?it/s]"
     ]
    },
    {
     "name": "stdout",
     "output_type": "stream",
     "text": []
    },
    {
     "name": "stdout",
     "output_type": "stream",
     "text": [
      "\n"
     ]
    },
    {
     "name": "stderr",
     "output_type": "stream",
     "text": [
      "  1%|          | 1/90 [00:02<04:19,  2.91s/it]"
     ]
    },
    {
     "name": "stdout",
     "output_type": "stream",
     "text": []
    },
    {
     "name": "stdout",
     "output_type": "stream",
     "text": [
      "\n"
     ]
    },
    {
     "name": "stderr",
     "output_type": "stream",
     "text": [
      "  2%|▏         | 2/90 [00:06<04:25,  3.02s/it]"
     ]
    },
    {
     "name": "stdout",
     "output_type": "stream",
     "text": []
    },
    {
     "name": "stdout",
     "output_type": "stream",
     "text": [
      "\n"
     ]
    },
    {
     "name": "stderr",
     "output_type": "stream",
     "text": [
      "  3%|▎         | 3/90 [00:13<06:19,  4.36s/it]"
     ]
    },
    {
     "name": "stdout",
     "output_type": "stream",
     "text": []
    },
    {
     "name": "stdout",
     "output_type": "stream",
     "text": [
      "\n"
     ]
    },
    {
     "name": "stderr",
     "output_type": "stream",
     "text": [
      "  4%|▍         | 4/90 [00:19<06:51,  4.79s/it]"
     ]
    },
    {
     "name": "stdout",
     "output_type": "stream",
     "text": []
    },
    {
     "name": "stdout",
     "output_type": "stream",
     "text": [
      "\n"
     ]
    },
    {
     "name": "stderr",
     "output_type": "stream",
     "text": [
      "  6%|▌         | 5/90 [00:23<06:23,  4.51s/it]"
     ]
    },
    {
     "name": "stdout",
     "output_type": "stream",
     "text": []
    },
    {
     "name": "stdout",
     "output_type": "stream",
     "text": [
      "\n"
     ]
    },
    {
     "name": "stderr",
     "output_type": "stream",
     "text": [
      "  7%|▋         | 6/90 [00:27<06:03,  4.33s/it]"
     ]
    },
    {
     "name": "stdout",
     "output_type": "stream",
     "text": []
    },
    {
     "name": "stdout",
     "output_type": "stream",
     "text": [
      "\n"
     ]
    },
    {
     "name": "stderr",
     "output_type": "stream",
     "text": [
      "  8%|▊         | 7/90 [00:30<05:23,  3.90s/it]"
     ]
    },
    {
     "name": "stdout",
     "output_type": "stream",
     "text": []
    },
    {
     "name": "stdout",
     "output_type": "stream",
     "text": [
      "\n"
     ]
    },
    {
     "name": "stderr",
     "output_type": "stream",
     "text": [
      "  9%|▉         | 8/90 [00:34<05:38,  4.13s/it]"
     ]
    },
    {
     "name": "stdout",
     "output_type": "stream",
     "text": []
    },
    {
     "name": "stdout",
     "output_type": "stream",
     "text": [
      "\n"
     ]
    },
    {
     "name": "stderr",
     "output_type": "stream",
     "text": [
      " 10%|█         | 9/90 [00:39<05:46,  4.28s/it]"
     ]
    },
    {
     "name": "stdout",
     "output_type": "stream",
     "text": []
    },
    {
     "name": "stdout",
     "output_type": "stream",
     "text": [
      "\n"
     ]
    },
    {
     "name": "stderr",
     "output_type": "stream",
     "text": [
      " 11%|█         | 10/90 [00:45<06:15,  4.69s/it]"
     ]
    },
    {
     "name": "stdout",
     "output_type": "stream",
     "text": []
    },
    {
     "name": "stdout",
     "output_type": "stream",
     "text": [
      "\n"
     ]
    },
    {
     "name": "stderr",
     "output_type": "stream",
     "text": [
      " 12%|█▏        | 11/90 [00:49<05:59,  4.55s/it]"
     ]
    },
    {
     "name": "stdout",
     "output_type": "stream",
     "text": []
    },
    {
     "name": "stdout",
     "output_type": "stream",
     "text": [
      "\n"
     ]
    },
    {
     "name": "stderr",
     "output_type": "stream",
     "text": [
      " 13%|█▎        | 12/90 [00:52<05:16,  4.06s/it]"
     ]
    },
    {
     "name": "stdout",
     "output_type": "stream",
     "text": []
    },
    {
     "name": "stdout",
     "output_type": "stream",
     "text": [
      "\n"
     ]
    },
    {
     "name": "stderr",
     "output_type": "stream",
     "text": [
      " 14%|█▍        | 13/90 [00:54<04:39,  3.63s/it]"
     ]
    },
    {
     "name": "stdout",
     "output_type": "stream",
     "text": []
    },
    {
     "name": "stdout",
     "output_type": "stream",
     "text": [
      "\n"
     ]
    },
    {
     "name": "stderr",
     "output_type": "stream",
     "text": [
      " 16%|█▌        | 14/90 [01:00<05:27,  4.31s/it]"
     ]
    },
    {
     "name": "stdout",
     "output_type": "stream",
     "text": []
    },
    {
     "name": "stdout",
     "output_type": "stream",
     "text": [
      "\n"
     ]
    },
    {
     "name": "stderr",
     "output_type": "stream",
     "text": [
      " 17%|█▋        | 15/90 [01:05<05:37,  4.50s/it]"
     ]
    },
    {
     "name": "stdout",
     "output_type": "stream",
     "text": []
    },
    {
     "name": "stdout",
     "output_type": "stream",
     "text": [
      "\n"
     ]
    },
    {
     "name": "stderr",
     "output_type": "stream",
     "text": [
      " 18%|█▊        | 16/90 [01:09<05:09,  4.18s/it]"
     ]
    },
    {
     "name": "stdout",
     "output_type": "stream",
     "text": []
    },
    {
     "name": "stdout",
     "output_type": "stream",
     "text": [
      "\n"
     ]
    },
    {
     "name": "stderr",
     "output_type": "stream",
     "text": [
      " 19%|█▉        | 17/90 [01:13<05:08,  4.22s/it]"
     ]
    },
    {
     "name": "stdout",
     "output_type": "stream",
     "text": []
    },
    {
     "name": "stdout",
     "output_type": "stream",
     "text": [
      "\n"
     ]
    },
    {
     "name": "stderr",
     "output_type": "stream",
     "text": [
      " 20%|██        | 18/90 [01:16<04:36,  3.84s/it]"
     ]
    },
    {
     "name": "stdout",
     "output_type": "stream",
     "text": []
    },
    {
     "name": "stdout",
     "output_type": "stream",
     "text": [
      "\n"
     ]
    },
    {
     "name": "stderr",
     "output_type": "stream",
     "text": [
      " 21%|██        | 19/90 [01:20<04:44,  4.00s/it]"
     ]
    },
    {
     "name": "stdout",
     "output_type": "stream",
     "text": []
    },
    {
     "name": "stdout",
     "output_type": "stream",
     "text": [
      "\n"
     ]
    },
    {
     "name": "stderr",
     "output_type": "stream",
     "text": [
      " 22%|██▏       | 20/90 [01:23<04:18,  3.69s/it]"
     ]
    },
    {
     "name": "stdout",
     "output_type": "stream",
     "text": []
    },
    {
     "name": "stdout",
     "output_type": "stream",
     "text": [
      "\n"
     ]
    },
    {
     "name": "stderr",
     "output_type": "stream",
     "text": [
      " 23%|██▎       | 21/90 [01:26<04:04,  3.54s/it]"
     ]
    },
    {
     "name": "stdout",
     "output_type": "stream",
     "text": []
    },
    {
     "name": "stdout",
     "output_type": "stream",
     "text": [
      "\n"
     ]
    },
    {
     "name": "stderr",
     "output_type": "stream",
     "text": [
      " 24%|██▍       | 22/90 [01:31<04:30,  3.98s/it]"
     ]
    },
    {
     "name": "stdout",
     "output_type": "stream",
     "text": []
    },
    {
     "name": "stdout",
     "output_type": "stream",
     "text": [
      "\n"
     ]
    },
    {
     "name": "stderr",
     "output_type": "stream",
     "text": [
      " 26%|██▌       | 23/90 [01:36<04:34,  4.10s/it]"
     ]
    },
    {
     "name": "stdout",
     "output_type": "stream",
     "text": []
    },
    {
     "name": "stdout",
     "output_type": "stream",
     "text": [
      "\n"
     ]
    },
    {
     "name": "stderr",
     "output_type": "stream",
     "text": [
      " 27%|██▋       | 24/90 [01:39<04:19,  3.93s/it]"
     ]
    },
    {
     "name": "stdout",
     "output_type": "stream",
     "text": []
    },
    {
     "name": "stdout",
     "output_type": "stream",
     "text": [
      "\n"
     ]
    },
    {
     "name": "stderr",
     "output_type": "stream",
     "text": [
      " 28%|██▊       | 25/90 [01:43<04:10,  3.86s/it]"
     ]
    },
    {
     "name": "stdout",
     "output_type": "stream",
     "text": []
    },
    {
     "name": "stdout",
     "output_type": "stream",
     "text": [
      "\n"
     ]
    },
    {
     "name": "stderr",
     "output_type": "stream",
     "text": [
      " 29%|██▉       | 26/90 [01:48<04:30,  4.23s/it]"
     ]
    },
    {
     "name": "stdout",
     "output_type": "stream",
     "text": []
    },
    {
     "name": "stdout",
     "output_type": "stream",
     "text": [
      "\n"
     ]
    },
    {
     "name": "stderr",
     "output_type": "stream",
     "text": [
      " 30%|███       | 27/90 [01:51<04:04,  3.89s/it]"
     ]
    },
    {
     "name": "stdout",
     "output_type": "stream",
     "text": []
    },
    {
     "name": "stdout",
     "output_type": "stream",
     "text": [
      "\n"
     ]
    },
    {
     "name": "stderr",
     "output_type": "stream",
     "text": [
      " 31%|███       | 28/90 [01:57<04:28,  4.33s/it]"
     ]
    },
    {
     "name": "stdout",
     "output_type": "stream",
     "text": []
    },
    {
     "name": "stdout",
     "output_type": "stream",
     "text": [
      "\n"
     ]
    },
    {
     "name": "stderr",
     "output_type": "stream",
     "text": [
      " 32%|███▏      | 29/90 [02:00<04:15,  4.18s/it]"
     ]
    },
    {
     "name": "stdout",
     "output_type": "stream",
     "text": []
    },
    {
     "name": "stdout",
     "output_type": "stream",
     "text": [
      "\n"
     ]
    },
    {
     "name": "stderr",
     "output_type": "stream",
     "text": [
      " 33%|███▎      | 30/90 [02:05<04:18,  4.30s/it]"
     ]
    },
    {
     "name": "stdout",
     "output_type": "stream",
     "text": []
    },
    {
     "name": "stdout",
     "output_type": "stream",
     "text": [
      "\n"
     ]
    },
    {
     "name": "stderr",
     "output_type": "stream",
     "text": [
      " 34%|███▍      | 31/90 [02:08<03:52,  3.95s/it]"
     ]
    },
    {
     "name": "stdout",
     "output_type": "stream",
     "text": []
    },
    {
     "name": "stdout",
     "output_type": "stream",
     "text": [
      "\n"
     ]
    },
    {
     "name": "stderr",
     "output_type": "stream",
     "text": [
      " 36%|███▌      | 32/90 [02:11<03:31,  3.65s/it]"
     ]
    },
    {
     "name": "stdout",
     "output_type": "stream",
     "text": []
    },
    {
     "name": "stdout",
     "output_type": "stream",
     "text": [
      "\n"
     ]
    },
    {
     "name": "stderr",
     "output_type": "stream",
     "text": [
      " 37%|███▋      | 33/90 [02:17<04:03,  4.26s/it]"
     ]
    },
    {
     "name": "stdout",
     "output_type": "stream",
     "text": []
    },
    {
     "name": "stdout",
     "output_type": "stream",
     "text": [
      "\n"
     ]
    },
    {
     "name": "stderr",
     "output_type": "stream",
     "text": [
      " 38%|███▊      | 34/90 [02:22<04:15,  4.56s/it]"
     ]
    },
    {
     "name": "stdout",
     "output_type": "stream",
     "text": []
    },
    {
     "name": "stdout",
     "output_type": "stream",
     "text": [
      "\n"
     ]
    },
    {
     "name": "stderr",
     "output_type": "stream",
     "text": [
      " 39%|███▉      | 35/90 [02:27<04:19,  4.72s/it]"
     ]
    },
    {
     "name": "stdout",
     "output_type": "stream",
     "text": []
    },
    {
     "name": "stdout",
     "output_type": "stream",
     "text": [
      "\n"
     ]
    },
    {
     "name": "stderr",
     "output_type": "stream",
     "text": [
      " 40%|████      | 36/90 [02:33<04:40,  5.20s/it]"
     ]
    },
    {
     "name": "stdout",
     "output_type": "stream",
     "text": []
    },
    {
     "name": "stdout",
     "output_type": "stream",
     "text": [
      "\n"
     ]
    },
    {
     "name": "stderr",
     "output_type": "stream",
     "text": [
      " 41%|████      | 37/90 [02:36<04:00,  4.53s/it]"
     ]
    },
    {
     "name": "stdout",
     "output_type": "stream",
     "text": []
    },
    {
     "name": "stdout",
     "output_type": "stream",
     "text": [
      "\n"
     ]
    },
    {
     "name": "stderr",
     "output_type": "stream",
     "text": [
      " 42%|████▏     | 38/90 [02:43<04:28,  5.16s/it]"
     ]
    },
    {
     "name": "stdout",
     "output_type": "stream",
     "text": []
    },
    {
     "name": "stdout",
     "output_type": "stream",
     "text": [
      "\n"
     ]
    },
    {
     "name": "stderr",
     "output_type": "stream",
     "text": [
      " 43%|████▎     | 39/90 [02:47<04:10,  4.90s/it]"
     ]
    },
    {
     "name": "stdout",
     "output_type": "stream",
     "text": []
    },
    {
     "name": "stdout",
     "output_type": "stream",
     "text": [
      "\n"
     ]
    },
    {
     "name": "stderr",
     "output_type": "stream",
     "text": [
      " 44%|████▍     | 40/90 [02:53<04:15,  5.11s/it]"
     ]
    },
    {
     "name": "stdout",
     "output_type": "stream",
     "text": []
    },
    {
     "name": "stdout",
     "output_type": "stream",
     "text": [
      "\n"
     ]
    },
    {
     "name": "stderr",
     "output_type": "stream",
     "text": [
      " 46%|████▌     | 41/90 [02:57<04:00,  4.90s/it]"
     ]
    },
    {
     "name": "stdout",
     "output_type": "stream",
     "text": []
    },
    {
     "name": "stdout",
     "output_type": "stream",
     "text": [
      "\n"
     ]
    },
    {
     "name": "stderr",
     "output_type": "stream",
     "text": [
      " 47%|████▋     | 42/90 [03:01<03:39,  4.58s/it]"
     ]
    },
    {
     "name": "stdout",
     "output_type": "stream",
     "text": []
    },
    {
     "name": "stdout",
     "output_type": "stream",
     "text": [
      "\n"
     ]
    },
    {
     "name": "stderr",
     "output_type": "stream",
     "text": [
      " 48%|████▊     | 43/90 [03:06<03:44,  4.77s/it]"
     ]
    },
    {
     "name": "stdout",
     "output_type": "stream",
     "text": []
    },
    {
     "name": "stdout",
     "output_type": "stream",
     "text": [
      "\n"
     ]
    },
    {
     "name": "stderr",
     "output_type": "stream",
     "text": [
      " 49%|████▉     | 44/90 [03:11<03:43,  4.86s/it]"
     ]
    },
    {
     "name": "stdout",
     "output_type": "stream",
     "text": []
    },
    {
     "name": "stdout",
     "output_type": "stream",
     "text": [
      "\n"
     ]
    },
    {
     "name": "stderr",
     "output_type": "stream",
     "text": [
      " 50%|█████     | 45/90 [03:16<03:35,  4.79s/it]"
     ]
    },
    {
     "name": "stdout",
     "output_type": "stream",
     "text": []
    },
    {
     "name": "stdout",
     "output_type": "stream",
     "text": [
      "\n"
     ]
    },
    {
     "name": "stderr",
     "output_type": "stream",
     "text": [
      " 51%|█████     | 46/90 [03:19<03:07,  4.26s/it]"
     ]
    },
    {
     "name": "stdout",
     "output_type": "stream",
     "text": []
    },
    {
     "name": "stdout",
     "output_type": "stream",
     "text": [
      "\n"
     ]
    },
    {
     "name": "stderr",
     "output_type": "stream",
     "text": [
      " 52%|█████▏    | 47/90 [03:23<03:02,  4.26s/it]"
     ]
    },
    {
     "name": "stdout",
     "output_type": "stream",
     "text": []
    },
    {
     "name": "stdout",
     "output_type": "stream",
     "text": [
      "\n"
     ]
    },
    {
     "name": "stderr",
     "output_type": "stream",
     "text": [
      " 53%|█████▎    | 48/90 [03:27<02:48,  4.01s/it]"
     ]
    },
    {
     "name": "stdout",
     "output_type": "stream",
     "text": []
    },
    {
     "name": "stdout",
     "output_type": "stream",
     "text": [
      "\n"
     ]
    },
    {
     "name": "stderr",
     "output_type": "stream",
     "text": [
      " 54%|█████▍    | 49/90 [03:30<02:39,  3.89s/it]"
     ]
    },
    {
     "name": "stdout",
     "output_type": "stream",
     "text": []
    },
    {
     "name": "stdout",
     "output_type": "stream",
     "text": [
      "\n"
     ]
    },
    {
     "name": "stderr",
     "output_type": "stream",
     "text": [
      " 56%|█████▌    | 50/90 [03:34<02:38,  3.96s/it]"
     ]
    },
    {
     "name": "stdout",
     "output_type": "stream",
     "text": []
    },
    {
     "name": "stdout",
     "output_type": "stream",
     "text": [
      "\n"
     ]
    },
    {
     "name": "stderr",
     "output_type": "stream",
     "text": [
      " 57%|█████▋    | 51/90 [03:38<02:32,  3.90s/it]"
     ]
    },
    {
     "name": "stdout",
     "output_type": "stream",
     "text": []
    },
    {
     "name": "stdout",
     "output_type": "stream",
     "text": [
      "\n"
     ]
    },
    {
     "name": "stderr",
     "output_type": "stream",
     "text": [
      " 58%|█████▊    | 52/90 [03:48<03:35,  5.66s/it]"
     ]
    },
    {
     "name": "stdout",
     "output_type": "stream",
     "text": []
    },
    {
     "name": "stdout",
     "output_type": "stream",
     "text": [
      "\n"
     ]
    },
    {
     "name": "stderr",
     "output_type": "stream",
     "text": [
      " 59%|█████▉    | 53/90 [03:52<03:05,  5.02s/it]"
     ]
    },
    {
     "name": "stdout",
     "output_type": "stream",
     "text": []
    },
    {
     "name": "stdout",
     "output_type": "stream",
     "text": [
      "\n"
     ]
    },
    {
     "name": "stderr",
     "output_type": "stream",
     "text": [
      " 60%|██████    | 54/90 [03:55<02:43,  4.54s/it]"
     ]
    },
    {
     "name": "stdout",
     "output_type": "stream",
     "text": []
    },
    {
     "name": "stdout",
     "output_type": "stream",
     "text": [
      "\n"
     ]
    },
    {
     "name": "stderr",
     "output_type": "stream",
     "text": [
      " 61%|██████    | 55/90 [03:58<02:20,  4.03s/it]"
     ]
    },
    {
     "name": "stdout",
     "output_type": "stream",
     "text": []
    },
    {
     "name": "stdout",
     "output_type": "stream",
     "text": [
      "\n"
     ]
    },
    {
     "name": "stderr",
     "output_type": "stream",
     "text": [
      " 62%|██████▏   | 56/90 [04:01<02:06,  3.72s/it]"
     ]
    },
    {
     "name": "stdout",
     "output_type": "stream",
     "text": []
    },
    {
     "name": "stdout",
     "output_type": "stream",
     "text": [
      "\n"
     ]
    },
    {
     "name": "stderr",
     "output_type": "stream",
     "text": [
      " 63%|██████▎   | 57/90 [04:05<02:02,  3.72s/it]"
     ]
    },
    {
     "name": "stdout",
     "output_type": "stream",
     "text": []
    },
    {
     "name": "stdout",
     "output_type": "stream",
     "text": [
      "\n"
     ]
    },
    {
     "name": "stderr",
     "output_type": "stream",
     "text": [
      " 64%|██████▍   | 58/90 [04:09<02:07,  3.99s/it]"
     ]
    },
    {
     "name": "stdout",
     "output_type": "stream",
     "text": []
    },
    {
     "name": "stdout",
     "output_type": "stream",
     "text": [
      "\n"
     ]
    },
    {
     "name": "stderr",
     "output_type": "stream",
     "text": [
      " 66%|██████▌   | 59/90 [04:12<01:56,  3.74s/it]"
     ]
    },
    {
     "name": "stdout",
     "output_type": "stream",
     "text": []
    },
    {
     "name": "stdout",
     "output_type": "stream",
     "text": [
      "\n"
     ]
    },
    {
     "name": "stderr",
     "output_type": "stream",
     "text": [
      " 67%|██████▋   | 60/90 [04:18<02:14,  4.47s/it]"
     ]
    },
    {
     "name": "stdout",
     "output_type": "stream",
     "text": []
    },
    {
     "name": "stdout",
     "output_type": "stream",
     "text": [
      "\n"
     ]
    },
    {
     "name": "stderr",
     "output_type": "stream",
     "text": [
      " 68%|██████▊   | 61/90 [04:23<02:11,  4.54s/it]"
     ]
    },
    {
     "name": "stdout",
     "output_type": "stream",
     "text": []
    },
    {
     "name": "stdout",
     "output_type": "stream",
     "text": [
      "\n"
     ]
    },
    {
     "name": "stderr",
     "output_type": "stream",
     "text": [
      " 69%|██████▉   | 62/90 [04:27<01:58,  4.25s/it]"
     ]
    },
    {
     "name": "stdout",
     "output_type": "stream",
     "text": []
    },
    {
     "name": "stdout",
     "output_type": "stream",
     "text": [
      "\n"
     ]
    },
    {
     "name": "stderr",
     "output_type": "stream",
     "text": [
      " 70%|███████   | 63/90 [04:31<01:53,  4.19s/it]"
     ]
    },
    {
     "name": "stdout",
     "output_type": "stream",
     "text": []
    },
    {
     "name": "stdout",
     "output_type": "stream",
     "text": [
      "\n"
     ]
    },
    {
     "name": "stderr",
     "output_type": "stream",
     "text": [
      " 71%|███████   | 64/90 [04:36<01:58,  4.57s/it]"
     ]
    },
    {
     "name": "stdout",
     "output_type": "stream",
     "text": []
    },
    {
     "name": "stdout",
     "output_type": "stream",
     "text": [
      "\n"
     ]
    },
    {
     "name": "stderr",
     "output_type": "stream",
     "text": [
      " 72%|███████▏  | 65/90 [04:41<01:53,  4.54s/it]"
     ]
    },
    {
     "name": "stdout",
     "output_type": "stream",
     "text": []
    },
    {
     "name": "stdout",
     "output_type": "stream",
     "text": [
      "\n"
     ]
    },
    {
     "name": "stderr",
     "output_type": "stream",
     "text": [
      " 73%|███████▎  | 66/90 [04:43<01:35,  3.98s/it]"
     ]
    },
    {
     "name": "stdout",
     "output_type": "stream",
     "text": []
    },
    {
     "name": "stdout",
     "output_type": "stream",
     "text": [
      "\n"
     ]
    },
    {
     "name": "stderr",
     "output_type": "stream",
     "text": [
      " 74%|███████▍  | 67/90 [04:47<01:31,  3.96s/it]"
     ]
    },
    {
     "name": "stdout",
     "output_type": "stream",
     "text": []
    },
    {
     "name": "stdout",
     "output_type": "stream",
     "text": [
      "\n"
     ]
    },
    {
     "name": "stderr",
     "output_type": "stream",
     "text": [
      " 76%|███████▌  | 68/90 [04:51<01:23,  3.79s/it]"
     ]
    },
    {
     "name": "stdout",
     "output_type": "stream",
     "text": []
    },
    {
     "name": "stdout",
     "output_type": "stream",
     "text": [
      "\n"
     ]
    },
    {
     "name": "stderr",
     "output_type": "stream",
     "text": [
      " 77%|███████▋  | 69/90 [04:54<01:18,  3.72s/it]"
     ]
    },
    {
     "name": "stdout",
     "output_type": "stream",
     "text": []
    },
    {
     "name": "stdout",
     "output_type": "stream",
     "text": [
      "\n"
     ]
    },
    {
     "name": "stderr",
     "output_type": "stream",
     "text": [
      " 78%|███████▊  | 70/90 [04:57<01:11,  3.56s/it]"
     ]
    },
    {
     "name": "stdout",
     "output_type": "stream",
     "text": []
    },
    {
     "name": "stdout",
     "output_type": "stream",
     "text": [
      "\n"
     ]
    },
    {
     "name": "stderr",
     "output_type": "stream",
     "text": [
      " 79%|███████▉  | 71/90 [05:01<01:07,  3.54s/it]"
     ]
    },
    {
     "name": "stdout",
     "output_type": "stream",
     "text": []
    },
    {
     "name": "stdout",
     "output_type": "stream",
     "text": [
      "\n"
     ]
    },
    {
     "name": "stderr",
     "output_type": "stream",
     "text": [
      " 80%|████████  | 72/90 [05:06<01:09,  3.84s/it]"
     ]
    },
    {
     "name": "stdout",
     "output_type": "stream",
     "text": []
    },
    {
     "name": "stdout",
     "output_type": "stream",
     "text": [
      "\n"
     ]
    },
    {
     "name": "stderr",
     "output_type": "stream",
     "text": [
      " 81%|████████  | 73/90 [05:09<01:06,  3.89s/it]"
     ]
    },
    {
     "name": "stdout",
     "output_type": "stream",
     "text": []
    },
    {
     "name": "stdout",
     "output_type": "stream",
     "text": [
      "\n"
     ]
    },
    {
     "name": "stderr",
     "output_type": "stream",
     "text": [
      " 82%|████████▏ | 74/90 [05:15<01:10,  4.38s/it]"
     ]
    },
    {
     "name": "stdout",
     "output_type": "stream",
     "text": []
    },
    {
     "name": "stdout",
     "output_type": "stream",
     "text": [
      "\n"
     ]
    },
    {
     "name": "stderr",
     "output_type": "stream",
     "text": [
      " 83%|████████▎ | 75/90 [05:21<01:11,  4.78s/it]"
     ]
    },
    {
     "name": "stdout",
     "output_type": "stream",
     "text": []
    },
    {
     "name": "stdout",
     "output_type": "stream",
     "text": [
      "\n"
     ]
    },
    {
     "name": "stderr",
     "output_type": "stream",
     "text": [
      " 84%|████████▍ | 76/90 [05:25<01:03,  4.56s/it]"
     ]
    },
    {
     "name": "stdout",
     "output_type": "stream",
     "text": []
    },
    {
     "name": "stdout",
     "output_type": "stream",
     "text": [
      "\n"
     ]
    },
    {
     "name": "stderr",
     "output_type": "stream",
     "text": [
      " 86%|████████▌ | 77/90 [05:30<01:00,  4.65s/it]"
     ]
    },
    {
     "name": "stdout",
     "output_type": "stream",
     "text": []
    },
    {
     "name": "stdout",
     "output_type": "stream",
     "text": [
      "\n"
     ]
    },
    {
     "name": "stderr",
     "output_type": "stream",
     "text": [
      " 87%|████████▋ | 78/90 [05:34<00:54,  4.53s/it]"
     ]
    },
    {
     "name": "stdout",
     "output_type": "stream",
     "text": []
    },
    {
     "name": "stdout",
     "output_type": "stream",
     "text": [
      "\n"
     ]
    },
    {
     "name": "stderr",
     "output_type": "stream",
     "text": [
      " 88%|████████▊ | 79/90 [05:37<00:44,  4.08s/it]"
     ]
    },
    {
     "name": "stdout",
     "output_type": "stream",
     "text": []
    },
    {
     "name": "stdout",
     "output_type": "stream",
     "text": [
      "\n"
     ]
    },
    {
     "name": "stderr",
     "output_type": "stream",
     "text": [
      " 89%|████████▉ | 80/90 [05:40<00:38,  3.88s/it]"
     ]
    },
    {
     "name": "stdout",
     "output_type": "stream",
     "text": []
    },
    {
     "name": "stdout",
     "output_type": "stream",
     "text": [
      "\n"
     ]
    },
    {
     "name": "stderr",
     "output_type": "stream",
     "text": [
      " 90%|█████████ | 81/90 [05:44<00:34,  3.83s/it]"
     ]
    },
    {
     "name": "stdout",
     "output_type": "stream",
     "text": []
    },
    {
     "name": "stdout",
     "output_type": "stream",
     "text": [
      "\n"
     ]
    },
    {
     "name": "stderr",
     "output_type": "stream",
     "text": [
      " 91%|█████████ | 82/90 [05:49<00:34,  4.29s/it]"
     ]
    },
    {
     "name": "stdout",
     "output_type": "stream",
     "text": []
    },
    {
     "name": "stdout",
     "output_type": "stream",
     "text": [
      "\n"
     ]
    },
    {
     "name": "stderr",
     "output_type": "stream",
     "text": [
      " 92%|█████████▏| 83/90 [05:54<00:31,  4.43s/it]"
     ]
    },
    {
     "name": "stdout",
     "output_type": "stream",
     "text": []
    },
    {
     "name": "stdout",
     "output_type": "stream",
     "text": [
      "\n"
     ]
    },
    {
     "name": "stderr",
     "output_type": "stream",
     "text": [
      " 93%|█████████▎| 84/90 [05:57<00:23,  3.99s/it]"
     ]
    },
    {
     "name": "stdout",
     "output_type": "stream",
     "text": []
    },
    {
     "name": "stdout",
     "output_type": "stream",
     "text": [
      "\n"
     ]
    },
    {
     "name": "stderr",
     "output_type": "stream",
     "text": [
      " 94%|█████████▍| 85/90 [06:01<00:19,  3.98s/it]"
     ]
    },
    {
     "name": "stdout",
     "output_type": "stream",
     "text": []
    },
    {
     "name": "stdout",
     "output_type": "stream",
     "text": [
      "\n"
     ]
    },
    {
     "name": "stderr",
     "output_type": "stream",
     "text": [
      " 96%|█████████▌| 86/90 [06:04<00:15,  3.80s/it]"
     ]
    },
    {
     "name": "stdout",
     "output_type": "stream",
     "text": []
    },
    {
     "name": "stdout",
     "output_type": "stream",
     "text": [
      "\n"
     ]
    },
    {
     "name": "stderr",
     "output_type": "stream",
     "text": [
      " 97%|█████████▋| 87/90 [06:08<00:11,  3.75s/it]"
     ]
    },
    {
     "name": "stdout",
     "output_type": "stream",
     "text": []
    },
    {
     "name": "stdout",
     "output_type": "stream",
     "text": [
      "\n"
     ]
    },
    {
     "name": "stderr",
     "output_type": "stream",
     "text": [
      " 98%|█████████▊| 88/90 [06:12<00:07,  3.85s/it]"
     ]
    },
    {
     "name": "stdout",
     "output_type": "stream",
     "text": []
    },
    {
     "name": "stdout",
     "output_type": "stream",
     "text": [
      "\n"
     ]
    },
    {
     "name": "stderr",
     "output_type": "stream",
     "text": [
      " 99%|█████████▉| 89/90 [06:17<00:04,  4.19s/it]"
     ]
    },
    {
     "name": "stdout",
     "output_type": "stream",
     "text": []
    },
    {
     "name": "stdout",
     "output_type": "stream",
     "text": [
      "\n"
     ]
    },
    {
     "name": "stderr",
     "output_type": "stream",
     "text": [
      "100%|██████████| 90/90 [06:20<00:00,  3.68s/it]\n",
      "  0%|          | 0/90 [00:00<?, ?it/s]"
     ]
    },
    {
     "name": "stdout",
     "output_type": "stream",
     "text": []
    },
    {
     "name": "stdout",
     "output_type": "stream",
     "text": [
      "\n"
     ]
    },
    {
     "name": "stderr",
     "output_type": "stream",
     "text": [
      "  1%|          | 1/90 [00:03<04:57,  3.34s/it]"
     ]
    },
    {
     "name": "stdout",
     "output_type": "stream",
     "text": []
    },
    {
     "name": "stdout",
     "output_type": "stream",
     "text": [
      "\n"
     ]
    },
    {
     "name": "stderr",
     "output_type": "stream",
     "text": [
      "  2%|▏         | 2/90 [00:06<04:48,  3.28s/it]"
     ]
    },
    {
     "name": "stdout",
     "output_type": "stream",
     "text": []
    },
    {
     "name": "stdout",
     "output_type": "stream",
     "text": [
      "\n"
     ]
    },
    {
     "name": "stderr",
     "output_type": "stream",
     "text": [
      "  3%|▎         | 3/90 [00:10<04:52,  3.36s/it]"
     ]
    },
    {
     "name": "stdout",
     "output_type": "stream",
     "text": []
    },
    {
     "name": "stdout",
     "output_type": "stream",
     "text": [
      "\n"
     ]
    },
    {
     "name": "stderr",
     "output_type": "stream",
     "text": [
      "  4%|▍         | 4/90 [00:16<06:06,  4.27s/it]"
     ]
    },
    {
     "name": "stdout",
     "output_type": "stream",
     "text": []
    },
    {
     "name": "stdout",
     "output_type": "stream",
     "text": [
      "\n"
     ]
    },
    {
     "name": "stderr",
     "output_type": "stream",
     "text": [
      "  6%|▌         | 5/90 [00:20<06:03,  4.28s/it]"
     ]
    },
    {
     "name": "stdout",
     "output_type": "stream",
     "text": []
    },
    {
     "name": "stdout",
     "output_type": "stream",
     "text": [
      "\n"
     ]
    },
    {
     "name": "stderr",
     "output_type": "stream",
     "text": [
      "  7%|▋         | 6/90 [00:23<05:24,  3.87s/it]"
     ]
    },
    {
     "name": "stdout",
     "output_type": "stream",
     "text": []
    },
    {
     "name": "stdout",
     "output_type": "stream",
     "text": [
      "\n"
     ]
    },
    {
     "name": "stderr",
     "output_type": "stream",
     "text": [
      "  8%|▊         | 7/90 [00:27<05:20,  3.86s/it]"
     ]
    },
    {
     "name": "stdout",
     "output_type": "stream",
     "text": []
    },
    {
     "name": "stdout",
     "output_type": "stream",
     "text": [
      "\n"
     ]
    },
    {
     "name": "stderr",
     "output_type": "stream",
     "text": [
      "  9%|▉         | 8/90 [00:30<04:50,  3.55s/it]"
     ]
    },
    {
     "name": "stdout",
     "output_type": "stream",
     "text": []
    },
    {
     "name": "stdout",
     "output_type": "stream",
     "text": [
      "\n"
     ]
    },
    {
     "name": "stderr",
     "output_type": "stream",
     "text": [
      " 10%|█         | 9/90 [00:33<04:47,  3.55s/it]"
     ]
    },
    {
     "name": "stdout",
     "output_type": "stream",
     "text": []
    },
    {
     "name": "stdout",
     "output_type": "stream",
     "text": [
      "\n"
     ]
    },
    {
     "name": "stderr",
     "output_type": "stream",
     "text": [
      " 11%|█         | 10/90 [00:38<05:01,  3.76s/it]"
     ]
    },
    {
     "name": "stdout",
     "output_type": "stream",
     "text": []
    },
    {
     "name": "stdout",
     "output_type": "stream",
     "text": [
      "\n"
     ]
    },
    {
     "name": "stderr",
     "output_type": "stream",
     "text": [
      " 12%|█▏        | 11/90 [00:41<04:51,  3.69s/it]"
     ]
    },
    {
     "name": "stdout",
     "output_type": "stream",
     "text": []
    },
    {
     "name": "stdout",
     "output_type": "stream",
     "text": [
      "\n"
     ]
    },
    {
     "name": "stderr",
     "output_type": "stream",
     "text": [
      " 13%|█▎        | 12/90 [00:47<05:31,  4.25s/it]"
     ]
    },
    {
     "name": "stdout",
     "output_type": "stream",
     "text": []
    },
    {
     "name": "stdout",
     "output_type": "stream",
     "text": [
      "\n"
     ]
    },
    {
     "name": "stderr",
     "output_type": "stream",
     "text": [
      " 14%|█▍        | 13/90 [00:50<05:06,  3.99s/it]"
     ]
    },
    {
     "name": "stdout",
     "output_type": "stream",
     "text": []
    },
    {
     "name": "stdout",
     "output_type": "stream",
     "text": [
      "\n"
     ]
    },
    {
     "name": "stderr",
     "output_type": "stream",
     "text": [
      " 16%|█▌        | 14/90 [00:53<04:37,  3.65s/it]"
     ]
    },
    {
     "name": "stdout",
     "output_type": "stream",
     "text": []
    },
    {
     "name": "stdout",
     "output_type": "stream",
     "text": [
      "\n"
     ]
    },
    {
     "name": "stderr",
     "output_type": "stream",
     "text": [
      " 17%|█▋        | 15/90 [01:00<05:45,  4.61s/it]"
     ]
    },
    {
     "name": "stdout",
     "output_type": "stream",
     "text": []
    },
    {
     "name": "stdout",
     "output_type": "stream",
     "text": [
      "\n"
     ]
    },
    {
     "name": "stderr",
     "output_type": "stream",
     "text": [
      " 18%|█▊        | 16/90 [01:05<06:01,  4.89s/it]"
     ]
    },
    {
     "name": "stdout",
     "output_type": "stream",
     "text": []
    },
    {
     "name": "stdout",
     "output_type": "stream",
     "text": [
      "\n"
     ]
    },
    {
     "name": "stderr",
     "output_type": "stream",
     "text": [
      " 19%|█▉        | 17/90 [01:10<05:52,  4.83s/it]"
     ]
    },
    {
     "name": "stdout",
     "output_type": "stream",
     "text": []
    },
    {
     "name": "stdout",
     "output_type": "stream",
     "text": [
      "\n"
     ]
    },
    {
     "name": "stderr",
     "output_type": "stream",
     "text": [
      " 20%|██        | 18/90 [01:15<05:43,  4.77s/it]"
     ]
    },
    {
     "name": "stdout",
     "output_type": "stream",
     "text": []
    },
    {
     "name": "stdout",
     "output_type": "stream",
     "text": [
      "\n"
     ]
    },
    {
     "name": "stderr",
     "output_type": "stream",
     "text": [
      " 21%|██        | 19/90 [01:18<05:12,  4.41s/it]"
     ]
    },
    {
     "name": "stdout",
     "output_type": "stream",
     "text": []
    },
    {
     "name": "stdout",
     "output_type": "stream",
     "text": [
      "\n"
     ]
    },
    {
     "name": "stderr",
     "output_type": "stream",
     "text": [
      " 22%|██▏       | 20/90 [01:25<05:58,  5.12s/it]"
     ]
    },
    {
     "name": "stdout",
     "output_type": "stream",
     "text": []
    },
    {
     "name": "stdout",
     "output_type": "stream",
     "text": [
      "\n"
     ]
    },
    {
     "name": "stderr",
     "output_type": "stream",
     "text": [
      " 23%|██▎       | 21/90 [01:29<05:38,  4.90s/it]"
     ]
    },
    {
     "name": "stdout",
     "output_type": "stream",
     "text": []
    },
    {
     "name": "stdout",
     "output_type": "stream",
     "text": [
      "\n"
     ]
    },
    {
     "name": "stderr",
     "output_type": "stream",
     "text": [
      " 24%|██▍       | 22/90 [01:34<05:30,  4.86s/it]"
     ]
    },
    {
     "name": "stdout",
     "output_type": "stream",
     "text": []
    },
    {
     "name": "stdout",
     "output_type": "stream",
     "text": [
      "\n"
     ]
    },
    {
     "name": "stderr",
     "output_type": "stream",
     "text": [
      " 26%|██▌       | 23/90 [01:40<05:55,  5.31s/it]"
     ]
    },
    {
     "name": "stdout",
     "output_type": "stream",
     "text": []
    },
    {
     "name": "stdout",
     "output_type": "stream",
     "text": [
      "\n"
     ]
    },
    {
     "name": "stderr",
     "output_type": "stream",
     "text": [
      " 27%|██▋       | 24/90 [01:47<06:08,  5.58s/it]"
     ]
    },
    {
     "name": "stdout",
     "output_type": "stream",
     "text": []
    },
    {
     "name": "stdout",
     "output_type": "stream",
     "text": [
      "\n"
     ]
    },
    {
     "name": "stderr",
     "output_type": "stream",
     "text": [
      " 28%|██▊       | 25/90 [01:50<05:21,  4.94s/it]"
     ]
    },
    {
     "name": "stdout",
     "output_type": "stream",
     "text": []
    },
    {
     "name": "stdout",
     "output_type": "stream",
     "text": [
      "\n"
     ]
    },
    {
     "name": "stderr",
     "output_type": "stream",
     "text": [
      " 29%|██▉       | 26/90 [01:55<05:17,  4.96s/it]"
     ]
    },
    {
     "name": "stdout",
     "output_type": "stream",
     "text": []
    },
    {
     "name": "stdout",
     "output_type": "stream",
     "text": [
      "\n"
     ]
    },
    {
     "name": "stderr",
     "output_type": "stream",
     "text": [
      " 30%|███       | 27/90 [01:58<04:40,  4.45s/it]"
     ]
    },
    {
     "name": "stdout",
     "output_type": "stream",
     "text": []
    },
    {
     "name": "stdout",
     "output_type": "stream",
     "text": [
      "\n"
     ]
    },
    {
     "name": "stderr",
     "output_type": "stream",
     "text": [
      " 31%|███       | 28/90 [02:03<04:33,  4.41s/it]"
     ]
    },
    {
     "name": "stdout",
     "output_type": "stream",
     "text": []
    },
    {
     "name": "stdout",
     "output_type": "stream",
     "text": [
      "\n"
     ]
    },
    {
     "name": "stderr",
     "output_type": "stream",
     "text": [
      " 32%|███▏      | 29/90 [02:07<04:19,  4.25s/it]"
     ]
    },
    {
     "name": "stdout",
     "output_type": "stream",
     "text": []
    },
    {
     "name": "stdout",
     "output_type": "stream",
     "text": [
      "\n"
     ]
    },
    {
     "name": "stderr",
     "output_type": "stream",
     "text": [
      " 33%|███▎      | 30/90 [02:14<05:12,  5.21s/it]"
     ]
    },
    {
     "name": "stdout",
     "output_type": "stream",
     "text": []
    },
    {
     "name": "stdout",
     "output_type": "stream",
     "text": [
      "\n"
     ]
    },
    {
     "name": "stderr",
     "output_type": "stream",
     "text": [
      " 34%|███▍      | 31/90 [02:19<04:57,  5.04s/it]"
     ]
    },
    {
     "name": "stdout",
     "output_type": "stream",
     "text": []
    },
    {
     "name": "stdout",
     "output_type": "stream",
     "text": [
      "\n"
     ]
    },
    {
     "name": "stderr",
     "output_type": "stream",
     "text": [
      " 36%|███▌      | 32/90 [02:26<05:39,  5.85s/it]"
     ]
    },
    {
     "name": "stdout",
     "output_type": "stream",
     "text": []
    },
    {
     "name": "stdout",
     "output_type": "stream",
     "text": [
      "\n"
     ]
    },
    {
     "name": "stderr",
     "output_type": "stream",
     "text": [
      " 37%|███▋      | 33/90 [02:32<05:22,  5.65s/it]"
     ]
    },
    {
     "name": "stdout",
     "output_type": "stream",
     "text": []
    },
    {
     "name": "stdout",
     "output_type": "stream",
     "text": [
      "\n"
     ]
    },
    {
     "name": "stderr",
     "output_type": "stream",
     "text": [
      " 38%|███▊      | 34/90 [02:35<04:33,  4.88s/it]"
     ]
    },
    {
     "name": "stdout",
     "output_type": "stream",
     "text": []
    },
    {
     "name": "stdout",
     "output_type": "stream",
     "text": [
      "\n"
     ]
    },
    {
     "name": "stderr",
     "output_type": "stream",
     "text": [
      " 39%|███▉      | 35/90 [02:42<05:11,  5.66s/it]"
     ]
    },
    {
     "name": "stdout",
     "output_type": "stream",
     "text": []
    },
    {
     "name": "stdout",
     "output_type": "stream",
     "text": [
      "\n"
     ]
    },
    {
     "name": "stderr",
     "output_type": "stream",
     "text": [
      " 40%|████      | 36/90 [02:46<04:31,  5.04s/it]"
     ]
    },
    {
     "name": "stdout",
     "output_type": "stream",
     "text": []
    },
    {
     "name": "stdout",
     "output_type": "stream",
     "text": [
      "\n"
     ]
    },
    {
     "name": "stderr",
     "output_type": "stream",
     "text": [
      " 41%|████      | 37/90 [02:50<04:11,  4.74s/it]"
     ]
    },
    {
     "name": "stdout",
     "output_type": "stream",
     "text": []
    },
    {
     "name": "stdout",
     "output_type": "stream",
     "text": [
      "\n"
     ]
    },
    {
     "name": "stderr",
     "output_type": "stream",
     "text": [
      " 42%|████▏     | 38/90 [02:53<03:49,  4.42s/it]"
     ]
    },
    {
     "name": "stdout",
     "output_type": "stream",
     "text": []
    },
    {
     "name": "stdout",
     "output_type": "stream",
     "text": [
      "\n"
     ]
    },
    {
     "name": "stderr",
     "output_type": "stream",
     "text": [
      " 43%|████▎     | 39/90 [02:57<03:31,  4.15s/it]"
     ]
    },
    {
     "name": "stdout",
     "output_type": "stream",
     "text": []
    },
    {
     "name": "stdout",
     "output_type": "stream",
     "text": [
      "\n"
     ]
    },
    {
     "name": "stderr",
     "output_type": "stream",
     "text": [
      " 44%|████▍     | 40/90 [03:03<03:54,  4.68s/it]"
     ]
    },
    {
     "name": "stdout",
     "output_type": "stream",
     "text": []
    },
    {
     "name": "stdout",
     "output_type": "stream",
     "text": [
      "\n"
     ]
    },
    {
     "name": "stderr",
     "output_type": "stream",
     "text": [
      " 46%|████▌     | 41/90 [03:07<03:37,  4.45s/it]"
     ]
    },
    {
     "name": "stdout",
     "output_type": "stream",
     "text": []
    },
    {
     "name": "stdout",
     "output_type": "stream",
     "text": [
      "\n"
     ]
    },
    {
     "name": "stderr",
     "output_type": "stream",
     "text": [
      " 47%|████▋     | 42/90 [03:12<03:39,  4.57s/it]"
     ]
    },
    {
     "name": "stdout",
     "output_type": "stream",
     "text": []
    },
    {
     "name": "stdout",
     "output_type": "stream",
     "text": [
      "\n"
     ]
    },
    {
     "name": "stderr",
     "output_type": "stream",
     "text": [
      " 48%|████▊     | 43/90 [03:18<03:57,  5.05s/it]"
     ]
    },
    {
     "name": "stdout",
     "output_type": "stream",
     "text": []
    },
    {
     "name": "stdout",
     "output_type": "stream",
     "text": [
      "\n"
     ]
    },
    {
     "name": "stderr",
     "output_type": "stream",
     "text": [
      " 49%|████▉     | 44/90 [03:24<04:02,  5.27s/it]"
     ]
    },
    {
     "name": "stdout",
     "output_type": "stream",
     "text": []
    },
    {
     "name": "stdout",
     "output_type": "stream",
     "text": [
      "\n"
     ]
    },
    {
     "name": "stderr",
     "output_type": "stream",
     "text": [
      " 50%|█████     | 45/90 [03:29<04:01,  5.38s/it]"
     ]
    },
    {
     "name": "stdout",
     "output_type": "stream",
     "text": []
    },
    {
     "name": "stdout",
     "output_type": "stream",
     "text": [
      "\n"
     ]
    },
    {
     "name": "stderr",
     "output_type": "stream",
     "text": [
      " 51%|█████     | 46/90 [03:33<03:33,  4.84s/it]"
     ]
    },
    {
     "name": "stdout",
     "output_type": "stream",
     "text": []
    },
    {
     "name": "stdout",
     "output_type": "stream",
     "text": [
      "\n"
     ]
    },
    {
     "name": "stderr",
     "output_type": "stream",
     "text": [
      " 52%|█████▏    | 47/90 [03:36<03:12,  4.47s/it]"
     ]
    },
    {
     "name": "stdout",
     "output_type": "stream",
     "text": []
    },
    {
     "name": "stdout",
     "output_type": "stream",
     "text": [
      "\n"
     ]
    },
    {
     "name": "stderr",
     "output_type": "stream",
     "text": [
      " 53%|█████▎    | 48/90 [03:43<03:30,  5.01s/it]"
     ]
    },
    {
     "name": "stdout",
     "output_type": "stream",
     "text": []
    },
    {
     "name": "stdout",
     "output_type": "stream",
     "text": [
      "\n"
     ]
    },
    {
     "name": "stderr",
     "output_type": "stream",
     "text": [
      " 54%|█████▍    | 49/90 [03:49<03:39,  5.36s/it]"
     ]
    },
    {
     "name": "stdout",
     "output_type": "stream",
     "text": []
    },
    {
     "name": "stdout",
     "output_type": "stream",
     "text": [
      "\n"
     ]
    },
    {
     "name": "stderr",
     "output_type": "stream",
     "text": [
      " 56%|█████▌    | 50/90 [03:59<04:31,  6.80s/it]"
     ]
    },
    {
     "name": "stdout",
     "output_type": "stream",
     "text": []
    },
    {
     "name": "stdout",
     "output_type": "stream",
     "text": [
      "\n"
     ]
    },
    {
     "name": "stderr",
     "output_type": "stream",
     "text": [
      " 57%|█████▋    | 51/90 [04:04<03:58,  6.12s/it]"
     ]
    },
    {
     "name": "stdout",
     "output_type": "stream",
     "text": []
    },
    {
     "name": "stdout",
     "output_type": "stream",
     "text": [
      "\n"
     ]
    },
    {
     "name": "stderr",
     "output_type": "stream",
     "text": [
      " 58%|█████▊    | 52/90 [04:07<03:23,  5.35s/it]"
     ]
    },
    {
     "name": "stdout",
     "output_type": "stream",
     "text": []
    },
    {
     "name": "stdout",
     "output_type": "stream",
     "text": [
      "\n"
     ]
    },
    {
     "name": "stderr",
     "output_type": "stream",
     "text": [
      " 59%|█████▉    | 53/90 [04:13<03:25,  5.54s/it]"
     ]
    },
    {
     "name": "stdout",
     "output_type": "stream",
     "text": []
    },
    {
     "name": "stdout",
     "output_type": "stream",
     "text": [
      "\n"
     ]
    },
    {
     "name": "stderr",
     "output_type": "stream",
     "text": [
      " 60%|██████    | 54/90 [04:18<03:17,  5.48s/it]"
     ]
    },
    {
     "name": "stdout",
     "output_type": "stream",
     "text": []
    },
    {
     "name": "stdout",
     "output_type": "stream",
     "text": [
      "\n"
     ]
    },
    {
     "name": "stderr",
     "output_type": "stream",
     "text": [
      " 61%|██████    | 55/90 [04:25<03:19,  5.71s/it]"
     ]
    },
    {
     "name": "stdout",
     "output_type": "stream",
     "text": []
    },
    {
     "name": "stdout",
     "output_type": "stream",
     "text": [
      "\n"
     ]
    },
    {
     "name": "stderr",
     "output_type": "stream",
     "text": [
      " 62%|██████▏   | 56/90 [04:31<03:20,  5.88s/it]"
     ]
    },
    {
     "name": "stdout",
     "output_type": "stream",
     "text": []
    },
    {
     "name": "stdout",
     "output_type": "stream",
     "text": [
      "\n"
     ]
    },
    {
     "name": "stderr",
     "output_type": "stream",
     "text": [
      " 63%|██████▎   | 57/90 [04:34<02:49,  5.13s/it]"
     ]
    },
    {
     "name": "stdout",
     "output_type": "stream",
     "text": []
    },
    {
     "name": "stdout",
     "output_type": "stream",
     "text": [
      "\n"
     ]
    },
    {
     "name": "stderr",
     "output_type": "stream",
     "text": [
      " 64%|██████▍   | 58/90 [04:39<02:40,  5.02s/it]"
     ]
    },
    {
     "name": "stdout",
     "output_type": "stream",
     "text": []
    },
    {
     "name": "stdout",
     "output_type": "stream",
     "text": [
      "\n"
     ]
    },
    {
     "name": "stderr",
     "output_type": "stream",
     "text": [
      " 66%|██████▌   | 59/90 [04:43<02:26,  4.74s/it]"
     ]
    },
    {
     "name": "stdout",
     "output_type": "stream",
     "text": []
    },
    {
     "name": "stdout",
     "output_type": "stream",
     "text": [
      "\n"
     ]
    },
    {
     "name": "stderr",
     "output_type": "stream",
     "text": [
      " 67%|██████▋   | 60/90 [04:46<02:08,  4.27s/it]"
     ]
    },
    {
     "name": "stdout",
     "output_type": "stream",
     "text": []
    },
    {
     "name": "stdout",
     "output_type": "stream",
     "text": [
      "\n"
     ]
    },
    {
     "name": "stderr",
     "output_type": "stream",
     "text": [
      " 68%|██████▊   | 61/90 [04:50<02:02,  4.22s/it]"
     ]
    },
    {
     "name": "stdout",
     "output_type": "stream",
     "text": []
    },
    {
     "name": "stdout",
     "output_type": "stream",
     "text": [
      "\n"
     ]
    },
    {
     "name": "stderr",
     "output_type": "stream",
     "text": [
      " 69%|██████▉   | 62/90 [04:54<01:53,  4.05s/it]"
     ]
    },
    {
     "name": "stdout",
     "output_type": "stream",
     "text": []
    },
    {
     "name": "stdout",
     "output_type": "stream",
     "text": [
      "\n"
     ]
    },
    {
     "name": "stderr",
     "output_type": "stream",
     "text": [
      " 70%|███████   | 63/90 [04:58<01:49,  4.06s/it]"
     ]
    },
    {
     "name": "stdout",
     "output_type": "stream",
     "text": []
    },
    {
     "name": "stdout",
     "output_type": "stream",
     "text": [
      "\n"
     ]
    },
    {
     "name": "stderr",
     "output_type": "stream",
     "text": [
      " 71%|███████   | 64/90 [05:01<01:37,  3.77s/it]"
     ]
    },
    {
     "name": "stdout",
     "output_type": "stream",
     "text": []
    },
    {
     "name": "stdout",
     "output_type": "stream",
     "text": [
      "\n"
     ]
    },
    {
     "name": "stderr",
     "output_type": "stream",
     "text": [
      " 72%|███████▏  | 65/90 [05:04<01:28,  3.56s/it]"
     ]
    },
    {
     "name": "stdout",
     "output_type": "stream",
     "text": []
    },
    {
     "name": "stdout",
     "output_type": "stream",
     "text": [
      "\n"
     ]
    },
    {
     "name": "stderr",
     "output_type": "stream",
     "text": [
      " 73%|███████▎  | 66/90 [05:10<01:42,  4.27s/it]"
     ]
    },
    {
     "name": "stdout",
     "output_type": "stream",
     "text": []
    },
    {
     "name": "stdout",
     "output_type": "stream",
     "text": [
      "\n"
     ]
    },
    {
     "name": "stderr",
     "output_type": "stream",
     "text": [
      " 74%|███████▍  | 67/90 [05:17<01:56,  5.08s/it]"
     ]
    },
    {
     "name": "stdout",
     "output_type": "stream",
     "text": []
    },
    {
     "name": "stdout",
     "output_type": "stream",
     "text": [
      "\n"
     ]
    },
    {
     "name": "stderr",
     "output_type": "stream",
     "text": [
      " 76%|███████▌  | 68/90 [05:20<01:35,  4.36s/it]"
     ]
    },
    {
     "name": "stdout",
     "output_type": "stream",
     "text": []
    },
    {
     "name": "stdout",
     "output_type": "stream",
     "text": [
      "\n"
     ]
    },
    {
     "name": "stderr",
     "output_type": "stream",
     "text": [
      " 77%|███████▋  | 69/90 [05:23<01:21,  3.88s/it]"
     ]
    },
    {
     "name": "stdout",
     "output_type": "stream",
     "text": []
    },
    {
     "name": "stdout",
     "output_type": "stream",
     "text": [
      "\n"
     ]
    },
    {
     "name": "stderr",
     "output_type": "stream",
     "text": [
      " 78%|███████▊  | 70/90 [05:27<01:20,  4.04s/it]"
     ]
    },
    {
     "name": "stdout",
     "output_type": "stream",
     "text": []
    },
    {
     "name": "stdout",
     "output_type": "stream",
     "text": [
      "\n"
     ]
    },
    {
     "name": "stderr",
     "output_type": "stream",
     "text": [
      " 79%|███████▉  | 71/90 [05:33<01:29,  4.69s/it]"
     ]
    },
    {
     "name": "stdout",
     "output_type": "stream",
     "text": []
    },
    {
     "name": "stdout",
     "output_type": "stream",
     "text": [
      "\n"
     ]
    },
    {
     "name": "stderr",
     "output_type": "stream",
     "text": [
      " 80%|████████  | 72/90 [05:37<01:20,  4.50s/it]"
     ]
    },
    {
     "name": "stdout",
     "output_type": "stream",
     "text": []
    },
    {
     "name": "stdout",
     "output_type": "stream",
     "text": [
      "\n"
     ]
    },
    {
     "name": "stderr",
     "output_type": "stream",
     "text": [
      " 81%|████████  | 73/90 [05:40<01:08,  4.06s/it]"
     ]
    },
    {
     "name": "stdout",
     "output_type": "stream",
     "text": []
    },
    {
     "name": "stdout",
     "output_type": "stream",
     "text": [
      "\n"
     ]
    },
    {
     "name": "stderr",
     "output_type": "stream",
     "text": [
      " 82%|████████▏ | 74/90 [05:47<01:16,  4.77s/it]"
     ]
    },
    {
     "name": "stdout",
     "output_type": "stream",
     "text": []
    },
    {
     "name": "stdout",
     "output_type": "stream",
     "text": [
      "\n"
     ]
    },
    {
     "name": "stderr",
     "output_type": "stream",
     "text": [
      " 83%|████████▎ | 75/90 [05:50<01:05,  4.33s/it]"
     ]
    },
    {
     "name": "stdout",
     "output_type": "stream",
     "text": []
    },
    {
     "name": "stdout",
     "output_type": "stream",
     "text": [
      "\n"
     ]
    },
    {
     "name": "stderr",
     "output_type": "stream",
     "text": [
      " 84%|████████▍ | 76/90 [05:55<01:04,  4.58s/it]"
     ]
    },
    {
     "name": "stdout",
     "output_type": "stream",
     "text": []
    },
    {
     "name": "stdout",
     "output_type": "stream",
     "text": [
      "\n"
     ]
    },
    {
     "name": "stderr",
     "output_type": "stream",
     "text": [
      " 86%|████████▌ | 77/90 [05:59<00:55,  4.28s/it]"
     ]
    },
    {
     "name": "stdout",
     "output_type": "stream",
     "text": []
    },
    {
     "name": "stdout",
     "output_type": "stream",
     "text": [
      "\n"
     ]
    },
    {
     "name": "stderr",
     "output_type": "stream",
     "text": [
      " 87%|████████▋ | 78/90 [06:03<00:49,  4.12s/it]"
     ]
    },
    {
     "name": "stdout",
     "output_type": "stream",
     "text": []
    },
    {
     "name": "stdout",
     "output_type": "stream",
     "text": [
      "\n"
     ]
    },
    {
     "name": "stderr",
     "output_type": "stream",
     "text": [
      " 88%|████████▊ | 79/90 [06:07<00:47,  4.31s/it]"
     ]
    },
    {
     "name": "stdout",
     "output_type": "stream",
     "text": []
    },
    {
     "name": "stdout",
     "output_type": "stream",
     "text": [
      "\n"
     ]
    },
    {
     "name": "stderr",
     "output_type": "stream",
     "text": [
      " 89%|████████▉ | 80/90 [06:10<00:37,  3.78s/it]"
     ]
    },
    {
     "name": "stdout",
     "output_type": "stream",
     "text": []
    },
    {
     "name": "stdout",
     "output_type": "stream",
     "text": [
      "\n"
     ]
    },
    {
     "name": "stderr",
     "output_type": "stream",
     "text": [
      " 90%|█████████ | 81/90 [06:14<00:34,  3.82s/it]"
     ]
    },
    {
     "name": "stdout",
     "output_type": "stream",
     "text": []
    },
    {
     "name": "stdout",
     "output_type": "stream",
     "text": [
      "\n"
     ]
    },
    {
     "name": "stderr",
     "output_type": "stream",
     "text": [
      " 91%|█████████ | 82/90 [06:20<00:37,  4.63s/it]"
     ]
    },
    {
     "name": "stdout",
     "output_type": "stream",
     "text": []
    },
    {
     "name": "stdout",
     "output_type": "stream",
     "text": [
      "\n"
     ]
    },
    {
     "name": "stderr",
     "output_type": "stream",
     "text": [
      " 92%|█████████▏| 83/90 [06:24<00:29,  4.21s/it]"
     ]
    },
    {
     "name": "stdout",
     "output_type": "stream",
     "text": []
    },
    {
     "name": "stdout",
     "output_type": "stream",
     "text": [
      "\n"
     ]
    },
    {
     "name": "stderr",
     "output_type": "stream",
     "text": [
      " 93%|█████████▎| 84/90 [06:28<00:25,  4.20s/it]"
     ]
    },
    {
     "name": "stdout",
     "output_type": "stream",
     "text": []
    },
    {
     "name": "stdout",
     "output_type": "stream",
     "text": [
      "\n"
     ]
    },
    {
     "name": "stderr",
     "output_type": "stream",
     "text": [
      " 94%|█████████▍| 85/90 [06:31<00:18,  3.77s/it]"
     ]
    },
    {
     "name": "stdout",
     "output_type": "stream",
     "text": []
    },
    {
     "name": "stdout",
     "output_type": "stream",
     "text": [
      "\n"
     ]
    },
    {
     "name": "stderr",
     "output_type": "stream",
     "text": [
      " 96%|█████████▌| 86/90 [06:34<00:14,  3.65s/it]"
     ]
    },
    {
     "name": "stdout",
     "output_type": "stream",
     "text": []
    },
    {
     "name": "stdout",
     "output_type": "stream",
     "text": [
      "\n"
     ]
    },
    {
     "name": "stderr",
     "output_type": "stream",
     "text": [
      " 97%|█████████▋| 87/90 [06:39<00:12,  4.09s/it]"
     ]
    },
    {
     "name": "stdout",
     "output_type": "stream",
     "text": []
    },
    {
     "name": "stdout",
     "output_type": "stream",
     "text": [
      "\n"
     ]
    },
    {
     "name": "stderr",
     "output_type": "stream",
     "text": [
      " 98%|█████████▊| 88/90 [06:42<00:07,  3.80s/it]"
     ]
    },
    {
     "name": "stdout",
     "output_type": "stream",
     "text": []
    },
    {
     "name": "stdout",
     "output_type": "stream",
     "text": [
      "\n"
     ]
    },
    {
     "name": "stderr",
     "output_type": "stream",
     "text": [
      " 99%|█████████▉| 89/90 [06:46<00:03,  3.82s/it]"
     ]
    },
    {
     "name": "stdout",
     "output_type": "stream",
     "text": []
    },
    {
     "name": "stdout",
     "output_type": "stream",
     "text": [
      "\n"
     ]
    },
    {
     "name": "stderr",
     "output_type": "stream",
     "text": [
      "100%|██████████| 90/90 [06:51<00:00,  4.23s/it]\n",
      "  0%|          | 0/90 [00:00<?, ?it/s]"
     ]
    },
    {
     "name": "stdout",
     "output_type": "stream",
     "text": []
    },
    {
     "name": "stdout",
     "output_type": "stream",
     "text": [
      "\n"
     ]
    },
    {
     "name": "stderr",
     "output_type": "stream",
     "text": [
      "  1%|          | 1/90 [00:02<03:47,  2.56s/it]"
     ]
    },
    {
     "name": "stdout",
     "output_type": "stream",
     "text": []
    },
    {
     "name": "stdout",
     "output_type": "stream",
     "text": [
      "\n"
     ]
    },
    {
     "name": "stderr",
     "output_type": "stream",
     "text": [
      "  2%|▏         | 2/90 [00:08<05:10,  3.52s/it]"
     ]
    },
    {
     "name": "stdout",
     "output_type": "stream",
     "text": []
    },
    {
     "name": "stdout",
     "output_type": "stream",
     "text": [
      "\n"
     ]
    },
    {
     "name": "stderr",
     "output_type": "stream",
     "text": [
      "  3%|▎         | 3/90 [00:18<07:51,  5.42s/it]"
     ]
    },
    {
     "name": "stdout",
     "output_type": "stream",
     "text": []
    },
    {
     "name": "stdout",
     "output_type": "stream",
     "text": [
      "\n"
     ]
    },
    {
     "name": "stderr",
     "output_type": "stream",
     "text": [
      "  4%|▍         | 4/90 [00:22<07:22,  5.15s/it]"
     ]
    },
    {
     "name": "stdout",
     "output_type": "stream",
     "text": []
    },
    {
     "name": "stdout",
     "output_type": "stream",
     "text": [
      "\n"
     ]
    },
    {
     "name": "stderr",
     "output_type": "stream",
     "text": [
      "  6%|▌         | 5/90 [00:26<06:43,  4.74s/it]"
     ]
    },
    {
     "name": "stdout",
     "output_type": "stream",
     "text": []
    },
    {
     "name": "stdout",
     "output_type": "stream",
     "text": [
      "\n"
     ]
    },
    {
     "name": "stderr",
     "output_type": "stream",
     "text": [
      "  7%|▋         | 6/90 [00:31<06:57,  4.97s/it]"
     ]
    },
    {
     "name": "stdout",
     "output_type": "stream",
     "text": []
    },
    {
     "name": "stdout",
     "output_type": "stream",
     "text": [
      "\n"
     ]
    },
    {
     "name": "stderr",
     "output_type": "stream",
     "text": [
      "  8%|▊         | 7/90 [00:36<06:47,  4.91s/it]"
     ]
    },
    {
     "name": "stdout",
     "output_type": "stream",
     "text": []
    },
    {
     "name": "stdout",
     "output_type": "stream",
     "text": [
      "\n"
     ]
    },
    {
     "name": "stderr",
     "output_type": "stream",
     "text": [
      "  9%|▉         | 8/90 [00:40<06:13,  4.55s/it]"
     ]
    },
    {
     "name": "stdout",
     "output_type": "stream",
     "text": []
    },
    {
     "name": "stdout",
     "output_type": "stream",
     "text": [
      "\n"
     ]
    },
    {
     "name": "stderr",
     "output_type": "stream",
     "text": [
      " 10%|█         | 9/90 [00:46<06:35,  4.88s/it]"
     ]
    },
    {
     "name": "stdout",
     "output_type": "stream",
     "text": []
    },
    {
     "name": "stdout",
     "output_type": "stream",
     "text": [
      "\n"
     ]
    },
    {
     "name": "stderr",
     "output_type": "stream",
     "text": [
      " 11%|█         | 10/90 [00:53<07:35,  5.69s/it]"
     ]
    },
    {
     "name": "stdout",
     "output_type": "stream",
     "text": []
    },
    {
     "name": "stdout",
     "output_type": "stream",
     "text": [
      "\n"
     ]
    },
    {
     "name": "stderr",
     "output_type": "stream",
     "text": [
      " 12%|█▏        | 11/90 [00:57<06:37,  5.04s/it]"
     ]
    },
    {
     "name": "stdout",
     "output_type": "stream",
     "text": []
    },
    {
     "name": "stdout",
     "output_type": "stream",
     "text": [
      "\n"
     ]
    },
    {
     "name": "stderr",
     "output_type": "stream",
     "text": [
      " 13%|█▎        | 12/90 [01:05<07:39,  5.89s/it]"
     ]
    },
    {
     "name": "stdout",
     "output_type": "stream",
     "text": []
    },
    {
     "name": "stdout",
     "output_type": "stream",
     "text": [
      "\n"
     ]
    },
    {
     "name": "stderr",
     "output_type": "stream",
     "text": [
      " 14%|█▍        | 13/90 [01:10<07:21,  5.73s/it]"
     ]
    },
    {
     "name": "stdout",
     "output_type": "stream",
     "text": []
    },
    {
     "name": "stdout",
     "output_type": "stream",
     "text": [
      "\n"
     ]
    },
    {
     "name": "stderr",
     "output_type": "stream",
     "text": [
      " 16%|█▌        | 14/90 [01:18<08:11,  6.47s/it]"
     ]
    },
    {
     "name": "stdout",
     "output_type": "stream",
     "text": []
    },
    {
     "name": "stdout",
     "output_type": "stream",
     "text": [
      "\n"
     ]
    },
    {
     "name": "stderr",
     "output_type": "stream",
     "text": [
      " 17%|█▋        | 15/90 [01:27<08:56,  7.15s/it]"
     ]
    },
    {
     "name": "stdout",
     "output_type": "stream",
     "text": []
    },
    {
     "name": "stdout",
     "output_type": "stream",
     "text": [
      "\n"
     ]
    },
    {
     "name": "stderr",
     "output_type": "stream",
     "text": [
      " 18%|█▊        | 16/90 [01:32<08:06,  6.58s/it]"
     ]
    },
    {
     "name": "stdout",
     "output_type": "stream",
     "text": []
    },
    {
     "name": "stdout",
     "output_type": "stream",
     "text": [
      "\n"
     ]
    },
    {
     "name": "stderr",
     "output_type": "stream",
     "text": [
      " 19%|█▉        | 17/90 [01:36<07:05,  5.83s/it]"
     ]
    },
    {
     "name": "stdout",
     "output_type": "stream",
     "text": []
    },
    {
     "name": "stdout",
     "output_type": "stream",
     "text": [
      "\n"
     ]
    },
    {
     "name": "stderr",
     "output_type": "stream",
     "text": [
      " 20%|██        | 18/90 [01:39<05:56,  4.95s/it]"
     ]
    },
    {
     "name": "stdout",
     "output_type": "stream",
     "text": []
    },
    {
     "name": "stdout",
     "output_type": "stream",
     "text": [
      "\n"
     ]
    },
    {
     "name": "stderr",
     "output_type": "stream",
     "text": [
      " 21%|██        | 19/90 [01:45<06:13,  5.26s/it]"
     ]
    },
    {
     "name": "stdout",
     "output_type": "stream",
     "text": []
    },
    {
     "name": "stdout",
     "output_type": "stream",
     "text": [
      "\n"
     ]
    },
    {
     "name": "stderr",
     "output_type": "stream",
     "text": [
      " 22%|██▏       | 20/90 [01:48<05:13,  4.48s/it]"
     ]
    },
    {
     "name": "stdout",
     "output_type": "stream",
     "text": []
    },
    {
     "name": "stdout",
     "output_type": "stream",
     "text": [
      "\n"
     ]
    },
    {
     "name": "stderr",
     "output_type": "stream",
     "text": [
      " 23%|██▎       | 21/90 [01:52<04:58,  4.33s/it]"
     ]
    },
    {
     "name": "stdout",
     "output_type": "stream",
     "text": []
    },
    {
     "name": "stdout",
     "output_type": "stream",
     "text": [
      "\n"
     ]
    },
    {
     "name": "stderr",
     "output_type": "stream",
     "text": [
      " 24%|██▍       | 22/90 [01:56<04:42,  4.16s/it]"
     ]
    },
    {
     "name": "stdout",
     "output_type": "stream",
     "text": []
    },
    {
     "name": "stdout",
     "output_type": "stream",
     "text": [
      "\n"
     ]
    },
    {
     "name": "stderr",
     "output_type": "stream",
     "text": [
      " 26%|██▌       | 23/90 [02:01<05:03,  4.52s/it]"
     ]
    },
    {
     "name": "stdout",
     "output_type": "stream",
     "text": []
    },
    {
     "name": "stdout",
     "output_type": "stream",
     "text": [
      "\n"
     ]
    },
    {
     "name": "stderr",
     "output_type": "stream",
     "text": [
      " 27%|██▋       | 24/90 [02:08<05:39,  5.15s/it]"
     ]
    },
    {
     "name": "stdout",
     "output_type": "stream",
     "text": []
    },
    {
     "name": "stdout",
     "output_type": "stream",
     "text": [
      "\n"
     ]
    },
    {
     "name": "stderr",
     "output_type": "stream",
     "text": [
      " 28%|██▊       | 25/90 [02:14<05:55,  5.47s/it]"
     ]
    },
    {
     "name": "stdout",
     "output_type": "stream",
     "text": []
    },
    {
     "name": "stdout",
     "output_type": "stream",
     "text": [
      "\n"
     ]
    },
    {
     "name": "stderr",
     "output_type": "stream",
     "text": [
      " 29%|██▉       | 26/90 [02:19<05:39,  5.30s/it]"
     ]
    },
    {
     "name": "stdout",
     "output_type": "stream",
     "text": []
    },
    {
     "name": "stdout",
     "output_type": "stream",
     "text": [
      "\n"
     ]
    },
    {
     "name": "stderr",
     "output_type": "stream",
     "text": [
      " 30%|███       | 27/90 [02:25<05:57,  5.68s/it]"
     ]
    },
    {
     "name": "stdout",
     "output_type": "stream",
     "text": []
    },
    {
     "name": "stdout",
     "output_type": "stream",
     "text": [
      "\n"
     ]
    },
    {
     "name": "stderr",
     "output_type": "stream",
     "text": [
      " 31%|███       | 28/90 [02:31<06:03,  5.86s/it]"
     ]
    },
    {
     "name": "stdout",
     "output_type": "stream",
     "text": []
    },
    {
     "name": "stdout",
     "output_type": "stream",
     "text": [
      "\n"
     ]
    },
    {
     "name": "stderr",
     "output_type": "stream",
     "text": [
      " 32%|███▏      | 29/90 [02:35<05:13,  5.14s/it]"
     ]
    },
    {
     "name": "stdout",
     "output_type": "stream",
     "text": []
    },
    {
     "name": "stdout",
     "output_type": "stream",
     "text": [
      "\n"
     ]
    },
    {
     "name": "stderr",
     "output_type": "stream",
     "text": [
      " 33%|███▎      | 30/90 [02:40<05:07,  5.13s/it]"
     ]
    },
    {
     "name": "stdout",
     "output_type": "stream",
     "text": []
    },
    {
     "name": "stdout",
     "output_type": "stream",
     "text": [
      "\n"
     ]
    },
    {
     "name": "stderr",
     "output_type": "stream",
     "text": [
      " 34%|███▍      | 31/90 [02:47<05:31,  5.62s/it]"
     ]
    },
    {
     "name": "stdout",
     "output_type": "stream",
     "text": []
    },
    {
     "name": "stdout",
     "output_type": "stream",
     "text": [
      "\n"
     ]
    },
    {
     "name": "stderr",
     "output_type": "stream",
     "text": [
      " 36%|███▌      | 32/90 [02:51<05:08,  5.31s/it]"
     ]
    },
    {
     "name": "stdout",
     "output_type": "stream",
     "text": []
    },
    {
     "name": "stdout",
     "output_type": "stream",
     "text": [
      "\n"
     ]
    },
    {
     "name": "stderr",
     "output_type": "stream",
     "text": [
      " 37%|███▋      | 33/90 [02:57<05:03,  5.32s/it]"
     ]
    },
    {
     "name": "stdout",
     "output_type": "stream",
     "text": []
    },
    {
     "name": "stdout",
     "output_type": "stream",
     "text": [
      "\n"
     ]
    },
    {
     "name": "stderr",
     "output_type": "stream",
     "text": [
      " 38%|███▊      | 34/90 [03:01<04:44,  5.07s/it]"
     ]
    },
    {
     "name": "stdout",
     "output_type": "stream",
     "text": []
    },
    {
     "name": "stdout",
     "output_type": "stream",
     "text": [
      "\n"
     ]
    },
    {
     "name": "stderr",
     "output_type": "stream",
     "text": [
      " 39%|███▉      | 35/90 [03:05<04:17,  4.68s/it]"
     ]
    },
    {
     "name": "stdout",
     "output_type": "stream",
     "text": []
    },
    {
     "name": "stdout",
     "output_type": "stream",
     "text": [
      "\n"
     ]
    },
    {
     "name": "stderr",
     "output_type": "stream",
     "text": [
      " 40%|████      | 36/90 [03:10<04:13,  4.70s/it]"
     ]
    },
    {
     "name": "stdout",
     "output_type": "stream",
     "text": []
    },
    {
     "name": "stdout",
     "output_type": "stream",
     "text": [
      "\n"
     ]
    },
    {
     "name": "stderr",
     "output_type": "stream",
     "text": [
      " 41%|████      | 37/90 [03:13<03:44,  4.24s/it]"
     ]
    },
    {
     "name": "stdout",
     "output_type": "stream",
     "text": []
    },
    {
     "name": "stdout",
     "output_type": "stream",
     "text": [
      "\n"
     ]
    },
    {
     "name": "stderr",
     "output_type": "stream",
     "text": [
      " 42%|████▏     | 38/90 [03:17<03:37,  4.19s/it]"
     ]
    },
    {
     "name": "stdout",
     "output_type": "stream",
     "text": []
    },
    {
     "name": "stdout",
     "output_type": "stream",
     "text": [
      "\n"
     ]
    },
    {
     "name": "stderr",
     "output_type": "stream",
     "text": [
      " 43%|████▎     | 39/90 [03:21<03:27,  4.06s/it]"
     ]
    },
    {
     "name": "stdout",
     "output_type": "stream",
     "text": []
    },
    {
     "name": "stdout",
     "output_type": "stream",
     "text": [
      "\n"
     ]
    },
    {
     "name": "stderr",
     "output_type": "stream",
     "text": [
      " 44%|████▍     | 40/90 [03:25<03:21,  4.03s/it]"
     ]
    },
    {
     "name": "stdout",
     "output_type": "stream",
     "text": []
    },
    {
     "name": "stdout",
     "output_type": "stream",
     "text": [
      "\n"
     ]
    },
    {
     "name": "stderr",
     "output_type": "stream",
     "text": [
      " 46%|████▌     | 41/90 [03:29<03:20,  4.09s/it]"
     ]
    },
    {
     "name": "stdout",
     "output_type": "stream",
     "text": []
    },
    {
     "name": "stdout",
     "output_type": "stream",
     "text": [
      "\n"
     ]
    },
    {
     "name": "stderr",
     "output_type": "stream",
     "text": [
      " 47%|████▋     | 42/90 [03:32<02:55,  3.66s/it]"
     ]
    },
    {
     "name": "stdout",
     "output_type": "stream",
     "text": []
    },
    {
     "name": "stdout",
     "output_type": "stream",
     "text": [
      "\n"
     ]
    },
    {
     "name": "stderr",
     "output_type": "stream",
     "text": [
      " 48%|████▊     | 43/90 [03:38<03:33,  4.55s/it]"
     ]
    },
    {
     "name": "stdout",
     "output_type": "stream",
     "text": []
    },
    {
     "name": "stdout",
     "output_type": "stream",
     "text": [
      "\n"
     ]
    },
    {
     "name": "stderr",
     "output_type": "stream",
     "text": [
      " 49%|████▉     | 44/90 [03:42<03:16,  4.27s/it]"
     ]
    },
    {
     "name": "stdout",
     "output_type": "stream",
     "text": []
    },
    {
     "name": "stdout",
     "output_type": "stream",
     "text": [
      "\n"
     ]
    },
    {
     "name": "stderr",
     "output_type": "stream",
     "text": [
      " 50%|█████     | 45/90 [03:46<03:10,  4.24s/it]"
     ]
    },
    {
     "name": "stdout",
     "output_type": "stream",
     "text": []
    },
    {
     "name": "stdout",
     "output_type": "stream",
     "text": [
      "\n"
     ]
    },
    {
     "name": "stderr",
     "output_type": "stream",
     "text": [
      " 51%|█████     | 46/90 [03:51<03:17,  4.48s/it]"
     ]
    },
    {
     "name": "stdout",
     "output_type": "stream",
     "text": []
    },
    {
     "name": "stdout",
     "output_type": "stream",
     "text": [
      "\n"
     ]
    },
    {
     "name": "stderr",
     "output_type": "stream",
     "text": [
      " 52%|█████▏    | 47/90 [03:55<03:04,  4.29s/it]"
     ]
    },
    {
     "name": "stdout",
     "output_type": "stream",
     "text": []
    },
    {
     "name": "stdout",
     "output_type": "stream",
     "text": [
      "\n"
     ]
    },
    {
     "name": "stderr",
     "output_type": "stream",
     "text": [
      " 53%|█████▎    | 48/90 [04:01<03:22,  4.81s/it]"
     ]
    },
    {
     "name": "stdout",
     "output_type": "stream",
     "text": []
    },
    {
     "name": "stdout",
     "output_type": "stream",
     "text": [
      "\n"
     ]
    },
    {
     "name": "stderr",
     "output_type": "stream",
     "text": [
      " 54%|█████▍    | 49/90 [04:05<03:10,  4.66s/it]"
     ]
    },
    {
     "name": "stdout",
     "output_type": "stream",
     "text": []
    },
    {
     "name": "stdout",
     "output_type": "stream",
     "text": [
      "\n"
     ]
    },
    {
     "name": "stderr",
     "output_type": "stream",
     "text": [
      " 56%|█████▌    | 50/90 [04:09<02:51,  4.28s/it]"
     ]
    },
    {
     "name": "stdout",
     "output_type": "stream",
     "text": []
    },
    {
     "name": "stdout",
     "output_type": "stream",
     "text": [
      "\n"
     ]
    },
    {
     "name": "stderr",
     "output_type": "stream",
     "text": [
      " 57%|█████▋    | 51/90 [04:12<02:33,  3.94s/it]"
     ]
    },
    {
     "name": "stdout",
     "output_type": "stream",
     "text": []
    },
    {
     "name": "stdout",
     "output_type": "stream",
     "text": [
      "\n"
     ]
    },
    {
     "name": "stderr",
     "output_type": "stream",
     "text": [
      " 58%|█████▊    | 52/90 [04:15<02:26,  3.85s/it]"
     ]
    },
    {
     "name": "stdout",
     "output_type": "stream",
     "text": []
    },
    {
     "name": "stdout",
     "output_type": "stream",
     "text": [
      "\n"
     ]
    },
    {
     "name": "stderr",
     "output_type": "stream",
     "text": [
      " 59%|█████▉    | 53/90 [04:20<02:29,  4.03s/it]"
     ]
    },
    {
     "name": "stdout",
     "output_type": "stream",
     "text": []
    },
    {
     "name": "stdout",
     "output_type": "stream",
     "text": [
      "\n"
     ]
    },
    {
     "name": "stderr",
     "output_type": "stream",
     "text": [
      " 60%|██████    | 54/90 [04:24<02:21,  3.92s/it]"
     ]
    },
    {
     "name": "stdout",
     "output_type": "stream",
     "text": []
    },
    {
     "name": "stdout",
     "output_type": "stream",
     "text": [
      "\n"
     ]
    },
    {
     "name": "stderr",
     "output_type": "stream",
     "text": [
      " 61%|██████    | 55/90 [04:30<02:46,  4.75s/it]"
     ]
    },
    {
     "name": "stdout",
     "output_type": "stream",
     "text": []
    },
    {
     "name": "stdout",
     "output_type": "stream",
     "text": [
      "\n"
     ]
    },
    {
     "name": "stderr",
     "output_type": "stream",
     "text": [
      " 62%|██████▏   | 56/90 [04:40<03:36,  6.36s/it]"
     ]
    },
    {
     "name": "stdout",
     "output_type": "stream",
     "text": []
    },
    {
     "name": "stdout",
     "output_type": "stream",
     "text": [
      "\n"
     ]
    },
    {
     "name": "stderr",
     "output_type": "stream",
     "text": [
      " 63%|██████▎   | 57/90 [04:45<03:16,  5.96s/it]"
     ]
    },
    {
     "name": "stdout",
     "output_type": "stream",
     "text": []
    },
    {
     "name": "stdout",
     "output_type": "stream",
     "text": [
      "\n"
     ]
    },
    {
     "name": "stderr",
     "output_type": "stream",
     "text": [
      " 64%|██████▍   | 58/90 [04:50<02:58,  5.58s/it]"
     ]
    },
    {
     "name": "stdout",
     "output_type": "stream",
     "text": []
    },
    {
     "name": "stdout",
     "output_type": "stream",
     "text": [
      "\n"
     ]
    },
    {
     "name": "stderr",
     "output_type": "stream",
     "text": [
      " 66%|██████▌   | 59/90 [04:57<03:04,  5.96s/it]"
     ]
    },
    {
     "name": "stdout",
     "output_type": "stream",
     "text": []
    },
    {
     "name": "stdout",
     "output_type": "stream",
     "text": [
      "\n"
     ]
    },
    {
     "name": "stderr",
     "output_type": "stream",
     "text": [
      " 67%|██████▋   | 60/90 [05:00<02:37,  5.24s/it]"
     ]
    },
    {
     "name": "stdout",
     "output_type": "stream",
     "text": []
    },
    {
     "name": "stdout",
     "output_type": "stream",
     "text": [
      "\n"
     ]
    },
    {
     "name": "stderr",
     "output_type": "stream",
     "text": [
      " 68%|██████▊   | 61/90 [05:04<02:20,  4.83s/it]"
     ]
    },
    {
     "name": "stdout",
     "output_type": "stream",
     "text": []
    },
    {
     "name": "stdout",
     "output_type": "stream",
     "text": [
      "\n"
     ]
    },
    {
     "name": "stderr",
     "output_type": "stream",
     "text": [
      " 69%|██████▉   | 62/90 [05:08<02:07,  4.56s/it]"
     ]
    },
    {
     "name": "stdout",
     "output_type": "stream",
     "text": []
    },
    {
     "name": "stdout",
     "output_type": "stream",
     "text": [
      "\n"
     ]
    },
    {
     "name": "stderr",
     "output_type": "stream",
     "text": [
      " 70%|███████   | 63/90 [05:13<02:01,  4.49s/it]"
     ]
    },
    {
     "name": "stdout",
     "output_type": "stream",
     "text": []
    },
    {
     "name": "stdout",
     "output_type": "stream",
     "text": [
      "\n"
     ]
    },
    {
     "name": "stderr",
     "output_type": "stream",
     "text": [
      " 71%|███████   | 64/90 [05:15<01:43,  3.99s/it]"
     ]
    },
    {
     "name": "stdout",
     "output_type": "stream",
     "text": []
    },
    {
     "name": "stdout",
     "output_type": "stream",
     "text": [
      "\n"
     ]
    },
    {
     "name": "stderr",
     "output_type": "stream",
     "text": [
      " 72%|███████▏  | 65/90 [05:22<02:00,  4.84s/it]"
     ]
    },
    {
     "name": "stdout",
     "output_type": "stream",
     "text": []
    },
    {
     "name": "stdout",
     "output_type": "stream",
     "text": [
      "\n"
     ]
    },
    {
     "name": "stderr",
     "output_type": "stream",
     "text": [
      " 73%|███████▎  | 66/90 [05:26<01:47,  4.50s/it]"
     ]
    },
    {
     "name": "stdout",
     "output_type": "stream",
     "text": []
    },
    {
     "name": "stdout",
     "output_type": "stream",
     "text": [
      "\n"
     ]
    },
    {
     "name": "stderr",
     "output_type": "stream",
     "text": [
      " 74%|███████▍  | 67/90 [05:29<01:34,  4.13s/it]"
     ]
    },
    {
     "name": "stdout",
     "output_type": "stream",
     "text": []
    },
    {
     "name": "stdout",
     "output_type": "stream",
     "text": [
      "\n"
     ]
    },
    {
     "name": "stderr",
     "output_type": "stream",
     "text": [
      " 76%|███████▌  | 68/90 [05:33<01:28,  4.04s/it]"
     ]
    },
    {
     "name": "stdout",
     "output_type": "stream",
     "text": []
    },
    {
     "name": "stdout",
     "output_type": "stream",
     "text": [
      "\n"
     ]
    },
    {
     "name": "stderr",
     "output_type": "stream",
     "text": [
      " 77%|███████▋  | 69/90 [05:38<01:31,  4.38s/it]"
     ]
    },
    {
     "name": "stdout",
     "output_type": "stream",
     "text": []
    },
    {
     "name": "stdout",
     "output_type": "stream",
     "text": [
      "\n"
     ]
    },
    {
     "name": "stderr",
     "output_type": "stream",
     "text": [
      " 78%|███████▊  | 70/90 [05:42<01:21,  4.07s/it]"
     ]
    },
    {
     "name": "stdout",
     "output_type": "stream",
     "text": []
    },
    {
     "name": "stdout",
     "output_type": "stream",
     "text": [
      "\n"
     ]
    },
    {
     "name": "stderr",
     "output_type": "stream",
     "text": [
      " 79%|███████▉  | 71/90 [05:46<01:21,  4.27s/it]"
     ]
    },
    {
     "name": "stdout",
     "output_type": "stream",
     "text": []
    },
    {
     "name": "stdout",
     "output_type": "stream",
     "text": [
      "\n"
     ]
    },
    {
     "name": "stderr",
     "output_type": "stream",
     "text": [
      " 80%|████████  | 72/90 [05:50<01:13,  4.10s/it]"
     ]
    },
    {
     "name": "stdout",
     "output_type": "stream",
     "text": []
    },
    {
     "name": "stdout",
     "output_type": "stream",
     "text": [
      "\n"
     ]
    },
    {
     "name": "stderr",
     "output_type": "stream",
     "text": [
      " 81%|████████  | 73/90 [05:53<01:03,  3.76s/it]"
     ]
    },
    {
     "name": "stdout",
     "output_type": "stream",
     "text": []
    },
    {
     "name": "stdout",
     "output_type": "stream",
     "text": [
      "\n"
     ]
    },
    {
     "name": "stderr",
     "output_type": "stream",
     "text": [
      " 82%|████████▏ | 74/90 [05:57<01:02,  3.93s/it]"
     ]
    },
    {
     "name": "stdout",
     "output_type": "stream",
     "text": []
    },
    {
     "name": "stdout",
     "output_type": "stream",
     "text": [
      "\n"
     ]
    },
    {
     "name": "stderr",
     "output_type": "stream",
     "text": [
      " 83%|████████▎ | 75/90 [06:00<00:54,  3.65s/it]"
     ]
    },
    {
     "name": "stdout",
     "output_type": "stream",
     "text": []
    },
    {
     "name": "stdout",
     "output_type": "stream",
     "text": [
      "\n"
     ]
    },
    {
     "name": "stderr",
     "output_type": "stream",
     "text": [
      " 84%|████████▍ | 76/90 [06:06<01:01,  4.39s/it]"
     ]
    },
    {
     "name": "stdout",
     "output_type": "stream",
     "text": []
    },
    {
     "name": "stdout",
     "output_type": "stream",
     "text": [
      "\n"
     ]
    },
    {
     "name": "stderr",
     "output_type": "stream",
     "text": [
      " 86%|████████▌ | 77/90 [06:10<00:54,  4.22s/it]"
     ]
    },
    {
     "name": "stdout",
     "output_type": "stream",
     "text": []
    },
    {
     "name": "stdout",
     "output_type": "stream",
     "text": [
      "\n"
     ]
    },
    {
     "name": "stderr",
     "output_type": "stream",
     "text": [
      " 87%|████████▋ | 78/90 [06:15<00:52,  4.35s/it]"
     ]
    },
    {
     "name": "stdout",
     "output_type": "stream",
     "text": []
    },
    {
     "name": "stdout",
     "output_type": "stream",
     "text": [
      "\n"
     ]
    },
    {
     "name": "stderr",
     "output_type": "stream",
     "text": [
      " 88%|████████▊ | 79/90 [06:18<00:44,  4.01s/it]"
     ]
    },
    {
     "name": "stdout",
     "output_type": "stream",
     "text": []
    },
    {
     "name": "stdout",
     "output_type": "stream",
     "text": [
      "\n"
     ]
    },
    {
     "name": "stderr",
     "output_type": "stream",
     "text": [
      " 89%|████████▉ | 80/90 [06:23<00:42,  4.28s/it]"
     ]
    },
    {
     "name": "stdout",
     "output_type": "stream",
     "text": []
    },
    {
     "name": "stdout",
     "output_type": "stream",
     "text": [
      "\n"
     ]
    },
    {
     "name": "stderr",
     "output_type": "stream",
     "text": [
      " 90%|█████████ | 81/90 [06:26<00:35,  3.96s/it]"
     ]
    },
    {
     "name": "stdout",
     "output_type": "stream",
     "text": []
    },
    {
     "name": "stdout",
     "output_type": "stream",
     "text": [
      "\n"
     ]
    },
    {
     "name": "stderr",
     "output_type": "stream",
     "text": [
      " 91%|█████████ | 82/90 [06:31<00:32,  4.06s/it]"
     ]
    },
    {
     "name": "stdout",
     "output_type": "stream",
     "text": []
    },
    {
     "name": "stdout",
     "output_type": "stream",
     "text": [
      "\n"
     ]
    },
    {
     "name": "stderr",
     "output_type": "stream",
     "text": [
      " 92%|█████████▏| 83/90 [06:37<00:32,  4.67s/it]"
     ]
    },
    {
     "name": "stdout",
     "output_type": "stream",
     "text": []
    },
    {
     "name": "stdout",
     "output_type": "stream",
     "text": [
      "\n"
     ]
    },
    {
     "name": "stderr",
     "output_type": "stream",
     "text": [
      " 93%|█████████▎| 84/90 [06:40<00:26,  4.34s/it]"
     ]
    },
    {
     "name": "stdout",
     "output_type": "stream",
     "text": []
    },
    {
     "name": "stdout",
     "output_type": "stream",
     "text": [
      "\n"
     ]
    },
    {
     "name": "stderr",
     "output_type": "stream",
     "text": [
      " 94%|█████████▍| 85/90 [06:44<00:21,  4.25s/it]"
     ]
    },
    {
     "name": "stdout",
     "output_type": "stream",
     "text": []
    },
    {
     "name": "stdout",
     "output_type": "stream",
     "text": [
      "\n"
     ]
    },
    {
     "name": "stderr",
     "output_type": "stream",
     "text": [
      " 96%|█████████▌| 86/90 [06:49<00:17,  4.35s/it]"
     ]
    },
    {
     "name": "stdout",
     "output_type": "stream",
     "text": []
    },
    {
     "name": "stdout",
     "output_type": "stream",
     "text": [
      "\n"
     ]
    },
    {
     "name": "stderr",
     "output_type": "stream",
     "text": [
      " 97%|█████████▋| 87/90 [06:52<00:11,  3.91s/it]"
     ]
    },
    {
     "name": "stdout",
     "output_type": "stream",
     "text": []
    },
    {
     "name": "stdout",
     "output_type": "stream",
     "text": [
      "\n"
     ]
    },
    {
     "name": "stderr",
     "output_type": "stream",
     "text": [
      " 98%|█████████▊| 88/90 [06:55<00:07,  3.83s/it]"
     ]
    },
    {
     "name": "stdout",
     "output_type": "stream",
     "text": []
    },
    {
     "name": "stdout",
     "output_type": "stream",
     "text": [
      "\n"
     ]
    },
    {
     "name": "stderr",
     "output_type": "stream",
     "text": [
      " 99%|█████████▉| 89/90 [06:58<00:03,  3.52s/it]"
     ]
    },
    {
     "name": "stdout",
     "output_type": "stream",
     "text": []
    },
    {
     "name": "stdout",
     "output_type": "stream",
     "text": [
      "\n"
     ]
    },
    {
     "name": "stderr",
     "output_type": "stream",
     "text": [
      "100%|██████████| 90/90 [07:01<00:00,  3.44s/it]\n",
      "  0%|          | 0/90 [00:00<?, ?it/s]"
     ]
    },
    {
     "name": "stdout",
     "output_type": "stream",
     "text": []
    },
    {
     "name": "stdout",
     "output_type": "stream",
     "text": [
      "\n"
     ]
    },
    {
     "name": "stderr",
     "output_type": "stream",
     "text": [
      "  1%|          | 1/90 [00:03<04:54,  3.31s/it]"
     ]
    },
    {
     "name": "stdout",
     "output_type": "stream",
     "text": []
    },
    {
     "name": "stdout",
     "output_type": "stream",
     "text": [
      "\n"
     ]
    },
    {
     "name": "stderr",
     "output_type": "stream",
     "text": [
      "  2%|▏         | 2/90 [00:08<05:32,  3.77s/it]"
     ]
    },
    {
     "name": "stdout",
     "output_type": "stream",
     "text": []
    },
    {
     "name": "stdout",
     "output_type": "stream",
     "text": [
      "\n"
     ]
    },
    {
     "name": "stderr",
     "output_type": "stream",
     "text": [
      "  3%|▎         | 3/90 [00:11<05:18,  3.66s/it]"
     ]
    },
    {
     "name": "stdout",
     "output_type": "stream",
     "text": []
    },
    {
     "name": "stdout",
     "output_type": "stream",
     "text": [
      "\n"
     ]
    },
    {
     "name": "stderr",
     "output_type": "stream",
     "text": [
      "  4%|▍         | 4/90 [00:15<05:30,  3.84s/it]"
     ]
    },
    {
     "name": "stdout",
     "output_type": "stream",
     "text": []
    },
    {
     "name": "stdout",
     "output_type": "stream",
     "text": [
      "\n"
     ]
    },
    {
     "name": "stderr",
     "output_type": "stream",
     "text": [
      "  6%|▌         | 5/90 [00:18<05:08,  3.63s/it]"
     ]
    },
    {
     "name": "stdout",
     "output_type": "stream",
     "text": []
    },
    {
     "name": "stdout",
     "output_type": "stream",
     "text": [
      "\n"
     ]
    },
    {
     "name": "stderr",
     "output_type": "stream",
     "text": [
      "  7%|▋         | 6/90 [00:22<05:12,  3.72s/it]"
     ]
    },
    {
     "name": "stdout",
     "output_type": "stream",
     "text": []
    },
    {
     "name": "stdout",
     "output_type": "stream",
     "text": [
      "\n"
     ]
    },
    {
     "name": "stderr",
     "output_type": "stream",
     "text": [
      "  8%|▊         | 7/90 [00:27<05:28,  3.95s/it]"
     ]
    },
    {
     "name": "stdout",
     "output_type": "stream",
     "text": []
    },
    {
     "name": "stdout",
     "output_type": "stream",
     "text": [
      "\n"
     ]
    },
    {
     "name": "stderr",
     "output_type": "stream",
     "text": [
      "  9%|▉         | 8/90 [00:33<06:25,  4.71s/it]"
     ]
    },
    {
     "name": "stdout",
     "output_type": "stream",
     "text": []
    },
    {
     "name": "stdout",
     "output_type": "stream",
     "text": [
      "\n"
     ]
    },
    {
     "name": "stderr",
     "output_type": "stream",
     "text": [
      " 10%|█         | 9/90 [00:38<06:15,  4.63s/it]"
     ]
    },
    {
     "name": "stdout",
     "output_type": "stream",
     "text": []
    },
    {
     "name": "stdout",
     "output_type": "stream",
     "text": [
      "\n"
     ]
    },
    {
     "name": "stderr",
     "output_type": "stream",
     "text": [
      " 11%|█         | 10/90 [00:41<05:36,  4.21s/it]"
     ]
    },
    {
     "name": "stdout",
     "output_type": "stream",
     "text": []
    },
    {
     "name": "stdout",
     "output_type": "stream",
     "text": [
      "\n"
     ]
    },
    {
     "name": "stderr",
     "output_type": "stream",
     "text": [
      " 12%|█▏        | 11/90 [00:45<05:35,  4.25s/it]"
     ]
    },
    {
     "name": "stdout",
     "output_type": "stream",
     "text": []
    },
    {
     "name": "stdout",
     "output_type": "stream",
     "text": [
      "\n"
     ]
    },
    {
     "name": "stderr",
     "output_type": "stream",
     "text": [
      " 13%|█▎        | 12/90 [00:50<05:30,  4.23s/it]"
     ]
    },
    {
     "name": "stdout",
     "output_type": "stream",
     "text": []
    },
    {
     "name": "stdout",
     "output_type": "stream",
     "text": [
      "\n"
     ]
    },
    {
     "name": "stderr",
     "output_type": "stream",
     "text": [
      " 14%|█▍        | 13/90 [00:54<05:29,  4.28s/it]"
     ]
    },
    {
     "name": "stdout",
     "output_type": "stream",
     "text": []
    },
    {
     "name": "stdout",
     "output_type": "stream",
     "text": [
      "\n"
     ]
    },
    {
     "name": "stderr",
     "output_type": "stream",
     "text": [
      " 16%|█▌        | 14/90 [00:58<05:30,  4.35s/it]"
     ]
    },
    {
     "name": "stdout",
     "output_type": "stream",
     "text": []
    },
    {
     "name": "stdout",
     "output_type": "stream",
     "text": [
      "\n"
     ]
    },
    {
     "name": "stderr",
     "output_type": "stream",
     "text": [
      " 17%|█▋        | 15/90 [01:02<05:08,  4.12s/it]"
     ]
    },
    {
     "name": "stdout",
     "output_type": "stream",
     "text": []
    },
    {
     "name": "stdout",
     "output_type": "stream",
     "text": [
      "\n"
     ]
    },
    {
     "name": "stderr",
     "output_type": "stream",
     "text": [
      " 18%|█▊        | 16/90 [01:07<05:14,  4.25s/it]"
     ]
    },
    {
     "name": "stdout",
     "output_type": "stream",
     "text": []
    },
    {
     "name": "stdout",
     "output_type": "stream",
     "text": [
      "\n"
     ]
    },
    {
     "name": "stderr",
     "output_type": "stream",
     "text": [
      " 19%|█▉        | 17/90 [01:10<04:45,  3.91s/it]"
     ]
    },
    {
     "name": "stdout",
     "output_type": "stream",
     "text": []
    },
    {
     "name": "stdout",
     "output_type": "stream",
     "text": [
      "\n"
     ]
    },
    {
     "name": "stderr",
     "output_type": "stream",
     "text": [
      " 20%|██        | 18/90 [01:13<04:18,  3.59s/it]"
     ]
    },
    {
     "name": "stdout",
     "output_type": "stream",
     "text": []
    },
    {
     "name": "stdout",
     "output_type": "stream",
     "text": [
      "\n"
     ]
    },
    {
     "name": "stderr",
     "output_type": "stream",
     "text": [
      " 21%|██        | 19/90 [01:19<05:11,  4.39s/it]"
     ]
    },
    {
     "name": "stdout",
     "output_type": "stream",
     "text": []
    },
    {
     "name": "stdout",
     "output_type": "stream",
     "text": [
      "\n"
     ]
    },
    {
     "name": "stderr",
     "output_type": "stream",
     "text": [
      " 22%|██▏       | 20/90 [01:21<04:30,  3.86s/it]"
     ]
    },
    {
     "name": "stdout",
     "output_type": "stream",
     "text": []
    },
    {
     "name": "stdout",
     "output_type": "stream",
     "text": [
      "\n"
     ]
    },
    {
     "name": "stderr",
     "output_type": "stream",
     "text": [
      " 23%|██▎       | 21/90 [01:25<04:17,  3.73s/it]"
     ]
    },
    {
     "name": "stdout",
     "output_type": "stream",
     "text": []
    },
    {
     "name": "stdout",
     "output_type": "stream",
     "text": [
      "\n"
     ]
    },
    {
     "name": "stderr",
     "output_type": "stream",
     "text": [
      " 24%|██▍       | 22/90 [01:29<04:14,  3.74s/it]"
     ]
    },
    {
     "name": "stdout",
     "output_type": "stream",
     "text": []
    },
    {
     "name": "stdout",
     "output_type": "stream",
     "text": [
      "\n"
     ]
    },
    {
     "name": "stderr",
     "output_type": "stream",
     "text": [
      " 26%|██▌       | 23/90 [01:32<04:00,  3.59s/it]"
     ]
    },
    {
     "name": "stdout",
     "output_type": "stream",
     "text": []
    },
    {
     "name": "stdout",
     "output_type": "stream",
     "text": [
      "\n"
     ]
    },
    {
     "name": "stderr",
     "output_type": "stream",
     "text": [
      " 27%|██▋       | 24/90 [01:36<04:05,  3.72s/it]"
     ]
    },
    {
     "name": "stdout",
     "output_type": "stream",
     "text": []
    },
    {
     "name": "stdout",
     "output_type": "stream",
     "text": [
      "\n"
     ]
    },
    {
     "name": "stderr",
     "output_type": "stream",
     "text": [
      " 28%|██▊       | 25/90 [01:39<03:47,  3.50s/it]"
     ]
    },
    {
     "name": "stdout",
     "output_type": "stream",
     "text": []
    },
    {
     "name": "stdout",
     "output_type": "stream",
     "text": [
      "\n"
     ]
    },
    {
     "name": "stderr",
     "output_type": "stream",
     "text": [
      " 29%|██▉       | 26/90 [01:45<04:28,  4.19s/it]"
     ]
    },
    {
     "name": "stdout",
     "output_type": "stream",
     "text": []
    },
    {
     "name": "stdout",
     "output_type": "stream",
     "text": [
      "\n"
     ]
    },
    {
     "name": "stderr",
     "output_type": "stream",
     "text": [
      " 30%|███       | 27/90 [01:48<04:05,  3.89s/it]"
     ]
    },
    {
     "name": "stdout",
     "output_type": "stream",
     "text": []
    },
    {
     "name": "stdout",
     "output_type": "stream",
     "text": [
      "\n"
     ]
    },
    {
     "name": "stderr",
     "output_type": "stream",
     "text": [
      " 31%|███       | 28/90 [01:53<04:28,  4.33s/it]"
     ]
    },
    {
     "name": "stdout",
     "output_type": "stream",
     "text": []
    },
    {
     "name": "stdout",
     "output_type": "stream",
     "text": [
      "\n"
     ]
    },
    {
     "name": "stderr",
     "output_type": "stream",
     "text": [
      " 32%|███▏      | 29/90 [02:00<05:01,  4.95s/it]"
     ]
    },
    {
     "name": "stdout",
     "output_type": "stream",
     "text": []
    },
    {
     "name": "stdout",
     "output_type": "stream",
     "text": [
      "\n"
     ]
    },
    {
     "name": "stderr",
     "output_type": "stream",
     "text": [
      " 33%|███▎      | 30/90 [02:06<05:15,  5.26s/it]"
     ]
    },
    {
     "name": "stdout",
     "output_type": "stream",
     "text": []
    },
    {
     "name": "stdout",
     "output_type": "stream",
     "text": [
      "\n"
     ]
    },
    {
     "name": "stderr",
     "output_type": "stream",
     "text": [
      " 34%|███▍      | 31/90 [02:08<04:26,  4.52s/it]"
     ]
    },
    {
     "name": "stdout",
     "output_type": "stream",
     "text": []
    },
    {
     "name": "stdout",
     "output_type": "stream",
     "text": [
      "\n"
     ]
    },
    {
     "name": "stderr",
     "output_type": "stream",
     "text": [
      " 36%|███▌      | 32/90 [02:13<04:17,  4.44s/it]"
     ]
    },
    {
     "name": "stdout",
     "output_type": "stream",
     "text": []
    },
    {
     "name": "stdout",
     "output_type": "stream",
     "text": [
      "\n"
     ]
    },
    {
     "name": "stderr",
     "output_type": "stream",
     "text": [
      " 37%|███▋      | 33/90 [02:17<04:16,  4.50s/it]"
     ]
    },
    {
     "name": "stdout",
     "output_type": "stream",
     "text": []
    },
    {
     "name": "stdout",
     "output_type": "stream",
     "text": [
      "\n"
     ]
    },
    {
     "name": "stderr",
     "output_type": "stream",
     "text": [
      " 38%|███▊      | 34/90 [02:22<04:17,  4.60s/it]"
     ]
    },
    {
     "name": "stdout",
     "output_type": "stream",
     "text": []
    },
    {
     "name": "stdout",
     "output_type": "stream",
     "text": [
      "\n"
     ]
    },
    {
     "name": "stderr",
     "output_type": "stream",
     "text": [
      " 39%|███▉      | 35/90 [02:29<04:42,  5.13s/it]"
     ]
    },
    {
     "name": "stdout",
     "output_type": "stream",
     "text": []
    },
    {
     "name": "stdout",
     "output_type": "stream",
     "text": [
      "\n"
     ]
    },
    {
     "name": "stderr",
     "output_type": "stream",
     "text": [
      " 40%|████      | 36/90 [02:32<04:16,  4.75s/it]"
     ]
    },
    {
     "name": "stdout",
     "output_type": "stream",
     "text": []
    },
    {
     "name": "stdout",
     "output_type": "stream",
     "text": [
      "\n"
     ]
    },
    {
     "name": "stderr",
     "output_type": "stream",
     "text": [
      " 41%|████      | 37/90 [02:38<04:24,  4.99s/it]"
     ]
    },
    {
     "name": "stdout",
     "output_type": "stream",
     "text": []
    },
    {
     "name": "stdout",
     "output_type": "stream",
     "text": [
      "\n"
     ]
    },
    {
     "name": "stderr",
     "output_type": "stream",
     "text": [
      " 42%|████▏     | 38/90 [02:43<04:21,  5.03s/it]"
     ]
    },
    {
     "name": "stdout",
     "output_type": "stream",
     "text": []
    },
    {
     "name": "stdout",
     "output_type": "stream",
     "text": [
      "\n"
     ]
    },
    {
     "name": "stderr",
     "output_type": "stream",
     "text": [
      " 43%|████▎     | 39/90 [02:48<04:18,  5.06s/it]"
     ]
    },
    {
     "name": "stdout",
     "output_type": "stream",
     "text": []
    },
    {
     "name": "stdout",
     "output_type": "stream",
     "text": [
      "\n"
     ]
    },
    {
     "name": "stderr",
     "output_type": "stream",
     "text": [
      " 44%|████▍     | 40/90 [02:53<04:16,  5.14s/it]"
     ]
    },
    {
     "name": "stdout",
     "output_type": "stream",
     "text": []
    },
    {
     "name": "stdout",
     "output_type": "stream",
     "text": [
      "\n"
     ]
    },
    {
     "name": "stderr",
     "output_type": "stream",
     "text": [
      " 46%|████▌     | 41/90 [03:00<04:32,  5.56s/it]"
     ]
    },
    {
     "name": "stdout",
     "output_type": "stream",
     "text": []
    },
    {
     "name": "stdout",
     "output_type": "stream",
     "text": [
      "\n"
     ]
    },
    {
     "name": "stderr",
     "output_type": "stream",
     "text": [
      " 47%|████▋     | 42/90 [03:07<04:41,  5.86s/it]"
     ]
    },
    {
     "name": "stdout",
     "output_type": "stream",
     "text": []
    },
    {
     "name": "stdout",
     "output_type": "stream",
     "text": [
      "\n"
     ]
    },
    {
     "name": "stderr",
     "output_type": "stream",
     "text": [
      " 48%|████▊     | 43/90 [03:12<04:35,  5.87s/it]"
     ]
    },
    {
     "name": "stdout",
     "output_type": "stream",
     "text": []
    },
    {
     "name": "stdout",
     "output_type": "stream",
     "text": [
      "\n"
     ]
    },
    {
     "name": "stderr",
     "output_type": "stream",
     "text": [
      " 49%|████▉     | 44/90 [03:16<03:51,  5.03s/it]"
     ]
    },
    {
     "name": "stdout",
     "output_type": "stream",
     "text": []
    },
    {
     "name": "stdout",
     "output_type": "stream",
     "text": [
      "\n"
     ]
    },
    {
     "name": "stderr",
     "output_type": "stream",
     "text": [
      " 50%|█████     | 45/90 [03:20<03:32,  4.73s/it]"
     ]
    },
    {
     "name": "stdout",
     "output_type": "stream",
     "text": []
    },
    {
     "name": "stdout",
     "output_type": "stream",
     "text": [
      "\n"
     ]
    },
    {
     "name": "stderr",
     "output_type": "stream",
     "text": [
      " 51%|█████     | 46/90 [03:23<03:10,  4.32s/it]"
     ]
    },
    {
     "name": "stdout",
     "output_type": "stream",
     "text": []
    },
    {
     "name": "stdout",
     "output_type": "stream",
     "text": [
      "\n"
     ]
    },
    {
     "name": "stderr",
     "output_type": "stream",
     "text": [
      " 52%|█████▏    | 47/90 [03:26<02:45,  3.85s/it]"
     ]
    },
    {
     "name": "stdout",
     "output_type": "stream",
     "text": []
    },
    {
     "name": "stdout",
     "output_type": "stream",
     "text": [
      "\n"
     ]
    },
    {
     "name": "stderr",
     "output_type": "stream",
     "text": [
      " 53%|█████▎    | 48/90 [03:32<03:06,  4.45s/it]"
     ]
    },
    {
     "name": "stdout",
     "output_type": "stream",
     "text": []
    },
    {
     "name": "stdout",
     "output_type": "stream",
     "text": [
      "\n"
     ]
    },
    {
     "name": "stderr",
     "output_type": "stream",
     "text": [
      " 54%|█████▍    | 49/90 [03:36<02:59,  4.38s/it]"
     ]
    },
    {
     "name": "stdout",
     "output_type": "stream",
     "text": []
    },
    {
     "name": "stdout",
     "output_type": "stream",
     "text": [
      "\n"
     ]
    },
    {
     "name": "stderr",
     "output_type": "stream",
     "text": [
      " 56%|█████▌    | 50/90 [03:40<02:51,  4.29s/it]"
     ]
    },
    {
     "name": "stdout",
     "output_type": "stream",
     "text": []
    },
    {
     "name": "stdout",
     "output_type": "stream",
     "text": [
      "\n"
     ]
    },
    {
     "name": "stderr",
     "output_type": "stream",
     "text": [
      " 57%|█████▋    | 51/90 [03:44<02:41,  4.13s/it]"
     ]
    },
    {
     "name": "stdout",
     "output_type": "stream",
     "text": []
    },
    {
     "name": "stdout",
     "output_type": "stream",
     "text": [
      "\n"
     ]
    },
    {
     "name": "stderr",
     "output_type": "stream",
     "text": [
      " 58%|█████▊    | 52/90 [03:53<03:34,  5.64s/it]"
     ]
    },
    {
     "name": "stdout",
     "output_type": "stream",
     "text": []
    },
    {
     "name": "stdout",
     "output_type": "stream",
     "text": [
      "\n"
     ]
    },
    {
     "name": "stderr",
     "output_type": "stream",
     "text": [
      " 59%|█████▉    | 53/90 [03:57<03:15,  5.29s/it]"
     ]
    },
    {
     "name": "stdout",
     "output_type": "stream",
     "text": []
    },
    {
     "name": "stdout",
     "output_type": "stream",
     "text": [
      "\n"
     ]
    },
    {
     "name": "stderr",
     "output_type": "stream",
     "text": [
      " 60%|██████    | 54/90 [04:01<02:52,  4.80s/it]"
     ]
    },
    {
     "name": "stdout",
     "output_type": "stream",
     "text": []
    },
    {
     "name": "stdout",
     "output_type": "stream",
     "text": [
      "\n"
     ]
    },
    {
     "name": "stderr",
     "output_type": "stream",
     "text": [
      " 61%|██████    | 55/90 [04:04<02:31,  4.33s/it]"
     ]
    },
    {
     "name": "stdout",
     "output_type": "stream",
     "text": []
    },
    {
     "name": "stdout",
     "output_type": "stream",
     "text": [
      "\n"
     ]
    },
    {
     "name": "stderr",
     "output_type": "stream",
     "text": [
      " 62%|██████▏   | 56/90 [04:08<02:24,  4.25s/it]"
     ]
    },
    {
     "name": "stdout",
     "output_type": "stream",
     "text": []
    },
    {
     "name": "stdout",
     "output_type": "stream",
     "text": [
      "\n"
     ]
    },
    {
     "name": "stderr",
     "output_type": "stream",
     "text": [
      " 63%|██████▎   | 57/90 [04:13<02:23,  4.35s/it]"
     ]
    },
    {
     "name": "stdout",
     "output_type": "stream",
     "text": []
    },
    {
     "name": "stdout",
     "output_type": "stream",
     "text": [
      "\n"
     ]
    },
    {
     "name": "stderr",
     "output_type": "stream",
     "text": [
      " 64%|██████▍   | 58/90 [04:18<02:25,  4.54s/it]"
     ]
    },
    {
     "name": "stdout",
     "output_type": "stream",
     "text": []
    },
    {
     "name": "stdout",
     "output_type": "stream",
     "text": [
      "\n"
     ]
    },
    {
     "name": "stderr",
     "output_type": "stream",
     "text": [
      " 66%|██████▌   | 59/90 [04:22<02:17,  4.44s/it]"
     ]
    },
    {
     "name": "stdout",
     "output_type": "stream",
     "text": []
    },
    {
     "name": "stdout",
     "output_type": "stream",
     "text": [
      "\n"
     ]
    },
    {
     "name": "stderr",
     "output_type": "stream",
     "text": [
      " 67%|██████▋   | 60/90 [04:26<02:08,  4.29s/it]"
     ]
    },
    {
     "name": "stdout",
     "output_type": "stream",
     "text": []
    },
    {
     "name": "stdout",
     "output_type": "stream",
     "text": [
      "\n"
     ]
    },
    {
     "name": "stderr",
     "output_type": "stream",
     "text": [
      " 68%|██████▊   | 61/90 [04:29<01:56,  4.03s/it]"
     ]
    },
    {
     "name": "stdout",
     "output_type": "stream",
     "text": []
    },
    {
     "name": "stdout",
     "output_type": "stream",
     "text": [
      "\n"
     ]
    },
    {
     "name": "stderr",
     "output_type": "stream",
     "text": [
      " 69%|██████▉   | 62/90 [04:33<01:50,  3.95s/it]"
     ]
    },
    {
     "name": "stdout",
     "output_type": "stream",
     "text": []
    },
    {
     "name": "stdout",
     "output_type": "stream",
     "text": [
      "\n"
     ]
    },
    {
     "name": "stderr",
     "output_type": "stream",
     "text": [
      " 70%|███████   | 63/90 [04:39<01:58,  4.40s/it]"
     ]
    },
    {
     "name": "stdout",
     "output_type": "stream",
     "text": []
    },
    {
     "name": "stdout",
     "output_type": "stream",
     "text": [
      "\n"
     ]
    },
    {
     "name": "stderr",
     "output_type": "stream",
     "text": [
      " 71%|███████   | 64/90 [04:43<01:55,  4.43s/it]"
     ]
    },
    {
     "name": "stdout",
     "output_type": "stream",
     "text": []
    },
    {
     "name": "stdout",
     "output_type": "stream",
     "text": [
      "\n"
     ]
    },
    {
     "name": "stderr",
     "output_type": "stream",
     "text": [
      " 72%|███████▏  | 65/90 [04:46<01:40,  4.02s/it]"
     ]
    },
    {
     "name": "stdout",
     "output_type": "stream",
     "text": []
    },
    {
     "name": "stdout",
     "output_type": "stream",
     "text": [
      "\n"
     ]
    },
    {
     "name": "stderr",
     "output_type": "stream",
     "text": [
      " 73%|███████▎  | 66/90 [04:49<01:26,  3.59s/it]"
     ]
    },
    {
     "name": "stdout",
     "output_type": "stream",
     "text": []
    },
    {
     "name": "stdout",
     "output_type": "stream",
     "text": [
      "\n"
     ]
    },
    {
     "name": "stderr",
     "output_type": "stream",
     "text": [
      " 74%|███████▍  | 67/90 [04:52<01:18,  3.42s/it]"
     ]
    },
    {
     "name": "stdout",
     "output_type": "stream",
     "text": []
    },
    {
     "name": "stdout",
     "output_type": "stream",
     "text": [
      "\n"
     ]
    },
    {
     "name": "stderr",
     "output_type": "stream",
     "text": [
      " 76%|███████▌  | 68/90 [04:57<01:28,  4.02s/it]"
     ]
    },
    {
     "name": "stdout",
     "output_type": "stream",
     "text": []
    },
    {
     "name": "stdout",
     "output_type": "stream",
     "text": [
      "\n"
     ]
    },
    {
     "name": "stderr",
     "output_type": "stream",
     "text": [
      " 77%|███████▋  | 69/90 [05:01<01:24,  4.04s/it]"
     ]
    },
    {
     "name": "stdout",
     "output_type": "stream",
     "text": []
    },
    {
     "name": "stdout",
     "output_type": "stream",
     "text": [
      "\n"
     ]
    },
    {
     "name": "stderr",
     "output_type": "stream",
     "text": [
      " 78%|███████▊  | 70/90 [05:05<01:20,  4.02s/it]"
     ]
    },
    {
     "name": "stdout",
     "output_type": "stream",
     "text": []
    },
    {
     "name": "stdout",
     "output_type": "stream",
     "text": [
      "\n"
     ]
    },
    {
     "name": "stderr",
     "output_type": "stream",
     "text": [
      " 79%|███████▉  | 71/90 [05:13<01:35,  5.03s/it]"
     ]
    },
    {
     "name": "stdout",
     "output_type": "stream",
     "text": []
    },
    {
     "name": "stdout",
     "output_type": "stream",
     "text": [
      "\n"
     ]
    },
    {
     "name": "stderr",
     "output_type": "stream",
     "text": [
      " 80%|████████  | 72/90 [05:16<01:20,  4.45s/it]"
     ]
    },
    {
     "name": "stdout",
     "output_type": "stream",
     "text": []
    },
    {
     "name": "stdout",
     "output_type": "stream",
     "text": [
      "\n"
     ]
    },
    {
     "name": "stderr",
     "output_type": "stream",
     "text": [
      " 81%|████████  | 73/90 [05:20<01:12,  4.27s/it]"
     ]
    },
    {
     "name": "stdout",
     "output_type": "stream",
     "text": []
    },
    {
     "name": "stdout",
     "output_type": "stream",
     "text": [
      "\n"
     ]
    },
    {
     "name": "stderr",
     "output_type": "stream",
     "text": [
      " 82%|████████▏ | 74/90 [05:24<01:09,  4.31s/it]"
     ]
    },
    {
     "name": "stdout",
     "output_type": "stream",
     "text": []
    },
    {
     "name": "stdout",
     "output_type": "stream",
     "text": [
      "\n"
     ]
    },
    {
     "name": "stderr",
     "output_type": "stream",
     "text": [
      " 83%|████████▎ | 75/90 [05:30<01:10,  4.70s/it]"
     ]
    },
    {
     "name": "stdout",
     "output_type": "stream",
     "text": []
    },
    {
     "name": "stdout",
     "output_type": "stream",
     "text": [
      "\n"
     ]
    },
    {
     "name": "stderr",
     "output_type": "stream",
     "text": [
      " 84%|████████▍ | 76/90 [05:32<00:57,  4.14s/it]"
     ]
    },
    {
     "name": "stdout",
     "output_type": "stream",
     "text": []
    },
    {
     "name": "stdout",
     "output_type": "stream",
     "text": [
      "\n"
     ]
    },
    {
     "name": "stderr",
     "output_type": "stream",
     "text": [
      " 86%|████████▌ | 77/90 [05:36<00:51,  3.96s/it]"
     ]
    },
    {
     "name": "stdout",
     "output_type": "stream",
     "text": []
    },
    {
     "name": "stdout",
     "output_type": "stream",
     "text": [
      "\n"
     ]
    },
    {
     "name": "stderr",
     "output_type": "stream",
     "text": [
      " 87%|████████▋ | 78/90 [05:39<00:44,  3.72s/it]"
     ]
    },
    {
     "name": "stdout",
     "output_type": "stream",
     "text": []
    },
    {
     "name": "stdout",
     "output_type": "stream",
     "text": [
      "\n"
     ]
    },
    {
     "name": "stderr",
     "output_type": "stream",
     "text": [
      " 88%|████████▊ | 79/90 [05:42<00:38,  3.50s/it]"
     ]
    },
    {
     "name": "stdout",
     "output_type": "stream",
     "text": []
    },
    {
     "name": "stdout",
     "output_type": "stream",
     "text": [
      "\n"
     ]
    },
    {
     "name": "stderr",
     "output_type": "stream",
     "text": [
      " 89%|████████▉ | 80/90 [05:47<00:39,  3.94s/it]"
     ]
    },
    {
     "name": "stdout",
     "output_type": "stream",
     "text": []
    },
    {
     "name": "stdout",
     "output_type": "stream",
     "text": [
      "\n"
     ]
    },
    {
     "name": "stderr",
     "output_type": "stream",
     "text": [
      " 90%|█████████ | 81/90 [05:50<00:33,  3.71s/it]"
     ]
    },
    {
     "name": "stdout",
     "output_type": "stream",
     "text": []
    },
    {
     "name": "stdout",
     "output_type": "stream",
     "text": [
      "\n"
     ]
    },
    {
     "name": "stderr",
     "output_type": "stream",
     "text": [
      " 91%|█████████ | 82/90 [05:55<00:32,  4.01s/it]"
     ]
    },
    {
     "name": "stdout",
     "output_type": "stream",
     "text": []
    },
    {
     "name": "stdout",
     "output_type": "stream",
     "text": [
      "\n"
     ]
    },
    {
     "name": "stderr",
     "output_type": "stream",
     "text": [
      " 92%|█████████▏| 83/90 [05:58<00:26,  3.77s/it]"
     ]
    },
    {
     "name": "stdout",
     "output_type": "stream",
     "text": []
    },
    {
     "name": "stdout",
     "output_type": "stream",
     "text": [
      "\n"
     ]
    },
    {
     "name": "stderr",
     "output_type": "stream",
     "text": [
      " 93%|█████████▎| 84/90 [06:02<00:22,  3.82s/it]"
     ]
    },
    {
     "name": "stdout",
     "output_type": "stream",
     "text": []
    },
    {
     "name": "stdout",
     "output_type": "stream",
     "text": [
      "\n"
     ]
    },
    {
     "name": "stderr",
     "output_type": "stream",
     "text": [
      " 94%|█████████▍| 85/90 [06:05<00:18,  3.69s/it]"
     ]
    },
    {
     "name": "stdout",
     "output_type": "stream",
     "text": []
    },
    {
     "name": "stdout",
     "output_type": "stream",
     "text": [
      "\n"
     ]
    },
    {
     "name": "stderr",
     "output_type": "stream",
     "text": [
      " 96%|█████████▌| 86/90 [06:09<00:14,  3.70s/it]"
     ]
    },
    {
     "name": "stdout",
     "output_type": "stream",
     "text": []
    },
    {
     "name": "stdout",
     "output_type": "stream",
     "text": [
      "\n"
     ]
    },
    {
     "name": "stderr",
     "output_type": "stream",
     "text": [
      " 97%|█████████▋| 87/90 [06:13<00:11,  3.88s/it]"
     ]
    },
    {
     "name": "stdout",
     "output_type": "stream",
     "text": []
    },
    {
     "name": "stdout",
     "output_type": "stream",
     "text": [
      "\n"
     ]
    },
    {
     "name": "stderr",
     "output_type": "stream",
     "text": [
      " 98%|█████████▊| 88/90 [06:18<00:07,  4.00s/it]"
     ]
    },
    {
     "name": "stdout",
     "output_type": "stream",
     "text": []
    },
    {
     "name": "stdout",
     "output_type": "stream",
     "text": [
      "\n"
     ]
    },
    {
     "name": "stderr",
     "output_type": "stream",
     "text": [
      " 99%|█████████▉| 89/90 [06:21<00:03,  3.90s/it]"
     ]
    },
    {
     "name": "stdout",
     "output_type": "stream",
     "text": []
    },
    {
     "name": "stdout",
     "output_type": "stream",
     "text": [
      "\n"
     ]
    },
    {
     "name": "stderr",
     "output_type": "stream",
     "text": [
      "100%|██████████| 90/90 [06:25<00:00,  3.89s/it]\n",
      "  0%|          | 0/90 [00:00<?, ?it/s]"
     ]
    },
    {
     "name": "stdout",
     "output_type": "stream",
     "text": []
    },
    {
     "name": "stdout",
     "output_type": "stream",
     "text": [
      "\n"
     ]
    },
    {
     "name": "stderr",
     "output_type": "stream",
     "text": [
      "  1%|          | 1/90 [00:03<05:05,  3.43s/it]"
     ]
    },
    {
     "name": "stdout",
     "output_type": "stream",
     "text": []
    },
    {
     "name": "stdout",
     "output_type": "stream",
     "text": [
      "\n"
     ]
    },
    {
     "name": "stderr",
     "output_type": "stream",
     "text": [
      "  2%|▏         | 2/90 [00:10<06:32,  4.46s/it]"
     ]
    },
    {
     "name": "stdout",
     "output_type": "stream",
     "text": []
    },
    {
     "name": "stdout",
     "output_type": "stream",
     "text": [
      "\n"
     ]
    },
    {
     "name": "stderr",
     "output_type": "stream",
     "text": [
      "  3%|▎         | 3/90 [00:14<06:13,  4.29s/it]"
     ]
    },
    {
     "name": "stdout",
     "output_type": "stream",
     "text": []
    },
    {
     "name": "stdout",
     "output_type": "stream",
     "text": [
      "\n"
     ]
    },
    {
     "name": "stderr",
     "output_type": "stream",
     "text": [
      "  4%|▍         | 4/90 [00:20<07:07,  4.97s/it]"
     ]
    },
    {
     "name": "stdout",
     "output_type": "stream",
     "text": []
    },
    {
     "name": "stdout",
     "output_type": "stream",
     "text": [
      "\n"
     ]
    },
    {
     "name": "stderr",
     "output_type": "stream",
     "text": [
      "  6%|▌         | 5/90 [00:23<05:58,  4.22s/it]"
     ]
    },
    {
     "name": "stdout",
     "output_type": "stream",
     "text": []
    },
    {
     "name": "stdout",
     "output_type": "stream",
     "text": [
      "\n"
     ]
    },
    {
     "name": "stderr",
     "output_type": "stream",
     "text": [
      "  7%|▋         | 6/90 [00:27<05:59,  4.28s/it]"
     ]
    },
    {
     "name": "stdout",
     "output_type": "stream",
     "text": []
    },
    {
     "name": "stdout",
     "output_type": "stream",
     "text": [
      "\n"
     ]
    },
    {
     "name": "stderr",
     "output_type": "stream",
     "text": [
      "  8%|▊         | 7/90 [00:30<05:30,  3.99s/it]"
     ]
    },
    {
     "name": "stdout",
     "output_type": "stream",
     "text": []
    },
    {
     "name": "stdout",
     "output_type": "stream",
     "text": [
      "\n"
     ]
    },
    {
     "name": "stderr",
     "output_type": "stream",
     "text": [
      "  9%|▉         | 8/90 [00:34<05:08,  3.76s/it]"
     ]
    },
    {
     "name": "stdout",
     "output_type": "stream",
     "text": []
    },
    {
     "name": "stdout",
     "output_type": "stream",
     "text": [
      "\n"
     ]
    },
    {
     "name": "stderr",
     "output_type": "stream",
     "text": [
      " 10%|█         | 9/90 [00:38<05:11,  3.84s/it]"
     ]
    },
    {
     "name": "stdout",
     "output_type": "stream",
     "text": []
    },
    {
     "name": "stdout",
     "output_type": "stream",
     "text": [
      "\n"
     ]
    },
    {
     "name": "stderr",
     "output_type": "stream",
     "text": [
      " 11%|█         | 10/90 [00:42<05:29,  4.12s/it]"
     ]
    },
    {
     "name": "stdout",
     "output_type": "stream",
     "text": []
    },
    {
     "name": "stdout",
     "output_type": "stream",
     "text": [
      "\n"
     ]
    },
    {
     "name": "stderr",
     "output_type": "stream",
     "text": [
      " 12%|█▏        | 11/90 [00:47<05:25,  4.11s/it]"
     ]
    },
    {
     "name": "stdout",
     "output_type": "stream",
     "text": []
    },
    {
     "name": "stdout",
     "output_type": "stream",
     "text": [
      "\n"
     ]
    },
    {
     "name": "stderr",
     "output_type": "stream",
     "text": [
      " 13%|█▎        | 12/90 [00:52<06:02,  4.64s/it]"
     ]
    },
    {
     "name": "stdout",
     "output_type": "stream",
     "text": []
    },
    {
     "name": "stdout",
     "output_type": "stream",
     "text": [
      "\n"
     ]
    },
    {
     "name": "stderr",
     "output_type": "stream",
     "text": [
      " 14%|█▍        | 13/90 [00:57<05:50,  4.55s/it]"
     ]
    },
    {
     "name": "stdout",
     "output_type": "stream",
     "text": []
    },
    {
     "name": "stdout",
     "output_type": "stream",
     "text": [
      "\n"
     ]
    },
    {
     "name": "stderr",
     "output_type": "stream",
     "text": [
      " 16%|█▌        | 14/90 [01:00<05:25,  4.28s/it]"
     ]
    },
    {
     "name": "stdout",
     "output_type": "stream",
     "text": []
    },
    {
     "name": "stdout",
     "output_type": "stream",
     "text": [
      "\n"
     ]
    },
    {
     "name": "stderr",
     "output_type": "stream",
     "text": [
      " 17%|█▋        | 15/90 [01:06<05:54,  4.72s/it]"
     ]
    },
    {
     "name": "stdout",
     "output_type": "stream",
     "text": []
    },
    {
     "name": "stdout",
     "output_type": "stream",
     "text": [
      "\n"
     ]
    },
    {
     "name": "stderr",
     "output_type": "stream",
     "text": [
      " 18%|█▊        | 16/90 [01:11<06:00,  4.87s/it]"
     ]
    },
    {
     "name": "stdout",
     "output_type": "stream",
     "text": []
    },
    {
     "name": "stdout",
     "output_type": "stream",
     "text": [
      "\n"
     ]
    },
    {
     "name": "stderr",
     "output_type": "stream",
     "text": [
      " 19%|█▉        | 17/90 [01:16<05:49,  4.78s/it]"
     ]
    },
    {
     "name": "stdout",
     "output_type": "stream",
     "text": []
    },
    {
     "name": "stdout",
     "output_type": "stream",
     "text": [
      "\n"
     ]
    },
    {
     "name": "stderr",
     "output_type": "stream",
     "text": [
      " 20%|██        | 18/90 [01:20<05:23,  4.50s/it]"
     ]
    },
    {
     "name": "stdout",
     "output_type": "stream",
     "text": []
    },
    {
     "name": "stdout",
     "output_type": "stream",
     "text": [
      "\n"
     ]
    },
    {
     "name": "stderr",
     "output_type": "stream",
     "text": [
      " 21%|██        | 19/90 [01:26<05:50,  4.94s/it]"
     ]
    },
    {
     "name": "stdout",
     "output_type": "stream",
     "text": []
    },
    {
     "name": "stdout",
     "output_type": "stream",
     "text": [
      "\n"
     ]
    },
    {
     "name": "stderr",
     "output_type": "stream",
     "text": [
      " 22%|██▏       | 20/90 [01:30<05:39,  4.85s/it]"
     ]
    },
    {
     "name": "stdout",
     "output_type": "stream",
     "text": []
    },
    {
     "name": "stdout",
     "output_type": "stream",
     "text": [
      "\n"
     ]
    },
    {
     "name": "stderr",
     "output_type": "stream",
     "text": [
      " 23%|██▎       | 21/90 [01:36<05:44,  4.99s/it]"
     ]
    },
    {
     "name": "stdout",
     "output_type": "stream",
     "text": []
    },
    {
     "name": "stdout",
     "output_type": "stream",
     "text": [
      "\n"
     ]
    },
    {
     "name": "stderr",
     "output_type": "stream",
     "text": [
      " 24%|██▍       | 22/90 [01:41<05:53,  5.19s/it]"
     ]
    },
    {
     "name": "stdout",
     "output_type": "stream",
     "text": []
    },
    {
     "name": "stdout",
     "output_type": "stream",
     "text": [
      "\n"
     ]
    },
    {
     "name": "stderr",
     "output_type": "stream",
     "text": [
      " 26%|██▌       | 23/90 [01:48<06:11,  5.55s/it]"
     ]
    },
    {
     "name": "stdout",
     "output_type": "stream",
     "text": []
    },
    {
     "name": "stdout",
     "output_type": "stream",
     "text": [
      "\n"
     ]
    },
    {
     "name": "stderr",
     "output_type": "stream",
     "text": [
      " 27%|██▋       | 24/90 [01:53<06:00,  5.46s/it]"
     ]
    },
    {
     "name": "stdout",
     "output_type": "stream",
     "text": []
    },
    {
     "name": "stdout",
     "output_type": "stream",
     "text": [
      "\n"
     ]
    },
    {
     "name": "stderr",
     "output_type": "stream",
     "text": [
      " 28%|██▊       | 25/90 [02:00<06:14,  5.76s/it]"
     ]
    },
    {
     "name": "stdout",
     "output_type": "stream",
     "text": []
    },
    {
     "name": "stdout",
     "output_type": "stream",
     "text": [
      "\n"
     ]
    },
    {
     "name": "stderr",
     "output_type": "stream",
     "text": [
      " 29%|██▉       | 26/90 [02:05<05:57,  5.59s/it]"
     ]
    },
    {
     "name": "stdout",
     "output_type": "stream",
     "text": []
    },
    {
     "name": "stdout",
     "output_type": "stream",
     "text": [
      "\n"
     ]
    },
    {
     "name": "stderr",
     "output_type": "stream",
     "text": [
      " 30%|███       | 27/90 [02:09<05:21,  5.10s/it]"
     ]
    },
    {
     "name": "stdout",
     "output_type": "stream",
     "text": []
    },
    {
     "name": "stdout",
     "output_type": "stream",
     "text": [
      "\n"
     ]
    },
    {
     "name": "stderr",
     "output_type": "stream",
     "text": [
      " 31%|███       | 28/90 [02:13<04:53,  4.73s/it]"
     ]
    },
    {
     "name": "stdout",
     "output_type": "stream",
     "text": []
    },
    {
     "name": "stdout",
     "output_type": "stream",
     "text": [
      "\n"
     ]
    },
    {
     "name": "stderr",
     "output_type": "stream",
     "text": [
      " 32%|███▏      | 29/90 [02:17<04:50,  4.77s/it]"
     ]
    },
    {
     "name": "stdout",
     "output_type": "stream",
     "text": []
    },
    {
     "name": "stdout",
     "output_type": "stream",
     "text": [
      "\n"
     ]
    },
    {
     "name": "stderr",
     "output_type": "stream",
     "text": [
      " 33%|███▎      | 30/90 [02:20<04:14,  4.25s/it]"
     ]
    },
    {
     "name": "stdout",
     "output_type": "stream",
     "text": []
    },
    {
     "name": "stdout",
     "output_type": "stream",
     "text": [
      "\n"
     ]
    },
    {
     "name": "stderr",
     "output_type": "stream",
     "text": [
      " 34%|███▍      | 31/90 [02:25<04:13,  4.30s/it]"
     ]
    },
    {
     "name": "stdout",
     "output_type": "stream",
     "text": []
    },
    {
     "name": "stdout",
     "output_type": "stream",
     "text": [
      "\n"
     ]
    },
    {
     "name": "stderr",
     "output_type": "stream",
     "text": [
      " 36%|███▌      | 32/90 [02:30<04:22,  4.52s/it]"
     ]
    },
    {
     "name": "stdout",
     "output_type": "stream",
     "text": []
    },
    {
     "name": "stdout",
     "output_type": "stream",
     "text": [
      "\n"
     ]
    },
    {
     "name": "stderr",
     "output_type": "stream",
     "text": [
      " 37%|███▋      | 33/90 [02:38<05:13,  5.51s/it]"
     ]
    },
    {
     "name": "stdout",
     "output_type": "stream",
     "text": []
    },
    {
     "name": "stdout",
     "output_type": "stream",
     "text": [
      "\n"
     ]
    },
    {
     "name": "stderr",
     "output_type": "stream",
     "text": [
      " 38%|███▊      | 34/90 [02:42<04:47,  5.14s/it]"
     ]
    },
    {
     "name": "stdout",
     "output_type": "stream",
     "text": []
    },
    {
     "name": "stdout",
     "output_type": "stream",
     "text": [
      "\n"
     ]
    },
    {
     "name": "stderr",
     "output_type": "stream",
     "text": [
      " 39%|███▉      | 35/90 [02:46<04:19,  4.71s/it]"
     ]
    },
    {
     "name": "stdout",
     "output_type": "stream",
     "text": []
    },
    {
     "name": "stdout",
     "output_type": "stream",
     "text": [
      "\n"
     ]
    },
    {
     "name": "stderr",
     "output_type": "stream",
     "text": [
      " 40%|████      | 36/90 [02:51<04:24,  4.91s/it]"
     ]
    },
    {
     "name": "stdout",
     "output_type": "stream",
     "text": []
    },
    {
     "name": "stdout",
     "output_type": "stream",
     "text": [
      "\n"
     ]
    },
    {
     "name": "stderr",
     "output_type": "stream",
     "text": [
      " 41%|████      | 37/90 [02:55<04:13,  4.77s/it]"
     ]
    },
    {
     "name": "stdout",
     "output_type": "stream",
     "text": []
    },
    {
     "name": "stdout",
     "output_type": "stream",
     "text": [
      "\n"
     ]
    },
    {
     "name": "stderr",
     "output_type": "stream",
     "text": [
      " 42%|████▏     | 38/90 [03:01<04:23,  5.08s/it]"
     ]
    },
    {
     "name": "stdout",
     "output_type": "stream",
     "text": []
    },
    {
     "name": "stdout",
     "output_type": "stream",
     "text": [
      "\n"
     ]
    },
    {
     "name": "stderr",
     "output_type": "stream",
     "text": [
      " 43%|████▎     | 39/90 [03:07<04:28,  5.27s/it]"
     ]
    },
    {
     "name": "stdout",
     "output_type": "stream",
     "text": []
    },
    {
     "name": "stdout",
     "output_type": "stream",
     "text": [
      "\n"
     ]
    },
    {
     "name": "stderr",
     "output_type": "stream",
     "text": [
      " 44%|████▍     | 40/90 [03:15<04:59,  5.98s/it]"
     ]
    },
    {
     "name": "stdout",
     "output_type": "stream",
     "text": []
    },
    {
     "name": "stdout",
     "output_type": "stream",
     "text": [
      "\n"
     ]
    },
    {
     "name": "stderr",
     "output_type": "stream",
     "text": [
      " 46%|████▌     | 41/90 [03:18<04:19,  5.30s/it]"
     ]
    },
    {
     "name": "stdout",
     "output_type": "stream",
     "text": []
    },
    {
     "name": "stdout",
     "output_type": "stream",
     "text": [
      "\n"
     ]
    },
    {
     "name": "stderr",
     "output_type": "stream",
     "text": [
      " 47%|████▋     | 42/90 [03:24<04:25,  5.52s/it]"
     ]
    },
    {
     "name": "stdout",
     "output_type": "stream",
     "text": []
    },
    {
     "name": "stdout",
     "output_type": "stream",
     "text": [
      "\n"
     ]
    },
    {
     "name": "stderr",
     "output_type": "stream",
     "text": [
      " 48%|████▊     | 43/90 [03:29<04:08,  5.28s/it]"
     ]
    },
    {
     "name": "stdout",
     "output_type": "stream",
     "text": []
    },
    {
     "name": "stdout",
     "output_type": "stream",
     "text": [
      "\n"
     ]
    },
    {
     "name": "stderr",
     "output_type": "stream",
     "text": [
      " 49%|████▉     | 44/90 [03:33<03:43,  4.87s/it]"
     ]
    },
    {
     "name": "stdout",
     "output_type": "stream",
     "text": []
    },
    {
     "name": "stdout",
     "output_type": "stream",
     "text": [
      "\n"
     ]
    },
    {
     "name": "stderr",
     "output_type": "stream",
     "text": [
      " 50%|█████     | 45/90 [03:36<03:17,  4.38s/it]"
     ]
    },
    {
     "name": "stdout",
     "output_type": "stream",
     "text": []
    },
    {
     "name": "stdout",
     "output_type": "stream",
     "text": [
      "\n"
     ]
    },
    {
     "name": "stderr",
     "output_type": "stream",
     "text": [
      " 51%|█████     | 46/90 [03:44<03:50,  5.24s/it]"
     ]
    },
    {
     "name": "stdout",
     "output_type": "stream",
     "text": []
    },
    {
     "name": "stdout",
     "output_type": "stream",
     "text": [
      "\n"
     ]
    },
    {
     "name": "stderr",
     "output_type": "stream",
     "text": [
      " 52%|█████▏    | 47/90 [03:50<04:07,  5.75s/it]"
     ]
    },
    {
     "name": "stdout",
     "output_type": "stream",
     "text": []
    },
    {
     "name": "stdout",
     "output_type": "stream",
     "text": [
      "\n"
     ]
    },
    {
     "name": "stderr",
     "output_type": "stream",
     "text": [
      " 53%|█████▎    | 48/90 [03:56<04:01,  5.75s/it]"
     ]
    },
    {
     "name": "stdout",
     "output_type": "stream",
     "text": []
    },
    {
     "name": "stdout",
     "output_type": "stream",
     "text": [
      "\n"
     ]
    },
    {
     "name": "stderr",
     "output_type": "stream",
     "text": [
      " 54%|█████▍    | 49/90 [04:01<03:49,  5.61s/it]"
     ]
    },
    {
     "name": "stdout",
     "output_type": "stream",
     "text": []
    },
    {
     "name": "stdout",
     "output_type": "stream",
     "text": [
      "\n"
     ]
    },
    {
     "name": "stderr",
     "output_type": "stream",
     "text": [
      " 56%|█████▌    | 50/90 [04:05<03:24,  5.12s/it]"
     ]
    },
    {
     "name": "stdout",
     "output_type": "stream",
     "text": []
    },
    {
     "name": "stdout",
     "output_type": "stream",
     "text": [
      "\n"
     ]
    },
    {
     "name": "stderr",
     "output_type": "stream",
     "text": [
      " 57%|█████▋    | 51/90 [04:12<03:33,  5.48s/it]"
     ]
    },
    {
     "name": "stdout",
     "output_type": "stream",
     "text": []
    },
    {
     "name": "stdout",
     "output_type": "stream",
     "text": [
      "\n"
     ]
    },
    {
     "name": "stderr",
     "output_type": "stream",
     "text": [
      " 58%|█████▊    | 52/90 [04:17<03:27,  5.45s/it]"
     ]
    },
    {
     "name": "stdout",
     "output_type": "stream",
     "text": []
    },
    {
     "name": "stdout",
     "output_type": "stream",
     "text": [
      "\n"
     ]
    },
    {
     "name": "stderr",
     "output_type": "stream",
     "text": [
      " 59%|█████▉    | 53/90 [04:26<03:56,  6.40s/it]"
     ]
    },
    {
     "name": "stdout",
     "output_type": "stream",
     "text": []
    },
    {
     "name": "stdout",
     "output_type": "stream",
     "text": [
      "\n"
     ]
    },
    {
     "name": "stderr",
     "output_type": "stream",
     "text": [
      " 60%|██████    | 54/90 [04:32<03:51,  6.42s/it]"
     ]
    },
    {
     "name": "stdout",
     "output_type": "stream",
     "text": []
    },
    {
     "name": "stdout",
     "output_type": "stream",
     "text": [
      "\n"
     ]
    },
    {
     "name": "stderr",
     "output_type": "stream",
     "text": [
      " 61%|██████    | 55/90 [04:37<03:22,  5.78s/it]"
     ]
    },
    {
     "name": "stdout",
     "output_type": "stream",
     "text": []
    },
    {
     "name": "stdout",
     "output_type": "stream",
     "text": [
      "\n"
     ]
    },
    {
     "name": "stderr",
     "output_type": "stream",
     "text": [
      " 62%|██████▏   | 56/90 [04:41<03:04,  5.43s/it]"
     ]
    },
    {
     "name": "stdout",
     "output_type": "stream",
     "text": []
    },
    {
     "name": "stdout",
     "output_type": "stream",
     "text": [
      "\n"
     ]
    },
    {
     "name": "stderr",
     "output_type": "stream",
     "text": [
      " 63%|██████▎   | 57/90 [04:45<02:47,  5.08s/it]"
     ]
    },
    {
     "name": "stdout",
     "output_type": "stream",
     "text": []
    },
    {
     "name": "stdout",
     "output_type": "stream",
     "text": [
      "\n"
     ]
    },
    {
     "name": "stderr",
     "output_type": "stream",
     "text": [
      " 64%|██████▍   | 58/90 [04:51<02:48,  5.28s/it]"
     ]
    },
    {
     "name": "stdout",
     "output_type": "stream",
     "text": []
    },
    {
     "name": "stdout",
     "output_type": "stream",
     "text": [
      "\n"
     ]
    },
    {
     "name": "stderr",
     "output_type": "stream",
     "text": [
      " 66%|██████▌   | 59/90 [04:59<03:10,  6.14s/it]"
     ]
    },
    {
     "name": "stdout",
     "output_type": "stream",
     "text": []
    },
    {
     "name": "stdout",
     "output_type": "stream",
     "text": [
      "\n"
     ]
    },
    {
     "name": "stderr",
     "output_type": "stream",
     "text": [
      " 67%|██████▋   | 60/90 [05:07<03:16,  6.56s/it]"
     ]
    },
    {
     "name": "stdout",
     "output_type": "stream",
     "text": []
    },
    {
     "name": "stdout",
     "output_type": "stream",
     "text": [
      "\n"
     ]
    },
    {
     "name": "stderr",
     "output_type": "stream",
     "text": [
      " 68%|██████▊   | 61/90 [05:12<02:57,  6.12s/it]"
     ]
    },
    {
     "name": "stdout",
     "output_type": "stream",
     "text": []
    },
    {
     "name": "stdout",
     "output_type": "stream",
     "text": [
      "\n"
     ]
    },
    {
     "name": "stderr",
     "output_type": "stream",
     "text": [
      " 69%|██████▉   | 62/90 [05:15<02:27,  5.26s/it]"
     ]
    },
    {
     "name": "stdout",
     "output_type": "stream",
     "text": []
    },
    {
     "name": "stdout",
     "output_type": "stream",
     "text": [
      "\n"
     ]
    },
    {
     "name": "stderr",
     "output_type": "stream",
     "text": [
      " 70%|███████   | 63/90 [05:19<02:07,  4.74s/it]"
     ]
    },
    {
     "name": "stdout",
     "output_type": "stream",
     "text": []
    },
    {
     "name": "stdout",
     "output_type": "stream",
     "text": [
      "\n"
     ]
    },
    {
     "name": "stderr",
     "output_type": "stream",
     "text": [
      " 71%|███████   | 64/90 [05:23<02:02,  4.69s/it]"
     ]
    },
    {
     "name": "stdout",
     "output_type": "stream",
     "text": []
    },
    {
     "name": "stdout",
     "output_type": "stream",
     "text": [
      "\n"
     ]
    },
    {
     "name": "stderr",
     "output_type": "stream",
     "text": [
      " 72%|███████▏  | 65/90 [05:30<02:15,  5.44s/it]"
     ]
    },
    {
     "name": "stdout",
     "output_type": "stream",
     "text": []
    },
    {
     "name": "stdout",
     "output_type": "stream",
     "text": [
      "\n"
     ]
    },
    {
     "name": "stderr",
     "output_type": "stream",
     "text": [
      " 73%|███████▎  | 66/90 [05:35<02:01,  5.08s/it]"
     ]
    },
    {
     "name": "stdout",
     "output_type": "stream",
     "text": []
    },
    {
     "name": "stdout",
     "output_type": "stream",
     "text": [
      "\n"
     ]
    },
    {
     "name": "stderr",
     "output_type": "stream",
     "text": [
      " 74%|███████▍  | 67/90 [05:38<01:44,  4.53s/it]"
     ]
    },
    {
     "name": "stdout",
     "output_type": "stream",
     "text": []
    },
    {
     "name": "stdout",
     "output_type": "stream",
     "text": [
      "\n"
     ]
    },
    {
     "name": "stderr",
     "output_type": "stream",
     "text": [
      " 76%|███████▌  | 68/90 [05:41<01:31,  4.14s/it]"
     ]
    },
    {
     "name": "stdout",
     "output_type": "stream",
     "text": []
    },
    {
     "name": "stdout",
     "output_type": "stream",
     "text": [
      "\n"
     ]
    },
    {
     "name": "stderr",
     "output_type": "stream",
     "text": [
      " 77%|███████▋  | 69/90 [05:44<01:21,  3.88s/it]"
     ]
    },
    {
     "name": "stdout",
     "output_type": "stream",
     "text": []
    },
    {
     "name": "stdout",
     "output_type": "stream",
     "text": [
      "\n"
     ]
    },
    {
     "name": "stderr",
     "output_type": "stream",
     "text": [
      " 78%|███████▊  | 70/90 [05:49<01:18,  3.94s/it]"
     ]
    },
    {
     "name": "stdout",
     "output_type": "stream",
     "text": []
    },
    {
     "name": "stdout",
     "output_type": "stream",
     "text": [
      "\n"
     ]
    },
    {
     "name": "stderr",
     "output_type": "stream",
     "text": [
      " 79%|███████▉  | 71/90 [05:52<01:11,  3.76s/it]"
     ]
    },
    {
     "name": "stdout",
     "output_type": "stream",
     "text": []
    },
    {
     "name": "stdout",
     "output_type": "stream",
     "text": [
      "\n"
     ]
    },
    {
     "name": "stderr",
     "output_type": "stream",
     "text": [
      " 80%|████████  | 72/90 [05:57<01:16,  4.24s/it]"
     ]
    },
    {
     "name": "stdout",
     "output_type": "stream",
     "text": []
    },
    {
     "name": "stdout",
     "output_type": "stream",
     "text": [
      "\n"
     ]
    },
    {
     "name": "stderr",
     "output_type": "stream",
     "text": [
      " 81%|████████  | 73/90 [06:02<01:16,  4.52s/it]"
     ]
    },
    {
     "name": "stdout",
     "output_type": "stream",
     "text": []
    },
    {
     "name": "stdout",
     "output_type": "stream",
     "text": [
      "\n"
     ]
    },
    {
     "name": "stderr",
     "output_type": "stream",
     "text": [
      " 82%|████████▏ | 74/90 [06:07<01:12,  4.55s/it]"
     ]
    },
    {
     "name": "stdout",
     "output_type": "stream",
     "text": []
    },
    {
     "name": "stdout",
     "output_type": "stream",
     "text": [
      "\n"
     ]
    },
    {
     "name": "stderr",
     "output_type": "stream",
     "text": [
      " 83%|████████▎ | 75/90 [06:12<01:09,  4.61s/it]"
     ]
    },
    {
     "name": "stdout",
     "output_type": "stream",
     "text": []
    },
    {
     "name": "stdout",
     "output_type": "stream",
     "text": [
      "\n"
     ]
    },
    {
     "name": "stderr",
     "output_type": "stream",
     "text": [
      " 84%|████████▍ | 76/90 [06:15<00:56,  4.06s/it]"
     ]
    },
    {
     "name": "stdout",
     "output_type": "stream",
     "text": []
    },
    {
     "name": "stdout",
     "output_type": "stream",
     "text": [
      "\n"
     ]
    },
    {
     "name": "stderr",
     "output_type": "stream",
     "text": [
      " 86%|████████▌ | 77/90 [06:18<00:48,  3.75s/it]"
     ]
    },
    {
     "name": "stdout",
     "output_type": "stream",
     "text": []
    },
    {
     "name": "stdout",
     "output_type": "stream",
     "text": [
      "\n"
     ]
    },
    {
     "name": "stderr",
     "output_type": "stream",
     "text": [
      " 87%|████████▋ | 78/90 [06:20<00:41,  3.48s/it]"
     ]
    },
    {
     "name": "stdout",
     "output_type": "stream",
     "text": []
    },
    {
     "name": "stdout",
     "output_type": "stream",
     "text": [
      "\n"
     ]
    },
    {
     "name": "stderr",
     "output_type": "stream",
     "text": [
      " 88%|████████▊ | 79/90 [06:23<00:36,  3.28s/it]"
     ]
    },
    {
     "name": "stdout",
     "output_type": "stream",
     "text": []
    },
    {
     "name": "stdout",
     "output_type": "stream",
     "text": [
      "\n"
     ]
    },
    {
     "name": "stderr",
     "output_type": "stream",
     "text": [
      " 89%|████████▉ | 80/90 [06:29<00:39,  3.96s/it]"
     ]
    },
    {
     "name": "stdout",
     "output_type": "stream",
     "text": []
    },
    {
     "name": "stdout",
     "output_type": "stream",
     "text": [
      "\n"
     ]
    },
    {
     "name": "stderr",
     "output_type": "stream",
     "text": [
      " 90%|█████████ | 81/90 [06:33<00:36,  4.11s/it]"
     ]
    },
    {
     "name": "stdout",
     "output_type": "stream",
     "text": []
    },
    {
     "name": "stdout",
     "output_type": "stream",
     "text": [
      "\n"
     ]
    },
    {
     "name": "stderr",
     "output_type": "stream",
     "text": [
      " 91%|█████████ | 82/90 [06:38<00:33,  4.20s/it]"
     ]
    },
    {
     "name": "stdout",
     "output_type": "stream",
     "text": []
    },
    {
     "name": "stdout",
     "output_type": "stream",
     "text": [
      "\n"
     ]
    },
    {
     "name": "stderr",
     "output_type": "stream",
     "text": [
      " 92%|█████████▏| 83/90 [06:43<00:32,  4.58s/it]"
     ]
    },
    {
     "name": "stdout",
     "output_type": "stream",
     "text": []
    },
    {
     "name": "stdout",
     "output_type": "stream",
     "text": [
      "\n"
     ]
    },
    {
     "name": "stderr",
     "output_type": "stream",
     "text": [
      " 93%|█████████▎| 84/90 [06:46<00:23,  3.99s/it]"
     ]
    },
    {
     "name": "stdout",
     "output_type": "stream",
     "text": []
    },
    {
     "name": "stdout",
     "output_type": "stream",
     "text": [
      "\n"
     ]
    },
    {
     "name": "stderr",
     "output_type": "stream",
     "text": [
      " 94%|█████████▍| 85/90 [06:49<00:18,  3.72s/it]"
     ]
    },
    {
     "name": "stdout",
     "output_type": "stream",
     "text": []
    },
    {
     "name": "stdout",
     "output_type": "stream",
     "text": [
      "\n"
     ]
    },
    {
     "name": "stderr",
     "output_type": "stream",
     "text": [
      " 96%|█████████▌| 86/90 [06:53<00:15,  3.82s/it]"
     ]
    },
    {
     "name": "stdout",
     "output_type": "stream",
     "text": []
    },
    {
     "name": "stdout",
     "output_type": "stream",
     "text": [
      "\n"
     ]
    },
    {
     "name": "stderr",
     "output_type": "stream",
     "text": [
      " 97%|█████████▋| 87/90 [06:58<00:12,  4.07s/it]"
     ]
    },
    {
     "name": "stdout",
     "output_type": "stream",
     "text": []
    },
    {
     "name": "stdout",
     "output_type": "stream",
     "text": [
      "\n"
     ]
    },
    {
     "name": "stderr",
     "output_type": "stream",
     "text": [
      " 98%|█████████▊| 88/90 [07:02<00:08,  4.12s/it]"
     ]
    },
    {
     "name": "stdout",
     "output_type": "stream",
     "text": []
    },
    {
     "name": "stdout",
     "output_type": "stream",
     "text": [
      "\n"
     ]
    },
    {
     "name": "stderr",
     "output_type": "stream",
     "text": [
      " 99%|█████████▉| 89/90 [07:06<00:04,  4.23s/it]"
     ]
    },
    {
     "name": "stdout",
     "output_type": "stream",
     "text": []
    },
    {
     "name": "stdout",
     "output_type": "stream",
     "text": [
      "\n"
     ]
    },
    {
     "name": "stderr",
     "output_type": "stream",
     "text": [
      "100%|██████████| 90/90 [07:10<00:00,  4.01s/it]\n",
      "  0%|          | 0/90 [00:00<?, ?it/s]"
     ]
    },
    {
     "name": "stdout",
     "output_type": "stream",
     "text": []
    },
    {
     "name": "stdout",
     "output_type": "stream",
     "text": [
      "\n"
     ]
    },
    {
     "name": "stderr",
     "output_type": "stream",
     "text": [
      "  1%|          | 1/90 [00:03<04:56,  3.33s/it]"
     ]
    },
    {
     "name": "stdout",
     "output_type": "stream",
     "text": []
    },
    {
     "name": "stdout",
     "output_type": "stream",
     "text": [
      "\n"
     ]
    },
    {
     "name": "stderr",
     "output_type": "stream",
     "text": [
      "  2%|▏         | 2/90 [00:07<05:12,  3.55s/it]"
     ]
    },
    {
     "name": "stdout",
     "output_type": "stream",
     "text": []
    },
    {
     "name": "stdout",
     "output_type": "stream",
     "text": [
      "\n"
     ]
    },
    {
     "name": "stderr",
     "output_type": "stream",
     "text": [
      "  3%|▎         | 3/90 [00:10<04:54,  3.38s/it]"
     ]
    },
    {
     "name": "stdout",
     "output_type": "stream",
     "text": []
    },
    {
     "name": "stdout",
     "output_type": "stream",
     "text": [
      "\n"
     ]
    },
    {
     "name": "stderr",
     "output_type": "stream",
     "text": [
      "  4%|▍         | 4/90 [00:13<04:44,  3.30s/it]"
     ]
    },
    {
     "name": "stdout",
     "output_type": "stream",
     "text": []
    },
    {
     "name": "stdout",
     "output_type": "stream",
     "text": [
      "\n"
     ]
    },
    {
     "name": "stderr",
     "output_type": "stream",
     "text": [
      "  6%|▌         | 5/90 [00:15<04:06,  2.90s/it]"
     ]
    },
    {
     "name": "stdout",
     "output_type": "stream",
     "text": []
    },
    {
     "name": "stdout",
     "output_type": "stream",
     "text": [
      "\n"
     ]
    },
    {
     "name": "stderr",
     "output_type": "stream",
     "text": [
      "  7%|▋         | 6/90 [00:18<04:17,  3.06s/it]"
     ]
    },
    {
     "name": "stdout",
     "output_type": "stream",
     "text": []
    },
    {
     "name": "stdout",
     "output_type": "stream",
     "text": [
      "\n"
     ]
    },
    {
     "name": "stderr",
     "output_type": "stream",
     "text": [
      "  8%|▊         | 7/90 [00:22<04:36,  3.33s/it]"
     ]
    },
    {
     "name": "stdout",
     "output_type": "stream",
     "text": []
    },
    {
     "name": "stdout",
     "output_type": "stream",
     "text": [
      "\n"
     ]
    },
    {
     "name": "stderr",
     "output_type": "stream",
     "text": [
      "  9%|▉         | 8/90 [00:25<04:19,  3.17s/it]"
     ]
    },
    {
     "name": "stdout",
     "output_type": "stream",
     "text": []
    },
    {
     "name": "stdout",
     "output_type": "stream",
     "text": [
      "\n"
     ]
    },
    {
     "name": "stderr",
     "output_type": "stream",
     "text": [
      " 10%|█         | 9/90 [00:28<04:07,  3.05s/it]"
     ]
    },
    {
     "name": "stdout",
     "output_type": "stream",
     "text": []
    },
    {
     "name": "stdout",
     "output_type": "stream",
     "text": [
      "\n"
     ]
    },
    {
     "name": "stderr",
     "output_type": "stream",
     "text": [
      " 11%|█         | 10/90 [00:31<04:10,  3.13s/it]"
     ]
    },
    {
     "name": "stdout",
     "output_type": "stream",
     "text": []
    },
    {
     "name": "stdout",
     "output_type": "stream",
     "text": [
      "\n"
     ]
    },
    {
     "name": "stderr",
     "output_type": "stream",
     "text": [
      " 12%|█▏        | 11/90 [00:36<04:45,  3.62s/it]"
     ]
    },
    {
     "name": "stdout",
     "output_type": "stream",
     "text": []
    },
    {
     "name": "stdout",
     "output_type": "stream",
     "text": [
      "\n"
     ]
    },
    {
     "name": "stderr",
     "output_type": "stream",
     "text": [
      " 13%|█▎        | 12/90 [00:39<04:26,  3.42s/it]"
     ]
    },
    {
     "name": "stdout",
     "output_type": "stream",
     "text": []
    },
    {
     "name": "stdout",
     "output_type": "stream",
     "text": [
      "\n"
     ]
    },
    {
     "name": "stderr",
     "output_type": "stream",
     "text": [
      " 14%|█▍        | 13/90 [00:42<04:15,  3.32s/it]"
     ]
    },
    {
     "name": "stdout",
     "output_type": "stream",
     "text": []
    },
    {
     "name": "stdout",
     "output_type": "stream",
     "text": [
      "\n"
     ]
    },
    {
     "name": "stderr",
     "output_type": "stream",
     "text": [
      " 16%|█▌        | 14/90 [00:46<04:16,  3.37s/it]"
     ]
    },
    {
     "name": "stdout",
     "output_type": "stream",
     "text": []
    },
    {
     "name": "stdout",
     "output_type": "stream",
     "text": [
      "\n"
     ]
    },
    {
     "name": "stderr",
     "output_type": "stream",
     "text": [
      " 17%|█▋        | 15/90 [00:48<03:44,  2.99s/it]"
     ]
    },
    {
     "name": "stdout",
     "output_type": "stream",
     "text": []
    },
    {
     "name": "stdout",
     "output_type": "stream",
     "text": [
      "\n"
     ]
    },
    {
     "name": "stderr",
     "output_type": "stream",
     "text": [
      " 18%|█▊        | 16/90 [00:50<03:25,  2.78s/it]"
     ]
    },
    {
     "name": "stdout",
     "output_type": "stream",
     "text": []
    },
    {
     "name": "stdout",
     "output_type": "stream",
     "text": [
      "\n"
     ]
    },
    {
     "name": "stderr",
     "output_type": "stream",
     "text": [
      " 19%|█▉        | 17/90 [00:54<03:45,  3.09s/it]"
     ]
    },
    {
     "name": "stdout",
     "output_type": "stream",
     "text": []
    },
    {
     "name": "stdout",
     "output_type": "stream",
     "text": [
      "\n"
     ]
    },
    {
     "name": "stderr",
     "output_type": "stream",
     "text": [
      " 20%|██        | 18/90 [00:56<03:25,  2.86s/it]"
     ]
    },
    {
     "name": "stdout",
     "output_type": "stream",
     "text": []
    },
    {
     "name": "stdout",
     "output_type": "stream",
     "text": [
      "\n"
     ]
    },
    {
     "name": "stderr",
     "output_type": "stream",
     "text": [
      " 21%|██        | 19/90 [00:59<03:29,  2.96s/it]"
     ]
    },
    {
     "name": "stdout",
     "output_type": "stream",
     "text": []
    },
    {
     "name": "stdout",
     "output_type": "stream",
     "text": [
      "\n"
     ]
    },
    {
     "name": "stderr",
     "output_type": "stream",
     "text": [
      " 22%|██▏       | 20/90 [01:01<03:09,  2.71s/it]"
     ]
    },
    {
     "name": "stdout",
     "output_type": "stream",
     "text": []
    },
    {
     "name": "stdout",
     "output_type": "stream",
     "text": [
      "\n"
     ]
    },
    {
     "name": "stderr",
     "output_type": "stream",
     "text": [
      " 23%|██▎       | 21/90 [01:04<02:56,  2.56s/it]"
     ]
    },
    {
     "name": "stdout",
     "output_type": "stream",
     "text": []
    },
    {
     "name": "stdout",
     "output_type": "stream",
     "text": [
      "\n"
     ]
    },
    {
     "name": "stderr",
     "output_type": "stream",
     "text": [
      " 24%|██▍       | 22/90 [01:09<03:59,  3.53s/it]"
     ]
    },
    {
     "name": "stdout",
     "output_type": "stream",
     "text": []
    },
    {
     "name": "stdout",
     "output_type": "stream",
     "text": [
      "\n"
     ]
    },
    {
     "name": "stderr",
     "output_type": "stream",
     "text": [
      " 26%|██▌       | 23/90 [01:13<03:53,  3.49s/it]"
     ]
    },
    {
     "name": "stdout",
     "output_type": "stream",
     "text": []
    },
    {
     "name": "stdout",
     "output_type": "stream",
     "text": [
      "\n"
     ]
    },
    {
     "name": "stderr",
     "output_type": "stream",
     "text": [
      " 27%|██▋       | 24/90 [01:15<03:26,  3.12s/it]"
     ]
    },
    {
     "name": "stdout",
     "output_type": "stream",
     "text": []
    },
    {
     "name": "stdout",
     "output_type": "stream",
     "text": [
      "\n"
     ]
    },
    {
     "name": "stderr",
     "output_type": "stream",
     "text": [
      " 28%|██▊       | 25/90 [01:21<04:24,  4.07s/it]"
     ]
    },
    {
     "name": "stdout",
     "output_type": "stream",
     "text": []
    },
    {
     "name": "stdout",
     "output_type": "stream",
     "text": [
      "\n"
     ]
    },
    {
     "name": "stderr",
     "output_type": "stream",
     "text": [
      " 29%|██▉       | 26/90 [01:24<03:52,  3.64s/it]"
     ]
    },
    {
     "name": "stdout",
     "output_type": "stream",
     "text": []
    },
    {
     "name": "stdout",
     "output_type": "stream",
     "text": [
      "\n"
     ]
    },
    {
     "name": "stderr",
     "output_type": "stream",
     "text": [
      " 30%|███       | 27/90 [01:28<03:53,  3.70s/it]"
     ]
    },
    {
     "name": "stdout",
     "output_type": "stream",
     "text": []
    },
    {
     "name": "stdout",
     "output_type": "stream",
     "text": [
      "\n"
     ]
    },
    {
     "name": "stderr",
     "output_type": "stream",
     "text": [
      " 31%|███       | 28/90 [01:33<04:17,  4.15s/it]"
     ]
    },
    {
     "name": "stdout",
     "output_type": "stream",
     "text": []
    },
    {
     "name": "stdout",
     "output_type": "stream",
     "text": [
      "\n"
     ]
    },
    {
     "name": "stderr",
     "output_type": "stream",
     "text": [
      " 32%|███▏      | 29/90 [01:35<03:36,  3.56s/it]"
     ]
    },
    {
     "name": "stdout",
     "output_type": "stream",
     "text": []
    },
    {
     "name": "stdout",
     "output_type": "stream",
     "text": [
      "\n"
     ]
    },
    {
     "name": "stderr",
     "output_type": "stream",
     "text": [
      " 33%|███▎      | 30/90 [01:38<03:19,  3.33s/it]"
     ]
    },
    {
     "name": "stdout",
     "output_type": "stream",
     "text": []
    },
    {
     "name": "stdout",
     "output_type": "stream",
     "text": [
      "\n"
     ]
    },
    {
     "name": "stderr",
     "output_type": "stream",
     "text": [
      " 34%|███▍      | 31/90 [01:43<03:48,  3.88s/it]"
     ]
    },
    {
     "name": "stdout",
     "output_type": "stream",
     "text": []
    },
    {
     "name": "stdout",
     "output_type": "stream",
     "text": [
      "\n"
     ]
    },
    {
     "name": "stderr",
     "output_type": "stream",
     "text": [
      " 36%|███▌      | 32/90 [01:48<03:54,  4.04s/it]"
     ]
    },
    {
     "name": "stdout",
     "output_type": "stream",
     "text": []
    },
    {
     "name": "stdout",
     "output_type": "stream",
     "text": [
      "\n"
     ]
    },
    {
     "name": "stderr",
     "output_type": "stream",
     "text": [
      " 37%|███▋      | 33/90 [01:50<03:18,  3.48s/it]"
     ]
    },
    {
     "name": "stdout",
     "output_type": "stream",
     "text": []
    },
    {
     "name": "stdout",
     "output_type": "stream",
     "text": [
      "\n"
     ]
    },
    {
     "name": "stderr",
     "output_type": "stream",
     "text": [
      " 38%|███▊      | 34/90 [01:54<03:26,  3.69s/it]"
     ]
    },
    {
     "name": "stdout",
     "output_type": "stream",
     "text": []
    },
    {
     "name": "stdout",
     "output_type": "stream",
     "text": [
      "\n"
     ]
    },
    {
     "name": "stderr",
     "output_type": "stream",
     "text": [
      " 39%|███▉      | 35/90 [01:57<03:13,  3.51s/it]"
     ]
    },
    {
     "name": "stdout",
     "output_type": "stream",
     "text": []
    },
    {
     "name": "stdout",
     "output_type": "stream",
     "text": [
      "\n"
     ]
    },
    {
     "name": "stderr",
     "output_type": "stream",
     "text": [
      " 40%|████      | 36/90 [02:03<03:53,  4.32s/it]"
     ]
    },
    {
     "name": "stdout",
     "output_type": "stream",
     "text": []
    },
    {
     "name": "stdout",
     "output_type": "stream",
     "text": [
      "\n"
     ]
    },
    {
     "name": "stderr",
     "output_type": "stream",
     "text": [
      " 41%|████      | 37/90 [02:06<03:16,  3.71s/it]"
     ]
    },
    {
     "name": "stdout",
     "output_type": "stream",
     "text": []
    },
    {
     "name": "stdout",
     "output_type": "stream",
     "text": [
      "\n"
     ]
    },
    {
     "name": "stderr",
     "output_type": "stream",
     "text": [
      " 42%|████▏     | 38/90 [02:11<03:40,  4.24s/it]"
     ]
    },
    {
     "name": "stdout",
     "output_type": "stream",
     "text": []
    },
    {
     "name": "stdout",
     "output_type": "stream",
     "text": [
      "\n"
     ]
    },
    {
     "name": "stderr",
     "output_type": "stream",
     "text": [
      " 43%|████▎     | 39/90 [02:14<03:17,  3.87s/it]"
     ]
    },
    {
     "name": "stdout",
     "output_type": "stream",
     "text": []
    },
    {
     "name": "stdout",
     "output_type": "stream",
     "text": [
      "\n"
     ]
    },
    {
     "name": "stderr",
     "output_type": "stream",
     "text": [
      " 44%|████▍     | 40/90 [02:17<03:00,  3.60s/it]"
     ]
    },
    {
     "name": "stdout",
     "output_type": "stream",
     "text": []
    },
    {
     "name": "stdout",
     "output_type": "stream",
     "text": [
      "\n"
     ]
    },
    {
     "name": "stderr",
     "output_type": "stream",
     "text": [
      " 46%|████▌     | 41/90 [02:21<02:58,  3.65s/it]"
     ]
    },
    {
     "name": "stdout",
     "output_type": "stream",
     "text": []
    },
    {
     "name": "stdout",
     "output_type": "stream",
     "text": [
      "\n"
     ]
    },
    {
     "name": "stderr",
     "output_type": "stream",
     "text": [
      " 47%|████▋     | 42/90 [02:24<02:49,  3.52s/it]"
     ]
    },
    {
     "name": "stdout",
     "output_type": "stream",
     "text": []
    },
    {
     "name": "stdout",
     "output_type": "stream",
     "text": [
      "\n"
     ]
    },
    {
     "name": "stderr",
     "output_type": "stream",
     "text": [
      " 48%|████▊     | 43/90 [02:28<02:53,  3.69s/it]"
     ]
    },
    {
     "name": "stdout",
     "output_type": "stream",
     "text": []
    },
    {
     "name": "stdout",
     "output_type": "stream",
     "text": [
      "\n"
     ]
    },
    {
     "name": "stderr",
     "output_type": "stream",
     "text": [
      " 49%|████▉     | 44/90 [02:31<02:44,  3.57s/it]"
     ]
    },
    {
     "name": "stdout",
     "output_type": "stream",
     "text": []
    },
    {
     "name": "stdout",
     "output_type": "stream",
     "text": [
      "\n"
     ]
    },
    {
     "name": "stderr",
     "output_type": "stream",
     "text": [
      " 50%|█████     | 45/90 [02:34<02:30,  3.34s/it]"
     ]
    },
    {
     "name": "stdout",
     "output_type": "stream",
     "text": []
    },
    {
     "name": "stdout",
     "output_type": "stream",
     "text": [
      "\n"
     ]
    },
    {
     "name": "stderr",
     "output_type": "stream",
     "text": [
      " 51%|█████     | 46/90 [02:38<02:32,  3.46s/it]"
     ]
    },
    {
     "name": "stdout",
     "output_type": "stream",
     "text": []
    },
    {
     "name": "stdout",
     "output_type": "stream",
     "text": [
      "\n"
     ]
    },
    {
     "name": "stderr",
     "output_type": "stream",
     "text": [
      " 52%|█████▏    | 47/90 [02:41<02:29,  3.48s/it]"
     ]
    },
    {
     "name": "stdout",
     "output_type": "stream",
     "text": []
    },
    {
     "name": "stdout",
     "output_type": "stream",
     "text": [
      "\n"
     ]
    },
    {
     "name": "stderr",
     "output_type": "stream",
     "text": [
      " 53%|█████▎    | 48/90 [02:45<02:29,  3.56s/it]"
     ]
    },
    {
     "name": "stdout",
     "output_type": "stream",
     "text": []
    },
    {
     "name": "stdout",
     "output_type": "stream",
     "text": [
      "\n"
     ]
    },
    {
     "name": "stderr",
     "output_type": "stream",
     "text": [
      " 54%|█████▍    | 49/90 [02:50<02:36,  3.81s/it]"
     ]
    },
    {
     "name": "stdout",
     "output_type": "stream",
     "text": []
    },
    {
     "name": "stdout",
     "output_type": "stream",
     "text": [
      "\n"
     ]
    },
    {
     "name": "stderr",
     "output_type": "stream",
     "text": [
      " 56%|█████▌    | 50/90 [02:55<02:47,  4.18s/it]"
     ]
    },
    {
     "name": "stdout",
     "output_type": "stream",
     "text": []
    },
    {
     "name": "stdout",
     "output_type": "stream",
     "text": [
      "\n"
     ]
    },
    {
     "name": "stderr",
     "output_type": "stream",
     "text": [
      " 57%|█████▋    | 51/90 [02:59<02:40,  4.11s/it]"
     ]
    },
    {
     "name": "stdout",
     "output_type": "stream",
     "text": []
    },
    {
     "name": "stdout",
     "output_type": "stream",
     "text": [
      "\n"
     ]
    },
    {
     "name": "stderr",
     "output_type": "stream",
     "text": [
      " 58%|█████▊    | 52/90 [03:02<02:24,  3.81s/it]"
     ]
    },
    {
     "name": "stdout",
     "output_type": "stream",
     "text": []
    },
    {
     "name": "stdout",
     "output_type": "stream",
     "text": [
      "\n"
     ]
    },
    {
     "name": "stderr",
     "output_type": "stream",
     "text": [
      " 59%|█████▉    | 53/90 [03:06<02:32,  4.11s/it]"
     ]
    },
    {
     "name": "stdout",
     "output_type": "stream",
     "text": []
    },
    {
     "name": "stdout",
     "output_type": "stream",
     "text": [
      "\n"
     ]
    },
    {
     "name": "stderr",
     "output_type": "stream",
     "text": [
      " 60%|██████    | 54/90 [03:11<02:30,  4.18s/it]"
     ]
    },
    {
     "name": "stdout",
     "output_type": "stream",
     "text": []
    },
    {
     "name": "stdout",
     "output_type": "stream",
     "text": [
      "\n"
     ]
    },
    {
     "name": "stderr",
     "output_type": "stream",
     "text": [
      " 61%|██████    | 55/90 [03:14<02:12,  3.80s/it]"
     ]
    },
    {
     "name": "stdout",
     "output_type": "stream",
     "text": []
    },
    {
     "name": "stdout",
     "output_type": "stream",
     "text": [
      "\n"
     ]
    },
    {
     "name": "stderr",
     "output_type": "stream",
     "text": [
      " 62%|██████▏   | 56/90 [03:17<02:04,  3.67s/it]"
     ]
    },
    {
     "name": "stdout",
     "output_type": "stream",
     "text": []
    },
    {
     "name": "stdout",
     "output_type": "stream",
     "text": [
      "\n"
     ]
    },
    {
     "name": "stderr",
     "output_type": "stream",
     "text": [
      " 63%|██████▎   | 57/90 [03:19<01:48,  3.29s/it]"
     ]
    },
    {
     "name": "stdout",
     "output_type": "stream",
     "text": []
    },
    {
     "name": "stdout",
     "output_type": "stream",
     "text": [
      "\n"
     ]
    },
    {
     "name": "stderr",
     "output_type": "stream",
     "text": [
      " 64%|██████▍   | 58/90 [03:23<01:49,  3.41s/it]"
     ]
    },
    {
     "name": "stdout",
     "output_type": "stream",
     "text": []
    },
    {
     "name": "stdout",
     "output_type": "stream",
     "text": [
      "\n"
     ]
    },
    {
     "name": "stderr",
     "output_type": "stream",
     "text": [
      " 66%|██████▌   | 59/90 [03:29<02:08,  4.15s/it]"
     ]
    },
    {
     "name": "stdout",
     "output_type": "stream",
     "text": []
    },
    {
     "name": "stdout",
     "output_type": "stream",
     "text": [
      "\n"
     ]
    },
    {
     "name": "stderr",
     "output_type": "stream",
     "text": [
      " 67%|██████▋   | 60/90 [03:34<02:15,  4.53s/it]"
     ]
    },
    {
     "name": "stdout",
     "output_type": "stream",
     "text": []
    },
    {
     "name": "stdout",
     "output_type": "stream",
     "text": [
      "\n"
     ]
    },
    {
     "name": "stderr",
     "output_type": "stream",
     "text": [
      " 68%|██████▊   | 61/90 [03:38<02:02,  4.22s/it]"
     ]
    },
    {
     "name": "stdout",
     "output_type": "stream",
     "text": []
    },
    {
     "name": "stdout",
     "output_type": "stream",
     "text": [
      "\n"
     ]
    },
    {
     "name": "stderr",
     "output_type": "stream",
     "text": [
      " 69%|██████▉   | 62/90 [03:42<01:53,  4.07s/it]"
     ]
    },
    {
     "name": "stdout",
     "output_type": "stream",
     "text": []
    },
    {
     "name": "stdout",
     "output_type": "stream",
     "text": [
      "\n"
     ]
    },
    {
     "name": "stderr",
     "output_type": "stream",
     "text": [
      " 70%|███████   | 63/90 [03:46<01:50,  4.11s/it]"
     ]
    },
    {
     "name": "stdout",
     "output_type": "stream",
     "text": []
    },
    {
     "name": "stdout",
     "output_type": "stream",
     "text": [
      "\n"
     ]
    },
    {
     "name": "stderr",
     "output_type": "stream",
     "text": [
      " 71%|███████   | 64/90 [03:51<01:56,  4.48s/it]"
     ]
    },
    {
     "name": "stdout",
     "output_type": "stream",
     "text": []
    },
    {
     "name": "stdout",
     "output_type": "stream",
     "text": [
      "\n"
     ]
    },
    {
     "name": "stderr",
     "output_type": "stream",
     "text": [
      " 72%|███████▏  | 65/90 [03:55<01:45,  4.23s/it]"
     ]
    },
    {
     "name": "stdout",
     "output_type": "stream",
     "text": []
    },
    {
     "name": "stdout",
     "output_type": "stream",
     "text": [
      "\n"
     ]
    },
    {
     "name": "stderr",
     "output_type": "stream",
     "text": [
      " 73%|███████▎  | 66/90 [03:58<01:33,  3.89s/it]"
     ]
    },
    {
     "name": "stdout",
     "output_type": "stream",
     "text": []
    },
    {
     "name": "stdout",
     "output_type": "stream",
     "text": [
      "\n"
     ]
    },
    {
     "name": "stderr",
     "output_type": "stream",
     "text": [
      " 74%|███████▍  | 67/90 [04:03<01:38,  4.30s/it]"
     ]
    },
    {
     "name": "stdout",
     "output_type": "stream",
     "text": []
    },
    {
     "name": "stdout",
     "output_type": "stream",
     "text": [
      "\n"
     ]
    },
    {
     "name": "stderr",
     "output_type": "stream",
     "text": [
      " 76%|███████▌  | 68/90 [04:07<01:31,  4.14s/it]"
     ]
    },
    {
     "name": "stdout",
     "output_type": "stream",
     "text": []
    },
    {
     "name": "stdout",
     "output_type": "stream",
     "text": [
      "\n"
     ]
    },
    {
     "name": "stderr",
     "output_type": "stream",
     "text": [
      " 77%|███████▋  | 69/90 [04:10<01:20,  3.82s/it]"
     ]
    },
    {
     "name": "stdout",
     "output_type": "stream",
     "text": []
    },
    {
     "name": "stdout",
     "output_type": "stream",
     "text": [
      "\n"
     ]
    },
    {
     "name": "stderr",
     "output_type": "stream",
     "text": [
      " 78%|███████▊  | 70/90 [04:16<01:31,  4.55s/it]"
     ]
    },
    {
     "name": "stdout",
     "output_type": "stream",
     "text": []
    },
    {
     "name": "stdout",
     "output_type": "stream",
     "text": [
      "\n"
     ]
    },
    {
     "name": "stderr",
     "output_type": "stream",
     "text": [
      " 79%|███████▉  | 71/90 [04:19<01:16,  4.00s/it]"
     ]
    },
    {
     "name": "stdout",
     "output_type": "stream",
     "text": []
    },
    {
     "name": "stdout",
     "output_type": "stream",
     "text": [
      "\n"
     ]
    },
    {
     "name": "stderr",
     "output_type": "stream",
     "text": [
      " 80%|████████  | 72/90 [04:24<01:15,  4.21s/it]"
     ]
    },
    {
     "name": "stdout",
     "output_type": "stream",
     "text": []
    },
    {
     "name": "stdout",
     "output_type": "stream",
     "text": [
      "\n"
     ]
    },
    {
     "name": "stderr",
     "output_type": "stream",
     "text": [
      " 81%|████████  | 73/90 [04:29<01:15,  4.44s/it]"
     ]
    },
    {
     "name": "stdout",
     "output_type": "stream",
     "text": []
    },
    {
     "name": "stdout",
     "output_type": "stream",
     "text": [
      "\n"
     ]
    },
    {
     "name": "stderr",
     "output_type": "stream",
     "text": [
      " 82%|████████▏ | 74/90 [04:35<01:19,  4.98s/it]"
     ]
    },
    {
     "name": "stdout",
     "output_type": "stream",
     "text": []
    },
    {
     "name": "stdout",
     "output_type": "stream",
     "text": [
      "\n"
     ]
    },
    {
     "name": "stderr",
     "output_type": "stream",
     "text": [
      " 83%|████████▎ | 75/90 [04:38<01:06,  4.40s/it]"
     ]
    },
    {
     "name": "stdout",
     "output_type": "stream",
     "text": []
    },
    {
     "name": "stdout",
     "output_type": "stream",
     "text": [
      "\n"
     ]
    },
    {
     "name": "stderr",
     "output_type": "stream",
     "text": [
      " 84%|████████▍ | 76/90 [04:43<01:03,  4.51s/it]"
     ]
    },
    {
     "name": "stdout",
     "output_type": "stream",
     "text": []
    },
    {
     "name": "stdout",
     "output_type": "stream",
     "text": [
      "\n"
     ]
    },
    {
     "name": "stderr",
     "output_type": "stream",
     "text": [
      " 86%|████████▌ | 77/90 [04:46<00:54,  4.17s/it]"
     ]
    },
    {
     "name": "stdout",
     "output_type": "stream",
     "text": []
    },
    {
     "name": "stdout",
     "output_type": "stream",
     "text": [
      "\n"
     ]
    },
    {
     "name": "stderr",
     "output_type": "stream",
     "text": [
      " 87%|████████▋ | 78/90 [04:49<00:45,  3.81s/it]"
     ]
    },
    {
     "name": "stdout",
     "output_type": "stream",
     "text": []
    },
    {
     "name": "stdout",
     "output_type": "stream",
     "text": [
      "\n"
     ]
    },
    {
     "name": "stderr",
     "output_type": "stream",
     "text": [
      " 88%|████████▊ | 79/90 [04:53<00:43,  3.93s/it]"
     ]
    },
    {
     "name": "stdout",
     "output_type": "stream",
     "text": []
    },
    {
     "name": "stdout",
     "output_type": "stream",
     "text": [
      "\n"
     ]
    },
    {
     "name": "stderr",
     "output_type": "stream",
     "text": [
      " 89%|████████▉ | 80/90 [04:58<00:40,  4.09s/it]"
     ]
    },
    {
     "name": "stdout",
     "output_type": "stream",
     "text": []
    },
    {
     "name": "stdout",
     "output_type": "stream",
     "text": [
      "\n"
     ]
    },
    {
     "name": "stderr",
     "output_type": "stream",
     "text": [
      " 90%|█████████ | 81/90 [05:05<00:45,  5.01s/it]"
     ]
    },
    {
     "name": "stdout",
     "output_type": "stream",
     "text": []
    },
    {
     "name": "stdout",
     "output_type": "stream",
     "text": [
      "\n"
     ]
    },
    {
     "name": "stderr",
     "output_type": "stream",
     "text": [
      " 91%|█████████ | 82/90 [05:11<00:42,  5.32s/it]"
     ]
    },
    {
     "name": "stdout",
     "output_type": "stream",
     "text": []
    },
    {
     "name": "stdout",
     "output_type": "stream",
     "text": [
      "\n"
     ]
    },
    {
     "name": "stderr",
     "output_type": "stream",
     "text": [
      " 92%|█████████▏| 83/90 [05:16<00:35,  5.14s/it]"
     ]
    },
    {
     "name": "stdout",
     "output_type": "stream",
     "text": []
    },
    {
     "name": "stdout",
     "output_type": "stream",
     "text": [
      "\n"
     ]
    },
    {
     "name": "stderr",
     "output_type": "stream",
     "text": [
      " 93%|█████████▎| 84/90 [05:20<00:30,  5.02s/it]"
     ]
    },
    {
     "name": "stdout",
     "output_type": "stream",
     "text": []
    },
    {
     "name": "stdout",
     "output_type": "stream",
     "text": [
      "\n"
     ]
    },
    {
     "name": "stderr",
     "output_type": "stream",
     "text": [
      " 94%|█████████▍| 85/90 [05:23<00:21,  4.30s/it]"
     ]
    },
    {
     "name": "stdout",
     "output_type": "stream",
     "text": []
    },
    {
     "name": "stdout",
     "output_type": "stream",
     "text": [
      "\n"
     ]
    },
    {
     "name": "stderr",
     "output_type": "stream",
     "text": [
      " 96%|█████████▌| 86/90 [05:26<00:15,  3.99s/it]"
     ]
    },
    {
     "name": "stdout",
     "output_type": "stream",
     "text": []
    },
    {
     "name": "stdout",
     "output_type": "stream",
     "text": [
      "\n"
     ]
    },
    {
     "name": "stderr",
     "output_type": "stream",
     "text": [
      " 97%|█████████▋| 87/90 [05:29<00:11,  3.69s/it]"
     ]
    },
    {
     "name": "stdout",
     "output_type": "stream",
     "text": []
    },
    {
     "name": "stdout",
     "output_type": "stream",
     "text": [
      "\n"
     ]
    },
    {
     "name": "stderr",
     "output_type": "stream",
     "text": [
      " 98%|█████████▊| 88/90 [05:32<00:06,  3.25s/it]"
     ]
    },
    {
     "name": "stdout",
     "output_type": "stream",
     "text": []
    },
    {
     "name": "stdout",
     "output_type": "stream",
     "text": [
      "\n"
     ]
    },
    {
     "name": "stderr",
     "output_type": "stream",
     "text": [
      " 99%|█████████▉| 89/90 [05:36<00:03,  3.63s/it]"
     ]
    },
    {
     "name": "stdout",
     "output_type": "stream",
     "text": []
    },
    {
     "name": "stdout",
     "output_type": "stream",
     "text": [
      "\n"
     ]
    },
    {
     "name": "stderr",
     "output_type": "stream",
     "text": [
      "100%|██████████| 90/90 [05:41<00:00,  4.00s/it]\n",
      "  0%|          | 0/90 [00:00<?, ?it/s]"
     ]
    },
    {
     "name": "stdout",
     "output_type": "stream",
     "text": []
    },
    {
     "name": "stdout",
     "output_type": "stream",
     "text": [
      "\n"
     ]
    },
    {
     "name": "stderr",
     "output_type": "stream",
     "text": [
      "  1%|          | 1/90 [00:05<07:50,  5.29s/it]"
     ]
    },
    {
     "name": "stdout",
     "output_type": "stream",
     "text": []
    },
    {
     "name": "stdout",
     "output_type": "stream",
     "text": [
      "\n"
     ]
    },
    {
     "name": "stderr",
     "output_type": "stream",
     "text": [
      "  2%|▏         | 2/90 [00:12<08:32,  5.82s/it]"
     ]
    },
    {
     "name": "stdout",
     "output_type": "stream",
     "text": []
    },
    {
     "name": "stdout",
     "output_type": "stream",
     "text": [
      "\n"
     ]
    },
    {
     "name": "stderr",
     "output_type": "stream",
     "text": [
      "  3%|▎         | 3/90 [00:16<07:54,  5.45s/it]"
     ]
    },
    {
     "name": "stdout",
     "output_type": "stream",
     "text": []
    },
    {
     "name": "stdout",
     "output_type": "stream",
     "text": [
      "\n"
     ]
    },
    {
     "name": "stderr",
     "output_type": "stream",
     "text": [
      "  4%|▍         | 4/90 [00:21<07:17,  5.09s/it]"
     ]
    },
    {
     "name": "stdout",
     "output_type": "stream",
     "text": []
    },
    {
     "name": "stdout",
     "output_type": "stream",
     "text": [
      "\n"
     ]
    },
    {
     "name": "stderr",
     "output_type": "stream",
     "text": [
      "  6%|▌         | 5/90 [00:24<06:22,  4.50s/it]"
     ]
    },
    {
     "name": "stdout",
     "output_type": "stream",
     "text": []
    },
    {
     "name": "stdout",
     "output_type": "stream",
     "text": [
      "\n"
     ]
    },
    {
     "name": "stderr",
     "output_type": "stream",
     "text": [
      "  7%|▋         | 6/90 [00:29<06:32,  4.67s/it]"
     ]
    },
    {
     "name": "stdout",
     "output_type": "stream",
     "text": []
    },
    {
     "name": "stdout",
     "output_type": "stream",
     "text": [
      "\n"
     ]
    },
    {
     "name": "stderr",
     "output_type": "stream",
     "text": [
      "  8%|▊         | 7/90 [00:32<05:53,  4.26s/it]"
     ]
    },
    {
     "name": "stdout",
     "output_type": "stream",
     "text": []
    },
    {
     "name": "stdout",
     "output_type": "stream",
     "text": [
      "\n"
     ]
    },
    {
     "name": "stderr",
     "output_type": "stream",
     "text": [
      "  9%|▉         | 8/90 [00:36<05:26,  3.98s/it]"
     ]
    },
    {
     "name": "stdout",
     "output_type": "stream",
     "text": []
    },
    {
     "name": "stdout",
     "output_type": "stream",
     "text": [
      "\n"
     ]
    },
    {
     "name": "stderr",
     "output_type": "stream",
     "text": [
      " 10%|█         | 9/90 [00:40<05:43,  4.25s/it]"
     ]
    },
    {
     "name": "stdout",
     "output_type": "stream",
     "text": []
    },
    {
     "name": "stdout",
     "output_type": "stream",
     "text": [
      "\n"
     ]
    },
    {
     "name": "stderr",
     "output_type": "stream",
     "text": [
      " 11%|█         | 10/90 [00:46<06:05,  4.57s/it]"
     ]
    },
    {
     "name": "stdout",
     "output_type": "stream",
     "text": []
    },
    {
     "name": "stdout",
     "output_type": "stream",
     "text": [
      "\n"
     ]
    },
    {
     "name": "stderr",
     "output_type": "stream",
     "text": [
      " 12%|█▏        | 11/90 [00:51<06:11,  4.70s/it]"
     ]
    },
    {
     "name": "stdout",
     "output_type": "stream",
     "text": []
    },
    {
     "name": "stdout",
     "output_type": "stream",
     "text": [
      "\n"
     ]
    },
    {
     "name": "stderr",
     "output_type": "stream",
     "text": [
      " 13%|█▎        | 12/90 [00:56<06:10,  4.76s/it]"
     ]
    },
    {
     "name": "stdout",
     "output_type": "stream",
     "text": []
    },
    {
     "name": "stdout",
     "output_type": "stream",
     "text": [
      "\n"
     ]
    },
    {
     "name": "stderr",
     "output_type": "stream",
     "text": [
      " 14%|█▍        | 13/90 [01:01<06:09,  4.80s/it]"
     ]
    },
    {
     "name": "stdout",
     "output_type": "stream",
     "text": []
    },
    {
     "name": "stdout",
     "output_type": "stream",
     "text": [
      "\n"
     ]
    },
    {
     "name": "stderr",
     "output_type": "stream",
     "text": [
      " 16%|█▌        | 14/90 [01:05<06:06,  4.82s/it]"
     ]
    },
    {
     "name": "stdout",
     "output_type": "stream",
     "text": []
    },
    {
     "name": "stdout",
     "output_type": "stream",
     "text": [
      "\n"
     ]
    },
    {
     "name": "stderr",
     "output_type": "stream",
     "text": [
      " 17%|█▋        | 15/90 [01:09<05:35,  4.47s/it]"
     ]
    },
    {
     "name": "stdout",
     "output_type": "stream",
     "text": []
    },
    {
     "name": "stdout",
     "output_type": "stream",
     "text": [
      "\n"
     ]
    },
    {
     "name": "stderr",
     "output_type": "stream",
     "text": [
      " 18%|█▊        | 16/90 [01:14<05:45,  4.66s/it]"
     ]
    },
    {
     "name": "stdout",
     "output_type": "stream",
     "text": []
    },
    {
     "name": "stdout",
     "output_type": "stream",
     "text": [
      "\n"
     ]
    },
    {
     "name": "stderr",
     "output_type": "stream",
     "text": [
      " 19%|█▉        | 17/90 [01:20<05:57,  4.90s/it]"
     ]
    },
    {
     "name": "stdout",
     "output_type": "stream",
     "text": []
    },
    {
     "name": "stdout",
     "output_type": "stream",
     "text": [
      "\n"
     ]
    },
    {
     "name": "stderr",
     "output_type": "stream",
     "text": [
      " 20%|██        | 18/90 [01:23<05:24,  4.51s/it]"
     ]
    },
    {
     "name": "stdout",
     "output_type": "stream",
     "text": []
    },
    {
     "name": "stdout",
     "output_type": "stream",
     "text": [
      "\n"
     ]
    },
    {
     "name": "stderr",
     "output_type": "stream",
     "text": [
      " 21%|██        | 19/90 [01:28<05:32,  4.68s/it]"
     ]
    },
    {
     "name": "stdout",
     "output_type": "stream",
     "text": []
    },
    {
     "name": "stdout",
     "output_type": "stream",
     "text": [
      "\n"
     ]
    },
    {
     "name": "stderr",
     "output_type": "stream",
     "text": [
      " 22%|██▏       | 20/90 [01:32<05:07,  4.39s/it]"
     ]
    },
    {
     "name": "stdout",
     "output_type": "stream",
     "text": []
    },
    {
     "name": "stdout",
     "output_type": "stream",
     "text": [
      "\n"
     ]
    },
    {
     "name": "stderr",
     "output_type": "stream",
     "text": [
      " 23%|██▎       | 21/90 [01:38<05:32,  4.82s/it]"
     ]
    },
    {
     "name": "stdout",
     "output_type": "stream",
     "text": []
    },
    {
     "name": "stdout",
     "output_type": "stream",
     "text": [
      "\n"
     ]
    },
    {
     "name": "stderr",
     "output_type": "stream",
     "text": [
      " 24%|██▍       | 22/90 [01:41<04:53,  4.31s/it]"
     ]
    },
    {
     "name": "stdout",
     "output_type": "stream",
     "text": []
    },
    {
     "name": "stdout",
     "output_type": "stream",
     "text": [
      "\n"
     ]
    },
    {
     "name": "stderr",
     "output_type": "stream",
     "text": [
      " 26%|██▌       | 23/90 [01:45<04:38,  4.16s/it]"
     ]
    },
    {
     "name": "stdout",
     "output_type": "stream",
     "text": []
    },
    {
     "name": "stdout",
     "output_type": "stream",
     "text": [
      "\n"
     ]
    },
    {
     "name": "stderr",
     "output_type": "stream",
     "text": [
      " 27%|██▋       | 24/90 [01:48<04:23,  3.99s/it]"
     ]
    },
    {
     "name": "stdout",
     "output_type": "stream",
     "text": []
    },
    {
     "name": "stdout",
     "output_type": "stream",
     "text": [
      "\n"
     ]
    },
    {
     "name": "stderr",
     "output_type": "stream",
     "text": [
      " 28%|██▊       | 25/90 [01:54<05:00,  4.62s/it]"
     ]
    },
    {
     "name": "stdout",
     "output_type": "stream",
     "text": []
    },
    {
     "name": "stdout",
     "output_type": "stream",
     "text": [
      "\n"
     ]
    },
    {
     "name": "stderr",
     "output_type": "stream",
     "text": [
      " 29%|██▉       | 26/90 [01:59<04:57,  4.65s/it]"
     ]
    },
    {
     "name": "stdout",
     "output_type": "stream",
     "text": []
    },
    {
     "name": "stdout",
     "output_type": "stream",
     "text": [
      "\n"
     ]
    },
    {
     "name": "stderr",
     "output_type": "stream",
     "text": [
      " 30%|███       | 27/90 [02:06<05:25,  5.17s/it]"
     ]
    },
    {
     "name": "stdout",
     "output_type": "stream",
     "text": []
    },
    {
     "name": "stdout",
     "output_type": "stream",
     "text": [
      "\n"
     ]
    },
    {
     "name": "stderr",
     "output_type": "stream",
     "text": [
      " 31%|███       | 28/90 [02:11<05:21,  5.19s/it]"
     ]
    },
    {
     "name": "stdout",
     "output_type": "stream",
     "text": []
    },
    {
     "name": "stdout",
     "output_type": "stream",
     "text": [
      "\n"
     ]
    },
    {
     "name": "stderr",
     "output_type": "stream",
     "text": [
      " 32%|███▏      | 29/90 [02:15<05:00,  4.93s/it]"
     ]
    },
    {
     "name": "stdout",
     "output_type": "stream",
     "text": []
    },
    {
     "name": "stdout",
     "output_type": "stream",
     "text": [
      "\n"
     ]
    },
    {
     "name": "stderr",
     "output_type": "stream",
     "text": [
      " 33%|███▎      | 30/90 [02:19<04:28,  4.48s/it]"
     ]
    },
    {
     "name": "stdout",
     "output_type": "stream",
     "text": []
    },
    {
     "name": "stdout",
     "output_type": "stream",
     "text": [
      "\n"
     ]
    },
    {
     "name": "stderr",
     "output_type": "stream",
     "text": [
      " 34%|███▍      | 31/90 [02:23<04:15,  4.33s/it]"
     ]
    },
    {
     "name": "stdout",
     "output_type": "stream",
     "text": []
    },
    {
     "name": "stdout",
     "output_type": "stream",
     "text": [
      "\n"
     ]
    },
    {
     "name": "stderr",
     "output_type": "stream",
     "text": [
      " 36%|███▌      | 32/90 [02:26<03:57,  4.09s/it]"
     ]
    },
    {
     "name": "stdout",
     "output_type": "stream",
     "text": []
    },
    {
     "name": "stdout",
     "output_type": "stream",
     "text": [
      "\n"
     ]
    },
    {
     "name": "stderr",
     "output_type": "stream",
     "text": [
      " 37%|███▋      | 33/90 [02:30<03:57,  4.17s/it]"
     ]
    },
    {
     "name": "stdout",
     "output_type": "stream",
     "text": []
    },
    {
     "name": "stdout",
     "output_type": "stream",
     "text": [
      "\n"
     ]
    },
    {
     "name": "stderr",
     "output_type": "stream",
     "text": [
      " 38%|███▊      | 34/90 [02:36<04:23,  4.71s/it]"
     ]
    },
    {
     "name": "stdout",
     "output_type": "stream",
     "text": []
    },
    {
     "name": "stdout",
     "output_type": "stream",
     "text": [
      "\n"
     ]
    },
    {
     "name": "stderr",
     "output_type": "stream",
     "text": [
      " 39%|███▉      | 35/90 [02:40<03:59,  4.36s/it]"
     ]
    },
    {
     "name": "stdout",
     "output_type": "stream",
     "text": []
    },
    {
     "name": "stdout",
     "output_type": "stream",
     "text": [
      "\n"
     ]
    },
    {
     "name": "stderr",
     "output_type": "stream",
     "text": [
      " 40%|████      | 36/90 [02:45<04:02,  4.50s/it]"
     ]
    },
    {
     "name": "stdout",
     "output_type": "stream",
     "text": []
    },
    {
     "name": "stdout",
     "output_type": "stream",
     "text": [
      "\n"
     ]
    },
    {
     "name": "stderr",
     "output_type": "stream",
     "text": [
      " 41%|████      | 37/90 [02:48<03:45,  4.25s/it]"
     ]
    },
    {
     "name": "stdout",
     "output_type": "stream",
     "text": []
    },
    {
     "name": "stdout",
     "output_type": "stream",
     "text": [
      "\n"
     ]
    },
    {
     "name": "stderr",
     "output_type": "stream",
     "text": [
      " 42%|████▏     | 38/90 [02:52<03:33,  4.11s/it]"
     ]
    },
    {
     "name": "stdout",
     "output_type": "stream",
     "text": []
    },
    {
     "name": "stdout",
     "output_type": "stream",
     "text": [
      "\n"
     ]
    },
    {
     "name": "stderr",
     "output_type": "stream",
     "text": [
      " 43%|████▎     | 39/90 [02:56<03:27,  4.06s/it]"
     ]
    },
    {
     "name": "stdout",
     "output_type": "stream",
     "text": []
    },
    {
     "name": "stdout",
     "output_type": "stream",
     "text": [
      "\n"
     ]
    },
    {
     "name": "stderr",
     "output_type": "stream",
     "text": [
      " 44%|████▍     | 40/90 [02:59<03:02,  3.65s/it]"
     ]
    },
    {
     "name": "stdout",
     "output_type": "stream",
     "text": []
    },
    {
     "name": "stdout",
     "output_type": "stream",
     "text": [
      "\n"
     ]
    },
    {
     "name": "stderr",
     "output_type": "stream",
     "text": [
      " 46%|████▌     | 41/90 [03:03<03:01,  3.71s/it]"
     ]
    },
    {
     "name": "stdout",
     "output_type": "stream",
     "text": []
    },
    {
     "name": "stdout",
     "output_type": "stream",
     "text": [
      "\n"
     ]
    },
    {
     "name": "stderr",
     "output_type": "stream",
     "text": [
      " 47%|████▋     | 42/90 [03:06<02:55,  3.65s/it]"
     ]
    },
    {
     "name": "stdout",
     "output_type": "stream",
     "text": []
    },
    {
     "name": "stdout",
     "output_type": "stream",
     "text": [
      "\n"
     ]
    },
    {
     "name": "stderr",
     "output_type": "stream",
     "text": [
      " 48%|████▊     | 43/90 [03:11<03:12,  4.10s/it]"
     ]
    },
    {
     "name": "stdout",
     "output_type": "stream",
     "text": []
    },
    {
     "name": "stdout",
     "output_type": "stream",
     "text": [
      "\n"
     ]
    },
    {
     "name": "stderr",
     "output_type": "stream",
     "text": [
      " 49%|████▉     | 44/90 [03:14<02:50,  3.70s/it]"
     ]
    },
    {
     "name": "stdout",
     "output_type": "stream",
     "text": []
    },
    {
     "name": "stdout",
     "output_type": "stream",
     "text": [
      "\n"
     ]
    },
    {
     "name": "stderr",
     "output_type": "stream",
     "text": [
      " 50%|█████     | 45/90 [03:18<02:43,  3.62s/it]"
     ]
    },
    {
     "name": "stdout",
     "output_type": "stream",
     "text": []
    },
    {
     "name": "stdout",
     "output_type": "stream",
     "text": [
      "\n"
     ]
    },
    {
     "name": "stderr",
     "output_type": "stream",
     "text": [
      " 51%|█████     | 46/90 [03:22<02:48,  3.82s/it]"
     ]
    },
    {
     "name": "stdout",
     "output_type": "stream",
     "text": []
    },
    {
     "name": "stdout",
     "output_type": "stream",
     "text": [
      "\n"
     ]
    },
    {
     "name": "stderr",
     "output_type": "stream",
     "text": [
      " 52%|█████▏    | 47/90 [03:26<02:55,  4.07s/it]"
     ]
    },
    {
     "name": "stdout",
     "output_type": "stream",
     "text": []
    },
    {
     "name": "stdout",
     "output_type": "stream",
     "text": [
      "\n"
     ]
    },
    {
     "name": "stderr",
     "output_type": "stream",
     "text": [
      " 53%|█████▎    | 48/90 [03:30<02:45,  3.95s/it]"
     ]
    },
    {
     "name": "stdout",
     "output_type": "stream",
     "text": []
    },
    {
     "name": "stdout",
     "output_type": "stream",
     "text": [
      "\n"
     ]
    },
    {
     "name": "stderr",
     "output_type": "stream",
     "text": [
      " 54%|█████▍    | 49/90 [03:35<02:57,  4.33s/it]"
     ]
    },
    {
     "name": "stdout",
     "output_type": "stream",
     "text": []
    },
    {
     "name": "stdout",
     "output_type": "stream",
     "text": [
      "\n"
     ]
    },
    {
     "name": "stderr",
     "output_type": "stream",
     "text": [
      " 56%|█████▌    | 50/90 [03:41<03:10,  4.76s/it]"
     ]
    },
    {
     "name": "stdout",
     "output_type": "stream",
     "text": []
    },
    {
     "name": "stdout",
     "output_type": "stream",
     "text": [
      "\n"
     ]
    },
    {
     "name": "stderr",
     "output_type": "stream",
     "text": [
      " 57%|█████▋    | 51/90 [03:45<02:51,  4.40s/it]"
     ]
    },
    {
     "name": "stdout",
     "output_type": "stream",
     "text": []
    },
    {
     "name": "stdout",
     "output_type": "stream",
     "text": [
      "\n"
     ]
    },
    {
     "name": "stderr",
     "output_type": "stream",
     "text": [
      " 58%|█████▊    | 52/90 [03:50<03:00,  4.75s/it]"
     ]
    },
    {
     "name": "stdout",
     "output_type": "stream",
     "text": []
    },
    {
     "name": "stdout",
     "output_type": "stream",
     "text": [
      "\n"
     ]
    },
    {
     "name": "stderr",
     "output_type": "stream",
     "text": [
      " 59%|█████▉    | 53/90 [03:53<02:38,  4.27s/it]"
     ]
    },
    {
     "name": "stdout",
     "output_type": "stream",
     "text": []
    },
    {
     "name": "stdout",
     "output_type": "stream",
     "text": [
      "\n"
     ]
    },
    {
     "name": "stderr",
     "output_type": "stream",
     "text": [
      " 60%|██████    | 54/90 [03:59<02:45,  4.59s/it]"
     ]
    },
    {
     "name": "stdout",
     "output_type": "stream",
     "text": []
    },
    {
     "name": "stdout",
     "output_type": "stream",
     "text": [
      "\n"
     ]
    },
    {
     "name": "stderr",
     "output_type": "stream",
     "text": [
      " 61%|██████    | 55/90 [04:02<02:32,  4.35s/it]"
     ]
    },
    {
     "name": "stdout",
     "output_type": "stream",
     "text": []
    },
    {
     "name": "stdout",
     "output_type": "stream",
     "text": [
      "\n"
     ]
    },
    {
     "name": "stderr",
     "output_type": "stream",
     "text": [
      " 62%|██████▏   | 56/90 [04:11<03:09,  5.56s/it]"
     ]
    },
    {
     "name": "stdout",
     "output_type": "stream",
     "text": []
    },
    {
     "name": "stdout",
     "output_type": "stream",
     "text": [
      "\n"
     ]
    },
    {
     "name": "stderr",
     "output_type": "stream",
     "text": [
      " 63%|██████▎   | 57/90 [04:15<02:53,  5.25s/it]"
     ]
    },
    {
     "name": "stdout",
     "output_type": "stream",
     "text": []
    },
    {
     "name": "stdout",
     "output_type": "stream",
     "text": [
      "\n"
     ]
    },
    {
     "name": "stderr",
     "output_type": "stream",
     "text": [
      " 64%|██████▍   | 58/90 [04:19<02:30,  4.71s/it]"
     ]
    },
    {
     "name": "stdout",
     "output_type": "stream",
     "text": []
    },
    {
     "name": "stdout",
     "output_type": "stream",
     "text": [
      "\n"
     ]
    },
    {
     "name": "stderr",
     "output_type": "stream",
     "text": [
      " 66%|██████▌   | 59/90 [04:22<02:07,  4.11s/it]"
     ]
    },
    {
     "name": "stdout",
     "output_type": "stream",
     "text": []
    },
    {
     "name": "stdout",
     "output_type": "stream",
     "text": [
      "\n"
     ]
    },
    {
     "name": "stderr",
     "output_type": "stream",
     "text": [
      " 67%|██████▋   | 60/90 [04:25<01:57,  3.91s/it]"
     ]
    },
    {
     "name": "stdout",
     "output_type": "stream",
     "text": []
    },
    {
     "name": "stdout",
     "output_type": "stream",
     "text": [
      "\n"
     ]
    },
    {
     "name": "stderr",
     "output_type": "stream",
     "text": [
      " 68%|██████▊   | 61/90 [04:29<01:52,  3.89s/it]"
     ]
    },
    {
     "name": "stdout",
     "output_type": "stream",
     "text": []
    },
    {
     "name": "stdout",
     "output_type": "stream",
     "text": [
      "\n"
     ]
    },
    {
     "name": "stderr",
     "output_type": "stream",
     "text": [
      " 69%|██████▉   | 62/90 [04:32<01:44,  3.72s/it]"
     ]
    },
    {
     "name": "stdout",
     "output_type": "stream",
     "text": []
    },
    {
     "name": "stdout",
     "output_type": "stream",
     "text": [
      "\n"
     ]
    },
    {
     "name": "stderr",
     "output_type": "stream",
     "text": [
      " 70%|███████   | 63/90 [04:37<01:50,  4.09s/it]"
     ]
    },
    {
     "name": "stdout",
     "output_type": "stream",
     "text": []
    },
    {
     "name": "stdout",
     "output_type": "stream",
     "text": [
      "\n"
     ]
    },
    {
     "name": "stderr",
     "output_type": "stream",
     "text": [
      " 71%|███████   | 64/90 [04:41<01:42,  3.93s/it]"
     ]
    },
    {
     "name": "stdout",
     "output_type": "stream",
     "text": []
    },
    {
     "name": "stdout",
     "output_type": "stream",
     "text": [
      "\n"
     ]
    },
    {
     "name": "stderr",
     "output_type": "stream",
     "text": [
      " 72%|███████▏  | 65/90 [04:45<01:42,  4.11s/it]"
     ]
    },
    {
     "name": "stdout",
     "output_type": "stream",
     "text": []
    },
    {
     "name": "stdout",
     "output_type": "stream",
     "text": [
      "\n"
     ]
    },
    {
     "name": "stderr",
     "output_type": "stream",
     "text": [
      " 73%|███████▎  | 66/90 [04:51<01:50,  4.60s/it]"
     ]
    },
    {
     "name": "stdout",
     "output_type": "stream",
     "text": []
    },
    {
     "name": "stdout",
     "output_type": "stream",
     "text": [
      "\n"
     ]
    },
    {
     "name": "stderr",
     "output_type": "stream",
     "text": [
      " 74%|███████▍  | 67/90 [04:54<01:35,  4.16s/it]"
     ]
    },
    {
     "name": "stdout",
     "output_type": "stream",
     "text": []
    },
    {
     "name": "stdout",
     "output_type": "stream",
     "text": [
      "\n"
     ]
    },
    {
     "name": "stderr",
     "output_type": "stream",
     "text": [
      " 76%|███████▌  | 68/90 [04:58<01:28,  4.03s/it]"
     ]
    },
    {
     "name": "stdout",
     "output_type": "stream",
     "text": []
    },
    {
     "name": "stdout",
     "output_type": "stream",
     "text": [
      "\n"
     ]
    },
    {
     "name": "stderr",
     "output_type": "stream",
     "text": [
      " 77%|███████▋  | 69/90 [05:02<01:25,  4.08s/it]"
     ]
    },
    {
     "name": "stdout",
     "output_type": "stream",
     "text": []
    },
    {
     "name": "stdout",
     "output_type": "stream",
     "text": [
      "\n"
     ]
    },
    {
     "name": "stderr",
     "output_type": "stream",
     "text": [
      " 78%|███████▊  | 70/90 [05:07<01:25,  4.29s/it]"
     ]
    },
    {
     "name": "stdout",
     "output_type": "stream",
     "text": []
    },
    {
     "name": "stdout",
     "output_type": "stream",
     "text": [
      "\n"
     ]
    },
    {
     "name": "stderr",
     "output_type": "stream",
     "text": [
      " 79%|███████▉  | 71/90 [05:12<01:27,  4.62s/it]"
     ]
    },
    {
     "name": "stdout",
     "output_type": "stream",
     "text": []
    },
    {
     "name": "stdout",
     "output_type": "stream",
     "text": [
      "\n"
     ]
    },
    {
     "name": "stderr",
     "output_type": "stream",
     "text": [
      " 80%|████████  | 72/90 [05:18<01:26,  4.82s/it]"
     ]
    },
    {
     "name": "stdout",
     "output_type": "stream",
     "text": []
    },
    {
     "name": "stdout",
     "output_type": "stream",
     "text": [
      "\n"
     ]
    },
    {
     "name": "stderr",
     "output_type": "stream",
     "text": [
      " 81%|████████  | 73/90 [05:23<01:24,  4.99s/it]"
     ]
    },
    {
     "name": "stdout",
     "output_type": "stream",
     "text": []
    },
    {
     "name": "stdout",
     "output_type": "stream",
     "text": [
      "\n"
     ]
    },
    {
     "name": "stderr",
     "output_type": "stream",
     "text": [
      " 82%|████████▏ | 74/90 [05:26<01:08,  4.28s/it]"
     ]
    },
    {
     "name": "stdout",
     "output_type": "stream",
     "text": []
    },
    {
     "name": "stdout",
     "output_type": "stream",
     "text": [
      "\n"
     ]
    },
    {
     "name": "stderr",
     "output_type": "stream",
     "text": [
      " 83%|████████▎ | 75/90 [05:28<00:57,  3.82s/it]"
     ]
    },
    {
     "name": "stdout",
     "output_type": "stream",
     "text": []
    },
    {
     "name": "stdout",
     "output_type": "stream",
     "text": [
      "\n"
     ]
    },
    {
     "name": "stderr",
     "output_type": "stream",
     "text": [
      " 84%|████████▍ | 76/90 [05:32<00:54,  3.87s/it]"
     ]
    },
    {
     "name": "stdout",
     "output_type": "stream",
     "text": []
    },
    {
     "name": "stdout",
     "output_type": "stream",
     "text": [
      "\n"
     ]
    },
    {
     "name": "stderr",
     "output_type": "stream",
     "text": [
      " 86%|████████▌ | 77/90 [05:36<00:49,  3.79s/it]"
     ]
    },
    {
     "name": "stdout",
     "output_type": "stream",
     "text": []
    },
    {
     "name": "stdout",
     "output_type": "stream",
     "text": [
      "\n"
     ]
    },
    {
     "name": "stderr",
     "output_type": "stream",
     "text": [
      " 87%|████████▋ | 78/90 [05:39<00:43,  3.64s/it]"
     ]
    },
    {
     "name": "stdout",
     "output_type": "stream",
     "text": []
    },
    {
     "name": "stdout",
     "output_type": "stream",
     "text": [
      "\n"
     ]
    },
    {
     "name": "stderr",
     "output_type": "stream",
     "text": [
      " 88%|████████▊ | 79/90 [05:42<00:37,  3.42s/it]"
     ]
    },
    {
     "name": "stdout",
     "output_type": "stream",
     "text": []
    },
    {
     "name": "stdout",
     "output_type": "stream",
     "text": [
      "\n"
     ]
    },
    {
     "name": "stderr",
     "output_type": "stream",
     "text": [
      " 89%|████████▉ | 80/90 [05:45<00:31,  3.19s/it]"
     ]
    },
    {
     "name": "stdout",
     "output_type": "stream",
     "text": []
    },
    {
     "name": "stdout",
     "output_type": "stream",
     "text": [
      "\n"
     ]
    },
    {
     "name": "stderr",
     "output_type": "stream",
     "text": [
      " 90%|█████████ | 81/90 [05:48<00:28,  3.16s/it]"
     ]
    },
    {
     "name": "stdout",
     "output_type": "stream",
     "text": []
    },
    {
     "name": "stdout",
     "output_type": "stream",
     "text": [
      "\n"
     ]
    },
    {
     "name": "stderr",
     "output_type": "stream",
     "text": [
      " 91%|█████████ | 82/90 [05:51<00:25,  3.16s/it]"
     ]
    },
    {
     "name": "stdout",
     "output_type": "stream",
     "text": []
    },
    {
     "name": "stdout",
     "output_type": "stream",
     "text": [
      "\n"
     ]
    },
    {
     "name": "stderr",
     "output_type": "stream",
     "text": [
      " 92%|█████████▏| 83/90 [05:57<00:28,  4.02s/it]"
     ]
    },
    {
     "name": "stdout",
     "output_type": "stream",
     "text": []
    },
    {
     "name": "stdout",
     "output_type": "stream",
     "text": [
      "\n"
     ]
    },
    {
     "name": "stderr",
     "output_type": "stream",
     "text": [
      " 93%|█████████▎| 84/90 [06:01<00:24,  4.11s/it]"
     ]
    },
    {
     "name": "stdout",
     "output_type": "stream",
     "text": []
    },
    {
     "name": "stdout",
     "output_type": "stream",
     "text": [
      "\n"
     ]
    },
    {
     "name": "stderr",
     "output_type": "stream",
     "text": [
      " 94%|█████████▍| 85/90 [06:05<00:19,  3.89s/it]"
     ]
    },
    {
     "name": "stdout",
     "output_type": "stream",
     "text": []
    },
    {
     "name": "stdout",
     "output_type": "stream",
     "text": [
      "\n"
     ]
    },
    {
     "name": "stderr",
     "output_type": "stream",
     "text": [
      " 96%|█████████▌| 86/90 [06:09<00:16,  4.02s/it]"
     ]
    },
    {
     "name": "stdout",
     "output_type": "stream",
     "text": []
    },
    {
     "name": "stdout",
     "output_type": "stream",
     "text": [
      "\n"
     ]
    },
    {
     "name": "stderr",
     "output_type": "stream",
     "text": [
      " 97%|█████████▋| 87/90 [06:14<00:12,  4.27s/it]"
     ]
    },
    {
     "name": "stdout",
     "output_type": "stream",
     "text": []
    },
    {
     "name": "stdout",
     "output_type": "stream",
     "text": [
      "\n"
     ]
    },
    {
     "name": "stderr",
     "output_type": "stream",
     "text": [
      " 98%|█████████▊| 88/90 [06:17<00:07,  3.99s/it]"
     ]
    },
    {
     "name": "stdout",
     "output_type": "stream",
     "text": []
    },
    {
     "name": "stdout",
     "output_type": "stream",
     "text": [
      "\n"
     ]
    },
    {
     "name": "stderr",
     "output_type": "stream",
     "text": [
      " 99%|█████████▉| 89/90 [06:21<00:03,  3.83s/it]"
     ]
    },
    {
     "name": "stdout",
     "output_type": "stream",
     "text": []
    },
    {
     "name": "stdout",
     "output_type": "stream",
     "text": [
      "\n"
     ]
    },
    {
     "name": "stderr",
     "output_type": "stream",
     "text": [
      "100%|██████████| 90/90 [06:25<00:00,  3.97s/it]\n",
      "  0%|          | 0/90 [00:00<?, ?it/s]"
     ]
    },
    {
     "name": "stdout",
     "output_type": "stream",
     "text": []
    },
    {
     "name": "stdout",
     "output_type": "stream",
     "text": [
      "\n"
     ]
    },
    {
     "name": "stderr",
     "output_type": "stream",
     "text": [
      "  1%|          | 1/90 [00:05<07:58,  5.38s/it]"
     ]
    },
    {
     "name": "stdout",
     "output_type": "stream",
     "text": []
    },
    {
     "name": "stdout",
     "output_type": "stream",
     "text": [
      "\n"
     ]
    },
    {
     "name": "stderr",
     "output_type": "stream",
     "text": [
      "  2%|▏         | 2/90 [00:07<06:22,  4.34s/it]"
     ]
    },
    {
     "name": "stdout",
     "output_type": "stream",
     "text": []
    },
    {
     "name": "stdout",
     "output_type": "stream",
     "text": [
      "\n"
     ]
    },
    {
     "name": "stderr",
     "output_type": "stream",
     "text": [
      "  3%|▎         | 3/90 [00:11<06:25,  4.44s/it]"
     ]
    },
    {
     "name": "stdout",
     "output_type": "stream",
     "text": []
    },
    {
     "name": "stdout",
     "output_type": "stream",
     "text": [
      "\n"
     ]
    },
    {
     "name": "stderr",
     "output_type": "stream",
     "text": [
      "  4%|▍         | 4/90 [00:14<05:24,  3.78s/it]"
     ]
    },
    {
     "name": "stdout",
     "output_type": "stream",
     "text": []
    },
    {
     "name": "stdout",
     "output_type": "stream",
     "text": [
      "\n"
     ]
    },
    {
     "name": "stderr",
     "output_type": "stream",
     "text": [
      "  6%|▌         | 5/90 [00:19<05:51,  4.14s/it]"
     ]
    },
    {
     "name": "stdout",
     "output_type": "stream",
     "text": []
    },
    {
     "name": "stdout",
     "output_type": "stream",
     "text": [
      "\n"
     ]
    },
    {
     "name": "stderr",
     "output_type": "stream",
     "text": [
      "  7%|▋         | 6/90 [00:25<06:46,  4.84s/it]"
     ]
    },
    {
     "name": "stdout",
     "output_type": "stream",
     "text": []
    },
    {
     "name": "stdout",
     "output_type": "stream",
     "text": [
      "\n"
     ]
    },
    {
     "name": "stderr",
     "output_type": "stream",
     "text": [
      "  8%|▊         | 7/90 [00:33<07:44,  5.60s/it]"
     ]
    },
    {
     "name": "stdout",
     "output_type": "stream",
     "text": []
    },
    {
     "name": "stdout",
     "output_type": "stream",
     "text": [
      "\n"
     ]
    },
    {
     "name": "stderr",
     "output_type": "stream",
     "text": [
      "  9%|▉         | 8/90 [00:36<06:58,  5.11s/it]"
     ]
    },
    {
     "name": "stdout",
     "output_type": "stream",
     "text": []
    },
    {
     "name": "stdout",
     "output_type": "stream",
     "text": [
      "\n"
     ]
    },
    {
     "name": "stderr",
     "output_type": "stream",
     "text": [
      " 10%|█         | 9/90 [00:43<07:26,  5.51s/it]"
     ]
    },
    {
     "name": "stdout",
     "output_type": "stream",
     "text": []
    },
    {
     "name": "stdout",
     "output_type": "stream",
     "text": [
      "\n"
     ]
    },
    {
     "name": "stderr",
     "output_type": "stream",
     "text": [
      " 11%|█         | 10/90 [00:47<06:56,  5.20s/it]"
     ]
    },
    {
     "name": "stdout",
     "output_type": "stream",
     "text": []
    },
    {
     "name": "stdout",
     "output_type": "stream",
     "text": [
      "\n"
     ]
    },
    {
     "name": "stderr",
     "output_type": "stream",
     "text": [
      " 12%|█▏        | 11/90 [00:51<06:10,  4.70s/it]"
     ]
    },
    {
     "name": "stdout",
     "output_type": "stream",
     "text": []
    },
    {
     "name": "stdout",
     "output_type": "stream",
     "text": [
      "\n"
     ]
    },
    {
     "name": "stderr",
     "output_type": "stream",
     "text": [
      " 13%|█▎        | 12/90 [00:56<06:14,  4.80s/it]"
     ]
    },
    {
     "name": "stdout",
     "output_type": "stream",
     "text": []
    },
    {
     "name": "stdout",
     "output_type": "stream",
     "text": [
      "\n"
     ]
    },
    {
     "name": "stderr",
     "output_type": "stream",
     "text": [
      " 14%|█▍        | 13/90 [01:01<06:24,  4.99s/it]"
     ]
    },
    {
     "name": "stdout",
     "output_type": "stream",
     "text": []
    },
    {
     "name": "stdout",
     "output_type": "stream",
     "text": [
      "\n"
     ]
    },
    {
     "name": "stderr",
     "output_type": "stream",
     "text": [
      " 16%|█▌        | 14/90 [01:05<05:53,  4.65s/it]"
     ]
    },
    {
     "name": "stdout",
     "output_type": "stream",
     "text": []
    },
    {
     "name": "stdout",
     "output_type": "stream",
     "text": [
      "\n"
     ]
    },
    {
     "name": "stderr",
     "output_type": "stream",
     "text": [
      " 17%|█▋        | 15/90 [01:09<05:24,  4.32s/it]"
     ]
    },
    {
     "name": "stdout",
     "output_type": "stream",
     "text": []
    },
    {
     "name": "stdout",
     "output_type": "stream",
     "text": [
      "\n"
     ]
    },
    {
     "name": "stderr",
     "output_type": "stream",
     "text": [
      " 18%|█▊        | 16/90 [01:14<05:43,  4.64s/it]"
     ]
    },
    {
     "name": "stdout",
     "output_type": "stream",
     "text": []
    },
    {
     "name": "stdout",
     "output_type": "stream",
     "text": [
      "\n"
     ]
    },
    {
     "name": "stderr",
     "output_type": "stream",
     "text": [
      " 19%|█▉        | 17/90 [01:19<05:51,  4.82s/it]"
     ]
    },
    {
     "name": "stdout",
     "output_type": "stream",
     "text": []
    },
    {
     "name": "stdout",
     "output_type": "stream",
     "text": [
      "\n"
     ]
    },
    {
     "name": "stderr",
     "output_type": "stream",
     "text": [
      " 20%|██        | 18/90 [01:28<07:05,  5.90s/it]"
     ]
    },
    {
     "name": "stdout",
     "output_type": "stream",
     "text": []
    },
    {
     "name": "stdout",
     "output_type": "stream",
     "text": [
      "\n"
     ]
    },
    {
     "name": "stderr",
     "output_type": "stream",
     "text": [
      " 21%|██        | 19/90 [01:33<06:32,  5.53s/it]"
     ]
    },
    {
     "name": "stdout",
     "output_type": "stream",
     "text": []
    },
    {
     "name": "stdout",
     "output_type": "stream",
     "text": [
      "\n"
     ]
    },
    {
     "name": "stderr",
     "output_type": "stream",
     "text": [
      " 22%|██▏       | 20/90 [01:40<07:16,  6.24s/it]"
     ]
    },
    {
     "name": "stdout",
     "output_type": "stream",
     "text": []
    },
    {
     "name": "stdout",
     "output_type": "stream",
     "text": [
      "\n"
     ]
    },
    {
     "name": "stderr",
     "output_type": "stream",
     "text": [
      " 23%|██▎       | 21/90 [01:44<06:21,  5.52s/it]"
     ]
    },
    {
     "name": "stdout",
     "output_type": "stream",
     "text": []
    },
    {
     "name": "stdout",
     "output_type": "stream",
     "text": [
      "\n"
     ]
    },
    {
     "name": "stderr",
     "output_type": "stream",
     "text": [
      " 24%|██▍       | 22/90 [01:46<05:03,  4.46s/it]"
     ]
    },
    {
     "name": "stdout",
     "output_type": "stream",
     "text": []
    },
    {
     "name": "stdout",
     "output_type": "stream",
     "text": [
      "\n"
     ]
    },
    {
     "name": "stderr",
     "output_type": "stream",
     "text": [
      " 26%|██▌       | 23/90 [01:51<05:05,  4.56s/it]"
     ]
    },
    {
     "name": "stdout",
     "output_type": "stream",
     "text": []
    },
    {
     "name": "stdout",
     "output_type": "stream",
     "text": [
      "\n"
     ]
    },
    {
     "name": "stderr",
     "output_type": "stream",
     "text": [
      " 27%|██▋       | 24/90 [01:56<05:06,  4.64s/it]"
     ]
    },
    {
     "name": "stdout",
     "output_type": "stream",
     "text": []
    },
    {
     "name": "stdout",
     "output_type": "stream",
     "text": [
      "\n"
     ]
    },
    {
     "name": "stderr",
     "output_type": "stream",
     "text": [
      " 28%|██▊       | 25/90 [02:01<05:07,  4.73s/it]"
     ]
    },
    {
     "name": "stdout",
     "output_type": "stream",
     "text": []
    },
    {
     "name": "stdout",
     "output_type": "stream",
     "text": [
      "\n"
     ]
    },
    {
     "name": "stderr",
     "output_type": "stream",
     "text": [
      " 29%|██▉       | 26/90 [02:07<05:36,  5.26s/it]"
     ]
    },
    {
     "name": "stdout",
     "output_type": "stream",
     "text": []
    },
    {
     "name": "stdout",
     "output_type": "stream",
     "text": [
      "\n"
     ]
    },
    {
     "name": "stderr",
     "output_type": "stream",
     "text": [
      " 30%|███       | 27/90 [02:18<07:05,  6.76s/it]"
     ]
    },
    {
     "name": "stdout",
     "output_type": "stream",
     "text": []
    },
    {
     "name": "stdout",
     "output_type": "stream",
     "text": [
      "\n"
     ]
    },
    {
     "name": "stderr",
     "output_type": "stream",
     "text": [
      " 31%|███       | 28/90 [02:21<05:54,  5.72s/it]"
     ]
    },
    {
     "name": "stdout",
     "output_type": "stream",
     "text": []
    },
    {
     "name": "stdout",
     "output_type": "stream",
     "text": [
      "\n"
     ]
    },
    {
     "name": "stderr",
     "output_type": "stream",
     "text": [
      " 32%|███▏      | 29/90 [02:25<05:12,  5.12s/it]"
     ]
    },
    {
     "name": "stdout",
     "output_type": "stream",
     "text": []
    },
    {
     "name": "stdout",
     "output_type": "stream",
     "text": [
      "\n"
     ]
    },
    {
     "name": "stderr",
     "output_type": "stream",
     "text": [
      " 33%|███▎      | 30/90 [02:29<04:54,  4.91s/it]"
     ]
    },
    {
     "name": "stdout",
     "output_type": "stream",
     "text": []
    },
    {
     "name": "stdout",
     "output_type": "stream",
     "text": [
      "\n"
     ]
    },
    {
     "name": "stderr",
     "output_type": "stream",
     "text": [
      " 34%|███▍      | 31/90 [02:34<04:51,  4.94s/it]"
     ]
    },
    {
     "name": "stdout",
     "output_type": "stream",
     "text": []
    },
    {
     "name": "stdout",
     "output_type": "stream",
     "text": [
      "\n"
     ]
    },
    {
     "name": "stderr",
     "output_type": "stream",
     "text": [
      " 36%|███▌      | 32/90 [02:44<06:06,  6.32s/it]"
     ]
    },
    {
     "name": "stdout",
     "output_type": "stream",
     "text": []
    },
    {
     "name": "stdout",
     "output_type": "stream",
     "text": [
      "\n"
     ]
    },
    {
     "name": "stderr",
     "output_type": "stream",
     "text": [
      " 37%|███▋      | 33/90 [02:47<05:15,  5.53s/it]"
     ]
    },
    {
     "name": "stdout",
     "output_type": "stream",
     "text": []
    },
    {
     "name": "stdout",
     "output_type": "stream",
     "text": [
      "\n"
     ]
    },
    {
     "name": "stderr",
     "output_type": "stream",
     "text": [
      " 38%|███▊      | 34/90 [02:53<05:10,  5.54s/it]"
     ]
    },
    {
     "name": "stdout",
     "output_type": "stream",
     "text": []
    },
    {
     "name": "stdout",
     "output_type": "stream",
     "text": [
      "\n"
     ]
    },
    {
     "name": "stderr",
     "output_type": "stream",
     "text": [
      " 39%|███▉      | 35/90 [03:01<05:56,  6.48s/it]"
     ]
    },
    {
     "name": "stdout",
     "output_type": "stream",
     "text": []
    },
    {
     "name": "stdout",
     "output_type": "stream",
     "text": [
      "\n"
     ]
    },
    {
     "name": "stderr",
     "output_type": "stream",
     "text": [
      " 40%|████      | 36/90 [03:06<05:25,  6.03s/it]"
     ]
    },
    {
     "name": "stdout",
     "output_type": "stream",
     "text": []
    },
    {
     "name": "stdout",
     "output_type": "stream",
     "text": [
      "\n"
     ]
    },
    {
     "name": "stderr",
     "output_type": "stream",
     "text": [
      " 41%|████      | 37/90 [03:10<04:44,  5.37s/it]"
     ]
    },
    {
     "name": "stdout",
     "output_type": "stream",
     "text": []
    },
    {
     "name": "stdout",
     "output_type": "stream",
     "text": [
      "\n"
     ]
    },
    {
     "name": "stderr",
     "output_type": "stream",
     "text": [
      " 42%|████▏     | 38/90 [03:12<03:48,  4.40s/it]"
     ]
    },
    {
     "name": "stdout",
     "output_type": "stream",
     "text": []
    },
    {
     "name": "stdout",
     "output_type": "stream",
     "text": [
      "\n"
     ]
    },
    {
     "name": "stderr",
     "output_type": "stream",
     "text": [
      " 43%|████▎     | 39/90 [03:16<03:28,  4.10s/it]"
     ]
    },
    {
     "name": "stdout",
     "output_type": "stream",
     "text": []
    },
    {
     "name": "stdout",
     "output_type": "stream",
     "text": [
      "\n"
     ]
    },
    {
     "name": "stderr",
     "output_type": "stream",
     "text": [
      " 44%|████▍     | 40/90 [03:22<03:58,  4.77s/it]"
     ]
    },
    {
     "name": "stdout",
     "output_type": "stream",
     "text": []
    },
    {
     "name": "stdout",
     "output_type": "stream",
     "text": [
      "\n"
     ]
    },
    {
     "name": "stderr",
     "output_type": "stream",
     "text": [
      " 46%|████▌     | 41/90 [03:26<03:43,  4.57s/it]"
     ]
    },
    {
     "name": "stdout",
     "output_type": "stream",
     "text": []
    },
    {
     "name": "stdout",
     "output_type": "stream",
     "text": [
      "\n"
     ]
    },
    {
     "name": "stderr",
     "output_type": "stream",
     "text": [
      " 47%|████▋     | 42/90 [03:28<03:04,  3.84s/it]"
     ]
    },
    {
     "name": "stdout",
     "output_type": "stream",
     "text": []
    },
    {
     "name": "stdout",
     "output_type": "stream",
     "text": [
      "\n"
     ]
    },
    {
     "name": "stderr",
     "output_type": "stream",
     "text": [
      " 48%|████▊     | 43/90 [03:31<02:36,  3.33s/it]"
     ]
    },
    {
     "name": "stdout",
     "output_type": "stream",
     "text": []
    },
    {
     "name": "stdout",
     "output_type": "stream",
     "text": [
      "\n"
     ]
    },
    {
     "name": "stderr",
     "output_type": "stream",
     "text": [
      " 49%|████▉     | 44/90 [03:34<02:41,  3.50s/it]"
     ]
    },
    {
     "name": "stdout",
     "output_type": "stream",
     "text": []
    },
    {
     "name": "stdout",
     "output_type": "stream",
     "text": [
      "\n"
     ]
    },
    {
     "name": "stderr",
     "output_type": "stream",
     "text": [
      " 50%|█████     | 45/90 [03:38<02:38,  3.52s/it]"
     ]
    },
    {
     "name": "stdout",
     "output_type": "stream",
     "text": []
    },
    {
     "name": "stdout",
     "output_type": "stream",
     "text": [
      "\n"
     ]
    },
    {
     "name": "stderr",
     "output_type": "stream",
     "text": [
      " 51%|█████     | 46/90 [03:40<02:18,  3.15s/it]"
     ]
    },
    {
     "name": "stdout",
     "output_type": "stream",
     "text": []
    },
    {
     "name": "stdout",
     "output_type": "stream",
     "text": [
      "\n"
     ]
    },
    {
     "name": "stderr",
     "output_type": "stream",
     "text": [
      " 52%|█████▏    | 47/90 [03:43<02:04,  2.89s/it]"
     ]
    },
    {
     "name": "stdout",
     "output_type": "stream",
     "text": []
    },
    {
     "name": "stdout",
     "output_type": "stream",
     "text": [
      "\n"
     ]
    },
    {
     "name": "stderr",
     "output_type": "stream",
     "text": [
      " 53%|█████▎    | 48/90 [03:45<01:50,  2.64s/it]"
     ]
    },
    {
     "name": "stdout",
     "output_type": "stream",
     "text": []
    },
    {
     "name": "stdout",
     "output_type": "stream",
     "text": [
      "\n"
     ]
    },
    {
     "name": "stderr",
     "output_type": "stream",
     "text": [
      " 54%|█████▍    | 49/90 [03:48<01:51,  2.71s/it]"
     ]
    },
    {
     "name": "stdout",
     "output_type": "stream",
     "text": []
    },
    {
     "name": "stdout",
     "output_type": "stream",
     "text": [
      "\n"
     ]
    },
    {
     "name": "stderr",
     "output_type": "stream",
     "text": [
      " 56%|█████▌    | 50/90 [03:52<02:07,  3.19s/it]"
     ]
    },
    {
     "name": "stdout",
     "output_type": "stream",
     "text": []
    },
    {
     "name": "stdout",
     "output_type": "stream",
     "text": [
      "\n"
     ]
    },
    {
     "name": "stderr",
     "output_type": "stream",
     "text": [
      " 57%|█████▋    | 51/90 [03:54<01:53,  2.92s/it]"
     ]
    },
    {
     "name": "stdout",
     "output_type": "stream",
     "text": []
    },
    {
     "name": "stdout",
     "output_type": "stream",
     "text": [
      "\n"
     ]
    },
    {
     "name": "stderr",
     "output_type": "stream",
     "text": [
      " 58%|█████▊    | 52/90 [03:56<01:43,  2.72s/it]"
     ]
    },
    {
     "name": "stdout",
     "output_type": "stream",
     "text": []
    },
    {
     "name": "stdout",
     "output_type": "stream",
     "text": [
      "\n"
     ]
    },
    {
     "name": "stderr",
     "output_type": "stream",
     "text": [
      " 59%|█████▉    | 53/90 [03:59<01:34,  2.56s/it]"
     ]
    },
    {
     "name": "stdout",
     "output_type": "stream",
     "text": []
    },
    {
     "name": "stdout",
     "output_type": "stream",
     "text": [
      "\n"
     ]
    },
    {
     "name": "stderr",
     "output_type": "stream",
     "text": [
      " 60%|██████    | 54/90 [04:01<01:36,  2.67s/it]"
     ]
    },
    {
     "name": "stdout",
     "output_type": "stream",
     "text": []
    },
    {
     "name": "stdout",
     "output_type": "stream",
     "text": [
      "\n"
     ]
    },
    {
     "name": "stderr",
     "output_type": "stream",
     "text": [
      " 61%|██████    | 55/90 [04:05<01:44,  2.98s/it]"
     ]
    },
    {
     "name": "stdout",
     "output_type": "stream",
     "text": []
    },
    {
     "name": "stdout",
     "output_type": "stream",
     "text": [
      "\n"
     ]
    },
    {
     "name": "stderr",
     "output_type": "stream",
     "text": [
      " 62%|██████▏   | 56/90 [04:08<01:34,  2.78s/it]"
     ]
    },
    {
     "name": "stdout",
     "output_type": "stream",
     "text": []
    },
    {
     "name": "stdout",
     "output_type": "stream",
     "text": [
      "\n"
     ]
    },
    {
     "name": "stderr",
     "output_type": "stream",
     "text": [
      " 63%|██████▎   | 57/90 [04:10<01:24,  2.56s/it]"
     ]
    },
    {
     "name": "stdout",
     "output_type": "stream",
     "text": []
    },
    {
     "name": "stdout",
     "output_type": "stream",
     "text": [
      "\n"
     ]
    },
    {
     "name": "stderr",
     "output_type": "stream",
     "text": [
      " 64%|██████▍   | 58/90 [04:12<01:16,  2.39s/it]"
     ]
    },
    {
     "name": "stdout",
     "output_type": "stream",
     "text": []
    },
    {
     "name": "stdout",
     "output_type": "stream",
     "text": [
      "\n"
     ]
    },
    {
     "name": "stderr",
     "output_type": "stream",
     "text": [
      " 66%|██████▌   | 59/90 [04:15<01:20,  2.59s/it]"
     ]
    },
    {
     "name": "stdout",
     "output_type": "stream",
     "text": []
    },
    {
     "name": "stdout",
     "output_type": "stream",
     "text": [
      "\n"
     ]
    },
    {
     "name": "stderr",
     "output_type": "stream",
     "text": [
      " 67%|██████▋   | 60/90 [04:19<01:38,  3.28s/it]"
     ]
    },
    {
     "name": "stdout",
     "output_type": "stream",
     "text": []
    },
    {
     "name": "stdout",
     "output_type": "stream",
     "text": [
      "\n"
     ]
    },
    {
     "name": "stderr",
     "output_type": "stream",
     "text": [
      " 68%|██████▊   | 61/90 [04:22<01:25,  2.95s/it]"
     ]
    },
    {
     "name": "stdout",
     "output_type": "stream",
     "text": []
    },
    {
     "name": "stdout",
     "output_type": "stream",
     "text": [
      "\n"
     ]
    },
    {
     "name": "stderr",
     "output_type": "stream",
     "text": [
      " 69%|██████▉   | 62/90 [04:24<01:15,  2.71s/it]"
     ]
    },
    {
     "name": "stdout",
     "output_type": "stream",
     "text": []
    },
    {
     "name": "stdout",
     "output_type": "stream",
     "text": [
      "\n"
     ]
    },
    {
     "name": "stderr",
     "output_type": "stream",
     "text": [
      " 70%|███████   | 63/90 [04:26<01:10,  2.60s/it]"
     ]
    },
    {
     "name": "stdout",
     "output_type": "stream",
     "text": []
    },
    {
     "name": "stdout",
     "output_type": "stream",
     "text": [
      "\n"
     ]
    },
    {
     "name": "stderr",
     "output_type": "stream",
     "text": [
      " 71%|███████   | 64/90 [04:28<01:03,  2.43s/it]"
     ]
    },
    {
     "name": "stdout",
     "output_type": "stream",
     "text": []
    },
    {
     "name": "stdout",
     "output_type": "stream",
     "text": [
      "\n"
     ]
    },
    {
     "name": "stderr",
     "output_type": "stream",
     "text": [
      " 72%|███████▏  | 65/90 [04:30<00:57,  2.30s/it]"
     ]
    },
    {
     "name": "stdout",
     "output_type": "stream",
     "text": []
    },
    {
     "name": "stdout",
     "output_type": "stream",
     "text": [
      "\n"
     ]
    },
    {
     "name": "stderr",
     "output_type": "stream",
     "text": [
      " 73%|███████▎  | 66/90 [04:32<00:53,  2.25s/it]"
     ]
    },
    {
     "name": "stdout",
     "output_type": "stream",
     "text": []
    },
    {
     "name": "stdout",
     "output_type": "stream",
     "text": [
      "\n"
     ]
    },
    {
     "name": "stderr",
     "output_type": "stream",
     "text": [
      " 74%|███████▍  | 67/90 [04:34<00:49,  2.15s/it]"
     ]
    },
    {
     "name": "stdout",
     "output_type": "stream",
     "text": []
    },
    {
     "name": "stdout",
     "output_type": "stream",
     "text": [
      "\n"
     ]
    },
    {
     "name": "stderr",
     "output_type": "stream",
     "text": [
      " 76%|███████▌  | 68/90 [04:38<00:54,  2.48s/it]"
     ]
    },
    {
     "name": "stdout",
     "output_type": "stream",
     "text": []
    },
    {
     "name": "stdout",
     "output_type": "stream",
     "text": [
      "\n"
     ]
    },
    {
     "name": "stderr",
     "output_type": "stream",
     "text": [
      " 77%|███████▋  | 69/90 [04:40<00:49,  2.36s/it]"
     ]
    },
    {
     "name": "stdout",
     "output_type": "stream",
     "text": []
    },
    {
     "name": "stdout",
     "output_type": "stream",
     "text": [
      "\n"
     ]
    },
    {
     "name": "stderr",
     "output_type": "stream",
     "text": [
      " 78%|███████▊  | 70/90 [04:43<00:52,  2.61s/it]"
     ]
    },
    {
     "name": "stdout",
     "output_type": "stream",
     "text": []
    },
    {
     "name": "stdout",
     "output_type": "stream",
     "text": [
      "\n"
     ]
    },
    {
     "name": "stderr",
     "output_type": "stream",
     "text": [
      " 79%|███████▉  | 71/90 [04:48<01:02,  3.31s/it]"
     ]
    },
    {
     "name": "stdout",
     "output_type": "stream",
     "text": []
    },
    {
     "name": "stdout",
     "output_type": "stream",
     "text": [
      "\n"
     ]
    },
    {
     "name": "stderr",
     "output_type": "stream",
     "text": [
      " 80%|████████  | 72/90 [04:53<01:09,  3.87s/it]"
     ]
    },
    {
     "name": "stdout",
     "output_type": "stream",
     "text": []
    },
    {
     "name": "stdout",
     "output_type": "stream",
     "text": [
      "\n"
     ]
    },
    {
     "name": "stderr",
     "output_type": "stream",
     "text": [
      " 81%|████████  | 73/90 [04:59<01:18,  4.60s/it]"
     ]
    },
    {
     "name": "stdout",
     "output_type": "stream",
     "text": []
    },
    {
     "name": "stdout",
     "output_type": "stream",
     "text": [
      "\n"
     ]
    },
    {
     "name": "stderr",
     "output_type": "stream",
     "text": [
      " 82%|████████▏ | 74/90 [05:01<01:01,  3.87s/it]"
     ]
    },
    {
     "name": "stdout",
     "output_type": "stream",
     "text": []
    },
    {
     "name": "stdout",
     "output_type": "stream",
     "text": [
      "\n"
     ]
    },
    {
     "name": "stderr",
     "output_type": "stream",
     "text": [
      " 83%|████████▎ | 75/90 [05:04<00:50,  3.36s/it]"
     ]
    },
    {
     "name": "stdout",
     "output_type": "stream",
     "text": []
    },
    {
     "name": "stdout",
     "output_type": "stream",
     "text": [
      "\n"
     ]
    },
    {
     "name": "stderr",
     "output_type": "stream",
     "text": [
      " 84%|████████▍ | 76/90 [05:06<00:41,  2.98s/it]"
     ]
    },
    {
     "name": "stdout",
     "output_type": "stream",
     "text": []
    },
    {
     "name": "stdout",
     "output_type": "stream",
     "text": [
      "\n"
     ]
    },
    {
     "name": "stderr",
     "output_type": "stream",
     "text": [
      " 86%|████████▌ | 77/90 [05:08<00:34,  2.68s/it]"
     ]
    },
    {
     "name": "stdout",
     "output_type": "stream",
     "text": []
    },
    {
     "name": "stdout",
     "output_type": "stream",
     "text": [
      "\n"
     ]
    },
    {
     "name": "stderr",
     "output_type": "stream",
     "text": [
      " 87%|████████▋ | 78/90 [05:14<00:46,  3.88s/it]"
     ]
    },
    {
     "name": "stdout",
     "output_type": "stream",
     "text": []
    },
    {
     "name": "stdout",
     "output_type": "stream",
     "text": [
      "\n"
     ]
    },
    {
     "name": "stderr",
     "output_type": "stream",
     "text": [
      " 88%|████████▊ | 79/90 [05:16<00:36,  3.30s/it]"
     ]
    },
    {
     "name": "stdout",
     "output_type": "stream",
     "text": []
    },
    {
     "name": "stdout",
     "output_type": "stream",
     "text": [
      "\n"
     ]
    },
    {
     "name": "stderr",
     "output_type": "stream",
     "text": [
      " 89%|████████▉ | 80/90 [05:18<00:29,  2.95s/it]"
     ]
    },
    {
     "name": "stdout",
     "output_type": "stream",
     "text": []
    },
    {
     "name": "stdout",
     "output_type": "stream",
     "text": [
      "\n"
     ]
    },
    {
     "name": "stderr",
     "output_type": "stream",
     "text": [
      " 90%|█████████ | 81/90 [05:24<00:32,  3.63s/it]"
     ]
    },
    {
     "name": "stdout",
     "output_type": "stream",
     "text": []
    },
    {
     "name": "stdout",
     "output_type": "stream",
     "text": [
      "\n"
     ]
    },
    {
     "name": "stderr",
     "output_type": "stream",
     "text": [
      " 91%|█████████ | 82/90 [05:28<00:31,  3.99s/it]"
     ]
    },
    {
     "name": "stdout",
     "output_type": "stream",
     "text": []
    },
    {
     "name": "stdout",
     "output_type": "stream",
     "text": [
      "\n"
     ]
    },
    {
     "name": "stderr",
     "output_type": "stream",
     "text": [
      " 92%|█████████▏| 83/90 [05:32<00:27,  3.88s/it]"
     ]
    },
    {
     "name": "stdout",
     "output_type": "stream",
     "text": []
    },
    {
     "name": "stdout",
     "output_type": "stream",
     "text": [
      "\n"
     ]
    },
    {
     "name": "stderr",
     "output_type": "stream",
     "text": [
      " 93%|█████████▎| 84/90 [05:36<00:23,  3.99s/it]"
     ]
    },
    {
     "name": "stdout",
     "output_type": "stream",
     "text": []
    },
    {
     "name": "stdout",
     "output_type": "stream",
     "text": [
      "\n"
     ]
    },
    {
     "name": "stderr",
     "output_type": "stream",
     "text": [
      " 94%|█████████▍| 85/90 [05:40<00:19,  3.84s/it]"
     ]
    },
    {
     "name": "stdout",
     "output_type": "stream",
     "text": []
    },
    {
     "name": "stdout",
     "output_type": "stream",
     "text": [
      "\n"
     ]
    },
    {
     "name": "stderr",
     "output_type": "stream",
     "text": [
      " 96%|█████████▌| 86/90 [05:42<00:13,  3.48s/it]"
     ]
    },
    {
     "name": "stdout",
     "output_type": "stream",
     "text": []
    },
    {
     "name": "stdout",
     "output_type": "stream",
     "text": [
      "\n"
     ]
    },
    {
     "name": "stderr",
     "output_type": "stream",
     "text": [
      " 97%|█████████▋| 87/90 [05:49<00:12,  4.33s/it]"
     ]
    },
    {
     "name": "stdout",
     "output_type": "stream",
     "text": []
    },
    {
     "name": "stdout",
     "output_type": "stream",
     "text": [
      "\n"
     ]
    },
    {
     "name": "stderr",
     "output_type": "stream",
     "text": [
      " 98%|█████████▊| 88/90 [05:51<00:07,  3.62s/it]"
     ]
    },
    {
     "name": "stdout",
     "output_type": "stream",
     "text": []
    },
    {
     "name": "stdout",
     "output_type": "stream",
     "text": [
      "\n"
     ]
    },
    {
     "name": "stderr",
     "output_type": "stream",
     "text": [
      " 99%|█████████▉| 89/90 [05:56<00:04,  4.25s/it]"
     ]
    },
    {
     "name": "stdout",
     "output_type": "stream",
     "text": []
    },
    {
     "name": "stdout",
     "output_type": "stream",
     "text": [
      "\n"
     ]
    },
    {
     "name": "stderr",
     "output_type": "stream",
     "text": [
      "100%|██████████| 90/90 [06:00<00:00,  4.18s/it]\n",
      "  0%|          | 0/90 [00:00<?, ?it/s]"
     ]
    },
    {
     "name": "stdout",
     "output_type": "stream",
     "text": []
    },
    {
     "name": "stdout",
     "output_type": "stream",
     "text": [
      "\n"
     ]
    },
    {
     "name": "stderr",
     "output_type": "stream",
     "text": [
      "  1%|          | 1/90 [00:05<07:32,  5.09s/it]"
     ]
    },
    {
     "name": "stdout",
     "output_type": "stream",
     "text": []
    },
    {
     "name": "stdout",
     "output_type": "stream",
     "text": [
      "\n"
     ]
    },
    {
     "name": "stderr",
     "output_type": "stream",
     "text": [
      "  2%|▏         | 2/90 [00:10<07:31,  5.13s/it]"
     ]
    },
    {
     "name": "stdout",
     "output_type": "stream",
     "text": []
    },
    {
     "name": "stdout",
     "output_type": "stream",
     "text": [
      "\n"
     ]
    },
    {
     "name": "stderr",
     "output_type": "stream",
     "text": [
      "  3%|▎         | 3/90 [00:15<07:21,  5.07s/it]"
     ]
    },
    {
     "name": "stdout",
     "output_type": "stream",
     "text": []
    },
    {
     "name": "stdout",
     "output_type": "stream",
     "text": [
      "\n"
     ]
    },
    {
     "name": "stderr",
     "output_type": "stream",
     "text": [
      "  4%|▍         | 4/90 [00:22<08:08,  5.69s/it]"
     ]
    },
    {
     "name": "stdout",
     "output_type": "stream",
     "text": []
    },
    {
     "name": "stdout",
     "output_type": "stream",
     "text": [
      "\n"
     ]
    },
    {
     "name": "stderr",
     "output_type": "stream",
     "text": [
      "  6%|▌         | 5/90 [00:27<07:51,  5.55s/it]"
     ]
    },
    {
     "name": "stdout",
     "output_type": "stream",
     "text": []
    },
    {
     "name": "stdout",
     "output_type": "stream",
     "text": [
      "\n"
     ]
    },
    {
     "name": "stderr",
     "output_type": "stream",
     "text": [
      "  7%|▋         | 6/90 [00:30<06:43,  4.80s/it]"
     ]
    },
    {
     "name": "stdout",
     "output_type": "stream",
     "text": []
    },
    {
     "name": "stdout",
     "output_type": "stream",
     "text": [
      "\n"
     ]
    },
    {
     "name": "stderr",
     "output_type": "stream",
     "text": [
      "  8%|▊         | 7/90 [00:34<06:07,  4.42s/it]"
     ]
    },
    {
     "name": "stdout",
     "output_type": "stream",
     "text": []
    },
    {
     "name": "stdout",
     "output_type": "stream",
     "text": [
      "\n"
     ]
    },
    {
     "name": "stderr",
     "output_type": "stream",
     "text": [
      "  9%|▉         | 8/90 [00:37<05:34,  4.08s/it]"
     ]
    },
    {
     "name": "stdout",
     "output_type": "stream",
     "text": []
    },
    {
     "name": "stdout",
     "output_type": "stream",
     "text": [
      "\n"
     ]
    },
    {
     "name": "stderr",
     "output_type": "stream",
     "text": [
      " 10%|█         | 9/90 [00:40<05:10,  3.83s/it]"
     ]
    },
    {
     "name": "stdout",
     "output_type": "stream",
     "text": []
    },
    {
     "name": "stdout",
     "output_type": "stream",
     "text": [
      "\n"
     ]
    },
    {
     "name": "stderr",
     "output_type": "stream",
     "text": [
      " 11%|█         | 10/90 [00:46<05:44,  4.30s/it]"
     ]
    },
    {
     "name": "stdout",
     "output_type": "stream",
     "text": []
    },
    {
     "name": "stdout",
     "output_type": "stream",
     "text": [
      "\n"
     ]
    },
    {
     "name": "stderr",
     "output_type": "stream",
     "text": [
      " 12%|█▏        | 11/90 [00:50<05:53,  4.47s/it]"
     ]
    },
    {
     "name": "stdout",
     "output_type": "stream",
     "text": []
    },
    {
     "name": "stdout",
     "output_type": "stream",
     "text": [
      "\n"
     ]
    },
    {
     "name": "stderr",
     "output_type": "stream",
     "text": [
      " 13%|█▎        | 12/90 [00:57<06:27,  4.97s/it]"
     ]
    },
    {
     "name": "stdout",
     "output_type": "stream",
     "text": []
    },
    {
     "name": "stdout",
     "output_type": "stream",
     "text": [
      "\n"
     ]
    },
    {
     "name": "stderr",
     "output_type": "stream",
     "text": [
      " 14%|█▍        | 13/90 [01:02<06:37,  5.16s/it]"
     ]
    },
    {
     "name": "stdout",
     "output_type": "stream",
     "text": []
    },
    {
     "name": "stdout",
     "output_type": "stream",
     "text": [
      "\n"
     ]
    },
    {
     "name": "stderr",
     "output_type": "stream",
     "text": [
      " 16%|█▌        | 14/90 [01:07<06:21,  5.02s/it]"
     ]
    },
    {
     "name": "stdout",
     "output_type": "stream",
     "text": []
    },
    {
     "name": "stdout",
     "output_type": "stream",
     "text": [
      "\n"
     ]
    },
    {
     "name": "stderr",
     "output_type": "stream",
     "text": [
      " 17%|█▋        | 15/90 [01:10<05:39,  4.52s/it]"
     ]
    },
    {
     "name": "stdout",
     "output_type": "stream",
     "text": []
    },
    {
     "name": "stdout",
     "output_type": "stream",
     "text": [
      "\n"
     ]
    },
    {
     "name": "stderr",
     "output_type": "stream",
     "text": [
      " 18%|█▊        | 16/90 [01:14<05:12,  4.23s/it]"
     ]
    },
    {
     "name": "stdout",
     "output_type": "stream",
     "text": []
    },
    {
     "name": "stdout",
     "output_type": "stream",
     "text": [
      "\n"
     ]
    },
    {
     "name": "stderr",
     "output_type": "stream",
     "text": [
      " 19%|█▉        | 17/90 [01:17<04:51,  3.99s/it]"
     ]
    },
    {
     "name": "stdout",
     "output_type": "stream",
     "text": []
    },
    {
     "name": "stdout",
     "output_type": "stream",
     "text": [
      "\n"
     ]
    },
    {
     "name": "stderr",
     "output_type": "stream",
     "text": [
      " 20%|██        | 18/90 [01:21<04:39,  3.89s/it]"
     ]
    },
    {
     "name": "stdout",
     "output_type": "stream",
     "text": []
    },
    {
     "name": "stdout",
     "output_type": "stream",
     "text": [
      "\n"
     ]
    },
    {
     "name": "stderr",
     "output_type": "stream",
     "text": [
      " 21%|██        | 19/90 [01:26<04:51,  4.10s/it]"
     ]
    },
    {
     "name": "stdout",
     "output_type": "stream",
     "text": []
    },
    {
     "name": "stdout",
     "output_type": "stream",
     "text": [
      "\n"
     ]
    },
    {
     "name": "stderr",
     "output_type": "stream",
     "text": [
      " 22%|██▏       | 20/90 [01:30<05:04,  4.35s/it]"
     ]
    },
    {
     "name": "stdout",
     "output_type": "stream",
     "text": []
    },
    {
     "name": "stdout",
     "output_type": "stream",
     "text": [
      "\n"
     ]
    },
    {
     "name": "stderr",
     "output_type": "stream",
     "text": [
      " 23%|██▎       | 21/90 [01:35<04:56,  4.29s/it]"
     ]
    },
    {
     "name": "stdout",
     "output_type": "stream",
     "text": []
    },
    {
     "name": "stdout",
     "output_type": "stream",
     "text": [
      "\n"
     ]
    },
    {
     "name": "stderr",
     "output_type": "stream",
     "text": [
      " 24%|██▍       | 22/90 [01:42<05:47,  5.11s/it]"
     ]
    },
    {
     "name": "stdout",
     "output_type": "stream",
     "text": []
    },
    {
     "name": "stdout",
     "output_type": "stream",
     "text": [
      "\n"
     ]
    },
    {
     "name": "stderr",
     "output_type": "stream",
     "text": [
      " 26%|██▌       | 23/90 [01:46<05:22,  4.81s/it]"
     ]
    },
    {
     "name": "stdout",
     "output_type": "stream",
     "text": []
    },
    {
     "name": "stdout",
     "output_type": "stream",
     "text": [
      "\n"
     ]
    },
    {
     "name": "stderr",
     "output_type": "stream",
     "text": [
      " 27%|██▋       | 24/90 [01:50<05:15,  4.78s/it]"
     ]
    },
    {
     "name": "stdout",
     "output_type": "stream",
     "text": []
    },
    {
     "name": "stdout",
     "output_type": "stream",
     "text": [
      "\n"
     ]
    },
    {
     "name": "stderr",
     "output_type": "stream",
     "text": [
      " 28%|██▊       | 25/90 [01:54<04:56,  4.56s/it]"
     ]
    },
    {
     "name": "stdout",
     "output_type": "stream",
     "text": []
    },
    {
     "name": "stdout",
     "output_type": "stream",
     "text": [
      "\n"
     ]
    },
    {
     "name": "stderr",
     "output_type": "stream",
     "text": [
      " 29%|██▉       | 26/90 [01:58<04:38,  4.36s/it]"
     ]
    },
    {
     "name": "stdout",
     "output_type": "stream",
     "text": []
    },
    {
     "name": "stdout",
     "output_type": "stream",
     "text": [
      "\n"
     ]
    },
    {
     "name": "stderr",
     "output_type": "stream",
     "text": [
      " 30%|███       | 27/90 [02:03<04:39,  4.44s/it]"
     ]
    },
    {
     "name": "stdout",
     "output_type": "stream",
     "text": []
    },
    {
     "name": "stdout",
     "output_type": "stream",
     "text": [
      "\n"
     ]
    },
    {
     "name": "stderr",
     "output_type": "stream",
     "text": [
      " 31%|███       | 28/90 [02:10<05:22,  5.19s/it]"
     ]
    },
    {
     "name": "stdout",
     "output_type": "stream",
     "text": []
    },
    {
     "name": "stdout",
     "output_type": "stream",
     "text": [
      "\n"
     ]
    },
    {
     "name": "stderr",
     "output_type": "stream",
     "text": [
      " 32%|███▏      | 29/90 [02:15<05:21,  5.27s/it]"
     ]
    },
    {
     "name": "stdout",
     "output_type": "stream",
     "text": []
    },
    {
     "name": "stdout",
     "output_type": "stream",
     "text": [
      "\n"
     ]
    },
    {
     "name": "stderr",
     "output_type": "stream",
     "text": [
      " 33%|███▎      | 30/90 [02:24<06:13,  6.23s/it]"
     ]
    },
    {
     "name": "stdout",
     "output_type": "stream",
     "text": []
    },
    {
     "name": "stdout",
     "output_type": "stream",
     "text": [
      "\n"
     ]
    },
    {
     "name": "stderr",
     "output_type": "stream",
     "text": [
      " 34%|███▍      | 31/90 [02:33<07:07,  7.25s/it]"
     ]
    },
    {
     "name": "stdout",
     "output_type": "stream",
     "text": []
    },
    {
     "name": "stdout",
     "output_type": "stream",
     "text": [
      "\n"
     ]
    },
    {
     "name": "stderr",
     "output_type": "stream",
     "text": [
      " 36%|███▌      | 32/90 [02:39<06:31,  6.75s/it]"
     ]
    },
    {
     "name": "stdout",
     "output_type": "stream",
     "text": []
    },
    {
     "name": "stdout",
     "output_type": "stream",
     "text": [
      "\n"
     ]
    },
    {
     "name": "stderr",
     "output_type": "stream",
     "text": [
      " 37%|███▋      | 33/90 [02:42<05:22,  5.66s/it]"
     ]
    },
    {
     "name": "stdout",
     "output_type": "stream",
     "text": []
    },
    {
     "name": "stdout",
     "output_type": "stream",
     "text": [
      "\n"
     ]
    },
    {
     "name": "stderr",
     "output_type": "stream",
     "text": [
      " 38%|███▊      | 34/90 [02:47<04:58,  5.34s/it]"
     ]
    },
    {
     "name": "stdout",
     "output_type": "stream",
     "text": []
    },
    {
     "name": "stdout",
     "output_type": "stream",
     "text": [
      "\n"
     ]
    },
    {
     "name": "stderr",
     "output_type": "stream",
     "text": [
      " 39%|███▉      | 35/90 [02:53<05:00,  5.46s/it]"
     ]
    },
    {
     "name": "stdout",
     "output_type": "stream",
     "text": []
    },
    {
     "name": "stdout",
     "output_type": "stream",
     "text": [
      "\n"
     ]
    },
    {
     "name": "stderr",
     "output_type": "stream",
     "text": [
      " 40%|████      | 36/90 [03:00<05:31,  6.14s/it]"
     ]
    },
    {
     "name": "stdout",
     "output_type": "stream",
     "text": []
    },
    {
     "name": "stdout",
     "output_type": "stream",
     "text": [
      "\n"
     ]
    },
    {
     "name": "stderr",
     "output_type": "stream",
     "text": [
      " 41%|████      | 37/90 [03:04<04:52,  5.52s/it]"
     ]
    },
    {
     "name": "stdout",
     "output_type": "stream",
     "text": []
    },
    {
     "name": "stdout",
     "output_type": "stream",
     "text": [
      "\n"
     ]
    },
    {
     "name": "stderr",
     "output_type": "stream",
     "text": [
      " 42%|████▏     | 38/90 [03:09<04:33,  5.25s/it]"
     ]
    },
    {
     "name": "stdout",
     "output_type": "stream",
     "text": []
    },
    {
     "name": "stdout",
     "output_type": "stream",
     "text": [
      "\n"
     ]
    },
    {
     "name": "stderr",
     "output_type": "stream",
     "text": [
      " 43%|████▎     | 39/90 [03:15<04:36,  5.42s/it]"
     ]
    },
    {
     "name": "stdout",
     "output_type": "stream",
     "text": []
    },
    {
     "name": "stdout",
     "output_type": "stream",
     "text": [
      "\n"
     ]
    },
    {
     "name": "stderr",
     "output_type": "stream",
     "text": [
      " 44%|████▍     | 40/90 [03:18<03:58,  4.78s/it]"
     ]
    },
    {
     "name": "stdout",
     "output_type": "stream",
     "text": []
    },
    {
     "name": "stdout",
     "output_type": "stream",
     "text": [
      "\n"
     ]
    },
    {
     "name": "stderr",
     "output_type": "stream",
     "text": [
      " 46%|████▌     | 41/90 [03:21<03:28,  4.25s/it]"
     ]
    },
    {
     "name": "stdout",
     "output_type": "stream",
     "text": []
    },
    {
     "name": "stdout",
     "output_type": "stream",
     "text": [
      "\n"
     ]
    },
    {
     "name": "stderr",
     "output_type": "stream",
     "text": [
      " 47%|████▋     | 42/90 [03:24<03:08,  3.93s/it]"
     ]
    },
    {
     "name": "stdout",
     "output_type": "stream",
     "text": []
    },
    {
     "name": "stdout",
     "output_type": "stream",
     "text": [
      "\n"
     ]
    },
    {
     "name": "stderr",
     "output_type": "stream",
     "text": [
      " 48%|████▊     | 43/90 [03:32<03:52,  4.94s/it]"
     ]
    },
    {
     "name": "stdout",
     "output_type": "stream",
     "text": []
    },
    {
     "name": "stdout",
     "output_type": "stream",
     "text": [
      "\n"
     ]
    },
    {
     "name": "stderr",
     "output_type": "stream",
     "text": [
      " 49%|████▉     | 44/90 [03:38<04:08,  5.41s/it]"
     ]
    },
    {
     "name": "stdout",
     "output_type": "stream",
     "text": []
    },
    {
     "name": "stdout",
     "output_type": "stream",
     "text": [
      "\n"
     ]
    },
    {
     "name": "stderr",
     "output_type": "stream",
     "text": [
      " 50%|█████     | 45/90 [03:41<03:34,  4.77s/it]"
     ]
    },
    {
     "name": "stdout",
     "output_type": "stream",
     "text": []
    },
    {
     "name": "stdout",
     "output_type": "stream",
     "text": [
      "\n"
     ]
    },
    {
     "name": "stderr",
     "output_type": "stream",
     "text": [
      " 51%|█████     | 46/90 [03:45<03:09,  4.30s/it]"
     ]
    },
    {
     "name": "stdout",
     "output_type": "stream",
     "text": []
    },
    {
     "name": "stdout",
     "output_type": "stream",
     "text": [
      "\n"
     ]
    },
    {
     "name": "stderr",
     "output_type": "stream",
     "text": [
      " 52%|█████▏    | 47/90 [03:48<02:59,  4.18s/it]"
     ]
    },
    {
     "name": "stdout",
     "output_type": "stream",
     "text": []
    },
    {
     "name": "stdout",
     "output_type": "stream",
     "text": [
      "\n"
     ]
    },
    {
     "name": "stderr",
     "output_type": "stream",
     "text": [
      " 53%|█████▎    | 48/90 [03:53<03:04,  4.40s/it]"
     ]
    },
    {
     "name": "stdout",
     "output_type": "stream",
     "text": []
    },
    {
     "name": "stdout",
     "output_type": "stream",
     "text": [
      "\n"
     ]
    },
    {
     "name": "stderr",
     "output_type": "stream",
     "text": [
      " 54%|█████▍    | 49/90 [04:02<03:50,  5.62s/it]"
     ]
    },
    {
     "name": "stdout",
     "output_type": "stream",
     "text": []
    },
    {
     "name": "stdout",
     "output_type": "stream",
     "text": [
      "\n"
     ]
    },
    {
     "name": "stderr",
     "output_type": "stream",
     "text": [
      " 56%|█████▌    | 50/90 [04:06<03:25,  5.13s/it]"
     ]
    },
    {
     "name": "stdout",
     "output_type": "stream",
     "text": []
    },
    {
     "name": "stdout",
     "output_type": "stream",
     "text": [
      "\n"
     ]
    },
    {
     "name": "stderr",
     "output_type": "stream",
     "text": [
      " 57%|█████▋    | 51/90 [04:09<02:54,  4.48s/it]"
     ]
    },
    {
     "name": "stdout",
     "output_type": "stream",
     "text": []
    },
    {
     "name": "stdout",
     "output_type": "stream",
     "text": [
      "\n"
     ]
    },
    {
     "name": "stderr",
     "output_type": "stream",
     "text": [
      " 58%|█████▊    | 52/90 [04:14<02:54,  4.60s/it]"
     ]
    },
    {
     "name": "stdout",
     "output_type": "stream",
     "text": []
    },
    {
     "name": "stdout",
     "output_type": "stream",
     "text": [
      "\n"
     ]
    },
    {
     "name": "stderr",
     "output_type": "stream",
     "text": [
      " 59%|█████▉    | 53/90 [04:17<02:39,  4.31s/it]"
     ]
    },
    {
     "name": "stdout",
     "output_type": "stream",
     "text": []
    },
    {
     "name": "stdout",
     "output_type": "stream",
     "text": [
      "\n"
     ]
    },
    {
     "name": "stderr",
     "output_type": "stream",
     "text": [
      " 60%|██████    | 54/90 [04:23<02:46,  4.62s/it]"
     ]
    },
    {
     "name": "stdout",
     "output_type": "stream",
     "text": []
    },
    {
     "name": "stdout",
     "output_type": "stream",
     "text": [
      "\n"
     ]
    },
    {
     "name": "stderr",
     "output_type": "stream",
     "text": [
      " 61%|██████    | 55/90 [04:27<02:39,  4.56s/it]"
     ]
    },
    {
     "name": "stdout",
     "output_type": "stream",
     "text": []
    },
    {
     "name": "stdout",
     "output_type": "stream",
     "text": [
      "\n"
     ]
    },
    {
     "name": "stderr",
     "output_type": "stream",
     "text": [
      " 62%|██████▏   | 56/90 [04:33<02:46,  4.89s/it]"
     ]
    },
    {
     "name": "stdout",
     "output_type": "stream",
     "text": []
    },
    {
     "name": "stdout",
     "output_type": "stream",
     "text": [
      "\n"
     ]
    },
    {
     "name": "stderr",
     "output_type": "stream",
     "text": [
      " 63%|██████▎   | 57/90 [04:36<02:30,  4.55s/it]"
     ]
    },
    {
     "name": "stdout",
     "output_type": "stream",
     "text": []
    },
    {
     "name": "stdout",
     "output_type": "stream",
     "text": [
      "\n"
     ]
    },
    {
     "name": "stderr",
     "output_type": "stream",
     "text": [
      " 64%|██████▍   | 58/90 [04:39<02:05,  3.93s/it]"
     ]
    },
    {
     "name": "stdout",
     "output_type": "stream",
     "text": []
    },
    {
     "name": "stdout",
     "output_type": "stream",
     "text": [
      "\n"
     ]
    },
    {
     "name": "stderr",
     "output_type": "stream",
     "text": [
      " 66%|██████▌   | 59/90 [04:43<02:02,  3.94s/it]"
     ]
    },
    {
     "name": "stdout",
     "output_type": "stream",
     "text": []
    },
    {
     "name": "stdout",
     "output_type": "stream",
     "text": [
      "\n"
     ]
    },
    {
     "name": "stderr",
     "output_type": "stream",
     "text": [
      " 67%|██████▋   | 60/90 [04:47<02:03,  4.10s/it]"
     ]
    },
    {
     "name": "stdout",
     "output_type": "stream",
     "text": []
    },
    {
     "name": "stdout",
     "output_type": "stream",
     "text": [
      "\n"
     ]
    },
    {
     "name": "stderr",
     "output_type": "stream",
     "text": [
      " 68%|██████▊   | 61/90 [04:53<02:07,  4.41s/it]"
     ]
    },
    {
     "name": "stdout",
     "output_type": "stream",
     "text": []
    },
    {
     "name": "stdout",
     "output_type": "stream",
     "text": [
      "\n"
     ]
    },
    {
     "name": "stderr",
     "output_type": "stream",
     "text": [
      " 69%|██████▉   | 62/90 [04:55<01:48,  3.89s/it]"
     ]
    },
    {
     "name": "stdout",
     "output_type": "stream",
     "text": []
    },
    {
     "name": "stdout",
     "output_type": "stream",
     "text": [
      "\n"
     ]
    },
    {
     "name": "stderr",
     "output_type": "stream",
     "text": [
      " 70%|███████   | 63/90 [04:59<01:43,  3.85s/it]"
     ]
    },
    {
     "name": "stdout",
     "output_type": "stream",
     "text": []
    },
    {
     "name": "stdout",
     "output_type": "stream",
     "text": [
      "\n"
     ]
    },
    {
     "name": "stderr",
     "output_type": "stream",
     "text": [
      " 71%|███████   | 64/90 [05:03<01:43,  4.00s/it]"
     ]
    },
    {
     "name": "stdout",
     "output_type": "stream",
     "text": []
    },
    {
     "name": "stdout",
     "output_type": "stream",
     "text": [
      "\n"
     ]
    },
    {
     "name": "stderr",
     "output_type": "stream",
     "text": [
      " 72%|███████▏  | 65/90 [05:07<01:38,  3.95s/it]"
     ]
    },
    {
     "name": "stdout",
     "output_type": "stream",
     "text": []
    },
    {
     "name": "stdout",
     "output_type": "stream",
     "text": [
      "\n"
     ]
    },
    {
     "name": "stderr",
     "output_type": "stream",
     "text": [
      " 73%|███████▎  | 66/90 [05:11<01:37,  4.05s/it]"
     ]
    },
    {
     "name": "stdout",
     "output_type": "stream",
     "text": []
    },
    {
     "name": "stdout",
     "output_type": "stream",
     "text": [
      "\n"
     ]
    },
    {
     "name": "stderr",
     "output_type": "stream",
     "text": [
      " 74%|███████▍  | 67/90 [05:15<01:28,  3.86s/it]"
     ]
    },
    {
     "name": "stdout",
     "output_type": "stream",
     "text": []
    },
    {
     "name": "stdout",
     "output_type": "stream",
     "text": [
      "\n"
     ]
    },
    {
     "name": "stderr",
     "output_type": "stream",
     "text": [
      " 76%|███████▌  | 68/90 [05:19<01:24,  3.83s/it]"
     ]
    },
    {
     "name": "stdout",
     "output_type": "stream",
     "text": []
    },
    {
     "name": "stdout",
     "output_type": "stream",
     "text": [
      "\n"
     ]
    },
    {
     "name": "stderr",
     "output_type": "stream",
     "text": [
      " 77%|███████▋  | 69/90 [05:22<01:20,  3.81s/it]"
     ]
    },
    {
     "name": "stdout",
     "output_type": "stream",
     "text": []
    },
    {
     "name": "stdout",
     "output_type": "stream",
     "text": [
      "\n"
     ]
    },
    {
     "name": "stderr",
     "output_type": "stream",
     "text": [
      " 78%|███████▊  | 70/90 [05:30<01:36,  4.84s/it]"
     ]
    },
    {
     "name": "stdout",
     "output_type": "stream",
     "text": []
    },
    {
     "name": "stdout",
     "output_type": "stream",
     "text": [
      "\n"
     ]
    },
    {
     "name": "stderr",
     "output_type": "stream",
     "text": [
      " 79%|███████▉  | 71/90 [05:33<01:23,  4.40s/it]"
     ]
    },
    {
     "name": "stdout",
     "output_type": "stream",
     "text": []
    },
    {
     "name": "stdout",
     "output_type": "stream",
     "text": [
      "\n"
     ]
    },
    {
     "name": "stderr",
     "output_type": "stream",
     "text": [
      " 80%|████████  | 72/90 [05:36<01:10,  3.92s/it]"
     ]
    },
    {
     "name": "stdout",
     "output_type": "stream",
     "text": []
    },
    {
     "name": "stdout",
     "output_type": "stream",
     "text": [
      "\n"
     ]
    },
    {
     "name": "stderr",
     "output_type": "stream",
     "text": [
      " 81%|████████  | 73/90 [05:40<01:06,  3.91s/it]"
     ]
    },
    {
     "name": "stdout",
     "output_type": "stream",
     "text": []
    },
    {
     "name": "stdout",
     "output_type": "stream",
     "text": [
      "\n"
     ]
    },
    {
     "name": "stderr",
     "output_type": "stream",
     "text": [
      " 82%|████████▏ | 74/90 [05:47<01:18,  4.93s/it]"
     ]
    },
    {
     "name": "stdout",
     "output_type": "stream",
     "text": []
    },
    {
     "name": "stdout",
     "output_type": "stream",
     "text": [
      "\n"
     ]
    },
    {
     "name": "stderr",
     "output_type": "stream",
     "text": [
      " 83%|████████▎ | 75/90 [05:52<01:14,  4.94s/it]"
     ]
    },
    {
     "name": "stdout",
     "output_type": "stream",
     "text": []
    },
    {
     "name": "stdout",
     "output_type": "stream",
     "text": [
      "\n"
     ]
    },
    {
     "name": "stderr",
     "output_type": "stream",
     "text": [
      " 84%|████████▍ | 76/90 [05:59<01:17,  5.57s/it]"
     ]
    },
    {
     "name": "stdout",
     "output_type": "stream",
     "text": []
    },
    {
     "name": "stdout",
     "output_type": "stream",
     "text": [
      "\n"
     ]
    },
    {
     "name": "stderr",
     "output_type": "stream",
     "text": [
      " 86%|████████▌ | 77/90 [06:03<01:07,  5.20s/it]"
     ]
    },
    {
     "name": "stdout",
     "output_type": "stream",
     "text": []
    },
    {
     "name": "stdout",
     "output_type": "stream",
     "text": [
      "\n"
     ]
    },
    {
     "name": "stderr",
     "output_type": "stream",
     "text": [
      " 87%|████████▋ | 78/90 [06:07<00:57,  4.79s/it]"
     ]
    },
    {
     "name": "stdout",
     "output_type": "stream",
     "text": []
    },
    {
     "name": "stdout",
     "output_type": "stream",
     "text": [
      "\n"
     ]
    },
    {
     "name": "stderr",
     "output_type": "stream",
     "text": [
      " 88%|████████▊ | 79/90 [06:12<00:53,  4.90s/it]"
     ]
    },
    {
     "name": "stdout",
     "output_type": "stream",
     "text": []
    },
    {
     "name": "stdout",
     "output_type": "stream",
     "text": [
      "\n"
     ]
    },
    {
     "name": "stderr",
     "output_type": "stream",
     "text": [
      " 89%|████████▉ | 80/90 [06:16<00:45,  4.53s/it]"
     ]
    },
    {
     "name": "stdout",
     "output_type": "stream",
     "text": []
    },
    {
     "name": "stdout",
     "output_type": "stream",
     "text": [
      "\n"
     ]
    },
    {
     "name": "stderr",
     "output_type": "stream",
     "text": [
      " 90%|█████████ | 81/90 [06:19<00:37,  4.11s/it]"
     ]
    },
    {
     "name": "stdout",
     "output_type": "stream",
     "text": []
    },
    {
     "name": "stdout",
     "output_type": "stream",
     "text": [
      "\n"
     ]
    },
    {
     "name": "stderr",
     "output_type": "stream",
     "text": [
      " 91%|█████████ | 82/90 [06:22<00:30,  3.80s/it]"
     ]
    },
    {
     "name": "stdout",
     "output_type": "stream",
     "text": []
    },
    {
     "name": "stdout",
     "output_type": "stream",
     "text": [
      "\n"
     ]
    },
    {
     "name": "stderr",
     "output_type": "stream",
     "text": [
      " 92%|█████████▏| 83/90 [06:28<00:31,  4.48s/it]"
     ]
    },
    {
     "name": "stdout",
     "output_type": "stream",
     "text": []
    },
    {
     "name": "stdout",
     "output_type": "stream",
     "text": [
      "\n"
     ]
    },
    {
     "name": "stderr",
     "output_type": "stream",
     "text": [
      " 93%|█████████▎| 84/90 [06:33<00:27,  4.56s/it]"
     ]
    },
    {
     "name": "stdout",
     "output_type": "stream",
     "text": []
    },
    {
     "name": "stdout",
     "output_type": "stream",
     "text": [
      "\n"
     ]
    },
    {
     "name": "stderr",
     "output_type": "stream",
     "text": [
      " 94%|█████████▍| 85/90 [06:37<00:21,  4.27s/it]"
     ]
    },
    {
     "name": "stdout",
     "output_type": "stream",
     "text": []
    },
    {
     "name": "stdout",
     "output_type": "stream",
     "text": [
      "\n"
     ]
    },
    {
     "name": "stderr",
     "output_type": "stream",
     "text": [
      " 96%|█████████▌| 86/90 [06:41<00:17,  4.34s/it]"
     ]
    },
    {
     "name": "stdout",
     "output_type": "stream",
     "text": []
    },
    {
     "name": "stdout",
     "output_type": "stream",
     "text": [
      "\n"
     ]
    },
    {
     "name": "stderr",
     "output_type": "stream",
     "text": [
      " 97%|█████████▋| 87/90 [06:46<00:13,  4.49s/it]"
     ]
    },
    {
     "name": "stdout",
     "output_type": "stream",
     "text": []
    },
    {
     "name": "stdout",
     "output_type": "stream",
     "text": [
      "\n"
     ]
    },
    {
     "name": "stderr",
     "output_type": "stream",
     "text": [
      " 98%|█████████▊| 88/90 [06:51<00:09,  4.58s/it]"
     ]
    },
    {
     "name": "stdout",
     "output_type": "stream",
     "text": []
    },
    {
     "name": "stdout",
     "output_type": "stream",
     "text": [
      "\n"
     ]
    },
    {
     "name": "stderr",
     "output_type": "stream",
     "text": [
      " 99%|█████████▉| 89/90 [06:55<00:04,  4.43s/it]"
     ]
    },
    {
     "name": "stdout",
     "output_type": "stream",
     "text": []
    },
    {
     "name": "stdout",
     "output_type": "stream",
     "text": [
      "\n"
     ]
    },
    {
     "name": "stderr",
     "output_type": "stream",
     "text": [
      "100%|██████████| 90/90 [07:01<00:00,  4.99s/it]\n",
      "  0%|          | 0/90 [00:00<?, ?it/s]"
     ]
    },
    {
     "name": "stdout",
     "output_type": "stream",
     "text": []
    },
    {
     "name": "stdout",
     "output_type": "stream",
     "text": [
      "\n"
     ]
    },
    {
     "name": "stderr",
     "output_type": "stream",
     "text": [
      "  1%|          | 1/90 [00:03<05:02,  3.40s/it]"
     ]
    },
    {
     "name": "stdout",
     "output_type": "stream",
     "text": []
    },
    {
     "name": "stdout",
     "output_type": "stream",
     "text": [
      "\n"
     ]
    },
    {
     "name": "stderr",
     "output_type": "stream",
     "text": [
      "  2%|▏         | 2/90 [00:08<05:45,  3.93s/it]"
     ]
    },
    {
     "name": "stdout",
     "output_type": "stream",
     "text": []
    },
    {
     "name": "stdout",
     "output_type": "stream",
     "text": [
      "\n"
     ]
    },
    {
     "name": "stderr",
     "output_type": "stream",
     "text": [
      "  3%|▎         | 3/90 [00:13<05:57,  4.11s/it]"
     ]
    },
    {
     "name": "stdout",
     "output_type": "stream",
     "text": []
    },
    {
     "name": "stdout",
     "output_type": "stream",
     "text": [
      "\n"
     ]
    },
    {
     "name": "stderr",
     "output_type": "stream",
     "text": [
      "  4%|▍         | 4/90 [00:16<05:36,  3.92s/it]"
     ]
    },
    {
     "name": "stdout",
     "output_type": "stream",
     "text": []
    },
    {
     "name": "stdout",
     "output_type": "stream",
     "text": [
      "\n"
     ]
    },
    {
     "name": "stderr",
     "output_type": "stream",
     "text": [
      "  6%|▌         | 5/90 [00:20<05:30,  3.89s/it]"
     ]
    },
    {
     "name": "stdout",
     "output_type": "stream",
     "text": []
    },
    {
     "name": "stdout",
     "output_type": "stream",
     "text": [
      "\n"
     ]
    },
    {
     "name": "stderr",
     "output_type": "stream",
     "text": [
      "  7%|▋         | 6/90 [00:24<05:37,  4.01s/it]"
     ]
    },
    {
     "name": "stdout",
     "output_type": "stream",
     "text": []
    },
    {
     "name": "stdout",
     "output_type": "stream",
     "text": [
      "\n"
     ]
    },
    {
     "name": "stderr",
     "output_type": "stream",
     "text": [
      "  8%|▊         | 7/90 [00:29<05:46,  4.17s/it]"
     ]
    },
    {
     "name": "stdout",
     "output_type": "stream",
     "text": []
    },
    {
     "name": "stdout",
     "output_type": "stream",
     "text": [
      "\n"
     ]
    },
    {
     "name": "stderr",
     "output_type": "stream",
     "text": [
      "  9%|▉         | 8/90 [00:33<05:51,  4.29s/it]"
     ]
    },
    {
     "name": "stdout",
     "output_type": "stream",
     "text": []
    },
    {
     "name": "stdout",
     "output_type": "stream",
     "text": [
      "\n"
     ]
    },
    {
     "name": "stderr",
     "output_type": "stream",
     "text": [
      " 10%|█         | 9/90 [00:38<05:47,  4.29s/it]"
     ]
    },
    {
     "name": "stdout",
     "output_type": "stream",
     "text": []
    },
    {
     "name": "stdout",
     "output_type": "stream",
     "text": [
      "\n"
     ]
    },
    {
     "name": "stderr",
     "output_type": "stream",
     "text": [
      " 11%|█         | 10/90 [00:41<05:23,  4.04s/it]"
     ]
    },
    {
     "name": "stdout",
     "output_type": "stream",
     "text": []
    },
    {
     "name": "stdout",
     "output_type": "stream",
     "text": [
      "\n"
     ]
    },
    {
     "name": "stderr",
     "output_type": "stream",
     "text": [
      " 12%|█▏        | 11/90 [00:45<05:25,  4.12s/it]"
     ]
    },
    {
     "name": "stdout",
     "output_type": "stream",
     "text": []
    },
    {
     "name": "stdout",
     "output_type": "stream",
     "text": [
      "\n"
     ]
    },
    {
     "name": "stderr",
     "output_type": "stream",
     "text": [
      " 13%|█▎        | 12/90 [00:51<06:02,  4.65s/it]"
     ]
    },
    {
     "name": "stdout",
     "output_type": "stream",
     "text": []
    },
    {
     "name": "stdout",
     "output_type": "stream",
     "text": [
      "\n"
     ]
    },
    {
     "name": "stderr",
     "output_type": "stream",
     "text": [
      " 14%|█▍        | 13/90 [00:56<06:10,  4.81s/it]"
     ]
    },
    {
     "name": "stdout",
     "output_type": "stream",
     "text": []
    },
    {
     "name": "stdout",
     "output_type": "stream",
     "text": [
      "\n"
     ]
    },
    {
     "name": "stderr",
     "output_type": "stream",
     "text": [
      " 16%|█▌        | 14/90 [00:59<05:16,  4.17s/it]"
     ]
    },
    {
     "name": "stdout",
     "output_type": "stream",
     "text": []
    },
    {
     "name": "stdout",
     "output_type": "stream",
     "text": [
      "\n"
     ]
    },
    {
     "name": "stderr",
     "output_type": "stream",
     "text": [
      " 17%|█▋        | 15/90 [01:03<05:08,  4.12s/it]"
     ]
    },
    {
     "name": "stdout",
     "output_type": "stream",
     "text": []
    },
    {
     "name": "stdout",
     "output_type": "stream",
     "text": [
      "\n"
     ]
    },
    {
     "name": "stderr",
     "output_type": "stream",
     "text": [
      " 18%|█▊        | 16/90 [01:11<06:19,  5.13s/it]"
     ]
    },
    {
     "name": "stdout",
     "output_type": "stream",
     "text": []
    },
    {
     "name": "stdout",
     "output_type": "stream",
     "text": [
      "\n"
     ]
    },
    {
     "name": "stderr",
     "output_type": "stream",
     "text": [
      " 19%|█▉        | 17/90 [01:16<06:25,  5.28s/it]"
     ]
    },
    {
     "name": "stdout",
     "output_type": "stream",
     "text": []
    },
    {
     "name": "stdout",
     "output_type": "stream",
     "text": [
      "\n"
     ]
    },
    {
     "name": "stderr",
     "output_type": "stream",
     "text": [
      " 20%|██        | 18/90 [01:21<06:14,  5.21s/it]"
     ]
    },
    {
     "name": "stdout",
     "output_type": "stream",
     "text": []
    },
    {
     "name": "stdout",
     "output_type": "stream",
     "text": [
      "\n"
     ]
    },
    {
     "name": "stderr",
     "output_type": "stream",
     "text": [
      " 21%|██        | 19/90 [01:24<05:25,  4.58s/it]"
     ]
    },
    {
     "name": "stdout",
     "output_type": "stream",
     "text": []
    },
    {
     "name": "stdout",
     "output_type": "stream",
     "text": [
      "\n"
     ]
    },
    {
     "name": "stderr",
     "output_type": "stream",
     "text": [
      " 22%|██▏       | 20/90 [01:28<04:52,  4.17s/it]"
     ]
    },
    {
     "name": "stdout",
     "output_type": "stream",
     "text": []
    },
    {
     "name": "stdout",
     "output_type": "stream",
     "text": [
      "\n"
     ]
    },
    {
     "name": "stderr",
     "output_type": "stream",
     "text": [
      " 23%|██▎       | 21/90 [01:32<04:52,  4.24s/it]"
     ]
    },
    {
     "name": "stdout",
     "output_type": "stream",
     "text": []
    },
    {
     "name": "stdout",
     "output_type": "stream",
     "text": [
      "\n"
     ]
    },
    {
     "name": "stderr",
     "output_type": "stream",
     "text": [
      " 24%|██▍       | 22/90 [01:37<05:04,  4.48s/it]"
     ]
    },
    {
     "name": "stdout",
     "output_type": "stream",
     "text": []
    },
    {
     "name": "stdout",
     "output_type": "stream",
     "text": [
      "\n"
     ]
    },
    {
     "name": "stderr",
     "output_type": "stream",
     "text": [
      " 26%|██▌       | 23/90 [01:42<05:07,  4.60s/it]"
     ]
    },
    {
     "name": "stdout",
     "output_type": "stream",
     "text": []
    },
    {
     "name": "stdout",
     "output_type": "stream",
     "text": [
      "\n"
     ]
    },
    {
     "name": "stderr",
     "output_type": "stream",
     "text": [
      " 27%|██▋       | 24/90 [01:47<05:23,  4.90s/it]"
     ]
    },
    {
     "name": "stdout",
     "output_type": "stream",
     "text": []
    },
    {
     "name": "stdout",
     "output_type": "stream",
     "text": [
      "\n"
     ]
    },
    {
     "name": "stderr",
     "output_type": "stream",
     "text": [
      " 28%|██▊       | 25/90 [01:51<04:56,  4.56s/it]"
     ]
    },
    {
     "name": "stdout",
     "output_type": "stream",
     "text": []
    },
    {
     "name": "stdout",
     "output_type": "stream",
     "text": [
      "\n"
     ]
    },
    {
     "name": "stderr",
     "output_type": "stream",
     "text": [
      " 29%|██▉       | 26/90 [01:57<05:23,  5.06s/it]"
     ]
    },
    {
     "name": "stdout",
     "output_type": "stream",
     "text": []
    },
    {
     "name": "stdout",
     "output_type": "stream",
     "text": [
      "\n"
     ]
    },
    {
     "name": "stderr",
     "output_type": "stream",
     "text": [
      " 30%|███       | 27/90 [02:02<05:01,  4.78s/it]"
     ]
    },
    {
     "name": "stdout",
     "output_type": "stream",
     "text": []
    },
    {
     "name": "stdout",
     "output_type": "stream",
     "text": [
      "\n"
     ]
    },
    {
     "name": "stderr",
     "output_type": "stream",
     "text": [
      " 31%|███       | 28/90 [02:07<05:12,  5.04s/it]"
     ]
    },
    {
     "name": "stdout",
     "output_type": "stream",
     "text": []
    },
    {
     "name": "stdout",
     "output_type": "stream",
     "text": [
      "\n"
     ]
    },
    {
     "name": "stderr",
     "output_type": "stream",
     "text": [
      " 32%|███▏      | 29/90 [02:13<05:22,  5.28s/it]"
     ]
    },
    {
     "name": "stdout",
     "output_type": "stream",
     "text": []
    },
    {
     "name": "stdout",
     "output_type": "stream",
     "text": [
      "\n"
     ]
    },
    {
     "name": "stderr",
     "output_type": "stream",
     "text": [
      " 33%|███▎      | 30/90 [02:16<04:38,  4.64s/it]"
     ]
    },
    {
     "name": "stdout",
     "output_type": "stream",
     "text": []
    },
    {
     "name": "stdout",
     "output_type": "stream",
     "text": [
      "\n"
     ]
    },
    {
     "name": "stderr",
     "output_type": "stream",
     "text": [
      " 34%|███▍      | 31/90 [02:21<04:40,  4.75s/it]"
     ]
    },
    {
     "name": "stdout",
     "output_type": "stream",
     "text": []
    },
    {
     "name": "stdout",
     "output_type": "stream",
     "text": [
      "\n"
     ]
    },
    {
     "name": "stderr",
     "output_type": "stream",
     "text": [
      " 36%|███▌      | 32/90 [02:29<05:21,  5.54s/it]"
     ]
    },
    {
     "name": "stdout",
     "output_type": "stream",
     "text": []
    },
    {
     "name": "stdout",
     "output_type": "stream",
     "text": [
      "\n"
     ]
    },
    {
     "name": "stderr",
     "output_type": "stream",
     "text": [
      " 37%|███▋      | 33/90 [02:37<06:08,  6.46s/it]"
     ]
    },
    {
     "name": "stdout",
     "output_type": "stream",
     "text": []
    },
    {
     "name": "stdout",
     "output_type": "stream",
     "text": [
      "\n"
     ]
    },
    {
     "name": "stderr",
     "output_type": "stream",
     "text": [
      " 38%|███▊      | 34/90 [02:43<05:53,  6.30s/it]"
     ]
    },
    {
     "name": "stdout",
     "output_type": "stream",
     "text": []
    },
    {
     "name": "stdout",
     "output_type": "stream",
     "text": [
      "\n"
     ]
    },
    {
     "name": "stderr",
     "output_type": "stream",
     "text": [
      " 39%|███▉      | 35/90 [02:49<05:40,  6.20s/it]"
     ]
    },
    {
     "name": "stdout",
     "output_type": "stream",
     "text": []
    },
    {
     "name": "stdout",
     "output_type": "stream",
     "text": [
      "\n"
     ]
    },
    {
     "name": "stderr",
     "output_type": "stream",
     "text": [
      " 40%|████      | 36/90 [02:54<05:05,  5.66s/it]"
     ]
    },
    {
     "name": "stdout",
     "output_type": "stream",
     "text": []
    },
    {
     "name": "stdout",
     "output_type": "stream",
     "text": [
      "\n"
     ]
    },
    {
     "name": "stderr",
     "output_type": "stream",
     "text": [
      " 41%|████      | 37/90 [03:00<05:08,  5.82s/it]"
     ]
    },
    {
     "name": "stdout",
     "output_type": "stream",
     "text": []
    },
    {
     "name": "stdout",
     "output_type": "stream",
     "text": [
      "\n"
     ]
    },
    {
     "name": "stderr",
     "output_type": "stream",
     "text": [
      " 42%|████▏     | 38/90 [03:04<04:43,  5.45s/it]"
     ]
    },
    {
     "name": "stdout",
     "output_type": "stream",
     "text": []
    },
    {
     "name": "stdout",
     "output_type": "stream",
     "text": [
      "\n"
     ]
    },
    {
     "name": "stderr",
     "output_type": "stream",
     "text": [
      " 43%|████▎     | 39/90 [03:09<04:28,  5.26s/it]"
     ]
    },
    {
     "name": "stdout",
     "output_type": "stream",
     "text": []
    },
    {
     "name": "stdout",
     "output_type": "stream",
     "text": [
      "\n"
     ]
    },
    {
     "name": "stderr",
     "output_type": "stream",
     "text": [
      " 44%|████▍     | 40/90 [03:14<04:20,  5.21s/it]"
     ]
    },
    {
     "name": "stdout",
     "output_type": "stream",
     "text": []
    },
    {
     "name": "stdout",
     "output_type": "stream",
     "text": [
      "\n"
     ]
    },
    {
     "name": "stderr",
     "output_type": "stream",
     "text": [
      " 46%|████▌     | 41/90 [03:18<03:48,  4.66s/it]"
     ]
    },
    {
     "name": "stdout",
     "output_type": "stream",
     "text": []
    },
    {
     "name": "stdout",
     "output_type": "stream",
     "text": [
      "\n"
     ]
    },
    {
     "name": "stderr",
     "output_type": "stream",
     "text": [
      " 47%|████▋     | 42/90 [03:21<03:27,  4.33s/it]"
     ]
    },
    {
     "name": "stdout",
     "output_type": "stream",
     "text": []
    },
    {
     "name": "stdout",
     "output_type": "stream",
     "text": [
      "\n"
     ]
    },
    {
     "name": "stderr",
     "output_type": "stream",
     "text": [
      " 48%|████▊     | 43/90 [03:25<03:13,  4.11s/it]"
     ]
    },
    {
     "name": "stdout",
     "output_type": "stream",
     "text": []
    },
    {
     "name": "stdout",
     "output_type": "stream",
     "text": [
      "\n"
     ]
    },
    {
     "name": "stderr",
     "output_type": "stream",
     "text": [
      " 49%|████▉     | 44/90 [03:29<03:13,  4.21s/it]"
     ]
    },
    {
     "name": "stdout",
     "output_type": "stream",
     "text": []
    },
    {
     "name": "stdout",
     "output_type": "stream",
     "text": [
      "\n"
     ]
    },
    {
     "name": "stderr",
     "output_type": "stream",
     "text": [
      " 50%|█████     | 45/90 [03:34<03:16,  4.37s/it]"
     ]
    },
    {
     "name": "stdout",
     "output_type": "stream",
     "text": []
    },
    {
     "name": "stdout",
     "output_type": "stream",
     "text": [
      "\n"
     ]
    },
    {
     "name": "stderr",
     "output_type": "stream",
     "text": [
      " 51%|█████     | 46/90 [03:38<03:06,  4.24s/it]"
     ]
    },
    {
     "name": "stdout",
     "output_type": "stream",
     "text": []
    },
    {
     "name": "stdout",
     "output_type": "stream",
     "text": [
      "\n"
     ]
    },
    {
     "name": "stderr",
     "output_type": "stream",
     "text": [
      " 52%|█████▏    | 47/90 [03:44<03:25,  4.79s/it]"
     ]
    },
    {
     "name": "stdout",
     "output_type": "stream",
     "text": []
    },
    {
     "name": "stdout",
     "output_type": "stream",
     "text": [
      "\n"
     ]
    },
    {
     "name": "stderr",
     "output_type": "stream",
     "text": [
      " 53%|█████▎    | 48/90 [03:48<03:14,  4.64s/it]"
     ]
    },
    {
     "name": "stdout",
     "output_type": "stream",
     "text": []
    },
    {
     "name": "stdout",
     "output_type": "stream",
     "text": [
      "\n"
     ]
    },
    {
     "name": "stderr",
     "output_type": "stream",
     "text": [
      " 54%|█████▍    | 49/90 [03:54<03:21,  4.91s/it]"
     ]
    },
    {
     "name": "stdout",
     "output_type": "stream",
     "text": []
    },
    {
     "name": "stdout",
     "output_type": "stream",
     "text": [
      "\n"
     ]
    },
    {
     "name": "stderr",
     "output_type": "stream",
     "text": [
      " 56%|█████▌    | 50/90 [03:59<03:21,  5.04s/it]"
     ]
    },
    {
     "name": "stdout",
     "output_type": "stream",
     "text": []
    },
    {
     "name": "stdout",
     "output_type": "stream",
     "text": [
      "\n"
     ]
    },
    {
     "name": "stderr",
     "output_type": "stream",
     "text": [
      " 57%|█████▋    | 51/90 [04:06<03:35,  5.52s/it]"
     ]
    },
    {
     "name": "stdout",
     "output_type": "stream",
     "text": []
    },
    {
     "name": "stdout",
     "output_type": "stream",
     "text": [
      "\n"
     ]
    },
    {
     "name": "stderr",
     "output_type": "stream",
     "text": [
      " 58%|█████▊    | 52/90 [04:11<03:28,  5.49s/it]"
     ]
    },
    {
     "name": "stdout",
     "output_type": "stream",
     "text": []
    },
    {
     "name": "stdout",
     "output_type": "stream",
     "text": [
      "\n"
     ]
    },
    {
     "name": "stderr",
     "output_type": "stream",
     "text": [
      " 59%|█████▉    | 53/90 [04:16<03:18,  5.36s/it]"
     ]
    },
    {
     "name": "stdout",
     "output_type": "stream",
     "text": []
    },
    {
     "name": "stdout",
     "output_type": "stream",
     "text": [
      "\n"
     ]
    },
    {
     "name": "stderr",
     "output_type": "stream",
     "text": [
      " 60%|██████    | 54/90 [04:20<02:56,  4.89s/it]"
     ]
    },
    {
     "name": "stdout",
     "output_type": "stream",
     "text": []
    },
    {
     "name": "stdout",
     "output_type": "stream",
     "text": [
      "\n"
     ]
    },
    {
     "name": "stderr",
     "output_type": "stream",
     "text": [
      " 61%|██████    | 55/90 [04:24<02:35,  4.46s/it]"
     ]
    },
    {
     "name": "stdout",
     "output_type": "stream",
     "text": []
    },
    {
     "name": "stdout",
     "output_type": "stream",
     "text": [
      "\n"
     ]
    },
    {
     "name": "stderr",
     "output_type": "stream",
     "text": [
      " 62%|██████▏   | 56/90 [04:28<02:35,  4.57s/it]"
     ]
    },
    {
     "name": "stdout",
     "output_type": "stream",
     "text": []
    },
    {
     "name": "stdout",
     "output_type": "stream",
     "text": [
      "\n"
     ]
    },
    {
     "name": "stderr",
     "output_type": "stream",
     "text": [
      " 63%|██████▎   | 57/90 [04:33<02:34,  4.67s/it]"
     ]
    },
    {
     "name": "stdout",
     "output_type": "stream",
     "text": []
    },
    {
     "name": "stdout",
     "output_type": "stream",
     "text": [
      "\n"
     ]
    },
    {
     "name": "stderr",
     "output_type": "stream",
     "text": [
      " 64%|██████▍   | 58/90 [04:37<02:21,  4.41s/it]"
     ]
    },
    {
     "name": "stdout",
     "output_type": "stream",
     "text": []
    },
    {
     "name": "stdout",
     "output_type": "stream",
     "text": [
      "\n"
     ]
    },
    {
     "name": "stderr",
     "output_type": "stream",
     "text": [
      " 66%|██████▌   | 59/90 [04:42<02:19,  4.49s/it]"
     ]
    },
    {
     "name": "stdout",
     "output_type": "stream",
     "text": []
    },
    {
     "name": "stdout",
     "output_type": "stream",
     "text": [
      "\n"
     ]
    },
    {
     "name": "stderr",
     "output_type": "stream",
     "text": [
      " 67%|██████▋   | 60/90 [04:45<02:03,  4.12s/it]"
     ]
    },
    {
     "name": "stdout",
     "output_type": "stream",
     "text": []
    },
    {
     "name": "stdout",
     "output_type": "stream",
     "text": [
      "\n"
     ]
    },
    {
     "name": "stderr",
     "output_type": "stream",
     "text": [
      " 68%|██████▊   | 61/90 [04:48<01:49,  3.78s/it]"
     ]
    },
    {
     "name": "stdout",
     "output_type": "stream",
     "text": []
    },
    {
     "name": "stdout",
     "output_type": "stream",
     "text": [
      "\n"
     ]
    },
    {
     "name": "stderr",
     "output_type": "stream",
     "text": [
      " 69%|██████▉   | 62/90 [04:52<01:45,  3.77s/it]"
     ]
    },
    {
     "name": "stdout",
     "output_type": "stream",
     "text": []
    },
    {
     "name": "stdout",
     "output_type": "stream",
     "text": [
      "\n"
     ]
    },
    {
     "name": "stderr",
     "output_type": "stream",
     "text": [
      " 70%|███████   | 63/90 [04:55<01:36,  3.59s/it]"
     ]
    },
    {
     "name": "stdout",
     "output_type": "stream",
     "text": []
    },
    {
     "name": "stdout",
     "output_type": "stream",
     "text": [
      "\n"
     ]
    },
    {
     "name": "stderr",
     "output_type": "stream",
     "text": [
      " 71%|███████   | 64/90 [05:00<01:42,  3.95s/it]"
     ]
    },
    {
     "name": "stdout",
     "output_type": "stream",
     "text": []
    },
    {
     "name": "stdout",
     "output_type": "stream",
     "text": [
      "\n"
     ]
    },
    {
     "name": "stderr",
     "output_type": "stream",
     "text": [
      " 72%|███████▏  | 65/90 [05:04<01:43,  4.15s/it]"
     ]
    },
    {
     "name": "stdout",
     "output_type": "stream",
     "text": []
    },
    {
     "name": "stdout",
     "output_type": "stream",
     "text": [
      "\n"
     ]
    },
    {
     "name": "stderr",
     "output_type": "stream",
     "text": [
      " 73%|███████▎  | 66/90 [05:09<01:40,  4.18s/it]"
     ]
    },
    {
     "name": "stdout",
     "output_type": "stream",
     "text": []
    },
    {
     "name": "stdout",
     "output_type": "stream",
     "text": [
      "\n"
     ]
    },
    {
     "name": "stderr",
     "output_type": "stream",
     "text": [
      " 74%|███████▍  | 67/90 [05:11<01:27,  3.79s/it]"
     ]
    },
    {
     "name": "stdout",
     "output_type": "stream",
     "text": []
    },
    {
     "name": "stdout",
     "output_type": "stream",
     "text": [
      "\n"
     ]
    },
    {
     "name": "stderr",
     "output_type": "stream",
     "text": [
      " 76%|███████▌  | 68/90 [05:16<01:29,  4.07s/it]"
     ]
    },
    {
     "name": "stdout",
     "output_type": "stream",
     "text": []
    },
    {
     "name": "stdout",
     "output_type": "stream",
     "text": [
      "\n"
     ]
    },
    {
     "name": "stderr",
     "output_type": "stream",
     "text": [
      " 77%|███████▋  | 69/90 [05:21<01:32,  4.41s/it]"
     ]
    },
    {
     "name": "stdout",
     "output_type": "stream",
     "text": []
    },
    {
     "name": "stdout",
     "output_type": "stream",
     "text": [
      "\n"
     ]
    },
    {
     "name": "stderr",
     "output_type": "stream",
     "text": [
      " 78%|███████▊  | 70/90 [05:25<01:26,  4.33s/it]"
     ]
    },
    {
     "name": "stdout",
     "output_type": "stream",
     "text": []
    },
    {
     "name": "stdout",
     "output_type": "stream",
     "text": [
      "\n"
     ]
    },
    {
     "name": "stderr",
     "output_type": "stream",
     "text": [
      " 79%|███████▉  | 71/90 [05:29<01:15,  3.99s/it]"
     ]
    },
    {
     "name": "stdout",
     "output_type": "stream",
     "text": []
    },
    {
     "name": "stdout",
     "output_type": "stream",
     "text": [
      "\n"
     ]
    },
    {
     "name": "stderr",
     "output_type": "stream",
     "text": [
      " 80%|████████  | 72/90 [05:32<01:08,  3.83s/it]"
     ]
    },
    {
     "name": "stdout",
     "output_type": "stream",
     "text": []
    },
    {
     "name": "stdout",
     "output_type": "stream",
     "text": [
      "\n"
     ]
    },
    {
     "name": "stderr",
     "output_type": "stream",
     "text": [
      " 81%|████████  | 73/90 [05:39<01:19,  4.65s/it]"
     ]
    },
    {
     "name": "stdout",
     "output_type": "stream",
     "text": []
    },
    {
     "name": "stdout",
     "output_type": "stream",
     "text": [
      "\n"
     ]
    },
    {
     "name": "stderr",
     "output_type": "stream",
     "text": [
      " 82%|████████▏ | 74/90 [05:42<01:08,  4.30s/it]"
     ]
    },
    {
     "name": "stdout",
     "output_type": "stream",
     "text": []
    },
    {
     "name": "stdout",
     "output_type": "stream",
     "text": [
      "\n"
     ]
    },
    {
     "name": "stderr",
     "output_type": "stream",
     "text": [
      " 83%|████████▎ | 75/90 [05:46<01:03,  4.25s/it]"
     ]
    },
    {
     "name": "stdout",
     "output_type": "stream",
     "text": []
    },
    {
     "name": "stdout",
     "output_type": "stream",
     "text": [
      "\n"
     ]
    },
    {
     "name": "stderr",
     "output_type": "stream",
     "text": [
      " 84%|████████▍ | 76/90 [05:50<00:56,  4.03s/it]"
     ]
    },
    {
     "name": "stdout",
     "output_type": "stream",
     "text": []
    },
    {
     "name": "stdout",
     "output_type": "stream",
     "text": [
      "\n"
     ]
    },
    {
     "name": "stderr",
     "output_type": "stream",
     "text": [
      " 86%|████████▌ | 77/90 [05:54<00:52,  4.06s/it]"
     ]
    },
    {
     "name": "stdout",
     "output_type": "stream",
     "text": []
    },
    {
     "name": "stdout",
     "output_type": "stream",
     "text": [
      "\n"
     ]
    },
    {
     "name": "stderr",
     "output_type": "stream",
     "text": [
      " 87%|████████▋ | 78/90 [05:59<00:50,  4.21s/it]"
     ]
    },
    {
     "name": "stdout",
     "output_type": "stream",
     "text": []
    },
    {
     "name": "stdout",
     "output_type": "stream",
     "text": [
      "\n"
     ]
    },
    {
     "name": "stderr",
     "output_type": "stream",
     "text": [
      " 88%|████████▊ | 79/90 [06:02<00:44,  4.06s/it]"
     ]
    },
    {
     "name": "stdout",
     "output_type": "stream",
     "text": []
    },
    {
     "name": "stdout",
     "output_type": "stream",
     "text": [
      "\n"
     ]
    },
    {
     "name": "stderr",
     "output_type": "stream",
     "text": [
      " 89%|████████▉ | 80/90 [06:07<00:44,  4.40s/it]"
     ]
    },
    {
     "name": "stdout",
     "output_type": "stream",
     "text": []
    },
    {
     "name": "stdout",
     "output_type": "stream",
     "text": [
      "\n"
     ]
    },
    {
     "name": "stderr",
     "output_type": "stream",
     "text": [
      " 90%|█████████ | 81/90 [06:11<00:37,  4.13s/it]"
     ]
    },
    {
     "name": "stdout",
     "output_type": "stream",
     "text": []
    },
    {
     "name": "stdout",
     "output_type": "stream",
     "text": [
      "\n"
     ]
    },
    {
     "name": "stderr",
     "output_type": "stream",
     "text": [
      " 91%|█████████ | 82/90 [06:16<00:35,  4.38s/it]"
     ]
    },
    {
     "name": "stdout",
     "output_type": "stream",
     "text": []
    },
    {
     "name": "stdout",
     "output_type": "stream",
     "text": [
      "\n"
     ]
    },
    {
     "name": "stderr",
     "output_type": "stream",
     "text": [
      " 92%|█████████▏| 83/90 [06:19<00:26,  3.85s/it]"
     ]
    },
    {
     "name": "stdout",
     "output_type": "stream",
     "text": []
    },
    {
     "name": "stdout",
     "output_type": "stream",
     "text": [
      "\n"
     ]
    },
    {
     "name": "stderr",
     "output_type": "stream",
     "text": [
      " 93%|█████████▎| 84/90 [06:21<00:21,  3.57s/it]"
     ]
    },
    {
     "name": "stdout",
     "output_type": "stream",
     "text": []
    },
    {
     "name": "stdout",
     "output_type": "stream",
     "text": [
      "\n"
     ]
    },
    {
     "name": "stderr",
     "output_type": "stream",
     "text": [
      " 94%|█████████▍| 85/90 [06:28<00:22,  4.44s/it]"
     ]
    },
    {
     "name": "stdout",
     "output_type": "stream",
     "text": []
    },
    {
     "name": "stdout",
     "output_type": "stream",
     "text": [
      "\n"
     ]
    },
    {
     "name": "stderr",
     "output_type": "stream",
     "text": [
      " 96%|█████████▌| 86/90 [06:31<00:16,  4.09s/it]"
     ]
    },
    {
     "name": "stdout",
     "output_type": "stream",
     "text": []
    },
    {
     "name": "stdout",
     "output_type": "stream",
     "text": [
      "\n"
     ]
    },
    {
     "name": "stderr",
     "output_type": "stream",
     "text": [
      " 97%|█████████▋| 87/90 [06:36<00:12,  4.21s/it]"
     ]
    },
    {
     "name": "stdout",
     "output_type": "stream",
     "text": []
    },
    {
     "name": "stdout",
     "output_type": "stream",
     "text": [
      "\n"
     ]
    },
    {
     "name": "stderr",
     "output_type": "stream",
     "text": [
      " 98%|█████████▊| 88/90 [06:38<00:07,  3.79s/it]"
     ]
    },
    {
     "name": "stdout",
     "output_type": "stream",
     "text": []
    },
    {
     "name": "stdout",
     "output_type": "stream",
     "text": [
      "\n"
     ]
    },
    {
     "name": "stderr",
     "output_type": "stream",
     "text": [
      " 99%|█████████▉| 89/90 [06:42<00:03,  3.57s/it]"
     ]
    },
    {
     "name": "stdout",
     "output_type": "stream",
     "text": []
    },
    {
     "name": "stdout",
     "output_type": "stream",
     "text": [
      "\n"
     ]
    },
    {
     "name": "stderr",
     "output_type": "stream",
     "text": [
      "100%|██████████| 90/90 [06:46<00:00,  3.83s/it]\n",
      "  0%|          | 0/90 [00:00<?, ?it/s]"
     ]
    },
    {
     "name": "stdout",
     "output_type": "stream",
     "text": []
    },
    {
     "name": "stdout",
     "output_type": "stream",
     "text": [
      "\n"
     ]
    },
    {
     "name": "stderr",
     "output_type": "stream",
     "text": [
      "  1%|          | 1/90 [00:06<09:43,  6.56s/it]"
     ]
    },
    {
     "name": "stdout",
     "output_type": "stream",
     "text": []
    },
    {
     "name": "stdout",
     "output_type": "stream",
     "text": [
      "\n"
     ]
    },
    {
     "name": "stderr",
     "output_type": "stream",
     "text": [
      "  2%|▏         | 2/90 [00:13<09:54,  6.76s/it]"
     ]
    },
    {
     "name": "stdout",
     "output_type": "stream",
     "text": []
    },
    {
     "name": "stdout",
     "output_type": "stream",
     "text": [
      "\n"
     ]
    },
    {
     "name": "stderr",
     "output_type": "stream",
     "text": [
      "  3%|▎         | 3/90 [00:17<08:18,  5.73s/it]"
     ]
    },
    {
     "name": "stdout",
     "output_type": "stream",
     "text": []
    },
    {
     "name": "stdout",
     "output_type": "stream",
     "text": [
      "\n"
     ]
    },
    {
     "name": "stderr",
     "output_type": "stream",
     "text": [
      "  4%|▍         | 4/90 [00:23<08:37,  6.01s/it]"
     ]
    },
    {
     "name": "stdout",
     "output_type": "stream",
     "text": []
    },
    {
     "name": "stdout",
     "output_type": "stream",
     "text": [
      "\n"
     ]
    },
    {
     "name": "stderr",
     "output_type": "stream",
     "text": [
      "  6%|▌         | 5/90 [00:26<07:18,  5.16s/it]"
     ]
    },
    {
     "name": "stdout",
     "output_type": "stream",
     "text": []
    },
    {
     "name": "stdout",
     "output_type": "stream",
     "text": [
      "\n"
     ]
    },
    {
     "name": "stderr",
     "output_type": "stream",
     "text": [
      "  7%|▋         | 6/90 [00:30<06:35,  4.71s/it]"
     ]
    },
    {
     "name": "stdout",
     "output_type": "stream",
     "text": []
    },
    {
     "name": "stdout",
     "output_type": "stream",
     "text": [
      "\n"
     ]
    },
    {
     "name": "stderr",
     "output_type": "stream",
     "text": [
      "  8%|▊         | 7/90 [00:34<06:15,  4.52s/it]"
     ]
    },
    {
     "name": "stdout",
     "output_type": "stream",
     "text": []
    },
    {
     "name": "stdout",
     "output_type": "stream",
     "text": [
      "\n"
     ]
    },
    {
     "name": "stderr",
     "output_type": "stream",
     "text": [
      "  9%|▉         | 8/90 [00:42<07:33,  5.53s/it]"
     ]
    },
    {
     "name": "stdout",
     "output_type": "stream",
     "text": []
    },
    {
     "name": "stdout",
     "output_type": "stream",
     "text": [
      "\n"
     ]
    },
    {
     "name": "stderr",
     "output_type": "stream",
     "text": [
      " 10%|█         | 9/90 [00:45<06:36,  4.89s/it]"
     ]
    },
    {
     "name": "stdout",
     "output_type": "stream",
     "text": []
    },
    {
     "name": "stdout",
     "output_type": "stream",
     "text": [
      "\n"
     ]
    },
    {
     "name": "stderr",
     "output_type": "stream",
     "text": [
      " 11%|█         | 10/90 [00:50<06:24,  4.80s/it]"
     ]
    },
    {
     "name": "stdout",
     "output_type": "stream",
     "text": []
    },
    {
     "name": "stdout",
     "output_type": "stream",
     "text": [
      "\n"
     ]
    },
    {
     "name": "stderr",
     "output_type": "stream",
     "text": [
      " 12%|█▏        | 11/90 [00:56<06:53,  5.23s/it]"
     ]
    },
    {
     "name": "stdout",
     "output_type": "stream",
     "text": []
    },
    {
     "name": "stdout",
     "output_type": "stream",
     "text": [
      "\n"
     ]
    },
    {
     "name": "stderr",
     "output_type": "stream",
     "text": [
      " 13%|█▎        | 12/90 [01:02<06:54,  5.31s/it]"
     ]
    },
    {
     "name": "stdout",
     "output_type": "stream",
     "text": []
    },
    {
     "name": "stdout",
     "output_type": "stream",
     "text": [
      "\n"
     ]
    },
    {
     "name": "stderr",
     "output_type": "stream",
     "text": [
      " 14%|█▍        | 13/90 [01:08<07:07,  5.55s/it]"
     ]
    },
    {
     "name": "stdout",
     "output_type": "stream",
     "text": []
    },
    {
     "name": "stdout",
     "output_type": "stream",
     "text": [
      "\n"
     ]
    },
    {
     "name": "stderr",
     "output_type": "stream",
     "text": [
      " 16%|█▌        | 14/90 [01:13<06:44,  5.32s/it]"
     ]
    },
    {
     "name": "stdout",
     "output_type": "stream",
     "text": []
    },
    {
     "name": "stdout",
     "output_type": "stream",
     "text": [
      "\n"
     ]
    },
    {
     "name": "stderr",
     "output_type": "stream",
     "text": [
      " 17%|█▋        | 15/90 [01:16<05:46,  4.61s/it]"
     ]
    },
    {
     "name": "stdout",
     "output_type": "stream",
     "text": []
    },
    {
     "name": "stdout",
     "output_type": "stream",
     "text": [
      "\n"
     ]
    },
    {
     "name": "stderr",
     "output_type": "stream",
     "text": [
      " 18%|█▊        | 16/90 [01:21<05:53,  4.78s/it]"
     ]
    },
    {
     "name": "stdout",
     "output_type": "stream",
     "text": []
    },
    {
     "name": "stdout",
     "output_type": "stream",
     "text": [
      "\n"
     ]
    },
    {
     "name": "stderr",
     "output_type": "stream",
     "text": [
      " 19%|█▉        | 17/90 [01:25<05:40,  4.66s/it]"
     ]
    },
    {
     "name": "stdout",
     "output_type": "stream",
     "text": []
    },
    {
     "name": "stdout",
     "output_type": "stream",
     "text": [
      "\n"
     ]
    },
    {
     "name": "stderr",
     "output_type": "stream",
     "text": [
      " 20%|██        | 18/90 [01:32<06:24,  5.33s/it]"
     ]
    },
    {
     "name": "stdout",
     "output_type": "stream",
     "text": []
    },
    {
     "name": "stdout",
     "output_type": "stream",
     "text": [
      "\n"
     ]
    },
    {
     "name": "stderr",
     "output_type": "stream",
     "text": [
      " 21%|██        | 19/90 [01:37<06:01,  5.09s/it]"
     ]
    },
    {
     "name": "stdout",
     "output_type": "stream",
     "text": []
    },
    {
     "name": "stdout",
     "output_type": "stream",
     "text": [
      "\n"
     ]
    },
    {
     "name": "stderr",
     "output_type": "stream",
     "text": [
      " 22%|██▏       | 20/90 [01:42<05:53,  5.04s/it]"
     ]
    },
    {
     "name": "stdout",
     "output_type": "stream",
     "text": []
    },
    {
     "name": "stdout",
     "output_type": "stream",
     "text": [
      "\n"
     ]
    },
    {
     "name": "stderr",
     "output_type": "stream",
     "text": [
      " 23%|██▎       | 21/90 [01:46<05:45,  5.00s/it]"
     ]
    },
    {
     "name": "stdout",
     "output_type": "stream",
     "text": []
    },
    {
     "name": "stdout",
     "output_type": "stream",
     "text": [
      "\n"
     ]
    },
    {
     "name": "stderr",
     "output_type": "stream",
     "text": [
      " 24%|██▍       | 22/90 [01:51<05:22,  4.75s/it]"
     ]
    },
    {
     "name": "stdout",
     "output_type": "stream",
     "text": []
    },
    {
     "name": "stdout",
     "output_type": "stream",
     "text": [
      "\n"
     ]
    },
    {
     "name": "stderr",
     "output_type": "stream",
     "text": [
      " 26%|██▌       | 23/90 [02:00<06:59,  6.26s/it]"
     ]
    },
    {
     "name": "stdout",
     "output_type": "stream",
     "text": []
    },
    {
     "name": "stdout",
     "output_type": "stream",
     "text": [
      "\n"
     ]
    },
    {
     "name": "stderr",
     "output_type": "stream",
     "text": [
      " 27%|██▋       | 24/90 [02:07<07:03,  6.42s/it]"
     ]
    },
    {
     "name": "stdout",
     "output_type": "stream",
     "text": []
    },
    {
     "name": "stdout",
     "output_type": "stream",
     "text": [
      "\n"
     ]
    },
    {
     "name": "stderr",
     "output_type": "stream",
     "text": [
      " 28%|██▊       | 25/90 [02:11<06:00,  5.55s/it]"
     ]
    },
    {
     "name": "stdout",
     "output_type": "stream",
     "text": []
    },
    {
     "name": "stdout",
     "output_type": "stream",
     "text": [
      "\n"
     ]
    },
    {
     "name": "stderr",
     "output_type": "stream",
     "text": [
      " 29%|██▉       | 26/90 [02:16<05:50,  5.48s/it]"
     ]
    },
    {
     "name": "stdout",
     "output_type": "stream",
     "text": []
    },
    {
     "name": "stdout",
     "output_type": "stream",
     "text": [
      "\n"
     ]
    },
    {
     "name": "stderr",
     "output_type": "stream",
     "text": [
      " 30%|███       | 27/90 [02:20<05:18,  5.06s/it]"
     ]
    },
    {
     "name": "stdout",
     "output_type": "stream",
     "text": []
    },
    {
     "name": "stdout",
     "output_type": "stream",
     "text": [
      "\n"
     ]
    },
    {
     "name": "stderr",
     "output_type": "stream",
     "text": [
      " 31%|███       | 28/90 [02:25<05:02,  4.88s/it]"
     ]
    },
    {
     "name": "stdout",
     "output_type": "stream",
     "text": []
    },
    {
     "name": "stdout",
     "output_type": "stream",
     "text": [
      "\n"
     ]
    },
    {
     "name": "stderr",
     "output_type": "stream",
     "text": [
      " 32%|███▏      | 29/90 [02:29<04:52,  4.80s/it]"
     ]
    },
    {
     "name": "stdout",
     "output_type": "stream",
     "text": []
    },
    {
     "name": "stdout",
     "output_type": "stream",
     "text": [
      "\n"
     ]
    },
    {
     "name": "stderr",
     "output_type": "stream",
     "text": [
      " 33%|███▎      | 30/90 [02:35<05:04,  5.08s/it]"
     ]
    },
    {
     "name": "stdout",
     "output_type": "stream",
     "text": []
    },
    {
     "name": "stdout",
     "output_type": "stream",
     "text": [
      "\n"
     ]
    },
    {
     "name": "stderr",
     "output_type": "stream",
     "text": [
      " 34%|███▍      | 31/90 [02:40<05:02,  5.13s/it]"
     ]
    },
    {
     "name": "stdout",
     "output_type": "stream",
     "text": []
    },
    {
     "name": "stdout",
     "output_type": "stream",
     "text": [
      "\n"
     ]
    },
    {
     "name": "stderr",
     "output_type": "stream",
     "text": [
      " 36%|███▌      | 32/90 [02:46<05:06,  5.28s/it]"
     ]
    },
    {
     "name": "stdout",
     "output_type": "stream",
     "text": []
    },
    {
     "name": "stdout",
     "output_type": "stream",
     "text": [
      "\n"
     ]
    },
    {
     "name": "stderr",
     "output_type": "stream",
     "text": [
      " 37%|███▋      | 33/90 [02:53<05:39,  5.95s/it]"
     ]
    },
    {
     "name": "stdout",
     "output_type": "stream",
     "text": []
    },
    {
     "name": "stdout",
     "output_type": "stream",
     "text": [
      "\n"
     ]
    },
    {
     "name": "stderr",
     "output_type": "stream",
     "text": [
      " 38%|███▊      | 34/90 [03:00<05:46,  6.19s/it]"
     ]
    },
    {
     "name": "stdout",
     "output_type": "stream",
     "text": []
    },
    {
     "name": "stdout",
     "output_type": "stream",
     "text": [
      "\n"
     ]
    },
    {
     "name": "stderr",
     "output_type": "stream",
     "text": [
      " 39%|███▉      | 35/90 [03:06<05:36,  6.12s/it]"
     ]
    },
    {
     "name": "stdout",
     "output_type": "stream",
     "text": []
    },
    {
     "name": "stdout",
     "output_type": "stream",
     "text": [
      "\n"
     ]
    },
    {
     "name": "stderr",
     "output_type": "stream",
     "text": [
      " 40%|████      | 36/90 [03:16<06:26,  7.16s/it]"
     ]
    },
    {
     "name": "stdout",
     "output_type": "stream",
     "text": []
    },
    {
     "name": "stdout",
     "output_type": "stream",
     "text": [
      "\n"
     ]
    },
    {
     "name": "stderr",
     "output_type": "stream",
     "text": [
      " 41%|████      | 37/90 [03:26<07:10,  8.11s/it]"
     ]
    },
    {
     "name": "stdout",
     "output_type": "stream",
     "text": []
    },
    {
     "name": "stdout",
     "output_type": "stream",
     "text": [
      "\n"
     ]
    },
    {
     "name": "stderr",
     "output_type": "stream",
     "text": [
      " 42%|████▏     | 38/90 [03:35<07:18,  8.43s/it]"
     ]
    },
    {
     "name": "stdout",
     "output_type": "stream",
     "text": []
    },
    {
     "name": "stdout",
     "output_type": "stream",
     "text": [
      "\n"
     ]
    },
    {
     "name": "stderr",
     "output_type": "stream",
     "text": [
      " 43%|████▎     | 39/90 [03:46<07:52,  9.26s/it]"
     ]
    },
    {
     "name": "stdout",
     "output_type": "stream",
     "text": []
    },
    {
     "name": "stdout",
     "output_type": "stream",
     "text": [
      "\n"
     ]
    },
    {
     "name": "stderr",
     "output_type": "stream",
     "text": [
      " 44%|████▍     | 40/90 [03:52<06:43,  8.07s/it]"
     ]
    },
    {
     "name": "stdout",
     "output_type": "stream",
     "text": []
    },
    {
     "name": "stdout",
     "output_type": "stream",
     "text": [
      "\n"
     ]
    },
    {
     "name": "stderr",
     "output_type": "stream",
     "text": [
      " 46%|████▌     | 41/90 [04:01<06:57,  8.51s/it]"
     ]
    },
    {
     "name": "stdout",
     "output_type": "stream",
     "text": []
    },
    {
     "name": "stdout",
     "output_type": "stream",
     "text": [
      "\n"
     ]
    },
    {
     "name": "stderr",
     "output_type": "stream",
     "text": [
      " 47%|████▋     | 42/90 [04:09<06:36,  8.26s/it]"
     ]
    },
    {
     "name": "stdout",
     "output_type": "stream",
     "text": []
    },
    {
     "name": "stdout",
     "output_type": "stream",
     "text": [
      "\n"
     ]
    },
    {
     "name": "stderr",
     "output_type": "stream",
     "text": [
      " 48%|████▊     | 43/90 [04:14<05:45,  7.35s/it]"
     ]
    },
    {
     "name": "stdout",
     "output_type": "stream",
     "text": []
    },
    {
     "name": "stdout",
     "output_type": "stream",
     "text": [
      "\n"
     ]
    },
    {
     "name": "stderr",
     "output_type": "stream",
     "text": [
      " 49%|████▉     | 44/90 [04:18<04:44,  6.19s/it]"
     ]
    },
    {
     "name": "stdout",
     "output_type": "stream",
     "text": []
    },
    {
     "name": "stdout",
     "output_type": "stream",
     "text": [
      "\n"
     ]
    },
    {
     "name": "stderr",
     "output_type": "stream",
     "text": [
      " 50%|█████     | 45/90 [04:26<05:08,  6.86s/it]"
     ]
    },
    {
     "name": "stdout",
     "output_type": "stream",
     "text": []
    },
    {
     "name": "stdout",
     "output_type": "stream",
     "text": [
      "\n"
     ]
    },
    {
     "name": "stderr",
     "output_type": "stream",
     "text": [
      " 51%|█████     | 46/90 [04:30<04:22,  5.96s/it]"
     ]
    },
    {
     "name": "stdout",
     "output_type": "stream",
     "text": []
    },
    {
     "name": "stdout",
     "output_type": "stream",
     "text": [
      "\n"
     ]
    },
    {
     "name": "stderr",
     "output_type": "stream",
     "text": [
      " 52%|█████▏    | 47/90 [04:34<03:59,  5.58s/it]"
     ]
    },
    {
     "name": "stdout",
     "output_type": "stream",
     "text": []
    },
    {
     "name": "stdout",
     "output_type": "stream",
     "text": [
      "\n"
     ]
    },
    {
     "name": "stderr",
     "output_type": "stream",
     "text": [
      " 53%|█████▎    | 48/90 [04:40<03:47,  5.41s/it]"
     ]
    },
    {
     "name": "stdout",
     "output_type": "stream",
     "text": []
    },
    {
     "name": "stdout",
     "output_type": "stream",
     "text": [
      "\n"
     ]
    },
    {
     "name": "stderr",
     "output_type": "stream",
     "text": [
      " 54%|█████▍    | 49/90 [04:44<03:30,  5.14s/it]"
     ]
    },
    {
     "name": "stdout",
     "output_type": "stream",
     "text": []
    },
    {
     "name": "stdout",
     "output_type": "stream",
     "text": [
      "\n"
     ]
    },
    {
     "name": "stderr",
     "output_type": "stream",
     "text": [
      " 56%|█████▌    | 50/90 [04:47<03:04,  4.62s/it]"
     ]
    },
    {
     "name": "stdout",
     "output_type": "stream",
     "text": []
    },
    {
     "name": "stdout",
     "output_type": "stream",
     "text": [
      "\n"
     ]
    },
    {
     "name": "stderr",
     "output_type": "stream",
     "text": [
      " 57%|█████▋    | 51/90 [04:52<02:54,  4.48s/it]"
     ]
    },
    {
     "name": "stdout",
     "output_type": "stream",
     "text": []
    },
    {
     "name": "stdout",
     "output_type": "stream",
     "text": [
      "\n"
     ]
    },
    {
     "name": "stderr",
     "output_type": "stream",
     "text": [
      " 58%|█████▊    | 52/90 [04:57<02:55,  4.62s/it]"
     ]
    },
    {
     "name": "stdout",
     "output_type": "stream",
     "text": []
    },
    {
     "name": "stdout",
     "output_type": "stream",
     "text": [
      "\n"
     ]
    },
    {
     "name": "stderr",
     "output_type": "stream",
     "text": [
      " 59%|█████▉    | 53/90 [05:01<02:44,  4.44s/it]"
     ]
    },
    {
     "name": "stdout",
     "output_type": "stream",
     "text": []
    },
    {
     "name": "stdout",
     "output_type": "stream",
     "text": [
      "\n"
     ]
    },
    {
     "name": "stderr",
     "output_type": "stream",
     "text": [
      " 60%|██████    | 54/90 [05:04<02:25,  4.03s/it]"
     ]
    },
    {
     "name": "stdout",
     "output_type": "stream",
     "text": []
    },
    {
     "name": "stdout",
     "output_type": "stream",
     "text": [
      "\n"
     ]
    },
    {
     "name": "stderr",
     "output_type": "stream",
     "text": [
      " 61%|██████    | 55/90 [05:09<02:36,  4.47s/it]"
     ]
    },
    {
     "name": "stdout",
     "output_type": "stream",
     "text": []
    },
    {
     "name": "stdout",
     "output_type": "stream",
     "text": [
      "\n"
     ]
    },
    {
     "name": "stderr",
     "output_type": "stream",
     "text": [
      " 62%|██████▏   | 56/90 [05:14<02:33,  4.52s/it]"
     ]
    },
    {
     "name": "stdout",
     "output_type": "stream",
     "text": []
    },
    {
     "name": "stdout",
     "output_type": "stream",
     "text": [
      "\n"
     ]
    },
    {
     "name": "stderr",
     "output_type": "stream",
     "text": [
      " 63%|██████▎   | 57/90 [05:20<02:44,  4.99s/it]"
     ]
    },
    {
     "name": "stdout",
     "output_type": "stream",
     "text": []
    },
    {
     "name": "stdout",
     "output_type": "stream",
     "text": [
      "\n"
     ]
    },
    {
     "name": "stderr",
     "output_type": "stream",
     "text": [
      " 64%|██████▍   | 58/90 [05:24<02:35,  4.85s/it]"
     ]
    },
    {
     "name": "stdout",
     "output_type": "stream",
     "text": []
    },
    {
     "name": "stdout",
     "output_type": "stream",
     "text": [
      "\n"
     ]
    },
    {
     "name": "stderr",
     "output_type": "stream",
     "text": [
      " 66%|██████▌   | 59/90 [05:28<02:16,  4.39s/it]"
     ]
    },
    {
     "name": "stdout",
     "output_type": "stream",
     "text": []
    },
    {
     "name": "stdout",
     "output_type": "stream",
     "text": [
      "\n"
     ]
    },
    {
     "name": "stderr",
     "output_type": "stream",
     "text": [
      " 67%|██████▋   | 60/90 [05:31<02:00,  4.02s/it]"
     ]
    },
    {
     "name": "stdout",
     "output_type": "stream",
     "text": []
    },
    {
     "name": "stdout",
     "output_type": "stream",
     "text": [
      "\n"
     ]
    },
    {
     "name": "stderr",
     "output_type": "stream",
     "text": [
      " 68%|██████▊   | 61/90 [05:36<02:07,  4.41s/it]"
     ]
    },
    {
     "name": "stdout",
     "output_type": "stream",
     "text": []
    },
    {
     "name": "stdout",
     "output_type": "stream",
     "text": [
      "\n"
     ]
    },
    {
     "name": "stderr",
     "output_type": "stream",
     "text": [
      " 69%|██████▉   | 62/90 [05:40<01:59,  4.26s/it]"
     ]
    },
    {
     "name": "stdout",
     "output_type": "stream",
     "text": []
    },
    {
     "name": "stdout",
     "output_type": "stream",
     "text": [
      "\n"
     ]
    },
    {
     "name": "stderr",
     "output_type": "stream",
     "text": [
      " 70%|███████   | 63/90 [05:43<01:48,  4.01s/it]"
     ]
    },
    {
     "name": "stdout",
     "output_type": "stream",
     "text": []
    },
    {
     "name": "stdout",
     "output_type": "stream",
     "text": [
      "\n"
     ]
    },
    {
     "name": "stderr",
     "output_type": "stream",
     "text": [
      " 71%|███████   | 64/90 [05:47<01:42,  3.93s/it]"
     ]
    },
    {
     "name": "stdout",
     "output_type": "stream",
     "text": []
    },
    {
     "name": "stdout",
     "output_type": "stream",
     "text": [
      "\n"
     ]
    },
    {
     "name": "stderr",
     "output_type": "stream",
     "text": [
      " 72%|███████▏  | 65/90 [05:50<01:32,  3.69s/it]"
     ]
    },
    {
     "name": "stdout",
     "output_type": "stream",
     "text": []
    },
    {
     "name": "stdout",
     "output_type": "stream",
     "text": [
      "\n"
     ]
    },
    {
     "name": "stderr",
     "output_type": "stream",
     "text": [
      " 73%|███████▎  | 66/90 [05:54<01:25,  3.55s/it]"
     ]
    },
    {
     "name": "stdout",
     "output_type": "stream",
     "text": []
    },
    {
     "name": "stdout",
     "output_type": "stream",
     "text": [
      "\n"
     ]
    },
    {
     "name": "stderr",
     "output_type": "stream",
     "text": [
      " 74%|███████▍  | 67/90 [05:57<01:22,  3.58s/it]"
     ]
    },
    {
     "name": "stdout",
     "output_type": "stream",
     "text": []
    },
    {
     "name": "stdout",
     "output_type": "stream",
     "text": [
      "\n"
     ]
    },
    {
     "name": "stderr",
     "output_type": "stream",
     "text": [
      " 76%|███████▌  | 68/90 [06:00<01:14,  3.40s/it]"
     ]
    },
    {
     "name": "stdout",
     "output_type": "stream",
     "text": []
    },
    {
     "name": "stdout",
     "output_type": "stream",
     "text": [
      "\n"
     ]
    },
    {
     "name": "stderr",
     "output_type": "stream",
     "text": [
      " 77%|███████▋  | 69/90 [06:04<01:11,  3.39s/it]"
     ]
    },
    {
     "name": "stdout",
     "output_type": "stream",
     "text": []
    },
    {
     "name": "stdout",
     "output_type": "stream",
     "text": [
      "\n"
     ]
    },
    {
     "name": "stderr",
     "output_type": "stream",
     "text": [
      " 78%|███████▊  | 70/90 [06:08<01:12,  3.60s/it]"
     ]
    },
    {
     "name": "stdout",
     "output_type": "stream",
     "text": []
    },
    {
     "name": "stdout",
     "output_type": "stream",
     "text": [
      "\n"
     ]
    },
    {
     "name": "stderr",
     "output_type": "stream",
     "text": [
      " 79%|███████▉  | 71/90 [06:12<01:10,  3.70s/it]"
     ]
    },
    {
     "name": "stdout",
     "output_type": "stream",
     "text": []
    },
    {
     "name": "stdout",
     "output_type": "stream",
     "text": [
      "\n"
     ]
    },
    {
     "name": "stderr",
     "output_type": "stream",
     "text": [
      " 80%|████████  | 72/90 [06:15<01:07,  3.74s/it]"
     ]
    },
    {
     "name": "stdout",
     "output_type": "stream",
     "text": []
    },
    {
     "name": "stdout",
     "output_type": "stream",
     "text": [
      "\n"
     ]
    },
    {
     "name": "stderr",
     "output_type": "stream",
     "text": [
      " 81%|████████  | 73/90 [06:19<01:00,  3.57s/it]"
     ]
    },
    {
     "name": "stdout",
     "output_type": "stream",
     "text": []
    },
    {
     "name": "stdout",
     "output_type": "stream",
     "text": [
      "\n"
     ]
    },
    {
     "name": "stderr",
     "output_type": "stream",
     "text": [
      " 82%|████████▏ | 74/90 [06:21<00:53,  3.33s/it]"
     ]
    },
    {
     "name": "stdout",
     "output_type": "stream",
     "text": []
    },
    {
     "name": "stdout",
     "output_type": "stream",
     "text": [
      "\n"
     ]
    },
    {
     "name": "stderr",
     "output_type": "stream",
     "text": [
      " 83%|████████▎ | 75/90 [06:27<01:02,  4.13s/it]"
     ]
    },
    {
     "name": "stdout",
     "output_type": "stream",
     "text": []
    },
    {
     "name": "stdout",
     "output_type": "stream",
     "text": [
      "\n"
     ]
    },
    {
     "name": "stderr",
     "output_type": "stream",
     "text": [
      " 84%|████████▍ | 76/90 [06:32<00:58,  4.18s/it]"
     ]
    },
    {
     "name": "stdout",
     "output_type": "stream",
     "text": []
    },
    {
     "name": "stdout",
     "output_type": "stream",
     "text": [
      "\n"
     ]
    },
    {
     "name": "stderr",
     "output_type": "stream",
     "text": [
      " 86%|████████▌ | 77/90 [06:35<00:50,  3.87s/it]"
     ]
    },
    {
     "name": "stdout",
     "output_type": "stream",
     "text": []
    },
    {
     "name": "stdout",
     "output_type": "stream",
     "text": [
      "\n"
     ]
    },
    {
     "name": "stderr",
     "output_type": "stream",
     "text": [
      " 87%|████████▋ | 78/90 [06:38<00:42,  3.57s/it]"
     ]
    },
    {
     "name": "stdout",
     "output_type": "stream",
     "text": []
    },
    {
     "name": "stdout",
     "output_type": "stream",
     "text": [
      "\n"
     ]
    },
    {
     "name": "stderr",
     "output_type": "stream",
     "text": [
      " 88%|████████▊ | 79/90 [06:40<00:36,  3.33s/it]"
     ]
    },
    {
     "name": "stdout",
     "output_type": "stream",
     "text": []
    },
    {
     "name": "stdout",
     "output_type": "stream",
     "text": [
      "\n"
     ]
    },
    {
     "name": "stderr",
     "output_type": "stream",
     "text": [
      " 89%|████████▉ | 80/90 [06:45<00:36,  3.61s/it]"
     ]
    },
    {
     "name": "stdout",
     "output_type": "stream",
     "text": []
    },
    {
     "name": "stdout",
     "output_type": "stream",
     "text": [
      "\n"
     ]
    },
    {
     "name": "stderr",
     "output_type": "stream",
     "text": [
      " 90%|█████████ | 81/90 [06:48<00:30,  3.37s/it]"
     ]
    },
    {
     "name": "stdout",
     "output_type": "stream",
     "text": []
    },
    {
     "name": "stdout",
     "output_type": "stream",
     "text": [
      "\n"
     ]
    },
    {
     "name": "stderr",
     "output_type": "stream",
     "text": [
      " 91%|█████████ | 82/90 [06:53<00:30,  3.85s/it]"
     ]
    },
    {
     "name": "stdout",
     "output_type": "stream",
     "text": []
    },
    {
     "name": "stdout",
     "output_type": "stream",
     "text": [
      "\n"
     ]
    },
    {
     "name": "stderr",
     "output_type": "stream",
     "text": [
      " 92%|█████████▏| 83/90 [06:55<00:25,  3.58s/it]"
     ]
    },
    {
     "name": "stdout",
     "output_type": "stream",
     "text": []
    },
    {
     "name": "stdout",
     "output_type": "stream",
     "text": [
      "\n"
     ]
    },
    {
     "name": "stderr",
     "output_type": "stream",
     "text": [
      " 93%|█████████▎| 84/90 [07:01<00:25,  4.24s/it]"
     ]
    },
    {
     "name": "stdout",
     "output_type": "stream",
     "text": []
    },
    {
     "name": "stdout",
     "output_type": "stream",
     "text": [
      "\n"
     ]
    },
    {
     "name": "stderr",
     "output_type": "stream",
     "text": [
      " 94%|█████████▍| 85/90 [07:06<00:21,  4.29s/it]"
     ]
    },
    {
     "name": "stdout",
     "output_type": "stream",
     "text": []
    },
    {
     "name": "stdout",
     "output_type": "stream",
     "text": [
      "\n"
     ]
    },
    {
     "name": "stderr",
     "output_type": "stream",
     "text": [
      " 96%|█████████▌| 86/90 [07:09<00:16,  4.10s/it]"
     ]
    },
    {
     "name": "stdout",
     "output_type": "stream",
     "text": []
    },
    {
     "name": "stdout",
     "output_type": "stream",
     "text": [
      "\n"
     ]
    },
    {
     "name": "stderr",
     "output_type": "stream",
     "text": [
      " 97%|█████████▋| 87/90 [07:14<00:13,  4.33s/it]"
     ]
    },
    {
     "name": "stdout",
     "output_type": "stream",
     "text": []
    },
    {
     "name": "stdout",
     "output_type": "stream",
     "text": [
      "\n"
     ]
    },
    {
     "name": "stderr",
     "output_type": "stream",
     "text": [
      " 98%|█████████▊| 88/90 [07:17<00:07,  3.83s/it]"
     ]
    },
    {
     "name": "stdout",
     "output_type": "stream",
     "text": []
    },
    {
     "name": "stdout",
     "output_type": "stream",
     "text": [
      "\n"
     ]
    },
    {
     "name": "stderr",
     "output_type": "stream",
     "text": [
      " 99%|█████████▉| 89/90 [07:20<00:03,  3.54s/it]"
     ]
    },
    {
     "name": "stdout",
     "output_type": "stream",
     "text": []
    },
    {
     "name": "stdout",
     "output_type": "stream",
     "text": [
      "\n"
     ]
    },
    {
     "name": "stderr",
     "output_type": "stream",
     "text": [
      "100%|██████████| 90/90 [07:25<00:00,  3.93s/it]\n"
     ]
    }
   ],
   "source": [
    "EPS = np.finfo(np.float).eps\n",
    "\n",
    "N_trial = X_all.shape[0]\n",
    "T = X_all.shape[1]\n",
    "\n",
    "K = 10\n",
    "\n",
    "pi1 = None\n",
    "pi2 = None\n",
    "a0 = 1.0\n",
    "b0 = 1.0\n",
    "ratio = 0.02\n",
    "\n",
    "pi_all = []\n",
    "theta_all = []\n",
    "z_all = []\n",
    "\n",
    "for trial in range(N_trial):\n",
    "    pi1 = None\n",
    "    pi2 = None\n",
    "    theta = None\n",
    "    \n",
    "    pi_list_trial = []\n",
    "    theta_list_trial = []\n",
    "    z_list_trial = []\n",
    "    \n",
    "    numpy2ri.activate()    \n",
    "    \n",
    "    for t in tqdm.tqdm(range(T)):\n",
    "        seed = trial*T + t\n",
    "        \n",
    "        X = X_all[trial, t, :, :]\n",
    "            \n",
    "        sbm = blockmodels.BM_bernoulli(membership_type=\"SBM\", adj=np.array(X),\n",
    "                                           verbosity=0,\n",
    "                                           exploration_factor=1.5,\n",
    "                                           explore_min=K,\n",
    "                                           explore_max=K)\n",
    "\n",
    "        estimate = dollar(sbm, \"estimate\")\n",
    "        estimate()\n",
    "\n",
    "        theta_list = []\n",
    "        pi_list = []\n",
    "        z_posterior_list = []\n",
    "        for k in range(K):\n",
    "            n_clusters = k + 1\n",
    "            theta = np.array(dollar(dollar(sbm, \"model_parameters\")[k], \"pi\"))\n",
    "            z_posterior = np.array(dollar(dollar(sbm, \"memberships\")[k], \"Z\"))\n",
    "            pi = np.sum(z_posterior, axis=0) + 10 * EPS\n",
    "            pi /= np.sum(pi)\n",
    "\n",
    "            theta_list.append(theta)\n",
    "            z_posterior_list.append(z_posterior)\n",
    "            pi_list.append(pi)\n",
    "        \n",
    "        pi_list_trial.append(pi_list)\n",
    "        theta_list_trial.append(theta_list)\n",
    "        z_list_trial.append(z_posterior_list)\n",
    "        \n",
    "    numpy2ri.deactivate()\n",
    "\n",
    "    pi_all.append(pi_list_trial)\n",
    "    theta_all.append(theta_list_trial)\n",
    "    z_all.append(z_list_trial)\n",
    "\n",
    "    with open(os.path.join(outdir, 'pi_gradual.pkl'), 'wb') as f:\n",
    "        pickle.dump(pi_all, f)\n",
    "    with open(os.path.join(outdir, 'theta_gradual.pkl'), 'wb') as f:\n",
    "        pickle.dump(theta_all, f)\n",
    "    with open(os.path.join(outdir, 'z_gradual.pkl'), 'wb') as f:\n",
    "        pickle.dump(z_all, f)"
   ]
  },
  {
   "cell_type": "code",
   "execution_count": 22,
   "metadata": {},
   "outputs": [],
   "source": [
    "with open(os.path.join(outdir, 'pi_gradual.pkl'), 'rb') as f:\n",
    "    pi_all = pickle.load(f)\n",
    "with open(os.path.join(outdir, 'theta_gradual.pkl'), 'rb') as f:\n",
    "    theta_all = pickle.load(f)\n",
    "with open(os.path.join(outdir, 'z_gradual.pkl'), 'rb') as f:\n",
    "    Z_all = pickle.load(f)"
   ]
  },
  {
   "cell_type": "code",
   "execution_count": 23,
   "metadata": {},
   "outputs": [
    {
     "data": {
      "text/plain": [
       "(20, 90, 100, 100)"
      ]
     },
     "execution_count": 23,
     "metadata": {},
     "output_type": "execute_result"
    }
   ],
   "source": [
    "X_all.shape"
   ]
  },
  {
   "cell_type": "code",
   "execution_count": 24,
   "metadata": {},
   "outputs": [
    {
     "name": "stderr",
     "output_type": "stream",
     "text": [
      "100%|██████████| 20/20 [00:37<00:00,  1.80s/it]\n"
     ]
    }
   ],
   "source": [
    "# relabeling\n",
    "N_trial = X_all.shape[0]\n",
    "K = 10\n",
    "T = X_all.shape[1]\n",
    "\n",
    "numpy2ri.activate()\n",
    "for trial in tqdm.tqdm(range(N_trial)):\n",
    "    for k in range(1, K):\n",
    "        run = label_switching.ecr_iterative_2(\n",
    "            z=np.vstack([\n",
    "                  np.argmax(Z_all[trial][t][k], axis=1).reshape(1, -1) for t in range(10)\n",
    "            ]) + 1,\n",
    "            K=k+1,\n",
    "            p=np.stack([Z_all[trial][t][k] for t in range(10)])\n",
    "        )        \n",
    "        permutations = np.array(dollar(run, \"permutations\"))\n",
    "        for t in range(10):\n",
    "            Z_all[trial][t][k] = Z_all[trial][t][k][:, permutations[t, :]-1]\n",
    "\n",
    "        run = label_switching.ecr_iterative_2(\n",
    "            z=np.vstack([\n",
    "                  np.argmax(Z_all[trial][t][k], axis=1).reshape(1, -1) for t in range(9, 14)\n",
    "            ]) + 1,\n",
    "            K=k+1,\n",
    "            p=np.stack([Z_all[trial][t][k] for t in range(9, 14)])\n",
    "        )\n",
    "        permutations = np.array(dollar(run, \"permutations\"))\n",
    "        for i, t in enumerate(range(9, 14)):\n",
    "            if t == 9:\n",
    "                for tt in range(10):\n",
    "                    Z_all[trial][tt][k] = Z_all[trial][tt][k][:, permutations[i, :]-1]\n",
    "            else:\n",
    "                Z_all[trial][t][k] = Z_all[trial][t][k][:, permutations[i, :]-1]\n",
    "        \n",
    "        run = label_switching.ecr_iterative_2(\n",
    "            z=np.vstack([\n",
    "                  np.argmax(Z_all[trial][t][k], axis=1).reshape(1, -1) for t in range(13, 35)\n",
    "            ]) + 1,\n",
    "            K=k+1,\n",
    "            p=np.stack([Z_all[trial][t][k] for t in range(13, 35)])\n",
    "        )\n",
    "        permutations = np.array(dollar(run, \"permutations\"))\n",
    "        for i, t in enumerate(range(13, 35)):\n",
    "            if t == 13:\n",
    "                for tt in range(14):\n",
    "                    Z_all[trial][tt][k] = Z_all[trial][tt][k][:, permutations[i, :]-1]\n",
    "            else:\n",
    "                Z_all[trial][t][k] = Z_all[trial][t][k][:, permutations[i, :]-1]\n",
    "\n",
    "        run = label_switching.ecr_iterative_2(\n",
    "            z=np.vstack([\n",
    "                  np.argmax(Z_all[trial][t][k], axis=1).reshape(1, -1) for t in range(34, 40)\n",
    "            ]) + 1,\n",
    "            K=k+1,\n",
    "            p=np.stack([Z_all[trial][t][k] for t in range(34, 40)])\n",
    "        )\n",
    "        permutations = np.array(dollar(run, \"permutations\"))\n",
    "        for i, t in enumerate(range(34, 40)):\n",
    "            if t == 34:\n",
    "                for tt in range(35):\n",
    "                    Z_all[trial][tt][k] = Z_all[trial][tt][k][:, permutations[i, :]-1]\n",
    "            else:\n",
    "                Z_all[trial][t][k] = Z_all[trial][t][k][:, permutations[i, :]-1]\n",
    "\n",
    "        run = label_switching.ecr_iterative_2(\n",
    "            z=np.vstack([\n",
    "                  np.argmax(Z_all[trial][t][k], axis=1).reshape(1, -1) for t in range(39, 59)\n",
    "            ]) + 1,\n",
    "            K=k+1,\n",
    "            p=np.stack([Z_all[trial][t][k] for t in range(39, 59)])\n",
    "        )\n",
    "        permutations = np.array(dollar(run, \"permutations\"))\n",
    "        for i, t in enumerate(range(39, 59)):\n",
    "            if t == 39:\n",
    "                for tt in range(40):\n",
    "                    Z_all[trial][tt][k] = Z_all[trial][tt][k][:, permutations[i, :]-1]\n",
    "            else:\n",
    "                Z_all[trial][t][k] = Z_all[trial][t][k][:, permutations[i, :]-1]\n",
    "\n",
    "        run = label_switching.ecr_iterative_2(\n",
    "            z=np.vstack([\n",
    "                  np.argmax(Z_all[trial][t][k], axis=1).reshape(1, -1) for t in range(58, 69)\n",
    "            ]) + 1,\n",
    "            K=k+1,\n",
    "            p=np.stack([Z_all[trial][t][k] for t in range(58, 69)])\n",
    "        )\n",
    "        permutations = np.array(dollar(run, \"permutations\"))\n",
    "        for i, t in enumerate(range(58, 69)):\n",
    "            if t == 58:\n",
    "                for tt in range(59):\n",
    "                    Z_all[trial][tt][k] = Z_all[trial][tt][k][:, permutations[i, :]-1]\n",
    "            else:\n",
    "                Z_all[trial][t][k] = Z_all[trial][t][k][:, permutations[i, :]-1]\n",
    "\n",
    "        run = label_switching.ecr_iterative_2(\n",
    "            z=np.vstack([\n",
    "                  np.argmax(Z_all[trial][t][k], axis=1).reshape(1, -1) for t in range(68, 90)\n",
    "            ]) + 1,\n",
    "            K=k+1,\n",
    "            p=np.stack([Z_all[trial][t][k] for t in range(68, 90)])\n",
    "        )\n",
    "        permutations = np.array(dollar(run, \"permutations\"))\n",
    "        for i, t in enumerate(range(68, 90)):\n",
    "            if t == 68:\n",
    "                for tt in range(69):\n",
    "                    Z_all[trial][tt][k] = Z_all[trial][tt][k][:, permutations[i, :]-1]\n",
    "            else:\n",
    "                Z_all[trial][t][k] = Z_all[trial][t][k][:, permutations[i, :]-1]\n",
    "            \n",
    "numpy2ri.deactivate()"
   ]
  },
  {
   "cell_type": "code",
   "execution_count": 25,
   "metadata": {},
   "outputs": [],
   "source": [
    "with open(os.path.join(outdir, 'z_gradual.pkl'), 'wb') as f:\n",
    "    pickle.dump(Z_all, f)"
   ]
  },
  {
   "cell_type": "code",
   "execution_count": 26,
   "metadata": {},
   "outputs": [
    {
     "name": "stderr",
     "output_type": "stream",
     "text": [
      "  0%|          | 0/20 [00:00<?, ?it/s]\n",
      "  0%|          | 0/88 [00:00<?, ?it/s]\u001b[A\n",
      "  1%|          | 1/88 [00:01<01:28,  1.02s/it]\u001b[A\n",
      "  2%|▏         | 2/88 [00:01<01:09,  1.24it/s]\u001b[A\n",
      "  3%|▎         | 3/88 [00:01<00:53,  1.58it/s]\u001b[A\n",
      "  5%|▍         | 4/88 [00:01<00:45,  1.86it/s]\u001b[A\n",
      "  6%|▌         | 5/88 [00:02<00:37,  2.21it/s]\u001b[A\n",
      "  7%|▋         | 6/88 [00:02<00:35,  2.34it/s]\u001b[A\n",
      "  8%|▊         | 7/88 [00:02<00:29,  2.71it/s]\u001b[A\n",
      "  9%|▉         | 8/88 [00:02<00:25,  3.11it/s]\u001b[A\n",
      " 10%|█         | 9/88 [00:03<00:24,  3.19it/s]\u001b[A\n",
      " 11%|█▏        | 10/88 [00:03<00:22,  3.41it/s]\u001b[A\n",
      " 12%|█▎        | 11/88 [00:03<00:20,  3.71it/s]\u001b[A\n",
      " 14%|█▎        | 12/88 [00:03<00:19,  3.85it/s]\u001b[A\n",
      " 15%|█▍        | 13/88 [00:04<00:19,  3.93it/s]\u001b[A\n",
      " 16%|█▌        | 14/88 [00:04<00:20,  3.56it/s]\u001b[A\n",
      " 17%|█▋        | 15/88 [00:04<00:18,  3.89it/s]\u001b[A\n",
      " 18%|█▊        | 16/88 [00:04<00:17,  4.21it/s]\u001b[A\n",
      " 19%|█▉        | 17/88 [00:05<00:16,  4.38it/s]\u001b[A\n",
      " 20%|██        | 18/88 [00:05<00:15,  4.51it/s]\u001b[A\n",
      " 22%|██▏       | 19/88 [00:05<00:14,  4.66it/s]\u001b[A\n",
      " 23%|██▎       | 20/88 [00:05<00:15,  4.36it/s]\u001b[A\n",
      " 24%|██▍       | 21/88 [00:05<00:14,  4.59it/s]\u001b[A\n",
      " 25%|██▌       | 22/88 [00:06<00:13,  4.85it/s]\u001b[A\n",
      " 26%|██▌       | 23/88 [00:06<00:13,  4.79it/s]\u001b[A\n",
      " 27%|██▋       | 24/88 [00:06<00:12,  4.97it/s]\u001b[A\n",
      " 28%|██▊       | 25/88 [00:06<00:12,  5.06it/s]\u001b[A\n",
      " 30%|██▉       | 26/88 [00:06<00:12,  5.06it/s]\u001b[A\n",
      " 31%|███       | 27/88 [00:07<00:11,  5.18it/s]\u001b[A\n",
      " 32%|███▏      | 28/88 [00:07<00:11,  5.21it/s]\u001b[A\n",
      " 33%|███▎      | 29/88 [00:07<00:11,  5.04it/s]\u001b[A\n",
      " 34%|███▍      | 30/88 [00:07<00:12,  4.54it/s]\u001b[A\n",
      " 35%|███▌      | 31/88 [00:07<00:12,  4.74it/s]\u001b[A\n",
      " 36%|███▋      | 32/88 [00:08<00:11,  4.84it/s]\u001b[A\n",
      " 38%|███▊      | 33/88 [00:08<00:11,  4.94it/s]\u001b[A\n",
      " 39%|███▊      | 34/88 [00:08<00:11,  4.54it/s]\u001b[A\n",
      " 40%|███▉      | 35/88 [00:08<00:11,  4.79it/s]\u001b[A\n",
      " 41%|████      | 36/88 [00:09<00:10,  4.92it/s]\u001b[A\n",
      " 42%|████▏     | 37/88 [00:09<00:10,  4.66it/s]\u001b[A\n",
      " 43%|████▎     | 38/88 [00:09<00:10,  4.68it/s]\u001b[A\n",
      " 44%|████▍     | 39/88 [00:09<00:10,  4.48it/s]\u001b[A\n",
      " 45%|████▌     | 40/88 [00:09<00:10,  4.55it/s]\u001b[A\n",
      " 47%|████▋     | 41/88 [00:10<00:10,  4.38it/s]\u001b[A\n",
      " 48%|████▊     | 42/88 [00:10<00:10,  4.37it/s]\u001b[A\n",
      " 49%|████▉     | 43/88 [00:10<00:10,  4.27it/s]\u001b[A\n",
      " 50%|█████     | 44/88 [00:10<00:09,  4.50it/s]\u001b[A\n",
      " 51%|█████     | 45/88 [00:11<00:09,  4.62it/s]\u001b[A\n",
      " 52%|█████▏    | 46/88 [00:11<00:09,  4.47it/s]\u001b[A\n",
      " 53%|█████▎    | 47/88 [00:11<00:08,  4.66it/s]\u001b[A\n",
      " 55%|█████▍    | 48/88 [00:11<00:08,  4.84it/s]\u001b[A\n",
      " 56%|█████▌    | 49/88 [00:11<00:07,  4.92it/s]\u001b[A\n",
      " 57%|█████▋    | 50/88 [00:12<00:07,  4.82it/s]\u001b[A\n",
      " 58%|█████▊    | 51/88 [00:12<00:07,  5.00it/s]\u001b[A\n",
      " 59%|█████▉    | 52/88 [00:12<00:06,  5.17it/s]\u001b[A\n",
      " 60%|██████    | 53/88 [00:12<00:07,  4.96it/s]\u001b[A\n",
      " 61%|██████▏   | 54/88 [00:12<00:07,  4.78it/s]\u001b[A\n",
      " 62%|██████▎   | 55/88 [00:13<00:07,  4.70it/s]\u001b[A\n",
      " 64%|██████▎   | 56/88 [00:13<00:06,  4.80it/s]\u001b[A\n",
      " 65%|██████▍   | 57/88 [00:13<00:06,  5.05it/s]\u001b[A\n",
      " 66%|██████▌   | 58/88 [00:13<00:05,  5.04it/s]\u001b[A\n",
      " 67%|██████▋   | 59/88 [00:13<00:05,  5.00it/s]\u001b[A\n",
      " 68%|██████▊   | 60/88 [00:14<00:05,  5.14it/s]\u001b[A\n",
      " 69%|██████▉   | 61/88 [00:14<00:05,  5.12it/s]\u001b[A\n",
      " 70%|███████   | 62/88 [00:14<00:04,  5.21it/s]\u001b[A\n",
      " 72%|███████▏  | 63/88 [00:14<00:04,  5.03it/s]\u001b[A\n",
      " 73%|███████▎  | 64/88 [00:14<00:04,  5.14it/s]\u001b[A\n",
      " 74%|███████▍  | 65/88 [00:15<00:04,  5.03it/s]\u001b[A\n",
      " 75%|███████▌  | 66/88 [00:15<00:04,  5.06it/s]\u001b[A\n",
      " 76%|███████▌  | 67/88 [00:15<00:04,  5.13it/s]\u001b[A\n",
      " 77%|███████▋  | 68/88 [00:15<00:03,  5.19it/s]\u001b[A\n",
      " 78%|███████▊  | 69/88 [00:15<00:03,  5.34it/s]\u001b[A\n",
      " 80%|███████▉  | 70/88 [00:15<00:03,  5.33it/s]\u001b[A\n",
      " 81%|████████  | 71/88 [00:16<00:03,  5.42it/s]\u001b[A\n",
      " 82%|████████▏ | 72/88 [00:16<00:02,  5.43it/s]\u001b[A\n",
      " 83%|████████▎ | 73/88 [00:16<00:02,  5.45it/s]\u001b[A\n",
      " 84%|████████▍ | 74/88 [00:16<00:02,  5.43it/s]\u001b[A\n",
      " 85%|████████▌ | 75/88 [00:16<00:02,  5.48it/s]\u001b[A\n",
      " 86%|████████▋ | 76/88 [00:17<00:02,  5.54it/s]\u001b[A\n",
      " 88%|████████▊ | 77/88 [00:17<00:02,  5.42it/s]\u001b[A\n",
      " 89%|████████▊ | 78/88 [00:17<00:01,  5.37it/s]\u001b[A\n",
      " 90%|████████▉ | 79/88 [00:17<00:01,  5.37it/s]\u001b[A\n",
      " 91%|█████████ | 80/88 [00:17<00:01,  5.33it/s]\u001b[A\n",
      " 92%|█████████▏| 81/88 [00:18<00:01,  5.36it/s]\u001b[A\n",
      " 93%|█████████▎| 82/88 [00:18<00:01,  5.45it/s]\u001b[A\n",
      " 94%|█████████▍| 83/88 [00:18<00:00,  5.46it/s]\u001b[A\n",
      " 95%|█████████▌| 84/88 [00:18<00:00,  5.49it/s]\u001b[A\n",
      " 97%|█████████▋| 85/88 [00:18<00:00,  5.54it/s]\u001b[A\n",
      " 98%|█████████▊| 86/88 [00:18<00:00,  5.55it/s]\u001b[A\n",
      " 99%|█████████▉| 87/88 [00:19<00:00,  5.58it/s]\u001b[A\n",
      "100%|██████████| 88/88 [00:19<00:00,  5.55it/s]\u001b[A\n",
      "  5%|▌         | 1/20 [00:19<06:06, 19.28s/it]\n",
      "  0%|          | 0/88 [00:00<?, ?it/s]\u001b[A\n",
      "  1%|          | 1/88 [00:00<00:50,  1.72it/s]\u001b[A\n",
      "  2%|▏         | 2/88 [00:00<00:42,  2.04it/s]\u001b[A\n",
      "  3%|▎         | 3/88 [00:01<00:39,  2.15it/s]\u001b[A\n",
      "  5%|▍         | 4/88 [00:01<00:33,  2.47it/s]\u001b[A\n",
      "  6%|▌         | 5/88 [00:01<00:30,  2.73it/s]\u001b[A\n",
      "  7%|▋         | 6/88 [00:02<00:27,  3.03it/s]\u001b[A\n",
      "  8%|▊         | 7/88 [00:02<00:24,  3.32it/s]\u001b[A/Users/shi-fukushima/.pyenv/versions/anaconda3-5.3.1/lib/python3.7/site-packages/ipykernel_launcher.py:92: RuntimeWarning: invalid value encountered in true_divide\n",
      "\n",
      "  9%|▉         | 8/88 [00:02<00:21,  3.75it/s]\u001b[A/Users/shi-fukushima/.pyenv/versions/anaconda3-5.3.1/lib/python3.7/site-packages/ipykernel_launcher.py:28: RuntimeWarning: invalid value encountered in true_divide\n",
      "/Users/shi-fukushima/.pyenv/versions/anaconda3-5.3.1/lib/python3.7/site-packages/ipykernel_launcher.py:60: RuntimeWarning: invalid value encountered in true_divide\n",
      "\n",
      " 10%|█         | 9/88 [00:02<00:19,  4.09it/s]\u001b[A\n",
      " 11%|█▏        | 10/88 [00:02<00:18,  4.24it/s]\u001b[A\n",
      " 12%|█▎        | 11/88 [00:03<00:18,  4.13it/s]\u001b[A\n",
      " 14%|█▎        | 12/88 [00:03<00:19,  3.82it/s]\u001b[A\n",
      " 15%|█▍        | 13/88 [00:03<00:20,  3.72it/s]\u001b[A\n",
      " 16%|█▌        | 14/88 [00:03<00:18,  3.96it/s]\u001b[A\n",
      " 17%|█▋        | 15/88 [00:04<00:17,  4.08it/s]\u001b[A\n",
      " 18%|█▊        | 16/88 [00:04<00:17,  4.16it/s]\u001b[A\n",
      " 19%|█▉        | 17/88 [00:04<00:16,  4.38it/s]\u001b[A\n",
      " 20%|██        | 18/88 [00:04<00:16,  4.30it/s]\u001b[A\n",
      " 22%|██▏       | 19/88 [00:05<00:15,  4.43it/s]\u001b[A\n",
      " 23%|██▎       | 20/88 [00:05<00:15,  4.45it/s]\u001b[A\n",
      " 24%|██▍       | 21/88 [00:05<00:14,  4.77it/s]\u001b[A\n",
      " 25%|██▌       | 22/88 [00:05<00:13,  4.87it/s]\u001b[A\n",
      " 26%|██▌       | 23/88 [00:05<00:13,  4.83it/s]\u001b[A\n",
      " 27%|██▋       | 24/88 [00:06<00:13,  4.82it/s]\u001b[A\n",
      " 28%|██▊       | 25/88 [00:06<00:14,  4.23it/s]\u001b[A\n",
      " 30%|██▉       | 26/88 [00:06<00:14,  4.36it/s]\u001b[A\n",
      " 31%|███       | 27/88 [00:06<00:13,  4.54it/s]\u001b[A\n",
      " 32%|███▏      | 28/88 [00:06<00:12,  4.67it/s]\u001b[A\n",
      " 33%|███▎      | 29/88 [00:07<00:12,  4.62it/s]\u001b[A\n",
      " 34%|███▍      | 30/88 [00:07<00:12,  4.52it/s]\u001b[A\n",
      " 35%|███▌      | 31/88 [00:07<00:13,  4.30it/s]\u001b[A\n",
      " 36%|███▋      | 32/88 [00:07<00:12,  4.48it/s]\u001b[A\n",
      " 38%|███▊      | 33/88 [00:08<00:12,  4.55it/s]\u001b[A\n",
      " 39%|███▊      | 34/88 [00:08<00:12,  4.18it/s]\u001b[A\n",
      " 40%|███▉      | 35/88 [00:08<00:13,  3.89it/s]\u001b[A\n",
      " 41%|████      | 36/88 [00:09<00:14,  3.65it/s]\u001b[A\n",
      " 42%|████▏     | 37/88 [00:09<00:15,  3.38it/s]\u001b[A\n",
      " 43%|████▎     | 38/88 [00:09<00:13,  3.58it/s]\u001b[A\n",
      " 44%|████▍     | 39/88 [00:09<00:14,  3.49it/s]\u001b[A\n",
      " 45%|████▌     | 40/88 [00:10<00:12,  3.90it/s]\u001b[A\n",
      " 47%|████▋     | 41/88 [00:10<00:11,  4.25it/s]\u001b[A\n",
      " 48%|████▊     | 42/88 [00:10<00:10,  4.31it/s]\u001b[A\n",
      " 49%|████▉     | 43/88 [00:10<00:10,  4.38it/s]\u001b[A\n",
      " 50%|█████     | 44/88 [00:10<00:09,  4.60it/s]\u001b[A\n",
      " 51%|█████     | 45/88 [00:11<00:09,  4.60it/s]\u001b[A\n",
      " 52%|█████▏    | 46/88 [00:11<00:09,  4.54it/s]\u001b[A\n",
      " 53%|█████▎    | 47/88 [00:11<00:08,  4.63it/s]\u001b[A\n",
      " 55%|█████▍    | 48/88 [00:11<00:08,  4.60it/s]\u001b[A\n",
      " 56%|█████▌    | 49/88 [00:11<00:08,  4.77it/s]\u001b[A\n",
      " 57%|█████▋    | 50/88 [00:12<00:08,  4.67it/s]\u001b[A\n",
      " 58%|█████▊    | 51/88 [00:12<00:07,  4.79it/s]\u001b[A\n",
      " 59%|█████▉    | 52/88 [00:12<00:07,  4.85it/s]\u001b[A\n",
      " 60%|██████    | 53/88 [00:12<00:07,  4.95it/s]\u001b[A\n",
      " 61%|██████▏   | 54/88 [00:13<00:07,  4.75it/s]\u001b[A\n",
      " 62%|██████▎   | 55/88 [00:13<00:06,  4.97it/s]\u001b[A\n",
      " 64%|██████▎   | 56/88 [00:13<00:06,  4.86it/s]\u001b[A\n",
      " 65%|██████▍   | 57/88 [00:13<00:06,  4.83it/s]\u001b[A\n",
      " 66%|██████▌   | 58/88 [00:13<00:06,  4.69it/s]\u001b[A\n",
      " 67%|██████▋   | 59/88 [00:14<00:07,  3.98it/s]\u001b[A\n",
      " 68%|██████▊   | 60/88 [00:14<00:06,  4.23it/s]\u001b[A\n",
      " 69%|██████▉   | 61/88 [00:14<00:06,  4.38it/s]\u001b[A\n",
      " 70%|███████   | 62/88 [00:14<00:05,  4.58it/s]\u001b[A\n",
      " 72%|███████▏  | 63/88 [00:15<00:05,  4.26it/s]\u001b[A\n",
      " 73%|███████▎  | 64/88 [00:15<00:06,  3.90it/s]\u001b[A\n",
      " 74%|███████▍  | 65/88 [00:15<00:05,  4.08it/s]\u001b[A\n",
      " 75%|███████▌  | 66/88 [00:15<00:04,  4.43it/s]\u001b[A\n",
      " 76%|███████▌  | 67/88 [00:16<00:04,  4.37it/s]\u001b[A\n",
      " 77%|███████▋  | 68/88 [00:16<00:04,  4.41it/s]\u001b[A\n",
      " 78%|███████▊  | 69/88 [00:16<00:04,  4.45it/s]\u001b[A\n",
      " 80%|███████▉  | 70/88 [00:16<00:03,  4.67it/s]\u001b[A\n",
      " 81%|████████  | 71/88 [00:16<00:03,  4.90it/s]\u001b[A\n",
      " 82%|████████▏ | 72/88 [00:17<00:03,  4.82it/s]\u001b[A\n",
      " 83%|████████▎ | 73/88 [00:17<00:03,  4.97it/s]\u001b[A\n",
      " 84%|████████▍ | 74/88 [00:17<00:02,  5.09it/s]\u001b[A\n",
      " 85%|████████▌ | 75/88 [00:17<00:02,  4.92it/s]\u001b[A\n",
      " 86%|████████▋ | 76/88 [00:17<00:02,  5.13it/s]\u001b[A\n",
      " 88%|████████▊ | 77/88 [00:18<00:02,  5.05it/s]\u001b[A\n",
      " 89%|████████▊ | 78/88 [00:18<00:01,  5.15it/s]\u001b[A\n",
      " 90%|████████▉ | 79/88 [00:18<00:01,  5.25it/s]\u001b[A\n",
      " 91%|█████████ | 80/88 [00:18<00:01,  5.35it/s]\u001b[A\n",
      " 92%|█████████▏| 81/88 [00:18<00:01,  5.28it/s]\u001b[A\n",
      " 93%|█████████▎| 82/88 [00:18<00:01,  5.14it/s]\u001b[A\n",
      " 94%|█████████▍| 83/88 [00:19<00:00,  5.27it/s]\u001b[A\n",
      " 95%|█████████▌| 84/88 [00:19<00:00,  5.36it/s]\u001b[A\n",
      " 97%|█████████▋| 85/88 [00:19<00:00,  5.30it/s]\u001b[A\n",
      " 98%|█████████▊| 86/88 [00:19<00:00,  5.38it/s]\u001b[A\n",
      " 99%|█████████▉| 87/88 [00:19<00:00,  4.66it/s]\u001b[A\n",
      "100%|██████████| 88/88 [00:20<00:00,  4.87it/s]\u001b[A\n",
      " 10%|█         | 2/20 [00:39<05:51, 19.54s/it]\n",
      "  0%|          | 0/88 [00:00<?, ?it/s]\u001b[A\n",
      "  1%|          | 1/88 [00:00<00:37,  2.32it/s]\u001b[A\n",
      "  2%|▏         | 2/88 [00:00<00:31,  2.76it/s]\u001b[A\n",
      "  3%|▎         | 3/88 [00:00<00:27,  3.14it/s]\u001b[A\n",
      "  5%|▍         | 4/88 [00:01<00:25,  3.23it/s]\u001b[A\n",
      "  6%|▌         | 5/88 [00:01<00:23,  3.54it/s]\u001b[A\n",
      "  7%|▋         | 6/88 [00:01<00:21,  3.89it/s]\u001b[A\n",
      "  8%|▊         | 7/88 [00:01<00:21,  3.84it/s]\u001b[A\n",
      "  9%|▉         | 8/88 [00:02<00:19,  4.18it/s]\u001b[A\n",
      " 10%|█         | 9/88 [00:02<00:17,  4.46it/s]\u001b[A\n",
      " 11%|█▏        | 10/88 [00:02<00:17,  4.34it/s]\u001b[A\n",
      " 12%|█▎        | 11/88 [00:02<00:18,  4.15it/s]\u001b[A\n",
      " 14%|█▎        | 12/88 [00:02<00:17,  4.37it/s]\u001b[A\n",
      " 15%|█▍        | 13/88 [00:03<00:18,  4.02it/s]\u001b[A\n",
      " 16%|█▌        | 14/88 [00:03<00:16,  4.40it/s]\u001b[A\n",
      " 17%|█▋        | 15/88 [00:03<00:16,  4.48it/s]\u001b[A\n",
      " 18%|█▊        | 16/88 [00:03<00:15,  4.78it/s]\u001b[A\n",
      " 19%|█▉        | 17/88 [00:03<00:14,  4.80it/s]\u001b[A\n",
      " 20%|██        | 18/88 [00:04<00:14,  4.94it/s]\u001b[A\n",
      " 22%|██▏       | 19/88 [00:04<00:13,  5.10it/s]\u001b[A\n",
      " 23%|██▎       | 20/88 [00:04<00:15,  4.46it/s]\u001b[A\n",
      " 24%|██▍       | 21/88 [00:04<00:14,  4.74it/s]\u001b[A\n",
      " 25%|██▌       | 22/88 [00:05<00:13,  4.94it/s]\u001b[A\n",
      " 26%|██▌       | 23/88 [00:05<00:13,  4.78it/s]\u001b[A\n",
      " 27%|██▋       | 24/88 [00:05<00:13,  4.82it/s]\u001b[A\n",
      " 28%|██▊       | 25/88 [00:05<00:12,  4.97it/s]\u001b[A\n",
      " 30%|██▉       | 26/88 [00:05<00:12,  5.07it/s]\u001b[A\n",
      " 31%|███       | 27/88 [00:06<00:12,  5.08it/s]\u001b[A\n",
      " 32%|███▏      | 28/88 [00:06<00:11,  5.20it/s]\u001b[A\n",
      " 33%|███▎      | 29/88 [00:06<00:11,  5.29it/s]\u001b[A\n",
      " 34%|███▍      | 30/88 [00:06<00:10,  5.36it/s]\u001b[A\n",
      " 35%|███▌      | 31/88 [00:06<00:10,  5.41it/s]\u001b[A\n",
      " 36%|███▋      | 32/88 [00:06<00:10,  5.32it/s]\u001b[A\n",
      " 38%|███▊      | 33/88 [00:07<00:10,  5.03it/s]\u001b[A\n",
      " 39%|███▊      | 34/88 [00:07<00:10,  5.09it/s]\u001b[A\n",
      " 40%|███▉      | 35/88 [00:07<00:12,  4.28it/s]\u001b[A\n",
      " 41%|████      | 36/88 [00:07<00:12,  4.03it/s]\u001b[A\n",
      " 42%|████▏     | 37/88 [00:08<00:14,  3.64it/s]\u001b[A\n",
      " 43%|████▎     | 38/88 [00:08<00:12,  4.03it/s]\u001b[A\n",
      " 44%|████▍     | 39/88 [00:08<00:11,  4.29it/s]\u001b[A\n",
      " 45%|████▌     | 40/88 [00:08<00:12,  3.94it/s]\u001b[A\n",
      " 47%|████▋     | 41/88 [00:09<00:10,  4.32it/s]\u001b[A\n",
      " 48%|████▊     | 42/88 [00:09<00:10,  4.59it/s]\u001b[A\n",
      " 49%|████▉     | 43/88 [00:09<00:09,  4.78it/s]\u001b[A\n",
      " 50%|█████     | 44/88 [00:09<00:09,  4.87it/s]\u001b[A\n",
      " 51%|█████     | 45/88 [00:09<00:08,  5.07it/s]\u001b[A\n",
      " 52%|█████▏    | 46/88 [00:10<00:08,  4.88it/s]\u001b[A\n",
      " 53%|█████▎    | 47/88 [00:10<00:08,  4.66it/s]\u001b[A\n",
      " 55%|█████▍    | 48/88 [00:10<00:08,  4.73it/s]\u001b[A\n",
      " 56%|█████▌    | 49/88 [00:10<00:07,  4.94it/s]\u001b[A\n",
      " 57%|█████▋    | 50/88 [00:10<00:07,  5.11it/s]\u001b[A\n",
      " 58%|█████▊    | 51/88 [00:11<00:07,  5.10it/s]\u001b[A\n",
      " 59%|█████▉    | 52/88 [00:11<00:06,  5.18it/s]\u001b[A\n",
      " 60%|██████    | 53/88 [00:11<00:06,  5.28it/s]\u001b[A\n",
      " 61%|██████▏   | 54/88 [00:11<00:06,  5.32it/s]\u001b[A\n",
      " 62%|██████▎   | 55/88 [00:11<00:06,  4.87it/s]\u001b[A\n",
      " 64%|██████▎   | 56/88 [00:12<00:06,  4.98it/s]\u001b[A\n",
      " 65%|██████▍   | 57/88 [00:12<00:06,  4.58it/s]\u001b[A\n",
      " 66%|██████▌   | 58/88 [00:12<00:06,  4.77it/s]\u001b[A\n",
      " 67%|██████▋   | 59/88 [00:12<00:06,  4.77it/s]\u001b[A\n",
      " 68%|██████▊   | 60/88 [00:12<00:06,  4.67it/s]\u001b[A\n",
      " 69%|██████▉   | 61/88 [00:13<00:05,  4.75it/s]\u001b[A\n",
      " 70%|███████   | 62/88 [00:13<00:05,  4.86it/s]\u001b[A\n",
      " 72%|███████▏  | 63/88 [00:13<00:05,  4.79it/s]\u001b[A\n",
      " 73%|███████▎  | 64/88 [00:13<00:05,  4.74it/s]\u001b[A\n",
      " 74%|███████▍  | 65/88 [00:14<00:05,  4.55it/s]\u001b[A\n",
      " 75%|███████▌  | 66/88 [00:14<00:05,  4.24it/s]\u001b[A\n",
      " 76%|███████▌  | 67/88 [00:14<00:05,  3.98it/s]\u001b[A\n",
      " 77%|███████▋  | 68/88 [00:14<00:05,  3.87it/s]\u001b[A\n",
      " 78%|███████▊  | 69/88 [00:15<00:04,  3.82it/s]\u001b[A\n",
      " 80%|███████▉  | 70/88 [00:15<00:04,  4.05it/s]\u001b[A\n",
      " 81%|████████  | 71/88 [00:15<00:03,  4.36it/s]\u001b[A\n",
      " 82%|████████▏ | 72/88 [00:15<00:03,  4.57it/s]\u001b[A\n",
      " 83%|████████▎ | 73/88 [00:15<00:03,  4.74it/s]\u001b[A\n",
      " 84%|████████▍ | 74/88 [00:16<00:03,  4.52it/s]\u001b[A\n",
      " 85%|████████▌ | 75/88 [00:16<00:02,  4.40it/s]\u001b[A\n",
      " 86%|████████▋ | 76/88 [00:16<00:02,  4.19it/s]\u001b[A\n",
      " 88%|████████▊ | 77/88 [00:16<00:02,  4.43it/s]\u001b[A\n",
      " 89%|████████▊ | 78/88 [00:17<00:02,  4.67it/s]\u001b[A\n",
      " 90%|████████▉ | 79/88 [00:17<00:01,  4.66it/s]\u001b[A\n",
      " 91%|█████████ | 80/88 [00:17<00:01,  4.83it/s]\u001b[A\n",
      " 92%|█████████▏| 81/88 [00:17<00:01,  5.01it/s]\u001b[A\n",
      " 93%|█████████▎| 82/88 [00:17<00:01,  5.14it/s]\u001b[A\n",
      " 94%|█████████▍| 83/88 [00:18<00:00,  5.29it/s]\u001b[A\n",
      " 95%|█████████▌| 84/88 [00:18<00:00,  4.30it/s]\u001b[A\n",
      " 97%|█████████▋| 85/88 [00:18<00:00,  4.61it/s]\u001b[A\n",
      " 98%|█████████▊| 86/88 [00:18<00:00,  4.69it/s]\u001b[A\n",
      " 99%|█████████▉| 87/88 [00:19<00:00,  4.23it/s]\u001b[A\n",
      "100%|██████████| 88/88 [00:19<00:00,  4.43it/s]\u001b[A\n",
      " 15%|█▌        | 3/20 [00:58<05:30, 19.45s/it]\n",
      "  0%|          | 0/88 [00:00<?, ?it/s]\u001b[A\n",
      "  1%|          | 1/88 [00:00<00:20,  4.25it/s]\u001b[A\n",
      "  2%|▏         | 2/88 [00:00<00:18,  4.57it/s]\u001b[A\n",
      "  3%|▎         | 3/88 [00:00<00:18,  4.69it/s]\u001b[A\n",
      "  5%|▍         | 4/88 [00:00<00:17,  4.68it/s]\u001b[A\n",
      "  6%|▌         | 5/88 [00:01<00:17,  4.83it/s]\u001b[A\n",
      "  7%|▋         | 6/88 [00:01<00:17,  4.82it/s]\u001b[A\n",
      "  8%|▊         | 7/88 [00:01<00:17,  4.58it/s]\u001b[A\n",
      "  9%|▉         | 8/88 [00:01<00:18,  4.35it/s]\u001b[A\n",
      " 10%|█         | 9/88 [00:01<00:18,  4.33it/s]\u001b[A\n",
      " 11%|█▏        | 10/88 [00:02<00:18,  4.24it/s]\u001b[A\n",
      " 12%|█▎        | 11/88 [00:02<00:18,  4.28it/s]\u001b[A\n",
      " 14%|█▎        | 12/88 [00:02<00:20,  3.79it/s]\u001b[A\n",
      " 15%|█▍        | 13/88 [00:02<00:18,  3.97it/s]\u001b[A\n",
      " 16%|█▌        | 14/88 [00:03<00:17,  4.24it/s]\u001b[A\n",
      " 17%|█▋        | 15/88 [00:03<00:15,  4.58it/s]\u001b[A\n",
      " 18%|█▊        | 16/88 [00:03<00:15,  4.72it/s]\u001b[A\n",
      " 19%|█▉        | 17/88 [00:03<00:14,  4.94it/s]\u001b[A\n",
      " 20%|██        | 18/88 [00:03<00:13,  5.09it/s]\u001b[A\n",
      " 22%|██▏       | 19/88 [00:04<00:13,  5.25it/s]\u001b[A\n",
      " 23%|██▎       | 20/88 [00:04<00:12,  5.33it/s]\u001b[A\n",
      " 24%|██▍       | 21/88 [00:04<00:12,  5.41it/s]\u001b[A\n",
      " 25%|██▌       | 22/88 [00:04<00:12,  5.44it/s]\u001b[A\n",
      " 26%|██▌       | 23/88 [00:04<00:11,  5.51it/s]\u001b[A\n",
      " 27%|██▋       | 24/88 [00:05<00:11,  5.51it/s]\u001b[A\n",
      " 28%|██▊       | 25/88 [00:05<00:11,  5.54it/s]\u001b[A\n",
      " 30%|██▉       | 26/88 [00:05<00:11,  5.55it/s]\u001b[A\n",
      " 31%|███       | 27/88 [00:05<00:11,  5.42it/s]\u001b[A\n",
      " 32%|███▏      | 28/88 [00:05<00:12,  4.77it/s]\u001b[A\n",
      " 33%|███▎      | 29/88 [00:06<00:12,  4.86it/s]\u001b[A\n",
      " 34%|███▍      | 30/88 [00:06<00:11,  4.93it/s]\u001b[A\n",
      " 35%|███▌      | 31/88 [00:06<00:11,  5.11it/s]\u001b[A\n",
      " 36%|███▋      | 32/88 [00:06<00:10,  5.28it/s]\u001b[A\n",
      " 38%|███▊      | 33/88 [00:06<00:11,  4.88it/s]\u001b[A\n",
      " 39%|███▊      | 34/88 [00:07<00:10,  5.00it/s]\u001b[A\n",
      " 40%|███▉      | 35/88 [00:07<00:10,  5.15it/s]\u001b[A\n",
      " 41%|████      | 36/88 [00:07<00:09,  5.29it/s]\u001b[A\n",
      " 42%|████▏     | 37/88 [00:07<00:09,  5.40it/s]\u001b[A\n",
      " 43%|████▎     | 38/88 [00:07<00:09,  5.47it/s]\u001b[A\n",
      " 44%|████▍     | 39/88 [00:07<00:08,  5.51it/s]\u001b[A\n",
      " 45%|████▌     | 40/88 [00:08<00:08,  5.50it/s]\u001b[A\n",
      " 47%|████▋     | 41/88 [00:08<00:08,  5.51it/s]\u001b[A\n",
      " 48%|████▊     | 42/88 [00:08<00:08,  5.54it/s]\u001b[A\n",
      " 49%|████▉     | 43/88 [00:08<00:08,  5.54it/s]\u001b[A\n",
      " 50%|█████     | 44/88 [00:08<00:07,  5.56it/s]\u001b[A\n",
      " 51%|█████     | 45/88 [00:08<00:07,  5.50it/s]\u001b[A\n",
      " 52%|█████▏    | 46/88 [00:09<00:07,  5.50it/s]\u001b[A\n",
      " 53%|█████▎    | 47/88 [00:09<00:07,  5.55it/s]\u001b[A\n",
      " 55%|█████▍    | 48/88 [00:09<00:07,  5.52it/s]\u001b[A\n",
      " 56%|█████▌    | 49/88 [00:09<00:07,  4.92it/s]\u001b[A\n",
      " 57%|█████▋    | 50/88 [00:09<00:07,  4.82it/s]\u001b[A\n",
      " 58%|█████▊    | 51/88 [00:10<00:07,  4.96it/s]\u001b[A\n",
      " 59%|█████▉    | 52/88 [00:10<00:07,  4.98it/s]\u001b[A\n",
      " 60%|██████    | 53/88 [00:10<00:06,  5.12it/s]\u001b[A\n",
      " 61%|██████▏   | 54/88 [00:10<00:06,  5.25it/s]\u001b[A\n",
      " 62%|██████▎   | 55/88 [00:10<00:06,  4.79it/s]\u001b[A\n",
      " 64%|██████▎   | 56/88 [00:11<00:06,  4.85it/s]\u001b[A\n",
      " 65%|██████▍   | 57/88 [00:11<00:06,  4.76it/s]\u001b[A\n",
      " 66%|██████▌   | 58/88 [00:11<00:06,  4.81it/s]\u001b[A\n",
      " 67%|██████▋   | 59/88 [00:11<00:05,  5.02it/s]\u001b[A\n",
      " 68%|██████▊   | 60/88 [00:11<00:05,  5.12it/s]\u001b[A\n",
      " 69%|██████▉   | 61/88 [00:12<00:05,  4.91it/s]\u001b[A\n",
      " 70%|███████   | 62/88 [00:12<00:05,  4.79it/s]\u001b[A\n",
      " 72%|███████▏  | 63/88 [00:12<00:05,  4.90it/s]\u001b[A\n",
      " 73%|███████▎  | 64/88 [00:12<00:04,  5.09it/s]\u001b[A\n",
      " 74%|███████▍  | 65/88 [00:12<00:04,  5.23it/s]\u001b[A\n",
      " 75%|███████▌  | 66/88 [00:13<00:04,  5.35it/s]\u001b[A\n",
      " 76%|███████▌  | 67/88 [00:13<00:03,  5.30it/s]\u001b[A\n",
      " 77%|███████▋  | 68/88 [00:13<00:03,  5.35it/s]\u001b[A\n",
      " 78%|███████▊  | 69/88 [00:13<00:03,  4.99it/s]\u001b[A\n",
      " 80%|███████▉  | 70/88 [00:13<00:03,  5.08it/s]\u001b[A\n",
      " 81%|████████  | 71/88 [00:14<00:03,  5.18it/s]\u001b[A\n",
      " 82%|████████▏ | 72/88 [00:14<00:03,  5.26it/s]\u001b[A\n",
      " 83%|████████▎ | 73/88 [00:14<00:02,  5.37it/s]\u001b[A\n",
      " 84%|████████▍ | 74/88 [00:14<00:02,  5.31it/s]\u001b[A\n",
      " 85%|████████▌ | 75/88 [00:14<00:02,  5.38it/s]\u001b[A\n",
      " 86%|████████▋ | 76/88 [00:15<00:02,  5.45it/s]\u001b[A\n",
      " 88%|████████▊ | 77/88 [00:15<00:02,  5.47it/s]\u001b[A\n",
      " 89%|████████▊ | 78/88 [00:15<00:01,  5.48it/s]\u001b[A\n",
      " 90%|████████▉ | 79/88 [00:15<00:01,  5.53it/s]\u001b[A\n",
      " 91%|█████████ | 80/88 [00:15<00:01,  4.92it/s]\u001b[A\n",
      " 92%|█████████▏| 81/88 [00:16<00:01,  4.96it/s]\u001b[A\n",
      " 93%|█████████▎| 82/88 [00:16<00:01,  5.08it/s]\u001b[A\n",
      " 94%|█████████▍| 83/88 [00:16<00:00,  5.20it/s]\u001b[A\n",
      " 95%|█████████▌| 84/88 [00:16<00:00,  5.20it/s]\u001b[A\n",
      " 97%|█████████▋| 85/88 [00:16<00:00,  5.28it/s]\u001b[A\n",
      " 98%|█████████▊| 86/88 [00:16<00:00,  5.37it/s]\u001b[A\n",
      " 99%|█████████▉| 87/88 [00:17<00:00,  5.40it/s]\u001b[A\n",
      "100%|██████████| 88/88 [00:17<00:00,  5.43it/s]\u001b[A\n",
      " 20%|██        | 4/20 [01:16<05:01, 18.82s/it]\n",
      "  0%|          | 0/88 [00:00<?, ?it/s]\u001b[A\n",
      "  1%|          | 1/88 [00:00<00:31,  2.77it/s]\u001b[A\n",
      "  2%|▏         | 2/88 [00:00<00:27,  3.13it/s]\u001b[A\n",
      "  3%|▎         | 3/88 [00:00<00:23,  3.54it/s]\u001b[A\n",
      "  5%|▍         | 4/88 [00:00<00:21,  3.85it/s]\u001b[A\n",
      "  6%|▌         | 5/88 [00:01<00:22,  3.76it/s]\u001b[A\n",
      "  7%|▋         | 6/88 [00:01<00:21,  3.74it/s]\u001b[A\n",
      "  8%|▊         | 7/88 [00:01<00:20,  3.94it/s]\u001b[A\n",
      "  9%|▉         | 8/88 [00:01<00:18,  4.23it/s]\u001b[A\n",
      " 10%|█         | 9/88 [00:02<00:17,  4.58it/s]\u001b[A\n",
      " 11%|█▏        | 10/88 [00:02<00:17,  4.49it/s]\u001b[A\n",
      " 12%|█▎        | 11/88 [00:02<00:16,  4.56it/s]\u001b[A\n",
      " 14%|█▎        | 12/88 [00:02<00:17,  4.24it/s]\u001b[A\n",
      " 15%|█▍        | 13/88 [00:03<00:16,  4.43it/s]\u001b[A\n",
      " 16%|█▌        | 14/88 [00:03<00:16,  4.52it/s]\u001b[A\n",
      " 17%|█▋        | 15/88 [00:03<00:15,  4.70it/s]\u001b[A\n",
      " 18%|█▊        | 16/88 [00:03<00:15,  4.77it/s]\u001b[A\n",
      " 19%|█▉        | 17/88 [00:03<00:14,  4.86it/s]\u001b[A\n",
      " 20%|██        | 18/88 [00:04<00:14,  4.91it/s]\u001b[A\n",
      " 22%|██▏       | 19/88 [00:04<00:13,  4.97it/s]\u001b[A\n",
      " 23%|██▎       | 20/88 [00:04<00:14,  4.81it/s]\u001b[A\n",
      " 24%|██▍       | 21/88 [00:04<00:13,  4.83it/s]\u001b[A\n",
      " 25%|██▌       | 22/88 [00:04<00:13,  4.92it/s]\u001b[A\n",
      " 26%|██▌       | 23/88 [00:05<00:13,  4.87it/s]\u001b[A\n",
      " 27%|██▋       | 24/88 [00:05<00:12,  4.94it/s]\u001b[A\n",
      " 28%|██▊       | 25/88 [00:05<00:12,  4.97it/s]\u001b[A\n",
      " 30%|██▉       | 26/88 [00:05<00:12,  4.80it/s]\u001b[A\n",
      " 31%|███       | 27/88 [00:05<00:12,  4.93it/s]\u001b[A\n",
      " 32%|███▏      | 28/88 [00:06<00:12,  4.85it/s]\u001b[A\n",
      " 33%|███▎      | 29/88 [00:06<00:11,  5.05it/s]\u001b[A\n",
      " 34%|███▍      | 30/88 [00:06<00:11,  5.07it/s]\u001b[A\n",
      " 35%|███▌      | 31/88 [00:06<00:11,  4.95it/s]\u001b[A\n",
      " 36%|███▋      | 32/88 [00:06<00:11,  4.96it/s]\u001b[A\n",
      " 38%|███▊      | 33/88 [00:07<00:11,  4.85it/s]\u001b[A\n",
      " 39%|███▊      | 34/88 [00:07<00:11,  4.61it/s]\u001b[A\n",
      " 40%|███▉      | 35/88 [00:07<00:12,  4.33it/s]\u001b[A\n",
      " 41%|████      | 36/88 [00:07<00:12,  4.23it/s]\u001b[A\n",
      " 42%|████▏     | 37/88 [00:08<00:12,  4.01it/s]\u001b[A\n",
      " 43%|████▎     | 38/88 [00:08<00:12,  4.09it/s]\u001b[A\n",
      " 44%|████▍     | 39/88 [00:08<00:11,  4.26it/s]\u001b[A\n",
      " 45%|████▌     | 40/88 [00:08<00:10,  4.40it/s]\u001b[A\n",
      " 47%|████▋     | 41/88 [00:08<00:10,  4.67it/s]\u001b[A\n",
      " 48%|████▊     | 42/88 [00:09<00:10,  4.57it/s]\u001b[A\n",
      " 49%|████▉     | 43/88 [00:09<00:10,  4.33it/s]\u001b[A\n",
      " 50%|█████     | 44/88 [00:09<00:10,  4.05it/s]\u001b[A\n",
      " 51%|█████     | 45/88 [00:09<00:10,  4.21it/s]\u001b[A\n",
      " 52%|█████▏    | 46/88 [00:10<00:09,  4.36it/s]\u001b[A\n",
      " 53%|█████▎    | 47/88 [00:10<00:09,  4.50it/s]\u001b[A\n",
      " 55%|█████▍    | 48/88 [00:10<00:09,  4.18it/s]\u001b[A\n",
      " 56%|█████▌    | 49/88 [00:10<00:09,  4.31it/s]\u001b[A\n",
      " 57%|█████▋    | 50/88 [00:11<00:08,  4.60it/s]\u001b[A\n",
      " 58%|█████▊    | 51/88 [00:11<00:07,  4.75it/s]\u001b[A\n",
      " 59%|█████▉    | 52/88 [00:11<00:07,  4.88it/s]\u001b[A\n",
      " 60%|██████    | 53/88 [00:11<00:07,  4.83it/s]\u001b[A\n",
      " 61%|██████▏   | 54/88 [00:11<00:07,  4.79it/s]\u001b[A\n",
      " 62%|██████▎   | 55/88 [00:12<00:07,  4.64it/s]\u001b[A\n",
      " 64%|██████▎   | 56/88 [00:12<00:07,  4.38it/s]\u001b[A\n",
      " 65%|██████▍   | 57/88 [00:12<00:06,  4.67it/s]\u001b[A\n",
      " 66%|██████▌   | 58/88 [00:12<00:06,  4.90it/s]\u001b[A\n",
      " 67%|██████▋   | 59/88 [00:13<00:07,  3.79it/s]\u001b[A\n",
      " 68%|██████▊   | 60/88 [00:13<00:07,  3.53it/s]\u001b[A\n",
      " 69%|██████▉   | 61/88 [00:13<00:07,  3.38it/s]\u001b[A\n",
      " 70%|███████   | 62/88 [00:13<00:06,  3.82it/s]\u001b[A\n",
      " 72%|███████▏  | 63/88 [00:14<00:05,  4.20it/s]\u001b[A\n",
      " 73%|███████▎  | 64/88 [00:14<00:05,  4.23it/s]\u001b[A\n",
      " 74%|███████▍  | 65/88 [00:14<00:05,  4.25it/s]\u001b[A\n",
      " 75%|███████▌  | 66/88 [00:14<00:05,  4.00it/s]\u001b[A\n",
      " 76%|███████▌  | 67/88 [00:15<00:05,  4.07it/s]\u001b[A\n",
      " 77%|███████▋  | 68/88 [00:15<00:05,  3.68it/s]\u001b[A\n",
      " 78%|███████▊  | 69/88 [00:15<00:04,  3.84it/s]\u001b[A\n",
      " 80%|███████▉  | 70/88 [00:15<00:04,  3.76it/s]\u001b[A\n",
      " 81%|████████  | 71/88 [00:16<00:04,  3.88it/s]\u001b[A\n",
      " 82%|████████▏ | 72/88 [00:16<00:04,  3.90it/s]\u001b[A\n",
      " 83%|████████▎ | 73/88 [00:16<00:03,  3.89it/s]\u001b[A\n",
      " 84%|████████▍ | 74/88 [00:16<00:03,  4.04it/s]\u001b[A\n",
      " 85%|████████▌ | 75/88 [00:17<00:03,  4.07it/s]\u001b[A\n",
      " 86%|████████▋ | 76/88 [00:17<00:02,  4.05it/s]\u001b[A\n",
      " 88%|████████▊ | 77/88 [00:17<00:02,  4.20it/s]\u001b[A\n",
      " 89%|████████▊ | 78/88 [00:17<00:02,  4.17it/s]\u001b[A\n",
      " 90%|████████▉ | 79/88 [00:18<00:02,  4.28it/s]\u001b[A\n",
      " 91%|█████████ | 80/88 [00:18<00:01,  4.26it/s]\u001b[A\n",
      " 92%|█████████▏| 81/88 [00:18<00:01,  4.38it/s]\u001b[A\n",
      " 93%|█████████▎| 82/88 [00:18<00:01,  4.58it/s]\u001b[A\n",
      " 94%|█████████▍| 83/88 [00:18<00:01,  4.72it/s]\u001b[A\n",
      " 95%|█████████▌| 84/88 [00:19<00:00,  4.78it/s]\u001b[A\n",
      " 97%|█████████▋| 85/88 [00:19<00:00,  4.93it/s]\u001b[A\n",
      " 98%|█████████▊| 86/88 [00:19<00:00,  4.97it/s]\u001b[A\n",
      " 99%|█████████▉| 87/88 [00:19<00:00,  4.99it/s]\u001b[A\n",
      "100%|██████████| 88/88 [00:19<00:00,  4.97it/s]\u001b[A\n",
      " 25%|██▌       | 5/20 [01:35<04:47, 19.16s/it]\n",
      "  0%|          | 0/88 [00:00<?, ?it/s]\u001b[A\n",
      "  1%|          | 1/88 [00:00<00:18,  4.78it/s]\u001b[A\n",
      "  2%|▏         | 2/88 [00:00<00:17,  4.90it/s]\u001b[A\n",
      "  3%|▎         | 3/88 [00:00<00:17,  4.91it/s]\u001b[A\n",
      "  5%|▍         | 4/88 [00:00<00:18,  4.48it/s]\u001b[A\n",
      "  6%|▌         | 5/88 [00:01<00:18,  4.59it/s]\u001b[A\n",
      "  7%|▋         | 6/88 [00:01<00:17,  4.71it/s]\u001b[A\n",
      "  8%|▊         | 7/88 [00:01<00:16,  4.79it/s]\u001b[A\n",
      "  9%|▉         | 8/88 [00:01<00:16,  4.89it/s]\u001b[A\n",
      " 10%|█         | 9/88 [00:01<00:16,  4.75it/s]\u001b[A\n",
      " 11%|█▏        | 10/88 [00:02<00:17,  4.55it/s]\u001b[A\n",
      " 12%|█▎        | 11/88 [00:02<00:16,  4.57it/s]\u001b[A\n",
      " 14%|█▎        | 12/88 [00:02<00:16,  4.63it/s]\u001b[A\n",
      " 15%|█▍        | 13/88 [00:02<00:16,  4.67it/s]\u001b[A\n",
      " 16%|█▌        | 14/88 [00:02<00:15,  4.79it/s]\u001b[A\n",
      " 17%|█▋        | 15/88 [00:03<00:14,  4.91it/s]\u001b[A\n",
      " 18%|█▊        | 16/88 [00:03<00:14,  4.98it/s]\u001b[A\n",
      " 19%|█▉        | 17/88 [00:03<00:14,  4.97it/s]\u001b[A\n",
      " 20%|██        | 18/88 [00:03<00:14,  4.84it/s]\u001b[A\n",
      " 22%|██▏       | 19/88 [00:03<00:13,  4.96it/s]\u001b[A\n",
      " 23%|██▎       | 20/88 [00:04<00:13,  5.07it/s]\u001b[A\n",
      " 24%|██▍       | 21/88 [00:04<00:13,  5.13it/s]\u001b[A\n",
      " 25%|██▌       | 22/88 [00:04<00:12,  5.15it/s]\u001b[A\n",
      " 26%|██▌       | 23/88 [00:04<00:12,  5.06it/s]\u001b[A\n",
      " 27%|██▋       | 24/88 [00:04<00:12,  5.03it/s]\u001b[A\n",
      " 28%|██▊       | 25/88 [00:05<00:12,  5.06it/s]\u001b[A\n",
      " 30%|██▉       | 26/88 [00:05<00:12,  4.87it/s]\u001b[A\n",
      " 31%|███       | 27/88 [00:05<00:12,  4.90it/s]\u001b[A\n",
      " 32%|███▏      | 28/88 [00:05<00:13,  4.48it/s]\u001b[A\n",
      " 33%|███▎      | 29/88 [00:06<00:12,  4.55it/s]\u001b[A\n",
      " 34%|███▍      | 30/88 [00:06<00:12,  4.66it/s]\u001b[A\n",
      " 35%|███▌      | 31/88 [00:06<00:11,  4.77it/s]\u001b[A\n",
      " 36%|███▋      | 32/88 [00:06<00:11,  4.87it/s]\u001b[A\n",
      " 38%|███▊      | 33/88 [00:06<00:11,  4.95it/s]\u001b[A\n",
      " 39%|███▊      | 34/88 [00:07<00:10,  5.04it/s]\u001b[A\n",
      " 40%|███▉      | 35/88 [00:07<00:10,  5.09it/s]\u001b[A\n",
      " 41%|████      | 36/88 [00:07<00:10,  5.08it/s]\u001b[A\n",
      " 42%|████▏     | 37/88 [00:07<00:09,  5.12it/s]\u001b[A\n",
      " 43%|████▎     | 38/88 [00:07<00:10,  5.00it/s]\u001b[A\n",
      " 44%|████▍     | 39/88 [00:08<00:09,  4.95it/s]\u001b[A\n",
      " 45%|████▌     | 40/88 [00:08<00:09,  4.98it/s]\u001b[A\n",
      " 47%|████▋     | 41/88 [00:08<00:09,  4.97it/s]\u001b[A\n",
      " 48%|████▊     | 42/88 [00:08<00:09,  5.01it/s]\u001b[A\n",
      " 49%|████▉     | 43/88 [00:08<00:09,  4.98it/s]\u001b[A\n",
      " 50%|█████     | 44/88 [00:09<00:09,  4.80it/s]\u001b[A\n",
      " 51%|█████     | 45/88 [00:09<00:09,  4.76it/s]\u001b[A\n",
      " 52%|█████▏    | 46/88 [00:09<00:08,  4.82it/s]\u001b[A\n",
      " 53%|█████▎    | 47/88 [00:09<00:08,  4.85it/s]\u001b[A\n",
      " 55%|█████▍    | 48/88 [00:09<00:08,  4.96it/s]\u001b[A\n",
      " 56%|█████▌    | 49/88 [00:10<00:07,  4.97it/s]\u001b[A\n",
      " 57%|█████▋    | 50/88 [00:10<00:07,  5.03it/s]\u001b[A\n",
      " 58%|█████▊    | 51/88 [00:10<00:08,  4.59it/s]\u001b[A\n",
      " 59%|█████▉    | 52/88 [00:10<00:08,  4.42it/s]\u001b[A\n",
      " 60%|██████    | 53/88 [00:10<00:07,  4.63it/s]\u001b[A\n",
      " 61%|██████▏   | 54/88 [00:11<00:07,  4.72it/s]\u001b[A\n",
      " 62%|██████▎   | 55/88 [00:11<00:06,  4.83it/s]\u001b[A\n",
      " 64%|██████▎   | 56/88 [00:11<00:06,  4.82it/s]\u001b[A\n",
      " 65%|██████▍   | 57/88 [00:11<00:06,  4.81it/s]\u001b[A\n",
      " 66%|██████▌   | 58/88 [00:11<00:06,  4.88it/s]\u001b[A\n",
      " 67%|██████▋   | 59/88 [00:12<00:05,  4.96it/s]\u001b[A\n",
      " 68%|██████▊   | 60/88 [00:12<00:05,  4.83it/s]\u001b[A\n",
      " 69%|██████▉   | 61/88 [00:12<00:06,  4.39it/s]\u001b[A\n",
      " 70%|███████   | 62/88 [00:12<00:05,  4.43it/s]\u001b[A\n",
      " 72%|███████▏  | 63/88 [00:13<00:05,  4.46it/s]\u001b[A\n",
      " 73%|███████▎  | 64/88 [00:13<00:05,  4.18it/s]\u001b[A\n",
      " 74%|███████▍  | 65/88 [00:13<00:05,  4.31it/s]\u001b[A\n",
      " 75%|███████▌  | 66/88 [00:13<00:04,  4.42it/s]\u001b[A\n",
      " 76%|███████▌  | 67/88 [00:14<00:04,  4.56it/s]\u001b[A\n",
      " 77%|███████▋  | 68/88 [00:14<00:04,  4.44it/s]\u001b[A\n",
      " 78%|███████▊  | 69/88 [00:14<00:04,  4.46it/s]\u001b[A\n",
      " 80%|███████▉  | 70/88 [00:14<00:03,  4.60it/s]\u001b[A\n",
      " 81%|████████  | 71/88 [00:14<00:03,  4.70it/s]\u001b[A\n",
      " 82%|████████▏ | 72/88 [00:15<00:03,  4.30it/s]\u001b[A\n",
      " 83%|████████▎ | 73/88 [00:15<00:03,  4.48it/s]\u001b[A\n",
      " 84%|████████▍ | 74/88 [00:15<00:03,  4.65it/s]\u001b[A\n",
      " 85%|████████▌ | 75/88 [00:15<00:02,  4.66it/s]\u001b[A\n",
      " 86%|████████▋ | 76/88 [00:15<00:02,  4.79it/s]\u001b[A\n",
      " 88%|████████▊ | 77/88 [00:16<00:02,  4.82it/s]\u001b[A\n",
      " 89%|████████▊ | 78/88 [00:16<00:02,  4.87it/s]\u001b[A\n",
      " 90%|████████▉ | 79/88 [00:16<00:01,  4.93it/s]\u001b[A\n",
      " 91%|█████████ | 80/88 [00:16<00:01,  4.87it/s]\u001b[A\n",
      " 92%|█████████▏| 81/88 [00:16<00:01,  4.96it/s]\u001b[A\n",
      " 93%|█████████▎| 82/88 [00:17<00:01,  5.00it/s]\u001b[A\n",
      " 94%|█████████▍| 83/88 [00:17<00:00,  5.02it/s]\u001b[A\n",
      " 95%|█████████▌| 84/88 [00:17<00:00,  5.01it/s]\u001b[A\n",
      " 97%|█████████▋| 85/88 [00:17<00:00,  5.02it/s]\u001b[A\n",
      " 98%|█████████▊| 86/88 [00:17<00:00,  5.05it/s]\u001b[A\n",
      " 99%|█████████▉| 87/88 [00:18<00:00,  5.08it/s]\u001b[A\n",
      "100%|██████████| 88/88 [00:18<00:00,  4.99it/s]\u001b[A\n",
      " 30%|███       | 6/20 [01:54<04:24, 18.92s/it]\n",
      "  0%|          | 0/88 [00:00<?, ?it/s]\u001b[A\n",
      "  1%|          | 1/88 [00:00<00:19,  4.57it/s]\u001b[A\n",
      "  2%|▏         | 2/88 [00:00<00:19,  4.52it/s]\u001b[A\n",
      "  3%|▎         | 3/88 [00:00<00:19,  4.26it/s]\u001b[A\n",
      "  5%|▍         | 4/88 [00:00<00:19,  4.37it/s]\u001b[A\n",
      "  6%|▌         | 5/88 [00:01<00:18,  4.59it/s]\u001b[A\n",
      "  7%|▋         | 6/88 [00:01<00:17,  4.70it/s]\u001b[A\n",
      "  8%|▊         | 7/88 [00:01<00:16,  4.83it/s]\u001b[A\n",
      "  9%|▉         | 8/88 [00:01<00:16,  4.87it/s]\u001b[A\n",
      " 10%|█         | 9/88 [00:01<00:16,  4.85it/s]\u001b[A\n",
      " 11%|█▏        | 10/88 [00:02<00:16,  4.70it/s]\u001b[A\n",
      " 12%|█▎        | 11/88 [00:02<00:16,  4.77it/s]\u001b[A\n",
      " 14%|█▎        | 12/88 [00:02<00:15,  4.92it/s]\u001b[A\n",
      " 15%|█▍        | 13/88 [00:02<00:15,  4.82it/s]\u001b[A\n",
      " 16%|█▌        | 14/88 [00:02<00:15,  4.91it/s]\u001b[A\n",
      " 17%|█▋        | 15/88 [00:03<00:15,  4.83it/s]\u001b[A\n",
      " 18%|█▊        | 16/88 [00:03<00:14,  4.85it/s]\u001b[A\n",
      " 19%|█▉        | 17/88 [00:03<00:14,  4.95it/s]\u001b[A\n",
      " 20%|██        | 18/88 [00:03<00:13,  5.06it/s]\u001b[A\n",
      " 22%|██▏       | 19/88 [00:03<00:13,  4.97it/s]\u001b[A\n",
      " 23%|██▎       | 20/88 [00:04<00:13,  5.04it/s]\u001b[A\n",
      " 24%|██▍       | 21/88 [00:04<00:13,  4.89it/s]\u001b[A\n",
      " 25%|██▌       | 22/88 [00:04<00:13,  4.94it/s]\u001b[A\n",
      " 26%|██▌       | 23/88 [00:04<00:13,  4.84it/s]\u001b[A\n",
      " 27%|██▋       | 24/88 [00:04<00:13,  4.91it/s]\u001b[A\n",
      " 28%|██▊       | 25/88 [00:05<00:12,  4.92it/s]\u001b[A\n",
      " 30%|██▉       | 26/88 [00:05<00:12,  4.88it/s]\u001b[A\n",
      " 31%|███       | 27/88 [00:05<00:12,  4.96it/s]\u001b[A\n",
      " 32%|███▏      | 28/88 [00:05<00:12,  4.74it/s]\u001b[A\n",
      " 33%|███▎      | 29/88 [00:06<00:12,  4.84it/s]\u001b[A\n",
      " 34%|███▍      | 30/88 [00:06<00:11,  4.86it/s]\u001b[A\n",
      " 35%|███▌      | 31/88 [00:06<00:11,  4.79it/s]\u001b[A\n",
      " 36%|███▋      | 32/88 [00:06<00:11,  4.88it/s]\u001b[A\n",
      " 38%|███▊      | 33/88 [00:06<00:11,  4.85it/s]\u001b[A\n",
      " 39%|███▊      | 34/88 [00:07<00:11,  4.73it/s]\u001b[A\n",
      " 40%|███▉      | 35/88 [00:07<00:11,  4.80it/s]\u001b[A\n",
      " 41%|████      | 36/88 [00:07<00:10,  4.83it/s]\u001b[A\n",
      " 42%|████▏     | 37/88 [00:07<00:10,  4.93it/s]\u001b[A\n",
      " 43%|████▎     | 38/88 [00:07<00:10,  5.00it/s]\u001b[A\n",
      " 44%|████▍     | 39/88 [00:08<00:09,  4.97it/s]\u001b[A\n",
      " 45%|████▌     | 40/88 [00:08<00:09,  4.97it/s]\u001b[A\n",
      " 47%|████▋     | 41/88 [00:08<00:09,  4.98it/s]\u001b[A\n",
      " 48%|████▊     | 42/88 [00:08<00:09,  5.05it/s]\u001b[A\n",
      " 49%|████▉     | 43/88 [00:08<00:08,  5.09it/s]\u001b[A\n",
      " 50%|█████     | 44/88 [00:09<00:08,  5.11it/s]\u001b[A\n",
      " 51%|█████     | 45/88 [00:09<00:08,  5.05it/s]\u001b[A\n",
      " 52%|█████▏    | 46/88 [00:09<00:08,  4.99it/s]\u001b[A\n",
      " 53%|█████▎    | 47/88 [00:09<00:08,  5.04it/s]\u001b[A\n",
      " 55%|█████▍    | 48/88 [00:09<00:07,  5.00it/s]\u001b[A\n",
      " 56%|█████▌    | 49/88 [00:10<00:08,  4.75it/s]\u001b[A\n",
      " 57%|█████▋    | 50/88 [00:10<00:07,  4.87it/s]\u001b[A\n",
      " 58%|█████▊    | 51/88 [00:10<00:08,  4.41it/s]\u001b[A\n",
      " 59%|█████▉    | 52/88 [00:10<00:07,  4.55it/s]\u001b[A\n",
      " 60%|██████    | 53/88 [00:10<00:07,  4.63it/s]\u001b[A\n",
      " 61%|██████▏   | 54/88 [00:11<00:07,  4.78it/s]\u001b[A\n",
      " 62%|██████▎   | 55/88 [00:11<00:06,  4.85it/s]\u001b[A\n",
      " 64%|██████▎   | 56/88 [00:11<00:06,  4.89it/s]\u001b[A\n",
      " 65%|██████▍   | 57/88 [00:11<00:06,  4.99it/s]\u001b[A\n",
      " 66%|██████▌   | 58/88 [00:11<00:06,  4.88it/s]\u001b[A\n",
      " 67%|██████▋   | 59/88 [00:12<00:06,  4.73it/s]\u001b[A\n",
      " 68%|██████▊   | 60/88 [00:12<00:06,  4.58it/s]\u001b[A\n",
      " 69%|██████▉   | 61/88 [00:12<00:06,  4.50it/s]\u001b[A\n",
      " 70%|███████   | 62/88 [00:12<00:05,  4.66it/s]\u001b[A\n",
      " 72%|███████▏  | 63/88 [00:13<00:05,  4.74it/s]\u001b[A\n",
      " 73%|███████▎  | 64/88 [00:13<00:05,  4.67it/s]\u001b[A\n",
      " 74%|███████▍  | 65/88 [00:13<00:04,  4.77it/s]\u001b[A\n",
      " 75%|███████▌  | 66/88 [00:13<00:04,  4.74it/s]\u001b[A\n",
      " 76%|███████▌  | 67/88 [00:13<00:04,  4.36it/s]\u001b[A\n",
      " 77%|███████▋  | 68/88 [00:14<00:04,  4.45it/s]\u001b[A\n",
      " 78%|███████▊  | 69/88 [00:14<00:04,  4.08it/s]\u001b[A\n",
      " 80%|███████▉  | 70/88 [00:14<00:05,  3.56it/s]\u001b[A\n",
      " 81%|████████  | 71/88 [00:15<00:04,  3.65it/s]\u001b[A\n",
      " 82%|████████▏ | 72/88 [00:15<00:04,  3.73it/s]\u001b[A\n",
      " 83%|████████▎ | 73/88 [00:15<00:03,  3.83it/s]\u001b[A\n",
      " 84%|████████▍ | 74/88 [00:15<00:03,  3.93it/s]\u001b[A\n",
      " 85%|████████▌ | 75/88 [00:16<00:03,  3.89it/s]\u001b[A\n",
      " 86%|████████▋ | 76/88 [00:16<00:02,  4.15it/s]\u001b[A\n",
      " 88%|████████▊ | 77/88 [00:16<00:02,  4.27it/s]\u001b[A\n",
      " 89%|████████▊ | 78/88 [00:16<00:02,  4.11it/s]\u001b[A\n",
      " 90%|████████▉ | 79/88 [00:17<00:02,  4.08it/s]\u001b[A\n",
      " 91%|█████████ | 80/88 [00:17<00:01,  4.11it/s]\u001b[A\n",
      " 92%|█████████▏| 81/88 [00:17<00:01,  4.32it/s]\u001b[A\n",
      " 93%|█████████▎| 82/88 [00:17<00:01,  4.66it/s]\u001b[A\n",
      " 94%|█████████▍| 83/88 [00:17<00:01,  4.87it/s]\u001b[A\n",
      " 95%|█████████▌| 84/88 [00:18<00:00,  5.01it/s]\u001b[A\n",
      " 97%|█████████▋| 85/88 [00:18<00:00,  5.19it/s]\u001b[A\n",
      " 98%|█████████▊| 86/88 [00:18<00:00,  4.91it/s]\u001b[A\n",
      " 99%|█████████▉| 87/88 [00:18<00:00,  4.99it/s]\u001b[A\n",
      "100%|██████████| 88/88 [00:18<00:00,  5.16it/s]\u001b[A\n",
      " 35%|███▌      | 7/20 [02:13<04:05, 18.88s/it]\n",
      "  0%|          | 0/88 [00:00<?, ?it/s]\u001b[A\n",
      "  1%|          | 1/88 [00:00<00:20,  4.34it/s]\u001b[A\n",
      "  2%|▏         | 2/88 [00:00<00:18,  4.66it/s]\u001b[A\n",
      "  3%|▎         | 3/88 [00:00<00:17,  4.89it/s]\u001b[A\n",
      "  5%|▍         | 4/88 [00:00<00:16,  5.04it/s]\u001b[A\n",
      "  6%|▌         | 5/88 [00:00<00:15,  5.26it/s]\u001b[A\n",
      "  7%|▋         | 6/88 [00:01<00:15,  5.42it/s]\u001b[A\n",
      "  8%|▊         | 7/88 [00:01<00:14,  5.49it/s]\u001b[A\n",
      "  9%|▉         | 8/88 [00:01<00:14,  5.42it/s]\u001b[A\n",
      " 10%|█         | 9/88 [00:01<00:14,  5.41it/s]\u001b[A\n",
      " 11%|█▏        | 10/88 [00:01<00:14,  5.27it/s]\u001b[A\n",
      " 12%|█▎        | 11/88 [00:02<00:14,  5.28it/s]\u001b[A\n",
      " 14%|█▎        | 12/88 [00:02<00:14,  5.11it/s]\u001b[A\n",
      " 15%|█▍        | 13/88 [00:02<00:15,  4.73it/s]\u001b[A\n",
      " 16%|█▌        | 14/88 [00:02<00:15,  4.90it/s]\u001b[A\n",
      " 17%|█▋        | 15/88 [00:02<00:14,  5.00it/s]\u001b[A\n",
      " 18%|█▊        | 16/88 [00:03<00:14,  4.89it/s]\u001b[A\n",
      " 19%|█▉        | 17/88 [00:03<00:15,  4.62it/s]\u001b[A\n",
      " 20%|██        | 18/88 [00:03<00:15,  4.65it/s]\u001b[A\n",
      " 22%|██▏       | 19/88 [00:03<00:14,  4.67it/s]\u001b[A\n",
      " 23%|██▎       | 20/88 [00:03<00:14,  4.82it/s]\u001b[A\n",
      " 24%|██▍       | 21/88 [00:04<00:13,  5.01it/s]\u001b[A\n",
      " 25%|██▌       | 22/88 [00:04<00:12,  5.18it/s]\u001b[A\n",
      " 26%|██▌       | 23/88 [00:04<00:12,  5.22it/s]\u001b[A\n",
      " 27%|██▋       | 24/88 [00:04<00:12,  4.98it/s]\u001b[A\n",
      " 28%|██▊       | 25/88 [00:04<00:12,  5.18it/s]\u001b[A\n",
      " 30%|██▉       | 26/88 [00:05<00:11,  5.24it/s]\u001b[A\n",
      " 31%|███       | 27/88 [00:05<00:12,  5.07it/s]\u001b[A\n",
      " 32%|███▏      | 28/88 [00:05<00:11,  5.16it/s]\u001b[A\n",
      " 33%|███▎      | 29/88 [00:05<00:11,  4.98it/s]\u001b[A\n",
      " 34%|███▍      | 30/88 [00:05<00:11,  4.91it/s]\u001b[A\n",
      " 35%|███▌      | 31/88 [00:06<00:11,  4.87it/s]\u001b[A\n",
      " 36%|███▋      | 32/88 [00:06<00:11,  4.88it/s]\u001b[A\n",
      " 38%|███▊      | 33/88 [00:06<00:11,  4.92it/s]\u001b[A\n",
      " 39%|███▊      | 34/88 [00:06<00:11,  4.55it/s]\u001b[A\n",
      " 40%|███▉      | 35/88 [00:07<00:12,  4.41it/s]\u001b[A\n",
      " 41%|████      | 36/88 [00:07<00:11,  4.41it/s]\u001b[A\n",
      " 42%|████▏     | 37/88 [00:07<00:11,  4.43it/s]\u001b[A\n",
      " 43%|████▎     | 38/88 [00:07<00:11,  4.36it/s]\u001b[A\n",
      " 44%|████▍     | 39/88 [00:07<00:10,  4.67it/s]\u001b[A\n",
      " 45%|████▌     | 40/88 [00:08<00:09,  4.85it/s]\u001b[A\n",
      " 47%|████▋     | 41/88 [00:08<00:09,  4.73it/s]\u001b[A\n",
      " 48%|████▊     | 42/88 [00:08<00:09,  4.66it/s]\u001b[A\n",
      " 49%|████▉     | 43/88 [00:08<00:09,  4.76it/s]\u001b[A\n",
      " 50%|█████     | 44/88 [00:08<00:09,  4.79it/s]\u001b[A\n",
      " 51%|█████     | 45/88 [00:09<00:08,  4.96it/s]\u001b[A\n",
      " 52%|█████▏    | 46/88 [00:09<00:08,  5.02it/s]\u001b[A\n",
      " 53%|█████▎    | 47/88 [00:09<00:08,  4.92it/s]\u001b[A\n",
      " 55%|█████▍    | 48/88 [00:09<00:07,  5.04it/s]\u001b[A\n",
      " 56%|█████▌    | 49/88 [00:09<00:07,  5.28it/s]\u001b[A\n",
      " 57%|█████▋    | 50/88 [00:10<00:07,  5.43it/s]\u001b[A\n",
      " 58%|█████▊    | 51/88 [00:10<00:07,  5.28it/s]\u001b[A\n",
      " 59%|█████▉    | 52/88 [00:10<00:06,  5.26it/s]\u001b[A\n",
      " 60%|██████    | 53/88 [00:10<00:06,  5.32it/s]\u001b[A\n",
      " 61%|██████▏   | 54/88 [00:10<00:06,  5.43it/s]\u001b[A\n",
      " 62%|██████▎   | 55/88 [00:10<00:06,  5.45it/s]\u001b[A\n",
      " 64%|██████▎   | 56/88 [00:11<00:06,  5.09it/s]\u001b[A\n",
      " 65%|██████▍   | 57/88 [00:11<00:06,  5.14it/s]\u001b[A\n",
      " 66%|██████▌   | 58/88 [00:11<00:05,  5.23it/s]\u001b[A\n",
      " 67%|██████▋   | 59/88 [00:11<00:05,  5.10it/s]\u001b[A\n",
      " 68%|██████▊   | 60/88 [00:11<00:05,  5.25it/s]\u001b[A\n",
      " 69%|██████▉   | 61/88 [00:12<00:05,  5.24it/s]\u001b[A\n",
      " 70%|███████   | 62/88 [00:12<00:05,  5.07it/s]\u001b[A\n",
      " 72%|███████▏  | 63/88 [00:12<00:05,  4.87it/s]\u001b[A\n",
      " 73%|███████▎  | 64/88 [00:12<00:04,  5.03it/s]\u001b[A\n",
      " 74%|███████▍  | 65/88 [00:12<00:04,  5.20it/s]\u001b[A\n",
      " 75%|███████▌  | 66/88 [00:13<00:04,  5.28it/s]\u001b[A\n",
      " 76%|███████▌  | 67/88 [00:13<00:03,  5.37it/s]\u001b[A\n",
      " 77%|███████▋  | 68/88 [00:13<00:03,  5.46it/s]\u001b[A\n",
      " 78%|███████▊  | 69/88 [00:13<00:03,  5.40it/s]\u001b[A\n",
      " 80%|███████▉  | 70/88 [00:13<00:03,  5.12it/s]\u001b[A\n",
      " 81%|████████  | 71/88 [00:14<00:03,  5.22it/s]\u001b[A\n",
      " 82%|████████▏ | 72/88 [00:14<00:03,  5.31it/s]\u001b[A\n",
      " 83%|████████▎ | 73/88 [00:14<00:02,  5.26it/s]\u001b[A\n",
      " 84%|████████▍ | 74/88 [00:14<00:02,  5.09it/s]\u001b[A\n",
      " 85%|████████▌ | 75/88 [00:14<00:02,  5.20it/s]\u001b[A\n",
      " 86%|████████▋ | 76/88 [00:15<00:02,  5.36it/s]\u001b[A\n",
      " 88%|████████▊ | 77/88 [00:15<00:02,  5.46it/s]\u001b[A\n",
      " 89%|████████▊ | 78/88 [00:15<00:01,  5.09it/s]\u001b[A\n",
      " 90%|████████▉ | 79/88 [00:15<00:01,  5.18it/s]\u001b[A\n",
      " 91%|█████████ | 80/88 [00:15<00:01,  5.29it/s]\u001b[A\n",
      " 92%|█████████▏| 81/88 [00:15<00:01,  5.37it/s]\u001b[A\n",
      " 93%|█████████▎| 82/88 [00:16<00:01,  5.58it/s]\u001b[A\n",
      " 94%|█████████▍| 83/88 [00:16<00:00,  6.15it/s]\u001b[A\n",
      " 95%|█████████▌| 84/88 [00:16<00:00,  6.09it/s]\u001b[A\n",
      " 97%|█████████▋| 85/88 [00:16<00:00,  5.81it/s]\u001b[A\n",
      " 98%|█████████▊| 86/88 [00:16<00:00,  5.64it/s]\u001b[A\n",
      " 99%|█████████▉| 87/88 [00:17<00:00,  5.53it/s]\u001b[A\n",
      "100%|██████████| 88/88 [00:17<00:00,  5.35it/s]\u001b[A\n",
      " 40%|████      | 8/20 [02:30<03:40, 18.38s/it]\n",
      "  0%|          | 0/88 [00:00<?, ?it/s]\u001b[A\n",
      "  1%|          | 1/88 [00:00<00:16,  5.26it/s]\u001b[A\n",
      "  2%|▏         | 2/88 [00:00<00:16,  5.25it/s]\u001b[A\n",
      "  3%|▎         | 3/88 [00:00<00:16,  5.08it/s]\u001b[A\n",
      "  5%|▍         | 4/88 [00:00<00:16,  5.02it/s]\u001b[A\n",
      "  6%|▌         | 5/88 [00:00<00:16,  5.02it/s]\u001b[A\n",
      "  7%|▋         | 6/88 [00:01<00:16,  4.96it/s]\u001b[A\n",
      "  8%|▊         | 7/88 [00:01<00:15,  5.14it/s]\u001b[A\n",
      "  9%|▉         | 8/88 [00:01<00:15,  5.19it/s]\u001b[A\n",
      " 10%|█         | 9/88 [00:01<00:14,  5.32it/s]\u001b[A\n",
      " 11%|█▏        | 10/88 [00:01<00:14,  5.41it/s]\u001b[A\n",
      " 12%|█▎        | 11/88 [00:02<00:15,  4.84it/s]\u001b[A\n",
      " 14%|█▎        | 12/88 [00:02<00:15,  4.84it/s]\u001b[A\n",
      " 15%|█▍        | 13/88 [00:02<00:14,  5.02it/s]\u001b[A\n",
      " 16%|█▌        | 14/88 [00:02<00:14,  5.21it/s]\u001b[A\n",
      " 17%|█▋        | 15/88 [00:02<00:13,  5.35it/s]\u001b[A\n",
      " 18%|█▊        | 16/88 [00:03<00:13,  5.23it/s]\u001b[A\n",
      " 19%|█▉        | 17/88 [00:03<00:14,  4.94it/s]\u001b[A\n",
      " 20%|██        | 18/88 [00:03<00:14,  4.99it/s]\u001b[A\n",
      " 22%|██▏       | 19/88 [00:03<00:13,  5.14it/s]\u001b[A\n",
      " 23%|██▎       | 20/88 [00:03<00:14,  4.67it/s]\u001b[A\n",
      " 24%|██▍       | 21/88 [00:04<00:13,  4.79it/s]\u001b[A\n",
      " 25%|██▌       | 22/88 [00:04<00:14,  4.68it/s]\u001b[A\n",
      " 26%|██▌       | 23/88 [00:04<00:13,  4.86it/s]\u001b[A\n",
      " 27%|██▋       | 24/88 [00:04<00:13,  4.77it/s]\u001b[A\n",
      " 28%|██▊       | 25/88 [00:05<00:13,  4.76it/s]\u001b[A\n",
      " 30%|██▉       | 26/88 [00:05<00:12,  4.89it/s]\u001b[A\n",
      " 31%|███       | 27/88 [00:05<00:12,  4.79it/s]\u001b[A\n",
      " 32%|███▏      | 28/88 [00:05<00:12,  5.00it/s]\u001b[A\n",
      " 33%|███▎      | 29/88 [00:05<00:11,  5.08it/s]\u001b[A\n",
      " 34%|███▍      | 30/88 [00:05<00:11,  5.21it/s]\u001b[A\n",
      " 35%|███▌      | 31/88 [00:06<00:10,  5.30it/s]\u001b[A\n",
      " 36%|███▋      | 32/88 [00:06<00:11,  5.05it/s]\u001b[A\n",
      " 38%|███▊      | 33/88 [00:06<00:11,  4.91it/s]\u001b[A\n",
      " 39%|███▊      | 34/88 [00:06<00:11,  4.69it/s]\u001b[A\n",
      " 40%|███▉      | 35/88 [00:07<00:13,  4.06it/s]\u001b[A\n",
      " 41%|████      | 36/88 [00:07<00:13,  4.00it/s]\u001b[A\n",
      " 42%|████▏     | 37/88 [00:07<00:12,  4.14it/s]\u001b[A\n",
      " 43%|████▎     | 38/88 [00:07<00:11,  4.40it/s]\u001b[A\n",
      " 44%|████▍     | 39/88 [00:08<00:10,  4.67it/s]\u001b[A\n",
      " 45%|████▌     | 40/88 [00:08<00:09,  4.92it/s]\u001b[A\n",
      " 47%|████▋     | 41/88 [00:08<00:09,  4.89it/s]\u001b[A\n",
      " 48%|████▊     | 42/88 [00:08<00:09,  4.97it/s]\u001b[A\n",
      " 49%|████▉     | 43/88 [00:08<00:09,  4.94it/s]\u001b[A\n",
      " 50%|█████     | 44/88 [00:09<00:08,  4.90it/s]\u001b[A\n",
      " 51%|█████     | 45/88 [00:09<00:08,  4.79it/s]\u001b[A\n",
      " 52%|█████▏    | 46/88 [00:09<00:09,  4.64it/s]\u001b[A\n",
      " 53%|█████▎    | 47/88 [00:09<00:08,  4.75it/s]\u001b[A\n",
      " 55%|█████▍    | 48/88 [00:09<00:08,  4.85it/s]\u001b[A\n",
      " 56%|█████▌    | 49/88 [00:10<00:08,  4.83it/s]\u001b[A\n",
      " 57%|█████▋    | 50/88 [00:10<00:07,  5.05it/s]\u001b[A\n",
      " 58%|█████▊    | 51/88 [00:10<00:07,  4.83it/s]\u001b[A\n",
      " 59%|█████▉    | 52/88 [00:10<00:07,  4.83it/s]\u001b[A\n",
      " 60%|██████    | 53/88 [00:10<00:07,  4.96it/s]\u001b[A\n",
      " 61%|██████▏   | 54/88 [00:11<00:06,  5.10it/s]\u001b[A\n",
      " 62%|██████▎   | 55/88 [00:11<00:06,  5.01it/s]\u001b[A\n",
      " 64%|██████▎   | 56/88 [00:11<00:06,  4.85it/s]\u001b[A\n",
      " 65%|██████▍   | 57/88 [00:11<00:06,  5.10it/s]\u001b[A\n",
      " 66%|██████▌   | 58/88 [00:11<00:05,  5.20it/s]\u001b[A\n",
      " 67%|██████▋   | 59/88 [00:12<00:05,  4.84it/s]\u001b[A\n",
      " 68%|██████▊   | 60/88 [00:12<00:05,  4.74it/s]\u001b[A\n",
      " 69%|██████▉   | 61/88 [00:12<00:05,  4.59it/s]\u001b[A\n",
      " 70%|███████   | 62/88 [00:12<00:05,  4.70it/s]\u001b[A\n",
      " 72%|███████▏  | 63/88 [00:12<00:05,  4.78it/s]\u001b[A\n",
      " 73%|███████▎  | 64/88 [00:13<00:05,  4.49it/s]\u001b[A\n",
      " 74%|███████▍  | 65/88 [00:13<00:05,  4.20it/s]\u001b[A\n",
      " 75%|███████▌  | 66/88 [00:13<00:05,  3.99it/s]\u001b[A\n",
      " 76%|███████▌  | 67/88 [00:14<00:05,  3.90it/s]\u001b[A\n",
      " 77%|███████▋  | 68/88 [00:14<00:04,  4.15it/s]\u001b[A\n",
      " 78%|███████▊  | 69/88 [00:14<00:04,  4.41it/s]\u001b[A\n",
      " 80%|███████▉  | 70/88 [00:14<00:04,  4.39it/s]\u001b[A\n",
      " 81%|████████  | 71/88 [00:14<00:03,  4.33it/s]\u001b[A\n",
      " 82%|████████▏ | 72/88 [00:15<00:03,  4.30it/s]\u001b[A\n",
      " 83%|████████▎ | 73/88 [00:15<00:03,  4.27it/s]\u001b[A\n",
      " 84%|████████▍ | 74/88 [00:15<00:03,  4.47it/s]\u001b[A\n",
      " 85%|████████▌ | 75/88 [00:15<00:02,  4.40it/s]\u001b[A\n",
      " 86%|████████▋ | 76/88 [00:15<00:02,  4.55it/s]\u001b[A\n",
      " 88%|████████▊ | 77/88 [00:16<00:02,  4.78it/s]\u001b[A\n",
      " 89%|████████▊ | 78/88 [00:16<00:02,  4.74it/s]\u001b[A\n",
      " 90%|████████▉ | 79/88 [00:16<00:02,  4.39it/s]\u001b[A\n",
      " 91%|█████████ | 80/88 [00:16<00:01,  4.36it/s]\u001b[A\n",
      " 92%|█████████▏| 81/88 [00:17<00:01,  4.29it/s]\u001b[A\n",
      " 93%|█████████▎| 82/88 [00:17<00:01,  4.25it/s]\u001b[A\n",
      " 94%|█████████▍| 83/88 [00:17<00:01,  4.53it/s]\u001b[A\n",
      " 95%|█████████▌| 84/88 [00:17<00:00,  4.47it/s]\u001b[A\n",
      " 97%|█████████▋| 85/88 [00:18<00:00,  4.52it/s]\u001b[A\n",
      " 98%|█████████▊| 86/88 [00:18<00:00,  4.73it/s]\u001b[A\n",
      " 99%|█████████▉| 87/88 [00:18<00:00,  4.81it/s]\u001b[A\n",
      "100%|██████████| 88/88 [00:18<00:00,  4.71it/s]\u001b[A\n",
      " 45%|████▌     | 9/20 [02:48<03:22, 18.45s/it]\n",
      "  0%|          | 0/88 [00:00<?, ?it/s]\u001b[A\n",
      "  1%|          | 1/88 [00:00<00:15,  5.64it/s]\u001b[A\n",
      "  2%|▏         | 2/88 [00:00<00:16,  5.24it/s]\u001b[A\n",
      "  3%|▎         | 3/88 [00:00<00:15,  5.34it/s]\u001b[A\n",
      "  5%|▍         | 4/88 [00:00<00:15,  5.39it/s]\u001b[A\n",
      "  6%|▌         | 5/88 [00:00<00:16,  5.00it/s]\u001b[A\n",
      "  7%|▋         | 6/88 [00:01<00:17,  4.77it/s]\u001b[A\n",
      "  8%|▊         | 7/88 [00:01<00:16,  4.93it/s]\u001b[A\n",
      "  9%|▉         | 8/88 [00:01<00:15,  5.12it/s]\u001b[A\n",
      " 10%|█         | 9/88 [00:01<00:16,  4.81it/s]\u001b[A\n",
      " 11%|█▏        | 10/88 [00:02<00:15,  5.00it/s]\u001b[A\n",
      " 12%|█▎        | 11/88 [00:02<00:14,  5.19it/s]\u001b[A\n",
      " 14%|█▎        | 12/88 [00:02<00:14,  5.16it/s]\u001b[A\n",
      " 15%|█▍        | 13/88 [00:02<00:16,  4.66it/s]\u001b[A\n",
      " 16%|█▌        | 14/88 [00:02<00:15,  4.89it/s]\u001b[A\n",
      " 17%|█▋        | 15/88 [00:03<00:14,  5.08it/s]\u001b[A\n",
      " 18%|█▊        | 16/88 [00:03<00:13,  5.20it/s]\u001b[A\n",
      " 19%|█▉        | 17/88 [00:03<00:13,  5.33it/s]\u001b[A\n",
      " 20%|██        | 18/88 [00:03<00:12,  5.39it/s]\u001b[A\n",
      " 22%|██▏       | 19/88 [00:03<00:12,  5.44it/s]\u001b[A\n",
      " 23%|██▎       | 20/88 [00:03<00:12,  5.46it/s]\u001b[A\n",
      " 24%|██▍       | 21/88 [00:04<00:12,  5.51it/s]\u001b[A\n",
      " 25%|██▌       | 22/88 [00:04<00:11,  5.58it/s]\u001b[A\n",
      " 26%|██▌       | 23/88 [00:04<00:11,  5.54it/s]\u001b[A\n",
      " 27%|██▋       | 24/88 [00:04<00:11,  5.47it/s]\u001b[A\n",
      " 28%|██▊       | 25/88 [00:04<00:11,  5.31it/s]\u001b[A\n",
      " 30%|██▉       | 26/88 [00:05<00:11,  5.41it/s]\u001b[A\n",
      " 31%|███       | 27/88 [00:05<00:11,  5.44it/s]\u001b[A\n",
      " 32%|███▏      | 28/88 [00:05<00:10,  5.49it/s]\u001b[A\n",
      " 33%|███▎      | 29/88 [00:05<00:10,  5.53it/s]\u001b[A\n",
      " 34%|███▍      | 30/88 [00:05<00:10,  5.50it/s]\u001b[A\n",
      " 35%|███▌      | 31/88 [00:05<00:10,  5.56it/s]\u001b[A\n",
      " 36%|███▋      | 32/88 [00:06<00:10,  5.58it/s]\u001b[A\n",
      " 38%|███▊      | 33/88 [00:06<00:09,  5.57it/s]\u001b[A\n",
      " 39%|███▊      | 34/88 [00:06<00:09,  5.57it/s]\u001b[A\n",
      " 40%|███▉      | 35/88 [00:06<00:09,  5.40it/s]\u001b[A\n",
      " 41%|████      | 36/88 [00:06<00:10,  5.16it/s]\u001b[A\n",
      " 42%|████▏     | 37/88 [00:07<00:09,  5.14it/s]\u001b[A\n",
      " 43%|████▎     | 38/88 [00:07<00:09,  5.21it/s]\u001b[A\n",
      " 44%|████▍     | 39/88 [00:07<00:09,  5.23it/s]\u001b[A\n",
      " 45%|████▌     | 40/88 [00:07<00:09,  5.19it/s]\u001b[A\n",
      " 47%|████▋     | 41/88 [00:07<00:08,  5.30it/s]\u001b[A\n",
      " 48%|████▊     | 42/88 [00:07<00:08,  5.41it/s]\u001b[A\n",
      " 49%|████▉     | 43/88 [00:08<00:08,  5.45it/s]\u001b[A\n",
      " 50%|█████     | 44/88 [00:08<00:08,  5.44it/s]\u001b[A\n",
      " 51%|█████     | 45/88 [00:08<00:07,  5.49it/s]\u001b[A\n",
      " 52%|█████▏    | 46/88 [00:08<00:07,  5.51it/s]\u001b[A\n",
      " 53%|█████▎    | 47/88 [00:08<00:07,  5.54it/s]\u001b[A\n",
      " 55%|█████▍    | 48/88 [00:09<00:07,  5.57it/s]\u001b[A\n",
      " 56%|█████▌    | 49/88 [00:09<00:07,  5.10it/s]\u001b[A\n",
      " 57%|█████▋    | 50/88 [00:09<00:07,  5.17it/s]\u001b[A\n",
      " 58%|█████▊    | 51/88 [00:09<00:07,  5.20it/s]\u001b[A\n",
      " 59%|█████▉    | 52/88 [00:09<00:07,  4.88it/s]\u001b[A\n",
      " 60%|██████    | 53/88 [00:10<00:06,  5.08it/s]\u001b[A\n",
      " 61%|██████▏   | 54/88 [00:10<00:06,  5.25it/s]\u001b[A\n",
      " 62%|██████▎   | 55/88 [00:10<00:06,  5.28it/s]\u001b[A\n",
      " 64%|██████▎   | 56/88 [00:10<00:06,  4.80it/s]\u001b[A\n",
      " 65%|██████▍   | 57/88 [00:10<00:06,  4.47it/s]\u001b[A\n",
      " 66%|██████▌   | 58/88 [00:11<00:06,  4.45it/s]\u001b[A\n",
      " 67%|██████▋   | 59/88 [00:11<00:06,  4.43it/s]\u001b[A\n",
      " 68%|██████▊   | 60/88 [00:11<00:06,  4.17it/s]\u001b[A\n",
      " 69%|██████▉   | 61/88 [00:11<00:06,  4.27it/s]\u001b[A\n",
      " 70%|███████   | 62/88 [00:12<00:05,  4.56it/s]\u001b[A\n",
      " 72%|███████▏  | 63/88 [00:12<00:05,  4.78it/s]\u001b[A\n",
      " 73%|███████▎  | 64/88 [00:12<00:04,  5.01it/s]\u001b[A\n",
      " 74%|███████▍  | 65/88 [00:12<00:04,  5.17it/s]\u001b[A\n",
      " 75%|███████▌  | 66/88 [00:12<00:04,  5.31it/s]\u001b[A\n",
      " 76%|███████▌  | 67/88 [00:13<00:04,  5.04it/s]\u001b[A\n",
      " 77%|███████▋  | 68/88 [00:13<00:04,  4.93it/s]\u001b[A\n",
      " 78%|███████▊  | 69/88 [00:13<00:03,  4.97it/s]\u001b[A\n",
      " 80%|███████▉  | 70/88 [00:13<00:03,  4.97it/s]\u001b[A\n",
      " 81%|████████  | 71/88 [00:13<00:03,  4.77it/s]\u001b[A\n",
      " 82%|████████▏ | 72/88 [00:14<00:03,  4.97it/s]\u001b[A\n",
      " 83%|████████▎ | 73/88 [00:14<00:02,  5.16it/s]\u001b[A\n",
      " 84%|████████▍ | 74/88 [00:14<00:02,  5.31it/s]\u001b[A\n",
      " 85%|████████▌ | 75/88 [00:14<00:02,  4.93it/s]\u001b[A\n",
      " 86%|████████▋ | 76/88 [00:14<00:02,  4.86it/s]\u001b[A\n",
      " 88%|████████▊ | 77/88 [00:15<00:02,  4.80it/s]\u001b[A\n",
      " 89%|████████▊ | 78/88 [00:15<00:02,  4.66it/s]\u001b[A\n",
      " 90%|████████▉ | 79/88 [00:15<00:01,  4.57it/s]\u001b[A\n",
      " 91%|█████████ | 80/88 [00:15<00:01,  4.62it/s]\u001b[A\n",
      " 92%|█████████▏| 81/88 [00:15<00:01,  4.71it/s]\u001b[A\n",
      " 93%|█████████▎| 82/88 [00:16<00:01,  4.27it/s]\u001b[A\n",
      " 94%|█████████▍| 83/88 [00:16<00:01,  3.97it/s]\u001b[A\n",
      " 95%|█████████▌| 84/88 [00:16<00:01,  3.94it/s]\u001b[A\n",
      " 97%|█████████▋| 85/88 [00:16<00:00,  4.28it/s]\u001b[A\n",
      " 98%|█████████▊| 86/88 [00:17<00:00,  4.59it/s]\u001b[A\n",
      " 99%|█████████▉| 87/88 [00:17<00:00,  4.73it/s]\u001b[A\n",
      "100%|██████████| 88/88 [00:17<00:00,  4.97it/s]\u001b[A\n",
      " 50%|█████     | 10/20 [03:06<03:01, 18.17s/it]\n",
      "  0%|          | 0/88 [00:00<?, ?it/s]\u001b[A\n",
      "  1%|          | 1/88 [00:00<00:15,  5.66it/s]\u001b[A\n",
      "  2%|▏         | 2/88 [00:00<00:15,  5.55it/s]\u001b[A\n",
      "  3%|▎         | 3/88 [00:00<00:15,  5.60it/s]\u001b[A\n",
      "  5%|▍         | 4/88 [00:00<00:14,  5.62it/s]\u001b[A\n",
      "  6%|▌         | 5/88 [00:00<00:14,  5.56it/s]\u001b[A\n",
      "  7%|▋         | 6/88 [00:01<00:15,  5.41it/s]\u001b[A\n",
      "  8%|▊         | 7/88 [00:01<00:15,  5.35it/s]\u001b[A\n",
      "  9%|▉         | 8/88 [00:01<00:14,  5.41it/s]\u001b[A\n",
      " 10%|█         | 9/88 [00:01<00:15,  5.14it/s]\u001b[A\n",
      " 11%|█▏        | 10/88 [00:01<00:16,  4.76it/s]\u001b[A\n",
      " 12%|█▎        | 11/88 [00:02<00:17,  4.43it/s]\u001b[A\n",
      " 14%|█▎        | 12/88 [00:02<00:18,  4.22it/s]\u001b[A\n",
      " 15%|█▍        | 13/88 [00:02<00:16,  4.42it/s]\u001b[A\n",
      " 16%|█▌        | 14/88 [00:02<00:15,  4.67it/s]\u001b[A\n",
      " 17%|█▋        | 15/88 [00:03<00:15,  4.85it/s]\u001b[A\n",
      " 18%|█▊        | 16/88 [00:03<00:14,  4.85it/s]\u001b[A\n",
      " 19%|█▉        | 17/88 [00:03<00:14,  5.06it/s]\u001b[A\n",
      " 20%|██        | 18/88 [00:03<00:14,  4.96it/s]\u001b[A\n",
      " 22%|██▏       | 19/88 [00:03<00:13,  5.13it/s]\u001b[A\n",
      " 23%|██▎       | 20/88 [00:04<00:13,  4.93it/s]\u001b[A\n",
      " 24%|██▍       | 21/88 [00:04<00:13,  4.85it/s]\u001b[A\n",
      " 25%|██▌       | 22/88 [00:04<00:14,  4.69it/s]\u001b[A\n",
      " 26%|██▌       | 23/88 [00:04<00:15,  4.28it/s]\u001b[A\n",
      " 27%|██▋       | 24/88 [00:05<00:15,  4.20it/s]\u001b[A\n",
      " 28%|██▊       | 25/88 [00:05<00:13,  4.51it/s]\u001b[A\n",
      " 30%|██▉       | 26/88 [00:05<00:13,  4.47it/s]\u001b[A\n",
      " 31%|███       | 27/88 [00:05<00:12,  4.69it/s]\u001b[A\n",
      " 32%|███▏      | 28/88 [00:05<00:12,  4.83it/s]\u001b[A\n",
      " 33%|███▎      | 29/88 [00:05<00:11,  4.94it/s]\u001b[A\n",
      " 34%|███▍      | 30/88 [00:06<00:12,  4.74it/s]\u001b[A\n",
      " 35%|███▌      | 31/88 [00:06<00:11,  4.92it/s]\u001b[A\n",
      " 36%|███▋      | 32/88 [00:06<00:10,  5.12it/s]\u001b[A\n",
      " 38%|███▊      | 33/88 [00:06<00:11,  4.87it/s]\u001b[A\n",
      " 39%|███▊      | 34/88 [00:07<00:11,  4.68it/s]\u001b[A\n",
      " 40%|███▉      | 35/88 [00:07<00:11,  4.69it/s]\u001b[A\n",
      " 41%|████      | 36/88 [00:07<00:10,  4.73it/s]\u001b[A\n",
      " 42%|████▏     | 37/88 [00:07<00:10,  4.65it/s]\u001b[A\n",
      " 43%|████▎     | 38/88 [00:07<00:10,  4.65it/s]\u001b[A\n",
      " 44%|████▍     | 39/88 [00:08<00:10,  4.88it/s]\u001b[A\n",
      " 45%|████▌     | 40/88 [00:08<00:10,  4.78it/s]\u001b[A\n",
      " 47%|████▋     | 41/88 [00:08<00:09,  4.89it/s]\u001b[A\n",
      " 48%|████▊     | 42/88 [00:08<00:09,  5.10it/s]\u001b[A\n",
      " 49%|████▉     | 43/88 [00:08<00:08,  5.18it/s]\u001b[A\n",
      " 50%|█████     | 44/88 [00:09<00:08,  5.25it/s]\u001b[A\n",
      " 51%|█████     | 45/88 [00:09<00:08,  5.35it/s]\u001b[A\n",
      " 52%|█████▏    | 46/88 [00:09<00:07,  5.47it/s]\u001b[A\n",
      " 53%|█████▎    | 47/88 [00:09<00:07,  5.52it/s]\u001b[A\n",
      " 55%|█████▍    | 48/88 [00:09<00:07,  5.56it/s]\u001b[A\n",
      " 56%|█████▌    | 49/88 [00:09<00:06,  5.61it/s]\u001b[A\n",
      " 57%|█████▋    | 50/88 [00:10<00:06,  5.62it/s]\u001b[A\n",
      " 58%|█████▊    | 51/88 [00:10<00:06,  5.58it/s]\u001b[A\n",
      " 59%|█████▉    | 52/88 [00:10<00:06,  5.36it/s]\u001b[A\n",
      " 60%|██████    | 53/88 [00:10<00:06,  5.44it/s]\u001b[A\n",
      " 61%|██████▏   | 54/88 [00:10<00:06,  5.39it/s]\u001b[A\n",
      " 62%|██████▎   | 55/88 [00:11<00:06,  5.21it/s]\u001b[A\n",
      " 64%|██████▎   | 56/88 [00:11<00:05,  5.35it/s]\u001b[A\n",
      " 65%|██████▍   | 57/88 [00:11<00:05,  5.42it/s]\u001b[A\n",
      " 66%|██████▌   | 58/88 [00:11<00:05,  5.08it/s]\u001b[A\n",
      " 67%|██████▋   | 59/88 [00:11<00:05,  5.01it/s]\u001b[A\n",
      " 68%|██████▊   | 60/88 [00:12<00:05,  5.21it/s]\u001b[A\n",
      " 69%|██████▉   | 61/88 [00:12<00:05,  5.29it/s]\u001b[A\n",
      " 70%|███████   | 62/88 [00:12<00:05,  5.13it/s]\u001b[A\n",
      " 72%|███████▏  | 63/88 [00:12<00:04,  5.20it/s]\u001b[A\n",
      " 73%|███████▎  | 64/88 [00:12<00:04,  4.82it/s]\u001b[A\n",
      " 74%|███████▍  | 65/88 [00:13<00:04,  5.01it/s]\u001b[A\n",
      " 75%|███████▌  | 66/88 [00:13<00:04,  4.87it/s]\u001b[A\n",
      " 76%|███████▌  | 67/88 [00:13<00:04,  5.04it/s]\u001b[A\n",
      " 77%|███████▋  | 68/88 [00:13<00:03,  5.18it/s]\u001b[A\n",
      " 78%|███████▊  | 69/88 [00:13<00:03,  5.28it/s]\u001b[A\n",
      " 80%|███████▉  | 70/88 [00:13<00:03,  5.09it/s]\u001b[A\n",
      " 81%|████████  | 71/88 [00:14<00:03,  4.74it/s]\u001b[A\n",
      " 82%|████████▏ | 72/88 [00:14<00:03,  4.77it/s]\u001b[A\n",
      " 83%|████████▎ | 73/88 [00:14<00:03,  4.51it/s]\u001b[A\n",
      " 84%|████████▍ | 74/88 [00:14<00:03,  4.36it/s]\u001b[A\n",
      " 85%|████████▌ | 75/88 [00:15<00:03,  4.22it/s]\u001b[A\n",
      " 86%|████████▋ | 76/88 [00:15<00:02,  4.36it/s]\u001b[A\n",
      " 88%|████████▊ | 77/88 [00:15<00:02,  4.65it/s]\u001b[A\n",
      " 89%|████████▊ | 78/88 [00:15<00:02,  4.90it/s]\u001b[A\n",
      " 90%|████████▉ | 79/88 [00:15<00:01,  4.97it/s]\u001b[A\n",
      " 91%|█████████ | 80/88 [00:16<00:01,  4.79it/s]\u001b[A\n",
      " 92%|█████████▏| 81/88 [00:16<00:01,  4.61it/s]\u001b[A\n",
      " 93%|█████████▎| 82/88 [00:16<00:01,  4.76it/s]\u001b[A\n",
      " 94%|█████████▍| 83/88 [00:16<00:01,  4.61it/s]\u001b[A\n",
      " 95%|█████████▌| 84/88 [00:17<00:00,  4.58it/s]\u001b[A\n",
      " 97%|█████████▋| 85/88 [00:17<00:00,  4.54it/s]\u001b[A\n",
      " 98%|█████████▊| 86/88 [00:17<00:00,  4.71it/s]\u001b[A\n",
      " 99%|█████████▉| 87/88 [00:17<00:00,  4.82it/s]\u001b[A\n",
      "100%|██████████| 88/88 [00:17<00:00,  4.79it/s]\u001b[A\n",
      " 55%|█████▌    | 11/20 [03:24<02:42, 18.09s/it]\n",
      "  0%|          | 0/88 [00:00<?, ?it/s]\u001b[A\n",
      "  1%|          | 1/88 [00:00<00:21,  4.07it/s]\u001b[A\n",
      "  2%|▏         | 2/88 [00:00<00:19,  4.37it/s]\u001b[A\n",
      "  3%|▎         | 3/88 [00:00<00:18,  4.52it/s]\u001b[A\n",
      "  5%|▍         | 4/88 [00:00<00:17,  4.82it/s]\u001b[A\n",
      "  6%|▌         | 5/88 [00:00<00:16,  5.05it/s]\u001b[A\n",
      "  7%|▋         | 6/88 [00:01<00:16,  5.06it/s]\u001b[A\n",
      "  8%|▊         | 7/88 [00:01<00:15,  5.07it/s]\u001b[A\n",
      "  9%|▉         | 8/88 [00:01<00:15,  5.26it/s]\u001b[A\n",
      " 10%|█         | 9/88 [00:01<00:14,  5.38it/s]\u001b[A\n",
      " 11%|█▏        | 10/88 [00:01<00:14,  5.44it/s]\u001b[A\n",
      " 12%|█▎        | 11/88 [00:02<00:14,  5.30it/s]\u001b[A\n",
      " 14%|█▎        | 12/88 [00:02<00:14,  5.24it/s]\u001b[A\n",
      " 15%|█▍        | 13/88 [00:02<00:14,  5.34it/s]\u001b[A\n",
      " 16%|█▌        | 14/88 [00:02<00:14,  5.17it/s]\u001b[A\n",
      " 17%|█▋        | 15/88 [00:02<00:14,  5.11it/s]\u001b[A\n",
      " 18%|█▊        | 16/88 [00:03<00:13,  5.20it/s]\u001b[A\n",
      " 19%|█▉        | 17/88 [00:03<00:13,  5.18it/s]\u001b[A\n",
      " 20%|██        | 18/88 [00:03<00:14,  4.81it/s]\u001b[A\n",
      " 22%|██▏       | 19/88 [00:03<00:13,  4.94it/s]\u001b[A\n",
      " 23%|██▎       | 20/88 [00:03<00:15,  4.40it/s]\u001b[A\n",
      " 24%|██▍       | 21/88 [00:04<00:15,  4.46it/s]\u001b[A\n",
      " 25%|██▌       | 22/88 [00:04<00:14,  4.65it/s]\u001b[A\n",
      " 26%|██▌       | 23/88 [00:04<00:14,  4.41it/s]\u001b[A\n",
      " 27%|██▋       | 24/88 [00:04<00:14,  4.37it/s]\u001b[A\n",
      " 28%|██▊       | 25/88 [00:05<00:13,  4.60it/s]\u001b[A\n",
      " 30%|██▉       | 26/88 [00:05<00:13,  4.51it/s]\u001b[A\n",
      " 31%|███       | 27/88 [00:05<00:12,  4.70it/s]\u001b[A\n",
      " 32%|███▏      | 28/88 [00:05<00:12,  4.96it/s]\u001b[A\n",
      " 33%|███▎      | 29/88 [00:05<00:11,  5.13it/s]\u001b[A\n",
      " 34%|███▍      | 30/88 [00:06<00:11,  5.24it/s]\u001b[A\n",
      " 35%|███▌      | 31/88 [00:06<00:11,  5.17it/s]\u001b[A\n",
      " 36%|███▋      | 32/88 [00:06<00:10,  5.26it/s]\u001b[A\n",
      " 38%|███▊      | 33/88 [00:06<00:11,  4.82it/s]\u001b[A\n",
      " 39%|███▊      | 34/88 [00:06<00:11,  4.57it/s]\u001b[A\n",
      " 40%|███▉      | 35/88 [00:07<00:11,  4.68it/s]\u001b[A\n",
      " 41%|████      | 36/88 [00:07<00:11,  4.57it/s]\u001b[A\n",
      " 42%|████▏     | 37/88 [00:07<00:11,  4.54it/s]\u001b[A\n",
      " 43%|████▎     | 38/88 [00:07<00:11,  4.46it/s]\u001b[A\n",
      " 44%|████▍     | 39/88 [00:08<00:11,  4.30it/s]\u001b[A\n",
      " 45%|████▌     | 40/88 [00:08<00:11,  4.14it/s]\u001b[A\n",
      " 47%|████▋     | 41/88 [00:08<00:11,  4.15it/s]\u001b[A\n",
      " 48%|████▊     | 42/88 [00:08<00:11,  4.15it/s]\u001b[A\n",
      " 49%|████▉     | 43/88 [00:09<00:10,  4.23it/s]\u001b[A\n",
      " 50%|█████     | 44/88 [00:09<00:10,  4.34it/s]\u001b[A\n",
      " 51%|█████     | 45/88 [00:09<00:10,  4.25it/s]\u001b[A\n",
      " 52%|█████▏    | 46/88 [00:09<00:09,  4.35it/s]\u001b[A\n",
      " 53%|█████▎    | 47/88 [00:09<00:09,  4.22it/s]\u001b[A\n",
      " 55%|█████▍    | 48/88 [00:10<00:09,  4.34it/s]\u001b[A\n",
      " 56%|█████▌    | 49/88 [00:10<00:08,  4.49it/s]\u001b[A\n",
      " 57%|█████▋    | 50/88 [00:10<00:09,  4.08it/s]\u001b[A\n",
      " 58%|█████▊    | 51/88 [00:10<00:09,  4.07it/s]\u001b[A\n",
      " 59%|█████▉    | 52/88 [00:11<00:08,  4.14it/s]\u001b[A\n",
      " 60%|██████    | 53/88 [00:11<00:07,  4.49it/s]\u001b[A\n",
      " 61%|██████▏   | 54/88 [00:11<00:07,  4.72it/s]\u001b[A\n",
      " 62%|██████▎   | 55/88 [00:11<00:06,  4.94it/s]\u001b[A\n",
      " 64%|██████▎   | 56/88 [00:11<00:06,  5.12it/s]\u001b[A\n",
      " 65%|██████▍   | 57/88 [00:12<00:06,  5.16it/s]\u001b[A\n",
      " 66%|██████▌   | 58/88 [00:12<00:06,  4.93it/s]\u001b[A\n",
      " 67%|██████▋   | 59/88 [00:12<00:06,  4.74it/s]\u001b[A\n",
      " 68%|██████▊   | 60/88 [00:12<00:05,  4.95it/s]\u001b[A\n",
      " 69%|██████▉   | 61/88 [00:12<00:05,  5.01it/s]\u001b[A\n",
      " 70%|███████   | 62/88 [00:13<00:05,  5.13it/s]\u001b[A\n",
      " 72%|███████▏  | 63/88 [00:13<00:04,  5.08it/s]\u001b[A\n",
      " 73%|███████▎  | 64/88 [00:13<00:04,  4.86it/s]\u001b[A\n",
      " 74%|███████▍  | 65/88 [00:13<00:04,  4.93it/s]\u001b[A\n",
      " 75%|███████▌  | 66/88 [00:13<00:04,  5.13it/s]\u001b[A\n",
      " 76%|███████▌  | 67/88 [00:14<00:03,  5.27it/s]\u001b[A\n",
      " 77%|███████▋  | 68/88 [00:14<00:04,  4.78it/s]\u001b[A\n",
      " 78%|███████▊  | 69/88 [00:14<00:04,  4.62it/s]\u001b[A\n",
      " 80%|███████▉  | 70/88 [00:14<00:03,  4.85it/s]\u001b[A\n",
      " 81%|████████  | 71/88 [00:14<00:03,  4.61it/s]\u001b[A\n",
      " 82%|████████▏ | 72/88 [00:15<00:03,  4.59it/s]\u001b[A\n",
      " 83%|████████▎ | 73/88 [00:15<00:03,  4.62it/s]\u001b[A\n",
      " 84%|████████▍ | 74/88 [00:15<00:03,  4.60it/s]\u001b[A\n",
      " 85%|████████▌ | 75/88 [00:15<00:02,  4.78it/s]\u001b[A\n",
      " 86%|████████▋ | 76/88 [00:16<00:02,  4.49it/s]\u001b[A\n",
      " 88%|████████▊ | 77/88 [00:16<00:02,  4.37it/s]\u001b[A\n",
      " 89%|████████▊ | 78/88 [00:16<00:02,  4.65it/s]\u001b[A\n",
      " 90%|████████▉ | 79/88 [00:16<00:02,  4.11it/s]\u001b[A\n",
      " 91%|█████████ | 80/88 [00:17<00:01,  4.11it/s]\u001b[A\n",
      " 92%|█████████▏| 81/88 [00:17<00:01,  4.04it/s]\u001b[A\n",
      " 93%|█████████▎| 82/88 [00:17<00:01,  3.99it/s]\u001b[A\n",
      " 94%|█████████▍| 83/88 [00:17<00:01,  4.24it/s]\u001b[A\n",
      " 95%|█████████▌| 84/88 [00:18<00:00,  4.07it/s]\u001b[A\n",
      " 97%|█████████▋| 85/88 [00:18<00:00,  4.19it/s]\u001b[A\n",
      " 98%|█████████▊| 86/88 [00:18<00:00,  4.21it/s]\u001b[A\n",
      " 99%|█████████▉| 87/88 [00:18<00:00,  3.94it/s]\u001b[A\n",
      "100%|██████████| 88/88 [00:19<00:00,  3.91it/s]\u001b[A\n",
      " 60%|██████    | 12/20 [03:43<02:27, 18.38s/it]\n",
      "  0%|          | 0/88 [00:00<?, ?it/s]\u001b[A\n",
      "  1%|          | 1/88 [00:00<00:19,  4.39it/s]\u001b[A\n",
      "  2%|▏         | 2/88 [00:00<00:20,  4.22it/s]\u001b[A\n",
      "  3%|▎         | 3/88 [00:00<00:19,  4.30it/s]\u001b[A\n",
      "  5%|▍         | 4/88 [00:00<00:20,  4.15it/s]\u001b[A\n",
      "  6%|▌         | 5/88 [00:01<00:20,  4.07it/s]\u001b[A\n",
      "  7%|▋         | 6/88 [00:01<00:21,  3.86it/s]\u001b[A\n",
      "  8%|▊         | 7/88 [00:01<00:21,  3.81it/s]\u001b[A\n",
      "  9%|▉         | 8/88 [00:02<00:21,  3.79it/s]\u001b[A\n",
      " 10%|█         | 9/88 [00:02<00:19,  4.01it/s]\u001b[A\n",
      " 11%|█▏        | 10/88 [00:02<00:17,  4.39it/s]\u001b[A\n",
      " 12%|█▎        | 11/88 [00:02<00:18,  4.25it/s]\u001b[A\n",
      " 14%|█▎        | 12/88 [00:02<00:18,  4.19it/s]\u001b[A\n",
      " 15%|█▍        | 13/88 [00:03<00:19,  3.81it/s]\u001b[A\n",
      " 16%|█▌        | 14/88 [00:03<00:19,  3.77it/s]\u001b[A\n",
      " 17%|█▋        | 15/88 [00:03<00:20,  3.50it/s]\u001b[A\n",
      " 18%|█▊        | 16/88 [00:04<00:20,  3.47it/s]\u001b[A\n",
      " 19%|█▉        | 17/88 [00:04<00:20,  3.42it/s]\u001b[A\n",
      " 20%|██        | 18/88 [00:04<00:21,  3.30it/s]\u001b[A\n",
      " 22%|██▏       | 19/88 [00:05<00:20,  3.34it/s]\u001b[A\n",
      " 23%|██▎       | 20/88 [00:05<00:20,  3.32it/s]\u001b[A\n",
      " 24%|██▍       | 21/88 [00:05<00:19,  3.47it/s]\u001b[A\n",
      " 25%|██▌       | 22/88 [00:05<00:18,  3.56it/s]\u001b[A\n",
      " 26%|██▌       | 23/88 [00:06<00:17,  3.73it/s]\u001b[A\n",
      " 27%|██▋       | 24/88 [00:06<00:17,  3.58it/s]\u001b[A\n",
      " 28%|██▊       | 25/88 [00:06<00:17,  3.55it/s]\u001b[A\n",
      " 30%|██▉       | 26/88 [00:07<00:17,  3.60it/s]\u001b[A\n",
      " 31%|███       | 27/88 [00:07<00:17,  3.55it/s]\u001b[A\n",
      " 32%|███▏      | 28/88 [00:07<00:16,  3.60it/s]\u001b[A\n",
      " 33%|███▎      | 29/88 [00:07<00:16,  3.55it/s]\u001b[A\n",
      " 34%|███▍      | 30/88 [00:08<00:16,  3.53it/s]\u001b[A\n",
      " 35%|███▌      | 31/88 [00:08<00:16,  3.37it/s]\u001b[A\n",
      " 36%|███▋      | 32/88 [00:08<00:16,  3.43it/s]\u001b[A\n",
      " 38%|███▊      | 33/88 [00:08<00:15,  3.66it/s]\u001b[A\n",
      " 39%|███▊      | 34/88 [00:09<00:14,  3.81it/s]\u001b[A\n",
      " 40%|███▉      | 35/88 [00:09<00:13,  4.05it/s]\u001b[A\n",
      " 41%|████      | 36/88 [00:09<00:12,  4.26it/s]\u001b[A\n",
      " 42%|████▏     | 37/88 [00:09<00:12,  4.13it/s]\u001b[A\n",
      " 43%|████▎     | 38/88 [00:10<00:11,  4.17it/s]\u001b[A\n",
      " 44%|████▍     | 39/88 [00:10<00:11,  4.39it/s]\u001b[A\n",
      " 45%|████▌     | 40/88 [00:10<00:10,  4.68it/s]\u001b[A\n",
      " 47%|████▋     | 41/88 [00:10<00:10,  4.45it/s]\u001b[A\n",
      " 48%|████▊     | 42/88 [00:11<00:10,  4.37it/s]\u001b[A\n",
      " 49%|████▉     | 43/88 [00:11<00:11,  4.08it/s]\u001b[A\n",
      " 50%|█████     | 44/88 [00:11<00:11,  3.86it/s]\u001b[A\n",
      " 51%|█████     | 45/88 [00:11<00:11,  3.76it/s]\u001b[A\n",
      " 52%|█████▏    | 46/88 [00:12<00:11,  3.81it/s]\u001b[A\n",
      " 53%|█████▎    | 47/88 [00:12<00:10,  3.82it/s]\u001b[A\n",
      " 55%|█████▍    | 48/88 [00:12<00:10,  3.85it/s]\u001b[A\n",
      " 56%|█████▌    | 49/88 [00:12<00:10,  3.76it/s]\u001b[A\n",
      " 57%|█████▋    | 50/88 [00:13<00:10,  3.73it/s]\u001b[A\n",
      " 58%|█████▊    | 51/88 [00:13<00:09,  3.79it/s]\u001b[A\n",
      " 59%|█████▉    | 52/88 [00:13<00:09,  3.86it/s]\u001b[A\n",
      " 60%|██████    | 53/88 [00:13<00:08,  3.95it/s]\u001b[A\n",
      " 61%|██████▏   | 54/88 [00:14<00:08,  4.05it/s]\u001b[A\n",
      " 62%|██████▎   | 55/88 [00:14<00:07,  4.13it/s]\u001b[A\n",
      " 64%|██████▎   | 56/88 [00:14<00:07,  4.22it/s]\u001b[A\n",
      " 65%|██████▍   | 57/88 [00:14<00:07,  4.25it/s]\u001b[A\n",
      " 66%|██████▌   | 58/88 [00:15<00:07,  4.24it/s]\u001b[A\n",
      " 67%|██████▋   | 59/88 [00:15<00:06,  4.29it/s]\u001b[A\n",
      " 68%|██████▊   | 60/88 [00:15<00:06,  4.29it/s]\u001b[A\n",
      " 69%|██████▉   | 61/88 [00:15<00:06,  4.35it/s]\u001b[A\n",
      " 70%|███████   | 62/88 [00:15<00:05,  4.67it/s]\u001b[A\n",
      " 72%|███████▏  | 63/88 [00:16<00:05,  4.90it/s]\u001b[A\n",
      " 73%|███████▎  | 64/88 [00:16<00:04,  5.07it/s]\u001b[A\n",
      " 74%|███████▍  | 65/88 [00:16<00:04,  5.20it/s]\u001b[A\n",
      " 75%|███████▌  | 66/88 [00:16<00:04,  5.06it/s]\u001b[A\n",
      " 76%|███████▌  | 67/88 [00:16<00:04,  4.78it/s]\u001b[A\n",
      " 77%|███████▋  | 68/88 [00:17<00:04,  4.85it/s]\u001b[A\n",
      " 78%|███████▊  | 69/88 [00:17<00:03,  4.97it/s]\u001b[A\n",
      " 80%|███████▉  | 70/88 [00:17<00:03,  5.11it/s]\u001b[A\n",
      " 81%|████████  | 71/88 [00:17<00:03,  5.22it/s]\u001b[A\n",
      " 82%|████████▏ | 72/88 [00:17<00:03,  5.26it/s]\u001b[A\n",
      " 83%|████████▎ | 73/88 [00:18<00:02,  5.27it/s]\u001b[A\n",
      " 84%|████████▍ | 74/88 [00:18<00:02,  5.27it/s]\u001b[A\n",
      " 85%|████████▌ | 75/88 [00:18<00:02,  5.36it/s]\u001b[A\n",
      " 86%|████████▋ | 76/88 [00:18<00:02,  5.41it/s]\u001b[A\n",
      " 88%|████████▊ | 77/88 [00:18<00:02,  5.46it/s]\u001b[A\n",
      " 89%|████████▊ | 78/88 [00:18<00:01,  5.47it/s]\u001b[A\n",
      " 90%|████████▉ | 79/88 [00:19<00:01,  5.48it/s]\u001b[A\n",
      " 91%|█████████ | 80/88 [00:19<00:01,  5.47it/s]\u001b[A\n",
      " 92%|█████████▏| 81/88 [00:19<00:01,  5.37it/s]\u001b[A\n",
      " 93%|█████████▎| 82/88 [00:19<00:01,  5.14it/s]\u001b[A\n",
      " 94%|█████████▍| 83/88 [00:19<00:00,  5.26it/s]\u001b[A\n",
      " 95%|█████████▌| 84/88 [00:20<00:00,  5.34it/s]\u001b[A\n",
      " 97%|█████████▋| 85/88 [00:20<00:00,  5.00it/s]\u001b[A\n",
      " 98%|█████████▊| 86/88 [00:20<00:00,  5.12it/s]\u001b[A\n",
      " 99%|█████████▉| 87/88 [00:20<00:00,  5.10it/s]\u001b[A\n",
      "100%|██████████| 88/88 [00:20<00:00,  4.69it/s]\u001b[A\n",
      " 65%|██████▌   | 13/20 [04:04<02:14, 19.16s/it]\n",
      "  0%|          | 0/88 [00:00<?, ?it/s]\u001b[A\n",
      "  1%|          | 1/88 [00:00<00:24,  3.49it/s]\u001b[A\n",
      "  2%|▏         | 2/88 [00:00<00:24,  3.57it/s]\u001b[A\n",
      "  3%|▎         | 3/88 [00:00<00:23,  3.61it/s]\u001b[A\n",
      "  5%|▍         | 4/88 [00:01<00:24,  3.50it/s]\u001b[A\n",
      "  6%|▌         | 5/88 [00:01<00:21,  3.87it/s]\u001b[A\n",
      "  7%|▋         | 6/88 [00:01<00:20,  4.08it/s]\u001b[A\n",
      "  8%|▊         | 7/88 [00:01<00:20,  3.94it/s]\u001b[A\n",
      "  9%|▉         | 8/88 [00:02<00:20,  3.84it/s]\u001b[A\n",
      " 10%|█         | 9/88 [00:02<00:20,  3.92it/s]\u001b[A\n",
      " 11%|█▏        | 10/88 [00:02<00:20,  3.77it/s]\u001b[A\n",
      " 12%|█▎        | 11/88 [00:02<00:20,  3.82it/s]\u001b[A\n",
      " 14%|█▎        | 12/88 [00:03<00:19,  3.82it/s]\u001b[A\n",
      " 15%|█▍        | 13/88 [00:03<00:19,  3.84it/s]\u001b[A\n",
      " 16%|█▌        | 14/88 [00:03<00:19,  3.83it/s]\u001b[A\n",
      " 17%|█▋        | 15/88 [00:03<00:19,  3.79it/s]\u001b[A\n",
      " 18%|█▊        | 16/88 [00:04<00:18,  3.89it/s]\u001b[A\n",
      " 19%|█▉        | 17/88 [00:04<00:17,  4.03it/s]\u001b[A\n",
      " 20%|██        | 18/88 [00:04<00:16,  4.32it/s]\u001b[A\n",
      " 22%|██▏       | 19/88 [00:04<00:15,  4.55it/s]\u001b[A\n",
      " 23%|██▎       | 20/88 [00:05<00:15,  4.48it/s]\u001b[A\n",
      " 24%|██▍       | 21/88 [00:05<00:14,  4.63it/s]\u001b[A\n",
      " 25%|██▌       | 22/88 [00:05<00:13,  4.87it/s]\u001b[A\n",
      " 26%|██▌       | 23/88 [00:05<00:13,  4.75it/s]\u001b[A\n",
      " 27%|██▋       | 24/88 [00:05<00:12,  4.98it/s]\u001b[A\n",
      " 28%|██▊       | 25/88 [00:05<00:12,  5.10it/s]\u001b[A\n",
      " 30%|██▉       | 26/88 [00:06<00:12,  5.01it/s]\u001b[A\n",
      " 31%|███       | 27/88 [00:06<00:13,  4.66it/s]\u001b[A\n",
      " 32%|███▏      | 28/88 [00:06<00:13,  4.53it/s]\u001b[A\n",
      " 33%|███▎      | 29/88 [00:06<00:13,  4.29it/s]\u001b[A\n",
      " 34%|███▍      | 30/88 [00:07<00:12,  4.54it/s]\u001b[A\n",
      " 35%|███▌      | 31/88 [00:07<00:12,  4.71it/s]\u001b[A\n",
      " 36%|███▋      | 32/88 [00:07<00:11,  4.95it/s]\u001b[A\n",
      " 38%|███▊      | 33/88 [00:07<00:10,  5.15it/s]\u001b[A\n",
      " 39%|███▊      | 34/88 [00:07<00:10,  5.16it/s]\u001b[A\n",
      " 40%|███▉      | 35/88 [00:08<00:11,  4.79it/s]\u001b[A\n",
      " 41%|████      | 36/88 [00:08<00:11,  4.61it/s]\u001b[A\n",
      " 42%|████▏     | 37/88 [00:08<00:11,  4.56it/s]\u001b[A\n",
      " 43%|████▎     | 38/88 [00:08<00:10,  4.81it/s]\u001b[A\n",
      " 44%|████▍     | 39/88 [00:08<00:09,  5.01it/s]\u001b[A\n",
      " 45%|████▌     | 40/88 [00:09<00:09,  4.96it/s]\u001b[A\n",
      " 47%|████▋     | 41/88 [00:09<00:09,  4.89it/s]\u001b[A\n",
      " 48%|████▊     | 42/88 [00:09<00:09,  5.11it/s]\u001b[A\n",
      " 49%|████▉     | 43/88 [00:09<00:08,  5.28it/s]\u001b[A\n",
      " 50%|█████     | 44/88 [00:09<00:08,  5.39it/s]\u001b[A\n",
      " 51%|█████     | 45/88 [00:10<00:07,  5.45it/s]\u001b[A\n",
      " 52%|█████▏    | 46/88 [00:10<00:07,  5.46it/s]\u001b[A\n",
      " 53%|█████▎    | 47/88 [00:10<00:07,  5.35it/s]\u001b[A\n",
      " 55%|█████▍    | 48/88 [00:10<00:07,  5.38it/s]\u001b[A\n",
      " 56%|█████▌    | 49/88 [00:10<00:07,  5.41it/s]\u001b[A\n",
      " 57%|█████▋    | 50/88 [00:11<00:07,  5.19it/s]\u001b[A\n",
      " 58%|█████▊    | 51/88 [00:11<00:07,  5.22it/s]\u001b[A\n",
      " 59%|█████▉    | 52/88 [00:11<00:06,  5.29it/s]\u001b[A\n",
      " 60%|██████    | 53/88 [00:11<00:07,  4.84it/s]\u001b[A\n",
      " 61%|██████▏   | 54/88 [00:11<00:07,  4.32it/s]\u001b[A\n",
      " 62%|██████▎   | 55/88 [00:12<00:07,  4.28it/s]\u001b[A\n",
      " 64%|██████▎   | 56/88 [00:12<00:07,  4.18it/s]\u001b[A\n",
      " 65%|██████▍   | 57/88 [00:12<00:07,  4.02it/s]\u001b[A\n",
      " 66%|██████▌   | 58/88 [00:12<00:07,  3.95it/s]\u001b[A\n",
      " 67%|██████▋   | 59/88 [00:13<00:06,  4.32it/s]\u001b[A\n",
      " 68%|██████▊   | 60/88 [00:13<00:05,  4.70it/s]\u001b[A\n",
      " 69%|██████▉   | 61/88 [00:13<00:05,  4.99it/s]\u001b[A\n",
      " 70%|███████   | 62/88 [00:13<00:05,  5.19it/s]\u001b[A\n",
      " 72%|███████▏  | 63/88 [00:13<00:04,  5.35it/s]\u001b[A\n",
      " 73%|███████▎  | 64/88 [00:13<00:04,  5.44it/s]\u001b[A\n",
      " 74%|███████▍  | 65/88 [00:14<00:04,  4.92it/s]\u001b[A\n",
      " 75%|███████▌  | 66/88 [00:14<00:04,  4.58it/s]\u001b[A\n",
      " 76%|███████▌  | 67/88 [00:14<00:04,  4.35it/s]\u001b[A\n",
      " 77%|███████▋  | 68/88 [00:14<00:04,  4.59it/s]\u001b[A\n",
      " 78%|███████▊  | 69/88 [00:15<00:03,  4.88it/s]\u001b[A\n",
      " 80%|███████▉  | 70/88 [00:15<00:03,  5.11it/s]\u001b[A\n",
      " 81%|████████  | 71/88 [00:15<00:03,  5.31it/s]\u001b[A\n",
      " 82%|████████▏ | 72/88 [00:15<00:02,  5.45it/s]\u001b[A\n",
      " 83%|████████▎ | 73/88 [00:15<00:02,  5.55it/s]\u001b[A\n",
      " 84%|████████▍ | 74/88 [00:15<00:02,  5.51it/s]\u001b[A\n",
      " 85%|████████▌ | 75/88 [00:16<00:02,  5.60it/s]\u001b[A\n",
      " 86%|████████▋ | 76/88 [00:16<00:02,  5.62it/s]\u001b[A\n",
      " 88%|████████▊ | 77/88 [00:16<00:02,  5.46it/s]\u001b[A\n",
      " 89%|████████▊ | 78/88 [00:16<00:01,  5.09it/s]\u001b[A\n",
      " 90%|████████▉ | 79/88 [00:16<00:01,  5.24it/s]\u001b[A\n",
      " 91%|█████████ | 80/88 [00:17<00:01,  4.95it/s]\u001b[A\n",
      " 92%|█████████▏| 81/88 [00:17<00:01,  4.47it/s]\u001b[A\n",
      " 93%|█████████▎| 82/88 [00:17<00:01,  4.14it/s]\u001b[A\n",
      " 94%|█████████▍| 83/88 [00:17<00:01,  4.06it/s]\u001b[A\n",
      " 95%|█████████▌| 84/88 [00:18<00:00,  4.33it/s]\u001b[A\n",
      " 97%|█████████▋| 85/88 [00:18<00:00,  4.54it/s]\u001b[A\n",
      " 98%|█████████▊| 86/88 [00:18<00:00,  4.73it/s]\u001b[A\n",
      " 99%|█████████▉| 87/88 [00:18<00:00,  4.70it/s]\u001b[A\n",
      "100%|██████████| 88/88 [00:19<00:00,  4.27it/s]\u001b[A\n",
      " 70%|███████   | 14/20 [04:23<01:54, 19.13s/it]\n",
      "  0%|          | 0/88 [00:00<?, ?it/s]\u001b[A\n",
      "  1%|          | 1/88 [00:00<00:12,  7.19it/s]\u001b[A\n",
      "  2%|▏         | 2/88 [00:00<00:11,  7.30it/s]\u001b[A\n",
      "  3%|▎         | 3/88 [00:00<00:11,  7.31it/s]\u001b[A\n",
      "  5%|▍         | 4/88 [00:00<00:10,  7.83it/s]\u001b[A\n",
      "  6%|▌         | 5/88 [00:00<00:10,  7.96it/s]\u001b[A\n",
      "  7%|▋         | 6/88 [00:00<00:11,  7.04it/s]\u001b[A\n",
      "  8%|▊         | 7/88 [00:01<00:13,  6.03it/s]\u001b[A\n",
      "  9%|▉         | 8/88 [00:01<00:13,  6.06it/s]\u001b[A\n",
      " 10%|█         | 9/88 [00:01<00:12,  6.35it/s]\u001b[A\n",
      " 11%|█▏        | 10/88 [00:01<00:12,  6.50it/s]\u001b[A\n",
      " 12%|█▎        | 11/88 [00:01<00:13,  5.89it/s]\u001b[A\n",
      " 14%|█▎        | 12/88 [00:01<00:13,  5.63it/s]\u001b[A\n",
      " 15%|█▍        | 13/88 [00:02<00:13,  5.53it/s]\u001b[A\n",
      " 16%|█▌        | 14/88 [00:02<00:12,  5.79it/s]\u001b[A\n",
      " 17%|█▋        | 15/88 [00:02<00:11,  6.62it/s]\u001b[A\n",
      " 18%|█▊        | 16/88 [00:02<00:10,  6.57it/s]\u001b[A\n",
      " 19%|█▉        | 17/88 [00:02<00:10,  6.50it/s]\u001b[A\n",
      " 22%|██▏       | 19/88 [00:02<00:09,  7.33it/s]\u001b[A\n",
      " 23%|██▎       | 20/88 [00:02<00:08,  7.89it/s]\u001b[A\n",
      " 24%|██▍       | 21/88 [00:03<00:09,  7.36it/s]\u001b[A\n",
      " 25%|██▌       | 22/88 [00:03<00:09,  6.97it/s]\u001b[A\n",
      " 26%|██▌       | 23/88 [00:03<00:08,  7.30it/s]\u001b[A\n",
      " 27%|██▋       | 24/88 [00:03<00:09,  6.98it/s]\u001b[A\n",
      " 28%|██▊       | 25/88 [00:03<00:09,  6.66it/s]\u001b[A\n",
      " 30%|██▉       | 26/88 [00:03<00:09,  6.47it/s]\u001b[A\n",
      " 31%|███       | 27/88 [00:04<00:09,  6.19it/s]\u001b[A\n",
      " 32%|███▏      | 28/88 [00:04<00:09,  6.25it/s]\u001b[A\n",
      " 33%|███▎      | 29/88 [00:04<00:08,  6.67it/s]\u001b[A\n",
      " 34%|███▍      | 30/88 [00:04<00:08,  6.56it/s]\u001b[A\n",
      " 35%|███▌      | 31/88 [00:04<00:09,  6.26it/s]\u001b[A\n",
      " 36%|███▋      | 32/88 [00:04<00:08,  6.32it/s]\u001b[A\n",
      " 38%|███▊      | 33/88 [00:04<00:09,  6.08it/s]\u001b[A\n",
      " 39%|███▊      | 34/88 [00:05<00:09,  5.50it/s]\u001b[A\n",
      " 40%|███▉      | 35/88 [00:05<00:09,  5.32it/s]\u001b[A\n",
      " 41%|████      | 36/88 [00:05<00:10,  5.03it/s]\u001b[A\n",
      " 42%|████▏     | 37/88 [00:05<00:10,  4.68it/s]\u001b[A\n",
      " 43%|████▎     | 38/88 [00:06<00:10,  4.90it/s]\u001b[A\n",
      " 44%|████▍     | 39/88 [00:06<00:09,  5.06it/s]\u001b[A\n",
      " 45%|████▌     | 40/88 [00:06<00:09,  5.15it/s]\u001b[A\n",
      " 47%|████▋     | 41/88 [00:06<00:08,  5.25it/s]\u001b[A\n",
      " 48%|████▊     | 42/88 [00:06<00:08,  5.38it/s]\u001b[A\n",
      " 49%|████▉     | 43/88 [00:06<00:08,  5.46it/s]\u001b[A\n",
      " 50%|█████     | 44/88 [00:07<00:08,  5.47it/s]\u001b[A\n",
      " 51%|█████     | 45/88 [00:07<00:07,  5.42it/s]\u001b[A\n",
      " 52%|█████▏    | 46/88 [00:07<00:07,  5.49it/s]\u001b[A\n",
      " 53%|█████▎    | 47/88 [00:07<00:07,  5.49it/s]\u001b[A\n",
      " 55%|█████▍    | 48/88 [00:07<00:07,  5.48it/s]\u001b[A\n",
      " 56%|█████▌    | 49/88 [00:08<00:07,  5.45it/s]\u001b[A\n",
      " 57%|█████▋    | 50/88 [00:08<00:06,  5.46it/s]\u001b[A\n",
      " 58%|█████▊    | 51/88 [00:08<00:06,  5.46it/s]\u001b[A\n",
      " 59%|█████▉    | 52/88 [00:08<00:07,  5.14it/s]\u001b[A\n",
      " 60%|██████    | 53/88 [00:08<00:06,  5.24it/s]\u001b[A\n",
      " 61%|██████▏   | 54/88 [00:09<00:06,  5.18it/s]\u001b[A\n",
      " 62%|██████▎   | 55/88 [00:09<00:06,  5.27it/s]\u001b[A\n",
      " 64%|██████▎   | 56/88 [00:09<00:05,  5.43it/s]\u001b[A\n",
      " 65%|██████▍   | 57/88 [00:09<00:05,  5.47it/s]\u001b[A\n",
      " 66%|██████▌   | 58/88 [00:09<00:05,  5.46it/s]\u001b[A\n",
      " 67%|██████▋   | 59/88 [00:09<00:05,  5.17it/s]\u001b[A\n",
      " 68%|██████▊   | 60/88 [00:10<00:05,  5.02it/s]\u001b[A\n",
      " 69%|██████▉   | 61/88 [00:10<00:05,  4.66it/s]\u001b[A\n",
      " 70%|███████   | 62/88 [00:10<00:05,  4.73it/s]\u001b[A\n",
      " 72%|███████▏  | 63/88 [00:10<00:05,  4.18it/s]\u001b[A\n",
      " 73%|███████▎  | 64/88 [00:11<00:06,  3.83it/s]\u001b[A\n",
      " 74%|███████▍  | 65/88 [00:11<00:06,  3.67it/s]\u001b[A\n",
      " 75%|███████▌  | 66/88 [00:11<00:05,  3.77it/s]\u001b[A\n",
      " 76%|███████▌  | 67/88 [00:11<00:05,  4.13it/s]\u001b[A\n",
      " 77%|███████▋  | 68/88 [00:12<00:04,  4.24it/s]\u001b[A\n",
      " 78%|███████▊  | 69/88 [00:12<00:04,  4.55it/s]\u001b[A\n",
      " 80%|███████▉  | 70/88 [00:12<00:03,  4.83it/s]\u001b[A\n",
      " 81%|████████  | 71/88 [00:12<00:03,  5.09it/s]\u001b[A\n",
      " 82%|████████▏ | 72/88 [00:12<00:03,  5.16it/s]\u001b[A\n",
      " 83%|████████▎ | 73/88 [00:13<00:02,  5.22it/s]\u001b[A\n",
      " 84%|████████▍ | 74/88 [00:13<00:02,  5.30it/s]\u001b[A\n",
      " 85%|████████▌ | 75/88 [00:13<00:02,  5.36it/s]\u001b[A\n",
      " 86%|████████▋ | 76/88 [00:13<00:02,  4.97it/s]\u001b[A\n",
      " 88%|████████▊ | 77/88 [00:13<00:02,  5.06it/s]\u001b[A\n",
      " 89%|████████▊ | 78/88 [00:14<00:01,  5.18it/s]\u001b[A\n",
      " 90%|████████▉ | 79/88 [00:14<00:01,  5.12it/s]\u001b[A\n",
      " 91%|█████████ | 80/88 [00:14<00:01,  4.83it/s]\u001b[A\n",
      " 92%|█████████▏| 81/88 [00:14<00:01,  4.91it/s]\u001b[A\n",
      " 93%|█████████▎| 82/88 [00:14<00:01,  4.95it/s]\u001b[A\n",
      " 94%|█████████▍| 83/88 [00:15<00:00,  5.06it/s]\u001b[A\n",
      " 95%|█████████▌| 84/88 [00:15<00:00,  5.18it/s]\u001b[A\n",
      " 97%|█████████▋| 85/88 [00:15<00:00,  5.36it/s]\u001b[A\n",
      " 98%|█████████▊| 86/88 [00:15<00:00,  5.42it/s]\u001b[A\n",
      " 99%|█████████▉| 87/88 [00:15<00:00,  5.59it/s]\u001b[A\n",
      "100%|██████████| 88/88 [00:15<00:00,  5.71it/s]\u001b[A\n",
      " 75%|███████▌  | 15/20 [04:39<01:30, 18.19s/it]\n",
      "  0%|          | 0/88 [00:00<?, ?it/s]\u001b[A\n",
      "  1%|          | 1/88 [00:00<00:21,  4.08it/s]\u001b[A\n",
      "  2%|▏         | 2/88 [00:00<00:19,  4.37it/s]\u001b[A\n",
      "  3%|▎         | 3/88 [00:00<00:19,  4.33it/s]\u001b[A\n",
      "  5%|▍         | 4/88 [00:00<00:18,  4.50it/s]\u001b[A\n",
      "  6%|▌         | 5/88 [00:01<00:17,  4.67it/s]\u001b[A\n",
      "  7%|▋         | 6/88 [00:01<00:16,  4.91it/s]\u001b[A\n",
      "  8%|▊         | 7/88 [00:01<00:16,  5.04it/s]\u001b[A\n",
      "  9%|▉         | 8/88 [00:01<00:15,  5.13it/s]\u001b[A\n",
      " 10%|█         | 9/88 [00:01<00:15,  5.24it/s]\u001b[A\n",
      " 11%|█▏        | 10/88 [00:01<00:14,  5.21it/s]\u001b[A\n",
      " 12%|█▎        | 11/88 [00:02<00:15,  4.88it/s]\u001b[A\n",
      " 14%|█▎        | 12/88 [00:02<00:15,  5.06it/s]\u001b[A\n",
      " 15%|█▍        | 13/88 [00:02<00:14,  5.26it/s]\u001b[A\n",
      " 16%|█▌        | 14/88 [00:02<00:13,  5.31it/s]\u001b[A\n",
      " 17%|█▋        | 15/88 [00:02<00:13,  5.29it/s]\u001b[A\n",
      " 18%|█▊        | 16/88 [00:03<00:13,  5.29it/s]\u001b[A\n",
      " 19%|█▉        | 17/88 [00:03<00:14,  4.97it/s]\u001b[A\n",
      " 20%|██        | 18/88 [00:03<00:13,  5.11it/s]\u001b[A\n",
      " 22%|██▏       | 19/88 [00:03<00:14,  4.79it/s]\u001b[A\n",
      " 23%|██▎       | 20/88 [00:04<00:14,  4.82it/s]\u001b[A\n",
      " 24%|██▍       | 21/88 [00:04<00:13,  4.97it/s]\u001b[A\n",
      " 25%|██▌       | 22/88 [00:04<00:13,  4.76it/s]\u001b[A\n",
      " 26%|██▌       | 23/88 [00:04<00:13,  4.94it/s]\u001b[A\n",
      " 27%|██▋       | 24/88 [00:04<00:12,  5.01it/s]\u001b[A\n",
      " 28%|██▊       | 25/88 [00:05<00:12,  4.96it/s]\u001b[A\n",
      " 30%|██▉       | 26/88 [00:05<00:12,  5.09it/s]\u001b[A\n",
      " 31%|███       | 27/88 [00:05<00:11,  5.19it/s]\u001b[A\n",
      " 32%|███▏      | 28/88 [00:05<00:12,  4.82it/s]\u001b[A\n",
      " 33%|███▎      | 29/88 [00:05<00:11,  5.04it/s]\u001b[A\n",
      " 34%|███▍      | 30/88 [00:06<00:11,  4.91it/s]\u001b[A\n",
      " 35%|███▌      | 31/88 [00:06<00:11,  5.03it/s]\u001b[A\n",
      " 36%|███▋      | 32/88 [00:06<00:10,  5.14it/s]\u001b[A\n",
      " 38%|███▊      | 33/88 [00:06<00:11,  4.83it/s]\u001b[A\n",
      " 39%|███▊      | 34/88 [00:06<00:11,  4.91it/s]\u001b[A\n",
      " 40%|███▉      | 35/88 [00:06<00:10,  5.06it/s]\u001b[A\n",
      " 41%|████      | 36/88 [00:07<00:10,  5.17it/s]\u001b[A\n",
      " 42%|████▏     | 37/88 [00:07<00:10,  4.81it/s]\u001b[A\n",
      " 43%|████▎     | 38/88 [00:07<00:10,  4.91it/s]\u001b[A\n",
      " 44%|████▍     | 39/88 [00:07<00:10,  4.65it/s]\u001b[A\n",
      " 45%|████▌     | 40/88 [00:08<00:09,  4.86it/s]\u001b[A\n",
      " 47%|████▋     | 41/88 [00:08<00:09,  4.84it/s]\u001b[A\n",
      " 48%|████▊     | 42/88 [00:08<00:09,  4.86it/s]\u001b[A\n",
      " 49%|████▉     | 43/88 [00:08<00:09,  4.96it/s]\u001b[A\n",
      " 50%|█████     | 44/88 [00:08<00:08,  4.95it/s]\u001b[A\n",
      " 51%|█████     | 45/88 [00:09<00:08,  4.91it/s]\u001b[A\n",
      " 52%|█████▏    | 46/88 [00:09<00:08,  4.68it/s]\u001b[A\n",
      " 53%|█████▎    | 47/88 [00:09<00:09,  4.26it/s]\u001b[A\n",
      " 55%|█████▍    | 48/88 [00:09<00:09,  4.30it/s]\u001b[A\n",
      " 56%|█████▌    | 49/88 [00:10<00:09,  4.03it/s]\u001b[A\n",
      " 57%|█████▋    | 50/88 [00:10<00:09,  4.16it/s]\u001b[A\n",
      " 58%|█████▊    | 51/88 [00:10<00:08,  4.24it/s]\u001b[A\n",
      " 59%|█████▉    | 52/88 [00:10<00:08,  4.26it/s]\u001b[A\n",
      " 60%|██████    | 53/88 [00:10<00:07,  4.43it/s]\u001b[A\n",
      " 61%|██████▏   | 54/88 [00:11<00:07,  4.26it/s]\u001b[A\n",
      " 62%|██████▎   | 55/88 [00:11<00:07,  4.18it/s]\u001b[A\n",
      " 64%|██████▎   | 56/88 [00:11<00:07,  4.44it/s]\u001b[A\n",
      " 65%|██████▍   | 57/88 [00:11<00:06,  4.50it/s]\u001b[A\n",
      " 66%|██████▌   | 58/88 [00:12<00:06,  4.61it/s]\u001b[A\n",
      " 67%|██████▋   | 59/88 [00:12<00:06,  4.80it/s]\u001b[A\n",
      " 68%|██████▊   | 60/88 [00:12<00:05,  4.88it/s]\u001b[A\n",
      " 69%|██████▉   | 61/88 [00:12<00:05,  4.99it/s]\u001b[A\n",
      " 70%|███████   | 62/88 [00:12<00:05,  5.07it/s]\u001b[A\n",
      " 72%|███████▏  | 63/88 [00:13<00:05,  4.99it/s]\u001b[A\n",
      " 73%|███████▎  | 64/88 [00:13<00:05,  4.72it/s]\u001b[A\n",
      " 74%|███████▍  | 65/88 [00:13<00:04,  4.84it/s]\u001b[A\n",
      " 75%|███████▌  | 66/88 [00:13<00:04,  4.81it/s]\u001b[A\n",
      " 76%|███████▌  | 67/88 [00:13<00:04,  4.93it/s]\u001b[A\n",
      " 77%|███████▋  | 68/88 [00:14<00:03,  5.11it/s]\u001b[A\n",
      " 78%|███████▊  | 69/88 [00:14<00:04,  4.65it/s]\u001b[A\n",
      " 80%|███████▉  | 70/88 [00:14<00:03,  4.81it/s]\u001b[A\n",
      " 81%|████████  | 71/88 [00:14<00:03,  4.90it/s]\u001b[A\n",
      " 82%|████████▏ | 72/88 [00:14<00:03,  4.99it/s]\u001b[A\n",
      " 83%|████████▎ | 73/88 [00:15<00:03,  4.54it/s]\u001b[A\n",
      " 84%|████████▍ | 74/88 [00:15<00:03,  4.61it/s]\u001b[A\n",
      " 85%|████████▌ | 75/88 [00:15<00:02,  4.81it/s]\u001b[A\n",
      " 86%|████████▋ | 76/88 [00:15<00:02,  5.04it/s]\u001b[A\n",
      " 88%|████████▊ | 77/88 [00:15<00:02,  5.12it/s]\u001b[A\n",
      " 89%|████████▊ | 78/88 [00:16<00:01,  5.25it/s]\u001b[A\n",
      " 90%|████████▉ | 79/88 [00:16<00:01,  5.34it/s]\u001b[A\n",
      " 91%|█████████ | 80/88 [00:16<00:01,  5.39it/s]\u001b[A\n",
      " 92%|█████████▏| 81/88 [00:16<00:01,  5.32it/s]\u001b[A\n",
      " 93%|█████████▎| 82/88 [00:16<00:01,  5.14it/s]\u001b[A\n",
      " 94%|█████████▍| 83/88 [00:17<00:00,  5.04it/s]\u001b[A\n",
      " 95%|█████████▌| 84/88 [00:17<00:00,  5.05it/s]\u001b[A\n",
      " 97%|█████████▋| 85/88 [00:17<00:00,  5.08it/s]\u001b[A\n",
      " 98%|█████████▊| 86/88 [00:17<00:00,  5.26it/s]\u001b[A\n",
      " 99%|█████████▉| 87/88 [00:17<00:00,  5.29it/s]\u001b[A\n",
      "100%|██████████| 88/88 [00:18<00:00,  4.96it/s]\u001b[A\n",
      " 80%|████████  | 16/20 [04:57<01:12, 18.15s/it]\n",
      "  0%|          | 0/88 [00:00<?, ?it/s]\u001b[A\n",
      "  1%|          | 1/88 [00:00<00:18,  4.70it/s]\u001b[A\n",
      "  2%|▏         | 2/88 [00:00<00:17,  4.97it/s]\u001b[A\n",
      "  3%|▎         | 3/88 [00:00<00:16,  5.01it/s]\u001b[A\n",
      "  5%|▍         | 4/88 [00:00<00:17,  4.91it/s]\u001b[A\n",
      "  6%|▌         | 5/88 [00:01<00:17,  4.82it/s]\u001b[A\n",
      "  7%|▋         | 6/88 [00:01<00:18,  4.45it/s]\u001b[A\n",
      "  8%|▊         | 7/88 [00:01<00:17,  4.53it/s]\u001b[A\n",
      "  9%|▉         | 8/88 [00:01<00:18,  4.36it/s]\u001b[A\n",
      " 10%|█         | 9/88 [00:02<00:19,  4.11it/s]\u001b[A\n",
      " 11%|█▏        | 10/88 [00:02<00:19,  4.01it/s]\u001b[A\n",
      " 12%|█▎        | 11/88 [00:02<00:20,  3.80it/s]\u001b[A\n",
      " 14%|█▎        | 12/88 [00:02<00:19,  3.93it/s]\u001b[A\n",
      " 15%|█▍        | 13/88 [00:03<00:18,  4.11it/s]\u001b[A\n",
      " 16%|█▌        | 14/88 [00:03<00:17,  4.12it/s]\u001b[A\n",
      " 17%|█▋        | 15/88 [00:03<00:16,  4.35it/s]\u001b[A\n",
      " 18%|█▊        | 16/88 [00:03<00:15,  4.69it/s]\u001b[A\n",
      " 19%|█▉        | 17/88 [00:03<00:14,  4.90it/s]\u001b[A\n",
      " 20%|██        | 18/88 [00:04<00:13,  5.02it/s]\u001b[A\n",
      " 22%|██▏       | 19/88 [00:04<00:14,  4.70it/s]\u001b[A\n",
      " 23%|██▎       | 20/88 [00:04<00:13,  4.88it/s]\u001b[A\n",
      " 24%|██▍       | 21/88 [00:04<00:12,  5.26it/s]\u001b[A\n",
      " 25%|██▌       | 22/88 [00:04<00:11,  5.53it/s]\u001b[A\n",
      " 26%|██▌       | 23/88 [00:04<00:11,  5.52it/s]\u001b[A\n",
      " 27%|██▋       | 24/88 [00:05<00:11,  5.40it/s]\u001b[A\n",
      " 28%|██▊       | 25/88 [00:05<00:11,  5.47it/s]\u001b[A\n",
      " 30%|██▉       | 26/88 [00:05<00:11,  5.44it/s]\u001b[A\n",
      " 31%|███       | 27/88 [00:05<00:11,  5.47it/s]\u001b[A\n",
      " 32%|███▏      | 28/88 [00:05<00:10,  5.46it/s]\u001b[A\n",
      " 33%|███▎      | 29/88 [00:06<00:10,  5.54it/s]\u001b[A\n",
      " 34%|███▍      | 30/88 [00:06<00:10,  5.66it/s]\u001b[A\n",
      " 35%|███▌      | 31/88 [00:06<00:10,  5.67it/s]\u001b[A\n",
      " 36%|███▋      | 32/88 [00:06<00:09,  5.76it/s]\u001b[A\n",
      " 38%|███▊      | 33/88 [00:06<00:10,  5.42it/s]\u001b[A\n",
      " 39%|███▊      | 34/88 [00:06<00:10,  5.16it/s]\u001b[A\n",
      " 40%|███▉      | 35/88 [00:07<00:10,  5.00it/s]\u001b[A\n",
      " 41%|████      | 36/88 [00:07<00:10,  4.88it/s]\u001b[A\n",
      " 42%|████▏     | 37/88 [00:07<00:09,  5.34it/s]\u001b[A\n",
      " 44%|████▍     | 39/88 [00:07<00:08,  5.79it/s]\u001b[A\n",
      " 45%|████▌     | 40/88 [00:08<00:09,  5.19it/s]\u001b[A\n",
      " 47%|████▋     | 41/88 [00:08<00:08,  5.84it/s]\u001b[A\n",
      " 49%|████▉     | 43/88 [00:08<00:07,  6.26it/s]\u001b[A\n",
      " 50%|█████     | 44/88 [00:08<00:07,  5.86it/s]\u001b[A\n",
      " 51%|█████     | 45/88 [00:08<00:06,  6.39it/s]\u001b[A\n",
      " 52%|█████▏    | 46/88 [00:08<00:06,  6.37it/s]\u001b[A\n",
      " 53%|█████▎    | 47/88 [00:09<00:06,  6.68it/s]\u001b[A\n",
      " 55%|█████▍    | 48/88 [00:09<00:05,  7.02it/s]\u001b[A\n",
      " 56%|█████▌    | 49/88 [00:09<00:06,  6.48it/s]\u001b[A\n",
      " 57%|█████▋    | 50/88 [00:09<00:05,  6.40it/s]\u001b[A\n",
      " 58%|█████▊    | 51/88 [00:09<00:05,  6.74it/s]\u001b[A\n",
      " 59%|█████▉    | 52/88 [00:09<00:04,  7.34it/s]\u001b[A\n",
      " 60%|██████    | 53/88 [00:09<00:04,  7.05it/s]\u001b[A\n",
      " 61%|██████▏   | 54/88 [00:10<00:05,  6.16it/s]\u001b[A\n",
      " 62%|██████▎   | 55/88 [00:10<00:06,  5.10it/s]\u001b[A\n",
      " 64%|██████▎   | 56/88 [00:10<00:06,  5.24it/s]\u001b[A\n",
      " 66%|██████▌   | 58/88 [00:10<00:04,  6.15it/s]\u001b[A\n",
      " 67%|██████▋   | 59/88 [00:10<00:04,  6.30it/s]\u001b[A\n",
      " 68%|██████▊   | 60/88 [00:11<00:04,  5.83it/s]\u001b[A\n",
      " 69%|██████▉   | 61/88 [00:11<00:04,  6.54it/s]\u001b[A\n",
      " 70%|███████   | 62/88 [00:11<00:03,  6.88it/s]\u001b[A\n",
      " 72%|███████▏  | 63/88 [00:11<00:03,  7.54it/s]\u001b[A\n",
      " 73%|███████▎  | 64/88 [00:11<00:03,  7.71it/s]\u001b[A\n",
      " 74%|███████▍  | 65/88 [00:11<00:03,  7.23it/s]\u001b[A\n",
      " 75%|███████▌  | 66/88 [00:11<00:03,  7.08it/s]\u001b[A\n",
      " 76%|███████▌  | 67/88 [00:12<00:03,  6.67it/s]\u001b[A\n",
      " 77%|███████▋  | 68/88 [00:12<00:03,  6.09it/s]\u001b[A\n",
      " 78%|███████▊  | 69/88 [00:12<00:03,  5.60it/s]\u001b[A\n",
      " 80%|███████▉  | 70/88 [00:12<00:03,  5.46it/s]\u001b[A\n",
      " 81%|████████  | 71/88 [00:12<00:03,  5.27it/s]\u001b[A\n",
      " 82%|████████▏ | 72/88 [00:13<00:03,  5.01it/s]\u001b[A\n",
      " 83%|████████▎ | 73/88 [00:13<00:03,  4.64it/s]\u001b[A\n",
      " 84%|████████▍ | 74/88 [00:13<00:02,  5.09it/s]\u001b[A\n",
      " 85%|████████▌ | 75/88 [00:13<00:02,  5.47it/s]\u001b[A\n",
      " 86%|████████▋ | 76/88 [00:13<00:01,  6.01it/s]\u001b[A\n",
      " 88%|████████▊ | 77/88 [00:13<00:01,  6.12it/s]\u001b[A\n",
      " 89%|████████▊ | 78/88 [00:14<00:01,  5.96it/s]\u001b[A\n",
      " 90%|████████▉ | 79/88 [00:14<00:01,  6.53it/s]\u001b[A\n",
      " 91%|█████████ | 80/88 [00:14<00:01,  6.38it/s]\u001b[A\n",
      " 92%|█████████▏| 81/88 [00:14<00:01,  6.10it/s]\u001b[A\n",
      " 93%|█████████▎| 82/88 [00:14<00:01,  5.81it/s]\u001b[A\n",
      " 94%|█████████▍| 83/88 [00:15<00:01,  4.88it/s]\u001b[A\n",
      " 95%|█████████▌| 84/88 [00:15<00:00,  4.50it/s]\u001b[A\n",
      " 97%|█████████▋| 85/88 [00:15<00:00,  4.65it/s]\u001b[A\n",
      " 98%|█████████▊| 86/88 [00:15<00:00,  4.79it/s]\u001b[A\n",
      " 99%|█████████▉| 87/88 [00:15<00:00,  4.85it/s]\u001b[A\n",
      "100%|██████████| 88/88 [00:16<00:00,  4.44it/s]\u001b[A\n",
      " 85%|████████▌ | 17/20 [05:13<00:52, 17.56s/it]\n",
      "  0%|          | 0/88 [00:00<?, ?it/s]\u001b[A\n",
      "  1%|          | 1/88 [00:00<00:34,  2.53it/s]\u001b[A\n",
      "  2%|▏         | 2/88 [00:00<00:29,  2.87it/s]\u001b[A\n",
      "  3%|▎         | 3/88 [00:00<00:26,  3.21it/s]\u001b[A\n",
      "  5%|▍         | 4/88 [00:01<00:24,  3.47it/s]\u001b[A\n",
      "  6%|▌         | 5/88 [00:01<00:23,  3.58it/s]\u001b[A\n",
      "  7%|▋         | 6/88 [00:01<00:22,  3.67it/s]\u001b[A\n",
      "  8%|▊         | 7/88 [00:01<00:20,  3.88it/s]\u001b[A\n",
      "  9%|▉         | 8/88 [00:02<00:19,  4.01it/s]\u001b[A\n",
      " 10%|█         | 9/88 [00:02<00:18,  4.27it/s]\u001b[A\n",
      " 11%|█▏        | 10/88 [00:02<00:18,  4.26it/s]\u001b[A\n",
      " 12%|█▎        | 11/88 [00:02<00:17,  4.50it/s]\u001b[A\n",
      " 14%|█▎        | 12/88 [00:02<00:16,  4.74it/s]\u001b[A\n",
      " 15%|█▍        | 13/88 [00:03<00:15,  4.88it/s]\u001b[A\n",
      " 16%|█▌        | 14/88 [00:03<00:15,  4.65it/s]\u001b[A\n",
      " 17%|█▋        | 15/88 [00:03<00:15,  4.81it/s]\u001b[A\n",
      " 18%|█▊        | 16/88 [00:03<00:15,  4.70it/s]\u001b[A\n",
      " 19%|█▉        | 17/88 [00:03<00:14,  4.79it/s]\u001b[A\n",
      " 20%|██        | 18/88 [00:04<00:14,  4.92it/s]\u001b[A\n",
      " 22%|██▏       | 19/88 [00:04<00:13,  5.03it/s]\u001b[A\n",
      " 23%|██▎       | 20/88 [00:04<00:13,  5.13it/s]\u001b[A\n",
      " 24%|██▍       | 21/88 [00:04<00:12,  5.22it/s]\u001b[A\n",
      " 25%|██▌       | 22/88 [00:04<00:12,  5.24it/s]\u001b[A\n",
      " 26%|██▌       | 23/88 [00:05<00:12,  5.24it/s]\u001b[A\n",
      " 27%|██▋       | 24/88 [00:05<00:12,  5.32it/s]\u001b[A\n",
      " 28%|██▊       | 25/88 [00:05<00:11,  5.34it/s]\u001b[A\n",
      " 30%|██▉       | 26/88 [00:05<00:11,  5.37it/s]\u001b[A\n",
      " 31%|███       | 27/88 [00:05<00:11,  5.39it/s]\u001b[A\n",
      " 32%|███▏      | 28/88 [00:05<00:11,  5.24it/s]\u001b[A\n",
      " 33%|███▎      | 29/88 [00:06<00:11,  5.28it/s]\u001b[A\n",
      " 34%|███▍      | 30/88 [00:06<00:12,  4.74it/s]\u001b[A\n",
      " 35%|███▌      | 31/88 [00:06<00:11,  4.80it/s]\u001b[A\n",
      " 36%|███▋      | 32/88 [00:06<00:11,  4.97it/s]\u001b[A\n",
      " 38%|███▊      | 33/88 [00:07<00:10,  5.10it/s]\u001b[A\n",
      " 39%|███▊      | 34/88 [00:07<00:11,  4.90it/s]\u001b[A\n",
      " 40%|███▉      | 35/88 [00:07<00:10,  4.88it/s]\u001b[A\n",
      " 41%|████      | 36/88 [00:07<00:10,  4.84it/s]\u001b[A\n",
      " 42%|████▏     | 37/88 [00:07<00:10,  4.78it/s]\u001b[A\n",
      " 43%|████▎     | 38/88 [00:08<00:10,  4.94it/s]\u001b[A\n",
      " 44%|████▍     | 39/88 [00:08<00:09,  5.08it/s]\u001b[A\n",
      " 45%|████▌     | 40/88 [00:08<00:09,  5.20it/s]\u001b[A\n",
      " 47%|████▋     | 41/88 [00:08<00:08,  5.25it/s]\u001b[A\n",
      " 48%|████▊     | 42/88 [00:08<00:08,  5.29it/s]\u001b[A\n",
      " 49%|████▉     | 43/88 [00:09<00:08,  5.04it/s]\u001b[A\n",
      " 50%|█████     | 44/88 [00:09<00:09,  4.64it/s]\u001b[A\n",
      " 51%|█████     | 45/88 [00:09<00:09,  4.46it/s]\u001b[A\n",
      " 52%|█████▏    | 46/88 [00:09<00:09,  4.58it/s]\u001b[A\n",
      " 53%|█████▎    | 47/88 [00:09<00:08,  4.69it/s]\u001b[A\n",
      " 55%|█████▍    | 48/88 [00:10<00:09,  4.30it/s]\u001b[A\n",
      " 56%|█████▌    | 49/88 [00:10<00:09,  4.08it/s]\u001b[A\n",
      " 57%|█████▋    | 50/88 [00:10<00:09,  4.06it/s]\u001b[A\n",
      " 58%|█████▊    | 51/88 [00:10<00:09,  3.96it/s]\u001b[A\n",
      " 59%|█████▉    | 52/88 [00:11<00:08,  4.09it/s]\u001b[A\n",
      " 60%|██████    | 53/88 [00:11<00:08,  4.03it/s]\u001b[A\n",
      " 61%|██████▏   | 54/88 [00:11<00:08,  4.00it/s]\u001b[A\n",
      " 62%|██████▎   | 55/88 [00:11<00:08,  3.97it/s]\u001b[A\n",
      " 64%|██████▎   | 56/88 [00:12<00:07,  4.08it/s]\u001b[A\n",
      " 65%|██████▍   | 57/88 [00:12<00:07,  4.42it/s]\u001b[A\n",
      " 66%|██████▌   | 58/88 [00:12<00:06,  4.68it/s]\u001b[A\n",
      " 67%|██████▋   | 59/88 [00:12<00:06,  4.59it/s]\u001b[A\n",
      " 68%|██████▊   | 60/88 [00:13<00:06,  4.15it/s]\u001b[A\n",
      " 69%|██████▉   | 61/88 [00:13<00:06,  4.06it/s]\u001b[A\n",
      " 70%|███████   | 62/88 [00:13<00:06,  4.18it/s]\u001b[A\n",
      " 72%|███████▏  | 63/88 [00:13<00:06,  3.87it/s]\u001b[A\n",
      " 73%|███████▎  | 64/88 [00:14<00:06,  3.85it/s]\u001b[A\n",
      " 74%|███████▍  | 65/88 [00:14<00:05,  4.11it/s]\u001b[A\n",
      " 75%|███████▌  | 66/88 [00:14<00:04,  4.47it/s]\u001b[A\n",
      " 76%|███████▌  | 67/88 [00:14<00:05,  4.20it/s]\u001b[A\n",
      " 77%|███████▋  | 68/88 [00:15<00:04,  4.23it/s]\u001b[A\n",
      " 78%|███████▊  | 69/88 [00:15<00:04,  4.34it/s]\u001b[A\n",
      " 80%|███████▉  | 70/88 [00:15<00:04,  4.27it/s]\u001b[A\n",
      " 81%|████████  | 71/88 [00:15<00:03,  4.48it/s]\u001b[A\n",
      " 82%|████████▏ | 72/88 [00:15<00:03,  4.32it/s]\u001b[A\n",
      " 83%|████████▎ | 73/88 [00:16<00:03,  4.06it/s]\u001b[A\n",
      " 84%|████████▍ | 74/88 [00:16<00:03,  4.23it/s]\u001b[A\n",
      " 85%|████████▌ | 75/88 [00:16<00:03,  4.05it/s]\u001b[A\n",
      " 86%|████████▋ | 76/88 [00:16<00:02,  4.17it/s]\u001b[A\n",
      " 88%|████████▊ | 77/88 [00:17<00:02,  4.36it/s]\u001b[A\n",
      " 89%|████████▊ | 78/88 [00:17<00:02,  4.34it/s]\u001b[A\n",
      " 90%|████████▉ | 79/88 [00:17<00:01,  4.67it/s]\u001b[A\n",
      " 91%|█████████ | 80/88 [00:17<00:01,  4.75it/s]\u001b[A\n",
      " 92%|█████████▏| 81/88 [00:17<00:01,  4.99it/s]\u001b[A\n",
      " 93%|█████████▎| 82/88 [00:18<00:01,  5.02it/s]\u001b[A\n",
      " 94%|█████████▍| 83/88 [00:18<00:00,  5.18it/s]\u001b[A\n",
      " 95%|█████████▌| 84/88 [00:18<00:00,  5.22it/s]\u001b[A\n",
      " 97%|█████████▋| 85/88 [00:18<00:00,  5.05it/s]\u001b[A\n",
      " 98%|█████████▊| 86/88 [00:18<00:00,  4.99it/s]\u001b[A\n",
      " 99%|█████████▉| 87/88 [00:19<00:00,  4.88it/s]\u001b[A\n",
      "100%|██████████| 88/88 [00:19<00:00,  4.91it/s]\u001b[A\n",
      " 90%|█████████ | 18/20 [05:33<00:36, 18.09s/it]\n",
      "  0%|          | 0/88 [00:00<?, ?it/s]\u001b[A\n",
      "  1%|          | 1/88 [00:00<00:22,  3.81it/s]\u001b[A\n",
      "  2%|▏         | 2/88 [00:00<00:21,  3.94it/s]\u001b[A\n",
      "  3%|▎         | 3/88 [00:00<00:20,  4.11it/s]\u001b[A\n",
      "  5%|▍         | 4/88 [00:00<00:19,  4.29it/s]\u001b[A\n",
      "  6%|▌         | 5/88 [00:01<00:18,  4.43it/s]\u001b[A\n",
      "  7%|▋         | 6/88 [00:01<00:18,  4.37it/s]\u001b[A\n",
      "  8%|▊         | 7/88 [00:01<00:17,  4.50it/s]\u001b[A\n",
      "  9%|▉         | 8/88 [00:01<00:17,  4.51it/s]\u001b[A\n",
      " 10%|█         | 9/88 [00:02<00:17,  4.50it/s]\u001b[A\n",
      " 11%|█▏        | 10/88 [00:02<00:16,  4.60it/s]\u001b[A\n",
      " 12%|█▎        | 11/88 [00:02<00:16,  4.54it/s]\u001b[A\n",
      " 14%|█▎        | 12/88 [00:02<00:16,  4.62it/s]\u001b[A\n",
      " 15%|█▍        | 13/88 [00:02<00:15,  4.80it/s]\u001b[A\n",
      " 16%|█▌        | 14/88 [00:03<00:15,  4.92it/s]\u001b[A\n",
      " 17%|█▋        | 15/88 [00:03<00:14,  5.00it/s]\u001b[A\n",
      " 18%|█▊        | 16/88 [00:03<00:14,  5.11it/s]\u001b[A\n",
      " 19%|█▉        | 17/88 [00:03<00:14,  4.81it/s]\u001b[A\n",
      " 20%|██        | 18/88 [00:03<00:14,  4.71it/s]\u001b[A\n",
      " 22%|██▏       | 19/88 [00:04<00:14,  4.90it/s]\u001b[A\n",
      " 23%|██▎       | 20/88 [00:04<00:13,  4.94it/s]\u001b[A\n",
      " 24%|██▍       | 21/88 [00:04<00:14,  4.73it/s]\u001b[A\n",
      " 25%|██▌       | 22/88 [00:04<00:14,  4.63it/s]\u001b[A\n",
      " 26%|██▌       | 23/88 [00:04<00:14,  4.56it/s]\u001b[A\n",
      " 27%|██▋       | 24/88 [00:05<00:13,  4.81it/s]\u001b[A\n",
      " 28%|██▊       | 25/88 [00:05<00:13,  4.80it/s]\u001b[A\n",
      " 30%|██▉       | 26/88 [00:05<00:12,  5.00it/s]\u001b[A\n",
      " 31%|███       | 27/88 [00:05<00:11,  5.16it/s]\u001b[A\n",
      " 32%|███▏      | 28/88 [00:05<00:12,  4.99it/s]\u001b[A\n",
      " 33%|███▎      | 29/88 [00:06<00:11,  5.02it/s]\u001b[A\n",
      " 34%|███▍      | 30/88 [00:06<00:11,  4.92it/s]\u001b[A\n",
      " 35%|███▌      | 31/88 [00:06<00:11,  4.92it/s]\u001b[A\n",
      " 36%|███▋      | 32/88 [00:06<00:12,  4.48it/s]\u001b[A\n",
      " 38%|███▊      | 33/88 [00:07<00:12,  4.33it/s]\u001b[A\n",
      " 39%|███▊      | 34/88 [00:07<00:12,  4.20it/s]\u001b[A\n",
      " 40%|███▉      | 35/88 [00:07<00:12,  4.08it/s]\u001b[A\n",
      " 41%|████      | 36/88 [00:07<00:12,  4.24it/s]\u001b[A\n",
      " 42%|████▏     | 37/88 [00:07<00:11,  4.38it/s]\u001b[A\n",
      " 43%|████▎     | 38/88 [00:08<00:11,  4.45it/s]\u001b[A\n",
      " 44%|████▍     | 39/88 [00:08<00:11,  4.45it/s]\u001b[A\n",
      " 45%|████▌     | 40/88 [00:08<00:10,  4.52it/s]\u001b[A\n",
      " 47%|████▋     | 41/88 [00:08<00:10,  4.51it/s]\u001b[A\n",
      " 48%|████▊     | 42/88 [00:09<00:09,  4.61it/s]\u001b[A\n",
      " 49%|████▉     | 43/88 [00:09<00:09,  4.69it/s]\u001b[A\n",
      " 50%|█████     | 44/88 [00:09<00:09,  4.53it/s]\u001b[A\n",
      " 51%|█████     | 45/88 [00:09<00:09,  4.41it/s]\u001b[A\n",
      " 52%|█████▏    | 46/88 [00:09<00:09,  4.43it/s]\u001b[A\n",
      " 53%|█████▎    | 47/88 [00:10<00:09,  4.13it/s]\u001b[A\n",
      " 55%|█████▍    | 48/88 [00:10<00:09,  4.27it/s]\u001b[A\n",
      " 56%|█████▌    | 49/88 [00:10<00:08,  4.55it/s]\u001b[A\n",
      " 57%|█████▋    | 50/88 [00:10<00:07,  4.80it/s]\u001b[A\n",
      " 58%|█████▊    | 51/88 [00:11<00:07,  4.96it/s]\u001b[A\n",
      " 59%|█████▉    | 52/88 [00:11<00:06,  5.16it/s]\u001b[A\n",
      " 60%|██████    | 53/88 [00:11<00:06,  5.33it/s]\u001b[A\n",
      " 61%|██████▏   | 54/88 [00:11<00:06,  5.38it/s]\u001b[A\n",
      " 62%|██████▎   | 55/88 [00:11<00:06,  5.32it/s]\u001b[A\n",
      " 64%|██████▎   | 56/88 [00:11<00:06,  5.20it/s]\u001b[A\n",
      " 65%|██████▍   | 57/88 [00:12<00:05,  5.27it/s]\u001b[A\n",
      " 66%|██████▌   | 58/88 [00:12<00:05,  5.28it/s]\u001b[A\n",
      " 67%|██████▋   | 59/88 [00:12<00:05,  5.40it/s]\u001b[A\n",
      " 68%|██████▊   | 60/88 [00:12<00:05,  5.44it/s]\u001b[A\n",
      " 69%|██████▉   | 61/88 [00:12<00:05,  5.23it/s]\u001b[A\n",
      " 70%|███████   | 62/88 [00:13<00:05,  4.73it/s]\u001b[A\n",
      " 72%|███████▏  | 63/88 [00:13<00:05,  4.71it/s]\u001b[A\n",
      " 73%|███████▎  | 64/88 [00:13<00:04,  4.93it/s]\u001b[A\n",
      " 74%|███████▍  | 65/88 [00:13<00:04,  4.92it/s]\u001b[A\n",
      " 75%|███████▌  | 66/88 [00:13<00:04,  4.83it/s]\u001b[A\n",
      " 76%|███████▌  | 67/88 [00:14<00:04,  4.80it/s]\u001b[A\n",
      " 77%|███████▋  | 68/88 [00:14<00:04,  4.73it/s]\u001b[A\n",
      " 78%|███████▊  | 69/88 [00:14<00:03,  5.00it/s]\u001b[A\n",
      " 80%|███████▉  | 70/88 [00:14<00:03,  5.21it/s]\u001b[A\n",
      " 81%|████████  | 71/88 [00:14<00:03,  5.34it/s]\u001b[A\n",
      " 82%|████████▏ | 72/88 [00:15<00:02,  5.47it/s]\u001b[A\n",
      " 83%|████████▎ | 73/88 [00:15<00:02,  5.52it/s]\u001b[A\n",
      " 84%|████████▍ | 74/88 [00:15<00:02,  5.29it/s]\u001b[A\n",
      " 85%|████████▌ | 75/88 [00:15<00:02,  5.34it/s]\u001b[A\n",
      " 86%|████████▋ | 76/88 [00:15<00:02,  5.16it/s]\u001b[A\n",
      " 88%|████████▊ | 77/88 [00:16<00:02,  4.74it/s]\u001b[A\n",
      " 89%|████████▊ | 78/88 [00:16<00:02,  4.70it/s]\u001b[A\n",
      " 90%|████████▉ | 79/88 [00:16<00:01,  4.67it/s]\u001b[A\n",
      " 91%|█████████ | 80/88 [00:16<00:01,  4.76it/s]\u001b[A\n",
      " 92%|█████████▏| 81/88 [00:16<00:01,  4.56it/s]\u001b[A\n",
      " 93%|█████████▎| 82/88 [00:17<00:01,  4.71it/s]\u001b[A\n",
      " 94%|█████████▍| 83/88 [00:17<00:01,  4.65it/s]\u001b[A\n",
      " 95%|█████████▌| 84/88 [00:17<00:00,  4.78it/s]\u001b[A\n",
      " 97%|█████████▋| 85/88 [00:17<00:00,  4.92it/s]\u001b[A\n",
      " 98%|█████████▊| 86/88 [00:17<00:00,  4.89it/s]\u001b[A\n",
      " 99%|█████████▉| 87/88 [00:18<00:00,  5.06it/s]\u001b[A\n",
      "100%|██████████| 88/88 [00:18<00:00,  4.94it/s]\u001b[A\n",
      " 95%|█████████▌| 19/20 [05:51<00:18, 18.18s/it]\n",
      "  0%|          | 0/88 [00:00<?, ?it/s]\u001b[A\n",
      "  1%|          | 1/88 [00:00<00:20,  4.16it/s]\u001b[A\n",
      "  2%|▏         | 2/88 [00:00<00:21,  4.08it/s]\u001b[A\n",
      "  3%|▎         | 3/88 [00:00<00:20,  4.20it/s]\u001b[A\n",
      "  5%|▍         | 4/88 [00:00<00:18,  4.47it/s]\u001b[A\n",
      "  6%|▌         | 5/88 [00:01<00:17,  4.65it/s]\u001b[A\n",
      "  7%|▋         | 6/88 [00:01<00:17,  4.73it/s]\u001b[A\n",
      "  8%|▊         | 7/88 [00:01<00:17,  4.73it/s]\u001b[A\n",
      "  9%|▉         | 8/88 [00:01<00:16,  4.99it/s]\u001b[A\n",
      " 10%|█         | 9/88 [00:01<00:15,  5.01it/s]\u001b[A\n",
      " 11%|█▏        | 10/88 [00:02<00:15,  4.90it/s]\u001b[A\n",
      " 12%|█▎        | 11/88 [00:02<00:15,  5.01it/s]\u001b[A\n",
      " 14%|█▎        | 12/88 [00:02<00:14,  5.11it/s]\u001b[A\n",
      " 15%|█▍        | 13/88 [00:02<00:14,  5.19it/s]\u001b[A\n",
      " 16%|█▌        | 14/88 [00:02<00:14,  5.27it/s]\u001b[A\n",
      " 17%|█▋        | 15/88 [00:03<00:14,  5.08it/s]\u001b[A\n",
      " 18%|█▊        | 16/88 [00:03<00:15,  4.65it/s]\u001b[A\n",
      " 19%|█▉        | 17/88 [00:03<00:15,  4.71it/s]\u001b[A\n",
      " 20%|██        | 18/88 [00:03<00:15,  4.55it/s]\u001b[A\n",
      " 22%|██▏       | 19/88 [00:03<00:14,  4.71it/s]\u001b[A\n",
      " 23%|██▎       | 20/88 [00:04<00:13,  4.89it/s]\u001b[A\n",
      " 24%|██▍       | 21/88 [00:04<00:13,  4.89it/s]\u001b[A\n",
      " 25%|██▌       | 22/88 [00:04<00:13,  4.78it/s]\u001b[A\n",
      " 26%|██▌       | 23/88 [00:04<00:12,  5.01it/s]\u001b[A\n",
      " 27%|██▋       | 24/88 [00:04<00:12,  5.16it/s]\u001b[A\n",
      " 28%|██▊       | 25/88 [00:05<00:12,  5.05it/s]\u001b[A\n",
      " 30%|██▉       | 26/88 [00:05<00:12,  5.04it/s]\u001b[A\n",
      " 31%|███       | 27/88 [00:05<00:11,  5.17it/s]\u001b[A\n",
      " 32%|███▏      | 28/88 [00:05<00:13,  4.46it/s]\u001b[A\n",
      " 33%|███▎      | 29/88 [00:06<00:13,  4.33it/s]\u001b[A\n",
      " 34%|███▍      | 30/88 [00:06<00:13,  4.36it/s]\u001b[A\n",
      " 35%|███▌      | 31/88 [00:06<00:12,  4.59it/s]\u001b[A\n",
      " 36%|███▋      | 32/88 [00:06<00:11,  4.84it/s]\u001b[A\n",
      " 38%|███▊      | 33/88 [00:06<00:11,  4.63it/s]\u001b[A\n",
      " 39%|███▊      | 34/88 [00:07<00:11,  4.73it/s]\u001b[A\n",
      " 40%|███▉      | 35/88 [00:07<00:11,  4.66it/s]\u001b[A\n",
      " 41%|████      | 36/88 [00:07<00:11,  4.67it/s]\u001b[A\n",
      " 42%|████▏     | 37/88 [00:07<00:11,  4.62it/s]\u001b[A\n",
      " 43%|████▎     | 38/88 [00:08<00:11,  4.24it/s]\u001b[A\n",
      " 44%|████▍     | 39/88 [00:08<00:12,  4.05it/s]\u001b[A\n",
      " 45%|████▌     | 40/88 [00:08<00:11,  4.04it/s]\u001b[A\n",
      " 47%|████▋     | 41/88 [00:08<00:12,  3.83it/s]\u001b[A\n",
      " 48%|████▊     | 42/88 [00:09<00:12,  3.80it/s]\u001b[A\n",
      " 49%|████▉     | 43/88 [00:09<00:11,  4.05it/s]\u001b[A\n",
      " 50%|█████     | 44/88 [00:09<00:10,  4.28it/s]\u001b[A\n",
      " 51%|█████     | 45/88 [00:09<00:09,  4.57it/s]\u001b[A\n",
      " 52%|█████▏    | 46/88 [00:09<00:08,  4.80it/s]\u001b[A\n",
      " 53%|█████▎    | 47/88 [00:10<00:08,  5.00it/s]\u001b[A\n",
      " 55%|█████▍    | 48/88 [00:10<00:07,  5.17it/s]\u001b[A\n",
      " 56%|█████▌    | 49/88 [00:10<00:07,  5.28it/s]\u001b[A\n",
      " 57%|█████▋    | 50/88 [00:10<00:07,  5.35it/s]\u001b[A\n",
      " 58%|█████▊    | 51/88 [00:10<00:06,  5.40it/s]\u001b[A\n",
      " 59%|█████▉    | 52/88 [00:10<00:06,  5.44it/s]\u001b[A\n",
      " 60%|██████    | 53/88 [00:11<00:06,  5.48it/s]\u001b[A\n",
      " 61%|██████▏   | 54/88 [00:11<00:06,  5.46it/s]\u001b[A\n",
      " 62%|██████▎   | 55/88 [00:11<00:06,  5.01it/s]\u001b[A\n",
      " 64%|██████▎   | 56/88 [00:11<00:06,  5.11it/s]\u001b[A\n",
      " 65%|██████▍   | 57/88 [00:11<00:05,  5.19it/s]\u001b[A\n",
      " 66%|██████▌   | 58/88 [00:12<00:05,  5.27it/s]\u001b[A\n",
      " 67%|██████▋   | 59/88 [00:12<00:05,  5.31it/s]\u001b[A\n",
      " 68%|██████▊   | 60/88 [00:12<00:05,  5.35it/s]\u001b[A\n",
      " 69%|██████▉   | 61/88 [00:12<00:05,  4.91it/s]\u001b[A\n",
      " 70%|███████   | 62/88 [00:12<00:05,  4.70it/s]\u001b[A\n",
      " 72%|███████▏  | 63/88 [00:13<00:05,  4.94it/s]\u001b[A\n",
      " 73%|███████▎  | 64/88 [00:13<00:04,  5.09it/s]\u001b[A\n",
      " 74%|███████▍  | 65/88 [00:13<00:04,  5.21it/s]\u001b[A\n",
      " 75%|███████▌  | 66/88 [00:13<00:04,  5.30it/s]\u001b[A\n",
      " 76%|███████▌  | 67/88 [00:13<00:03,  5.34it/s]\u001b[A\n",
      " 77%|███████▋  | 68/88 [00:14<00:04,  4.94it/s]\u001b[A\n",
      " 78%|███████▊  | 69/88 [00:14<00:03,  5.01it/s]\u001b[A\n",
      " 80%|███████▉  | 70/88 [00:14<00:03,  5.14it/s]\u001b[A\n",
      " 81%|████████  | 71/88 [00:14<00:03,  5.23it/s]\u001b[A\n",
      " 82%|████████▏ | 72/88 [00:14<00:03,  5.33it/s]\u001b[A\n",
      " 83%|████████▎ | 73/88 [00:15<00:02,  5.40it/s]\u001b[A\n",
      " 84%|████████▍ | 74/88 [00:15<00:02,  5.41it/s]\u001b[A\n",
      " 85%|████████▌ | 75/88 [00:15<00:02,  5.42it/s]\u001b[A\n",
      " 86%|████████▋ | 76/88 [00:15<00:02,  5.44it/s]\u001b[A\n",
      " 88%|████████▊ | 77/88 [00:15<00:02,  5.44it/s]\u001b[A\n",
      " 89%|████████▊ | 78/88 [00:15<00:01,  5.30it/s]\u001b[A\n",
      " 90%|████████▉ | 79/88 [00:16<00:01,  5.26it/s]\u001b[A\n",
      " 91%|█████████ | 80/88 [00:16<00:01,  4.86it/s]\u001b[A\n",
      " 92%|█████████▏| 81/88 [00:16<00:01,  4.93it/s]\u001b[A\n",
      " 93%|█████████▎| 82/88 [00:16<00:01,  5.06it/s]\u001b[A\n",
      " 94%|█████████▍| 83/88 [00:16<00:00,  5.09it/s]\u001b[A\n",
      " 95%|█████████▌| 84/88 [00:17<00:00,  4.96it/s]\u001b[A\n",
      " 97%|█████████▋| 85/88 [00:17<00:00,  4.85it/s]\u001b[A\n",
      " 98%|█████████▊| 86/88 [00:17<00:00,  4.76it/s]\u001b[A\n",
      " 99%|█████████▉| 87/88 [00:17<00:00,  4.70it/s]\u001b[A\n",
      "100%|██████████| 88/88 [00:18<00:00,  4.79it/s]\u001b[A\n",
      "100%|██████████| 20/20 [06:09<00:00, 18.15s/it]\n",
      "  0%|          | 0/20 [00:00<?, ?it/s]\n",
      "  0%|          | 0/86 [00:00<?, ?it/s]\u001b[A\n",
      "  1%|          | 1/86 [00:00<00:40,  2.10it/s]\u001b[A\n",
      "  2%|▏         | 2/86 [00:00<00:36,  2.28it/s]\u001b[A\n",
      "  3%|▎         | 3/86 [00:01<00:35,  2.36it/s]\u001b[A\n",
      "  5%|▍         | 4/86 [00:01<00:35,  2.30it/s]\u001b[A\n",
      "  6%|▌         | 5/86 [00:02<00:33,  2.43it/s]\u001b[A\n",
      "  7%|▋         | 6/86 [00:02<00:31,  2.55it/s]\u001b[A\n",
      "  8%|▊         | 7/86 [00:02<00:30,  2.63it/s]\u001b[A\n",
      "  9%|▉         | 8/86 [00:03<00:29,  2.68it/s]\u001b[A\n",
      " 10%|█         | 9/86 [00:03<00:28,  2.70it/s]\u001b[A\n",
      " 12%|█▏        | 10/86 [00:03<00:28,  2.70it/s]\u001b[A\n",
      " 13%|█▎        | 11/86 [00:04<00:27,  2.68it/s]\u001b[A\n",
      " 14%|█▍        | 12/86 [00:04<00:27,  2.70it/s]\u001b[A\n",
      " 15%|█▌        | 13/86 [00:04<00:27,  2.67it/s]\u001b[A\n",
      " 16%|█▋        | 14/86 [00:05<00:26,  2.70it/s]\u001b[A\n",
      " 17%|█▋        | 15/86 [00:05<00:26,  2.72it/s]\u001b[A\n",
      " 19%|█▊        | 16/86 [00:06<00:25,  2.75it/s]\u001b[A\n",
      " 20%|█▉        | 17/86 [00:06<00:24,  2.77it/s]\u001b[A\n",
      " 21%|██        | 18/86 [00:06<00:24,  2.80it/s]\u001b[A\n",
      " 22%|██▏       | 19/86 [00:07<00:25,  2.65it/s]\u001b[A\n",
      " 23%|██▎       | 20/86 [00:07<00:24,  2.72it/s]\u001b[A\n",
      " 24%|██▍       | 21/86 [00:07<00:24,  2.68it/s]\u001b[A\n",
      " 26%|██▌       | 22/86 [00:08<00:24,  2.65it/s]\u001b[A\n",
      " 27%|██▋       | 23/86 [00:08<00:23,  2.69it/s]\u001b[A\n",
      " 28%|██▊       | 24/86 [00:08<00:22,  2.74it/s]\u001b[A\n",
      " 29%|██▉       | 25/86 [00:09<00:22,  2.67it/s]\u001b[A\n",
      " 30%|███       | 26/86 [00:09<00:22,  2.70it/s]\u001b[A\n",
      " 31%|███▏      | 27/86 [00:10<00:24,  2.44it/s]\u001b[A\n",
      " 33%|███▎      | 28/86 [00:10<00:23,  2.44it/s]\u001b[A\n",
      " 34%|███▎      | 29/86 [00:11<00:24,  2.34it/s]\u001b[A\n",
      " 35%|███▍      | 30/86 [00:11<00:24,  2.25it/s]\u001b[A\n",
      " 36%|███▌      | 31/86 [00:11<00:23,  2.36it/s]\u001b[A\n",
      " 37%|███▋      | 32/86 [00:12<00:24,  2.23it/s]\u001b[A\n",
      " 38%|███▊      | 33/86 [00:13<00:25,  2.09it/s]\u001b[A\n",
      " 40%|███▉      | 34/86 [00:13<00:23,  2.26it/s]\u001b[A\n",
      " 41%|████      | 35/86 [00:13<00:21,  2.40it/s]\u001b[A\n",
      " 42%|████▏     | 36/86 [00:14<00:19,  2.52it/s]\u001b[A\n",
      " 43%|████▎     | 37/86 [00:14<00:18,  2.61it/s]\u001b[A\n",
      " 44%|████▍     | 38/86 [00:14<00:18,  2.67it/s]\u001b[A\n",
      " 45%|████▌     | 39/86 [00:15<00:17,  2.70it/s]\u001b[A\n",
      " 47%|████▋     | 40/86 [00:15<00:16,  2.75it/s]\u001b[A\n",
      " 48%|████▊     | 41/86 [00:15<00:16,  2.77it/s]\u001b[A\n",
      " 49%|████▉     | 42/86 [00:16<00:15,  2.80it/s]\u001b[A\n",
      " 50%|█████     | 43/86 [00:16<00:15,  2.78it/s]\u001b[A\n",
      " 51%|█████     | 44/86 [00:16<00:15,  2.66it/s]\u001b[A\n",
      " 52%|█████▏    | 45/86 [00:17<00:15,  2.71it/s]\u001b[A\n",
      " 53%|█████▎    | 46/86 [00:17<00:14,  2.77it/s]\u001b[A\n",
      " 55%|█████▍    | 47/86 [00:18<00:14,  2.78it/s]\u001b[A\n",
      " 56%|█████▌    | 48/86 [00:18<00:13,  2.78it/s]\u001b[A\n",
      " 57%|█████▋    | 49/86 [00:18<00:13,  2.80it/s]\u001b[A\n",
      " 58%|█████▊    | 50/86 [00:19<00:13,  2.65it/s]\u001b[A\n",
      " 59%|█████▉    | 51/86 [00:19<00:13,  2.59it/s]\u001b[A\n",
      " 60%|██████    | 52/86 [00:19<00:13,  2.60it/s]\u001b[A\n",
      " 62%|██████▏   | 53/86 [00:20<00:12,  2.65it/s]\u001b[A\n",
      " 63%|██████▎   | 54/86 [00:20<00:11,  2.70it/s]\u001b[A\n",
      " 64%|██████▍   | 55/86 [00:21<00:11,  2.71it/s]\u001b[A\n",
      " 65%|██████▌   | 56/86 [00:21<00:11,  2.61it/s]\u001b[A\n",
      " 66%|██████▋   | 57/86 [00:21<00:11,  2.56it/s]\u001b[A\n",
      " 67%|██████▋   | 58/86 [00:22<00:10,  2.62it/s]\u001b[A\n",
      " 69%|██████▊   | 59/86 [00:22<00:10,  2.70it/s]\u001b[A\n",
      " 70%|██████▉   | 60/86 [00:22<00:09,  2.75it/s]\u001b[A\n",
      " 71%|███████   | 61/86 [00:23<00:09,  2.77it/s]\u001b[A\n",
      " 72%|███████▏  | 62/86 [00:23<00:08,  2.77it/s]\u001b[A\n",
      " 73%|███████▎  | 63/86 [00:24<00:08,  2.57it/s]\u001b[A\n",
      " 74%|███████▍  | 64/86 [00:24<00:08,  2.56it/s]\u001b[A\n",
      " 76%|███████▌  | 65/86 [00:24<00:08,  2.56it/s]\u001b[A\n",
      " 77%|███████▋  | 66/86 [00:25<00:07,  2.63it/s]\u001b[A\n",
      " 78%|███████▊  | 67/86 [00:25<00:07,  2.66it/s]\u001b[A\n",
      " 79%|███████▉  | 68/86 [00:25<00:06,  2.66it/s]\u001b[A\n",
      " 80%|████████  | 69/86 [00:26<00:06,  2.65it/s]\u001b[A\n",
      " 81%|████████▏ | 70/86 [00:26<00:06,  2.65it/s]\u001b[A\n",
      " 83%|████████▎ | 71/86 [00:27<00:05,  2.62it/s]\u001b[A\n",
      " 84%|████████▎ | 72/86 [00:27<00:05,  2.59it/s]\u001b[A\n",
      " 85%|████████▍ | 73/86 [00:27<00:05,  2.58it/s]\u001b[A\n",
      " 86%|████████▌ | 74/86 [00:28<00:04,  2.46it/s]\u001b[A\n",
      " 87%|████████▋ | 75/86 [00:28<00:04,  2.56it/s]\u001b[A\n",
      " 88%|████████▊ | 76/86 [00:29<00:03,  2.64it/s]\u001b[A\n",
      " 90%|████████▉ | 77/86 [00:29<00:03,  2.70it/s]\u001b[A\n",
      " 91%|█████████ | 78/86 [00:29<00:02,  2.75it/s]\u001b[A\n",
      " 92%|█████████▏| 79/86 [00:30<00:02,  2.78it/s]\u001b[A\n",
      " 93%|█████████▎| 80/86 [00:30<00:02,  2.80it/s]\u001b[A\n",
      " 94%|█████████▍| 81/86 [00:30<00:01,  2.71it/s]\u001b[A\n",
      " 95%|█████████▌| 82/86 [00:31<00:01,  2.75it/s]\u001b[A\n",
      " 97%|█████████▋| 83/86 [00:31<00:01,  2.73it/s]\u001b[A\n",
      " 98%|█████████▊| 84/86 [00:31<00:00,  2.73it/s]\u001b[A\n",
      " 99%|█████████▉| 85/86 [00:32<00:00,  2.73it/s]\u001b[A\n",
      "100%|██████████| 86/86 [00:32<00:00,  2.78it/s]\u001b[A\n",
      "  5%|▌         | 1/20 [00:32<10:20, 32.67s/it]\n",
      "  0%|          | 0/86 [00:00<?, ?it/s]\u001b[A\n",
      "  1%|          | 1/86 [00:00<00:30,  2.83it/s]\u001b[A\n",
      "  2%|▏         | 2/86 [00:00<00:29,  2.85it/s]\u001b[A\n",
      "  3%|▎         | 3/86 [00:01<00:29,  2.85it/s]\u001b[A\n",
      "  5%|▍         | 4/86 [00:01<00:32,  2.51it/s]\u001b[A\n",
      "  6%|▌         | 5/86 [00:02<00:34,  2.34it/s]\u001b[A\n",
      "  7%|▋         | 6/86 [00:02<00:35,  2.23it/s]\u001b[A\n",
      "  8%|▊         | 7/86 [00:02<00:34,  2.32it/s]\u001b[A\n",
      "  9%|▉         | 8/86 [00:03<00:31,  2.46it/s]\u001b[A\n",
      " 10%|█         | 9/86 [00:03<00:30,  2.56it/s]\u001b[A\n",
      " 12%|█▏        | 10/86 [00:04<00:30,  2.53it/s]\u001b[A\n",
      " 13%|█▎        | 11/86 [00:04<00:29,  2.54it/s]\u001b[A\n",
      " 14%|█▍        | 12/86 [00:04<00:28,  2.63it/s]\u001b[A\n",
      " 15%|█▌        | 13/86 [00:05<00:27,  2.69it/s]\u001b[A\n",
      " 16%|█▋        | 14/86 [00:05<00:26,  2.75it/s]\u001b[A\n",
      " 17%|█▋        | 15/86 [00:05<00:25,  2.80it/s]\u001b[A\n",
      " 19%|█▊        | 16/86 [00:06<00:26,  2.69it/s]\u001b[A\n",
      " 20%|█▉        | 17/86 [00:06<00:25,  2.74it/s]\u001b[A\n",
      " 21%|██        | 18/86 [00:06<00:24,  2.79it/s]\u001b[A\n",
      " 22%|██▏       | 19/86 [00:07<00:23,  2.82it/s]\u001b[A\n",
      " 23%|██▎       | 20/86 [00:07<00:23,  2.84it/s]\u001b[A\n",
      " 24%|██▍       | 21/86 [00:07<00:22,  2.83it/s]\u001b[A\n",
      " 26%|██▌       | 22/86 [00:08<00:22,  2.83it/s]\u001b[A\n",
      " 27%|██▋       | 23/86 [00:08<00:22,  2.85it/s]\u001b[A\n",
      " 28%|██▊       | 24/86 [00:09<00:21,  2.84it/s]\u001b[A\n",
      " 29%|██▉       | 25/86 [00:09<00:21,  2.85it/s]\u001b[A\n",
      " 30%|███       | 26/86 [00:09<00:21,  2.83it/s]\u001b[A\n",
      " 31%|███▏      | 27/86 [00:10<00:21,  2.75it/s]\u001b[A\n",
      " 33%|███▎      | 28/86 [00:10<00:22,  2.60it/s]\u001b[A\n",
      " 34%|███▎      | 29/86 [00:10<00:21,  2.63it/s]\u001b[A\n",
      " 35%|███▍      | 30/86 [00:11<00:23,  2.42it/s]\u001b[A\n",
      " 36%|███▌      | 31/86 [00:11<00:22,  2.43it/s]\u001b[A\n",
      " 37%|███▋      | 32/86 [00:12<00:22,  2.42it/s]\u001b[A\n",
      " 38%|███▊      | 33/86 [00:12<00:21,  2.52it/s]\u001b[A\n",
      " 40%|███▉      | 34/86 [00:12<00:19,  2.61it/s]\u001b[A\n",
      " 41%|████      | 35/86 [00:13<00:19,  2.68it/s]\u001b[A\n",
      " 42%|████▏     | 36/86 [00:13<00:18,  2.74it/s]\u001b[A\n",
      " 43%|████▎     | 37/86 [00:13<00:17,  2.77it/s]\u001b[A\n",
      " 44%|████▍     | 38/86 [00:14<00:17,  2.79it/s]\u001b[A\n",
      " 45%|████▌     | 39/86 [00:14<00:17,  2.65it/s]\u001b[A\n",
      " 47%|████▋     | 40/86 [00:15<00:17,  2.63it/s]\u001b[A\n",
      " 48%|████▊     | 41/86 [00:15<00:17,  2.60it/s]\u001b[A\n",
      " 49%|████▉     | 42/86 [00:15<00:16,  2.67it/s]\u001b[A\n",
      " 50%|█████     | 43/86 [00:16<00:15,  2.72it/s]\u001b[A\n",
      " 51%|█████     | 44/86 [00:16<00:15,  2.65it/s]\u001b[A\n",
      " 52%|█████▏    | 45/86 [00:17<00:15,  2.67it/s]\u001b[A\n",
      " 53%|█████▎    | 46/86 [00:17<00:15,  2.62it/s]\u001b[A\n",
      " 55%|█████▍    | 47/86 [00:17<00:14,  2.63it/s]\u001b[A\n",
      " 56%|█████▌    | 48/86 [00:18<00:14,  2.64it/s]\u001b[A\n",
      " 57%|█████▋    | 49/86 [00:18<00:13,  2.64it/s]\u001b[A\n",
      " 58%|█████▊    | 50/86 [00:18<00:14,  2.53it/s]\u001b[A\n",
      " 59%|█████▉    | 51/86 [00:19<00:14,  2.49it/s]\u001b[A\n",
      " 60%|██████    | 52/86 [00:19<00:15,  2.25it/s]\u001b[A\n",
      " 62%|██████▏   | 53/86 [00:20<00:14,  2.22it/s]\u001b[A\n",
      " 63%|██████▎   | 54/86 [00:20<00:13,  2.34it/s]\u001b[A\n",
      " 64%|██████▍   | 55/86 [00:21<00:12,  2.45it/s]\u001b[A\n",
      " 65%|██████▌   | 56/86 [00:21<00:11,  2.54it/s]\u001b[A\n",
      " 66%|██████▋   | 57/86 [00:21<00:11,  2.58it/s]\u001b[A\n",
      " 67%|██████▋   | 58/86 [00:22<00:10,  2.59it/s]\u001b[A\n",
      " 69%|██████▊   | 59/86 [00:22<00:10,  2.52it/s]\u001b[A\n",
      " 70%|██████▉   | 60/86 [00:23<00:10,  2.58it/s]\u001b[A\n",
      " 71%|███████   | 61/86 [00:23<00:09,  2.65it/s]\u001b[A\n",
      " 72%|███████▏  | 62/86 [00:23<00:09,  2.60it/s]\u001b[A\n",
      " 73%|███████▎  | 63/86 [00:24<00:09,  2.35it/s]\u001b[A\n",
      " 74%|███████▍  | 64/86 [00:24<00:08,  2.45it/s]\u001b[A\n",
      " 76%|███████▌  | 65/86 [00:25<00:08,  2.54it/s]\u001b[A\n",
      " 77%|███████▋  | 66/86 [00:25<00:07,  2.61it/s]\u001b[A\n",
      " 78%|███████▊  | 67/86 [00:25<00:07,  2.51it/s]\u001b[A\n",
      " 79%|███████▉  | 68/86 [00:26<00:07,  2.49it/s]\u001b[A\n",
      " 80%|████████  | 69/86 [00:26<00:07,  2.25it/s]\u001b[A\n",
      " 81%|████████▏ | 70/86 [00:27<00:06,  2.29it/s]\u001b[A\n",
      " 83%|████████▎ | 71/86 [00:27<00:06,  2.43it/s]\u001b[A\n",
      " 84%|████████▎ | 72/86 [00:27<00:05,  2.45it/s]\u001b[A\n",
      " 85%|████████▍ | 73/86 [00:28<00:05,  2.49it/s]\u001b[A\n",
      " 86%|████████▌ | 74/86 [00:28<00:04,  2.45it/s]\u001b[A\n",
      " 87%|████████▋ | 75/86 [00:29<00:04,  2.39it/s]\u001b[A\n",
      " 88%|████████▊ | 76/86 [00:29<00:04,  2.50it/s]\u001b[A\n",
      " 90%|████████▉ | 77/86 [00:29<00:03,  2.58it/s]\u001b[A\n",
      " 91%|█████████ | 78/86 [00:30<00:03,  2.61it/s]\u001b[A\n",
      " 92%|█████████▏| 79/86 [00:30<00:02,  2.64it/s]\u001b[A\n",
      " 93%|█████████▎| 80/86 [00:31<00:02,  2.69it/s]\u001b[A\n",
      " 94%|█████████▍| 81/86 [00:31<00:01,  2.64it/s]\u001b[A\n",
      " 95%|█████████▌| 82/86 [00:31<00:01,  2.70it/s]\u001b[A\n",
      " 97%|█████████▋| 83/86 [00:32<00:01,  2.71it/s]\u001b[A\n",
      " 98%|█████████▊| 84/86 [00:32<00:00,  2.76it/s]\u001b[A\n",
      " 99%|█████████▉| 85/86 [00:32<00:00,  2.79it/s]\u001b[A\n",
      "100%|██████████| 86/86 [00:33<00:00,  2.79it/s]\u001b[A\n",
      " 10%|█         | 2/20 [01:05<09:51, 32.83s/it]\n",
      "  0%|          | 0/86 [00:00<?, ?it/s]\u001b[A\n",
      "  1%|          | 1/86 [00:00<00:36,  2.36it/s]\u001b[A\n",
      "  2%|▏         | 2/86 [00:00<00:33,  2.48it/s]\u001b[A\n",
      "  3%|▎         | 3/86 [00:01<00:32,  2.57it/s]\u001b[A\n",
      "  5%|▍         | 4/86 [00:01<00:31,  2.61it/s]\u001b[A\n",
      "  6%|▌         | 5/86 [00:01<00:30,  2.67it/s]\u001b[A\n",
      "  7%|▋         | 6/86 [00:02<00:29,  2.72it/s]\u001b[A\n",
      "  8%|▊         | 7/86 [00:02<00:28,  2.75it/s]\u001b[A\n",
      "  9%|▉         | 8/86 [00:02<00:28,  2.77it/s]\u001b[A\n",
      " 10%|█         | 9/86 [00:03<00:29,  2.63it/s]\u001b[A\n",
      " 12%|█▏        | 10/86 [00:03<00:30,  2.49it/s]\u001b[A\n",
      " 13%|█▎        | 11/86 [00:04<00:31,  2.35it/s]\u001b[A\n",
      " 14%|█▍        | 12/86 [00:04<00:33,  2.23it/s]\u001b[A\n",
      " 15%|█▌        | 13/86 [00:05<00:31,  2.35it/s]\u001b[A\n",
      " 16%|█▋        | 14/86 [00:05<00:29,  2.48it/s]\u001b[A\n",
      " 17%|█▋        | 15/86 [00:05<00:27,  2.58it/s]\u001b[A\n",
      " 19%|█▊        | 16/86 [00:06<00:26,  2.64it/s]\u001b[A\n",
      " 20%|█▉        | 17/86 [00:06<00:26,  2.57it/s]\u001b[A\n",
      " 21%|██        | 18/86 [00:07<00:26,  2.55it/s]\u001b[A\n",
      " 22%|██▏       | 19/86 [00:07<00:25,  2.62it/s]\u001b[A\n",
      " 23%|██▎       | 20/86 [00:07<00:24,  2.68it/s]\u001b[A\n",
      " 24%|██▍       | 21/86 [00:08<00:23,  2.71it/s]\u001b[A\n",
      " 26%|██▌       | 22/86 [00:08<00:23,  2.72it/s]\u001b[A\n",
      " 27%|██▋       | 23/86 [00:08<00:22,  2.75it/s]\u001b[A\n",
      " 28%|██▊       | 24/86 [00:09<00:22,  2.71it/s]\u001b[A\n",
      " 29%|██▉       | 25/86 [00:09<00:23,  2.61it/s]\u001b[A\n",
      " 30%|███       | 26/86 [00:10<00:23,  2.59it/s]\u001b[A\n",
      " 31%|███▏      | 27/86 [00:10<00:22,  2.66it/s]\u001b[A\n",
      " 33%|███▎      | 28/86 [00:10<00:22,  2.53it/s]\u001b[A\n",
      " 34%|███▎      | 29/86 [00:11<00:22,  2.56it/s]\u001b[A\n",
      " 35%|███▍      | 30/86 [00:11<00:22,  2.51it/s]\u001b[A\n",
      " 36%|███▌      | 31/86 [00:11<00:21,  2.53it/s]\u001b[A\n",
      " 37%|███▋      | 32/86 [00:12<00:21,  2.48it/s]\u001b[A\n",
      " 38%|███▊      | 33/86 [00:12<00:22,  2.36it/s]\u001b[A\n",
      " 40%|███▉      | 34/86 [00:13<00:21,  2.46it/s]\u001b[A\n",
      " 41%|████      | 35/86 [00:13<00:20,  2.54it/s]\u001b[A\n",
      " 42%|████▏     | 36/86 [00:13<00:19,  2.59it/s]\u001b[A\n",
      " 43%|████▎     | 37/86 [00:14<00:18,  2.67it/s]\u001b[A\n",
      " 44%|████▍     | 38/86 [00:14<00:18,  2.65it/s]\u001b[A\n",
      " 45%|████▌     | 39/86 [00:15<00:17,  2.72it/s]\u001b[A\n",
      " 47%|████▋     | 40/86 [00:15<00:18,  2.55it/s]\u001b[A\n",
      " 48%|████▊     | 41/86 [00:15<00:17,  2.56it/s]\u001b[A\n",
      " 49%|████▉     | 42/86 [00:16<00:17,  2.53it/s]\u001b[A\n",
      " 50%|█████     | 43/86 [00:16<00:17,  2.49it/s]\u001b[A\n",
      " 51%|█████     | 44/86 [00:17<00:16,  2.50it/s]\u001b[A\n",
      " 52%|█████▏    | 45/86 [00:17<00:16,  2.51it/s]\u001b[A\n",
      " 53%|█████▎    | 46/86 [00:17<00:15,  2.53it/s]\u001b[A\n",
      " 55%|█████▍    | 47/86 [00:18<00:15,  2.57it/s]\u001b[A\n",
      " 56%|█████▌    | 48/86 [00:18<00:14,  2.66it/s]\u001b[A\n",
      " 57%|█████▋    | 49/86 [00:19<00:14,  2.62it/s]\u001b[A\n",
      " 58%|█████▊    | 50/86 [00:19<00:13,  2.69it/s]\u001b[A\n",
      " 59%|█████▉    | 51/86 [00:19<00:12,  2.71it/s]\u001b[A\n",
      " 60%|██████    | 52/86 [00:20<00:12,  2.64it/s]\u001b[A\n",
      " 62%|██████▏   | 53/86 [00:20<00:12,  2.64it/s]\u001b[A\n",
      " 63%|██████▎   | 54/86 [00:20<00:11,  2.70it/s]\u001b[A\n",
      " 64%|██████▍   | 55/86 [00:21<00:11,  2.72it/s]\u001b[A\n",
      " 65%|██████▌   | 56/86 [00:21<00:10,  2.74it/s]\u001b[A\n",
      " 66%|██████▋   | 57/86 [00:21<00:10,  2.74it/s]\u001b[A\n",
      " 67%|██████▋   | 58/86 [00:22<00:10,  2.55it/s]\u001b[A\n",
      " 69%|██████▊   | 59/86 [00:22<00:10,  2.54it/s]\u001b[A\n",
      " 70%|██████▉   | 60/86 [00:23<00:09,  2.63it/s]\u001b[A\n",
      " 71%|███████   | 61/86 [00:23<00:09,  2.65it/s]\u001b[A\n",
      " 72%|███████▏  | 62/86 [00:23<00:09,  2.60it/s]\u001b[A\n",
      " 73%|███████▎  | 63/86 [00:24<00:08,  2.59it/s]\u001b[A\n",
      " 74%|███████▍  | 64/86 [00:24<00:08,  2.61it/s]\u001b[A\n",
      " 76%|███████▌  | 65/86 [00:25<00:07,  2.64it/s]\u001b[A\n",
      " 77%|███████▋  | 66/86 [00:25<00:07,  2.70it/s]\u001b[A\n",
      " 78%|███████▊  | 67/86 [00:25<00:06,  2.75it/s]\u001b[A\n",
      " 79%|███████▉  | 68/86 [00:26<00:06,  2.76it/s]\u001b[A\n",
      " 80%|████████  | 69/86 [00:26<00:06,  2.70it/s]\u001b[A\n",
      " 81%|████████▏ | 70/86 [00:26<00:05,  2.74it/s]\u001b[A\n",
      " 83%|████████▎ | 71/86 [00:27<00:05,  2.77it/s]\u001b[A\n",
      " 84%|████████▎ | 72/86 [00:27<00:05,  2.78it/s]\u001b[A\n",
      " 85%|████████▍ | 73/86 [00:27<00:04,  2.60it/s]\u001b[A\n",
      " 86%|████████▌ | 74/86 [00:28<00:05,  2.28it/s]\u001b[A\n",
      " 87%|████████▋ | 75/86 [00:29<00:05,  2.18it/s]\u001b[A\n",
      " 88%|████████▊ | 76/86 [00:29<00:04,  2.25it/s]\u001b[A\n",
      " 90%|████████▉ | 77/86 [00:29<00:03,  2.38it/s]\u001b[A\n",
      " 91%|█████████ | 78/86 [00:30<00:03,  2.52it/s]\u001b[A\n",
      " 92%|█████████▏| 79/86 [00:30<00:02,  2.62it/s]\u001b[A\n",
      " 93%|█████████▎| 80/86 [00:30<00:02,  2.60it/s]\u001b[A\n",
      " 94%|█████████▍| 81/86 [00:31<00:01,  2.50it/s]\u001b[A\n",
      " 95%|█████████▌| 82/86 [00:31<00:01,  2.60it/s]\u001b[A\n",
      " 97%|█████████▋| 83/86 [00:32<00:01,  2.67it/s]\u001b[A\n",
      " 98%|█████████▊| 84/86 [00:32<00:00,  2.74it/s]\u001b[A\n",
      " 99%|█████████▉| 85/86 [00:32<00:00,  2.75it/s]\u001b[A\n",
      "100%|██████████| 86/86 [00:33<00:00,  2.65it/s]\u001b[A\n",
      " 15%|█▌        | 3/20 [01:39<09:19, 32.94s/it]\n",
      "  0%|          | 0/86 [00:00<?, ?it/s]\u001b[A\n",
      "  1%|          | 1/86 [00:00<00:34,  2.49it/s]\u001b[A\n",
      "  2%|▏         | 2/86 [00:00<00:34,  2.45it/s]\u001b[A\n",
      "  3%|▎         | 3/86 [00:01<00:36,  2.28it/s]\u001b[A\n",
      "  5%|▍         | 4/86 [00:01<00:34,  2.40it/s]\u001b[A\n",
      "  6%|▌         | 5/86 [00:02<00:32,  2.52it/s]\u001b[A\n",
      "  7%|▋         | 6/86 [00:02<00:30,  2.62it/s]\u001b[A\n",
      "  8%|▊         | 7/86 [00:02<00:29,  2.69it/s]\u001b[A\n",
      "  9%|▉         | 8/86 [00:03<00:29,  2.62it/s]\u001b[A\n",
      " 10%|█         | 9/86 [00:03<00:30,  2.53it/s]\u001b[A\n",
      " 12%|█▏        | 10/86 [00:03<00:29,  2.54it/s]\u001b[A\n",
      " 13%|█▎        | 11/86 [00:04<00:28,  2.63it/s]\u001b[A\n",
      " 14%|█▍        | 12/86 [00:04<00:28,  2.57it/s]\u001b[A\n",
      " 15%|█▌        | 13/86 [00:05<00:28,  2.57it/s]\u001b[A\n",
      " 16%|█▋        | 14/86 [00:05<00:27,  2.65it/s]\u001b[A\n",
      " 17%|█▋        | 15/86 [00:05<00:26,  2.70it/s]\u001b[A\n",
      " 19%|█▊        | 16/86 [00:06<00:25,  2.74it/s]\u001b[A\n",
      " 20%|█▉        | 17/86 [00:06<00:26,  2.65it/s]\u001b[A\n",
      " 21%|██        | 18/86 [00:06<00:25,  2.71it/s]\u001b[A\n",
      " 22%|██▏       | 19/86 [00:07<00:26,  2.55it/s]\u001b[A\n",
      " 23%|██▎       | 20/86 [00:07<00:25,  2.59it/s]\u001b[A\n",
      " 24%|██▍       | 21/86 [00:08<00:24,  2.66it/s]\u001b[A\n",
      " 26%|██▌       | 22/86 [00:08<00:23,  2.71it/s]\u001b[A\n",
      " 27%|██▋       | 23/86 [00:08<00:24,  2.56it/s]\u001b[A\n",
      " 28%|██▊       | 24/86 [00:09<00:25,  2.47it/s]\u001b[A\n",
      " 29%|██▉       | 25/86 [00:09<00:23,  2.57it/s]\u001b[A\n",
      " 30%|███       | 26/86 [00:10<00:22,  2.63it/s]\u001b[A\n",
      " 31%|███▏      | 27/86 [00:10<00:21,  2.69it/s]\u001b[A\n",
      " 33%|███▎      | 28/86 [00:10<00:22,  2.63it/s]\u001b[A\n",
      " 34%|███▎      | 29/86 [00:11<00:21,  2.62it/s]\u001b[A\n",
      " 35%|███▍      | 30/86 [00:11<00:21,  2.60it/s]\u001b[A\n",
      " 36%|███▌      | 31/86 [00:11<00:20,  2.67it/s]\u001b[A\n",
      " 37%|███▋      | 32/86 [00:12<00:20,  2.69it/s]\u001b[A\n",
      " 38%|███▊      | 33/86 [00:12<00:19,  2.72it/s]\u001b[A\n",
      " 40%|███▉      | 34/86 [00:13<00:19,  2.70it/s]\u001b[A\n",
      " 41%|████      | 35/86 [00:13<00:18,  2.73it/s]\u001b[A\n",
      " 42%|████▏     | 36/86 [00:13<00:19,  2.60it/s]\u001b[A\n",
      " 43%|████▎     | 37/86 [00:14<00:18,  2.65it/s]\u001b[A\n",
      " 44%|████▍     | 38/86 [00:14<00:17,  2.71it/s]\u001b[A\n",
      " 45%|████▌     | 39/86 [00:14<00:17,  2.65it/s]\u001b[A\n",
      " 47%|████▋     | 40/86 [00:15<00:16,  2.71it/s]\u001b[A\n",
      " 48%|████▊     | 41/86 [00:15<00:16,  2.76it/s]\u001b[A\n",
      " 49%|████▉     | 42/86 [00:15<00:16,  2.73it/s]\u001b[A\n",
      " 50%|█████     | 43/86 [00:16<00:15,  2.77it/s]\u001b[A\n",
      " 51%|█████     | 44/86 [00:16<00:15,  2.78it/s]\u001b[A\n",
      " 52%|█████▏    | 45/86 [00:17<00:15,  2.71it/s]\u001b[A\n",
      " 53%|█████▎    | 46/86 [00:17<00:14,  2.74it/s]\u001b[A\n",
      " 55%|█████▍    | 47/86 [00:17<00:14,  2.71it/s]\u001b[A\n",
      " 56%|█████▌    | 48/86 [00:18<00:13,  2.76it/s]\u001b[A\n",
      " 57%|█████▋    | 49/86 [00:18<00:14,  2.59it/s]\u001b[A\n",
      " 58%|█████▊    | 50/86 [00:18<00:13,  2.68it/s]\u001b[A\n",
      " 59%|█████▉    | 51/86 [00:19<00:12,  2.73it/s]\u001b[A\n",
      " 60%|██████    | 52/86 [00:19<00:12,  2.72it/s]\u001b[A\n",
      " 62%|██████▏   | 53/86 [00:20<00:11,  2.76it/s]\u001b[A\n",
      " 63%|██████▎   | 54/86 [00:20<00:11,  2.77it/s]\u001b[A\n",
      " 64%|██████▍   | 55/86 [00:20<00:11,  2.80it/s]\u001b[A\n",
      " 65%|██████▌   | 56/86 [00:21<00:10,  2.82it/s]\u001b[A\n",
      " 66%|██████▋   | 57/86 [00:21<00:10,  2.81it/s]\u001b[A\n",
      " 67%|██████▋   | 58/86 [00:21<00:10,  2.63it/s]\u001b[A\n",
      " 69%|██████▊   | 59/86 [00:22<00:10,  2.64it/s]\u001b[A\n",
      " 70%|██████▉   | 60/86 [00:22<00:10,  2.46it/s]\u001b[A\n",
      " 71%|███████   | 61/86 [00:23<00:10,  2.35it/s]\u001b[A\n",
      " 72%|███████▏  | 62/86 [00:23<00:09,  2.49it/s]\u001b[A\n",
      " 73%|███████▎  | 63/86 [00:23<00:09,  2.55it/s]\u001b[A\n",
      " 74%|███████▍  | 64/86 [00:24<00:08,  2.59it/s]\u001b[A\n",
      " 76%|███████▌  | 65/86 [00:24<00:08,  2.60it/s]\u001b[A\n",
      " 77%|███████▋  | 66/86 [00:25<00:07,  2.61it/s]\u001b[A\n",
      " 78%|███████▊  | 67/86 [00:25<00:07,  2.68it/s]\u001b[A\n",
      " 79%|███████▉  | 68/86 [00:25<00:06,  2.73it/s]\u001b[A\n",
      " 80%|████████  | 69/86 [00:26<00:06,  2.69it/s]\u001b[A\n",
      " 81%|████████▏ | 70/86 [00:26<00:06,  2.51it/s]\u001b[A\n",
      " 83%|████████▎ | 71/86 [00:26<00:05,  2.55it/s]\u001b[A\n",
      " 84%|████████▎ | 72/86 [00:27<00:05,  2.58it/s]\u001b[A\n",
      " 85%|████████▍ | 73/86 [00:27<00:04,  2.66it/s]\u001b[A\n",
      " 86%|████████▌ | 74/86 [00:28<00:04,  2.63it/s]\u001b[A\n",
      " 87%|████████▋ | 75/86 [00:28<00:04,  2.59it/s]\u001b[A\n",
      " 88%|████████▊ | 76/86 [00:28<00:03,  2.64it/s]\u001b[A\n",
      " 90%|████████▉ | 77/86 [00:29<00:03,  2.71it/s]\u001b[A\n",
      " 91%|█████████ | 78/86 [00:29<00:02,  2.73it/s]\u001b[A\n",
      " 92%|█████████▏| 79/86 [00:29<00:02,  2.61it/s]\u001b[A\n",
      " 93%|█████████▎| 80/86 [00:30<00:02,  2.59it/s]\u001b[A\n",
      " 94%|█████████▍| 81/86 [00:30<00:01,  2.54it/s]\u001b[A\n",
      " 95%|█████████▌| 82/86 [00:31<00:01,  2.62it/s]\u001b[A\n",
      " 97%|█████████▋| 83/86 [00:31<00:01,  2.65it/s]\u001b[A\n",
      " 98%|█████████▊| 84/86 [00:31<00:00,  2.62it/s]\u001b[A\n",
      " 99%|█████████▉| 85/86 [00:32<00:00,  2.55it/s]\u001b[A\n",
      "100%|██████████| 86/86 [00:32<00:00,  2.54it/s]\u001b[A\n",
      " 20%|██        | 4/20 [02:11<08:45, 32.87s/it]\n",
      "  0%|          | 0/86 [00:00<?, ?it/s]\u001b[A\n",
      "  1%|          | 1/86 [00:00<00:31,  2.69it/s]\u001b[A\n",
      "  2%|▏         | 2/86 [00:00<00:30,  2.75it/s]\u001b[A\n",
      "  3%|▎         | 3/86 [00:01<00:30,  2.72it/s]\u001b[A\n",
      "  5%|▍         | 4/86 [00:01<00:32,  2.51it/s]\u001b[A\n",
      "  6%|▌         | 5/86 [00:02<00:34,  2.33it/s]\u001b[A\n",
      "  7%|▋         | 6/86 [00:02<00:34,  2.31it/s]\u001b[A\n",
      "  8%|▊         | 7/86 [00:02<00:35,  2.26it/s]\u001b[A\n",
      "  9%|▉         | 8/86 [00:03<00:35,  2.21it/s]\u001b[A\n",
      " 10%|█         | 9/86 [00:03<00:35,  2.20it/s]\u001b[A\n",
      " 12%|█▏        | 10/86 [00:04<00:33,  2.24it/s]\u001b[A\n",
      " 13%|█▎        | 11/86 [00:04<00:33,  2.26it/s]\u001b[A\n",
      " 14%|█▍        | 12/86 [00:05<00:32,  2.31it/s]\u001b[A\n",
      " 15%|█▌        | 13/86 [00:05<00:30,  2.37it/s]\u001b[A\n",
      " 16%|█▋        | 14/86 [00:06<00:31,  2.26it/s]\u001b[A\n",
      " 17%|█▋        | 15/86 [00:06<00:30,  2.35it/s]\u001b[A\n",
      " 19%|█▊        | 16/86 [00:06<00:28,  2.48it/s]\u001b[A\n",
      " 20%|█▉        | 17/86 [00:07<00:26,  2.58it/s]\u001b[A\n",
      " 21%|██        | 18/86 [00:07<00:26,  2.61it/s]\u001b[A\n",
      " 22%|██▏       | 19/86 [00:07<00:25,  2.61it/s]\u001b[A\n",
      " 23%|██▎       | 20/86 [00:08<00:25,  2.64it/s]\u001b[A\n",
      " 24%|██▍       | 21/86 [00:08<00:24,  2.61it/s]\u001b[A\n",
      " 26%|██▌       | 22/86 [00:09<00:25,  2.55it/s]\u001b[A\n",
      " 27%|██▋       | 23/86 [00:09<00:23,  2.64it/s]\u001b[A\n",
      " 28%|██▊       | 24/86 [00:09<00:22,  2.71it/s]\u001b[A\n",
      " 29%|██▉       | 25/86 [00:10<00:22,  2.74it/s]\u001b[A\n",
      " 30%|███       | 26/86 [00:10<00:22,  2.66it/s]\u001b[A\n",
      " 31%|███▏      | 27/86 [00:10<00:21,  2.70it/s]\u001b[A\n",
      " 33%|███▎      | 28/86 [00:11<00:21,  2.71it/s]\u001b[A\n",
      " 34%|███▎      | 29/86 [00:11<00:20,  2.74it/s]\u001b[A\n",
      " 35%|███▍      | 30/86 [00:11<00:20,  2.76it/s]\u001b[A\n",
      " 36%|███▌      | 31/86 [00:12<00:20,  2.74it/s]\u001b[A\n",
      " 37%|███▋      | 32/86 [00:12<00:19,  2.77it/s]\u001b[A\n",
      " 38%|███▊      | 33/86 [00:13<00:19,  2.65it/s]\u001b[A\n",
      " 40%|███▉      | 34/86 [00:13<00:19,  2.62it/s]\u001b[A\n",
      " 41%|████      | 35/86 [00:13<00:19,  2.60it/s]\u001b[A\n",
      " 42%|████▏     | 36/86 [00:14<00:20,  2.47it/s]\u001b[A\n",
      " 43%|████▎     | 37/86 [00:14<00:19,  2.48it/s]\u001b[A\n",
      " 44%|████▍     | 38/86 [00:15<00:18,  2.56it/s]\u001b[A\n",
      " 45%|████▌     | 39/86 [00:15<00:18,  2.55it/s]\u001b[A\n",
      " 47%|████▋     | 40/86 [00:15<00:17,  2.62it/s]\u001b[A\n",
      " 48%|████▊     | 41/86 [00:16<00:16,  2.66it/s]\u001b[A\n",
      " 49%|████▉     | 42/86 [00:16<00:16,  2.66it/s]\u001b[A\n",
      " 50%|█████     | 43/86 [00:17<00:16,  2.59it/s]\u001b[A\n",
      " 51%|█████     | 44/86 [00:17<00:17,  2.42it/s]\u001b[A\n",
      " 52%|█████▏    | 45/86 [00:18<00:19,  2.10it/s]\u001b[A\n",
      " 53%|█████▎    | 46/86 [00:18<00:20,  1.96it/s]\u001b[A\n",
      " 55%|█████▍    | 47/86 [00:19<00:19,  1.98it/s]\u001b[A\n",
      " 56%|█████▌    | 48/86 [00:19<00:18,  2.04it/s]\u001b[A\n",
      " 57%|█████▋    | 49/86 [00:20<00:18,  1.99it/s]\u001b[A\n",
      " 58%|█████▊    | 50/86 [00:20<00:16,  2.15it/s]\u001b[A\n",
      " 59%|█████▉    | 51/86 [00:21<00:16,  2.16it/s]\u001b[A\n",
      " 60%|██████    | 52/86 [00:21<00:16,  2.08it/s]\u001b[A\n",
      " 62%|██████▏   | 53/86 [00:22<00:16,  2.04it/s]\u001b[A\n",
      " 63%|██████▎   | 54/86 [00:22<00:14,  2.14it/s]\u001b[A\n",
      " 64%|██████▍   | 55/86 [00:23<00:15,  2.04it/s]\u001b[A\n",
      " 65%|██████▌   | 56/86 [00:23<00:17,  1.74it/s]\u001b[A\n",
      " 66%|██████▋   | 57/86 [00:24<00:15,  1.85it/s]\u001b[A\n",
      " 67%|██████▋   | 58/86 [00:24<00:14,  1.99it/s]\u001b[A\n",
      " 69%|██████▊   | 59/86 [00:25<00:13,  2.01it/s]\u001b[A\n",
      " 70%|██████▉   | 60/86 [00:25<00:12,  2.09it/s]\u001b[A\n",
      " 71%|███████   | 61/86 [00:26<00:12,  2.00it/s]\u001b[A\n",
      " 72%|███████▏  | 62/86 [00:26<00:11,  2.04it/s]\u001b[A\n",
      " 73%|███████▎  | 63/86 [00:27<00:10,  2.10it/s]\u001b[A\n",
      " 74%|███████▍  | 64/86 [00:27<00:10,  2.10it/s]\u001b[A\n",
      " 76%|███████▌  | 65/86 [00:27<00:09,  2.20it/s]\u001b[A\n",
      " 77%|███████▋  | 66/86 [00:28<00:08,  2.25it/s]\u001b[A\n",
      " 78%|███████▊  | 67/86 [00:28<00:08,  2.27it/s]\u001b[A\n",
      " 79%|███████▉  | 68/86 [00:29<00:08,  2.11it/s]\u001b[A\n",
      " 80%|████████  | 69/86 [00:29<00:07,  2.14it/s]\u001b[A\n",
      " 81%|████████▏ | 70/86 [00:30<00:08,  1.98it/s]\u001b[A\n",
      " 83%|████████▎ | 71/86 [00:30<00:08,  1.85it/s]\u001b[A\n",
      " 84%|████████▎ | 72/86 [00:31<00:07,  1.86it/s]\u001b[A\n",
      " 85%|████████▍ | 73/86 [00:32<00:07,  1.71it/s]\u001b[A\n",
      " 86%|████████▌ | 74/86 [00:32<00:07,  1.68it/s]\u001b[A\n",
      " 87%|████████▋ | 75/86 [00:33<00:06,  1.71it/s]\u001b[A\n",
      " 88%|████████▊ | 76/86 [00:33<00:05,  1.81it/s]\u001b[A\n",
      " 90%|████████▉ | 77/86 [00:34<00:04,  2.01it/s]\u001b[A\n",
      " 91%|█████████ | 78/86 [00:34<00:03,  2.12it/s]\u001b[A\n",
      " 92%|█████████▏| 79/86 [00:35<00:03,  2.08it/s]\u001b[A\n",
      " 93%|█████████▎| 80/86 [00:35<00:02,  2.14it/s]\u001b[A\n",
      " 94%|█████████▍| 81/86 [00:36<00:02,  2.01it/s]\u001b[A\n",
      " 95%|█████████▌| 82/86 [00:36<00:02,  1.98it/s]\u001b[A\n",
      " 97%|█████████▋| 83/86 [00:37<00:01,  2.01it/s]\u001b[A\n",
      " 98%|█████████▊| 84/86 [00:37<00:00,  2.10it/s]\u001b[A\n",
      " 99%|█████████▉| 85/86 [00:37<00:00,  2.20it/s]\u001b[A\n",
      "100%|██████████| 86/86 [00:38<00:00,  2.34it/s]\u001b[A\n",
      " 25%|██▌       | 5/20 [02:50<08:37, 34.51s/it]\n",
      "  0%|          | 0/86 [00:00<?, ?it/s]\u001b[A\n",
      "  1%|          | 1/86 [00:00<00:32,  2.62it/s]\u001b[A\n",
      "  2%|▏         | 2/86 [00:00<00:36,  2.33it/s]\u001b[A\n",
      "  3%|▎         | 3/86 [00:01<00:34,  2.38it/s]\u001b[A\n",
      "  5%|▍         | 4/86 [00:01<00:34,  2.38it/s]\u001b[A\n",
      "  6%|▌         | 5/86 [00:02<00:33,  2.43it/s]\u001b[A\n",
      "  7%|▋         | 6/86 [00:02<00:32,  2.47it/s]\u001b[A\n",
      "  8%|▊         | 7/86 [00:02<00:31,  2.51it/s]\u001b[A\n",
      "  9%|▉         | 8/86 [00:03<00:30,  2.57it/s]\u001b[A\n",
      " 10%|█         | 9/86 [00:03<00:29,  2.57it/s]\u001b[A\n",
      " 12%|█▏        | 10/86 [00:04<00:29,  2.59it/s]\u001b[A\n",
      " 13%|█▎        | 11/86 [00:04<00:28,  2.63it/s]\u001b[A\n",
      " 14%|█▍        | 12/86 [00:04<00:28,  2.60it/s]\u001b[A\n",
      " 15%|█▌        | 13/86 [00:05<00:27,  2.62it/s]\u001b[A\n",
      " 16%|█▋        | 14/86 [00:05<00:29,  2.41it/s]\u001b[A\n",
      " 17%|█▋        | 15/86 [00:06<00:28,  2.49it/s]\u001b[A\n",
      " 19%|█▊        | 16/86 [00:06<00:27,  2.51it/s]\u001b[A\n",
      " 20%|█▉        | 17/86 [00:06<00:27,  2.55it/s]\u001b[A\n",
      " 21%|██        | 18/86 [00:07<00:26,  2.60it/s]\u001b[A\n",
      " 22%|██▏       | 19/86 [00:07<00:25,  2.63it/s]\u001b[A\n",
      " 23%|██▎       | 20/86 [00:07<00:25,  2.63it/s]\u001b[A\n",
      " 24%|██▍       | 21/86 [00:08<00:24,  2.61it/s]\u001b[A\n",
      " 26%|██▌       | 22/86 [00:08<00:24,  2.62it/s]\u001b[A\n",
      " 27%|██▋       | 23/86 [00:09<00:24,  2.52it/s]\u001b[A\n",
      " 28%|██▊       | 24/86 [00:09<00:26,  2.31it/s]\u001b[A\n",
      " 29%|██▉       | 25/86 [00:10<00:28,  2.17it/s]\u001b[A\n",
      " 30%|███       | 26/86 [00:10<00:28,  2.07it/s]\u001b[A\n",
      " 31%|███▏      | 27/86 [00:11<00:28,  2.06it/s]\u001b[A\n",
      " 33%|███▎      | 28/86 [00:11<00:28,  2.02it/s]\u001b[A\n",
      " 34%|███▎      | 29/86 [00:12<00:27,  2.07it/s]\u001b[A\n",
      " 35%|███▍      | 30/86 [00:12<00:25,  2.16it/s]\u001b[A\n",
      " 36%|███▌      | 31/86 [00:13<00:24,  2.22it/s]\u001b[A\n",
      " 37%|███▋      | 32/86 [00:13<00:25,  2.12it/s]\u001b[A\n",
      " 38%|███▊      | 33/86 [00:13<00:24,  2.14it/s]\u001b[A\n",
      " 40%|███▉      | 34/86 [00:14<00:25,  2.06it/s]\u001b[A\n",
      " 41%|████      | 35/86 [00:14<00:24,  2.10it/s]\u001b[A\n",
      " 42%|████▏     | 36/86 [00:15<00:22,  2.24it/s]\u001b[A\n",
      " 43%|████▎     | 37/86 [00:15<00:20,  2.39it/s]\u001b[A\n",
      " 44%|████▍     | 38/86 [00:16<00:19,  2.50it/s]\u001b[A\n",
      " 45%|████▌     | 39/86 [00:16<00:18,  2.52it/s]\u001b[A\n",
      " 47%|████▋     | 40/86 [00:16<00:19,  2.33it/s]\u001b[A\n",
      " 48%|████▊     | 41/86 [00:17<00:19,  2.27it/s]\u001b[A\n",
      " 49%|████▉     | 42/86 [00:17<00:18,  2.33it/s]\u001b[A\n",
      " 50%|█████     | 43/86 [00:18<00:18,  2.35it/s]\u001b[A\n",
      " 51%|█████     | 44/86 [00:18<00:17,  2.40it/s]\u001b[A\n",
      " 52%|█████▏    | 45/86 [00:19<00:17,  2.40it/s]\u001b[A\n",
      " 53%|█████▎    | 46/86 [00:19<00:15,  2.50it/s]\u001b[A\n",
      " 55%|█████▍    | 47/86 [00:19<00:16,  2.38it/s]\u001b[A\n",
      " 56%|█████▌    | 48/86 [00:20<00:16,  2.25it/s]\u001b[A\n",
      " 57%|█████▋    | 49/86 [00:20<00:16,  2.28it/s]\u001b[A\n",
      " 58%|█████▊    | 50/86 [00:21<00:17,  2.11it/s]\u001b[A\n",
      " 59%|█████▉    | 51/86 [00:21<00:15,  2.21it/s]\u001b[A\n",
      " 60%|██████    | 52/86 [00:22<00:15,  2.24it/s]\u001b[A\n",
      " 62%|██████▏   | 53/86 [00:22<00:16,  2.03it/s]\u001b[A\n",
      " 63%|██████▎   | 54/86 [00:23<00:15,  2.04it/s]\u001b[A\n",
      " 64%|██████▍   | 55/86 [00:23<00:14,  2.11it/s]\u001b[A\n",
      " 65%|██████▌   | 56/86 [00:24<00:13,  2.16it/s]\u001b[A\n",
      " 66%|██████▋   | 57/86 [00:24<00:13,  2.23it/s]\u001b[A\n",
      " 67%|██████▋   | 58/86 [00:24<00:11,  2.34it/s]\u001b[A\n",
      " 69%|██████▊   | 59/86 [00:25<00:11,  2.32it/s]\u001b[A\n",
      " 70%|██████▉   | 60/86 [00:25<00:10,  2.41it/s]\u001b[A\n",
      " 71%|███████   | 61/86 [00:26<00:10,  2.30it/s]\u001b[A\n",
      " 72%|███████▏  | 62/86 [00:26<00:10,  2.34it/s]\u001b[A\n",
      " 73%|███████▎  | 63/86 [00:27<00:10,  2.23it/s]\u001b[A\n",
      " 74%|███████▍  | 64/86 [00:27<00:09,  2.35it/s]\u001b[A\n",
      " 76%|███████▌  | 65/86 [00:27<00:08,  2.45it/s]\u001b[A\n",
      " 77%|███████▋  | 66/86 [00:28<00:07,  2.52it/s]\u001b[A\n",
      " 78%|███████▊  | 67/86 [00:28<00:07,  2.57it/s]\u001b[A\n",
      " 79%|███████▉  | 68/86 [00:29<00:07,  2.47it/s]\u001b[A\n",
      " 80%|████████  | 69/86 [00:29<00:06,  2.53it/s]\u001b[A\n",
      " 81%|████████▏ | 70/86 [00:29<00:06,  2.57it/s]\u001b[A\n",
      " 83%|████████▎ | 71/86 [00:30<00:05,  2.63it/s]\u001b[A\n",
      " 84%|████████▎ | 72/86 [00:30<00:05,  2.68it/s]\u001b[A\n",
      " 85%|████████▍ | 73/86 [00:30<00:04,  2.69it/s]\u001b[A\n",
      " 86%|████████▌ | 74/86 [00:31<00:04,  2.55it/s]\u001b[A\n",
      " 87%|████████▋ | 75/86 [00:31<00:04,  2.43it/s]\u001b[A\n",
      " 88%|████████▊ | 76/86 [00:32<00:04,  2.34it/s]\u001b[A\n",
      " 90%|████████▉ | 77/86 [00:32<00:04,  2.16it/s]\u001b[A\n",
      " 91%|█████████ | 78/86 [00:33<00:03,  2.20it/s]\u001b[A\n",
      " 92%|█████████▏| 79/86 [00:33<00:03,  2.22it/s]\u001b[A\n",
      " 93%|█████████▎| 80/86 [00:34<00:02,  2.30it/s]\u001b[A\n",
      " 94%|█████████▍| 81/86 [00:34<00:02,  2.15it/s]\u001b[A\n",
      " 95%|█████████▌| 82/86 [00:35<00:01,  2.19it/s]\u001b[A\n",
      " 97%|█████████▋| 83/86 [00:35<00:01,  2.36it/s]\u001b[A\n",
      " 98%|█████████▊| 84/86 [00:35<00:00,  2.32it/s]\u001b[A\n",
      " 99%|█████████▉| 85/86 [00:36<00:00,  2.37it/s]\u001b[A\n",
      "100%|██████████| 86/86 [00:36<00:00,  2.47it/s]\u001b[A\n",
      " 30%|███       | 6/20 [03:26<08:12, 35.14s/it]\n",
      "  0%|          | 0/86 [00:00<?, ?it/s]\u001b[A\n",
      "  1%|          | 1/86 [00:00<00:47,  1.77it/s]\u001b[A\n",
      "  2%|▏         | 2/86 [00:01<00:46,  1.82it/s]\u001b[A\n",
      "  3%|▎         | 3/86 [00:01<00:44,  1.88it/s]\u001b[A\n",
      "  5%|▍         | 4/86 [00:02<00:41,  1.97it/s]\u001b[A\n",
      "  6%|▌         | 5/86 [00:02<00:39,  2.05it/s]\u001b[A\n",
      "  7%|▋         | 6/86 [00:02<00:37,  2.11it/s]\u001b[A\n",
      "  8%|▊         | 7/86 [00:03<00:37,  2.13it/s]\u001b[A\n",
      "  9%|▉         | 8/86 [00:03<00:37,  2.10it/s]\u001b[A\n",
      " 10%|█         | 9/86 [00:04<00:35,  2.16it/s]\u001b[A\n",
      " 12%|█▏        | 10/86 [00:04<00:38,  1.97it/s]\u001b[A\n",
      " 13%|█▎        | 11/86 [00:05<00:39,  1.92it/s]\u001b[A\n",
      " 14%|█▍        | 12/86 [00:05<00:38,  1.90it/s]\u001b[A\n",
      " 15%|█▌        | 13/86 [00:06<00:37,  1.94it/s]\u001b[A\n",
      " 16%|█▋        | 14/86 [00:07<00:37,  1.92it/s]\u001b[A\n",
      " 17%|█▋        | 15/86 [00:07<00:37,  1.90it/s]\u001b[A\n",
      " 19%|█▊        | 16/86 [00:08<00:37,  1.85it/s]\u001b[A\n",
      " 20%|█▉        | 17/86 [00:08<00:36,  1.88it/s]\u001b[A\n",
      " 21%|██        | 18/86 [00:09<00:34,  1.98it/s]\u001b[A\n",
      " 22%|██▏       | 19/86 [00:09<00:33,  2.00it/s]\u001b[A\n",
      " 23%|██▎       | 20/86 [00:09<00:30,  2.16it/s]\u001b[A\n",
      " 24%|██▍       | 21/86 [00:10<00:28,  2.31it/s]\u001b[A\n",
      " 26%|██▌       | 22/86 [00:10<00:26,  2.44it/s]\u001b[A\n",
      " 27%|██▋       | 23/86 [00:11<00:24,  2.55it/s]\u001b[A\n",
      " 28%|██▊       | 24/86 [00:11<00:23,  2.63it/s]\u001b[A\n",
      " 29%|██▉       | 25/86 [00:11<00:23,  2.61it/s]\u001b[A\n",
      " 30%|███       | 26/86 [00:12<00:24,  2.40it/s]\u001b[A\n",
      " 31%|███▏      | 27/86 [00:12<00:26,  2.21it/s]\u001b[A\n",
      " 33%|███▎      | 28/86 [00:13<00:28,  2.05it/s]\u001b[A\n",
      " 34%|███▎      | 29/86 [00:13<00:29,  1.95it/s]\u001b[A\n",
      " 35%|███▍      | 30/86 [00:14<00:28,  1.96it/s]\u001b[A\n",
      " 36%|███▌      | 31/86 [00:14<00:26,  2.05it/s]\u001b[A\n",
      " 37%|███▋      | 32/86 [00:15<00:25,  2.16it/s]\u001b[A\n",
      " 38%|███▊      | 33/86 [00:15<00:23,  2.24it/s]\u001b[A\n",
      " 40%|███▉      | 34/86 [00:16<00:22,  2.27it/s]\u001b[A\n",
      " 41%|████      | 35/86 [00:16<00:22,  2.31it/s]\u001b[A\n",
      " 42%|████▏     | 36/86 [00:16<00:20,  2.42it/s]\u001b[A\n",
      " 43%|████▎     | 37/86 [00:17<00:21,  2.26it/s]\u001b[A\n",
      " 44%|████▍     | 38/86 [00:17<00:21,  2.28it/s]\u001b[A\n",
      " 45%|████▌     | 39/86 [00:18<00:19,  2.37it/s]\u001b[A\n",
      " 47%|████▋     | 40/86 [00:18<00:18,  2.50it/s]\u001b[A\n",
      " 48%|████▊     | 41/86 [00:18<00:17,  2.52it/s]\u001b[A\n",
      " 49%|████▉     | 42/86 [00:19<00:17,  2.54it/s]\u001b[A\n",
      " 50%|█████     | 43/86 [00:19<00:16,  2.59it/s]\u001b[A\n",
      " 51%|█████     | 44/86 [00:20<00:15,  2.67it/s]\u001b[A\n",
      " 52%|█████▏    | 45/86 [00:20<00:15,  2.64it/s]\u001b[A\n",
      " 53%|█████▎    | 46/86 [00:20<00:15,  2.52it/s]\u001b[A\n",
      " 55%|█████▍    | 47/86 [00:21<00:15,  2.58it/s]\u001b[A\n",
      " 56%|█████▌    | 48/86 [00:21<00:14,  2.63it/s]\u001b[A\n",
      " 57%|█████▋    | 49/86 [00:21<00:13,  2.66it/s]\u001b[A\n",
      " 58%|█████▊    | 50/86 [00:22<00:13,  2.70it/s]\u001b[A\n",
      " 59%|█████▉    | 51/86 [00:22<00:12,  2.71it/s]\u001b[A\n",
      " 60%|██████    | 52/86 [00:23<00:12,  2.68it/s]\u001b[A\n",
      " 62%|██████▏   | 53/86 [00:23<00:12,  2.65it/s]\u001b[A\n",
      " 63%|██████▎   | 54/86 [00:23<00:12,  2.63it/s]\u001b[A\n",
      " 64%|██████▍   | 55/86 [00:24<00:12,  2.46it/s]\u001b[A\n",
      " 65%|██████▌   | 56/86 [00:24<00:11,  2.56it/s]\u001b[A\n",
      " 66%|██████▋   | 57/86 [00:25<00:11,  2.61it/s]\u001b[A\n",
      " 67%|██████▋   | 58/86 [00:25<00:10,  2.60it/s]\u001b[A\n",
      " 69%|██████▊   | 59/86 [00:25<00:10,  2.59it/s]\u001b[A\n",
      " 70%|██████▉   | 60/86 [00:26<00:10,  2.60it/s]\u001b[A\n",
      " 71%|███████   | 61/86 [00:26<00:09,  2.61it/s]\u001b[A\n",
      " 72%|███████▏  | 62/86 [00:26<00:09,  2.63it/s]\u001b[A\n",
      " 73%|███████▎  | 63/86 [00:27<00:08,  2.61it/s]\u001b[A\n",
      " 74%|███████▍  | 64/86 [00:27<00:08,  2.50it/s]\u001b[A\n",
      " 76%|███████▌  | 65/86 [00:28<00:09,  2.24it/s]\u001b[A\n",
      " 77%|███████▋  | 66/86 [00:28<00:08,  2.23it/s]\u001b[A\n",
      " 78%|███████▊  | 67/86 [00:29<00:08,  2.34it/s]\u001b[A\n",
      " 79%|███████▉  | 68/86 [00:29<00:07,  2.48it/s]\u001b[A\n",
      " 80%|████████  | 69/86 [00:29<00:06,  2.57it/s]\u001b[A\n",
      " 81%|████████▏ | 70/86 [00:30<00:06,  2.56it/s]\u001b[A\n",
      " 83%|████████▎ | 71/86 [00:30<00:05,  2.59it/s]\u001b[A\n",
      " 84%|████████▎ | 72/86 [00:31<00:05,  2.57it/s]\u001b[A\n",
      " 85%|████████▍ | 73/86 [00:31<00:05,  2.43it/s]\u001b[A\n",
      " 86%|████████▌ | 74/86 [00:31<00:04,  2.52it/s]\u001b[A\n",
      " 87%|████████▋ | 75/86 [00:32<00:04,  2.57it/s]\u001b[A\n",
      " 88%|████████▊ | 76/86 [00:32<00:03,  2.60it/s]\u001b[A\n",
      " 90%|████████▉ | 77/86 [00:33<00:03,  2.57it/s]\u001b[A\n",
      " 91%|█████████ | 78/86 [00:33<00:03,  2.48it/s]\u001b[A\n",
      " 92%|█████████▏| 79/86 [00:33<00:02,  2.51it/s]\u001b[A\n",
      " 93%|█████████▎| 80/86 [00:34<00:02,  2.35it/s]\u001b[A\n",
      " 94%|█████████▍| 81/86 [00:34<00:02,  2.31it/s]\u001b[A\n",
      " 95%|█████████▌| 82/86 [00:35<00:01,  2.28it/s]\u001b[A\n",
      " 97%|█████████▋| 83/86 [00:35<00:01,  2.37it/s]\u001b[A\n",
      " 98%|█████████▊| 84/86 [00:35<00:00,  2.44it/s]\u001b[A\n",
      " 99%|█████████▉| 85/86 [00:36<00:00,  2.51it/s]\u001b[A\n",
      "100%|██████████| 86/86 [00:36<00:00,  2.58it/s]\u001b[A\n",
      " 35%|███▌      | 7/20 [04:03<07:43, 35.62s/it]\n",
      "  0%|          | 0/86 [00:00<?, ?it/s]\u001b[A\n",
      "  1%|          | 1/86 [00:00<00:31,  2.72it/s]\u001b[A\n",
      "  2%|▏         | 2/86 [00:00<00:31,  2.65it/s]\u001b[A\n",
      "  3%|▎         | 3/86 [00:01<00:35,  2.34it/s]\u001b[A\n",
      "  5%|▍         | 4/86 [00:01<00:34,  2.41it/s]\u001b[A\n",
      "  6%|▌         | 5/86 [00:02<00:32,  2.46it/s]\u001b[A\n",
      "  7%|▋         | 6/86 [00:02<00:32,  2.49it/s]\u001b[A\n",
      "  8%|▊         | 7/86 [00:02<00:31,  2.54it/s]\u001b[A\n",
      "  9%|▉         | 8/86 [00:03<00:29,  2.62it/s]\u001b[A\n",
      " 10%|█         | 9/86 [00:03<00:29,  2.62it/s]\u001b[A\n",
      " 12%|█▏        | 10/86 [00:03<00:29,  2.58it/s]\u001b[A\n",
      " 13%|█▎        | 11/86 [00:04<00:29,  2.57it/s]\u001b[A\n",
      " 14%|█▍        | 12/86 [00:04<00:30,  2.45it/s]\u001b[A\n",
      " 15%|█▌        | 13/86 [00:05<00:29,  2.49it/s]\u001b[A\n",
      " 16%|█▋        | 14/86 [00:05<00:29,  2.45it/s]\u001b[A\n",
      " 17%|█▋        | 15/86 [00:06<00:28,  2.46it/s]\u001b[A\n",
      " 19%|█▊        | 16/86 [00:06<00:27,  2.52it/s]\u001b[A\n",
      " 20%|█▉        | 17/86 [00:06<00:27,  2.56it/s]\u001b[A\n",
      " 21%|██        | 18/86 [00:07<00:26,  2.56it/s]\u001b[A\n",
      " 22%|██▏       | 19/86 [00:07<00:26,  2.56it/s]\u001b[A\n",
      " 23%|██▎       | 20/86 [00:07<00:25,  2.61it/s]\u001b[A\n",
      " 24%|██▍       | 21/86 [00:08<00:26,  2.47it/s]\u001b[A\n",
      " 26%|██▌       | 22/86 [00:08<00:25,  2.50it/s]\u001b[A\n",
      " 27%|██▋       | 23/86 [00:09<00:24,  2.53it/s]\u001b[A\n",
      " 28%|██▊       | 24/86 [00:09<00:24,  2.54it/s]\u001b[A\n",
      " 29%|██▉       | 25/86 [00:09<00:24,  2.50it/s]\u001b[A\n",
      " 30%|███       | 26/86 [00:10<00:23,  2.57it/s]\u001b[A\n",
      " 31%|███▏      | 27/86 [00:10<00:22,  2.58it/s]\u001b[A\n",
      " 33%|███▎      | 28/86 [00:11<00:22,  2.56it/s]\u001b[A\n",
      " 34%|███▎      | 29/86 [00:11<00:22,  2.55it/s]\u001b[A\n",
      " 35%|███▍      | 30/86 [00:11<00:23,  2.43it/s]\u001b[A\n",
      " 36%|███▌      | 31/86 [00:12<00:22,  2.44it/s]\u001b[A\n",
      " 37%|███▋      | 32/86 [00:12<00:21,  2.50it/s]\u001b[A\n",
      " 38%|███▊      | 33/86 [00:13<00:21,  2.52it/s]\u001b[A\n",
      " 40%|███▉      | 34/86 [00:13<00:20,  2.50it/s]\u001b[A\n",
      " 41%|████      | 35/86 [00:13<00:20,  2.50it/s]\u001b[A\n",
      " 42%|████▏     | 36/86 [00:14<00:20,  2.48it/s]\u001b[A\n",
      " 43%|████▎     | 37/86 [00:14<00:20,  2.44it/s]\u001b[A\n",
      " 44%|████▍     | 38/86 [00:15<00:19,  2.49it/s]\u001b[A\n",
      " 45%|████▌     | 39/86 [00:15<00:19,  2.46it/s]\u001b[A\n",
      " 47%|████▋     | 40/86 [00:15<00:18,  2.55it/s]\u001b[A\n",
      " 48%|████▊     | 41/86 [00:16<00:17,  2.61it/s]\u001b[A\n",
      " 49%|████▉     | 42/86 [00:16<00:16,  2.65it/s]\u001b[A\n",
      " 50%|█████     | 43/86 [00:17<00:15,  2.70it/s]\u001b[A\n",
      " 51%|█████     | 44/86 [00:17<00:15,  2.72it/s]\u001b[A\n",
      " 52%|█████▏    | 45/86 [00:17<00:15,  2.72it/s]\u001b[A\n",
      " 53%|█████▎    | 46/86 [00:18<00:14,  2.71it/s]\u001b[A\n",
      " 55%|█████▍    | 47/86 [00:18<00:14,  2.70it/s]\u001b[A\n",
      " 56%|█████▌    | 48/86 [00:18<00:14,  2.59it/s]\u001b[A\n",
      " 57%|█████▋    | 49/86 [00:19<00:14,  2.50it/s]\u001b[A\n",
      " 58%|█████▊    | 50/86 [00:19<00:14,  2.45it/s]\u001b[A\n",
      " 59%|█████▉    | 51/86 [00:20<00:15,  2.31it/s]\u001b[A\n",
      " 60%|██████    | 52/86 [00:20<00:15,  2.23it/s]\u001b[A\n",
      " 62%|██████▏   | 53/86 [00:21<00:14,  2.27it/s]\u001b[A\n",
      " 63%|██████▎   | 54/86 [00:21<00:14,  2.27it/s]\u001b[A\n",
      " 64%|██████▍   | 55/86 [00:21<00:13,  2.38it/s]\u001b[A\n",
      " 65%|██████▌   | 56/86 [00:22<00:12,  2.49it/s]\u001b[A\n",
      " 66%|██████▋   | 57/86 [00:22<00:11,  2.47it/s]\u001b[A\n",
      " 67%|██████▋   | 58/86 [00:23<00:10,  2.56it/s]\u001b[A\n",
      " 69%|██████▊   | 59/86 [00:23<00:10,  2.63it/s]\u001b[A\n",
      " 70%|██████▉   | 60/86 [00:23<00:09,  2.66it/s]\u001b[A\n",
      " 71%|███████   | 61/86 [00:24<00:09,  2.71it/s]\u001b[A\n",
      " 72%|███████▏  | 62/86 [00:24<00:08,  2.74it/s]\u001b[A\n",
      " 73%|███████▎  | 63/86 [00:24<00:08,  2.77it/s]\u001b[A\n",
      " 74%|███████▍  | 64/86 [00:25<00:08,  2.72it/s]\u001b[A\n",
      " 76%|███████▌  | 65/86 [00:25<00:08,  2.61it/s]\u001b[A\n",
      " 77%|███████▋  | 66/86 [00:26<00:07,  2.55it/s]\u001b[A\n",
      " 78%|███████▊  | 67/86 [00:26<00:07,  2.62it/s]\u001b[A\n",
      " 79%|███████▉  | 68/86 [00:26<00:06,  2.68it/s]\u001b[A\n",
      " 80%|████████  | 69/86 [00:27<00:06,  2.73it/s]\u001b[A\n",
      " 81%|████████▏ | 70/86 [00:27<00:05,  2.76it/s]\u001b[A\n",
      " 83%|████████▎ | 71/86 [00:27<00:05,  2.77it/s]\u001b[A\n",
      " 84%|████████▎ | 72/86 [00:28<00:05,  2.74it/s]\u001b[A\n",
      " 85%|████████▍ | 73/86 [00:28<00:04,  2.71it/s]\u001b[A\n",
      " 86%|████████▌ | 74/86 [00:29<00:04,  2.68it/s]\u001b[A\n",
      " 87%|████████▋ | 75/86 [00:29<00:04,  2.66it/s]\u001b[A\n",
      " 88%|████████▊ | 76/86 [00:29<00:03,  2.64it/s]\u001b[A\n",
      " 90%|████████▉ | 77/86 [00:30<00:03,  2.55it/s]\u001b[A\n",
      " 91%|█████████ | 78/86 [00:30<00:03,  2.24it/s]\u001b[A\n",
      " 92%|█████████▏| 79/86 [00:31<00:03,  2.20it/s]\u001b[A\n",
      " 93%|█████████▎| 80/86 [00:31<00:02,  2.33it/s]\u001b[A\n",
      " 94%|█████████▍| 81/86 [00:32<00:02,  2.37it/s]\u001b[A\n",
      " 95%|█████████▌| 82/86 [00:32<00:01,  2.46it/s]\u001b[A\n",
      " 97%|█████████▋| 83/86 [00:32<00:01,  2.62it/s]\u001b[A\n",
      " 98%|█████████▊| 84/86 [00:33<00:00,  2.59it/s]\u001b[A\n",
      " 99%|█████████▉| 85/86 [00:33<00:00,  2.52it/s]\u001b[A\n",
      "100%|██████████| 86/86 [00:33<00:00,  2.46it/s]\u001b[A\n",
      " 40%|████      | 8/20 [04:37<07:01, 35.13s/it]\n",
      "  0%|          | 0/86 [00:00<?, ?it/s]\u001b[A\n",
      "  1%|          | 1/86 [00:00<00:36,  2.32it/s]\u001b[A\n",
      "  2%|▏         | 2/86 [00:01<00:39,  2.11it/s]\u001b[A\n",
      "  3%|▎         | 3/86 [00:01<00:38,  2.14it/s]\u001b[A\n",
      "  5%|▍         | 4/86 [00:02<00:40,  2.03it/s]\u001b[A\n",
      "  6%|▌         | 5/86 [00:02<00:42,  1.93it/s]\u001b[A\n",
      "  7%|▋         | 6/86 [00:02<00:38,  2.10it/s]\u001b[A\n",
      "  8%|▊         | 7/86 [00:03<00:35,  2.23it/s]\u001b[A\n",
      "  9%|▉         | 8/86 [00:03<00:36,  2.14it/s]\u001b[A\n",
      " 10%|█         | 9/86 [00:04<00:35,  2.17it/s]\u001b[A\n",
      " 12%|█▏        | 10/86 [00:04<00:32,  2.31it/s]\u001b[A\n",
      " 13%|█▎        | 11/86 [00:05<00:30,  2.43it/s]\u001b[A\n",
      " 14%|█▍        | 12/86 [00:05<00:29,  2.52it/s]\u001b[A\n",
      " 15%|█▌        | 13/86 [00:05<00:29,  2.52it/s]\u001b[A\n",
      " 16%|█▋        | 14/86 [00:06<00:29,  2.43it/s]\u001b[A\n",
      " 17%|█▋        | 15/86 [00:06<00:28,  2.48it/s]\u001b[A\n",
      " 19%|█▊        | 16/86 [00:07<00:28,  2.50it/s]\u001b[A\n",
      " 20%|█▉        | 17/86 [00:07<00:29,  2.36it/s]\u001b[A\n",
      " 21%|██        | 18/86 [00:07<00:28,  2.38it/s]\u001b[A\n",
      " 22%|██▏       | 19/86 [00:08<00:27,  2.43it/s]\u001b[A\n",
      " 23%|██▎       | 20/86 [00:08<00:27,  2.43it/s]\u001b[A\n",
      " 24%|██▍       | 21/86 [00:09<00:28,  2.27it/s]\u001b[A\n",
      " 26%|██▌       | 22/86 [00:09<00:30,  2.09it/s]\u001b[A\n",
      " 27%|██▋       | 23/86 [00:10<00:28,  2.21it/s]\u001b[A\n",
      " 28%|██▊       | 24/86 [00:10<00:28,  2.21it/s]\u001b[A\n",
      " 29%|██▉       | 25/86 [00:11<00:28,  2.17it/s]\u001b[A\n",
      " 30%|███       | 26/86 [00:11<00:27,  2.21it/s]\u001b[A\n",
      " 31%|███▏      | 27/86 [00:12<00:27,  2.16it/s]\u001b[A\n",
      " 33%|███▎      | 28/86 [00:12<00:27,  2.13it/s]\u001b[A\n",
      " 34%|███▎      | 29/86 [00:12<00:24,  2.28it/s]\u001b[A\n",
      " 35%|███▍      | 30/86 [00:13<00:24,  2.32it/s]\u001b[A\n",
      " 36%|███▌      | 31/86 [00:13<00:22,  2.43it/s]\u001b[A\n",
      " 37%|███▋      | 32/86 [00:14<00:21,  2.50it/s]\u001b[A\n",
      " 38%|███▊      | 33/86 [00:14<00:20,  2.56it/s]\u001b[A\n",
      " 40%|███▉      | 34/86 [00:14<00:19,  2.62it/s]\u001b[A\n",
      " 41%|████      | 35/86 [00:15<00:19,  2.61it/s]\u001b[A\n",
      " 42%|████▏     | 36/86 [00:15<00:21,  2.30it/s]\u001b[A\n",
      " 43%|████▎     | 37/86 [00:16<00:21,  2.26it/s]\u001b[A\n",
      " 44%|████▍     | 38/86 [00:16<00:23,  2.03it/s]\u001b[A\n",
      " 45%|████▌     | 39/86 [00:17<00:24,  1.93it/s]\u001b[A\n",
      " 47%|████▋     | 40/86 [00:17<00:24,  1.88it/s]\u001b[A\n",
      " 48%|████▊     | 41/86 [00:18<00:23,  1.89it/s]\u001b[A\n",
      " 49%|████▉     | 42/86 [00:19<00:23,  1.85it/s]\u001b[A\n",
      " 50%|█████     | 43/86 [00:19<00:22,  1.95it/s]\u001b[A\n",
      " 51%|█████     | 44/86 [00:19<00:19,  2.12it/s]\u001b[A\n",
      " 52%|█████▏    | 45/86 [00:20<00:18,  2.24it/s]\u001b[A\n",
      " 53%|█████▎    | 46/86 [00:20<00:18,  2.20it/s]\u001b[A\n",
      " 55%|█████▍    | 47/86 [00:21<00:16,  2.30it/s]\u001b[A\n",
      " 56%|█████▌    | 48/86 [00:21<00:15,  2.38it/s]\u001b[A\n",
      " 57%|█████▋    | 49/86 [00:21<00:15,  2.38it/s]\u001b[A\n",
      " 58%|█████▊    | 50/86 [00:22<00:15,  2.31it/s]\u001b[A\n",
      " 59%|█████▉    | 51/86 [00:22<00:14,  2.39it/s]\u001b[A\n",
      " 60%|██████    | 52/86 [00:23<00:13,  2.48it/s]\u001b[A\n",
      " 62%|██████▏   | 53/86 [00:23<00:14,  2.27it/s]\u001b[A\n",
      " 63%|██████▎   | 54/86 [00:24<00:15,  2.06it/s]\u001b[A\n",
      " 64%|██████▍   | 55/86 [00:24<00:15,  1.98it/s]\u001b[A\n",
      " 65%|██████▌   | 56/86 [00:25<00:16,  1.87it/s]\u001b[A\n",
      " 66%|██████▋   | 57/86 [00:25<00:14,  1.94it/s]\u001b[A\n",
      " 67%|██████▋   | 58/86 [00:26<00:14,  1.89it/s]\u001b[A\n",
      " 69%|██████▊   | 59/86 [00:26<00:13,  2.00it/s]\u001b[A\n",
      " 70%|██████▉   | 60/86 [00:27<00:12,  2.09it/s]\u001b[A\n",
      " 71%|███████   | 61/86 [00:27<00:11,  2.15it/s]\u001b[A\n",
      " 72%|███████▏  | 62/86 [00:28<00:12,  1.93it/s]\u001b[A\n",
      " 73%|███████▎  | 63/86 [00:28<00:10,  2.12it/s]\u001b[A\n",
      " 74%|███████▍  | 64/86 [00:29<00:10,  2.10it/s]\u001b[A\n",
      " 76%|███████▌  | 65/86 [00:29<00:10,  1.96it/s]\u001b[A\n",
      " 77%|███████▋  | 66/86 [00:30<00:10,  1.94it/s]\u001b[A\n",
      " 78%|███████▊  | 67/86 [00:30<00:09,  1.93it/s]\u001b[A\n",
      " 79%|███████▉  | 68/86 [00:31<00:09,  1.92it/s]\u001b[A\n",
      " 80%|████████  | 69/86 [00:31<00:08,  1.94it/s]\u001b[A\n",
      " 81%|████████▏ | 70/86 [00:32<00:08,  1.96it/s]\u001b[A\n",
      " 83%|████████▎ | 71/86 [00:32<00:07,  2.11it/s]\u001b[A\n",
      " 84%|████████▎ | 72/86 [00:33<00:06,  2.26it/s]\u001b[A\n",
      " 85%|████████▍ | 73/86 [00:33<00:05,  2.33it/s]\u001b[A\n",
      " 86%|████████▌ | 74/86 [00:33<00:05,  2.29it/s]\u001b[A\n",
      " 87%|████████▋ | 75/86 [00:34<00:04,  2.31it/s]\u001b[A\n",
      " 88%|████████▊ | 76/86 [00:34<00:04,  2.36it/s]\u001b[A\n",
      " 90%|████████▉ | 77/86 [00:35<00:03,  2.38it/s]\u001b[A\n",
      " 91%|█████████ | 78/86 [00:35<00:03,  2.17it/s]\u001b[A\n",
      " 92%|█████████▏| 79/86 [00:36<00:03,  2.06it/s]\u001b[A\n",
      " 93%|█████████▎| 80/86 [00:36<00:03,  1.96it/s]\u001b[A\n",
      " 94%|█████████▍| 81/86 [00:37<00:02,  2.00it/s]\u001b[A\n",
      " 95%|█████████▌| 82/86 [00:37<00:02,  1.98it/s]\u001b[A\n",
      " 97%|█████████▋| 83/86 [00:38<00:01,  2.08it/s]\u001b[A\n",
      " 98%|█████████▊| 84/86 [00:38<00:00,  2.10it/s]\u001b[A\n",
      " 99%|█████████▉| 85/86 [00:39<00:00,  2.01it/s]\u001b[A\n",
      "100%|██████████| 86/86 [00:39<00:00,  1.93it/s]\u001b[A\n",
      " 45%|████▌     | 9/20 [05:17<06:42, 36.55s/it]\n",
      "  0%|          | 0/86 [00:00<?, ?it/s]\u001b[A\n",
      "  1%|          | 1/86 [00:00<00:33,  2.51it/s]\u001b[A\n",
      "  2%|▏         | 2/86 [00:00<00:32,  2.57it/s]\u001b[A\n",
      "  3%|▎         | 3/86 [00:01<00:33,  2.48it/s]\u001b[A\n",
      "  5%|▍         | 4/86 [00:01<00:34,  2.36it/s]\u001b[A\n",
      "  6%|▌         | 5/86 [00:02<00:35,  2.28it/s]\u001b[A\n",
      "  7%|▋         | 6/86 [00:02<00:34,  2.29it/s]\u001b[A\n",
      "  8%|▊         | 7/86 [00:03<00:34,  2.29it/s]\u001b[A\n",
      "  9%|▉         | 8/86 [00:03<00:33,  2.34it/s]\u001b[A\n",
      " 10%|█         | 9/86 [00:03<00:32,  2.34it/s]\u001b[A\n",
      " 12%|█▏        | 10/86 [00:04<00:31,  2.39it/s]\u001b[A\n",
      " 13%|█▎        | 11/86 [00:04<00:29,  2.52it/s]\u001b[A\n",
      " 14%|█▍        | 12/86 [00:04<00:28,  2.61it/s]\u001b[A\n",
      " 15%|█▌        | 13/86 [00:05<00:27,  2.61it/s]\u001b[A\n",
      " 16%|█▋        | 14/86 [00:05<00:28,  2.57it/s]\u001b[A\n",
      " 17%|█▋        | 15/86 [00:06<00:26,  2.64it/s]\u001b[A\n",
      " 19%|█▊        | 16/86 [00:06<00:27,  2.53it/s]\u001b[A\n",
      " 20%|█▉        | 17/86 [00:06<00:28,  2.42it/s]\u001b[A\n",
      " 21%|██        | 18/86 [00:07<00:29,  2.31it/s]\u001b[A\n",
      " 22%|██▏       | 19/86 [00:07<00:30,  2.22it/s]\u001b[A\n",
      " 23%|██▎       | 20/86 [00:08<00:29,  2.27it/s]\u001b[A\n",
      " 24%|██▍       | 21/86 [00:08<00:28,  2.29it/s]\u001b[A\n",
      " 26%|██▌       | 22/86 [00:09<00:28,  2.28it/s]\u001b[A\n",
      " 27%|██▋       | 23/86 [00:09<00:26,  2.38it/s]\u001b[A\n",
      " 28%|██▊       | 24/86 [00:10<00:26,  2.38it/s]\u001b[A\n",
      " 29%|██▉       | 25/86 [00:10<00:26,  2.32it/s]\u001b[A\n",
      " 30%|███       | 26/86 [00:10<00:25,  2.34it/s]\u001b[A\n",
      " 31%|███▏      | 27/86 [00:11<00:25,  2.32it/s]\u001b[A\n",
      " 33%|███▎      | 28/86 [00:11<00:24,  2.39it/s]\u001b[A\n",
      " 34%|███▎      | 29/86 [00:12<00:23,  2.46it/s]\u001b[A\n",
      " 35%|███▍      | 30/86 [00:12<00:24,  2.31it/s]\u001b[A\n",
      " 36%|███▌      | 31/86 [00:13<00:24,  2.22it/s]\u001b[A\n",
      " 37%|███▋      | 32/86 [00:13<00:24,  2.22it/s]\u001b[A\n",
      " 38%|███▊      | 33/86 [00:13<00:22,  2.35it/s]\u001b[A\n",
      " 40%|███▉      | 34/86 [00:14<00:21,  2.38it/s]\u001b[A\n",
      " 41%|████      | 35/86 [00:14<00:22,  2.28it/s]\u001b[A\n",
      " 42%|████▏     | 36/86 [00:15<00:20,  2.43it/s]\u001b[A\n",
      " 43%|████▎     | 37/86 [00:15<00:19,  2.49it/s]\u001b[A\n",
      " 44%|████▍     | 38/86 [00:15<00:19,  2.41it/s]\u001b[A\n",
      " 45%|████▌     | 39/86 [00:16<00:18,  2.48it/s]\u001b[A\n",
      " 47%|████▋     | 40/86 [00:16<00:19,  2.34it/s]\u001b[A\n",
      " 48%|████▊     | 41/86 [00:17<00:19,  2.32it/s]\u001b[A\n",
      " 49%|████▉     | 42/86 [00:17<00:18,  2.38it/s]\u001b[A\n",
      " 50%|█████     | 43/86 [00:18<00:17,  2.52it/s]\u001b[A\n",
      " 51%|█████     | 44/86 [00:18<00:16,  2.60it/s]\u001b[A\n",
      " 52%|█████▏    | 45/86 [00:18<00:15,  2.68it/s]\u001b[A\n",
      " 53%|█████▎    | 46/86 [00:19<00:15,  2.64it/s]\u001b[A\n",
      " 55%|█████▍    | 47/86 [00:19<00:14,  2.62it/s]\u001b[A\n",
      " 56%|█████▌    | 48/86 [00:19<00:14,  2.54it/s]\u001b[A\n",
      " 57%|█████▋    | 49/86 [00:20<00:15,  2.41it/s]\u001b[A\n",
      " 58%|█████▊    | 50/86 [00:20<00:15,  2.31it/s]\u001b[A\n",
      " 59%|█████▉    | 51/86 [00:21<00:15,  2.32it/s]\u001b[A\n",
      " 60%|██████    | 52/86 [00:21<00:14,  2.34it/s]\u001b[A\n",
      " 62%|██████▏   | 53/86 [00:22<00:14,  2.29it/s]\u001b[A\n",
      " 63%|██████▎   | 54/86 [00:22<00:14,  2.14it/s]\u001b[A\n",
      " 64%|██████▍   | 55/86 [00:23<00:14,  2.11it/s]\u001b[A\n",
      " 65%|██████▌   | 56/86 [00:23<00:14,  2.11it/s]\u001b[A\n",
      " 66%|██████▋   | 57/86 [00:24<00:12,  2.29it/s]\u001b[A\n",
      " 67%|██████▋   | 58/86 [00:24<00:11,  2.44it/s]\u001b[A\n",
      " 69%|██████▊   | 59/86 [00:24<00:10,  2.54it/s]\u001b[A\n",
      " 70%|██████▉   | 60/86 [00:25<00:09,  2.62it/s]\u001b[A\n",
      " 71%|███████   | 61/86 [00:25<00:09,  2.67it/s]\u001b[A\n",
      " 72%|███████▏  | 62/86 [00:25<00:09,  2.52it/s]\u001b[A\n",
      " 73%|███████▎  | 63/86 [00:26<00:08,  2.58it/s]\u001b[A\n",
      " 74%|███████▍  | 64/86 [00:26<00:08,  2.63it/s]\u001b[A\n",
      " 76%|███████▌  | 65/86 [00:26<00:07,  2.66it/s]\u001b[A\n",
      " 77%|███████▋  | 66/86 [00:27<00:08,  2.47it/s]\u001b[A\n",
      " 78%|███████▊  | 67/86 [00:27<00:07,  2.48it/s]\u001b[A\n",
      " 79%|███████▉  | 68/86 [00:28<00:07,  2.47it/s]\u001b[A\n",
      " 80%|████████  | 69/86 [00:28<00:06,  2.47it/s]\u001b[A\n",
      " 81%|████████▏ | 70/86 [00:29<00:06,  2.46it/s]\u001b[A\n",
      " 83%|████████▎ | 71/86 [00:29<00:05,  2.50it/s]\u001b[A\n",
      " 84%|████████▎ | 72/86 [00:29<00:05,  2.50it/s]\u001b[A\n",
      " 85%|████████▍ | 73/86 [00:30<00:05,  2.31it/s]\u001b[A\n",
      " 86%|████████▌ | 74/86 [00:30<00:05,  2.29it/s]\u001b[A\n",
      " 87%|████████▋ | 75/86 [00:31<00:05,  2.18it/s]\u001b[A\n",
      " 88%|████████▊ | 76/86 [00:31<00:04,  2.27it/s]\u001b[A\n",
      " 90%|████████▉ | 77/86 [00:32<00:04,  2.14it/s]\u001b[A\n",
      " 91%|█████████ | 78/86 [00:32<00:03,  2.05it/s]\u001b[A\n",
      " 92%|█████████▏| 79/86 [00:33<00:03,  2.00it/s]\u001b[A\n",
      " 93%|█████████▎| 80/86 [00:33<00:03,  1.98it/s]\u001b[A\n",
      " 94%|█████████▍| 81/86 [00:34<00:02,  2.03it/s]\u001b[A\n",
      " 95%|█████████▌| 82/86 [00:34<00:01,  2.06it/s]\u001b[A\n",
      " 97%|█████████▋| 83/86 [00:35<00:01,  2.25it/s]\u001b[A\n",
      " 98%|█████████▊| 84/86 [00:35<00:00,  2.12it/s]\u001b[A\n",
      " 99%|█████████▉| 85/86 [00:36<00:00,  2.11it/s]\u001b[A\n",
      "100%|██████████| 86/86 [00:36<00:00,  2.06it/s]\u001b[A\n",
      " 50%|█████     | 10/20 [05:53<06:05, 36.58s/it]\n",
      "  0%|          | 0/86 [00:00<?, ?it/s]\u001b[A\n",
      "  1%|          | 1/86 [00:00<00:39,  2.13it/s]\u001b[A\n",
      "  2%|▏         | 2/86 [00:01<00:41,  2.00it/s]\u001b[A\n",
      "  3%|▎         | 3/86 [00:01<00:39,  2.09it/s]\u001b[A\n",
      "  5%|▍         | 4/86 [00:01<00:37,  2.20it/s]\u001b[A\n",
      "  6%|▌         | 5/86 [00:02<00:34,  2.33it/s]\u001b[A\n",
      "  7%|▋         | 6/86 [00:02<00:33,  2.37it/s]\u001b[A\n",
      "  8%|▊         | 7/86 [00:03<00:32,  2.45it/s]\u001b[A\n",
      "  9%|▉         | 8/86 [00:03<00:30,  2.53it/s]\u001b[A\n",
      " 10%|█         | 9/86 [00:03<00:29,  2.62it/s]\u001b[A\n",
      " 12%|█▏        | 10/86 [00:04<00:30,  2.47it/s]\u001b[A\n",
      " 13%|█▎        | 11/86 [00:04<00:29,  2.53it/s]\u001b[A\n",
      " 14%|█▍        | 12/86 [00:04<00:28,  2.57it/s]\u001b[A\n",
      " 15%|█▌        | 13/86 [00:05<00:30,  2.36it/s]\u001b[A\n",
      " 16%|█▋        | 14/86 [00:06<00:34,  2.09it/s]\u001b[A\n",
      " 17%|█▋        | 15/86 [00:06<00:31,  2.26it/s]\u001b[A\n",
      " 19%|█▊        | 16/86 [00:06<00:31,  2.22it/s]\u001b[A\n",
      " 20%|█▉        | 17/86 [00:07<00:29,  2.32it/s]\u001b[A\n",
      " 21%|██        | 18/86 [00:07<00:27,  2.47it/s]\u001b[A\n",
      " 22%|██▏       | 19/86 [00:07<00:26,  2.57it/s]\u001b[A\n",
      " 23%|██▎       | 20/86 [00:08<00:28,  2.32it/s]\u001b[A\n",
      " 24%|██▍       | 21/86 [00:08<00:27,  2.33it/s]\u001b[A\n",
      " 26%|██▌       | 22/86 [00:09<00:31,  2.06it/s]\u001b[A\n",
      " 27%|██▋       | 23/86 [00:09<00:27,  2.25it/s]\u001b[A\n",
      " 28%|██▊       | 24/86 [00:10<00:27,  2.23it/s]\u001b[A\n",
      " 29%|██▉       | 25/86 [00:10<00:27,  2.18it/s]\u001b[A\n",
      " 30%|███       | 26/86 [00:11<00:29,  2.05it/s]\u001b[A\n",
      " 31%|███▏      | 27/86 [00:11<00:26,  2.22it/s]\u001b[A\n",
      " 33%|███▎      | 28/86 [00:12<00:25,  2.29it/s]\u001b[A\n",
      " 34%|███▎      | 29/86 [00:12<00:25,  2.26it/s]\u001b[A\n",
      " 35%|███▍      | 30/86 [00:13<00:25,  2.16it/s]\u001b[A\n",
      " 36%|███▌      | 31/86 [00:13<00:23,  2.31it/s]\u001b[A\n",
      " 37%|███▋      | 32/86 [00:13<00:22,  2.44it/s]\u001b[A\n",
      " 38%|███▊      | 33/86 [00:14<00:20,  2.55it/s]\u001b[A\n",
      " 40%|███▉      | 34/86 [00:14<00:19,  2.61it/s]\u001b[A\n",
      " 41%|████      | 35/86 [00:14<00:20,  2.50it/s]\u001b[A\n",
      " 42%|████▏     | 36/86 [00:15<00:19,  2.58it/s]\u001b[A\n",
      " 43%|████▎     | 37/86 [00:15<00:18,  2.64it/s]\u001b[A\n",
      " 44%|████▍     | 38/86 [00:16<00:18,  2.58it/s]\u001b[A\n",
      " 45%|████▌     | 39/86 [00:16<00:18,  2.60it/s]\u001b[A\n",
      " 47%|████▋     | 40/86 [00:16<00:18,  2.47it/s]\u001b[A\n",
      " 48%|████▊     | 41/86 [00:17<00:18,  2.43it/s]\u001b[A\n",
      " 49%|████▉     | 42/86 [00:17<00:18,  2.44it/s]\u001b[A\n",
      " 50%|█████     | 43/86 [00:18<00:18,  2.36it/s]\u001b[A\n",
      " 51%|█████     | 44/86 [00:18<00:16,  2.51it/s]\u001b[A\n",
      " 52%|█████▏    | 45/86 [00:18<00:16,  2.53it/s]\u001b[A\n",
      " 53%|█████▎    | 46/86 [00:19<00:15,  2.52it/s]\u001b[A\n",
      " 55%|█████▍    | 47/86 [00:19<00:15,  2.59it/s]\u001b[A\n",
      " 56%|█████▌    | 48/86 [00:20<00:14,  2.66it/s]\u001b[A\n",
      " 57%|█████▋    | 49/86 [00:20<00:14,  2.62it/s]\u001b[A\n",
      " 58%|█████▊    | 50/86 [00:20<00:13,  2.66it/s]\u001b[A\n",
      " 59%|█████▉    | 51/86 [00:21<00:13,  2.68it/s]\u001b[A\n",
      " 60%|██████    | 52/86 [00:21<00:12,  2.73it/s]\u001b[A\n",
      " 62%|██████▏   | 53/86 [00:21<00:11,  2.75it/s]\u001b[A\n",
      " 63%|██████▎   | 54/86 [00:22<00:12,  2.64it/s]\u001b[A\n",
      " 64%|██████▍   | 55/86 [00:22<00:11,  2.71it/s]\u001b[A\n",
      " 65%|██████▌   | 56/86 [00:23<00:11,  2.72it/s]\u001b[A\n",
      " 66%|██████▋   | 57/86 [00:23<00:10,  2.70it/s]\u001b[A\n",
      " 67%|██████▋   | 58/86 [00:23<00:10,  2.73it/s]\u001b[A\n",
      " 69%|██████▊   | 59/86 [00:24<00:09,  2.76it/s]\u001b[A\n",
      " 70%|██████▉   | 60/86 [00:24<00:09,  2.69it/s]\u001b[A\n",
      " 71%|███████   | 61/86 [00:24<00:09,  2.74it/s]\u001b[A\n",
      " 72%|███████▏  | 62/86 [00:25<00:09,  2.62it/s]\u001b[A\n",
      " 73%|███████▎  | 63/86 [00:25<00:08,  2.69it/s]\u001b[A\n",
      " 74%|███████▍  | 64/86 [00:25<00:08,  2.72it/s]\u001b[A\n",
      " 76%|███████▌  | 65/86 [00:26<00:07,  2.75it/s]\u001b[A\n",
      " 77%|███████▋  | 66/86 [00:26<00:07,  2.77it/s]\u001b[A\n",
      " 78%|███████▊  | 67/86 [00:27<00:06,  2.77it/s]\u001b[A\n",
      " 79%|███████▉  | 68/86 [00:27<00:06,  2.82it/s]\u001b[A\n",
      " 80%|████████  | 69/86 [00:27<00:06,  2.78it/s]\u001b[A\n",
      " 81%|████████▏ | 70/86 [00:28<00:05,  2.67it/s]\u001b[A\n",
      " 83%|████████▎ | 71/86 [00:28<00:05,  2.72it/s]\u001b[A\n",
      " 84%|████████▎ | 72/86 [00:28<00:05,  2.76it/s]\u001b[A\n",
      " 85%|████████▍ | 73/86 [00:29<00:04,  2.76it/s]\u001b[A\n",
      " 86%|████████▌ | 74/86 [00:29<00:04,  2.79it/s]\u001b[A\n",
      " 87%|████████▋ | 75/86 [00:29<00:03,  2.81it/s]\u001b[A\n",
      " 88%|████████▊ | 76/86 [00:30<00:03,  2.82it/s]\u001b[A\n",
      " 90%|████████▉ | 77/86 [00:30<00:03,  2.83it/s]\u001b[A\n",
      " 91%|█████████ | 78/86 [00:31<00:02,  2.68it/s]\u001b[A\n",
      " 92%|█████████▏| 79/86 [00:31<00:02,  2.73it/s]\u001b[A\n",
      " 93%|█████████▎| 80/86 [00:31<00:02,  2.77it/s]\u001b[A\n",
      " 94%|█████████▍| 81/86 [00:32<00:01,  2.79it/s]\u001b[A\n",
      " 95%|█████████▌| 82/86 [00:32<00:01,  2.81it/s]\u001b[A\n",
      " 97%|█████████▋| 83/86 [00:32<00:01,  2.84it/s]\u001b[A\n",
      " 98%|█████████▊| 84/86 [00:33<00:00,  2.85it/s]\u001b[A\n",
      " 99%|█████████▉| 85/86 [00:33<00:00,  2.85it/s]\u001b[A\n",
      "100%|██████████| 86/86 [00:33<00:00,  2.74it/s]\u001b[A\n",
      " 55%|█████▌    | 11/20 [06:27<05:21, 35.78s/it]\n",
      "  0%|          | 0/86 [00:00<?, ?it/s]\u001b[A\n",
      "  1%|          | 1/86 [00:00<00:31,  2.68it/s]\u001b[A\n",
      "  2%|▏         | 2/86 [00:00<00:30,  2.73it/s]\u001b[A\n",
      "  3%|▎         | 3/86 [00:01<00:30,  2.76it/s]\u001b[A\n",
      "  5%|▍         | 4/86 [00:01<00:29,  2.79it/s]\u001b[A\n",
      "  6%|▌         | 5/86 [00:01<00:28,  2.82it/s]\u001b[A\n",
      "  7%|▋         | 6/86 [00:02<00:29,  2.73it/s]\u001b[A\n",
      "  8%|▊         | 7/86 [00:02<00:28,  2.78it/s]\u001b[A\n",
      "  9%|▉         | 8/86 [00:02<00:27,  2.80it/s]\u001b[A\n",
      " 10%|█         | 9/86 [00:03<00:27,  2.81it/s]\u001b[A\n",
      " 12%|█▏        | 10/86 [00:03<00:26,  2.81it/s]\u001b[A\n",
      " 13%|█▎        | 11/86 [00:03<00:26,  2.83it/s]\u001b[A\n",
      " 14%|█▍        | 12/86 [00:04<00:26,  2.84it/s]\u001b[A\n",
      " 15%|█▌        | 13/86 [00:04<00:25,  2.85it/s]\u001b[A\n",
      " 16%|█▋        | 14/86 [00:05<00:26,  2.75it/s]\u001b[A\n",
      " 17%|█▋        | 15/86 [00:05<00:27,  2.57it/s]\u001b[A\n",
      " 19%|█▊        | 16/86 [00:05<00:28,  2.49it/s]\u001b[A\n",
      " 20%|█▉        | 17/86 [00:06<00:30,  2.27it/s]\u001b[A\n",
      " 21%|██        | 18/86 [00:06<00:28,  2.38it/s]\u001b[A\n",
      " 22%|██▏       | 19/86 [00:07<00:27,  2.45it/s]\u001b[A\n",
      " 23%|██▎       | 20/86 [00:07<00:26,  2.51it/s]\u001b[A\n",
      " 24%|██▍       | 21/86 [00:07<00:25,  2.56it/s]\u001b[A\n",
      " 26%|██▌       | 22/86 [00:08<00:26,  2.41it/s]\u001b[A\n",
      " 27%|██▋       | 23/86 [00:08<00:25,  2.45it/s]\u001b[A\n",
      " 28%|██▊       | 24/86 [00:09<00:27,  2.29it/s]\u001b[A\n",
      " 29%|██▉       | 25/86 [00:09<00:27,  2.21it/s]\u001b[A\n",
      " 30%|███       | 26/86 [00:10<00:25,  2.33it/s]\u001b[A\n",
      " 31%|███▏      | 27/86 [00:10<00:25,  2.34it/s]\u001b[A\n",
      " 33%|███▎      | 28/86 [00:11<00:25,  2.30it/s]\u001b[A\n",
      " 34%|███▎      | 29/86 [00:11<00:25,  2.24it/s]\u001b[A\n",
      " 35%|███▍      | 30/86 [00:12<00:26,  2.12it/s]\u001b[A\n",
      " 36%|███▌      | 31/86 [00:12<00:25,  2.13it/s]\u001b[A\n",
      " 37%|███▋      | 32/86 [00:12<00:23,  2.28it/s]\u001b[A\n",
      " 38%|███▊      | 33/86 [00:13<00:22,  2.36it/s]\u001b[A\n",
      " 40%|███▉      | 34/86 [00:13<00:21,  2.37it/s]\u001b[A\n",
      " 41%|████      | 35/86 [00:14<00:20,  2.49it/s]\u001b[A\n",
      " 42%|████▏     | 36/86 [00:14<00:19,  2.56it/s]\u001b[A\n",
      " 43%|████▎     | 37/86 [00:14<00:18,  2.64it/s]\u001b[A\n",
      " 44%|████▍     | 38/86 [00:15<00:18,  2.55it/s]\u001b[A\n",
      " 45%|████▌     | 39/86 [00:15<00:17,  2.62it/s]\u001b[A\n",
      " 47%|████▋     | 40/86 [00:16<00:19,  2.34it/s]\u001b[A\n",
      " 48%|████▊     | 41/86 [00:16<00:20,  2.20it/s]\u001b[A\n",
      " 49%|████▉     | 42/86 [00:16<00:19,  2.28it/s]\u001b[A\n",
      " 50%|█████     | 43/86 [00:17<00:17,  2.44it/s]\u001b[A\n",
      " 51%|█████     | 44/86 [00:17<00:17,  2.41it/s]\u001b[A\n",
      " 52%|█████▏    | 45/86 [00:18<00:17,  2.39it/s]\u001b[A\n",
      " 53%|█████▎    | 46/86 [00:18<00:17,  2.32it/s]\u001b[A\n",
      " 55%|█████▍    | 47/86 [00:19<00:16,  2.41it/s]\u001b[A\n",
      " 56%|█████▌    | 48/86 [00:19<00:14,  2.54it/s]\u001b[A\n",
      " 57%|█████▋    | 49/86 [00:19<00:14,  2.62it/s]\u001b[A\n",
      " 58%|█████▊    | 50/86 [00:20<00:13,  2.68it/s]\u001b[A\n",
      " 59%|█████▉    | 51/86 [00:20<00:13,  2.69it/s]\u001b[A\n",
      " 60%|██████    | 52/86 [00:20<00:12,  2.72it/s]\u001b[A\n",
      " 62%|██████▏   | 53/86 [00:21<00:12,  2.75it/s]\u001b[A\n",
      " 63%|██████▎   | 54/86 [00:21<00:12,  2.59it/s]\u001b[A\n",
      " 64%|██████▍   | 55/86 [00:22<00:12,  2.48it/s]\u001b[A\n",
      " 65%|██████▌   | 56/86 [00:22<00:11,  2.53it/s]\u001b[A\n",
      " 66%|██████▋   | 57/86 [00:22<00:11,  2.58it/s]\u001b[A\n",
      " 67%|██████▋   | 58/86 [00:23<00:10,  2.59it/s]\u001b[A\n",
      " 69%|██████▊   | 59/86 [00:23<00:10,  2.56it/s]\u001b[A\n",
      " 70%|██████▉   | 60/86 [00:23<00:09,  2.63it/s]\u001b[A\n",
      " 71%|███████   | 61/86 [00:24<00:09,  2.54it/s]\u001b[A\n",
      " 72%|███████▏  | 62/86 [00:24<00:09,  2.52it/s]\u001b[A\n",
      " 73%|███████▎  | 63/86 [00:25<00:08,  2.57it/s]\u001b[A\n",
      " 74%|███████▍  | 64/86 [00:25<00:08,  2.54it/s]\u001b[A\n",
      " 76%|███████▌  | 65/86 [00:25<00:07,  2.63it/s]\u001b[A\n",
      " 77%|███████▋  | 66/86 [00:26<00:07,  2.67it/s]\u001b[A\n",
      " 78%|███████▊  | 67/86 [00:26<00:07,  2.71it/s]\u001b[A\n",
      " 79%|███████▉  | 68/86 [00:26<00:06,  2.64it/s]\u001b[A\n",
      " 80%|████████  | 69/86 [00:27<00:06,  2.49it/s]\u001b[A\n",
      " 81%|████████▏ | 70/86 [00:27<00:06,  2.40it/s]\u001b[A\n",
      " 83%|████████▎ | 71/86 [00:28<00:06,  2.32it/s]\u001b[A\n",
      " 84%|████████▎ | 72/86 [00:28<00:06,  2.31it/s]\u001b[A\n",
      " 85%|████████▍ | 73/86 [00:29<00:05,  2.22it/s]\u001b[A\n",
      " 86%|████████▌ | 74/86 [00:29<00:05,  2.24it/s]\u001b[A\n",
      " 87%|████████▋ | 75/86 [00:30<00:05,  2.11it/s]\u001b[A\n",
      " 88%|████████▊ | 76/86 [00:30<00:04,  2.08it/s]\u001b[A\n",
      " 90%|████████▉ | 77/86 [00:31<00:04,  2.07it/s]\u001b[A\n",
      " 91%|█████████ | 78/86 [00:31<00:03,  2.24it/s]\u001b[A\n",
      " 92%|█████████▏| 79/86 [00:31<00:02,  2.34it/s]\u001b[A\n",
      " 93%|█████████▎| 80/86 [00:32<00:02,  2.32it/s]\u001b[A\n",
      " 94%|█████████▍| 81/86 [00:32<00:02,  2.24it/s]\u001b[A\n",
      " 95%|█████████▌| 82/86 [00:33<00:01,  2.33it/s]\u001b[A\n",
      " 97%|█████████▋| 83/86 [00:33<00:01,  2.20it/s]\u001b[A\n",
      " 98%|█████████▊| 84/86 [00:34<00:00,  2.01it/s]\u001b[A\n",
      " 99%|█████████▉| 85/86 [00:34<00:00,  2.07it/s]\u001b[A\n",
      "100%|██████████| 86/86 [00:35<00:00,  2.07it/s]\u001b[A\n",
      " 60%|██████    | 12/20 [07:03<04:45, 35.65s/it]\n",
      "  0%|          | 0/86 [00:00<?, ?it/s]\u001b[A\n",
      "  1%|          | 1/86 [00:00<00:31,  2.69it/s]\u001b[A\n",
      "  2%|▏         | 2/86 [00:00<00:30,  2.74it/s]\u001b[A\n",
      "  3%|▎         | 3/86 [00:01<00:30,  2.69it/s]\u001b[A\n",
      "  5%|▍         | 4/86 [00:01<00:34,  2.37it/s]\u001b[A\n",
      "  6%|▌         | 5/86 [00:02<00:32,  2.48it/s]\u001b[A\n",
      "  7%|▋         | 6/86 [00:02<00:33,  2.37it/s]\u001b[A\n",
      "  8%|▊         | 7/86 [00:02<00:34,  2.29it/s]\u001b[A\n",
      "  9%|▉         | 8/86 [00:03<00:37,  2.09it/s]\u001b[A\n",
      " 10%|█         | 9/86 [00:04<00:39,  1.97it/s]\u001b[A\n",
      " 12%|█▏        | 10/86 [00:04<00:38,  1.98it/s]\u001b[A\n",
      " 13%|█▎        | 11/86 [00:05<00:38,  1.97it/s]\u001b[A\n",
      " 14%|█▍        | 12/86 [00:05<00:34,  2.12it/s]\u001b[A\n",
      " 15%|█▌        | 13/86 [00:06<00:35,  2.04it/s]\u001b[A\n",
      " 16%|█▋        | 14/86 [00:06<00:35,  2.02it/s]\u001b[A\n",
      " 17%|█▋        | 15/86 [00:06<00:33,  2.09it/s]\u001b[A\n",
      " 19%|█▊        | 16/86 [00:07<00:31,  2.21it/s]\u001b[A\n",
      " 20%|█▉        | 17/86 [00:07<00:33,  2.08it/s]\u001b[A\n",
      " 21%|██        | 18/86 [00:08<00:33,  2.06it/s]\u001b[A\n",
      " 22%|██▏       | 19/86 [00:08<00:32,  2.08it/s]\u001b[A\n",
      " 23%|██▎       | 20/86 [00:09<00:31,  2.08it/s]\u001b[A\n",
      " 24%|██▍       | 21/86 [00:09<00:31,  2.07it/s]\u001b[A\n",
      " 26%|██▌       | 22/86 [00:10<00:28,  2.21it/s]\u001b[A\n",
      " 27%|██▋       | 23/86 [00:10<00:27,  2.26it/s]\u001b[A\n",
      " 28%|██▊       | 24/86 [00:11<00:26,  2.33it/s]\u001b[A\n",
      " 29%|██▉       | 25/86 [00:11<00:27,  2.24it/s]\u001b[A\n",
      " 30%|███       | 26/86 [00:11<00:25,  2.31it/s]\u001b[A\n",
      " 31%|███▏      | 27/86 [00:12<00:24,  2.43it/s]\u001b[A\n",
      " 33%|███▎      | 28/86 [00:12<00:22,  2.54it/s]\u001b[A\n",
      " 34%|███▎      | 29/86 [00:13<00:21,  2.60it/s]\u001b[A\n",
      " 35%|███▍      | 30/86 [00:13<00:21,  2.66it/s]\u001b[A\n",
      " 36%|███▌      | 31/86 [00:13<00:20,  2.63it/s]\u001b[A\n",
      " 37%|███▋      | 32/86 [00:14<00:22,  2.45it/s]\u001b[A\n",
      " 38%|███▊      | 33/86 [00:14<00:21,  2.50it/s]\u001b[A\n",
      " 40%|███▉      | 34/86 [00:14<00:20,  2.54it/s]\u001b[A\n",
      " 41%|████      | 35/86 [00:15<00:19,  2.62it/s]\u001b[A\n",
      " 42%|████▏     | 36/86 [00:15<00:18,  2.68it/s]\u001b[A\n",
      " 43%|████▎     | 37/86 [00:16<00:18,  2.60it/s]\u001b[A\n",
      " 44%|████▍     | 38/86 [00:16<00:20,  2.38it/s]\u001b[A\n",
      " 45%|████▌     | 39/86 [00:17<00:21,  2.18it/s]\u001b[A\n",
      " 47%|████▋     | 40/86 [00:17<00:20,  2.23it/s]\u001b[A\n",
      " 48%|████▊     | 41/86 [00:17<00:19,  2.33it/s]\u001b[A\n",
      " 49%|████▉     | 42/86 [00:18<00:19,  2.23it/s]\u001b[A\n",
      " 50%|█████     | 43/86 [00:19<00:21,  2.02it/s]\u001b[A\n",
      " 51%|█████     | 44/86 [00:19<00:21,  2.00it/s]\u001b[A\n",
      " 52%|█████▏    | 45/86 [00:20<00:20,  2.03it/s]\u001b[A\n",
      " 53%|█████▎    | 46/86 [00:20<00:19,  2.03it/s]\u001b[A\n",
      " 55%|█████▍    | 47/86 [00:20<00:17,  2.23it/s]\u001b[A\n",
      " 56%|█████▌    | 48/86 [00:21<00:16,  2.35it/s]\u001b[A\n",
      " 57%|█████▋    | 49/86 [00:21<00:16,  2.21it/s]\u001b[A\n",
      " 58%|█████▊    | 50/86 [00:22<00:16,  2.24it/s]\u001b[A\n",
      " 59%|█████▉    | 51/86 [00:22<00:14,  2.36it/s]\u001b[A\n",
      " 60%|██████    | 52/86 [00:22<00:13,  2.47it/s]\u001b[A\n",
      " 62%|██████▏   | 53/86 [00:23<00:13,  2.42it/s]\u001b[A\n",
      " 63%|██████▎   | 54/86 [00:23<00:13,  2.36it/s]\u001b[A\n",
      " 64%|██████▍   | 55/86 [00:24<00:12,  2.41it/s]\u001b[A\n",
      " 65%|██████▌   | 56/86 [00:24<00:12,  2.36it/s]\u001b[A\n",
      " 66%|██████▋   | 57/86 [00:25<00:11,  2.45it/s]\u001b[A\n",
      " 67%|██████▋   | 58/86 [00:25<00:11,  2.35it/s]\u001b[A\n",
      " 69%|██████▊   | 59/86 [00:25<00:11,  2.38it/s]\u001b[A\n",
      " 70%|██████▉   | 60/86 [00:26<00:11,  2.21it/s]\u001b[A\n",
      " 71%|███████   | 61/86 [00:26<00:10,  2.38it/s]\u001b[A\n",
      " 72%|███████▏  | 62/86 [00:27<00:09,  2.49it/s]\u001b[A\n",
      " 73%|███████▎  | 63/86 [00:27<00:09,  2.55it/s]\u001b[A\n",
      " 74%|███████▍  | 64/86 [00:27<00:08,  2.61it/s]\u001b[A\n",
      " 76%|███████▌  | 65/86 [00:28<00:07,  2.63it/s]\u001b[A\n",
      " 77%|███████▋  | 66/86 [00:28<00:07,  2.66it/s]\u001b[A\n",
      " 78%|███████▊  | 67/86 [00:29<00:07,  2.53it/s]\u001b[A\n",
      " 79%|███████▉  | 68/86 [00:29<00:06,  2.60it/s]\u001b[A\n",
      " 80%|████████  | 69/86 [00:29<00:06,  2.64it/s]\u001b[A\n",
      " 81%|████████▏ | 70/86 [00:30<00:06,  2.66it/s]\u001b[A\n",
      " 83%|████████▎ | 71/86 [00:30<00:05,  2.69it/s]\u001b[A\n",
      " 84%|████████▎ | 72/86 [00:30<00:05,  2.57it/s]\u001b[A\n",
      " 85%|████████▍ | 73/86 [00:31<00:05,  2.57it/s]\u001b[A\n",
      " 86%|████████▌ | 74/86 [00:31<00:04,  2.50it/s]\u001b[A\n",
      " 87%|████████▋ | 75/86 [00:32<00:04,  2.57it/s]\u001b[A\n",
      " 88%|████████▊ | 76/86 [00:32<00:03,  2.64it/s]\u001b[A\n",
      " 90%|████████▉ | 77/86 [00:32<00:03,  2.71it/s]\u001b[A\n",
      " 91%|█████████ | 78/86 [00:33<00:02,  2.75it/s]\u001b[A\n",
      " 92%|█████████▏| 79/86 [00:33<00:02,  2.72it/s]\u001b[A\n",
      " 93%|█████████▎| 80/86 [00:33<00:02,  2.75it/s]\u001b[A\n",
      " 94%|█████████▍| 81/86 [00:34<00:01,  2.54it/s]\u001b[A\n",
      " 95%|█████████▌| 82/86 [00:34<00:01,  2.64it/s]\u001b[A\n",
      " 97%|█████████▋| 83/86 [00:35<00:01,  2.64it/s]\u001b[A\n",
      " 98%|█████████▊| 84/86 [00:35<00:00,  2.69it/s]\u001b[A\n",
      " 99%|█████████▉| 85/86 [00:35<00:00,  2.67it/s]\u001b[A\n",
      "100%|██████████| 86/86 [00:36<00:00,  2.69it/s]\u001b[A\n",
      " 65%|██████▌   | 13/20 [07:39<04:10, 35.81s/it]\n",
      "  0%|          | 0/86 [00:00<?, ?it/s]\u001b[A\n",
      "  1%|          | 1/86 [00:00<00:38,  2.21it/s]\u001b[A\n",
      "  2%|▏         | 2/86 [00:00<00:35,  2.37it/s]\u001b[A\n",
      "  3%|▎         | 3/86 [00:01<00:33,  2.48it/s]\u001b[A\n",
      "  5%|▍         | 4/86 [00:01<00:32,  2.54it/s]\u001b[A\n",
      "  6%|▌         | 5/86 [00:01<00:31,  2.56it/s]\u001b[A\n",
      "  7%|▋         | 6/86 [00:02<00:31,  2.56it/s]\u001b[A\n",
      "  8%|▊         | 7/86 [00:02<00:30,  2.58it/s]\u001b[A\n",
      "  9%|▉         | 8/86 [00:03<00:31,  2.46it/s]\u001b[A\n",
      " 10%|█         | 9/86 [00:03<00:30,  2.49it/s]\u001b[A\n",
      " 12%|█▏        | 10/86 [00:03<00:30,  2.53it/s]\u001b[A\n",
      " 13%|█▎        | 11/86 [00:04<00:29,  2.57it/s]\u001b[A\n",
      " 14%|█▍        | 12/86 [00:04<00:28,  2.63it/s]\u001b[A\n",
      " 15%|█▌        | 13/86 [00:05<00:27,  2.63it/s]\u001b[A\n",
      " 16%|█▋        | 14/86 [00:05<00:27,  2.66it/s]\u001b[A\n",
      " 17%|█▋        | 15/86 [00:05<00:27,  2.55it/s]\u001b[A\n",
      " 19%|█▊        | 16/86 [00:06<00:26,  2.62it/s]\u001b[A\n",
      " 20%|█▉        | 17/86 [00:06<00:25,  2.68it/s]\u001b[A\n",
      " 21%|██        | 18/86 [00:06<00:24,  2.73it/s]\u001b[A\n",
      " 22%|██▏       | 19/86 [00:07<00:24,  2.75it/s]\u001b[A\n",
      " 23%|██▎       | 20/86 [00:07<00:23,  2.78it/s]\u001b[A\n",
      " 24%|██▍       | 21/86 [00:07<00:24,  2.68it/s]\u001b[A\n",
      " 26%|██▌       | 22/86 [00:08<00:25,  2.53it/s]\u001b[A\n",
      " 27%|██▋       | 23/86 [00:08<00:24,  2.56it/s]\u001b[A\n",
      " 28%|██▊       | 24/86 [00:09<00:24,  2.57it/s]\u001b[A\n",
      " 29%|██▉       | 25/86 [00:09<00:23,  2.63it/s]\u001b[A\n",
      " 30%|███       | 26/86 [00:09<00:22,  2.67it/s]\u001b[A\n",
      " 31%|███▏      | 27/86 [00:10<00:21,  2.71it/s]\u001b[A\n",
      " 33%|███▎      | 28/86 [00:10<00:21,  2.72it/s]\u001b[A\n",
      " 34%|███▎      | 29/86 [00:11<00:21,  2.62it/s]\u001b[A\n",
      " 35%|███▍      | 30/86 [00:11<00:20,  2.69it/s]\u001b[A\n",
      " 36%|███▌      | 31/86 [00:11<00:20,  2.70it/s]\u001b[A\n",
      " 37%|███▋      | 32/86 [00:12<00:19,  2.75it/s]\u001b[A\n",
      " 38%|███▊      | 33/86 [00:12<00:19,  2.73it/s]\u001b[A\n",
      " 40%|███▉      | 34/86 [00:12<00:19,  2.73it/s]\u001b[A\n",
      " 41%|████      | 35/86 [00:13<00:18,  2.75it/s]\u001b[A\n",
      " 42%|████▏     | 36/86 [00:13<00:19,  2.56it/s]\u001b[A\n",
      " 43%|████▎     | 37/86 [00:14<00:18,  2.58it/s]\u001b[A\n",
      " 44%|████▍     | 38/86 [00:14<00:18,  2.63it/s]\u001b[A\n",
      " 45%|████▌     | 39/86 [00:14<00:18,  2.59it/s]\u001b[A\n",
      " 47%|████▋     | 40/86 [00:15<00:17,  2.65it/s]\u001b[A\n",
      " 48%|████▊     | 41/86 [00:15<00:17,  2.60it/s]\u001b[A\n",
      " 49%|████▉     | 42/86 [00:15<00:16,  2.59it/s]\u001b[A\n",
      " 50%|█████     | 43/86 [00:16<00:18,  2.27it/s]\u001b[A\n",
      " 51%|█████     | 44/86 [00:17<00:18,  2.23it/s]\u001b[A\n",
      " 52%|█████▏    | 45/86 [00:17<00:18,  2.23it/s]\u001b[A\n",
      " 53%|█████▎    | 46/86 [00:17<00:18,  2.18it/s]\u001b[A\n",
      " 55%|█████▍    | 47/86 [00:18<00:18,  2.12it/s]\u001b[A\n",
      " 56%|█████▌    | 48/86 [00:18<00:17,  2.23it/s]\u001b[A\n",
      " 57%|█████▋    | 49/86 [00:19<00:17,  2.16it/s]\u001b[A\n",
      " 58%|█████▊    | 50/86 [00:19<00:18,  1.94it/s]\u001b[A\n",
      " 59%|█████▉    | 51/86 [00:20<00:18,  1.94it/s]\u001b[A\n",
      " 60%|██████    | 52/86 [00:20<00:16,  2.00it/s]\u001b[A\n",
      " 62%|██████▏   | 53/86 [00:21<00:15,  2.19it/s]\u001b[A\n",
      " 63%|██████▎   | 54/86 [00:21<00:13,  2.35it/s]\u001b[A\n",
      " 64%|██████▍   | 55/86 [00:21<00:12,  2.49it/s]\u001b[A\n",
      " 65%|██████▌   | 56/86 [00:22<00:11,  2.59it/s]\u001b[A\n",
      " 66%|██████▋   | 57/86 [00:22<00:11,  2.46it/s]\u001b[A\n",
      " 67%|██████▋   | 58/86 [00:23<00:11,  2.47it/s]\u001b[A\n",
      " 69%|██████▊   | 59/86 [00:23<00:10,  2.49it/s]\u001b[A\n",
      " 70%|██████▉   | 60/86 [00:24<00:10,  2.41it/s]\u001b[A\n",
      " 71%|███████   | 61/86 [00:24<00:10,  2.45it/s]\u001b[A\n",
      " 72%|███████▏  | 62/86 [00:24<00:10,  2.28it/s]\u001b[A\n",
      " 73%|███████▎  | 63/86 [00:25<00:10,  2.26it/s]\u001b[A\n",
      " 74%|███████▍  | 64/86 [00:25<00:10,  2.14it/s]\u001b[A\n",
      " 76%|███████▌  | 65/86 [00:26<00:09,  2.24it/s]\u001b[A\n",
      " 77%|███████▋  | 66/86 [00:26<00:09,  2.17it/s]\u001b[A\n",
      " 78%|███████▊  | 67/86 [00:27<00:08,  2.23it/s]\u001b[A\n",
      " 79%|███████▉  | 68/86 [00:27<00:07,  2.28it/s]\u001b[A\n",
      " 80%|████████  | 69/86 [00:28<00:07,  2.19it/s]\u001b[A\n",
      " 81%|████████▏ | 70/86 [00:28<00:07,  2.22it/s]\u001b[A\n",
      " 83%|████████▎ | 71/86 [00:29<00:06,  2.16it/s]\u001b[A\n",
      " 84%|████████▎ | 72/86 [00:29<00:06,  2.16it/s]\u001b[A\n",
      " 85%|████████▍ | 73/86 [00:29<00:05,  2.28it/s]\u001b[A\n",
      " 86%|████████▌ | 74/86 [00:30<00:05,  2.24it/s]\u001b[A\n",
      " 87%|████████▋ | 75/86 [00:30<00:04,  2.38it/s]\u001b[A\n",
      " 88%|████████▊ | 76/86 [00:31<00:04,  2.42it/s]\u001b[A\n",
      " 90%|████████▉ | 77/86 [00:31<00:03,  2.43it/s]\u001b[A\n",
      " 91%|█████████ | 78/86 [00:32<00:03,  2.33it/s]\u001b[A\n",
      " 92%|█████████▏| 79/86 [00:32<00:02,  2.45it/s]\u001b[A\n",
      " 93%|█████████▎| 80/86 [00:32<00:02,  2.54it/s]\u001b[A\n",
      " 94%|█████████▍| 81/86 [00:33<00:01,  2.58it/s]\u001b[A\n",
      " 95%|█████████▌| 82/86 [00:33<00:01,  2.59it/s]\u001b[A\n",
      " 97%|█████████▋| 83/86 [00:33<00:01,  2.65it/s]\u001b[A\n",
      " 98%|█████████▊| 84/86 [00:34<00:00,  2.55it/s]\u001b[A\n",
      " 99%|█████████▉| 85/86 [00:34<00:00,  2.47it/s]\u001b[A\n",
      "100%|██████████| 86/86 [00:35<00:00,  2.48it/s]\u001b[A\n",
      " 70%|███████   | 14/20 [08:14<03:33, 35.60s/it]\n",
      "  0%|          | 0/86 [00:00<?, ?it/s]\u001b[A\n",
      "  1%|          | 1/86 [00:00<00:16,  5.28it/s]\u001b[A\n",
      "  2%|▏         | 2/86 [00:00<00:15,  5.36it/s]\u001b[A\n",
      "  3%|▎         | 3/86 [00:00<00:16,  5.05it/s]\u001b[A\n",
      "  5%|▍         | 4/86 [00:00<00:18,  4.42it/s]\u001b[A\n",
      "  6%|▌         | 5/86 [00:01<00:19,  4.16it/s]\u001b[A\n",
      "  7%|▋         | 6/86 [00:01<00:19,  4.03it/s]\u001b[A\n",
      "  8%|▊         | 7/86 [00:01<00:21,  3.67it/s]\u001b[A\n",
      "  9%|▉         | 8/86 [00:02<00:22,  3.54it/s]\u001b[A\n",
      " 10%|█         | 9/86 [00:02<00:22,  3.39it/s]\u001b[A\n",
      " 12%|█▏        | 10/86 [00:02<00:23,  3.24it/s]\u001b[A\n",
      " 13%|█▎        | 11/86 [00:03<00:25,  2.98it/s]\u001b[A\n",
      " 14%|█▍        | 12/86 [00:03<00:25,  2.95it/s]\u001b[A\n",
      " 15%|█▌        | 13/86 [00:03<00:24,  3.03it/s]\u001b[A\n",
      " 16%|█▋        | 14/86 [00:04<00:24,  2.97it/s]\u001b[A\n",
      " 17%|█▋        | 15/86 [00:04<00:24,  2.95it/s]\u001b[A\n",
      " 19%|█▊        | 16/86 [00:04<00:23,  2.98it/s]\u001b[A\n",
      " 20%|█▉        | 17/86 [00:05<00:22,  3.04it/s]\u001b[A\n",
      " 21%|██        | 18/86 [00:05<00:21,  3.21it/s]\u001b[A\n",
      " 22%|██▏       | 19/86 [00:05<00:20,  3.21it/s]\u001b[A\n",
      " 23%|██▎       | 20/86 [00:06<00:20,  3.19it/s]\u001b[A\n",
      " 24%|██▍       | 21/86 [00:06<00:21,  2.96it/s]\u001b[A\n",
      " 26%|██▌       | 22/86 [00:06<00:23,  2.73it/s]\u001b[A\n",
      " 27%|██▋       | 23/86 [00:07<00:24,  2.57it/s]\u001b[A\n",
      " 28%|██▊       | 24/86 [00:07<00:25,  2.42it/s]\u001b[A\n",
      " 29%|██▉       | 25/86 [00:08<00:27,  2.18it/s]\u001b[A\n",
      " 30%|███       | 26/86 [00:08<00:25,  2.34it/s]\u001b[A\n",
      " 31%|███▏      | 27/86 [00:09<00:23,  2.51it/s]\u001b[A\n",
      " 33%|███▎      | 28/86 [00:09<00:22,  2.60it/s]\u001b[A\n",
      " 34%|███▎      | 29/86 [00:09<00:20,  2.72it/s]\u001b[A\n",
      " 35%|███▍      | 30/86 [00:10<00:22,  2.46it/s]\u001b[A\n",
      " 36%|███▌      | 31/86 [00:10<00:24,  2.24it/s]\u001b[A\n",
      " 37%|███▋      | 32/86 [00:11<00:25,  2.11it/s]\u001b[A\n",
      " 38%|███▊      | 33/86 [00:11<00:26,  2.01it/s]\u001b[A\n",
      " 40%|███▉      | 34/86 [00:12<00:24,  2.09it/s]\u001b[A\n",
      " 41%|████      | 35/86 [00:12<00:22,  2.24it/s]\u001b[A\n",
      " 42%|████▏     | 36/86 [00:13<00:21,  2.30it/s]\u001b[A\n",
      " 43%|████▎     | 37/86 [00:13<00:21,  2.30it/s]\u001b[A\n",
      " 44%|████▍     | 38/86 [00:13<00:19,  2.41it/s]\u001b[A\n",
      " 45%|████▌     | 39/86 [00:14<00:19,  2.40it/s]\u001b[A\n",
      " 47%|████▋     | 40/86 [00:14<00:20,  2.29it/s]\u001b[A\n",
      " 48%|████▊     | 41/86 [00:15<00:19,  2.31it/s]\u001b[A\n",
      " 49%|████▉     | 42/86 [00:15<00:19,  2.20it/s]\u001b[A\n",
      " 50%|█████     | 43/86 [00:16<00:18,  2.31it/s]\u001b[A\n",
      " 51%|█████     | 44/86 [00:16<00:17,  2.45it/s]\u001b[A\n",
      " 52%|█████▏    | 45/86 [00:16<00:16,  2.56it/s]\u001b[A\n",
      " 53%|█████▎    | 46/86 [00:17<00:15,  2.52it/s]\u001b[A\n",
      " 55%|█████▍    | 47/86 [00:17<00:15,  2.56it/s]\u001b[A\n",
      " 56%|█████▌    | 48/86 [00:17<00:15,  2.45it/s]\u001b[A\n",
      " 57%|█████▋    | 49/86 [00:18<00:14,  2.48it/s]\u001b[A\n",
      " 58%|█████▊    | 50/86 [00:18<00:14,  2.55it/s]\u001b[A\n",
      " 59%|█████▉    | 51/86 [00:19<00:13,  2.63it/s]\u001b[A\n",
      " 60%|██████    | 52/86 [00:19<00:13,  2.55it/s]\u001b[A\n",
      " 62%|██████▏   | 53/86 [00:20<00:14,  2.35it/s]\u001b[A\n",
      " 63%|██████▎   | 54/86 [00:20<00:13,  2.35it/s]\u001b[A\n",
      " 64%|██████▍   | 55/86 [00:20<00:12,  2.44it/s]\u001b[A\n",
      " 65%|██████▌   | 56/86 [00:21<00:12,  2.45it/s]\u001b[A\n",
      " 66%|██████▋   | 57/86 [00:21<00:11,  2.51it/s]\u001b[A\n",
      " 67%|██████▋   | 58/86 [00:22<00:11,  2.49it/s]\u001b[A\n",
      " 69%|██████▊   | 59/86 [00:22<00:11,  2.42it/s]\u001b[A\n",
      " 70%|██████▉   | 60/86 [00:22<00:11,  2.30it/s]\u001b[A\n",
      " 71%|███████   | 61/86 [00:23<00:10,  2.40it/s]\u001b[A\n",
      " 72%|███████▏  | 62/86 [00:23<00:10,  2.22it/s]\u001b[A\n",
      " 73%|███████▎  | 63/86 [00:24<00:10,  2.26it/s]\u001b[A\n",
      " 74%|███████▍  | 64/86 [00:24<00:09,  2.35it/s]\u001b[A\n",
      " 76%|███████▌  | 65/86 [00:25<00:08,  2.37it/s]\u001b[A\n",
      " 77%|███████▋  | 66/86 [00:25<00:08,  2.34it/s]\u001b[A\n",
      " 78%|███████▊  | 67/86 [00:26<00:09,  2.05it/s]\u001b[A\n",
      " 79%|███████▉  | 68/86 [00:26<00:08,  2.10it/s]\u001b[A\n",
      " 80%|████████  | 69/86 [00:26<00:07,  2.19it/s]\u001b[A\n",
      " 81%|████████▏ | 70/86 [00:27<00:06,  2.31it/s]\u001b[A\n",
      " 83%|████████▎ | 71/86 [00:27<00:06,  2.40it/s]\u001b[A\n",
      " 84%|████████▎ | 72/86 [00:28<00:06,  2.30it/s]\u001b[A\n",
      " 85%|████████▍ | 73/86 [00:28<00:05,  2.30it/s]\u001b[A\n",
      " 86%|████████▌ | 74/86 [00:29<00:04,  2.43it/s]\u001b[A\n",
      " 87%|████████▋ | 75/86 [00:29<00:04,  2.36it/s]\u001b[A\n",
      " 88%|████████▊ | 76/86 [00:29<00:04,  2.27it/s]\u001b[A\n",
      " 90%|████████▉ | 77/86 [00:30<00:04,  2.15it/s]\u001b[A\n",
      " 91%|█████████ | 78/86 [00:31<00:04,  1.94it/s]\u001b[A\n",
      " 92%|█████████▏| 79/86 [00:31<00:03,  1.79it/s]\u001b[A\n",
      " 93%|█████████▎| 80/86 [00:32<00:03,  1.89it/s]\u001b[A\n",
      " 94%|█████████▍| 81/86 [00:32<00:02,  1.96it/s]\u001b[A\n",
      " 95%|█████████▌| 82/86 [00:33<00:01,  2.01it/s]\u001b[A\n",
      " 97%|█████████▋| 83/86 [00:33<00:01,  1.98it/s]\u001b[A\n",
      " 98%|█████████▊| 84/86 [00:34<00:01,  1.94it/s]\u001b[A\n",
      " 99%|█████████▉| 85/86 [00:34<00:00,  1.99it/s]\u001b[A\n",
      "100%|██████████| 86/86 [00:35<00:00,  1.89it/s]\u001b[A\n",
      " 75%|███████▌  | 15/20 [08:49<02:57, 35.51s/it]\n",
      "  0%|          | 0/86 [00:00<?, ?it/s]\u001b[A\n",
      "  1%|          | 1/86 [00:00<00:47,  1.77it/s]\u001b[A\n",
      "  2%|▏         | 2/86 [00:01<00:45,  1.86it/s]\u001b[A\n",
      "  3%|▎         | 3/86 [00:01<00:46,  1.79it/s]\u001b[A\n",
      "  5%|▍         | 4/86 [00:02<00:44,  1.84it/s]\u001b[A\n",
      "  6%|▌         | 5/86 [00:02<00:44,  1.84it/s]\u001b[A\n",
      "  7%|▋         | 6/86 [00:03<00:43,  1.82it/s]\u001b[A\n",
      "  8%|▊         | 7/86 [00:03<00:39,  2.00it/s]\u001b[A\n",
      "  9%|▉         | 8/86 [00:04<00:39,  1.96it/s]\u001b[A\n",
      " 10%|█         | 9/86 [00:04<00:39,  1.94it/s]\u001b[A\n",
      " 12%|█▏        | 10/86 [00:05<00:41,  1.82it/s]\u001b[A\n",
      " 13%|█▎        | 11/86 [00:05<00:41,  1.81it/s]\u001b[A\n",
      " 14%|█▍        | 12/86 [00:06<00:41,  1.80it/s]\u001b[A\n",
      " 15%|█▌        | 13/86 [00:06<00:40,  1.82it/s]\u001b[A\n",
      " 16%|█▋        | 14/86 [00:07<00:37,  1.90it/s]\u001b[A\n",
      " 17%|█▋        | 15/86 [00:07<00:37,  1.92it/s]\u001b[A\n",
      " 19%|█▊        | 16/86 [00:08<00:35,  1.97it/s]\u001b[A\n",
      " 20%|█▉        | 17/86 [00:08<00:34,  2.02it/s]\u001b[A\n",
      " 21%|██        | 18/86 [00:09<00:33,  2.00it/s]\u001b[A\n",
      " 22%|██▏       | 19/86 [00:09<00:33,  2.01it/s]\u001b[A\n",
      " 23%|██▎       | 20/86 [00:10<00:33,  1.98it/s]\u001b[A\n",
      " 24%|██▍       | 21/86 [00:10<00:32,  1.97it/s]\u001b[A\n",
      " 26%|██▌       | 22/86 [00:11<00:33,  1.91it/s]\u001b[A\n",
      " 27%|██▋       | 23/86 [00:12<00:32,  1.91it/s]\u001b[A\n",
      " 28%|██▊       | 24/86 [00:12<00:30,  2.04it/s]\u001b[A\n",
      " 29%|██▉       | 25/86 [00:12<00:28,  2.15it/s]\u001b[A\n",
      " 30%|███       | 26/86 [00:13<00:31,  1.91it/s]\u001b[A\n",
      " 31%|███▏      | 27/86 [00:14<00:30,  1.92it/s]\u001b[A\n",
      " 33%|███▎      | 28/86 [00:14<00:29,  1.97it/s]\u001b[A\n",
      " 34%|███▎      | 29/86 [00:15<00:30,  1.87it/s]\u001b[A\n",
      " 35%|███▍      | 30/86 [00:15<00:29,  1.90it/s]\u001b[A\n",
      " 36%|███▌      | 31/86 [00:16<00:28,  1.91it/s]\u001b[A\n",
      " 37%|███▋      | 32/86 [00:16<00:29,  1.85it/s]\u001b[A\n",
      " 38%|███▊      | 33/86 [00:17<00:29,  1.78it/s]\u001b[A\n",
      " 40%|███▉      | 34/86 [00:17<00:26,  1.96it/s]\u001b[A\n",
      " 41%|████      | 35/86 [00:18<00:23,  2.14it/s]\u001b[A\n",
      " 42%|████▏     | 36/86 [00:18<00:22,  2.22it/s]\u001b[A\n",
      " 43%|████▎     | 37/86 [00:18<00:21,  2.29it/s]\u001b[A\n",
      " 44%|████▍     | 38/86 [00:19<00:21,  2.19it/s]\u001b[A\n",
      " 45%|████▌     | 39/86 [00:19<00:20,  2.29it/s]\u001b[A\n",
      " 47%|████▋     | 40/86 [00:20<00:19,  2.30it/s]\u001b[A\n",
      " 48%|████▊     | 41/86 [00:20<00:18,  2.44it/s]\u001b[A\n",
      " 49%|████▉     | 42/86 [00:20<00:17,  2.53it/s]\u001b[A\n",
      " 50%|█████     | 43/86 [00:21<00:16,  2.59it/s]\u001b[A\n",
      " 51%|█████     | 44/86 [00:21<00:16,  2.60it/s]\u001b[A\n",
      " 52%|█████▏    | 45/86 [00:22<00:15,  2.66it/s]\u001b[A\n",
      " 53%|█████▎    | 46/86 [00:22<00:14,  2.69it/s]\u001b[A\n",
      " 55%|█████▍    | 47/86 [00:22<00:15,  2.57it/s]\u001b[A\n",
      " 56%|█████▌    | 48/86 [00:23<00:15,  2.45it/s]\u001b[A\n",
      " 57%|█████▋    | 49/86 [00:23<00:14,  2.47it/s]\u001b[A\n",
      " 58%|█████▊    | 50/86 [00:24<00:15,  2.36it/s]\u001b[A\n",
      " 59%|█████▉    | 51/86 [00:24<00:14,  2.38it/s]\u001b[A\n",
      " 60%|██████    | 52/86 [00:24<00:14,  2.40it/s]\u001b[A\n",
      " 62%|██████▏   | 53/86 [00:25<00:13,  2.39it/s]\u001b[A\n",
      " 63%|██████▎   | 54/86 [00:25<00:15,  2.13it/s]\u001b[A\n",
      " 64%|██████▍   | 55/86 [00:26<00:14,  2.07it/s]\u001b[A\n",
      " 65%|██████▌   | 56/86 [00:27<00:14,  2.04it/s]\u001b[A\n",
      " 66%|██████▋   | 57/86 [00:27<00:14,  1.98it/s]\u001b[A\n",
      " 67%|██████▋   | 58/86 [00:27<00:13,  2.11it/s]\u001b[A\n",
      " 69%|██████▊   | 59/86 [00:28<00:12,  2.24it/s]\u001b[A\n",
      " 70%|██████▉   | 60/86 [00:28<00:10,  2.39it/s]\u001b[A\n",
      " 71%|███████   | 61/86 [00:29<00:11,  2.17it/s]\u001b[A\n",
      " 72%|███████▏  | 62/86 [00:29<00:10,  2.30it/s]\u001b[A\n",
      " 73%|███████▎  | 63/86 [00:29<00:09,  2.39it/s]\u001b[A\n",
      " 74%|███████▍  | 64/86 [00:30<00:09,  2.26it/s]\u001b[A\n",
      " 76%|███████▌  | 65/86 [00:30<00:09,  2.27it/s]\u001b[A\n",
      " 77%|███████▋  | 66/86 [00:31<00:08,  2.30it/s]\u001b[A\n",
      " 78%|███████▊  | 67/86 [00:31<00:07,  2.42it/s]\u001b[A\n",
      " 79%|███████▉  | 68/86 [00:32<00:07,  2.34it/s]\u001b[A\n",
      " 80%|████████  | 69/86 [00:32<00:07,  2.38it/s]\u001b[A\n",
      " 81%|████████▏ | 70/86 [00:33<00:07,  2.26it/s]\u001b[A\n",
      " 83%|████████▎ | 71/86 [00:33<00:06,  2.36it/s]\u001b[A\n",
      " 84%|████████▎ | 72/86 [00:33<00:06,  2.28it/s]\u001b[A\n",
      " 85%|████████▍ | 73/86 [00:34<00:06,  2.14it/s]\u001b[A\n",
      " 86%|████████▌ | 74/86 [00:34<00:05,  2.08it/s]\u001b[A\n",
      " 87%|████████▋ | 75/86 [00:35<00:05,  1.85it/s]\u001b[A\n",
      " 88%|████████▊ | 76/86 [00:36<00:04,  2.02it/s]\u001b[A\n",
      " 90%|████████▉ | 77/86 [00:36<00:04,  1.99it/s]\u001b[A\n",
      " 91%|█████████ | 78/86 [00:37<00:04,  1.87it/s]\u001b[A\n",
      " 92%|█████████▏| 79/86 [00:37<00:03,  2.00it/s]\u001b[A\n",
      " 93%|█████████▎| 80/86 [00:37<00:02,  2.14it/s]\u001b[A\n",
      " 94%|█████████▍| 81/86 [00:38<00:02,  2.22it/s]\u001b[A\n",
      " 95%|█████████▌| 82/86 [00:38<00:01,  2.12it/s]\u001b[A\n",
      " 97%|█████████▋| 83/86 [00:39<00:01,  2.04it/s]\u001b[A\n",
      " 98%|█████████▊| 84/86 [00:39<00:00,  2.07it/s]\u001b[A\n",
      " 99%|█████████▉| 85/86 [00:40<00:00,  2.15it/s]\u001b[A\n",
      "100%|██████████| 86/86 [00:40<00:00,  2.01it/s]\u001b[A\n",
      " 80%|████████  | 16/20 [09:30<02:28, 37.13s/it]\n",
      "  0%|          | 0/86 [00:00<?, ?it/s]\u001b[A\n",
      "  1%|          | 1/86 [00:00<00:46,  1.83it/s]\u001b[A\n",
      "  2%|▏         | 2/86 [00:00<00:42,  2.00it/s]\u001b[A\n",
      "  3%|▎         | 3/86 [00:01<00:40,  2.03it/s]\u001b[A\n",
      "  5%|▍         | 4/86 [00:01<00:38,  2.12it/s]\u001b[A\n",
      "  6%|▌         | 5/86 [00:02<00:36,  2.23it/s]\u001b[A\n",
      "  7%|▋         | 6/86 [00:02<00:34,  2.33it/s]\u001b[A\n",
      "  8%|▊         | 7/86 [00:02<00:32,  2.43it/s]\u001b[A\n",
      "  9%|▉         | 8/86 [00:03<00:33,  2.34it/s]\u001b[A\n",
      " 10%|█         | 9/86 [00:03<00:33,  2.27it/s]\u001b[A\n",
      " 12%|█▏        | 10/86 [00:04<00:32,  2.35it/s]\u001b[A\n",
      " 13%|█▎        | 11/86 [00:04<00:31,  2.40it/s]\u001b[A\n",
      " 14%|█▍        | 12/86 [00:05<00:30,  2.47it/s]\u001b[A\n",
      " 15%|█▌        | 13/86 [00:05<00:29,  2.52it/s]\u001b[A\n",
      " 16%|█▋        | 14/86 [00:05<00:28,  2.54it/s]\u001b[A\n",
      " 17%|█▋        | 15/86 [00:06<00:29,  2.41it/s]\u001b[A\n",
      " 19%|█▊        | 16/86 [00:06<00:31,  2.22it/s]\u001b[A\n",
      " 20%|█▉        | 17/86 [00:07<00:32,  2.09it/s]\u001b[A\n",
      " 21%|██        | 18/86 [00:07<00:31,  2.17it/s]\u001b[A\n",
      " 22%|██▏       | 19/86 [00:08<00:28,  2.33it/s]\u001b[A\n",
      " 23%|██▎       | 20/86 [00:08<00:27,  2.39it/s]\u001b[A\n",
      " 24%|██▍       | 21/86 [00:09<00:28,  2.25it/s]\u001b[A\n",
      " 26%|██▌       | 22/86 [00:09<00:28,  2.23it/s]\u001b[A\n",
      " 27%|██▋       | 23/86 [00:09<00:28,  2.22it/s]\u001b[A\n",
      " 28%|██▊       | 24/86 [00:10<00:28,  2.19it/s]\u001b[A\n",
      " 29%|██▉       | 25/86 [00:10<00:26,  2.29it/s]\u001b[A\n",
      " 30%|███       | 26/86 [00:11<00:24,  2.41it/s]\u001b[A\n",
      " 31%|███▏      | 27/86 [00:11<00:24,  2.44it/s]\u001b[A\n",
      " 33%|███▎      | 28/86 [00:12<00:25,  2.27it/s]\u001b[A\n",
      " 34%|███▎      | 29/86 [00:12<00:25,  2.24it/s]\u001b[A\n",
      " 35%|███▍      | 30/86 [00:13<00:25,  2.22it/s]\u001b[A\n",
      " 36%|███▌      | 31/86 [00:13<00:24,  2.27it/s]\u001b[A\n",
      " 37%|███▋      | 32/86 [00:13<00:22,  2.37it/s]\u001b[A\n",
      " 38%|███▊      | 33/86 [00:14<00:21,  2.43it/s]\u001b[A\n",
      " 40%|███▉      | 34/86 [00:14<00:20,  2.48it/s]\u001b[A\n",
      " 41%|████      | 35/86 [00:14<00:20,  2.50it/s]\u001b[A\n",
      " 42%|████▏     | 36/86 [00:15<00:18,  2.64it/s]\u001b[A\n",
      " 43%|████▎     | 37/86 [00:15<00:17,  2.74it/s]\u001b[A\n",
      " 44%|████▍     | 38/86 [00:15<00:17,  2.80it/s]\u001b[A\n",
      " 45%|████▌     | 39/86 [00:16<00:16,  2.92it/s]\u001b[A\n",
      " 47%|████▋     | 40/86 [00:16<00:15,  3.01it/s]\u001b[A\n",
      " 48%|████▊     | 41/86 [00:16<00:15,  2.99it/s]\u001b[A\n",
      " 49%|████▉     | 42/86 [00:17<00:15,  2.88it/s]\u001b[A\n",
      " 50%|█████     | 43/86 [00:17<00:15,  2.83it/s]\u001b[A\n",
      " 51%|█████     | 44/86 [00:17<00:14,  2.95it/s]\u001b[A\n",
      " 52%|█████▏    | 45/86 [00:18<00:12,  3.37it/s]\u001b[A\n",
      " 53%|█████▎    | 46/86 [00:18<00:11,  3.56it/s]\u001b[A\n",
      " 55%|█████▍    | 47/86 [00:18<00:11,  3.47it/s]\u001b[A\n",
      " 56%|█████▌    | 48/86 [00:19<00:11,  3.33it/s]\u001b[A\n",
      " 57%|█████▋    | 49/86 [00:19<00:12,  3.01it/s]\u001b[A\n",
      " 58%|█████▊    | 50/86 [00:19<00:11,  3.11it/s]\u001b[A\n",
      " 59%|█████▉    | 51/86 [00:20<00:11,  3.13it/s]\u001b[A\n",
      " 60%|██████    | 52/86 [00:20<00:10,  3.14it/s]\u001b[A\n",
      " 62%|██████▏   | 53/86 [00:20<00:10,  3.05it/s]\u001b[A\n",
      " 63%|██████▎   | 54/86 [00:21<00:10,  3.08it/s]\u001b[A\n",
      " 64%|██████▍   | 55/86 [00:21<00:09,  3.13it/s]\u001b[A\n",
      " 65%|██████▌   | 56/86 [00:21<00:09,  3.24it/s]\u001b[A\n",
      " 66%|██████▋   | 57/86 [00:21<00:08,  3.27it/s]\u001b[A\n",
      " 67%|██████▋   | 58/86 [00:22<00:08,  3.29it/s]\u001b[A\n",
      " 69%|██████▊   | 59/86 [00:22<00:08,  3.24it/s]\u001b[A\n",
      " 70%|██████▉   | 60/86 [00:22<00:08,  3.21it/s]\u001b[A\n",
      " 71%|███████   | 61/86 [00:23<00:06,  3.58it/s]\u001b[A\n",
      " 72%|███████▏  | 62/86 [00:23<00:06,  3.65it/s]\u001b[A\n",
      " 73%|███████▎  | 63/86 [00:23<00:05,  3.96it/s]\u001b[A\n",
      " 74%|███████▍  | 64/86 [00:23<00:05,  4.20it/s]\u001b[A\n",
      " 76%|███████▌  | 65/86 [00:24<00:05,  3.64it/s]\u001b[A\n",
      " 77%|███████▋  | 66/86 [00:24<00:05,  3.51it/s]\u001b[A\n",
      " 78%|███████▊  | 67/86 [00:24<00:05,  3.26it/s]\u001b[A\n",
      " 79%|███████▉  | 68/86 [00:25<00:06,  2.97it/s]\u001b[A\n",
      " 80%|████████  | 69/86 [00:25<00:05,  2.93it/s]\u001b[A\n",
      " 81%|████████▏ | 70/86 [00:25<00:05,  2.89it/s]\u001b[A\n",
      " 83%|████████▎ | 71/86 [00:26<00:05,  2.88it/s]\u001b[A\n",
      " 84%|████████▎ | 72/86 [00:26<00:04,  2.93it/s]\u001b[A\n",
      " 85%|████████▍ | 73/86 [00:26<00:04,  3.01it/s]\u001b[A\n",
      " 86%|████████▌ | 74/86 [00:27<00:03,  3.27it/s]\u001b[A\n",
      " 87%|████████▋ | 75/86 [00:27<00:03,  3.05it/s]\u001b[A\n",
      " 88%|████████▊ | 76/86 [00:27<00:03,  3.08it/s]\u001b[A\n",
      " 90%|████████▉ | 77/86 [00:28<00:02,  3.10it/s]\u001b[A\n",
      " 91%|█████████ | 78/86 [00:28<00:02,  3.03it/s]\u001b[A\n",
      " 92%|█████████▏| 79/86 [00:28<00:02,  3.08it/s]\u001b[A\n",
      " 93%|█████████▎| 80/86 [00:29<00:01,  3.02it/s]\u001b[A\n",
      " 94%|█████████▍| 81/86 [00:29<00:01,  2.83it/s]\u001b[A\n",
      " 95%|█████████▌| 82/86 [00:29<00:01,  2.83it/s]\u001b[A\n",
      " 97%|█████████▋| 83/86 [00:30<00:01,  2.84it/s]\u001b[A\n",
      " 98%|█████████▊| 84/86 [00:30<00:00,  2.85it/s]\u001b[A\n",
      " 99%|█████████▉| 85/86 [00:30<00:00,  2.83it/s]\u001b[A\n",
      "100%|██████████| 86/86 [00:31<00:00,  2.80it/s]\u001b[A\n",
      " 85%|████████▌ | 17/20 [10:02<01:46, 35.40s/it]\n",
      "  0%|          | 0/86 [00:00<?, ?it/s]\u001b[A\n",
      "  1%|          | 1/86 [00:00<00:39,  2.17it/s]\u001b[A\n",
      "  2%|▏         | 2/86 [00:00<00:36,  2.31it/s]\u001b[A\n",
      "  3%|▎         | 3/86 [00:01<00:34,  2.43it/s]\u001b[A\n",
      "  5%|▍         | 4/86 [00:01<00:32,  2.52it/s]\u001b[A\n",
      "  6%|▌         | 5/86 [00:01<00:32,  2.49it/s]\u001b[A\n",
      "  7%|▋         | 6/86 [00:02<00:31,  2.56it/s]\u001b[A\n",
      "  8%|▊         | 7/86 [00:02<00:30,  2.61it/s]\u001b[A\n",
      "  9%|▉         | 8/86 [00:03<00:29,  2.66it/s]\u001b[A\n",
      " 10%|█         | 9/86 [00:03<00:28,  2.72it/s]\u001b[A\n",
      " 12%|█▏        | 10/86 [00:03<00:28,  2.70it/s]\u001b[A\n",
      " 13%|█▎        | 11/86 [00:04<00:28,  2.62it/s]\u001b[A\n",
      " 14%|█▍        | 12/86 [00:04<00:32,  2.30it/s]\u001b[A\n",
      " 15%|█▌        | 13/86 [00:05<00:31,  2.31it/s]\u001b[A\n",
      " 16%|█▋        | 14/86 [00:05<00:29,  2.46it/s]\u001b[A\n",
      " 17%|█▋        | 15/86 [00:05<00:27,  2.58it/s]\u001b[A\n",
      " 19%|█▊        | 16/86 [00:06<00:26,  2.64it/s]\u001b[A\n",
      " 20%|█▉        | 17/86 [00:06<00:26,  2.63it/s]\u001b[A\n",
      " 21%|██        | 18/86 [00:07<00:26,  2.59it/s]\u001b[A\n",
      " 22%|██▏       | 19/86 [00:07<00:26,  2.51it/s]\u001b[A\n",
      " 23%|██▎       | 20/86 [00:07<00:29,  2.23it/s]\u001b[A\n",
      " 24%|██▍       | 21/86 [00:08<00:30,  2.11it/s]\u001b[A\n",
      " 26%|██▌       | 22/86 [00:08<00:29,  2.16it/s]\u001b[A\n",
      " 27%|██▋       | 23/86 [00:09<00:27,  2.32it/s]\u001b[A\n",
      " 28%|██▊       | 24/86 [00:09<00:26,  2.37it/s]\u001b[A\n",
      " 29%|██▉       | 25/86 [00:10<00:24,  2.50it/s]\u001b[A\n",
      " 30%|███       | 26/86 [00:10<00:23,  2.57it/s]\u001b[A\n",
      " 31%|███▏      | 27/86 [00:10<00:22,  2.64it/s]\u001b[A\n",
      " 33%|███▎      | 28/86 [00:11<00:21,  2.68it/s]\u001b[A\n",
      " 34%|███▎      | 29/86 [00:11<00:21,  2.68it/s]\u001b[A\n",
      " 35%|███▍      | 30/86 [00:11<00:20,  2.72it/s]\u001b[A\n",
      " 36%|███▌      | 31/86 [00:12<00:21,  2.61it/s]\u001b[A\n",
      " 37%|███▋      | 32/86 [00:12<00:20,  2.67it/s]\u001b[A\n",
      " 38%|███▊      | 33/86 [00:13<00:19,  2.70it/s]\u001b[A\n",
      " 40%|███▉      | 34/86 [00:13<00:19,  2.73it/s]\u001b[A\n",
      " 41%|████      | 35/86 [00:13<00:18,  2.76it/s]\u001b[A\n",
      " 42%|████▏     | 36/86 [00:14<00:18,  2.75it/s]\u001b[A\n",
      " 43%|████▎     | 37/86 [00:14<00:18,  2.72it/s]\u001b[A\n",
      " 44%|████▍     | 38/86 [00:14<00:18,  2.56it/s]\u001b[A\n",
      " 45%|████▌     | 39/86 [00:15<00:18,  2.61it/s]\u001b[A\n",
      " 47%|████▋     | 40/86 [00:15<00:17,  2.67it/s]\u001b[A\n",
      " 48%|████▊     | 41/86 [00:15<00:16,  2.71it/s]\u001b[A\n",
      " 49%|████▉     | 42/86 [00:16<00:16,  2.73it/s]\u001b[A\n",
      " 50%|█████     | 43/86 [00:16<00:15,  2.74it/s]\u001b[A\n",
      " 51%|█████     | 44/86 [00:17<00:16,  2.59it/s]\u001b[A\n",
      " 52%|█████▏    | 45/86 [00:17<00:15,  2.64it/s]\u001b[A\n",
      " 53%|█████▎    | 46/86 [00:17<00:14,  2.70it/s]\u001b[A\n",
      " 55%|█████▍    | 47/86 [00:18<00:14,  2.71it/s]\u001b[A\n",
      " 56%|█████▌    | 48/86 [00:18<00:13,  2.73it/s]\u001b[A\n",
      " 57%|█████▋    | 49/86 [00:18<00:13,  2.76it/s]\u001b[A\n",
      " 58%|█████▊    | 50/86 [00:19<00:13,  2.59it/s]\u001b[A\n",
      " 59%|█████▉    | 51/86 [00:19<00:13,  2.59it/s]\u001b[A\n",
      " 60%|██████    | 52/86 [00:20<00:13,  2.55it/s]\u001b[A\n",
      " 62%|██████▏   | 53/86 [00:20<00:12,  2.60it/s]\u001b[A\n",
      " 63%|██████▎   | 54/86 [00:20<00:12,  2.61it/s]\u001b[A\n",
      " 64%|██████▍   | 55/86 [00:21<00:11,  2.64it/s]\u001b[A\n",
      " 65%|██████▌   | 56/86 [00:21<00:11,  2.55it/s]\u001b[A\n",
      " 66%|██████▋   | 57/86 [00:22<00:11,  2.60it/s]\u001b[A\n",
      " 67%|██████▋   | 58/86 [00:22<00:10,  2.67it/s]\u001b[A\n",
      " 69%|██████▊   | 59/86 [00:22<00:10,  2.63it/s]\u001b[A\n",
      " 70%|██████▉   | 60/86 [00:23<00:09,  2.68it/s]\u001b[A\n",
      " 71%|███████   | 61/86 [00:23<00:09,  2.71it/s]\u001b[A\n",
      " 72%|███████▏  | 62/86 [00:23<00:09,  2.65it/s]\u001b[A\n",
      " 73%|███████▎  | 63/86 [00:24<00:08,  2.70it/s]\u001b[A\n",
      " 74%|███████▍  | 64/86 [00:24<00:08,  2.73it/s]\u001b[A\n",
      " 76%|███████▌  | 65/86 [00:24<00:07,  2.76it/s]\u001b[A\n",
      " 77%|███████▋  | 66/86 [00:25<00:07,  2.78it/s]\u001b[A\n",
      " 78%|███████▊  | 67/86 [00:25<00:06,  2.79it/s]\u001b[A\n",
      " 79%|███████▉  | 68/86 [00:26<00:06,  2.70it/s]\u001b[A\n",
      " 80%|████████  | 69/86 [00:26<00:06,  2.74it/s]\u001b[A\n",
      " 81%|████████▏ | 70/86 [00:26<00:05,  2.78it/s]\u001b[A\n",
      " 83%|████████▎ | 71/86 [00:27<00:05,  2.78it/s]\u001b[A\n",
      " 84%|████████▎ | 72/86 [00:27<00:04,  2.80it/s]\u001b[A\n",
      " 85%|████████▍ | 73/86 [00:27<00:04,  2.80it/s]\u001b[A\n",
      " 86%|████████▌ | 74/86 [00:28<00:04,  2.70it/s]\u001b[A\n",
      " 87%|████████▋ | 75/86 [00:28<00:04,  2.70it/s]\u001b[A\n",
      " 88%|████████▊ | 76/86 [00:28<00:03,  2.75it/s]\u001b[A\n",
      " 90%|████████▉ | 77/86 [00:29<00:03,  2.77it/s]\u001b[A\n",
      " 91%|█████████ | 78/86 [00:29<00:02,  2.77it/s]\u001b[A\n",
      " 92%|█████████▏| 79/86 [00:30<00:02,  2.79it/s]\u001b[A\n",
      " 93%|█████████▎| 80/86 [00:30<00:02,  2.69it/s]\u001b[A\n",
      " 94%|█████████▍| 81/86 [00:30<00:01,  2.74it/s]\u001b[A\n",
      " 95%|█████████▌| 82/86 [00:31<00:01,  2.76it/s]\u001b[A\n",
      " 97%|█████████▋| 83/86 [00:31<00:01,  2.76it/s]\u001b[A\n",
      " 98%|█████████▊| 84/86 [00:31<00:00,  2.78it/s]\u001b[A\n",
      " 99%|█████████▉| 85/86 [00:32<00:00,  2.78it/s]\u001b[A\n",
      "100%|██████████| 86/86 [00:32<00:00,  2.67it/s]\u001b[A\n",
      " 90%|█████████ | 18/20 [10:34<01:09, 34.58s/it]\n",
      "  0%|          | 0/86 [00:00<?, ?it/s]\u001b[A\n",
      "  1%|          | 1/86 [00:00<00:30,  2.80it/s]\u001b[A\n",
      "  2%|▏         | 2/86 [00:00<00:29,  2.82it/s]\u001b[A\n",
      "  3%|▎         | 3/86 [00:01<00:29,  2.81it/s]\u001b[A\n",
      "  5%|▍         | 4/86 [00:01<00:29,  2.82it/s]\u001b[A\n",
      "  6%|▌         | 5/86 [00:01<00:29,  2.71it/s]\u001b[A\n",
      "  7%|▋         | 6/86 [00:02<00:29,  2.70it/s]\u001b[A\n",
      "  8%|▊         | 7/86 [00:02<00:29,  2.71it/s]\u001b[A\n",
      "  9%|▉         | 8/86 [00:02<00:28,  2.73it/s]\u001b[A\n",
      " 10%|█         | 9/86 [00:03<00:28,  2.75it/s]\u001b[A\n",
      " 12%|█▏        | 10/86 [00:03<00:27,  2.78it/s]\u001b[A\n",
      " 13%|█▎        | 11/86 [00:03<00:26,  2.79it/s]\u001b[A\n",
      " 14%|█▍        | 12/86 [00:04<00:27,  2.65it/s]\u001b[A\n",
      " 15%|█▌        | 13/86 [00:04<00:26,  2.70it/s]\u001b[A\n",
      " 16%|█▋        | 14/86 [00:05<00:26,  2.74it/s]\u001b[A\n",
      " 17%|█▋        | 15/86 [00:05<00:25,  2.76it/s]\u001b[A\n",
      " 19%|█▊        | 16/86 [00:05<00:25,  2.76it/s]\u001b[A\n",
      " 20%|█▉        | 17/86 [00:06<00:24,  2.77it/s]\u001b[A\n",
      " 21%|██        | 18/86 [00:06<00:24,  2.73it/s]\u001b[A\n",
      " 22%|██▏       | 19/86 [00:06<00:24,  2.72it/s]\u001b[A\n",
      " 23%|██▎       | 20/86 [00:07<00:24,  2.66it/s]\u001b[A\n",
      " 24%|██▍       | 21/86 [00:07<00:24,  2.64it/s]\u001b[A\n",
      " 26%|██▌       | 22/86 [00:08<00:24,  2.63it/s]\u001b[A\n",
      " 27%|██▋       | 23/86 [00:08<00:25,  2.49it/s]\u001b[A\n",
      " 28%|██▊       | 24/86 [00:08<00:24,  2.56it/s]\u001b[A\n",
      " 29%|██▉       | 25/86 [00:09<00:23,  2.64it/s]\u001b[A\n",
      " 30%|███       | 26/86 [00:09<00:23,  2.58it/s]\u001b[A\n",
      " 31%|███▏      | 27/86 [00:10<00:22,  2.63it/s]\u001b[A\n",
      " 33%|███▎      | 28/86 [00:10<00:21,  2.64it/s]\u001b[A\n",
      " 34%|███▎      | 29/86 [00:10<00:21,  2.66it/s]\u001b[A\n",
      " 35%|███▍      | 30/86 [00:11<00:21,  2.58it/s]\u001b[A\n",
      " 36%|███▌      | 31/86 [00:11<00:20,  2.64it/s]\u001b[A\n",
      " 37%|███▋      | 32/86 [00:11<00:20,  2.65it/s]\u001b[A\n",
      " 38%|███▊      | 33/86 [00:12<00:19,  2.68it/s]\u001b[A\n",
      " 40%|███▉      | 34/86 [00:12<00:19,  2.70it/s]\u001b[A\n",
      " 41%|████      | 35/86 [00:13<00:19,  2.66it/s]\u001b[A\n",
      " 42%|████▏     | 36/86 [00:13<00:18,  2.70it/s]\u001b[A\n",
      " 43%|████▎     | 37/86 [00:13<00:19,  2.56it/s]\u001b[A\n",
      " 44%|████▍     | 38/86 [00:14<00:18,  2.61it/s]\u001b[A\n",
      " 45%|████▌     | 39/86 [00:14<00:17,  2.69it/s]\u001b[A\n",
      " 47%|████▋     | 40/86 [00:14<00:17,  2.68it/s]\u001b[A\n",
      " 48%|████▊     | 41/86 [00:15<00:16,  2.69it/s]\u001b[A\n",
      " 49%|████▉     | 42/86 [00:15<00:16,  2.71it/s]\u001b[A\n",
      " 50%|█████     | 43/86 [00:16<00:15,  2.73it/s]\u001b[A\n",
      " 51%|█████     | 44/86 [00:16<00:16,  2.56it/s]\u001b[A\n",
      " 52%|█████▏    | 45/86 [00:16<00:15,  2.65it/s]\u001b[A\n",
      " 53%|█████▎    | 46/86 [00:17<00:14,  2.67it/s]\u001b[A\n",
      " 55%|█████▍    | 47/86 [00:17<00:14,  2.70it/s]\u001b[A\n",
      " 56%|█████▌    | 48/86 [00:17<00:13,  2.71it/s]\u001b[A\n",
      " 57%|█████▋    | 49/86 [00:18<00:13,  2.74it/s]\u001b[A\n",
      " 58%|█████▊    | 50/86 [00:18<00:13,  2.75it/s]\u001b[A\n",
      " 59%|█████▉    | 51/86 [00:19<00:13,  2.65it/s]\u001b[A\n",
      " 60%|██████    | 52/86 [00:19<00:12,  2.69it/s]\u001b[A\n",
      " 62%|██████▏   | 53/86 [00:19<00:12,  2.67it/s]\u001b[A\n",
      " 63%|██████▎   | 54/86 [00:20<00:12,  2.63it/s]\u001b[A\n",
      " 64%|██████▍   | 55/86 [00:20<00:11,  2.68it/s]\u001b[A\n",
      " 65%|██████▌   | 56/86 [00:20<00:11,  2.67it/s]\u001b[A\n",
      " 66%|██████▋   | 57/86 [00:21<00:10,  2.69it/s]\u001b[A\n",
      " 67%|██████▋   | 58/86 [00:21<00:10,  2.56it/s]\u001b[A\n",
      " 69%|██████▊   | 59/86 [00:22<00:10,  2.60it/s]\u001b[A\n",
      " 70%|██████▉   | 60/86 [00:22<00:10,  2.55it/s]\u001b[A\n",
      " 71%|███████   | 61/86 [00:22<00:10,  2.45it/s]\u001b[A\n",
      " 72%|███████▏  | 62/86 [00:23<00:09,  2.51it/s]\u001b[A\n",
      " 73%|███████▎  | 63/86 [00:23<00:09,  2.33it/s]\u001b[A\n",
      " 74%|███████▍  | 64/86 [00:24<00:10,  2.19it/s]\u001b[A\n",
      " 76%|███████▌  | 65/86 [00:24<00:10,  2.06it/s]\u001b[A\n",
      " 77%|███████▋  | 66/86 [00:25<00:09,  2.13it/s]\u001b[A\n",
      " 78%|███████▊  | 67/86 [00:25<00:08,  2.13it/s]\u001b[A\n",
      " 79%|███████▉  | 68/86 [00:26<00:08,  2.17it/s]\u001b[A\n",
      " 80%|████████  | 69/86 [00:26<00:07,  2.31it/s]\u001b[A\n",
      " 81%|████████▏ | 70/86 [00:26<00:06,  2.45it/s]\u001b[A\n",
      " 83%|████████▎ | 71/86 [00:27<00:06,  2.47it/s]\u001b[A\n",
      " 84%|████████▎ | 72/86 [00:27<00:06,  2.30it/s]\u001b[A\n",
      " 85%|████████▍ | 73/86 [00:28<00:05,  2.32it/s]\u001b[A\n",
      " 86%|████████▌ | 74/86 [00:28<00:04,  2.43it/s]\u001b[A\n",
      " 87%|████████▋ | 75/86 [00:28<00:04,  2.51it/s]\u001b[A\n",
      " 88%|████████▊ | 76/86 [00:29<00:03,  2.59it/s]\u001b[A\n",
      " 90%|████████▉ | 77/86 [00:29<00:03,  2.64it/s]\u001b[A\n",
      " 91%|█████████ | 78/86 [00:30<00:03,  2.64it/s]\u001b[A\n",
      " 92%|█████████▏| 79/86 [00:30<00:02,  2.48it/s]\u001b[A\n",
      " 93%|█████████▎| 80/86 [00:30<00:02,  2.55it/s]\u001b[A\n",
      " 94%|█████████▍| 81/86 [00:31<00:01,  2.55it/s]\u001b[A\n",
      " 95%|█████████▌| 82/86 [00:31<00:01,  2.55it/s]\u001b[A\n",
      " 97%|█████████▋| 83/86 [00:32<00:01,  2.60it/s]\u001b[A\n",
      " 98%|█████████▊| 84/86 [00:32<00:00,  2.48it/s]\u001b[A\n",
      " 99%|█████████▉| 85/86 [00:32<00:00,  2.57it/s]\u001b[A\n",
      "100%|██████████| 86/86 [00:33<00:00,  2.44it/s]\u001b[A\n",
      " 95%|█████████▌| 19/20 [11:08<00:34, 34.21s/it]\n",
      "  0%|          | 0/86 [00:00<?, ?it/s]\u001b[A\n",
      "  1%|          | 1/86 [00:00<00:30,  2.79it/s]\u001b[A\n",
      "  2%|▏         | 2/86 [00:00<00:30,  2.75it/s]\u001b[A\n",
      "  3%|▎         | 3/86 [00:01<00:29,  2.77it/s]\u001b[A\n",
      "  5%|▍         | 4/86 [00:01<00:30,  2.66it/s]\u001b[A\n",
      "  6%|▌         | 5/86 [00:01<00:29,  2.72it/s]\u001b[A\n",
      "  7%|▋         | 6/86 [00:02<00:28,  2.77it/s]\u001b[A\n",
      "  8%|▊         | 7/86 [00:02<00:28,  2.79it/s]\u001b[A\n",
      "  9%|▉         | 8/86 [00:02<00:27,  2.79it/s]\u001b[A\n",
      " 10%|█         | 9/86 [00:03<00:27,  2.79it/s]\u001b[A\n",
      " 12%|█▏        | 10/86 [00:03<00:28,  2.71it/s]\u001b[A\n",
      " 13%|█▎        | 11/86 [00:04<00:27,  2.73it/s]\u001b[A\n",
      " 14%|█▍        | 12/86 [00:04<00:26,  2.74it/s]\u001b[A\n",
      " 15%|█▌        | 13/86 [00:04<00:26,  2.80it/s]\u001b[A\n",
      " 16%|█▋        | 14/86 [00:05<00:25,  2.80it/s]\u001b[A\n",
      " 17%|█▋        | 15/86 [00:05<00:25,  2.78it/s]\u001b[A\n",
      " 19%|█▊        | 16/86 [00:05<00:26,  2.67it/s]\u001b[A\n",
      " 20%|█▉        | 17/86 [00:06<00:25,  2.71it/s]\u001b[A\n",
      " 21%|██        | 18/86 [00:06<00:24,  2.76it/s]\u001b[A\n",
      " 22%|██▏       | 19/86 [00:06<00:24,  2.78it/s]\u001b[A\n",
      " 23%|██▎       | 20/86 [00:07<00:23,  2.80it/s]\u001b[A\n",
      " 24%|██▍       | 21/86 [00:07<00:23,  2.79it/s]\u001b[A\n",
      " 26%|██▌       | 22/86 [00:08<00:23,  2.67it/s]\u001b[A\n",
      " 27%|██▋       | 23/86 [00:08<00:23,  2.67it/s]\u001b[A\n",
      " 28%|██▊       | 24/86 [00:08<00:23,  2.68it/s]\u001b[A\n",
      " 29%|██▉       | 25/86 [00:09<00:22,  2.70it/s]\u001b[A\n",
      " 30%|███       | 26/86 [00:09<00:21,  2.75it/s]\u001b[A\n",
      " 31%|███▏      | 27/86 [00:09<00:21,  2.76it/s]\u001b[A\n",
      " 33%|███▎      | 28/86 [00:10<00:21,  2.68it/s]\u001b[A\n",
      " 34%|███▎      | 29/86 [00:10<00:20,  2.75it/s]\u001b[A\n",
      " 35%|███▍      | 30/86 [00:10<00:20,  2.77it/s]\u001b[A\n",
      " 36%|███▌      | 31/86 [00:11<00:19,  2.78it/s]\u001b[A\n",
      " 37%|███▋      | 32/86 [00:11<00:19,  2.80it/s]\u001b[A\n",
      " 38%|███▊      | 33/86 [00:12<00:18,  2.81it/s]\u001b[A\n",
      " 40%|███▉      | 34/86 [00:12<00:19,  2.70it/s]\u001b[A\n",
      " 41%|████      | 35/86 [00:12<00:18,  2.73it/s]\u001b[A\n",
      " 42%|████▏     | 36/86 [00:13<00:18,  2.74it/s]\u001b[A\n",
      " 43%|████▎     | 37/86 [00:13<00:18,  2.65it/s]\u001b[A\n",
      " 44%|████▍     | 38/86 [00:13<00:17,  2.71it/s]\u001b[A\n",
      " 45%|████▌     | 39/86 [00:14<00:17,  2.68it/s]\u001b[A\n",
      " 47%|████▋     | 40/86 [00:14<00:17,  2.57it/s]\u001b[A\n",
      " 48%|████▊     | 41/86 [00:15<00:16,  2.65it/s]\u001b[A\n",
      " 49%|████▉     | 42/86 [00:15<00:16,  2.72it/s]\u001b[A\n",
      " 50%|█████     | 43/86 [00:15<00:15,  2.74it/s]\u001b[A\n",
      " 51%|█████     | 44/86 [00:16<00:15,  2.71it/s]\u001b[A\n",
      " 52%|█████▏    | 45/86 [00:16<00:15,  2.63it/s]\u001b[A\n",
      " 53%|█████▎    | 46/86 [00:16<00:16,  2.47it/s]\u001b[A\n",
      " 55%|█████▍    | 47/86 [00:17<00:15,  2.47it/s]\u001b[A\n",
      " 56%|█████▌    | 48/86 [00:17<00:14,  2.57it/s]\u001b[A\n",
      " 57%|█████▋    | 49/86 [00:18<00:14,  2.63it/s]\u001b[A\n",
      " 58%|█████▊    | 50/86 [00:18<00:13,  2.70it/s]\u001b[A\n",
      " 59%|█████▉    | 51/86 [00:18<00:12,  2.70it/s]\u001b[A\n",
      " 60%|██████    | 52/86 [00:19<00:12,  2.62it/s]\u001b[A\n",
      " 62%|██████▏   | 53/86 [00:19<00:12,  2.68it/s]\u001b[A\n",
      " 63%|██████▎   | 54/86 [00:19<00:11,  2.73it/s]\u001b[A\n",
      " 64%|██████▍   | 55/86 [00:20<00:11,  2.78it/s]\u001b[A\n",
      " 65%|██████▌   | 56/86 [00:20<00:10,  2.81it/s]\u001b[A\n",
      " 66%|██████▋   | 57/86 [00:20<00:10,  2.81it/s]\u001b[A\n",
      " 67%|██████▋   | 58/86 [00:21<00:10,  2.70it/s]\u001b[A\n",
      " 69%|██████▊   | 59/86 [00:21<00:09,  2.74it/s]\u001b[A\n",
      " 70%|██████▉   | 60/86 [00:22<00:09,  2.77it/s]\u001b[A\n",
      " 71%|███████   | 61/86 [00:22<00:08,  2.80it/s]\u001b[A\n",
      " 72%|███████▏  | 62/86 [00:22<00:08,  2.82it/s]\u001b[A\n",
      " 73%|███████▎  | 63/86 [00:23<00:08,  2.83it/s]\u001b[A\n",
      " 74%|███████▍  | 64/86 [00:23<00:08,  2.61it/s]\u001b[A\n",
      " 76%|███████▌  | 65/86 [00:23<00:07,  2.63it/s]\u001b[A\n",
      " 77%|███████▋  | 66/86 [00:24<00:07,  2.65it/s]\u001b[A\n",
      " 78%|███████▊  | 67/86 [00:24<00:07,  2.66it/s]\u001b[A\n",
      " 79%|███████▉  | 68/86 [00:25<00:06,  2.66it/s]\u001b[A\n",
      " 80%|████████  | 69/86 [00:25<00:06,  2.71it/s]\u001b[A\n",
      " 81%|████████▏ | 70/86 [00:25<00:06,  2.62it/s]\u001b[A\n",
      " 83%|████████▎ | 71/86 [00:26<00:05,  2.66it/s]\u001b[A\n",
      " 84%|████████▎ | 72/86 [00:26<00:05,  2.67it/s]\u001b[A\n",
      " 85%|████████▍ | 73/86 [00:26<00:04,  2.71it/s]\u001b[A\n",
      " 86%|████████▌ | 74/86 [00:27<00:04,  2.74it/s]\u001b[A\n",
      " 87%|████████▋ | 75/86 [00:27<00:03,  2.77it/s]\u001b[A\n",
      " 88%|████████▊ | 76/86 [00:28<00:03,  2.67it/s]\u001b[A\n",
      " 90%|████████▉ | 77/86 [00:28<00:03,  2.72it/s]\u001b[A\n",
      " 91%|█████████ | 78/86 [00:28<00:02,  2.75it/s]\u001b[A\n",
      " 92%|█████████▏| 79/86 [00:29<00:02,  2.77it/s]\u001b[A\n",
      " 93%|█████████▎| 80/86 [00:29<00:02,  2.79it/s]\u001b[A\n",
      " 94%|█████████▍| 81/86 [00:29<00:01,  2.78it/s]\u001b[A\n",
      " 95%|█████████▌| 82/86 [00:30<00:01,  2.69it/s]\u001b[A\n",
      " 97%|█████████▋| 83/86 [00:30<00:01,  2.72it/s]\u001b[A\n",
      " 98%|█████████▊| 84/86 [00:30<00:00,  2.75it/s]\u001b[A\n",
      " 99%|█████████▉| 85/86 [00:31<00:00,  2.76it/s]\u001b[A\n",
      "100%|██████████| 86/86 [00:31<00:00,  2.79it/s]\u001b[A\n",
      "100%|██████████| 20/20 [11:39<00:00, 33.44s/it]\n",
      "  0%|          | 0/20 [00:00<?, ?it/s]\n",
      "  0%|          | 0/84 [00:00<?, ?it/s]\u001b[A\n",
      "  1%|          | 1/84 [00:00<00:48,  1.70it/s]\u001b[A\n",
      "  2%|▏         | 2/84 [00:01<00:46,  1.75it/s]\u001b[A\n",
      "  4%|▎         | 3/84 [00:01<00:46,  1.76it/s]\u001b[A\n",
      "  5%|▍         | 4/84 [00:02<00:45,  1.77it/s]\u001b[A\n",
      "  6%|▌         | 5/84 [00:02<00:45,  1.74it/s]\u001b[A\n",
      "  7%|▋         | 6/84 [00:03<00:44,  1.76it/s]\u001b[A\n",
      "  8%|▊         | 7/84 [00:04<00:46,  1.64it/s]\u001b[A\n",
      " 10%|▉         | 8/84 [00:04<00:49,  1.54it/s]\u001b[A\n",
      " 11%|█         | 9/84 [00:05<00:46,  1.62it/s]\u001b[A\n",
      " 12%|█▏        | 10/84 [00:05<00:43,  1.70it/s]\u001b[A\n",
      " 13%|█▎        | 11/84 [00:06<00:41,  1.76it/s]\u001b[A\n",
      " 14%|█▍        | 12/84 [00:07<00:41,  1.74it/s]\u001b[A\n",
      " 15%|█▌        | 13/84 [00:07<00:39,  1.79it/s]\u001b[A\n",
      " 17%|█▋        | 14/84 [00:08<00:38,  1.82it/s]\u001b[A\n",
      " 18%|█▊        | 15/84 [00:08<00:37,  1.84it/s]\u001b[A\n",
      " 19%|█▉        | 16/84 [00:09<00:36,  1.85it/s]\u001b[A\n",
      " 20%|██        | 17/84 [00:09<00:35,  1.87it/s]\u001b[A\n",
      " 21%|██▏       | 18/84 [00:10<00:36,  1.83it/s]\u001b[A\n",
      " 23%|██▎       | 19/84 [00:10<00:35,  1.85it/s]\u001b[A\n",
      " 24%|██▍       | 20/84 [00:11<00:34,  1.85it/s]\u001b[A\n",
      " 25%|██▌       | 21/84 [00:11<00:34,  1.83it/s]\u001b[A\n",
      " 26%|██▌       | 22/84 [00:12<00:34,  1.79it/s]\u001b[A\n",
      " 27%|██▋       | 23/84 [00:12<00:33,  1.81it/s]\u001b[A\n",
      " 29%|██▊       | 24/84 [00:13<00:34,  1.76it/s]\u001b[A\n",
      " 30%|██▉       | 25/84 [00:14<00:32,  1.80it/s]\u001b[A\n",
      " 31%|███       | 26/84 [00:14<00:31,  1.82it/s]\u001b[A\n",
      " 32%|███▏      | 27/84 [00:15<00:31,  1.80it/s]\u001b[A\n",
      " 33%|███▎      | 28/84 [00:15<00:30,  1.81it/s]\u001b[A\n",
      " 35%|███▍      | 29/84 [00:16<00:30,  1.81it/s]\u001b[A\n",
      " 36%|███▌      | 30/84 [00:16<00:30,  1.75it/s]\u001b[A\n",
      " 37%|███▋      | 31/84 [00:17<00:29,  1.78it/s]\u001b[A\n",
      " 38%|███▊      | 32/84 [00:18<00:28,  1.80it/s]\u001b[A\n",
      " 39%|███▉      | 33/84 [00:18<00:29,  1.75it/s]\u001b[A\n",
      " 40%|████      | 34/84 [00:19<00:30,  1.66it/s]\u001b[A\n",
      " 42%|████▏     | 35/84 [00:19<00:28,  1.71it/s]\u001b[A\n",
      " 43%|████▎     | 36/84 [00:20<00:29,  1.65it/s]\u001b[A\n",
      " 44%|████▍     | 37/84 [00:21<00:28,  1.66it/s]\u001b[A\n",
      " 45%|████▌     | 38/84 [00:21<00:27,  1.67it/s]\u001b[A\n",
      " 46%|████▋     | 39/84 [00:22<00:26,  1.69it/s]\u001b[A\n",
      " 48%|████▊     | 40/84 [00:22<00:25,  1.71it/s]\u001b[A\n",
      " 49%|████▉     | 41/84 [00:23<00:24,  1.73it/s]\u001b[A\n",
      " 50%|█████     | 42/84 [00:23<00:24,  1.70it/s]\u001b[A\n",
      " 51%|█████     | 43/84 [00:24<00:23,  1.73it/s]\u001b[A\n",
      " 52%|█████▏    | 44/84 [00:25<00:23,  1.73it/s]\u001b[A\n",
      " 54%|█████▎    | 45/84 [00:25<00:22,  1.76it/s]\u001b[A\n",
      " 55%|█████▍    | 46/84 [00:26<00:21,  1.76it/s]\u001b[A\n",
      " 56%|█████▌    | 47/84 [00:26<00:20,  1.77it/s]\u001b[A\n",
      " 57%|█████▋    | 48/84 [00:27<00:20,  1.73it/s]\u001b[A\n",
      " 58%|█████▊    | 49/84 [00:27<00:20,  1.73it/s]\u001b[A\n",
      " 60%|█████▉    | 50/84 [00:28<00:19,  1.71it/s]\u001b[A\n",
      " 61%|██████    | 51/84 [00:29<00:19,  1.72it/s]\u001b[A\n",
      " 62%|██████▏   | 52/84 [00:29<00:18,  1.77it/s]\u001b[A\n",
      " 63%|██████▎   | 53/84 [00:30<00:17,  1.77it/s]\u001b[A\n",
      " 64%|██████▍   | 54/84 [00:30<00:17,  1.76it/s]\u001b[A\n",
      " 65%|██████▌   | 55/84 [00:31<00:16,  1.80it/s]\u001b[A\n",
      " 67%|██████▋   | 56/84 [00:31<00:15,  1.83it/s]\u001b[A\n",
      " 68%|██████▊   | 57/84 [00:32<00:14,  1.85it/s]\u001b[A\n",
      " 69%|██████▉   | 58/84 [00:32<00:13,  1.87it/s]\u001b[A\n",
      " 70%|███████   | 59/84 [00:33<00:13,  1.86it/s]\u001b[A\n",
      " 71%|███████▏  | 60/84 [00:34<00:13,  1.75it/s]\u001b[A\n",
      " 73%|███████▎  | 61/84 [00:34<00:12,  1.78it/s]\u001b[A\n",
      " 74%|███████▍  | 62/84 [00:35<00:12,  1.78it/s]\u001b[A\n",
      " 75%|███████▌  | 63/84 [00:35<00:11,  1.80it/s]\u001b[A\n",
      " 76%|███████▌  | 64/84 [00:36<00:11,  1.81it/s]\u001b[A\n",
      " 77%|███████▋  | 65/84 [00:36<00:10,  1.82it/s]\u001b[A\n",
      " 79%|███████▊  | 66/84 [00:37<00:10,  1.78it/s]\u001b[A\n",
      " 80%|███████▉  | 67/84 [00:37<00:09,  1.81it/s]\u001b[A\n",
      " 81%|████████  | 68/84 [00:38<00:08,  1.84it/s]\u001b[A\n",
      " 82%|████████▏ | 69/84 [00:39<00:08,  1.86it/s]\u001b[A\n",
      " 83%|████████▎ | 70/84 [00:39<00:07,  1.85it/s]\u001b[A\n",
      " 85%|████████▍ | 71/84 [00:40<00:07,  1.75it/s]\u001b[A\n",
      " 86%|████████▌ | 72/84 [00:40<00:07,  1.67it/s]\u001b[A\n",
      " 87%|████████▋ | 73/84 [00:41<00:06,  1.69it/s]\u001b[A\n",
      " 88%|████████▊ | 74/84 [00:42<00:06,  1.62it/s]\u001b[A\n",
      " 89%|████████▉ | 75/84 [00:42<00:05,  1.61it/s]\u001b[A\n",
      " 90%|█████████ | 76/84 [00:43<00:05,  1.52it/s]\u001b[A\n",
      " 92%|█████████▏| 77/84 [00:44<00:04,  1.57it/s]\u001b[A\n",
      " 93%|█████████▎| 78/84 [00:44<00:04,  1.46it/s]\u001b[A\n",
      " 94%|█████████▍| 79/84 [00:45<00:03,  1.43it/s]\u001b[A\n",
      " 95%|█████████▌| 80/84 [00:46<00:02,  1.48it/s]\u001b[A\n",
      " 96%|█████████▋| 81/84 [00:46<00:01,  1.58it/s]\u001b[A\n",
      " 98%|█████████▊| 82/84 [00:47<00:01,  1.65it/s]\u001b[A\n",
      " 99%|█████████▉| 83/84 [00:47<00:00,  1.61it/s]\u001b[A\n",
      "100%|██████████| 84/84 [00:48<00:00,  1.50it/s]\u001b[A\n",
      "  5%|▌         | 1/20 [00:48<15:26, 48.76s/it]\n",
      "  0%|          | 0/84 [00:00<?, ?it/s]\u001b[A\n",
      "  1%|          | 1/84 [00:00<00:55,  1.49it/s]\u001b[A\n",
      "  2%|▏         | 2/84 [00:01<00:53,  1.54it/s]\u001b[A\n",
      "  4%|▎         | 3/84 [00:01<00:50,  1.60it/s]\u001b[A\n",
      "  5%|▍         | 4/84 [00:02<00:54,  1.46it/s]\u001b[A\n",
      "  6%|▌         | 5/84 [00:03<00:55,  1.42it/s]\u001b[A\n",
      "  7%|▋         | 6/84 [00:04<00:56,  1.39it/s]\u001b[A\n",
      "  8%|▊         | 7/84 [00:04<00:54,  1.42it/s]\u001b[A\n",
      " 10%|▉         | 8/84 [00:05<00:53,  1.43it/s]\u001b[A\n",
      " 11%|█         | 9/84 [00:06<00:53,  1.40it/s]\u001b[A\n",
      " 12%|█▏        | 10/84 [00:07<00:54,  1.36it/s]\u001b[A\n",
      " 13%|█▎        | 11/84 [00:07<00:51,  1.41it/s]\u001b[A\n",
      " 14%|█▍        | 12/84 [00:08<00:50,  1.42it/s]\u001b[A\n",
      " 15%|█▌        | 13/84 [00:09<00:50,  1.41it/s]\u001b[A\n",
      " 17%|█▋        | 14/84 [00:09<00:50,  1.39it/s]\u001b[A\n",
      " 18%|█▊        | 15/84 [00:10<00:51,  1.33it/s]\u001b[A\n",
      " 19%|█▉        | 16/84 [00:11<00:54,  1.25it/s]\u001b[A\n",
      " 20%|██        | 17/84 [00:12<00:53,  1.25it/s]\u001b[A\n",
      " 21%|██▏       | 18/84 [00:12<00:48,  1.36it/s]\u001b[A\n",
      " 23%|██▎       | 19/84 [00:13<00:43,  1.48it/s]\u001b[A\n",
      " 24%|██▍       | 20/84 [00:14<00:40,  1.59it/s]\u001b[A\n",
      " 25%|██▌       | 21/84 [00:14<00:38,  1.63it/s]\u001b[A\n",
      " 26%|██▌       | 22/84 [00:15<00:37,  1.65it/s]\u001b[A\n",
      " 27%|██▋       | 23/84 [00:15<00:36,  1.67it/s]\u001b[A\n",
      " 29%|██▊       | 24/84 [00:16<00:35,  1.68it/s]\u001b[A\n",
      " 30%|██▉       | 25/84 [00:16<00:34,  1.71it/s]\u001b[A\n",
      " 31%|███       | 26/84 [00:17<00:35,  1.65it/s]\u001b[A\n",
      " 32%|███▏      | 27/84 [00:18<00:34,  1.67it/s]\u001b[A\n",
      " 33%|███▎      | 28/84 [00:18<00:32,  1.71it/s]\u001b[A\n",
      " 35%|███▍      | 29/84 [00:19<00:32,  1.70it/s]\u001b[A\n",
      " 36%|███▌      | 30/84 [00:19<00:31,  1.70it/s]\u001b[A\n",
      " 37%|███▋      | 31/84 [00:20<00:30,  1.73it/s]\u001b[A\n",
      " 38%|███▊      | 32/84 [00:21<00:31,  1.67it/s]\u001b[A\n",
      " 39%|███▉      | 33/84 [00:21<00:32,  1.55it/s]\u001b[A\n",
      " 40%|████      | 34/84 [00:22<00:31,  1.57it/s]\u001b[A\n",
      " 42%|████▏     | 35/84 [00:23<00:34,  1.43it/s]\u001b[A\n",
      " 43%|████▎     | 36/84 [00:24<00:35,  1.36it/s]\u001b[A\n",
      " 44%|████▍     | 37/84 [00:24<00:35,  1.34it/s]\u001b[A\n",
      " 45%|████▌     | 38/84 [00:25<00:33,  1.37it/s]\u001b[A\n",
      " 46%|████▋     | 39/84 [00:26<00:33,  1.35it/s]\u001b[A\n",
      " 48%|████▊     | 40/84 [00:27<00:31,  1.41it/s]\u001b[A\n",
      " 49%|████▉     | 41/84 [00:27<00:29,  1.46it/s]\u001b[A\n",
      " 50%|█████     | 42/84 [00:28<00:27,  1.51it/s]\u001b[A\n",
      " 51%|█████     | 43/84 [00:28<00:26,  1.57it/s]\u001b[A\n",
      " 52%|█████▏    | 44/84 [00:29<00:24,  1.63it/s]\u001b[A\n",
      " 54%|█████▎    | 45/84 [00:29<00:23,  1.63it/s]\u001b[A\n",
      " 55%|█████▍    | 46/84 [00:30<00:22,  1.70it/s]\u001b[A\n",
      " 56%|█████▌    | 47/84 [00:31<00:21,  1.75it/s]\u001b[A\n",
      " 57%|█████▋    | 48/84 [00:31<00:20,  1.78it/s]\u001b[A\n",
      " 58%|█████▊    | 49/84 [00:32<00:19,  1.76it/s]\u001b[A\n",
      " 60%|█████▉    | 50/84 [00:32<00:19,  1.77it/s]\u001b[A\n",
      " 61%|██████    | 51/84 [00:33<00:19,  1.72it/s]\u001b[A\n",
      " 62%|██████▏   | 52/84 [00:33<00:18,  1.70it/s]\u001b[A\n",
      " 63%|██████▎   | 53/84 [00:34<00:17,  1.72it/s]\u001b[A\n",
      " 64%|██████▍   | 54/84 [00:35<00:17,  1.74it/s]\u001b[A\n",
      " 65%|██████▌   | 55/84 [00:35<00:16,  1.75it/s]\u001b[A\n",
      " 67%|██████▋   | 56/84 [00:36<00:15,  1.78it/s]\u001b[A\n",
      " 68%|██████▊   | 57/84 [00:36<00:15,  1.72it/s]\u001b[A\n",
      " 69%|██████▉   | 58/84 [00:37<00:14,  1.76it/s]\u001b[A\n",
      " 70%|███████   | 59/84 [00:37<00:14,  1.78it/s]\u001b[A\n",
      " 71%|███████▏  | 60/84 [00:38<00:13,  1.81it/s]\u001b[A\n",
      " 73%|███████▎  | 61/84 [00:38<00:12,  1.83it/s]\u001b[A\n",
      " 74%|███████▍  | 62/84 [00:39<00:12,  1.82it/s]\u001b[A\n",
      " 75%|███████▌  | 63/84 [00:40<00:12,  1.75it/s]\u001b[A\n",
      " 76%|███████▌  | 64/84 [00:40<00:11,  1.74it/s]\u001b[A\n",
      " 77%|███████▋  | 65/84 [00:41<00:10,  1.76it/s]\u001b[A\n",
      " 79%|███████▊  | 66/84 [00:41<00:10,  1.78it/s]\u001b[A\n",
      " 80%|███████▉  | 67/84 [00:42<00:09,  1.81it/s]\u001b[A\n",
      " 81%|████████  | 68/84 [00:42<00:08,  1.83it/s]\u001b[A\n",
      " 82%|████████▏ | 69/84 [00:43<00:08,  1.79it/s]\u001b[A\n",
      " 83%|████████▎ | 70/84 [00:44<00:07,  1.80it/s]\u001b[A\n",
      " 85%|████████▍ | 71/84 [00:44<00:07,  1.77it/s]\u001b[A\n",
      " 86%|████████▌ | 72/84 [00:45<00:06,  1.78it/s]\u001b[A\n",
      " 87%|████████▋ | 73/84 [00:45<00:06,  1.78it/s]\u001b[A\n",
      " 88%|████████▊ | 74/84 [00:46<00:05,  1.80it/s]\u001b[A\n",
      " 89%|████████▉ | 75/84 [00:46<00:05,  1.76it/s]\u001b[A\n",
      " 90%|█████████ | 76/84 [00:47<00:04,  1.79it/s]\u001b[A\n",
      " 92%|█████████▏| 77/84 [00:48<00:04,  1.71it/s]\u001b[A\n",
      " 93%|█████████▎| 78/84 [00:48<00:03,  1.68it/s]\u001b[A\n",
      " 94%|█████████▍| 79/84 [00:49<00:02,  1.68it/s]\u001b[A\n",
      " 95%|█████████▌| 80/84 [00:49<00:02,  1.69it/s]\u001b[A\n",
      " 96%|█████████▋| 81/84 [00:50<00:01,  1.56it/s]\u001b[A\n",
      " 98%|█████████▊| 82/84 [00:51<00:01,  1.60it/s]\u001b[A\n",
      " 99%|█████████▉| 83/84 [00:51<00:00,  1.63it/s]\u001b[A\n",
      "100%|██████████| 84/84 [00:52<00:00,  1.62it/s]\u001b[A\n",
      " 10%|█         | 2/20 [01:41<14:57, 49.86s/it]\n",
      "  0%|          | 0/84 [00:00<?, ?it/s]\u001b[A\n",
      "  1%|          | 1/84 [00:00<00:49,  1.67it/s]\u001b[A\n",
      "  2%|▏         | 2/84 [00:01<00:47,  1.72it/s]\u001b[A\n",
      "  4%|▎         | 3/84 [00:01<00:45,  1.77it/s]\u001b[A\n",
      "  5%|▍         | 4/84 [00:02<00:45,  1.78it/s]\u001b[A\n",
      "  6%|▌         | 5/84 [00:02<00:43,  1.81it/s]\u001b[A\n",
      "  7%|▋         | 6/84 [00:03<00:43,  1.81it/s]\u001b[A\n",
      "  8%|▊         | 7/84 [00:03<00:45,  1.70it/s]\u001b[A\n",
      " 10%|▉         | 8/84 [00:04<00:44,  1.72it/s]\u001b[A\n",
      " 11%|█         | 9/84 [00:05<00:43,  1.70it/s]\u001b[A\n",
      " 12%|█▏        | 10/84 [00:05<00:43,  1.71it/s]\u001b[A\n",
      " 13%|█▎        | 11/84 [00:06<00:44,  1.65it/s]\u001b[A\n",
      " 14%|█▍        | 12/84 [00:06<00:43,  1.67it/s]\u001b[A\n",
      " 15%|█▌        | 13/84 [00:07<00:42,  1.67it/s]\u001b[A\n",
      " 17%|█▋        | 14/84 [00:08<00:44,  1.56it/s]\u001b[A\n",
      " 18%|█▊        | 15/84 [00:08<00:41,  1.65it/s]\u001b[A\n",
      " 19%|█▉        | 16/84 [00:09<00:40,  1.67it/s]\u001b[A\n",
      " 20%|██        | 17/84 [00:09<00:39,  1.70it/s]\u001b[A\n",
      " 21%|██▏       | 18/84 [00:10<00:40,  1.64it/s]\u001b[A\n",
      " 23%|██▎       | 19/84 [00:11<00:40,  1.59it/s]\u001b[A\n",
      " 24%|██▍       | 20/84 [00:11<00:38,  1.65it/s]\u001b[A\n",
      " 25%|██▌       | 21/84 [00:12<00:37,  1.70it/s]\u001b[A\n",
      " 26%|██▌       | 22/84 [00:12<00:35,  1.73it/s]\u001b[A\n",
      " 27%|██▋       | 23/84 [00:13<00:34,  1.77it/s]\u001b[A\n",
      " 29%|██▊       | 24/84 [00:14<00:33,  1.81it/s]\u001b[A\n",
      " 30%|██▉       | 25/84 [00:14<00:33,  1.76it/s]\u001b[A\n",
      " 31%|███       | 26/84 [00:15<00:32,  1.78it/s]\u001b[A\n",
      " 32%|███▏      | 27/84 [00:15<00:31,  1.79it/s]\u001b[A\n",
      " 33%|███▎      | 28/84 [00:16<00:30,  1.82it/s]\u001b[A\n",
      " 35%|███▍      | 29/84 [00:16<00:30,  1.83it/s]\u001b[A\n",
      " 36%|███▌      | 30/84 [00:17<00:29,  1.82it/s]\u001b[A\n",
      " 37%|███▋      | 31/84 [00:17<00:29,  1.77it/s]\u001b[A\n",
      " 38%|███▊      | 32/84 [00:18<00:29,  1.78it/s]\u001b[A\n",
      " 39%|███▉      | 33/84 [00:19<00:28,  1.81it/s]\u001b[A\n",
      " 40%|████      | 34/84 [00:19<00:27,  1.83it/s]\u001b[A\n",
      " 42%|████▏     | 35/84 [00:20<00:27,  1.76it/s]\u001b[A\n",
      " 43%|████▎     | 36/84 [00:20<00:27,  1.77it/s]\u001b[A\n",
      " 44%|████▍     | 37/84 [00:21<00:27,  1.72it/s]\u001b[A\n",
      " 45%|████▌     | 38/84 [00:21<00:26,  1.75it/s]\u001b[A\n",
      " 46%|████▋     | 39/84 [00:22<00:25,  1.76it/s]\u001b[A\n",
      " 48%|████▊     | 40/84 [00:23<00:27,  1.61it/s]\u001b[A\n",
      " 49%|████▉     | 41/84 [00:23<00:26,  1.63it/s]\u001b[A\n",
      " 50%|█████     | 42/84 [00:24<00:26,  1.60it/s]\u001b[A\n",
      " 51%|█████     | 43/84 [00:25<00:26,  1.53it/s]\u001b[A\n",
      " 52%|█████▏    | 44/84 [00:25<00:25,  1.54it/s]\u001b[A\n",
      " 54%|█████▎    | 45/84 [00:26<00:24,  1.59it/s]\u001b[A\n",
      " 55%|█████▍    | 46/84 [00:27<00:24,  1.57it/s]\u001b[A\n",
      " 56%|█████▌    | 47/84 [00:27<00:23,  1.58it/s]\u001b[A\n",
      " 57%|█████▋    | 48/84 [00:28<00:22,  1.60it/s]\u001b[A\n",
      " 58%|█████▊    | 49/84 [00:28<00:21,  1.60it/s]\u001b[A\n",
      " 60%|█████▉    | 50/84 [00:29<00:20,  1.62it/s]\u001b[A\n",
      " 61%|██████    | 51/84 [00:30<00:20,  1.61it/s]\u001b[A\n",
      " 62%|██████▏   | 52/84 [00:30<00:19,  1.68it/s]\u001b[A\n",
      " 63%|██████▎   | 53/84 [00:31<00:17,  1.73it/s]\u001b[A\n",
      " 64%|██████▍   | 54/84 [00:31<00:16,  1.77it/s]\u001b[A\n",
      " 65%|██████▌   | 55/84 [00:32<00:16,  1.75it/s]\u001b[A\n",
      " 67%|██████▋   | 56/84 [00:32<00:15,  1.80it/s]\u001b[A\n",
      " 68%|██████▊   | 57/84 [00:33<00:14,  1.83it/s]\u001b[A\n",
      " 69%|██████▉   | 58/84 [00:33<00:14,  1.82it/s]\u001b[A\n",
      " 70%|███████   | 59/84 [00:34<00:13,  1.85it/s]\u001b[A\n",
      " 71%|███████▏  | 60/84 [00:34<00:12,  1.85it/s]\u001b[A\n",
      " 73%|███████▎  | 61/84 [00:35<00:13,  1.69it/s]\u001b[A\n",
      " 74%|███████▍  | 62/84 [00:36<00:12,  1.70it/s]\u001b[A\n",
      " 75%|███████▌  | 63/84 [00:36<00:12,  1.65it/s]\u001b[A\n",
      " 76%|███████▌  | 64/84 [00:37<00:11,  1.73it/s]\u001b[A\n",
      " 77%|███████▋  | 65/84 [00:37<00:10,  1.76it/s]\u001b[A\n",
      " 79%|███████▊  | 66/84 [00:38<00:10,  1.71it/s]\u001b[A\n",
      " 80%|███████▉  | 67/84 [00:39<00:10,  1.68it/s]\u001b[A\n",
      " 81%|████████  | 68/84 [00:39<00:09,  1.70it/s]\u001b[A\n",
      " 82%|████████▏ | 69/84 [00:40<00:08,  1.73it/s]\u001b[A\n",
      " 83%|████████▎ | 70/84 [00:40<00:07,  1.77it/s]\u001b[A\n",
      " 85%|████████▍ | 71/84 [00:41<00:07,  1.78it/s]\u001b[A\n",
      " 86%|████████▌ | 72/84 [00:41<00:06,  1.80it/s]\u001b[A\n",
      " 87%|████████▋ | 73/84 [00:42<00:06,  1.75it/s]\u001b[A\n",
      " 88%|████████▊ | 74/84 [00:43<00:05,  1.78it/s]\u001b[A\n",
      " 89%|████████▉ | 75/84 [00:43<00:04,  1.82it/s]\u001b[A\n",
      " 90%|█████████ | 76/84 [00:44<00:04,  1.85it/s]\u001b[A\n",
      " 92%|█████████▏| 77/84 [00:44<00:03,  1.88it/s]\u001b[A\n",
      " 93%|█████████▎| 78/84 [00:45<00:03,  1.77it/s]\u001b[A\n",
      " 94%|█████████▍| 79/84 [00:45<00:02,  1.71it/s]\u001b[A\n",
      " 95%|█████████▌| 80/84 [00:46<00:02,  1.75it/s]\u001b[A\n",
      " 96%|█████████▋| 81/84 [00:47<00:01,  1.79it/s]\u001b[A\n",
      " 98%|█████████▊| 82/84 [00:47<00:01,  1.81it/s]\u001b[A\n",
      " 99%|█████████▉| 83/84 [00:48<00:00,  1.60it/s]\u001b[A\n",
      "100%|██████████| 84/84 [00:49<00:00,  1.47it/s]\u001b[A\n",
      " 15%|█▌        | 3/20 [02:30<14:04, 49.65s/it]\n",
      "  0%|          | 0/84 [00:00<?, ?it/s]\u001b[A\n",
      "  1%|          | 1/84 [00:00<01:01,  1.35it/s]\u001b[A\n",
      "  2%|▏         | 2/84 [00:01<00:58,  1.41it/s]\u001b[A\n",
      "  4%|▎         | 3/84 [00:02<00:59,  1.37it/s]\u001b[A\n",
      "  5%|▍         | 4/84 [00:02<00:59,  1.34it/s]\u001b[A\n",
      "  6%|▌         | 5/84 [00:03<01:01,  1.28it/s]\u001b[A\n",
      "  7%|▋         | 6/84 [00:04<01:01,  1.26it/s]\u001b[A\n",
      "  8%|▊         | 7/84 [00:05<01:01,  1.26it/s]\u001b[A\n",
      " 10%|▉         | 8/84 [00:05<00:55,  1.37it/s]\u001b[A\n",
      " 11%|█         | 9/84 [00:06<00:54,  1.38it/s]\u001b[A\n",
      " 12%|█▏        | 10/84 [00:07<00:55,  1.32it/s]\u001b[A\n",
      " 13%|█▎        | 11/84 [00:08<00:54,  1.33it/s]\u001b[A\n",
      " 14%|█▍        | 12/84 [00:09<00:56,  1.27it/s]\u001b[A\n",
      " 15%|█▌        | 13/84 [00:09<00:52,  1.34it/s]\u001b[A\n",
      " 17%|█▋        | 14/84 [00:10<00:53,  1.30it/s]\u001b[A\n",
      " 18%|█▊        | 15/84 [00:11<00:54,  1.27it/s]\u001b[A\n",
      " 19%|█▉        | 16/84 [00:12<00:50,  1.34it/s]\u001b[A\n",
      " 20%|██        | 17/84 [00:12<00:45,  1.47it/s]\u001b[A\n",
      " 21%|██▏       | 18/84 [00:13<00:42,  1.57it/s]\u001b[A\n",
      " 23%|██▎       | 19/84 [00:13<00:40,  1.61it/s]\u001b[A\n",
      " 24%|██▍       | 20/84 [00:14<00:39,  1.62it/s]\u001b[A\n",
      " 25%|██▌       | 21/84 [00:14<00:38,  1.66it/s]\u001b[A\n",
      " 26%|██▌       | 22/84 [00:15<00:36,  1.72it/s]\u001b[A\n",
      " 27%|██▋       | 23/84 [00:15<00:34,  1.78it/s]\u001b[A\n",
      " 29%|██▊       | 24/84 [00:16<00:33,  1.79it/s]\u001b[A\n",
      " 30%|██▉       | 25/84 [00:17<00:32,  1.80it/s]\u001b[A\n",
      " 31%|███       | 26/84 [00:17<00:32,  1.76it/s]\u001b[A\n",
      " 32%|███▏      | 27/84 [00:18<00:32,  1.76it/s]\u001b[A\n",
      " 33%|███▎      | 28/84 [00:18<00:33,  1.69it/s]\u001b[A\n",
      " 35%|███▍      | 29/84 [00:19<00:34,  1.60it/s]\u001b[A\n",
      " 36%|███▌      | 30/84 [00:20<00:36,  1.47it/s]\u001b[A\n",
      " 37%|███▋      | 31/84 [00:21<00:36,  1.47it/s]\u001b[A\n",
      " 38%|███▊      | 32/84 [00:21<00:36,  1.44it/s]\u001b[A\n",
      " 39%|███▉      | 33/84 [00:22<00:32,  1.56it/s]\u001b[A\n",
      " 40%|████      | 34/84 [00:22<00:30,  1.64it/s]\u001b[A\n",
      " 42%|████▏     | 35/84 [00:23<00:28,  1.72it/s]\u001b[A\n",
      " 43%|████▎     | 36/84 [00:23<00:28,  1.70it/s]\u001b[A\n",
      " 44%|████▍     | 37/84 [00:24<00:26,  1.76it/s]\u001b[A\n",
      " 45%|████▌     | 38/84 [00:25<00:25,  1.79it/s]\u001b[A\n",
      " 46%|████▋     | 39/84 [00:25<00:24,  1.81it/s]\u001b[A\n",
      " 48%|████▊     | 40/84 [00:26<00:24,  1.83it/s]\u001b[A\n",
      " 49%|████▉     | 41/84 [00:26<00:24,  1.75it/s]\u001b[A\n",
      " 50%|█████     | 42/84 [00:27<00:23,  1.77it/s]\u001b[A\n",
      " 51%|█████     | 43/84 [00:27<00:22,  1.79it/s]\u001b[A\n",
      " 52%|█████▏    | 44/84 [00:28<00:22,  1.79it/s]\u001b[A\n",
      " 54%|█████▎    | 45/84 [00:28<00:21,  1.81it/s]\u001b[A\n",
      " 55%|█████▍    | 46/84 [00:29<00:21,  1.74it/s]\u001b[A\n",
      " 56%|█████▌    | 47/84 [00:30<00:21,  1.76it/s]\u001b[A\n",
      " 57%|█████▋    | 48/84 [00:30<00:20,  1.75it/s]\u001b[A\n",
      " 58%|█████▊    | 49/84 [00:31<00:19,  1.77it/s]\u001b[A\n",
      " 60%|█████▉    | 50/84 [00:31<00:19,  1.79it/s]\u001b[A\n",
      " 61%|██████    | 51/84 [00:32<00:18,  1.79it/s]\u001b[A\n",
      " 62%|██████▏   | 52/84 [00:32<00:18,  1.70it/s]\u001b[A\n",
      " 63%|██████▎   | 53/84 [00:33<00:18,  1.71it/s]\u001b[A\n",
      " 64%|██████▍   | 54/84 [00:34<00:17,  1.74it/s]\u001b[A\n",
      " 65%|██████▌   | 55/84 [00:34<00:16,  1.77it/s]\u001b[A\n",
      " 67%|██████▋   | 56/84 [00:35<00:15,  1.77it/s]\u001b[A\n",
      " 68%|██████▊   | 57/84 [00:35<00:15,  1.71it/s]\u001b[A\n",
      " 69%|██████▉   | 58/84 [00:36<00:14,  1.75it/s]\u001b[A\n",
      " 70%|███████   | 59/84 [00:36<00:14,  1.76it/s]\u001b[A\n",
      " 71%|███████▏  | 60/84 [00:37<00:13,  1.75it/s]\u001b[A\n",
      " 73%|███████▎  | 61/84 [00:38<00:13,  1.73it/s]\u001b[A\n",
      " 74%|███████▍  | 62/84 [00:38<00:12,  1.72it/s]\u001b[A\n",
      " 75%|███████▌  | 63/84 [00:39<00:12,  1.66it/s]\u001b[A\n",
      " 76%|███████▌  | 64/84 [00:39<00:11,  1.72it/s]\u001b[A\n",
      " 77%|███████▋  | 65/84 [00:40<00:10,  1.76it/s]\u001b[A\n",
      " 79%|███████▊  | 66/84 [00:41<00:10,  1.75it/s]\u001b[A\n",
      " 80%|███████▉  | 67/84 [00:41<00:09,  1.78it/s]\u001b[A\n",
      " 81%|████████  | 68/84 [00:42<00:08,  1.81it/s]\u001b[A\n",
      " 82%|████████▏ | 69/84 [00:42<00:08,  1.84it/s]\u001b[A\n",
      " 83%|████████▎ | 70/84 [00:43<00:07,  1.85it/s]\u001b[A\n",
      " 85%|████████▍ | 71/84 [00:43<00:07,  1.80it/s]\u001b[A\n",
      " 86%|████████▌ | 72/84 [00:44<00:06,  1.83it/s]\u001b[A\n",
      " 87%|████████▋ | 73/84 [00:44<00:06,  1.82it/s]\u001b[A\n",
      " 88%|████████▊ | 74/84 [00:45<00:05,  1.84it/s]\u001b[A\n",
      " 89%|████████▉ | 75/84 [00:45<00:04,  1.85it/s]\u001b[A\n",
      " 90%|█████████ | 76/84 [00:46<00:04,  1.86it/s]\u001b[A\n",
      " 92%|█████████▏| 77/84 [00:46<00:03,  1.84it/s]\u001b[A\n",
      " 93%|█████████▎| 78/84 [00:47<00:03,  1.85it/s]\u001b[A\n",
      " 94%|█████████▍| 79/84 [00:48<00:02,  1.86it/s]\u001b[A\n",
      " 95%|█████████▌| 80/84 [00:48<00:02,  1.88it/s]\u001b[A\n",
      " 96%|█████████▋| 81/84 [00:49<00:01,  1.88it/s]\u001b[A\n",
      " 98%|█████████▊| 82/84 [00:49<00:01,  1.84it/s]\u001b[A\n",
      " 99%|█████████▉| 83/84 [00:50<00:00,  1.86it/s]\u001b[A\n",
      "100%|██████████| 84/84 [00:50<00:00,  1.87it/s]\u001b[A\n",
      " 20%|██        | 4/20 [03:21<13:19, 49.97s/it]\n",
      "  0%|          | 0/84 [00:00<?, ?it/s]\u001b[A\n",
      "  1%|          | 1/84 [00:00<00:47,  1.73it/s]\u001b[A\n",
      "  2%|▏         | 2/84 [00:01<00:46,  1.78it/s]\u001b[A\n",
      "  4%|▎         | 3/84 [00:01<00:44,  1.82it/s]\u001b[A\n",
      "  5%|▍         | 4/84 [00:02<00:43,  1.84it/s]\u001b[A\n",
      "  6%|▌         | 5/84 [00:02<00:42,  1.85it/s]\u001b[A\n",
      "  7%|▋         | 6/84 [00:03<00:43,  1.81it/s]\u001b[A\n",
      "  8%|▊         | 7/84 [00:03<00:42,  1.83it/s]\u001b[A\n",
      " 10%|▉         | 8/84 [00:04<00:41,  1.83it/s]\u001b[A\n",
      " 11%|█         | 9/84 [00:04<00:40,  1.85it/s]\u001b[A\n",
      " 12%|█▏        | 10/84 [00:05<00:39,  1.86it/s]\u001b[A\n",
      " 13%|█▎        | 11/84 [00:05<00:39,  1.84it/s]\u001b[A\n",
      " 14%|█▍        | 12/84 [00:06<00:38,  1.85it/s]\u001b[A\n",
      " 15%|█▌        | 13/84 [00:07<00:38,  1.86it/s]\u001b[A\n",
      " 17%|█▋        | 14/84 [00:07<00:37,  1.88it/s]\u001b[A\n",
      " 18%|█▊        | 15/84 [00:08<00:36,  1.89it/s]\u001b[A\n",
      " 19%|█▉        | 16/84 [00:08<00:36,  1.85it/s]\u001b[A\n",
      " 20%|██        | 17/84 [00:09<00:36,  1.86it/s]\u001b[A\n",
      " 21%|██▏       | 18/84 [00:09<00:35,  1.87it/s]\u001b[A\n",
      " 23%|██▎       | 19/84 [00:10<00:34,  1.87it/s]\u001b[A\n",
      " 24%|██▍       | 20/84 [00:10<00:34,  1.87it/s]\u001b[A\n",
      " 25%|██▌       | 21/84 [00:11<00:34,  1.84it/s]\u001b[A\n",
      " 26%|██▌       | 22/84 [00:11<00:33,  1.87it/s]\u001b[A\n",
      " 27%|██▋       | 23/84 [00:12<00:32,  1.89it/s]\u001b[A\n",
      " 29%|██▊       | 24/84 [00:12<00:31,  1.90it/s]\u001b[A\n",
      " 30%|██▉       | 25/84 [00:13<00:31,  1.85it/s]\u001b[A\n",
      " 31%|███       | 26/84 [00:14<00:32,  1.78it/s]\u001b[A\n",
      " 32%|███▏      | 27/84 [00:14<00:31,  1.81it/s]\u001b[A\n",
      " 33%|███▎      | 28/84 [00:15<00:30,  1.84it/s]\u001b[A\n",
      " 35%|███▍      | 29/84 [00:15<00:29,  1.83it/s]\u001b[A\n",
      " 36%|███▌      | 30/84 [00:16<00:29,  1.86it/s]\u001b[A\n",
      " 37%|███▋      | 31/84 [00:16<00:29,  1.82it/s]\u001b[A\n",
      " 38%|███▊      | 32/84 [00:17<00:28,  1.83it/s]\u001b[A\n",
      " 39%|███▉      | 33/84 [00:17<00:27,  1.85it/s]\u001b[A\n",
      " 40%|████      | 34/84 [00:18<00:26,  1.86it/s]\u001b[A\n",
      " 42%|████▏     | 35/84 [00:18<00:26,  1.86it/s]\u001b[A\n",
      " 43%|████▎     | 36/84 [00:19<00:26,  1.82it/s]\u001b[A\n",
      " 44%|████▍     | 37/84 [00:19<00:25,  1.85it/s]\u001b[A\n",
      " 45%|████▌     | 38/84 [00:20<00:24,  1.86it/s]\u001b[A\n",
      " 46%|████▋     | 39/84 [00:21<00:24,  1.87it/s]\u001b[A\n",
      " 48%|████▊     | 40/84 [00:21<00:23,  1.88it/s]\u001b[A\n",
      " 49%|████▉     | 41/84 [00:22<00:23,  1.84it/s]\u001b[A\n",
      " 50%|█████     | 42/84 [00:22<00:22,  1.86it/s]\u001b[A\n",
      " 51%|█████     | 43/84 [00:23<00:21,  1.88it/s]\u001b[A\n",
      " 52%|█████▏    | 44/84 [00:23<00:21,  1.88it/s]\u001b[A\n",
      " 54%|█████▎    | 45/84 [00:24<00:20,  1.87it/s]\u001b[A\n",
      " 55%|█████▍    | 46/84 [00:24<00:20,  1.84it/s]\u001b[A\n",
      " 56%|█████▌    | 47/84 [00:25<00:19,  1.87it/s]\u001b[A\n",
      " 57%|█████▋    | 48/84 [00:25<00:19,  1.86it/s]\u001b[A\n",
      " 58%|█████▊    | 49/84 [00:26<00:18,  1.87it/s]\u001b[A\n",
      " 60%|█████▉    | 50/84 [00:26<00:18,  1.88it/s]\u001b[A\n",
      " 61%|██████    | 51/84 [00:27<00:17,  1.84it/s]\u001b[A\n",
      " 62%|██████▏   | 52/84 [00:28<00:17,  1.87it/s]\u001b[A\n",
      " 63%|██████▎   | 53/84 [00:28<00:16,  1.89it/s]\u001b[A\n",
      " 64%|██████▍   | 54/84 [00:29<00:15,  1.90it/s]\u001b[A\n",
      " 65%|██████▌   | 55/84 [00:29<00:15,  1.91it/s]\u001b[A\n",
      " 67%|██████▋   | 56/84 [00:30<00:15,  1.85it/s]\u001b[A\n",
      " 68%|██████▊   | 57/84 [00:30<00:14,  1.85it/s]\u001b[A\n",
      " 69%|██████▉   | 58/84 [00:31<00:13,  1.86it/s]\u001b[A\n",
      " 70%|███████   | 59/84 [00:31<00:13,  1.88it/s]\u001b[A\n",
      " 71%|███████▏  | 60/84 [00:32<00:12,  1.89it/s]\u001b[A\n",
      " 73%|███████▎  | 61/84 [00:32<00:12,  1.84it/s]\u001b[A\n",
      " 74%|███████▍  | 62/84 [00:33<00:11,  1.86it/s]\u001b[A\n",
      " 75%|███████▌  | 63/84 [00:33<00:11,  1.88it/s]\u001b[A\n",
      " 76%|███████▌  | 64/84 [00:34<00:10,  1.90it/s]\u001b[A\n",
      " 77%|███████▋  | 65/84 [00:34<00:09,  1.91it/s]\u001b[A\n",
      " 79%|███████▊  | 66/84 [00:35<00:09,  1.86it/s]\u001b[A\n",
      " 80%|███████▉  | 67/84 [00:36<00:09,  1.88it/s]\u001b[A\n",
      " 81%|████████  | 68/84 [00:36<00:08,  1.89it/s]\u001b[A\n",
      " 82%|████████▏ | 69/84 [00:37<00:07,  1.92it/s]\u001b[A\n",
      " 83%|████████▎ | 70/84 [00:37<00:07,  1.92it/s]\u001b[A\n",
      " 85%|████████▍ | 71/84 [00:38<00:06,  1.87it/s]\u001b[A\n",
      " 86%|████████▌ | 72/84 [00:38<00:06,  1.87it/s]\u001b[A\n",
      " 87%|████████▋ | 73/84 [00:39<00:05,  1.89it/s]\u001b[A\n",
      " 88%|████████▊ | 74/84 [00:39<00:05,  1.89it/s]\u001b[A\n",
      " 89%|████████▉ | 75/84 [00:40<00:04,  1.90it/s]\u001b[A\n",
      " 90%|█████████ | 76/84 [00:40<00:04,  1.85it/s]\u001b[A\n",
      " 92%|█████████▏| 77/84 [00:41<00:03,  1.86it/s]\u001b[A\n",
      " 93%|█████████▎| 78/84 [00:41<00:03,  1.87it/s]\u001b[A\n",
      " 94%|█████████▍| 79/84 [00:42<00:02,  1.88it/s]\u001b[A\n",
      " 95%|█████████▌| 80/84 [00:42<00:02,  1.89it/s]\u001b[A\n",
      " 96%|█████████▋| 81/84 [00:43<00:01,  1.86it/s]\u001b[A\n",
      " 98%|█████████▊| 82/84 [00:44<00:01,  1.87it/s]\u001b[A\n",
      " 99%|█████████▉| 83/84 [00:44<00:00,  1.88it/s]\u001b[A\n",
      "100%|██████████| 84/84 [00:45<00:00,  1.90it/s]\u001b[A\n",
      " 25%|██▌       | 5/20 [04:06<12:07, 48.49s/it]\n",
      "  0%|          | 0/84 [00:00<?, ?it/s]\u001b[A\n",
      "  1%|          | 1/84 [00:00<00:47,  1.73it/s]\u001b[A\n",
      "  2%|▏         | 2/84 [00:01<00:45,  1.80it/s]\u001b[A\n",
      "  4%|▎         | 3/84 [00:01<00:44,  1.83it/s]\u001b[A\n",
      "  5%|▍         | 4/84 [00:02<00:44,  1.79it/s]\u001b[A\n",
      "  6%|▌         | 5/84 [00:02<00:43,  1.82it/s]\u001b[A\n",
      "  7%|▋         | 6/84 [00:03<00:42,  1.84it/s]\u001b[A\n",
      "  8%|▊         | 7/84 [00:03<00:41,  1.85it/s]\u001b[A\n",
      " 10%|▉         | 8/84 [00:04<00:40,  1.86it/s]\u001b[A\n",
      " 11%|█         | 9/84 [00:04<00:40,  1.84it/s]\u001b[A\n",
      " 12%|█▏        | 10/84 [00:05<00:39,  1.87it/s]\u001b[A\n",
      " 13%|█▎        | 11/84 [00:05<00:38,  1.88it/s]\u001b[A\n",
      " 14%|█▍        | 12/84 [00:06<00:38,  1.87it/s]\u001b[A\n",
      " 15%|█▌        | 13/84 [00:06<00:37,  1.89it/s]\u001b[A\n",
      " 17%|█▋        | 14/84 [00:07<00:37,  1.86it/s]\u001b[A\n",
      " 18%|█▊        | 15/84 [00:08<00:36,  1.87it/s]\u001b[A\n",
      " 19%|█▉        | 16/84 [00:08<00:36,  1.88it/s]\u001b[A\n",
      " 20%|██        | 17/84 [00:09<00:36,  1.86it/s]\u001b[A\n",
      " 21%|██▏       | 18/84 [00:09<00:35,  1.88it/s]\u001b[A\n",
      " 23%|██▎       | 19/84 [00:10<00:35,  1.84it/s]\u001b[A\n",
      " 24%|██▍       | 20/84 [00:10<00:34,  1.88it/s]\u001b[A\n",
      " 25%|██▌       | 21/84 [00:11<00:33,  1.88it/s]\u001b[A\n",
      " 26%|██▌       | 22/84 [00:11<00:33,  1.87it/s]\u001b[A\n",
      " 27%|██▋       | 23/84 [00:12<00:32,  1.88it/s]\u001b[A\n",
      " 29%|██▊       | 24/84 [00:12<00:32,  1.84it/s]\u001b[A\n",
      " 30%|██▉       | 25/84 [00:13<00:31,  1.86it/s]\u001b[A\n",
      " 31%|███       | 26/84 [00:13<00:30,  1.87it/s]\u001b[A\n",
      " 32%|███▏      | 27/84 [00:14<00:30,  1.88it/s]\u001b[A\n",
      " 33%|███▎      | 28/84 [00:14<00:29,  1.89it/s]\u001b[A\n",
      " 35%|███▍      | 29/84 [00:15<00:29,  1.86it/s]\u001b[A\n",
      " 36%|███▌      | 30/84 [00:16<00:28,  1.89it/s]\u001b[A\n",
      " 37%|███▋      | 31/84 [00:16<00:28,  1.88it/s]\u001b[A\n",
      " 38%|███▊      | 32/84 [00:17<00:27,  1.89it/s]\u001b[A\n",
      " 39%|███▉      | 33/84 [00:17<00:26,  1.90it/s]\u001b[A\n",
      " 40%|████      | 34/84 [00:18<00:27,  1.84it/s]\u001b[A\n",
      " 42%|████▏     | 35/84 [00:18<00:26,  1.86it/s]\u001b[A\n",
      " 43%|████▎     | 36/84 [00:19<00:25,  1.88it/s]\u001b[A\n",
      " 44%|████▍     | 37/84 [00:19<00:24,  1.89it/s]\u001b[A\n",
      " 45%|████▌     | 38/84 [00:20<00:24,  1.91it/s]\u001b[A\n",
      " 46%|████▋     | 39/84 [00:20<00:24,  1.86it/s]\u001b[A\n",
      " 48%|████▊     | 40/84 [00:21<00:24,  1.81it/s]\u001b[A\n",
      " 49%|████▉     | 41/84 [00:21<00:23,  1.85it/s]\u001b[A\n",
      " 50%|█████     | 42/84 [00:22<00:22,  1.87it/s]\u001b[A\n",
      " 51%|█████     | 43/84 [00:23<00:21,  1.89it/s]\u001b[A\n",
      " 52%|█████▏    | 44/84 [00:23<00:21,  1.85it/s]\u001b[A\n",
      " 54%|█████▎    | 45/84 [00:24<00:20,  1.87it/s]\u001b[A\n",
      " 55%|█████▍    | 46/84 [00:24<00:20,  1.88it/s]\u001b[A\n",
      " 56%|█████▌    | 47/84 [00:25<00:19,  1.89it/s]\u001b[A\n",
      " 57%|█████▋    | 48/84 [00:25<00:19,  1.89it/s]\u001b[A\n",
      " 58%|█████▊    | 49/84 [00:26<00:18,  1.85it/s]\u001b[A\n",
      " 60%|█████▉    | 50/84 [00:26<00:18,  1.88it/s]\u001b[A\n",
      " 61%|██████    | 51/84 [00:27<00:17,  1.90it/s]\u001b[A\n",
      " 62%|██████▏   | 52/84 [00:27<00:16,  1.90it/s]\u001b[A\n",
      " 63%|██████▎   | 53/84 [00:28<00:16,  1.90it/s]\u001b[A\n",
      " 64%|██████▍   | 54/84 [00:28<00:16,  1.84it/s]\u001b[A\n",
      " 65%|██████▌   | 55/84 [00:29<00:15,  1.83it/s]\u001b[A\n",
      " 67%|██████▋   | 56/84 [00:29<00:15,  1.86it/s]\u001b[A\n",
      " 68%|██████▊   | 57/84 [00:30<00:14,  1.85it/s]\u001b[A\n",
      " 69%|██████▉   | 58/84 [00:31<00:14,  1.83it/s]\u001b[A\n",
      " 70%|███████   | 59/84 [00:31<00:13,  1.79it/s]\u001b[A\n",
      " 71%|███████▏  | 60/84 [00:32<00:13,  1.83it/s]\u001b[A\n",
      " 73%|███████▎  | 61/84 [00:32<00:12,  1.82it/s]\u001b[A\n",
      " 74%|███████▍  | 62/84 [00:33<00:12,  1.82it/s]\u001b[A\n",
      " 75%|███████▌  | 63/84 [00:33<00:11,  1.85it/s]\u001b[A\n",
      " 76%|███████▌  | 64/84 [00:34<00:11,  1.81it/s]\u001b[A\n",
      " 77%|███████▋  | 65/84 [00:34<00:10,  1.80it/s]\u001b[A\n",
      " 79%|███████▊  | 66/84 [00:35<00:09,  1.82it/s]\u001b[A\n",
      " 80%|███████▉  | 67/84 [00:36<00:09,  1.85it/s]\u001b[A\n",
      " 81%|████████  | 68/84 [00:36<00:08,  1.88it/s]\u001b[A\n",
      " 82%|████████▏ | 69/84 [00:37<00:08,  1.83it/s]\u001b[A\n",
      " 83%|████████▎ | 70/84 [00:37<00:07,  1.84it/s]\u001b[A\n",
      " 85%|████████▍ | 71/84 [00:38<00:07,  1.85it/s]\u001b[A\n",
      " 86%|████████▌ | 72/84 [00:38<00:06,  1.86it/s]\u001b[A\n",
      " 87%|████████▋ | 73/84 [00:39<00:05,  1.85it/s]\u001b[A\n",
      " 88%|████████▊ | 74/84 [00:39<00:05,  1.79it/s]\u001b[A\n",
      " 89%|████████▉ | 75/84 [00:40<00:04,  1.81it/s]\u001b[A\n",
      " 90%|█████████ | 76/84 [00:40<00:04,  1.84it/s]\u001b[A\n",
      " 92%|█████████▏| 77/84 [00:41<00:03,  1.85it/s]\u001b[A\n",
      " 93%|█████████▎| 78/84 [00:42<00:03,  1.82it/s]\u001b[A\n",
      " 94%|█████████▍| 79/84 [00:42<00:02,  1.79it/s]\u001b[A\n",
      " 95%|█████████▌| 80/84 [00:43<00:02,  1.82it/s]\u001b[A\n",
      " 96%|█████████▋| 81/84 [00:43<00:01,  1.82it/s]\u001b[A\n",
      " 98%|█████████▊| 82/84 [00:44<00:01,  1.77it/s]\u001b[A\n",
      " 99%|█████████▉| 83/84 [00:44<00:00,  1.79it/s]\u001b[A\n",
      "100%|██████████| 84/84 [00:45<00:00,  1.70it/s]\u001b[A\n",
      " 30%|███       | 6/20 [04:51<11:06, 47.59s/it]\n",
      "  0%|          | 0/84 [00:00<?, ?it/s]\u001b[A\n",
      "  1%|          | 1/84 [00:00<00:43,  1.91it/s]\u001b[A\n",
      "  2%|▏         | 2/84 [00:01<00:44,  1.84it/s]\u001b[A\n",
      "  4%|▎         | 3/84 [00:01<00:46,  1.73it/s]\u001b[A\n",
      "  5%|▍         | 4/84 [00:02<00:44,  1.78it/s]\u001b[A\n",
      "  6%|▌         | 5/84 [00:02<00:44,  1.78it/s]\u001b[A\n",
      "  7%|▋         | 6/84 [00:03<00:44,  1.76it/s]\u001b[A\n",
      "  8%|▊         | 7/84 [00:04<00:44,  1.75it/s]\u001b[A\n",
      " 10%|▉         | 8/84 [00:04<00:45,  1.65it/s]\u001b[A\n",
      " 11%|█         | 9/84 [00:05<00:44,  1.67it/s]\u001b[A\n",
      " 12%|█▏        | 10/84 [00:05<00:45,  1.61it/s]\u001b[A\n",
      " 13%|█▎        | 11/84 [00:06<00:44,  1.64it/s]\u001b[A\n",
      " 14%|█▍        | 12/84 [00:07<00:42,  1.69it/s]\u001b[A\n",
      " 15%|█▌        | 13/84 [00:07<00:43,  1.62it/s]\u001b[A\n",
      " 17%|█▋        | 14/84 [00:08<00:42,  1.65it/s]\u001b[A\n",
      " 18%|█▊        | 15/84 [00:08<00:41,  1.68it/s]\u001b[A\n",
      " 19%|█▉        | 16/84 [00:09<00:41,  1.65it/s]\u001b[A\n",
      " 20%|██        | 17/84 [00:10<00:40,  1.65it/s]\u001b[A\n",
      " 21%|██▏       | 18/84 [00:10<00:41,  1.58it/s]\u001b[A\n",
      " 23%|██▎       | 19/84 [00:11<00:41,  1.57it/s]\u001b[A\n",
      " 24%|██▍       | 20/84 [00:12<00:40,  1.59it/s]\u001b[A\n",
      " 25%|██▌       | 21/84 [00:12<00:37,  1.66it/s]\u001b[A\n",
      " 26%|██▌       | 22/84 [00:13<00:36,  1.69it/s]\u001b[A\n",
      " 27%|██▋       | 23/84 [00:13<00:37,  1.65it/s]\u001b[A\n",
      " 29%|██▊       | 24/84 [00:14<00:35,  1.69it/s]\u001b[A\n",
      " 30%|██▉       | 25/84 [00:15<00:35,  1.67it/s]\u001b[A\n",
      " 31%|███       | 26/84 [00:15<00:33,  1.71it/s]\u001b[A\n",
      " 32%|███▏      | 27/84 [00:16<00:33,  1.72it/s]\u001b[A\n",
      " 33%|███▎      | 28/84 [00:16<00:34,  1.63it/s]\u001b[A\n",
      " 35%|███▍      | 29/84 [00:17<00:33,  1.64it/s]\u001b[A\n",
      " 36%|███▌      | 30/84 [00:18<00:32,  1.65it/s]\u001b[A\n",
      " 37%|███▋      | 31/84 [00:18<00:31,  1.70it/s]\u001b[A\n",
      " 38%|███▊      | 32/84 [00:19<00:31,  1.65it/s]\u001b[A\n",
      " 39%|███▉      | 33/84 [00:19<00:31,  1.64it/s]\u001b[A\n",
      " 40%|████      | 34/84 [00:20<00:30,  1.63it/s]\u001b[A\n",
      " 42%|████▏     | 35/84 [00:21<00:31,  1.57it/s]\u001b[A\n",
      " 43%|████▎     | 36/84 [00:21<00:29,  1.61it/s]\u001b[A\n",
      " 44%|████▍     | 37/84 [00:22<00:28,  1.67it/s]\u001b[A\n",
      " 45%|████▌     | 38/84 [00:22<00:28,  1.63it/s]\u001b[A\n",
      " 46%|████▋     | 39/84 [00:23<00:27,  1.64it/s]\u001b[A\n",
      " 48%|████▊     | 40/84 [00:24<00:25,  1.69it/s]\u001b[A\n",
      " 49%|████▉     | 41/84 [00:24<00:24,  1.74it/s]\u001b[A\n",
      " 50%|█████     | 42/84 [00:25<00:23,  1.76it/s]\u001b[A\n",
      " 51%|█████     | 43/84 [00:25<00:23,  1.74it/s]\u001b[A\n",
      " 52%|█████▏    | 44/84 [00:26<00:22,  1.77it/s]\u001b[A\n",
      " 54%|█████▎    | 45/84 [00:26<00:21,  1.79it/s]\u001b[A\n",
      " 55%|█████▍    | 46/84 [00:27<00:21,  1.79it/s]\u001b[A\n",
      " 56%|█████▌    | 47/84 [00:27<00:20,  1.79it/s]\u001b[A\n",
      " 57%|█████▋    | 48/84 [00:28<00:21,  1.71it/s]\u001b[A\n",
      " 58%|█████▊    | 49/84 [00:29<00:20,  1.74it/s]\u001b[A\n",
      " 60%|█████▉    | 50/84 [00:29<00:19,  1.78it/s]\u001b[A\n",
      " 61%|██████    | 51/84 [00:30<00:18,  1.78it/s]\u001b[A\n",
      " 62%|██████▏   | 52/84 [00:30<00:17,  1.79it/s]\u001b[A\n",
      " 63%|██████▎   | 53/84 [00:31<00:17,  1.77it/s]\u001b[A\n",
      " 64%|██████▍   | 54/84 [00:31<00:16,  1.77it/s]\u001b[A\n",
      " 65%|██████▌   | 55/84 [00:32<00:16,  1.80it/s]\u001b[A\n",
      " 67%|██████▋   | 56/84 [00:33<00:15,  1.81it/s]\u001b[A\n",
      " 68%|██████▊   | 57/84 [00:33<00:14,  1.83it/s]\u001b[A\n",
      " 69%|██████▉   | 58/84 [00:34<00:14,  1.80it/s]\u001b[A\n",
      " 70%|███████   | 59/84 [00:34<00:13,  1.82it/s]\u001b[A\n",
      " 71%|███████▏  | 60/84 [00:35<00:13,  1.84it/s]\u001b[A\n",
      " 73%|███████▎  | 61/84 [00:35<00:12,  1.78it/s]\u001b[A\n",
      " 74%|███████▍  | 62/84 [00:36<00:12,  1.76it/s]\u001b[A\n",
      " 75%|███████▌  | 63/84 [00:37<00:12,  1.70it/s]\u001b[A\n",
      " 76%|███████▌  | 64/84 [00:37<00:11,  1.73it/s]\u001b[A\n",
      " 77%|███████▋  | 65/84 [00:38<00:11,  1.72it/s]\u001b[A\n",
      " 79%|███████▊  | 66/84 [00:38<00:10,  1.71it/s]\u001b[A\n",
      " 80%|███████▉  | 67/84 [00:39<00:09,  1.71it/s]\u001b[A\n",
      " 81%|████████  | 68/84 [00:40<00:09,  1.66it/s]\u001b[A\n",
      " 82%|████████▏ | 69/84 [00:40<00:08,  1.69it/s]\u001b[A\n",
      " 83%|████████▎ | 70/84 [00:41<00:08,  1.73it/s]\u001b[A\n",
      " 85%|████████▍ | 71/84 [00:41<00:07,  1.72it/s]\u001b[A\n",
      " 86%|████████▌ | 72/84 [00:42<00:06,  1.73it/s]\u001b[A\n",
      " 87%|████████▋ | 73/84 [00:42<00:06,  1.68it/s]\u001b[A\n",
      " 88%|████████▊ | 74/84 [00:43<00:05,  1.68it/s]\u001b[A\n",
      " 89%|████████▉ | 75/84 [00:44<00:05,  1.70it/s]\u001b[A\n",
      " 90%|█████████ | 76/84 [00:44<00:04,  1.73it/s]\u001b[A\n",
      " 92%|█████████▏| 77/84 [00:45<00:03,  1.75it/s]\u001b[A\n",
      " 93%|█████████▎| 78/84 [00:45<00:03,  1.69it/s]\u001b[A\n",
      " 94%|█████████▍| 79/84 [00:46<00:02,  1.73it/s]\u001b[A\n",
      " 95%|█████████▌| 80/84 [00:46<00:02,  1.73it/s]\u001b[A\n",
      " 96%|█████████▋| 81/84 [00:47<00:01,  1.75it/s]\u001b[A\n",
      " 98%|█████████▊| 82/84 [00:48<00:01,  1.78it/s]\u001b[A\n",
      " 99%|█████████▉| 83/84 [00:48<00:00,  1.71it/s]\u001b[A\n",
      "100%|██████████| 84/84 [00:49<00:00,  1.75it/s]\u001b[A\n",
      " 35%|███▌      | 7/20 [05:40<10:25, 48.08s/it]\n",
      "  0%|          | 0/84 [00:00<?, ?it/s]\u001b[A\n",
      "  1%|          | 1/84 [00:00<00:44,  1.85it/s]\u001b[A\n",
      "  2%|▏         | 2/84 [00:01<00:44,  1.83it/s]\u001b[A\n",
      "  4%|▎         | 3/84 [00:01<00:43,  1.85it/s]\u001b[A\n",
      "  5%|▍         | 4/84 [00:02<00:42,  1.86it/s]\u001b[A\n",
      "  6%|▌         | 5/84 [00:02<00:42,  1.85it/s]\u001b[A\n",
      "  7%|▋         | 6/84 [00:03<00:41,  1.87it/s]\u001b[A\n",
      "  8%|▊         | 7/84 [00:03<00:42,  1.83it/s]\u001b[A\n",
      " 10%|▉         | 8/84 [00:04<00:41,  1.81it/s]\u001b[A\n",
      " 11%|█         | 9/84 [00:04<00:40,  1.84it/s]\u001b[A\n",
      " 12%|█▏        | 10/84 [00:05<00:40,  1.85it/s]\u001b[A\n",
      " 13%|█▎        | 11/84 [00:05<00:39,  1.86it/s]\u001b[A\n",
      " 14%|█▍        | 12/84 [00:06<00:39,  1.83it/s]\u001b[A\n",
      " 15%|█▌        | 13/84 [00:07<00:38,  1.85it/s]\u001b[A\n",
      " 17%|█▋        | 14/84 [00:07<00:37,  1.84it/s]\u001b[A\n",
      " 18%|█▊        | 15/84 [00:08<00:37,  1.86it/s]\u001b[A\n",
      " 19%|█▉        | 16/84 [00:08<00:37,  1.84it/s]\u001b[A\n",
      " 20%|██        | 17/84 [00:09<00:38,  1.75it/s]\u001b[A\n",
      " 21%|██▏       | 18/84 [00:09<00:37,  1.77it/s]\u001b[A\n",
      " 23%|██▎       | 19/84 [00:10<00:36,  1.78it/s]\u001b[A\n",
      " 24%|██▍       | 20/84 [00:10<00:35,  1.79it/s]\u001b[A\n",
      " 25%|██▌       | 21/84 [00:11<00:35,  1.79it/s]\u001b[A\n",
      " 26%|██▌       | 22/84 [00:12<00:36,  1.70it/s]\u001b[A\n",
      " 27%|██▋       | 23/84 [00:12<00:35,  1.71it/s]\u001b[A\n",
      " 29%|██▊       | 24/84 [00:13<00:35,  1.70it/s]\u001b[A\n",
      " 30%|██▉       | 25/84 [00:13<00:34,  1.73it/s]\u001b[A\n",
      " 31%|███       | 26/84 [00:14<00:33,  1.71it/s]\u001b[A\n",
      " 32%|███▏      | 27/84 [00:15<00:34,  1.68it/s]\u001b[A\n",
      " 33%|███▎      | 28/84 [00:15<00:32,  1.70it/s]\u001b[A\n",
      " 35%|███▍      | 29/84 [00:16<00:31,  1.74it/s]\u001b[A\n",
      " 36%|███▌      | 30/84 [00:16<00:30,  1.75it/s]\u001b[A\n",
      " 37%|███▋      | 31/84 [00:17<00:29,  1.79it/s]\u001b[A\n",
      " 38%|███▊      | 32/84 [00:17<00:30,  1.73it/s]\u001b[A\n",
      " 39%|███▉      | 33/84 [00:18<00:30,  1.68it/s]\u001b[A\n",
      " 40%|████      | 34/84 [00:19<00:29,  1.72it/s]\u001b[A\n",
      " 42%|████▏     | 35/84 [00:19<00:27,  1.76it/s]\u001b[A\n",
      " 43%|████▎     | 36/84 [00:20<00:26,  1.79it/s]\u001b[A\n",
      " 44%|████▍     | 37/84 [00:20<00:26,  1.75it/s]\u001b[A\n",
      " 45%|████▌     | 38/84 [00:21<00:25,  1.79it/s]\u001b[A\n",
      " 46%|████▋     | 39/84 [00:21<00:24,  1.81it/s]\u001b[A\n",
      " 48%|████▊     | 40/84 [00:22<00:24,  1.83it/s]\u001b[A\n",
      " 49%|████▉     | 41/84 [00:22<00:23,  1.84it/s]\u001b[A\n",
      " 50%|█████     | 42/84 [00:23<00:23,  1.81it/s]\u001b[A\n",
      " 51%|█████     | 43/84 [00:24<00:22,  1.84it/s]\u001b[A\n",
      " 52%|█████▏    | 44/84 [00:24<00:21,  1.85it/s]\u001b[A\n",
      " 54%|█████▎    | 45/84 [00:25<00:21,  1.84it/s]\u001b[A\n",
      " 55%|█████▍    | 46/84 [00:25<00:20,  1.85it/s]\u001b[A\n",
      " 56%|█████▌    | 47/84 [00:26<00:20,  1.81it/s]\u001b[A\n",
      " 57%|█████▋    | 48/84 [00:26<00:19,  1.83it/s]\u001b[A\n",
      " 58%|█████▊    | 49/84 [00:27<00:18,  1.84it/s]\u001b[A\n",
      " 60%|█████▉    | 50/84 [00:27<00:18,  1.85it/s]\u001b[A\n",
      " 61%|██████    | 51/84 [00:28<00:17,  1.87it/s]\u001b[A\n",
      " 62%|██████▏   | 52/84 [00:28<00:17,  1.82it/s]\u001b[A\n",
      " 63%|██████▎   | 53/84 [00:29<00:17,  1.81it/s]\u001b[A\n",
      " 64%|██████▍   | 54/84 [00:30<00:16,  1.84it/s]\u001b[A\n",
      " 65%|██████▌   | 55/84 [00:30<00:15,  1.86it/s]\u001b[A\n",
      " 67%|██████▋   | 56/84 [00:31<00:14,  1.88it/s]\u001b[A\n",
      " 68%|██████▊   | 57/84 [00:31<00:14,  1.84it/s]\u001b[A\n",
      " 69%|██████▉   | 58/84 [00:32<00:14,  1.85it/s]\u001b[A\n",
      " 70%|███████   | 59/84 [00:32<00:13,  1.87it/s]\u001b[A\n",
      " 71%|███████▏  | 60/84 [00:33<00:13,  1.84it/s]\u001b[A\n",
      " 73%|███████▎  | 61/84 [00:33<00:12,  1.85it/s]\u001b[A\n",
      " 74%|███████▍  | 62/84 [00:34<00:12,  1.77it/s]\u001b[A\n",
      " 75%|███████▌  | 63/84 [00:34<00:11,  1.79it/s]\u001b[A\n",
      " 76%|███████▌  | 64/84 [00:35<00:11,  1.80it/s]\u001b[A\n",
      " 77%|███████▋  | 65/84 [00:36<00:10,  1.83it/s]\u001b[A\n",
      " 79%|███████▊  | 66/84 [00:36<00:09,  1.85it/s]\u001b[A\n",
      " 80%|███████▉  | 67/84 [00:37<00:09,  1.78it/s]\u001b[A\n",
      " 81%|████████  | 68/84 [00:37<00:08,  1.81it/s]\u001b[A\n",
      " 82%|████████▏ | 69/84 [00:38<00:08,  1.83it/s]\u001b[A\n",
      " 83%|████████▎ | 70/84 [00:38<00:07,  1.86it/s]\u001b[A\n",
      " 85%|████████▍ | 71/84 [00:39<00:07,  1.85it/s]\u001b[A\n",
      " 86%|████████▌ | 72/84 [00:39<00:06,  1.79it/s]\u001b[A\n",
      " 87%|████████▋ | 73/84 [00:40<00:06,  1.77it/s]\u001b[A\n",
      " 88%|████████▊ | 74/84 [00:41<00:05,  1.82it/s]\u001b[A\n",
      " 89%|████████▉ | 75/84 [00:41<00:04,  1.84it/s]\u001b[A\n",
      " 90%|█████████ | 76/84 [00:42<00:04,  1.87it/s]\u001b[A\n",
      " 92%|█████████▏| 77/84 [00:42<00:03,  1.83it/s]\u001b[A\n",
      " 93%|█████████▎| 78/84 [00:43<00:03,  1.83it/s]\u001b[A\n",
      " 94%|█████████▍| 79/84 [00:43<00:02,  1.85it/s]\u001b[A\n",
      " 95%|█████████▌| 80/84 [00:44<00:02,  1.83it/s]\u001b[A\n",
      " 96%|█████████▋| 81/84 [00:44<00:01,  1.85it/s]\u001b[A\n",
      " 98%|█████████▊| 82/84 [00:45<00:01,  1.79it/s]\u001b[A\n",
      " 99%|█████████▉| 83/84 [00:45<00:00,  1.80it/s]\u001b[A\n",
      "100%|██████████| 84/84 [00:46<00:00,  1.82it/s]\u001b[A\n",
      " 40%|████      | 8/20 [06:27<09:31, 47.60s/it]\n",
      "  0%|          | 0/84 [00:00<?, ?it/s]\u001b[A\n",
      "  1%|          | 1/84 [00:00<00:47,  1.76it/s]\u001b[A\n",
      "  2%|▏         | 2/84 [00:01<00:46,  1.78it/s]\u001b[A\n",
      "  4%|▎         | 3/84 [00:01<00:44,  1.82it/s]\u001b[A\n",
      "  5%|▍         | 4/84 [00:02<00:43,  1.83it/s]\u001b[A\n",
      "  6%|▌         | 5/84 [00:02<00:44,  1.79it/s]\u001b[A\n",
      "  7%|▋         | 6/84 [00:03<00:44,  1.76it/s]\u001b[A\n",
      "  8%|▊         | 7/84 [00:03<00:43,  1.79it/s]\u001b[A\n",
      " 10%|▉         | 8/84 [00:04<00:41,  1.82it/s]\u001b[A\n",
      " 11%|█         | 9/84 [00:04<00:40,  1.85it/s]\u001b[A\n",
      " 12%|█▏        | 10/84 [00:05<00:40,  1.83it/s]\u001b[A\n",
      " 13%|█▎        | 11/84 [00:06<00:40,  1.78it/s]\u001b[A\n",
      " 14%|█▍        | 12/84 [00:06<00:39,  1.82it/s]\u001b[A\n",
      " 15%|█▌        | 13/84 [00:07<00:38,  1.83it/s]\u001b[A\n",
      " 17%|█▋        | 14/84 [00:07<00:37,  1.85it/s]\u001b[A\n",
      " 18%|█▊        | 15/84 [00:08<00:37,  1.84it/s]\u001b[A\n",
      " 19%|█▉        | 16/84 [00:08<00:38,  1.78it/s]\u001b[A\n",
      " 20%|██        | 17/84 [00:09<00:37,  1.79it/s]\u001b[A\n",
      " 21%|██▏       | 18/84 [00:09<00:37,  1.78it/s]\u001b[A\n",
      " 23%|██▎       | 19/84 [00:10<00:35,  1.81it/s]\u001b[A\n",
      " 24%|██▍       | 20/84 [00:11<00:34,  1.83it/s]\u001b[A\n",
      " 25%|██▌       | 21/84 [00:11<00:35,  1.78it/s]\u001b[A\n",
      " 26%|██▌       | 22/84 [00:12<00:34,  1.78it/s]\u001b[A\n",
      " 27%|██▋       | 23/84 [00:12<00:33,  1.80it/s]\u001b[A\n",
      " 29%|██▊       | 24/84 [00:13<00:33,  1.82it/s]\u001b[A\n",
      " 30%|██▉       | 25/84 [00:13<00:32,  1.81it/s]\u001b[A\n",
      " 31%|███       | 26/84 [00:14<00:32,  1.77it/s]\u001b[A\n",
      " 32%|███▏      | 27/84 [00:14<00:31,  1.81it/s]\u001b[A\n",
      " 33%|███▎      | 28/84 [00:15<00:31,  1.79it/s]\u001b[A\n",
      " 35%|███▍      | 29/84 [00:16<00:30,  1.79it/s]\u001b[A\n",
      " 36%|███▌      | 30/84 [00:16<00:29,  1.84it/s]\u001b[A\n",
      " 37%|███▋      | 31/84 [00:17<00:29,  1.79it/s]\u001b[A\n",
      " 38%|███▊      | 32/84 [00:17<00:29,  1.77it/s]\u001b[A\n",
      " 39%|███▉      | 33/84 [00:18<00:28,  1.80it/s]\u001b[A\n",
      " 40%|████      | 34/84 [00:18<00:27,  1.84it/s]\u001b[A\n",
      " 42%|████▏     | 35/84 [00:19<00:26,  1.85it/s]\u001b[A\n",
      " 43%|████▎     | 36/84 [00:19<00:26,  1.81it/s]\u001b[A\n",
      " 44%|████▍     | 37/84 [00:20<00:26,  1.79it/s]\u001b[A\n",
      " 45%|████▌     | 38/84 [00:21<00:25,  1.83it/s]\u001b[A\n",
      " 46%|████▋     | 39/84 [00:21<00:24,  1.81it/s]\u001b[A\n",
      " 48%|████▊     | 40/84 [00:22<00:24,  1.83it/s]\u001b[A\n",
      " 49%|████▉     | 41/84 [00:22<00:24,  1.78it/s]\u001b[A\n",
      " 50%|█████     | 42/84 [00:23<00:23,  1.79it/s]\u001b[A\n",
      " 51%|█████     | 43/84 [00:23<00:22,  1.83it/s]\u001b[A\n",
      " 52%|█████▏    | 44/84 [00:24<00:21,  1.83it/s]\u001b[A\n",
      " 54%|█████▎    | 45/84 [00:24<00:21,  1.83it/s]\u001b[A\n",
      " 55%|█████▍    | 46/84 [00:25<00:21,  1.77it/s]\u001b[A\n",
      " 56%|█████▌    | 47/84 [00:26<00:20,  1.80it/s]\u001b[A\n",
      " 57%|█████▋    | 48/84 [00:26<00:19,  1.82it/s]\u001b[A\n",
      " 58%|█████▊    | 49/84 [00:27<00:19,  1.83it/s]\u001b[A\n",
      " 60%|█████▉    | 50/84 [00:27<00:18,  1.85it/s]\u001b[A\n",
      " 61%|██████    | 51/84 [00:28<00:18,  1.80it/s]\u001b[A\n",
      " 62%|██████▏   | 52/84 [00:28<00:17,  1.83it/s]\u001b[A\n",
      " 63%|██████▎   | 53/84 [00:29<00:16,  1.83it/s]\u001b[A\n",
      " 64%|██████▍   | 54/84 [00:29<00:16,  1.86it/s]\u001b[A\n",
      " 65%|██████▌   | 55/84 [00:30<00:15,  1.81it/s]\u001b[A\n",
      " 67%|██████▋   | 56/84 [00:30<00:15,  1.81it/s]\u001b[A\n",
      " 68%|██████▊   | 57/84 [00:31<00:14,  1.82it/s]\u001b[A\n",
      " 69%|██████▉   | 58/84 [00:31<00:14,  1.85it/s]\u001b[A\n",
      " 70%|███████   | 59/84 [00:32<00:13,  1.86it/s]\u001b[A\n",
      " 71%|███████▏  | 60/84 [00:33<00:13,  1.82it/s]\u001b[A\n",
      " 73%|███████▎  | 61/84 [00:33<00:12,  1.85it/s]\u001b[A\n",
      " 74%|███████▍  | 62/84 [00:34<00:11,  1.86it/s]\u001b[A\n",
      " 75%|███████▌  | 63/84 [00:34<00:11,  1.84it/s]\u001b[A\n",
      " 76%|███████▌  | 64/84 [00:35<00:10,  1.84it/s]\u001b[A\n",
      " 77%|███████▋  | 65/84 [00:35<00:10,  1.81it/s]\u001b[A\n",
      " 79%|███████▊  | 66/84 [00:36<00:09,  1.82it/s]\u001b[A\n",
      " 80%|███████▉  | 67/84 [00:36<00:09,  1.81it/s]\u001b[A\n",
      " 81%|████████  | 68/84 [00:37<00:08,  1.84it/s]\u001b[A\n",
      " 82%|████████▏ | 69/84 [00:37<00:08,  1.86it/s]\u001b[A\n",
      " 83%|████████▎ | 70/84 [00:38<00:07,  1.81it/s]\u001b[A\n",
      " 85%|████████▍ | 71/84 [00:39<00:07,  1.82it/s]\u001b[A\n",
      " 86%|████████▌ | 72/84 [00:39<00:06,  1.81it/s]\u001b[A\n",
      " 87%|████████▋ | 73/84 [00:40<00:05,  1.84it/s]\u001b[A\n",
      " 88%|████████▊ | 74/84 [00:40<00:05,  1.86it/s]\u001b[A\n",
      " 89%|████████▉ | 75/84 [00:41<00:05,  1.80it/s]\u001b[A\n",
      " 90%|█████████ | 76/84 [00:41<00:04,  1.83it/s]\u001b[A\n",
      " 92%|█████████▏| 77/84 [00:42<00:03,  1.84it/s]\u001b[A\n",
      " 93%|█████████▎| 78/84 [00:42<00:03,  1.84it/s]\u001b[A\n",
      " 94%|█████████▍| 79/84 [00:43<00:02,  1.86it/s]\u001b[A\n",
      " 95%|█████████▌| 80/84 [00:44<00:02,  1.79it/s]\u001b[A\n",
      " 96%|█████████▋| 81/84 [00:44<00:01,  1.83it/s]\u001b[A\n",
      " 98%|█████████▊| 82/84 [00:45<00:01,  1.86it/s]\u001b[A\n",
      " 99%|█████████▉| 83/84 [00:45<00:00,  1.88it/s]\u001b[A\n",
      "100%|██████████| 84/84 [00:46<00:00,  1.86it/s]\u001b[A\n",
      " 45%|████▌     | 9/20 [07:13<08:38, 47.16s/it]\n",
      "  0%|          | 0/84 [00:00<?, ?it/s]\u001b[A\n",
      "  1%|          | 1/84 [00:00<00:46,  1.80it/s]\u001b[A\n",
      "  2%|▏         | 2/84 [00:01<00:45,  1.78it/s]\u001b[A\n",
      "  4%|▎         | 3/84 [00:01<00:46,  1.73it/s]\u001b[A\n",
      "  5%|▍         | 4/84 [00:02<00:46,  1.72it/s]\u001b[A\n",
      "  6%|▌         | 5/84 [00:02<00:46,  1.71it/s]\u001b[A\n",
      "  7%|▋         | 6/84 [00:03<00:44,  1.76it/s]\u001b[A\n",
      "  8%|▊         | 7/84 [00:04<00:43,  1.77it/s]\u001b[A\n",
      " 10%|▉         | 8/84 [00:04<00:43,  1.73it/s]\u001b[A\n",
      " 11%|█         | 9/84 [00:05<00:42,  1.78it/s]\u001b[A\n",
      " 12%|█▏        | 10/84 [00:05<00:40,  1.81it/s]\u001b[A\n",
      " 13%|█▎        | 11/84 [00:06<00:39,  1.84it/s]\u001b[A\n",
      " 14%|█▍        | 12/84 [00:06<00:38,  1.85it/s]\u001b[A\n",
      " 15%|█▌        | 13/84 [00:07<00:39,  1.80it/s]\u001b[A\n",
      " 17%|█▋        | 14/84 [00:07<00:38,  1.81it/s]\u001b[A\n",
      " 18%|█▊        | 15/84 [00:08<00:37,  1.84it/s]\u001b[A\n",
      " 19%|█▉        | 16/84 [00:08<00:36,  1.85it/s]\u001b[A\n",
      " 20%|██        | 17/84 [00:09<00:35,  1.87it/s]\u001b[A\n",
      " 21%|██▏       | 18/84 [00:10<00:36,  1.83it/s]\u001b[A\n",
      " 23%|██▎       | 19/84 [00:10<00:35,  1.84it/s]\u001b[A\n",
      " 24%|██▍       | 20/84 [00:11<00:34,  1.84it/s]\u001b[A\n",
      " 25%|██▌       | 21/84 [00:11<00:34,  1.82it/s]\u001b[A\n",
      " 26%|██▌       | 22/84 [00:12<00:33,  1.83it/s]\u001b[A\n",
      " 27%|██▋       | 23/84 [00:12<00:34,  1.77it/s]\u001b[A\n",
      " 29%|██▊       | 24/84 [00:13<00:33,  1.80it/s]\u001b[A\n",
      " 30%|██▉       | 25/84 [00:13<00:32,  1.84it/s]\u001b[A\n",
      " 31%|███       | 26/84 [00:14<00:31,  1.86it/s]\u001b[A\n",
      " 32%|███▏      | 27/84 [00:14<00:30,  1.87it/s]\u001b[A\n",
      " 33%|███▎      | 28/84 [00:15<00:30,  1.82it/s]\u001b[A\n",
      " 35%|███▍      | 29/84 [00:16<00:30,  1.83it/s]\u001b[A\n",
      " 36%|███▌      | 30/84 [00:16<00:29,  1.82it/s]\u001b[A\n",
      " 37%|███▋      | 31/84 [00:17<00:29,  1.82it/s]\u001b[A\n",
      " 38%|███▊      | 32/84 [00:17<00:28,  1.84it/s]\u001b[A\n",
      " 39%|███▉      | 33/84 [00:18<00:28,  1.81it/s]\u001b[A\n",
      " 40%|████      | 34/84 [00:18<00:27,  1.84it/s]\u001b[A\n",
      " 42%|████▏     | 35/84 [00:19<00:26,  1.83it/s]\u001b[A\n",
      " 43%|████▎     | 36/84 [00:19<00:25,  1.85it/s]\u001b[A\n",
      " 44%|████▍     | 37/84 [00:20<00:25,  1.86it/s]\u001b[A\n",
      " 45%|████▌     | 38/84 [00:20<00:25,  1.83it/s]\u001b[A\n",
      " 46%|████▋     | 39/84 [00:21<00:24,  1.85it/s]\u001b[A\n",
      " 48%|████▊     | 40/84 [00:22<00:23,  1.87it/s]\u001b[A\n",
      " 49%|████▉     | 41/84 [00:22<00:22,  1.87it/s]\u001b[A\n",
      " 50%|█████     | 42/84 [00:23<00:22,  1.89it/s]\u001b[A\n",
      " 51%|█████     | 43/84 [00:23<00:22,  1.85it/s]\u001b[A\n",
      " 52%|█████▏    | 44/84 [00:24<00:21,  1.87it/s]\u001b[A\n",
      " 54%|█████▎    | 45/84 [00:24<00:20,  1.88it/s]\u001b[A\n",
      " 55%|█████▍    | 46/84 [00:25<00:20,  1.87it/s]\u001b[A\n",
      " 56%|█████▌    | 47/84 [00:25<00:19,  1.90it/s]\u001b[A\n",
      " 57%|█████▋    | 48/84 [00:26<00:19,  1.85it/s]\u001b[A\n",
      " 58%|█████▊    | 49/84 [00:26<00:18,  1.85it/s]\u001b[A\n",
      " 60%|█████▉    | 50/84 [00:27<00:18,  1.82it/s]\u001b[A\n",
      " 61%|██████    | 51/84 [00:27<00:18,  1.80it/s]\u001b[A\n",
      " 62%|██████▏   | 52/84 [00:28<00:17,  1.83it/s]\u001b[A\n",
      " 63%|██████▎   | 53/84 [00:29<00:17,  1.78it/s]\u001b[A\n",
      " 64%|██████▍   | 54/84 [00:29<00:16,  1.78it/s]\u001b[A\n",
      " 65%|██████▌   | 55/84 [00:30<00:16,  1.80it/s]\u001b[A\n",
      " 67%|██████▋   | 56/84 [00:30<00:15,  1.83it/s]\u001b[A\n",
      " 68%|██████▊   | 57/84 [00:31<00:14,  1.86it/s]\u001b[A\n",
      " 69%|██████▉   | 58/84 [00:31<00:14,  1.78it/s]\u001b[A\n",
      " 70%|███████   | 59/84 [00:32<00:13,  1.81it/s]\u001b[A\n",
      " 71%|███████▏  | 60/84 [00:32<00:13,  1.84it/s]\u001b[A\n",
      " 73%|███████▎  | 61/84 [00:33<00:12,  1.86it/s]\u001b[A\n",
      " 74%|███████▍  | 62/84 [00:33<00:11,  1.86it/s]\u001b[A\n",
      " 75%|███████▌  | 63/84 [00:34<00:11,  1.83it/s]\u001b[A\n",
      " 76%|███████▌  | 64/84 [00:35<00:10,  1.85it/s]\u001b[A\n",
      " 77%|███████▋  | 65/84 [00:35<00:10,  1.85it/s]\u001b[A\n",
      " 79%|███████▊  | 66/84 [00:36<00:09,  1.86it/s]\u001b[A\n",
      " 80%|███████▉  | 67/84 [00:36<00:09,  1.87it/s]\u001b[A\n",
      " 81%|████████  | 68/84 [00:37<00:08,  1.83it/s]\u001b[A\n",
      " 82%|████████▏ | 69/84 [00:37<00:08,  1.83it/s]\u001b[A\n",
      " 83%|████████▎ | 70/84 [00:38<00:07,  1.84it/s]\u001b[A\n",
      " 85%|████████▍ | 71/84 [00:38<00:06,  1.87it/s]\u001b[A\n",
      " 86%|████████▌ | 72/84 [00:39<00:06,  1.89it/s]\u001b[A\n",
      " 87%|████████▋ | 73/84 [00:39<00:06,  1.82it/s]\u001b[A\n",
      " 88%|████████▊ | 74/84 [00:40<00:05,  1.79it/s]\u001b[A\n",
      " 89%|████████▉ | 75/84 [00:41<00:04,  1.80it/s]\u001b[A\n",
      " 90%|█████████ | 76/84 [00:41<00:04,  1.84it/s]\u001b[A\n",
      " 92%|█████████▏| 77/84 [00:42<00:03,  1.87it/s]\u001b[A\n",
      " 93%|█████████▎| 78/84 [00:42<00:03,  1.81it/s]\u001b[A\n",
      " 94%|█████████▍| 79/84 [00:43<00:02,  1.81it/s]\u001b[A\n",
      " 95%|█████████▌| 80/84 [00:43<00:02,  1.81it/s]\u001b[A\n",
      " 96%|█████████▋| 81/84 [00:44<00:01,  1.83it/s]\u001b[A\n",
      " 98%|█████████▊| 82/84 [00:44<00:01,  1.86it/s]\u001b[A\n",
      " 99%|█████████▉| 83/84 [00:45<00:00,  1.78it/s]\u001b[A\n",
      "100%|██████████| 84/84 [00:46<00:00,  1.79it/s]\u001b[A\n",
      " 50%|█████     | 10/20 [07:59<07:48, 46.82s/it]\n",
      "  0%|          | 0/84 [00:00<?, ?it/s]\u001b[A\n",
      "  1%|          | 1/84 [00:00<00:42,  1.94it/s]\u001b[A\n",
      "  2%|▏         | 2/84 [00:01<00:43,  1.87it/s]\u001b[A\n",
      "  4%|▎         | 3/84 [00:01<00:43,  1.87it/s]\u001b[A\n",
      "  5%|▍         | 4/84 [00:02<00:43,  1.86it/s]\u001b[A\n",
      "  6%|▌         | 5/84 [00:02<00:42,  1.85it/s]\u001b[A\n",
      "  7%|▋         | 6/84 [00:03<00:41,  1.86it/s]\u001b[A\n",
      "  8%|▊         | 7/84 [00:03<00:42,  1.82it/s]\u001b[A\n",
      " 10%|▉         | 8/84 [00:04<00:41,  1.82it/s]\u001b[A\n",
      " 11%|█         | 9/84 [00:04<00:40,  1.84it/s]\u001b[A\n",
      " 12%|█▏        | 10/84 [00:05<00:40,  1.84it/s]\u001b[A\n",
      " 13%|█▎        | 11/84 [00:05<00:39,  1.86it/s]\u001b[A\n",
      " 14%|█▍        | 12/84 [00:06<00:39,  1.81it/s]\u001b[A\n",
      " 15%|█▌        | 13/84 [00:07<00:38,  1.83it/s]\u001b[A\n",
      " 17%|█▋        | 14/84 [00:07<00:38,  1.81it/s]\u001b[A\n",
      " 18%|█▊        | 15/84 [00:08<00:37,  1.84it/s]\u001b[A\n",
      " 19%|█▉        | 16/84 [00:08<00:36,  1.87it/s]\u001b[A\n",
      " 20%|██        | 17/84 [00:09<00:37,  1.79it/s]\u001b[A\n",
      " 21%|██▏       | 18/84 [00:09<00:37,  1.78it/s]\u001b[A\n",
      " 23%|██▎       | 19/84 [00:10<00:36,  1.80it/s]\u001b[A\n",
      " 24%|██▍       | 20/84 [00:10<00:35,  1.80it/s]\u001b[A\n",
      " 25%|██▌       | 21/84 [00:11<00:34,  1.84it/s]\u001b[A\n",
      " 26%|██▌       | 22/84 [00:12<00:34,  1.81it/s]\u001b[A\n",
      " 27%|██▋       | 23/84 [00:12<00:33,  1.84it/s]\u001b[A\n",
      " 29%|██▊       | 24/84 [00:13<00:32,  1.87it/s]\u001b[A\n",
      " 30%|██▉       | 25/84 [00:13<00:31,  1.88it/s]\u001b[A\n",
      " 31%|███       | 26/84 [00:14<00:31,  1.87it/s]\u001b[A\n",
      " 32%|███▏      | 27/84 [00:14<00:31,  1.81it/s]\u001b[A\n",
      " 33%|███▎      | 28/84 [00:15<00:30,  1.85it/s]\u001b[A\n",
      " 35%|███▍      | 29/84 [00:15<00:29,  1.84it/s]\u001b[A\n",
      " 36%|███▌      | 30/84 [00:16<00:28,  1.87it/s]\u001b[A\n",
      " 37%|███▋      | 31/84 [00:16<00:28,  1.88it/s]\u001b[A\n",
      " 38%|███▊      | 32/84 [00:17<00:28,  1.81it/s]\u001b[A\n",
      " 39%|███▉      | 33/84 [00:18<00:27,  1.83it/s]\u001b[A\n",
      " 40%|████      | 34/84 [00:18<00:26,  1.86it/s]\u001b[A\n",
      " 42%|████▏     | 35/84 [00:19<00:26,  1.86it/s]\u001b[A\n",
      " 43%|████▎     | 36/84 [00:19<00:25,  1.87it/s]\u001b[A\n",
      " 44%|████▍     | 37/84 [00:20<00:25,  1.83it/s]\u001b[A\n",
      " 45%|████▌     | 38/84 [00:20<00:24,  1.86it/s]\u001b[A\n",
      " 46%|████▋     | 39/84 [00:21<00:24,  1.87it/s]\u001b[A\n",
      " 48%|████▊     | 40/84 [00:21<00:23,  1.86it/s]\u001b[A\n",
      " 49%|████▉     | 41/84 [00:22<00:23,  1.86it/s]\u001b[A\n",
      " 50%|█████     | 42/84 [00:22<00:23,  1.82it/s]\u001b[A\n",
      " 51%|█████     | 43/84 [00:23<00:22,  1.82it/s]\u001b[A\n",
      " 52%|█████▏    | 44/84 [00:23<00:21,  1.83it/s]\u001b[A\n",
      " 54%|█████▎    | 45/84 [00:24<00:21,  1.85it/s]\u001b[A\n",
      " 55%|█████▍    | 46/84 [00:25<00:20,  1.87it/s]\u001b[A\n",
      " 56%|█████▌    | 47/84 [00:25<00:20,  1.81it/s]\u001b[A\n",
      " 57%|█████▋    | 48/84 [00:26<00:19,  1.83it/s]\u001b[A\n",
      " 58%|█████▊    | 49/84 [00:26<00:18,  1.86it/s]\u001b[A\n",
      " 60%|█████▉    | 50/84 [00:27<00:18,  1.86it/s]\u001b[A\n",
      " 61%|██████    | 51/84 [00:27<00:17,  1.86it/s]\u001b[A\n",
      " 62%|██████▏   | 52/84 [00:28<00:17,  1.79it/s]\u001b[A\n",
      " 63%|██████▎   | 53/84 [00:28<00:17,  1.78it/s]\u001b[A\n",
      " 64%|██████▍   | 54/84 [00:29<00:16,  1.83it/s]\u001b[A\n",
      " 65%|██████▌   | 55/84 [00:29<00:15,  1.85it/s]\u001b[A\n",
      " 67%|██████▋   | 56/84 [00:30<00:14,  1.88it/s]\u001b[A\n",
      " 68%|██████▊   | 57/84 [00:31<00:14,  1.84it/s]\u001b[A\n",
      " 69%|██████▉   | 58/84 [00:31<00:14,  1.83it/s]\u001b[A\n",
      " 70%|███████   | 59/84 [00:32<00:13,  1.85it/s]\u001b[A\n",
      " 71%|███████▏  | 60/84 [00:32<00:12,  1.85it/s]\u001b[A\n",
      " 73%|███████▎  | 61/84 [00:33<00:12,  1.86it/s]\u001b[A\n",
      " 74%|███████▍  | 62/84 [00:33<00:12,  1.82it/s]\u001b[A\n",
      " 75%|███████▌  | 63/84 [00:34<00:11,  1.82it/s]\u001b[A\n",
      " 76%|███████▌  | 64/84 [00:34<00:11,  1.80it/s]\u001b[A\n",
      " 77%|███████▋  | 65/84 [00:35<00:10,  1.83it/s]\u001b[A\n",
      " 79%|███████▊  | 66/84 [00:35<00:09,  1.85it/s]\u001b[A\n",
      " 80%|███████▉  | 67/84 [00:36<00:09,  1.82it/s]\u001b[A\n",
      " 81%|████████  | 68/84 [00:37<00:08,  1.82it/s]\u001b[A\n",
      " 82%|████████▏ | 69/84 [00:37<00:08,  1.83it/s]\u001b[A\n",
      " 83%|████████▎ | 70/84 [00:38<00:07,  1.86it/s]\u001b[A\n",
      " 85%|████████▍ | 71/84 [00:38<00:06,  1.88it/s]\u001b[A\n",
      " 86%|████████▌ | 72/84 [00:39<00:06,  1.82it/s]\u001b[A\n",
      " 87%|████████▋ | 73/84 [00:39<00:06,  1.82it/s]\u001b[A\n",
      " 88%|████████▊ | 74/84 [00:40<00:05,  1.82it/s]\u001b[A\n",
      " 89%|████████▉ | 75/84 [00:40<00:04,  1.80it/s]\u001b[A\n",
      " 90%|█████████ | 76/84 [00:41<00:04,  1.83it/s]\u001b[A\n",
      " 92%|█████████▏| 77/84 [00:41<00:03,  1.80it/s]\u001b[A\n",
      " 93%|█████████▎| 78/84 [00:42<00:03,  1.79it/s]\u001b[A\n",
      " 94%|█████████▍| 79/84 [00:43<00:02,  1.82it/s]\u001b[A\n",
      " 95%|█████████▌| 80/84 [00:43<00:02,  1.85it/s]\u001b[A\n",
      " 96%|█████████▋| 81/84 [00:44<00:01,  1.88it/s]\u001b[A\n",
      " 98%|█████████▊| 82/84 [00:44<00:01,  1.83it/s]\u001b[A\n",
      " 99%|█████████▉| 83/84 [00:45<00:00,  1.84it/s]\u001b[A\n",
      "100%|██████████| 84/84 [00:45<00:00,  1.79it/s]\u001b[A\n",
      " 55%|█████▌    | 11/20 [08:45<06:58, 46.52s/it]\n",
      "  0%|          | 0/84 [00:00<?, ?it/s]\u001b[A\n",
      "  1%|          | 1/84 [00:00<00:47,  1.74it/s]\u001b[A\n",
      "  2%|▏         | 2/84 [00:01<00:45,  1.78it/s]\u001b[A\n",
      "  4%|▎         | 3/84 [00:01<00:44,  1.82it/s]\u001b[A\n",
      "  5%|▍         | 4/84 [00:02<00:43,  1.85it/s]\u001b[A\n",
      "  6%|▌         | 5/84 [00:02<00:42,  1.87it/s]\u001b[A\n",
      "  7%|▋         | 6/84 [00:03<00:42,  1.81it/s]\u001b[A\n",
      "  8%|▊         | 7/84 [00:03<00:42,  1.81it/s]\u001b[A\n",
      " 10%|▉         | 8/84 [00:04<00:41,  1.83it/s]\u001b[A\n",
      " 11%|█         | 9/84 [00:04<00:40,  1.86it/s]\u001b[A\n",
      " 12%|█▏        | 10/84 [00:05<00:39,  1.87it/s]\u001b[A\n",
      " 13%|█▎        | 11/84 [00:05<00:40,  1.81it/s]\u001b[A\n",
      " 14%|█▍        | 12/84 [00:06<00:40,  1.79it/s]\u001b[A\n",
      " 15%|█▌        | 13/84 [00:07<00:38,  1.82it/s]\u001b[A\n",
      " 17%|█▋        | 14/84 [00:07<00:37,  1.84it/s]\u001b[A\n",
      " 18%|█▊        | 15/84 [00:08<00:37,  1.86it/s]\u001b[A\n",
      " 19%|█▉        | 16/84 [00:08<00:37,  1.80it/s]\u001b[A\n",
      " 20%|██        | 17/84 [00:09<00:37,  1.81it/s]\u001b[A\n",
      " 21%|██▏       | 18/84 [00:09<00:36,  1.81it/s]\u001b[A\n",
      " 23%|██▎       | 19/84 [00:10<00:35,  1.82it/s]\u001b[A\n",
      " 24%|██▍       | 20/84 [00:10<00:35,  1.82it/s]\u001b[A\n",
      " 25%|██▌       | 21/84 [00:11<00:35,  1.78it/s]\u001b[A\n",
      " 26%|██▌       | 22/84 [00:12<00:34,  1.81it/s]\u001b[A\n",
      " 27%|██▋       | 23/84 [00:12<00:33,  1.85it/s]\u001b[A\n",
      " 29%|██▊       | 24/84 [00:13<00:32,  1.83it/s]\u001b[A\n",
      " 30%|██▉       | 25/84 [00:13<00:31,  1.85it/s]\u001b[A\n",
      " 31%|███       | 26/84 [00:14<00:32,  1.81it/s]\u001b[A\n",
      " 32%|███▏      | 27/84 [00:14<00:31,  1.80it/s]\u001b[A\n",
      " 33%|███▎      | 28/84 [00:15<00:30,  1.82it/s]\u001b[A\n",
      " 35%|███▍      | 29/84 [00:15<00:29,  1.86it/s]\u001b[A\n",
      " 36%|███▌      | 30/84 [00:16<00:29,  1.85it/s]\u001b[A\n",
      " 37%|███▋      | 31/84 [00:16<00:29,  1.79it/s]\u001b[A\n",
      " 38%|███▊      | 32/84 [00:17<00:28,  1.81it/s]\u001b[A\n",
      " 39%|███▉      | 33/84 [00:18<00:27,  1.84it/s]\u001b[A\n",
      " 40%|████      | 34/84 [00:18<00:26,  1.86it/s]\u001b[A\n",
      " 42%|████▏     | 35/84 [00:19<00:26,  1.88it/s]\u001b[A\n",
      " 43%|████▎     | 36/84 [00:19<00:26,  1.82it/s]\u001b[A\n",
      " 44%|████▍     | 37/84 [00:20<00:25,  1.84it/s]\u001b[A\n",
      " 45%|████▌     | 38/84 [00:20<00:25,  1.83it/s]\u001b[A\n",
      " 46%|████▋     | 39/84 [00:21<00:24,  1.83it/s]\u001b[A\n",
      " 48%|████▊     | 40/84 [00:21<00:23,  1.86it/s]\u001b[A\n",
      " 49%|████▉     | 41/84 [00:22<00:24,  1.79it/s]\u001b[A\n",
      " 50%|█████     | 42/84 [00:22<00:23,  1.79it/s]\u001b[A\n",
      " 51%|█████     | 43/84 [00:23<00:22,  1.82it/s]\u001b[A\n",
      " 52%|█████▏    | 44/84 [00:24<00:21,  1.86it/s]\u001b[A\n",
      " 54%|█████▎    | 45/84 [00:24<00:21,  1.86it/s]\u001b[A\n",
      " 55%|█████▍    | 46/84 [00:25<00:21,  1.80it/s]\u001b[A\n",
      " 56%|█████▌    | 47/84 [00:25<00:20,  1.79it/s]\u001b[A\n",
      " 57%|█████▋    | 48/84 [00:26<00:19,  1.80it/s]\u001b[A\n",
      " 58%|█████▊    | 49/84 [00:26<00:18,  1.85it/s]\u001b[A\n",
      " 60%|█████▉    | 50/84 [00:27<00:18,  1.80it/s]\u001b[A\n",
      " 61%|██████    | 51/84 [00:27<00:17,  1.83it/s]\u001b[A\n",
      " 62%|██████▏   | 52/84 [00:28<00:17,  1.83it/s]\u001b[A\n",
      " 63%|██████▎   | 53/84 [00:28<00:16,  1.86it/s]\u001b[A\n",
      " 64%|██████▍   | 54/84 [00:29<00:16,  1.81it/s]\u001b[A\n",
      " 65%|██████▌   | 55/84 [00:30<00:16,  1.77it/s]\u001b[A\n",
      " 67%|██████▋   | 56/84 [00:30<00:15,  1.77it/s]\u001b[A\n",
      " 68%|██████▊   | 57/84 [00:31<00:15,  1.77it/s]\u001b[A\n",
      " 69%|██████▉   | 58/84 [00:31<00:14,  1.78it/s]\u001b[A\n",
      " 70%|███████   | 59/84 [00:32<00:14,  1.74it/s]\u001b[A\n",
      " 71%|███████▏  | 60/84 [00:32<00:13,  1.75it/s]\u001b[A\n",
      " 73%|███████▎  | 61/84 [00:33<00:12,  1.78it/s]\u001b[A\n",
      " 74%|███████▍  | 62/84 [00:34<00:12,  1.75it/s]\u001b[A\n",
      " 75%|███████▌  | 63/84 [00:34<00:11,  1.78it/s]\u001b[A\n",
      " 76%|███████▌  | 64/84 [00:35<00:11,  1.79it/s]\u001b[A\n",
      " 77%|███████▋  | 65/84 [00:35<00:10,  1.83it/s]\u001b[A\n",
      " 79%|███████▊  | 66/84 [00:36<00:09,  1.85it/s]\u001b[A\n",
      " 80%|███████▉  | 67/84 [00:36<00:09,  1.81it/s]\u001b[A\n",
      " 81%|████████  | 68/84 [00:37<00:08,  1.80it/s]\u001b[A\n",
      " 82%|████████▏ | 69/84 [00:37<00:08,  1.83it/s]\u001b[A\n",
      " 83%|████████▎ | 70/84 [00:38<00:07,  1.85it/s]\u001b[A\n",
      " 85%|████████▍ | 71/84 [00:39<00:07,  1.80it/s]\u001b[A\n",
      " 86%|████████▌ | 72/84 [00:39<00:06,  1.84it/s]\u001b[A\n",
      " 87%|████████▋ | 73/84 [00:40<00:05,  1.85it/s]\u001b[A\n",
      " 88%|████████▊ | 74/84 [00:40<00:05,  1.84it/s]\u001b[A\n",
      " 89%|████████▉ | 75/84 [00:41<00:04,  1.80it/s]\u001b[A\n",
      " 90%|█████████ | 76/84 [00:41<00:04,  1.83it/s]\u001b[A\n",
      " 92%|█████████▏| 77/84 [00:42<00:03,  1.83it/s]\u001b[A\n",
      " 93%|█████████▎| 78/84 [00:42<00:03,  1.85it/s]\u001b[A\n",
      " 94%|█████████▍| 79/84 [00:43<00:02,  1.81it/s]\u001b[A\n",
      " 95%|█████████▌| 80/84 [00:43<00:02,  1.84it/s]\u001b[A\n",
      " 96%|█████████▋| 81/84 [00:44<00:01,  1.83it/s]\u001b[A\n",
      " 98%|█████████▊| 82/84 [00:45<00:01,  1.83it/s]\u001b[A\n",
      " 99%|█████████▉| 83/84 [00:45<00:00,  1.79it/s]\u001b[A\n",
      "100%|██████████| 84/84 [00:46<00:00,  1.80it/s]\u001b[A\n",
      " 60%|██████    | 12/20 [09:31<06:11, 46.42s/it]\n",
      "  0%|          | 0/84 [00:00<?, ?it/s]\u001b[A\n",
      "  1%|          | 1/84 [00:00<00:49,  1.67it/s]\u001b[A\n",
      "  2%|▏         | 2/84 [00:01<00:47,  1.73it/s]\u001b[A\n",
      "  4%|▎         | 3/84 [00:01<00:45,  1.78it/s]\u001b[A\n",
      "  5%|▍         | 4/84 [00:02<00:44,  1.80it/s]\u001b[A\n",
      "  6%|▌         | 5/84 [00:02<00:45,  1.75it/s]\u001b[A\n",
      "  7%|▋         | 6/84 [00:03<00:43,  1.80it/s]\u001b[A\n",
      "  8%|▊         | 7/84 [00:03<00:42,  1.83it/s]\u001b[A\n",
      " 10%|▉         | 8/84 [00:04<00:41,  1.85it/s]\u001b[A\n",
      " 11%|█         | 9/84 [00:04<00:41,  1.80it/s]\u001b[A\n",
      " 12%|█▏        | 10/84 [00:05<00:40,  1.83it/s]\u001b[A\n",
      " 13%|█▎        | 11/84 [00:06<00:39,  1.85it/s]\u001b[A\n",
      " 14%|█▍        | 12/84 [00:06<00:39,  1.81it/s]\u001b[A\n",
      " 15%|█▌        | 13/84 [00:07<00:39,  1.78it/s]\u001b[A\n",
      " 17%|█▋        | 14/84 [00:07<00:38,  1.82it/s]\u001b[A\n",
      " 18%|█▊        | 15/84 [00:08<00:37,  1.84it/s]\u001b[A\n",
      " 19%|█▉        | 16/84 [00:08<00:36,  1.86it/s]\u001b[A\n",
      " 20%|██        | 17/84 [00:09<00:37,  1.78it/s]\u001b[A\n",
      " 21%|██▏       | 18/84 [00:09<00:36,  1.78it/s]\u001b[A\n",
      " 23%|██▎       | 19/84 [00:10<00:35,  1.82it/s]\u001b[A\n",
      " 24%|██▍       | 20/84 [00:11<00:35,  1.80it/s]\u001b[A\n",
      " 25%|██▌       | 21/84 [00:11<00:36,  1.72it/s]\u001b[A\n",
      " 26%|██▌       | 22/84 [00:12<00:35,  1.75it/s]\u001b[A\n",
      " 27%|██▋       | 23/84 [00:12<00:35,  1.73it/s]\u001b[A\n",
      " 29%|██▊       | 24/84 [00:13<00:34,  1.75it/s]\u001b[A\n",
      " 30%|██▉       | 25/84 [00:14<00:35,  1.68it/s]\u001b[A\n",
      " 31%|███       | 26/84 [00:14<00:33,  1.71it/s]\u001b[A\n",
      " 32%|███▏      | 27/84 [00:15<00:34,  1.67it/s]\u001b[A\n",
      " 33%|███▎      | 28/84 [00:15<00:32,  1.70it/s]\u001b[A\n",
      " 35%|███▍      | 29/84 [00:16<00:33,  1.65it/s]\u001b[A\n",
      " 36%|███▌      | 30/84 [00:17<00:32,  1.65it/s]\u001b[A\n",
      " 37%|███▋      | 31/84 [00:17<00:30,  1.73it/s]\u001b[A\n",
      " 38%|███▊      | 32/84 [00:18<00:29,  1.77it/s]\u001b[A\n",
      " 39%|███▉      | 33/84 [00:18<00:28,  1.76it/s]\u001b[A\n",
      " 40%|████      | 34/84 [00:19<00:27,  1.80it/s]\u001b[A\n",
      " 42%|████▏     | 35/84 [00:19<00:26,  1.82it/s]\u001b[A\n",
      " 43%|████▎     | 36/84 [00:20<00:26,  1.83it/s]\u001b[A\n",
      " 44%|████▍     | 37/84 [00:20<00:26,  1.77it/s]\u001b[A\n",
      " 45%|████▌     | 38/84 [00:21<00:25,  1.81it/s]\u001b[A\n",
      " 46%|████▋     | 39/84 [00:21<00:24,  1.83it/s]\u001b[A\n",
      " 48%|████▊     | 40/84 [00:22<00:24,  1.82it/s]\u001b[A\n",
      " 49%|████▉     | 41/84 [00:23<00:24,  1.78it/s]\u001b[A\n",
      " 50%|█████     | 42/84 [00:23<00:24,  1.68it/s]\u001b[A\n",
      " 51%|█████     | 43/84 [00:24<00:24,  1.64it/s]\u001b[A\n",
      " 52%|█████▏    | 44/84 [00:25<00:25,  1.59it/s]\u001b[A\n",
      " 54%|█████▎    | 45/84 [00:25<00:25,  1.51it/s]\u001b[A\n",
      " 55%|█████▍    | 46/84 [00:26<00:23,  1.61it/s]\u001b[A\n",
      " 56%|█████▌    | 47/84 [00:27<00:23,  1.55it/s]\u001b[A\n",
      " 57%|█████▋    | 48/84 [00:27<00:24,  1.49it/s]\u001b[A\n",
      " 58%|█████▊    | 49/84 [00:28<00:23,  1.51it/s]\u001b[A\n",
      " 60%|█████▉    | 50/84 [00:28<00:21,  1.59it/s]\u001b[A\n",
      " 61%|██████    | 51/84 [00:29<00:20,  1.63it/s]\u001b[A\n",
      " 62%|██████▏   | 52/84 [00:30<00:19,  1.65it/s]\u001b[A\n",
      " 63%|██████▎   | 53/84 [00:30<00:20,  1.55it/s]\u001b[A\n",
      " 64%|██████▍   | 54/84 [00:31<00:18,  1.60it/s]\u001b[A\n",
      " 65%|██████▌   | 55/84 [00:31<00:17,  1.68it/s]\u001b[A\n",
      " 67%|██████▋   | 56/84 [00:32<00:17,  1.59it/s]\u001b[A\n",
      " 68%|██████▊   | 57/84 [00:33<00:16,  1.61it/s]\u001b[A\n",
      " 69%|██████▉   | 58/84 [00:33<00:15,  1.67it/s]\u001b[A\n",
      " 70%|███████   | 59/84 [00:34<00:14,  1.71it/s]\u001b[A\n",
      " 71%|███████▏  | 60/84 [00:34<00:13,  1.76it/s]\u001b[A\n",
      " 73%|███████▎  | 61/84 [00:35<00:13,  1.69it/s]\u001b[A\n",
      " 74%|███████▍  | 62/84 [00:36<00:12,  1.72it/s]\u001b[A\n",
      " 75%|███████▌  | 63/84 [00:36<00:12,  1.72it/s]\u001b[A\n",
      " 76%|███████▌  | 64/84 [00:37<00:11,  1.72it/s]\u001b[A\n",
      " 77%|███████▋  | 65/84 [00:37<00:11,  1.66it/s]\u001b[A\n",
      " 79%|███████▊  | 66/84 [00:38<00:11,  1.58it/s]\u001b[A\n",
      " 80%|███████▉  | 67/84 [00:39<00:10,  1.56it/s]\u001b[A\n",
      " 81%|████████  | 68/84 [00:39<00:10,  1.50it/s]\u001b[A\n",
      " 82%|████████▏ | 69/84 [00:40<00:09,  1.50it/s]\u001b[A\n",
      " 83%|████████▎ | 70/84 [00:41<00:09,  1.44it/s]\u001b[A\n",
      " 85%|████████▍ | 71/84 [00:42<00:09,  1.43it/s]\u001b[A\n",
      " 86%|████████▌ | 72/84 [00:42<00:08,  1.42it/s]\u001b[A\n",
      " 87%|████████▋ | 73/84 [00:43<00:07,  1.41it/s]\u001b[A\n",
      " 88%|████████▊ | 74/84 [00:44<00:06,  1.51it/s]\u001b[A\n",
      " 89%|████████▉ | 75/84 [00:44<00:05,  1.50it/s]\u001b[A\n",
      " 90%|█████████ | 76/84 [00:45<00:05,  1.37it/s]\u001b[A\n",
      " 92%|█████████▏| 77/84 [00:46<00:05,  1.34it/s]\u001b[A\n",
      " 93%|█████████▎| 78/84 [00:47<00:04,  1.45it/s]\u001b[A\n",
      " 94%|█████████▍| 79/84 [00:47<00:03,  1.45it/s]\u001b[A\n",
      " 95%|█████████▌| 80/84 [00:48<00:03,  1.31it/s]\u001b[A\n",
      " 96%|█████████▋| 81/84 [00:49<00:02,  1.25it/s]\u001b[A\n",
      " 98%|█████████▊| 82/84 [00:50<00:01,  1.30it/s]\u001b[A\n",
      " 99%|█████████▉| 83/84 [00:50<00:00,  1.33it/s]\u001b[A\n",
      "100%|██████████| 84/84 [00:51<00:00,  1.30it/s]\u001b[A\n",
      " 65%|██████▌   | 13/20 [10:23<05:36, 48.01s/it]\n",
      "  0%|          | 0/84 [00:00<?, ?it/s]\u001b[A\n",
      "  1%|          | 1/84 [00:00<01:09,  1.20it/s]\u001b[A\n",
      "  2%|▏         | 2/84 [00:01<01:09,  1.19it/s]\u001b[A\n",
      "  4%|▎         | 3/84 [00:02<01:12,  1.11it/s]\u001b[A\n",
      "  5%|▍         | 4/84 [00:03<01:06,  1.21it/s]\u001b[A\n",
      "  6%|▌         | 5/84 [00:03<00:59,  1.34it/s]\u001b[A\n",
      "  7%|▋         | 6/84 [00:04<00:53,  1.45it/s]\u001b[A\n",
      "  8%|▊         | 7/84 [00:05<00:50,  1.51it/s]\u001b[A\n",
      " 10%|▉         | 8/84 [00:05<00:48,  1.57it/s]\u001b[A\n",
      " 11%|█         | 9/84 [00:06<00:45,  1.63it/s]\u001b[A\n",
      " 12%|█▏        | 10/84 [00:06<00:43,  1.69it/s]\u001b[A\n",
      " 13%|█▎        | 11/84 [00:07<00:43,  1.67it/s]\u001b[A\n",
      " 14%|█▍        | 12/84 [00:07<00:41,  1.74it/s]\u001b[A\n",
      " 15%|█▌        | 13/84 [00:08<00:40,  1.76it/s]\u001b[A\n",
      " 17%|█▋        | 14/84 [00:09<00:39,  1.78it/s]\u001b[A\n",
      " 18%|█▊        | 15/84 [00:09<00:39,  1.73it/s]\u001b[A\n",
      " 19%|█▉        | 16/84 [00:10<00:38,  1.77it/s]\u001b[A\n",
      " 20%|██        | 17/84 [00:10<00:40,  1.67it/s]\u001b[A\n",
      " 21%|██▏       | 18/84 [00:11<00:38,  1.72it/s]\u001b[A\n",
      " 23%|██▎       | 19/84 [00:12<00:40,  1.59it/s]\u001b[A\n",
      " 24%|██▍       | 20/84 [00:12<00:40,  1.58it/s]\u001b[A\n",
      " 25%|██▌       | 21/84 [00:13<00:40,  1.54it/s]\u001b[A\n",
      " 26%|██▌       | 22/84 [00:14<00:38,  1.62it/s]\u001b[A\n",
      " 27%|██▋       | 23/84 [00:14<00:38,  1.60it/s]\u001b[A\n",
      " 29%|██▊       | 24/84 [00:15<00:37,  1.62it/s]\u001b[A\n",
      " 30%|██▉       | 25/84 [00:15<00:36,  1.61it/s]\u001b[A\n",
      " 31%|███       | 26/84 [00:16<00:37,  1.54it/s]\u001b[A\n",
      " 32%|███▏      | 27/84 [00:17<00:40,  1.40it/s]\u001b[A\n",
      " 33%|███▎      | 28/84 [00:18<00:40,  1.37it/s]\u001b[A\n",
      " 35%|███▍      | 29/84 [00:18<00:40,  1.37it/s]\u001b[A\n",
      " 36%|███▌      | 30/84 [00:19<00:35,  1.50it/s]\u001b[A\n",
      " 37%|███▋      | 31/84 [00:20<00:37,  1.41it/s]\u001b[A\n",
      " 38%|███▊      | 32/84 [00:21<00:38,  1.36it/s]\u001b[A\n",
      " 39%|███▉      | 33/84 [00:21<00:36,  1.38it/s]\u001b[A\n",
      " 40%|████      | 34/84 [00:22<00:35,  1.43it/s]\u001b[A\n",
      " 42%|████▏     | 35/84 [00:23<00:37,  1.31it/s]\u001b[A\n",
      " 43%|████▎     | 36/84 [00:24<00:36,  1.33it/s]\u001b[A\n",
      " 44%|████▍     | 37/84 [00:24<00:36,  1.30it/s]\u001b[A\n",
      " 45%|████▌     | 38/84 [00:25<00:35,  1.28it/s]\u001b[A\n",
      " 46%|████▋     | 39/84 [00:26<00:33,  1.33it/s]\u001b[A\n",
      " 48%|████▊     | 40/84 [00:26<00:31,  1.39it/s]\u001b[A\n",
      " 49%|████▉     | 41/84 [00:27<00:29,  1.47it/s]\u001b[A\n",
      " 50%|█████     | 42/84 [00:28<00:27,  1.51it/s]\u001b[A\n",
      " 51%|█████     | 43/84 [00:28<00:28,  1.43it/s]\u001b[A\n",
      " 52%|█████▏    | 44/84 [00:29<00:26,  1.50it/s]\u001b[A\n",
      " 54%|█████▎    | 45/84 [00:30<00:26,  1.50it/s]\u001b[A\n",
      " 55%|█████▍    | 46/84 [00:31<00:26,  1.43it/s]\u001b[A\n",
      " 56%|█████▌    | 47/84 [00:31<00:25,  1.44it/s]\u001b[A\n",
      " 57%|█████▋    | 48/84 [00:32<00:24,  1.46it/s]\u001b[A\n",
      " 58%|█████▊    | 49/84 [00:32<00:22,  1.56it/s]\u001b[A\n",
      " 60%|█████▉    | 50/84 [00:33<00:21,  1.57it/s]\u001b[A\n",
      " 61%|██████    | 51/84 [00:34<00:21,  1.56it/s]\u001b[A\n",
      " 62%|██████▏   | 52/84 [00:34<00:19,  1.64it/s]\u001b[A\n",
      " 63%|██████▎   | 53/84 [00:35<00:18,  1.69it/s]\u001b[A\n",
      " 64%|██████▍   | 54/84 [00:35<00:17,  1.73it/s]\u001b[A\n",
      " 65%|██████▌   | 55/84 [00:36<00:18,  1.58it/s]\u001b[A\n",
      " 67%|██████▋   | 56/84 [00:37<00:18,  1.50it/s]\u001b[A\n",
      " 68%|██████▊   | 57/84 [00:37<00:17,  1.56it/s]\u001b[A\n",
      " 69%|██████▉   | 58/84 [00:38<00:15,  1.64it/s]\u001b[A\n",
      " 70%|███████   | 59/84 [00:39<00:15,  1.66it/s]\u001b[A\n",
      " 71%|███████▏  | 60/84 [00:39<00:14,  1.62it/s]\u001b[A\n",
      " 73%|███████▎  | 61/84 [00:40<00:13,  1.65it/s]\u001b[A\n",
      " 74%|███████▍  | 62/84 [00:40<00:12,  1.70it/s]\u001b[A\n",
      " 75%|███████▌  | 63/84 [00:41<00:12,  1.67it/s]\u001b[A\n",
      " 76%|███████▌  | 64/84 [00:42<00:12,  1.67it/s]\u001b[A\n",
      " 77%|███████▋  | 65/84 [00:42<00:11,  1.61it/s]\u001b[A\n",
      " 79%|███████▊  | 66/84 [00:43<00:10,  1.65it/s]\u001b[A\n",
      " 80%|███████▉  | 67/84 [00:43<00:10,  1.63it/s]\u001b[A\n",
      " 81%|████████  | 68/84 [00:44<00:09,  1.62it/s]\u001b[A\n",
      " 82%|████████▏ | 69/84 [00:45<00:09,  1.56it/s]\u001b[A\n",
      " 83%|████████▎ | 70/84 [00:45<00:09,  1.54it/s]\u001b[A\n",
      " 85%|████████▍ | 71/84 [00:46<00:09,  1.35it/s]\u001b[A\n",
      " 86%|████████▌ | 72/84 [00:47<00:08,  1.36it/s]\u001b[A\n",
      " 87%|████████▋ | 73/84 [00:48<00:07,  1.40it/s]\u001b[A\n",
      " 88%|████████▊ | 74/84 [00:48<00:06,  1.51it/s]\u001b[A\n",
      " 89%|████████▉ | 75/84 [00:49<00:06,  1.47it/s]\u001b[A\n",
      " 90%|█████████ | 76/84 [00:50<00:05,  1.56it/s]\u001b[A\n",
      " 92%|█████████▏| 77/84 [00:50<00:04,  1.65it/s]\u001b[A\n",
      " 93%|█████████▎| 78/84 [00:51<00:03,  1.72it/s]\u001b[A\n",
      " 94%|█████████▍| 79/84 [00:51<00:02,  1.70it/s]\u001b[A\n",
      " 95%|█████████▌| 80/84 [00:52<00:02,  1.72it/s]\u001b[A\n",
      " 96%|█████████▋| 81/84 [00:52<00:01,  1.65it/s]\u001b[A\n",
      " 98%|█████████▊| 82/84 [00:53<00:01,  1.69it/s]\u001b[A\n",
      " 99%|█████████▉| 83/84 [00:54<00:00,  1.70it/s]\u001b[A\n",
      "100%|██████████| 84/84 [00:54<00:00,  1.76it/s]\u001b[A\n",
      " 70%|███████   | 14/20 [11:17<04:59, 49.99s/it]\n",
      "  0%|          | 0/84 [00:00<?, ?it/s]\u001b[A\n",
      "  1%|          | 1/84 [00:00<00:32,  2.57it/s]\u001b[A\n",
      "  2%|▏         | 2/84 [00:00<00:30,  2.65it/s]\u001b[A\n",
      "  4%|▎         | 3/84 [00:01<00:31,  2.58it/s]\u001b[A\n",
      "  5%|▍         | 4/84 [00:01<00:32,  2.48it/s]\u001b[A\n",
      "  6%|▌         | 5/84 [00:02<00:33,  2.37it/s]\u001b[A\n",
      "  7%|▋         | 6/84 [00:02<00:35,  2.18it/s]\u001b[A\n",
      "  8%|▊         | 7/84 [00:03<00:35,  2.16it/s]\u001b[A\n",
      " 10%|▉         | 8/84 [00:03<00:37,  2.02it/s]\u001b[A\n",
      " 11%|█         | 9/84 [00:04<00:39,  1.90it/s]\u001b[A\n",
      " 12%|█▏        | 10/84 [00:04<00:39,  1.85it/s]\u001b[A\n",
      " 13%|█▎        | 11/84 [00:05<00:39,  1.85it/s]\u001b[A\n",
      " 14%|█▍        | 12/84 [00:05<00:39,  1.80it/s]\u001b[A\n",
      " 15%|█▌        | 13/84 [00:06<00:38,  1.84it/s]\u001b[A\n",
      " 17%|█▋        | 14/84 [00:06<00:37,  1.85it/s]\u001b[A\n",
      " 18%|█▊        | 15/84 [00:07<00:36,  1.91it/s]\u001b[A\n",
      " 19%|█▉        | 16/84 [00:08<00:37,  1.83it/s]\u001b[A\n",
      " 20%|██        | 17/84 [00:08<00:37,  1.79it/s]\u001b[A\n",
      " 21%|██▏       | 18/84 [00:09<00:36,  1.82it/s]\u001b[A\n",
      " 23%|██▎       | 19/84 [00:09<00:36,  1.77it/s]\u001b[A\n",
      " 24%|██▍       | 20/84 [00:10<00:35,  1.78it/s]\u001b[A\n",
      " 25%|██▌       | 21/84 [00:11<00:39,  1.60it/s]\u001b[A\n",
      " 26%|██▌       | 22/84 [00:11<00:41,  1.49it/s]\u001b[A\n",
      " 27%|██▋       | 23/84 [00:12<00:40,  1.51it/s]\u001b[A\n",
      " 29%|██▊       | 24/84 [00:13<00:40,  1.50it/s]\u001b[A\n",
      " 30%|██▉       | 25/84 [00:13<00:40,  1.46it/s]\u001b[A\n",
      " 31%|███       | 26/84 [00:14<00:41,  1.40it/s]\u001b[A\n",
      " 32%|███▏      | 27/84 [00:15<00:40,  1.40it/s]\u001b[A\n",
      " 33%|███▎      | 28/84 [00:16<00:43,  1.28it/s]\u001b[A\n",
      " 35%|███▍      | 29/84 [00:17<00:42,  1.30it/s]\u001b[A\n",
      " 36%|███▌      | 30/84 [00:17<00:38,  1.39it/s]\u001b[A\n",
      " 37%|███▋      | 31/84 [00:18<00:36,  1.45it/s]\u001b[A\n",
      " 38%|███▊      | 32/84 [00:19<00:35,  1.45it/s]\u001b[A\n",
      " 39%|███▉      | 33/84 [00:19<00:36,  1.40it/s]\u001b[A\n",
      " 40%|████      | 34/84 [00:20<00:36,  1.37it/s]\u001b[A\n",
      " 42%|████▏     | 35/84 [00:21<00:35,  1.39it/s]\u001b[A\n",
      " 43%|████▎     | 36/84 [00:21<00:34,  1.40it/s]\u001b[A\n",
      " 44%|████▍     | 37/84 [00:22<00:35,  1.34it/s]\u001b[A\n",
      " 45%|████▌     | 38/84 [00:23<00:35,  1.30it/s]\u001b[A\n",
      " 46%|████▋     | 39/84 [00:24<00:36,  1.24it/s]\u001b[A\n",
      " 48%|████▊     | 40/84 [00:25<00:35,  1.23it/s]\u001b[A\n",
      " 49%|████▉     | 41/84 [00:26<00:34,  1.26it/s]\u001b[A\n",
      " 50%|█████     | 42/84 [00:26<00:30,  1.36it/s]\u001b[A\n",
      " 51%|█████     | 43/84 [00:27<00:29,  1.40it/s]\u001b[A\n",
      " 52%|█████▏    | 44/84 [00:28<00:33,  1.18it/s]\u001b[A\n",
      " 54%|█████▎    | 45/84 [00:29<00:33,  1.18it/s]\u001b[A\n",
      " 55%|█████▍    | 46/84 [00:29<00:29,  1.31it/s]\u001b[A\n",
      " 56%|█████▌    | 47/84 [00:30<00:27,  1.33it/s]\u001b[A\n",
      " 57%|█████▋    | 48/84 [00:31<00:25,  1.40it/s]\u001b[A\n",
      " 58%|█████▊    | 49/84 [00:31<00:23,  1.46it/s]\u001b[A\n",
      " 60%|█████▉    | 50/84 [00:32<00:22,  1.49it/s]\u001b[A\n",
      " 61%|██████    | 51/84 [00:33<00:20,  1.58it/s]\u001b[A\n",
      " 62%|██████▏   | 52/84 [00:33<00:19,  1.62it/s]\u001b[A\n",
      " 63%|██████▎   | 53/84 [00:34<00:19,  1.61it/s]\u001b[A\n",
      " 64%|██████▍   | 54/84 [00:34<00:18,  1.64it/s]\u001b[A\n",
      " 65%|██████▌   | 55/84 [00:35<00:17,  1.67it/s]\u001b[A\n",
      " 67%|██████▋   | 56/84 [00:36<00:18,  1.55it/s]\u001b[A\n",
      " 68%|██████▊   | 57/84 [00:36<00:18,  1.49it/s]\u001b[A\n",
      " 69%|██████▉   | 58/84 [00:37<00:18,  1.42it/s]\u001b[A\n",
      " 70%|███████   | 59/84 [00:38<00:18,  1.39it/s]\u001b[A\n",
      " 71%|███████▏  | 60/84 [00:39<00:16,  1.42it/s]\u001b[A\n",
      " 73%|███████▎  | 61/84 [00:39<00:15,  1.51it/s]\u001b[A\n",
      " 74%|███████▍  | 62/84 [00:40<00:13,  1.58it/s]\u001b[A\n",
      " 75%|███████▌  | 63/84 [00:40<00:12,  1.64it/s]\u001b[A\n",
      " 76%|███████▌  | 64/84 [00:41<00:12,  1.60it/s]\u001b[A\n",
      " 77%|███████▋  | 65/84 [00:42<00:11,  1.59it/s]\u001b[A\n",
      " 79%|███████▊  | 66/84 [00:42<00:11,  1.52it/s]\u001b[A\n",
      " 80%|███████▉  | 67/84 [00:43<00:10,  1.60it/s]\u001b[A\n",
      " 81%|████████  | 68/84 [00:43<00:09,  1.64it/s]\u001b[A\n",
      " 82%|████████▏ | 69/84 [00:44<00:08,  1.71it/s]\u001b[A\n",
      " 83%|████████▎ | 70/84 [00:45<00:07,  1.77it/s]\u001b[A\n",
      " 85%|████████▍ | 71/84 [00:45<00:07,  1.79it/s]\u001b[A\n",
      " 86%|████████▌ | 72/84 [00:46<00:06,  1.77it/s]\u001b[A\n",
      " 87%|████████▋ | 73/84 [00:46<00:06,  1.81it/s]\u001b[A\n",
      " 88%|████████▊ | 74/84 [00:47<00:05,  1.83it/s]\u001b[A\n",
      " 89%|████████▉ | 75/84 [00:47<00:04,  1.85it/s]\u001b[A\n",
      " 90%|█████████ | 76/84 [00:48<00:04,  1.80it/s]\u001b[A\n",
      " 92%|█████████▏| 77/84 [00:48<00:03,  1.82it/s]\u001b[A\n",
      " 93%|█████████▎| 78/84 [00:49<00:03,  1.83it/s]\u001b[A\n",
      " 94%|█████████▍| 79/84 [00:49<00:02,  1.85it/s]\u001b[A\n",
      " 95%|█████████▌| 80/84 [00:50<00:02,  1.80it/s]\u001b[A\n",
      " 96%|█████████▋| 81/84 [00:51<00:01,  1.81it/s]\u001b[A\n",
      " 98%|█████████▊| 82/84 [00:51<00:01,  1.85it/s]\u001b[A\n",
      " 99%|█████████▉| 83/84 [00:52<00:00,  1.87it/s]\u001b[A\n",
      "100%|██████████| 84/84 [00:52<00:00,  1.82it/s]\u001b[A\n",
      " 75%|███████▌  | 15/20 [12:10<04:13, 50.79s/it]\n",
      "  0%|          | 0/84 [00:00<?, ?it/s]\u001b[A\n",
      "  1%|          | 1/84 [00:00<00:45,  1.83it/s]\u001b[A\n",
      "  2%|▏         | 2/84 [00:01<00:45,  1.79it/s]\u001b[A\n",
      "  4%|▎         | 3/84 [00:01<00:44,  1.80it/s]\u001b[A\n",
      "  5%|▍         | 4/84 [00:02<00:43,  1.82it/s]\u001b[A\n",
      "  6%|▌         | 5/84 [00:02<00:42,  1.85it/s]\u001b[A\n",
      "  7%|▋         | 6/84 [00:03<00:43,  1.81it/s]\u001b[A\n",
      "  8%|▊         | 7/84 [00:03<00:42,  1.83it/s]\u001b[A\n",
      " 10%|▉         | 8/84 [00:04<00:41,  1.84it/s]\u001b[A\n",
      " 11%|█         | 9/84 [00:04<00:41,  1.82it/s]\u001b[A\n",
      " 12%|█▏        | 10/84 [00:05<00:41,  1.78it/s]\u001b[A\n",
      " 13%|█▎        | 11/84 [00:06<00:40,  1.82it/s]\u001b[A\n",
      " 14%|█▍        | 12/84 [00:06<00:38,  1.86it/s]\u001b[A\n",
      " 15%|█▌        | 13/84 [00:07<00:37,  1.87it/s]\u001b[A\n",
      " 17%|█▋        | 14/84 [00:07<00:38,  1.80it/s]\u001b[A\n",
      " 18%|█▊        | 15/84 [00:08<00:38,  1.79it/s]\u001b[A\n",
      " 19%|█▉        | 16/84 [00:08<00:39,  1.74it/s]\u001b[A\n",
      " 20%|██        | 17/84 [00:09<00:39,  1.68it/s]\u001b[A\n",
      " 21%|██▏       | 18/84 [00:10<00:42,  1.56it/s]\u001b[A\n",
      " 23%|██▎       | 19/84 [00:10<00:39,  1.63it/s]\u001b[A\n",
      " 24%|██▍       | 20/84 [00:11<00:37,  1.70it/s]\u001b[A\n",
      " 25%|██▌       | 21/84 [00:11<00:36,  1.74it/s]\u001b[A\n",
      " 26%|██▌       | 22/84 [00:12<00:36,  1.68it/s]\u001b[A\n",
      " 27%|██▋       | 23/84 [00:13<00:35,  1.72it/s]\u001b[A\n",
      " 29%|██▊       | 24/84 [00:13<00:34,  1.73it/s]\u001b[A\n",
      " 30%|██▉       | 25/84 [00:14<00:35,  1.67it/s]\u001b[A\n",
      " 31%|███       | 26/84 [00:14<00:35,  1.61it/s]\u001b[A\n",
      " 32%|███▏      | 27/84 [00:15<00:37,  1.53it/s]\u001b[A\n",
      " 33%|███▎      | 28/84 [00:16<00:35,  1.59it/s]\u001b[A\n",
      " 35%|███▍      | 29/84 [00:16<00:34,  1.57it/s]\u001b[A\n",
      " 36%|███▌      | 30/84 [00:17<00:33,  1.59it/s]\u001b[A\n",
      " 37%|███▋      | 31/84 [00:18<00:32,  1.63it/s]\u001b[A\n",
      " 38%|███▊      | 32/84 [00:18<00:31,  1.67it/s]\u001b[A\n",
      " 39%|███▉      | 33/84 [00:19<00:30,  1.69it/s]\u001b[A\n",
      " 40%|████      | 34/84 [00:19<00:29,  1.70it/s]\u001b[A\n",
      " 42%|████▏     | 35/84 [00:20<00:27,  1.75it/s]\u001b[A\n",
      " 43%|████▎     | 36/84 [00:20<00:27,  1.74it/s]\u001b[A\n",
      " 44%|████▍     | 37/84 [00:21<00:26,  1.79it/s]\u001b[A\n",
      " 45%|████▌     | 38/84 [00:22<00:25,  1.78it/s]\u001b[A\n",
      " 46%|████▋     | 39/84 [00:22<00:24,  1.83it/s]\u001b[A\n",
      " 48%|████▊     | 40/84 [00:23<00:23,  1.85it/s]\u001b[A\n",
      " 49%|████▉     | 41/84 [00:23<00:22,  1.87it/s]\u001b[A\n",
      " 50%|█████     | 42/84 [00:24<00:23,  1.80it/s]\u001b[A\n",
      " 51%|█████     | 43/84 [00:24<00:22,  1.81it/s]\u001b[A\n",
      " 52%|█████▏    | 44/84 [00:25<00:21,  1.85it/s]\u001b[A\n",
      " 54%|█████▎    | 45/84 [00:25<00:20,  1.87it/s]\u001b[A\n",
      " 55%|█████▍    | 46/84 [00:26<00:20,  1.83it/s]\u001b[A\n",
      " 56%|█████▌    | 47/84 [00:26<00:19,  1.85it/s]\u001b[A\n",
      " 57%|█████▋    | 48/84 [00:27<00:19,  1.87it/s]\u001b[A\n",
      " 58%|█████▊    | 49/84 [00:27<00:18,  1.87it/s]\u001b[A\n",
      " 60%|█████▉    | 50/84 [00:28<00:18,  1.83it/s]\u001b[A\n",
      " 61%|██████    | 51/84 [00:29<00:17,  1.83it/s]\u001b[A\n",
      " 62%|██████▏   | 52/84 [00:29<00:18,  1.76it/s]\u001b[A\n",
      " 63%|██████▎   | 53/84 [00:30<00:17,  1.74it/s]\u001b[A\n",
      " 64%|██████▍   | 54/84 [00:30<00:18,  1.62it/s]\u001b[A\n",
      " 65%|██████▌   | 55/84 [00:31<00:18,  1.59it/s]\u001b[A\n",
      " 67%|██████▋   | 56/84 [00:32<00:17,  1.61it/s]\u001b[A\n",
      " 68%|██████▊   | 57/84 [00:32<00:16,  1.64it/s]\u001b[A\n",
      " 69%|██████▉   | 58/84 [00:33<00:16,  1.61it/s]\u001b[A\n",
      " 70%|███████   | 59/84 [00:34<00:15,  1.64it/s]\u001b[A\n",
      " 71%|███████▏  | 60/84 [00:34<00:14,  1.64it/s]\u001b[A\n",
      " 73%|███████▎  | 61/84 [00:35<00:14,  1.58it/s]\u001b[A\n",
      " 74%|███████▍  | 62/84 [00:36<00:14,  1.56it/s]\u001b[A\n",
      " 75%|███████▌  | 63/84 [00:36<00:12,  1.63it/s]\u001b[A\n",
      " 76%|███████▌  | 64/84 [00:37<00:11,  1.69it/s]\u001b[A\n",
      " 77%|███████▋  | 65/84 [00:37<00:11,  1.70it/s]\u001b[A\n",
      " 79%|███████▊  | 66/84 [00:38<00:10,  1.65it/s]\u001b[A\n",
      " 80%|███████▉  | 67/84 [00:38<00:10,  1.64it/s]\u001b[A\n",
      " 81%|████████  | 68/84 [00:39<00:09,  1.67it/s]\u001b[A\n",
      " 82%|████████▏ | 69/84 [00:40<00:08,  1.71it/s]\u001b[A\n",
      " 83%|████████▎ | 70/84 [00:40<00:08,  1.66it/s]\u001b[A\n",
      " 85%|████████▍ | 71/84 [00:41<00:07,  1.68it/s]\u001b[A\n",
      " 86%|████████▌ | 72/84 [00:41<00:06,  1.72it/s]\u001b[A\n",
      " 87%|████████▋ | 73/84 [00:42<00:06,  1.72it/s]\u001b[A\n",
      " 88%|████████▊ | 74/84 [00:43<00:06,  1.65it/s]\u001b[A\n",
      " 89%|████████▉ | 75/84 [00:43<00:05,  1.69it/s]\u001b[A\n",
      " 90%|█████████ | 76/84 [00:44<00:04,  1.73it/s]\u001b[A\n",
      " 92%|█████████▏| 77/84 [00:44<00:03,  1.76it/s]\u001b[A\n",
      " 93%|█████████▎| 78/84 [00:45<00:03,  1.70it/s]\u001b[A\n",
      " 94%|█████████▍| 79/84 [00:45<00:02,  1.68it/s]\u001b[A\n",
      " 95%|█████████▌| 80/84 [00:46<00:02,  1.69it/s]\u001b[A\n",
      " 96%|█████████▋| 81/84 [00:47<00:01,  1.71it/s]\u001b[A\n",
      " 98%|█████████▊| 82/84 [00:47<00:01,  1.68it/s]\u001b[A\n",
      " 99%|█████████▉| 83/84 [00:48<00:00,  1.72it/s]\u001b[A\n",
      "100%|██████████| 84/84 [00:48<00:00,  1.75it/s]\u001b[A\n",
      " 80%|████████  | 16/20 [12:59<03:20, 50.21s/it]\n",
      "  0%|          | 0/84 [00:00<?, ?it/s]\u001b[A\n",
      "  1%|          | 1/84 [00:00<00:54,  1.51it/s]\u001b[A\n",
      "  2%|▏         | 2/84 [00:01<00:51,  1.58it/s]\u001b[A\n",
      "  4%|▎         | 3/84 [00:01<00:51,  1.56it/s]\u001b[A\n",
      "  5%|▍         | 4/84 [00:02<00:48,  1.64it/s]\u001b[A\n",
      "  6%|▌         | 5/84 [00:02<00:46,  1.68it/s]\u001b[A\n",
      "  7%|▋         | 6/84 [00:03<00:45,  1.70it/s]\u001b[A\n",
      "  8%|▊         | 7/84 [00:04<00:48,  1.60it/s]\u001b[A\n",
      " 10%|▉         | 8/84 [00:04<00:47,  1.61it/s]\u001b[A\n",
      " 11%|█         | 9/84 [00:05<00:47,  1.59it/s]\u001b[A\n",
      " 12%|█▏        | 10/84 [00:06<00:45,  1.62it/s]\u001b[A\n",
      " 13%|█▎        | 11/84 [00:06<00:46,  1.58it/s]\u001b[A\n",
      " 14%|█▍        | 12/84 [00:07<00:46,  1.56it/s]\u001b[A\n",
      " 15%|█▌        | 13/84 [00:08<00:45,  1.56it/s]\u001b[A\n",
      " 17%|█▋        | 14/84 [00:08<00:43,  1.61it/s]\u001b[A\n",
      " 18%|█▊        | 15/84 [00:09<00:44,  1.56it/s]\u001b[A\n",
      " 19%|█▉        | 16/84 [00:09<00:41,  1.63it/s]\u001b[A\n",
      " 20%|██        | 17/84 [00:10<00:39,  1.71it/s]\u001b[A\n",
      " 21%|██▏       | 18/84 [00:10<00:37,  1.74it/s]\u001b[A\n",
      " 23%|██▎       | 19/84 [00:11<00:38,  1.69it/s]\u001b[A\n",
      " 24%|██▍       | 20/84 [00:12<00:38,  1.68it/s]\u001b[A\n",
      " 25%|██▌       | 21/84 [00:12<00:36,  1.72it/s]\u001b[A\n",
      " 26%|██▌       | 22/84 [00:13<00:34,  1.77it/s]\u001b[A\n",
      " 27%|██▋       | 23/84 [00:13<00:36,  1.67it/s]\u001b[A\n",
      " 29%|██▊       | 24/84 [00:14<00:34,  1.72it/s]\u001b[A\n",
      " 30%|██▉       | 25/84 [00:15<00:33,  1.75it/s]\u001b[A\n",
      " 31%|███       | 26/84 [00:15<00:32,  1.81it/s]\u001b[A\n",
      " 32%|███▏      | 27/84 [00:16<00:33,  1.68it/s]\u001b[A\n",
      " 33%|███▎      | 28/84 [00:16<00:32,  1.72it/s]\u001b[A\n",
      " 35%|███▍      | 29/84 [00:17<00:31,  1.74it/s]\u001b[A\n",
      " 36%|███▌      | 30/84 [00:17<00:30,  1.79it/s]\u001b[A\n",
      " 37%|███▋      | 31/84 [00:18<00:30,  1.76it/s]\u001b[A\n",
      " 38%|███▊      | 32/84 [00:19<00:30,  1.72it/s]\u001b[A\n",
      " 39%|███▉      | 33/84 [00:19<00:30,  1.68it/s]\u001b[A\n",
      " 40%|████      | 34/84 [00:20<00:30,  1.63it/s]\u001b[A\n",
      " 42%|████▏     | 35/84 [00:21<00:33,  1.48it/s]\u001b[A\n",
      " 43%|████▎     | 36/84 [00:21<00:31,  1.54it/s]\u001b[A\n",
      " 44%|████▍     | 37/84 [00:22<00:29,  1.58it/s]\u001b[A\n",
      " 45%|████▌     | 38/84 [00:22<00:27,  1.67it/s]\u001b[A\n",
      " 46%|████▋     | 39/84 [00:23<00:27,  1.66it/s]\u001b[A\n",
      " 48%|████▊     | 40/84 [00:24<00:26,  1.64it/s]\u001b[A\n",
      " 49%|████▉     | 41/84 [00:24<00:26,  1.61it/s]\u001b[A\n",
      " 50%|█████     | 42/84 [00:25<00:24,  1.71it/s]\u001b[A\n",
      " 51%|█████     | 43/84 [00:25<00:22,  1.79it/s]\u001b[A\n",
      " 52%|█████▏    | 44/84 [00:26<00:22,  1.75it/s]\u001b[A\n",
      " 54%|█████▎    | 45/84 [00:26<00:22,  1.71it/s]\u001b[A\n",
      " 55%|█████▍    | 46/84 [00:27<00:21,  1.80it/s]\u001b[A\n",
      " 56%|█████▌    | 47/84 [00:28<00:21,  1.70it/s]\u001b[A\n",
      " 57%|█████▋    | 48/84 [00:28<00:20,  1.80it/s]\u001b[A\n",
      " 58%|█████▊    | 49/84 [00:29<00:19,  1.78it/s]\u001b[A\n",
      " 60%|█████▉    | 50/84 [00:29<00:19,  1.73it/s]\u001b[A\n",
      " 61%|██████    | 51/84 [00:30<00:18,  1.77it/s]\u001b[A\n",
      " 62%|██████▏   | 52/84 [00:30<00:18,  1.77it/s]\u001b[A\n",
      " 63%|██████▎   | 53/84 [00:31<00:17,  1.73it/s]\u001b[A\n",
      " 64%|██████▍   | 54/84 [00:31<00:16,  1.84it/s]\u001b[A\n",
      " 65%|██████▌   | 55/84 [00:32<00:15,  1.82it/s]\u001b[A\n",
      " 67%|██████▋   | 56/84 [00:33<00:14,  1.88it/s]\u001b[A\n",
      " 68%|██████▊   | 57/84 [00:33<00:13,  1.97it/s]\u001b[A\n",
      " 69%|██████▉   | 58/84 [00:33<00:12,  2.00it/s]\u001b[A\n",
      " 70%|███████   | 59/84 [00:34<00:12,  1.94it/s]\u001b[A\n",
      " 71%|███████▏  | 60/84 [00:35<00:12,  1.93it/s]\u001b[A\n",
      " 73%|███████▎  | 61/84 [00:35<00:10,  2.11it/s]\u001b[A\n",
      " 74%|███████▍  | 62/84 [00:35<00:09,  2.30it/s]\u001b[A\n",
      " 75%|███████▌  | 63/84 [00:36<00:10,  2.01it/s]\u001b[A\n",
      " 76%|███████▌  | 64/84 [00:36<00:10,  1.91it/s]\u001b[A\n",
      " 77%|███████▋  | 65/84 [00:37<00:09,  1.97it/s]\u001b[A\n",
      " 79%|███████▊  | 66/84 [00:37<00:09,  1.95it/s]\u001b[A\n",
      " 80%|███████▉  | 67/84 [00:38<00:09,  1.87it/s]\u001b[A\n",
      " 81%|████████  | 68/84 [00:39<00:08,  1.83it/s]\u001b[A\n",
      " 82%|████████▏ | 69/84 [00:39<00:08,  1.81it/s]\u001b[A\n",
      " 83%|████████▎ | 70/84 [00:40<00:07,  1.84it/s]\u001b[A\n",
      " 85%|████████▍ | 71/84 [00:40<00:07,  1.81it/s]\u001b[A\n",
      " 86%|████████▌ | 72/84 [00:41<00:06,  1.84it/s]\u001b[A\n",
      " 87%|████████▋ | 73/84 [00:41<00:05,  1.86it/s]\u001b[A\n",
      " 88%|████████▊ | 74/84 [00:42<00:05,  1.92it/s]\u001b[A\n",
      " 89%|████████▉ | 75/84 [00:42<00:04,  1.89it/s]\u001b[A\n",
      " 90%|█████████ | 76/84 [00:43<00:04,  1.89it/s]\u001b[A\n",
      " 92%|█████████▏| 77/84 [00:43<00:03,  1.86it/s]\u001b[A\n",
      " 93%|█████████▎| 78/84 [00:44<00:03,  1.86it/s]\u001b[A\n",
      " 94%|█████████▍| 79/84 [00:45<00:02,  1.80it/s]\u001b[A\n",
      " 95%|█████████▌| 80/84 [00:45<00:02,  1.81it/s]\u001b[A\n",
      " 96%|█████████▋| 81/84 [00:46<00:01,  1.73it/s]\u001b[A\n",
      " 98%|█████████▊| 82/84 [00:47<00:01,  1.60it/s]\u001b[A\n",
      " 99%|█████████▉| 83/84 [00:47<00:00,  1.60it/s]\u001b[A\n",
      "100%|██████████| 84/84 [00:48<00:00,  1.68it/s]\u001b[A\n",
      " 85%|████████▌ | 17/20 [13:47<02:28, 49.60s/it]\n",
      "  0%|          | 0/84 [00:00<?, ?it/s]\u001b[A\n",
      "  1%|          | 1/84 [00:00<00:45,  1.83it/s]\u001b[A\n",
      "  2%|▏         | 2/84 [00:01<00:47,  1.72it/s]\u001b[A\n",
      "  4%|▎         | 3/84 [00:01<00:47,  1.70it/s]\u001b[A\n",
      "  5%|▍         | 4/84 [00:02<00:48,  1.65it/s]\u001b[A\n",
      "  6%|▌         | 5/84 [00:03<00:48,  1.63it/s]\u001b[A\n",
      "  7%|▋         | 6/84 [00:03<00:50,  1.53it/s]\u001b[A\n",
      "  8%|▊         | 7/84 [00:04<00:52,  1.47it/s]\u001b[A\n",
      " 10%|▉         | 8/84 [00:05<00:52,  1.45it/s]\u001b[A\n",
      " 11%|█         | 9/84 [00:06<00:52,  1.44it/s]\u001b[A\n",
      " 12%|█▏        | 10/84 [00:06<00:52,  1.41it/s]\u001b[A\n",
      " 13%|█▎        | 11/84 [00:07<00:48,  1.52it/s]\u001b[A\n",
      " 14%|█▍        | 12/84 [00:07<00:44,  1.61it/s]\u001b[A\n",
      " 15%|█▌        | 13/84 [00:08<00:42,  1.67it/s]\u001b[A\n",
      " 17%|█▋        | 14/84 [00:09<00:42,  1.64it/s]\u001b[A\n",
      " 18%|█▊        | 15/84 [00:09<00:44,  1.55it/s]\u001b[A\n",
      " 19%|█▉        | 16/84 [00:10<00:45,  1.49it/s]\u001b[A\n",
      " 20%|██        | 17/84 [00:11<00:44,  1.49it/s]\u001b[A\n",
      " 21%|██▏       | 18/84 [00:11<00:44,  1.48it/s]\u001b[A\n",
      " 23%|██▎       | 19/84 [00:12<00:41,  1.57it/s]\u001b[A\n",
      " 24%|██▍       | 20/84 [00:12<00:39,  1.61it/s]\u001b[A\n",
      " 25%|██▌       | 21/84 [00:13<00:37,  1.68it/s]\u001b[A\n",
      " 26%|██▌       | 22/84 [00:14<00:37,  1.66it/s]\u001b[A\n",
      " 27%|██▋       | 23/84 [00:14<00:35,  1.73it/s]\u001b[A\n",
      " 29%|██▊       | 24/84 [00:15<00:35,  1.71it/s]\u001b[A\n",
      " 30%|██▉       | 25/84 [00:15<00:34,  1.69it/s]\u001b[A\n",
      " 31%|███       | 26/84 [00:16<00:35,  1.62it/s]\u001b[A\n",
      " 32%|███▏      | 27/84 [00:17<00:35,  1.60it/s]\u001b[A\n",
      " 33%|███▎      | 28/84 [00:17<00:35,  1.59it/s]\u001b[A\n",
      " 35%|███▍      | 29/84 [00:18<00:37,  1.47it/s]\u001b[A\n",
      " 36%|███▌      | 30/84 [00:19<00:40,  1.33it/s]\u001b[A\n",
      " 37%|███▋      | 31/84 [00:20<00:38,  1.36it/s]\u001b[A\n",
      " 38%|███▊      | 32/84 [00:20<00:37,  1.40it/s]\u001b[A\n",
      " 39%|███▉      | 33/84 [00:21<00:35,  1.43it/s]\u001b[A\n",
      " 40%|████      | 34/84 [00:22<00:38,  1.31it/s]\u001b[A\n",
      " 42%|████▏     | 35/84 [00:23<00:36,  1.36it/s]\u001b[A\n",
      " 43%|████▎     | 36/84 [00:23<00:36,  1.31it/s]\u001b[A\n",
      " 44%|████▍     | 37/84 [00:24<00:36,  1.29it/s]\u001b[A\n",
      " 45%|████▌     | 38/84 [00:25<00:38,  1.19it/s]\u001b[A\n",
      " 46%|████▋     | 39/84 [00:26<00:36,  1.23it/s]\u001b[A\n",
      " 48%|████▊     | 40/84 [00:27<00:35,  1.23it/s]\u001b[A\n",
      " 49%|████▉     | 41/84 [00:28<00:35,  1.22it/s]\u001b[A\n",
      " 50%|█████     | 42/84 [00:29<00:35,  1.18it/s]\u001b[A\n",
      " 51%|█████     | 43/84 [00:29<00:30,  1.32it/s]\u001b[A\n",
      " 52%|█████▏    | 44/84 [00:30<00:29,  1.35it/s]\u001b[A\n",
      " 54%|█████▎    | 45/84 [00:30<00:26,  1.45it/s]\u001b[A\n",
      " 55%|█████▍    | 46/84 [00:31<00:25,  1.51it/s]\u001b[A\n",
      " 56%|█████▌    | 47/84 [00:32<00:23,  1.55it/s]\u001b[A\n",
      " 57%|█████▋    | 48/84 [00:32<00:24,  1.49it/s]\u001b[A\n",
      " 58%|█████▊    | 49/84 [00:33<00:24,  1.41it/s]\u001b[A\n",
      " 60%|█████▉    | 50/84 [00:34<00:24,  1.41it/s]\u001b[A\n",
      " 61%|██████    | 51/84 [00:35<00:23,  1.42it/s]\u001b[A\n",
      " 62%|██████▏   | 52/84 [00:35<00:22,  1.41it/s]\u001b[A\n",
      " 63%|██████▎   | 53/84 [00:36<00:22,  1.40it/s]\u001b[A\n",
      " 64%|██████▍   | 54/84 [00:37<00:22,  1.36it/s]\u001b[A\n",
      " 65%|██████▌   | 55/84 [00:37<00:20,  1.42it/s]\u001b[A\n",
      " 67%|██████▋   | 56/84 [00:38<00:19,  1.45it/s]\u001b[A\n",
      " 68%|██████▊   | 57/84 [00:39<00:18,  1.46it/s]\u001b[A\n",
      " 69%|██████▉   | 58/84 [00:39<00:18,  1.43it/s]\u001b[A\n",
      " 70%|███████   | 59/84 [00:40<00:16,  1.50it/s]\u001b[A\n",
      " 71%|███████▏  | 60/84 [00:41<00:16,  1.46it/s]\u001b[A\n",
      " 73%|███████▎  | 61/84 [00:42<00:16,  1.42it/s]\u001b[A\n",
      " 74%|███████▍  | 62/84 [00:42<00:16,  1.34it/s]\u001b[A\n",
      " 75%|███████▌  | 63/84 [00:43<00:16,  1.28it/s]\u001b[A\n",
      " 76%|███████▌  | 64/84 [00:44<00:15,  1.27it/s]\u001b[A\n",
      " 77%|███████▋  | 65/84 [00:45<00:15,  1.26it/s]\u001b[A\n",
      " 79%|███████▊  | 66/84 [00:46<00:15,  1.19it/s]\u001b[A\n",
      " 80%|███████▉  | 67/84 [00:47<00:14,  1.20it/s]\u001b[A\n",
      " 81%|████████  | 68/84 [00:47<00:12,  1.25it/s]\u001b[A\n",
      " 82%|████████▏ | 69/84 [00:48<00:11,  1.28it/s]\u001b[A\n",
      " 83%|████████▎ | 70/84 [00:49<00:11,  1.22it/s]\u001b[A\n",
      " 85%|████████▍ | 71/84 [00:50<00:10,  1.23it/s]\u001b[A\n",
      " 86%|████████▌ | 72/84 [00:51<00:09,  1.23it/s]\u001b[A\n",
      " 87%|████████▋ | 73/84 [00:51<00:08,  1.30it/s]\u001b[A\n",
      " 88%|████████▊ | 74/84 [00:52<00:07,  1.39it/s]\u001b[A\n",
      " 89%|████████▉ | 75/84 [00:52<00:05,  1.52it/s]\u001b[A\n",
      " 90%|█████████ | 76/84 [00:53<00:04,  1.61it/s]\u001b[A\n",
      " 92%|█████████▏| 77/84 [00:53<00:04,  1.69it/s]\u001b[A\n",
      " 93%|█████████▎| 78/84 [00:54<00:03,  1.70it/s]\u001b[A\n",
      " 94%|█████████▍| 79/84 [00:55<00:02,  1.72it/s]\u001b[A\n",
      " 95%|█████████▌| 80/84 [00:55<00:02,  1.59it/s]\u001b[A\n",
      " 96%|█████████▋| 81/84 [00:56<00:02,  1.45it/s]\u001b[A\n",
      " 98%|█████████▊| 82/84 [00:57<00:01,  1.35it/s]\u001b[A\n",
      " 99%|█████████▉| 83/84 [00:58<00:00,  1.34it/s]\u001b[A\n",
      "100%|██████████| 84/84 [00:59<00:00,  1.29it/s]\u001b[A\n",
      " 90%|█████████ | 18/20 [14:46<01:44, 52.46s/it]\n",
      "  0%|          | 0/84 [00:00<?, ?it/s]\u001b[A\n",
      "  1%|          | 1/84 [00:00<01:05,  1.26it/s]\u001b[A\n",
      "  2%|▏         | 2/84 [00:01<01:01,  1.33it/s]\u001b[A\n",
      "  4%|▎         | 3/84 [00:02<01:02,  1.30it/s]\u001b[A\n",
      "  5%|▍         | 4/84 [00:02<01:00,  1.33it/s]\u001b[A\n",
      "  6%|▌         | 5/84 [00:03<00:59,  1.32it/s]\u001b[A\n",
      "  7%|▋         | 6/84 [00:04<00:59,  1.30it/s]\u001b[A\n",
      "  8%|▊         | 7/84 [00:05<01:01,  1.26it/s]\u001b[A\n",
      " 10%|▉         | 8/84 [00:06<00:57,  1.33it/s]\u001b[A\n",
      " 11%|█         | 9/84 [00:06<00:52,  1.44it/s]\u001b[A\n",
      " 12%|█▏        | 10/84 [00:07<00:50,  1.46it/s]\u001b[A\n",
      " 13%|█▎        | 11/84 [00:08<00:52,  1.40it/s]\u001b[A\n",
      " 14%|█▍        | 12/84 [00:08<00:47,  1.50it/s]\u001b[A\n",
      " 15%|█▌        | 13/84 [00:09<00:45,  1.57it/s]\u001b[A\n",
      " 17%|█▋        | 14/84 [00:09<00:43,  1.62it/s]\u001b[A\n",
      " 18%|█▊        | 15/84 [00:10<00:42,  1.61it/s]\u001b[A\n",
      " 19%|█▉        | 16/84 [00:10<00:40,  1.69it/s]\u001b[A\n",
      " 20%|██        | 17/84 [00:11<00:38,  1.75it/s]\u001b[A\n",
      " 21%|██▏       | 18/84 [00:11<00:37,  1.74it/s]\u001b[A\n",
      " 23%|██▎       | 19/84 [00:12<00:39,  1.65it/s]\u001b[A\n",
      " 24%|██▍       | 20/84 [00:13<00:41,  1.55it/s]\u001b[A\n",
      " 25%|██▌       | 21/84 [00:14<00:41,  1.51it/s]\u001b[A\n",
      " 26%|██▌       | 22/84 [00:14<00:41,  1.51it/s]\u001b[A\n",
      " 27%|██▋       | 23/84 [00:15<00:41,  1.48it/s]\u001b[A\n",
      " 29%|██▊       | 24/84 [00:16<00:39,  1.52it/s]\u001b[A\n",
      " 30%|██▉       | 25/84 [00:16<00:40,  1.45it/s]\u001b[A\n",
      " 31%|███       | 26/84 [00:17<00:44,  1.31it/s]\u001b[A\n",
      " 32%|███▏      | 27/84 [00:18<00:46,  1.23it/s]\u001b[A\n",
      " 33%|███▎      | 28/84 [00:19<00:45,  1.22it/s]\u001b[A\n",
      " 35%|███▍      | 29/84 [00:20<00:45,  1.20it/s]\u001b[A\n",
      " 36%|███▌      | 30/84 [00:21<00:44,  1.23it/s]\u001b[A\n",
      " 37%|███▋      | 31/84 [00:22<00:45,  1.16it/s]\u001b[A\n",
      " 38%|███▊      | 32/84 [00:22<00:44,  1.18it/s]\u001b[A\n",
      " 39%|███▉      | 33/84 [00:23<00:42,  1.20it/s]\u001b[A\n",
      " 40%|████      | 34/84 [00:24<00:40,  1.22it/s]\u001b[A\n",
      " 42%|████▏     | 35/84 [00:25<00:40,  1.21it/s]\u001b[A\n",
      " 43%|████▎     | 36/84 [00:25<00:35,  1.35it/s]\u001b[A\n",
      " 44%|████▍     | 37/84 [00:26<00:32,  1.44it/s]\u001b[A\n",
      " 45%|████▌     | 38/84 [00:27<00:30,  1.50it/s]\u001b[A\n",
      " 46%|████▋     | 39/84 [00:28<00:33,  1.35it/s]\u001b[A\n",
      " 48%|████▊     | 40/84 [00:28<00:32,  1.35it/s]\u001b[A\n",
      " 49%|████▉     | 41/84 [00:29<00:32,  1.33it/s]\u001b[A\n",
      " 50%|█████     | 42/84 [00:30<00:31,  1.35it/s]\u001b[A\n",
      " 51%|█████     | 43/84 [00:31<00:30,  1.34it/s]\u001b[A\n",
      " 52%|█████▏    | 44/84 [00:31<00:30,  1.30it/s]\u001b[A\n",
      " 54%|█████▎    | 45/84 [00:32<00:27,  1.41it/s]\u001b[A\n",
      " 55%|█████▍    | 46/84 [00:33<00:25,  1.47it/s]\u001b[A\n",
      " 56%|█████▌    | 47/84 [00:33<00:26,  1.41it/s]\u001b[A\n",
      " 57%|█████▋    | 48/84 [00:34<00:24,  1.46it/s]\u001b[A\n",
      " 58%|█████▊    | 49/84 [00:35<00:25,  1.37it/s]\u001b[A\n",
      " 60%|█████▉    | 50/84 [00:36<00:25,  1.32it/s]\u001b[A\n",
      " 61%|██████    | 51/84 [00:36<00:25,  1.27it/s]\u001b[A\n",
      " 62%|██████▏   | 52/84 [00:37<00:25,  1.25it/s]\u001b[A\n",
      " 63%|██████▎   | 53/84 [00:38<00:23,  1.30it/s]\u001b[A\n",
      " 64%|██████▍   | 54/84 [00:39<00:23,  1.27it/s]\u001b[A\n",
      " 65%|██████▌   | 55/84 [00:40<00:21,  1.32it/s]\u001b[A\n",
      " 67%|██████▋   | 56/84 [00:40<00:21,  1.31it/s]\u001b[A\n",
      " 68%|██████▊   | 57/84 [00:41<00:19,  1.37it/s]\u001b[A\n",
      " 69%|██████▉   | 58/84 [00:42<00:19,  1.33it/s]\u001b[A\n",
      " 70%|███████   | 59/84 [00:43<00:20,  1.22it/s]\u001b[A\n",
      " 71%|███████▏  | 60/84 [00:44<00:20,  1.19it/s]\u001b[A\n",
      " 73%|███████▎  | 61/84 [00:44<00:19,  1.18it/s]\u001b[A\n",
      " 74%|███████▍  | 62/84 [00:45<00:18,  1.18it/s]\u001b[A\n",
      " 75%|███████▌  | 63/84 [00:46<00:17,  1.21it/s]\u001b[A\n",
      " 76%|███████▌  | 64/84 [00:47<00:15,  1.26it/s]\u001b[A\n",
      " 77%|███████▋  | 65/84 [00:48<00:14,  1.28it/s]\u001b[A\n",
      " 79%|███████▊  | 66/84 [00:48<00:14,  1.26it/s]\u001b[A\n",
      " 80%|███████▉  | 67/84 [00:49<00:14,  1.21it/s]\u001b[A\n",
      " 81%|████████  | 68/84 [00:50<00:13,  1.21it/s]\u001b[A\n",
      " 82%|████████▏ | 69/84 [00:51<00:12,  1.21it/s]\u001b[A\n",
      " 83%|████████▎ | 70/84 [00:52<00:10,  1.29it/s]\u001b[A\n",
      " 85%|████████▍ | 71/84 [00:53<00:10,  1.19it/s]\u001b[A\n",
      " 86%|████████▌ | 72/84 [00:53<00:09,  1.21it/s]\u001b[A\n",
      " 87%|████████▋ | 73/84 [00:54<00:08,  1.23it/s]\u001b[A\n",
      " 88%|████████▊ | 74/84 [00:55<00:08,  1.20it/s]\u001b[A\n",
      " 89%|████████▉ | 75/84 [00:56<00:07,  1.17it/s]\u001b[A\n",
      " 90%|█████████ | 76/84 [00:57<00:06,  1.18it/s]\u001b[A\n",
      " 92%|█████████▏| 77/84 [00:58<00:05,  1.21it/s]\u001b[A\n",
      " 93%|█████████▎| 78/84 [00:58<00:04,  1.23it/s]\u001b[A\n",
      " 94%|█████████▍| 79/84 [00:59<00:04,  1.17it/s]\u001b[A\n",
      " 95%|█████████▌| 80/84 [01:00<00:03,  1.23it/s]\u001b[A\n",
      " 96%|█████████▋| 81/84 [01:01<00:02,  1.23it/s]\u001b[A\n",
      " 98%|█████████▊| 82/84 [01:02<00:01,  1.26it/s]\u001b[A\n",
      " 99%|█████████▉| 83/84 [01:02<00:00,  1.21it/s]\u001b[A\n",
      "100%|██████████| 84/84 [01:03<00:00,  1.20it/s]\u001b[A\n",
      " 95%|█████████▌| 19/20 [15:50<00:55, 55.87s/it]\n",
      "  0%|          | 0/84 [00:00<?, ?it/s]\u001b[A\n",
      "  1%|          | 1/84 [00:00<01:21,  1.02it/s]\u001b[A\n",
      "  2%|▏         | 2/84 [00:01<01:17,  1.06it/s]\u001b[A\n",
      "  4%|▎         | 3/84 [00:02<01:16,  1.06it/s]\u001b[A\n",
      "  5%|▍         | 4/84 [00:03<01:10,  1.14it/s]\u001b[A\n",
      "  6%|▌         | 5/84 [00:04<01:03,  1.25it/s]\u001b[A\n",
      "  7%|▋         | 6/84 [00:04<00:58,  1.33it/s]\u001b[A\n",
      "  8%|▊         | 7/84 [00:05<00:58,  1.32it/s]\u001b[A\n",
      " 10%|▉         | 8/84 [00:06<00:58,  1.29it/s]\u001b[A\n",
      " 11%|█         | 9/84 [00:07<00:56,  1.32it/s]\u001b[A\n",
      " 12%|█▏        | 10/84 [00:07<00:59,  1.25it/s]\u001b[A\n",
      " 13%|█▎        | 11/84 [00:08<00:57,  1.27it/s]\u001b[A\n",
      " 14%|█▍        | 12/84 [00:09<00:56,  1.27it/s]\u001b[A\n",
      " 15%|█▌        | 13/84 [00:10<00:56,  1.26it/s]\u001b[A\n",
      " 17%|█▋        | 14/84 [00:11<00:56,  1.25it/s]\u001b[A\n",
      " 18%|█▊        | 15/84 [00:11<00:55,  1.25it/s]\u001b[A\n",
      " 19%|█▉        | 16/84 [00:12<00:52,  1.30it/s]\u001b[A\n",
      " 20%|██        | 17/84 [00:13<00:53,  1.26it/s]\u001b[A\n",
      " 21%|██▏       | 18/84 [00:14<00:51,  1.27it/s]\u001b[A\n",
      " 23%|██▎       | 19/84 [00:14<00:49,  1.30it/s]\u001b[A\n",
      " 24%|██▍       | 20/84 [00:15<00:49,  1.30it/s]\u001b[A\n",
      " 25%|██▌       | 21/84 [00:16<00:49,  1.27it/s]\u001b[A\n",
      " 26%|██▌       | 22/84 [00:17<00:47,  1.31it/s]\u001b[A\n",
      " 27%|██▋       | 23/84 [00:18<00:47,  1.29it/s]\u001b[A\n",
      " 29%|██▊       | 24/84 [00:18<00:47,  1.26it/s]\u001b[A\n",
      " 30%|██▉       | 25/84 [00:19<00:47,  1.25it/s]\u001b[A\n",
      " 31%|███       | 26/84 [00:20<00:45,  1.28it/s]\u001b[A\n",
      " 32%|███▏      | 27/84 [00:21<00:44,  1.27it/s]\u001b[A\n",
      " 33%|███▎      | 28/84 [00:22<00:44,  1.26it/s]\u001b[A\n",
      " 35%|███▍      | 29/84 [00:22<00:43,  1.26it/s]\u001b[A\n",
      " 36%|███▌      | 30/84 [00:23<00:42,  1.26it/s]\u001b[A\n",
      " 37%|███▋      | 31/84 [00:24<00:42,  1.24it/s]\u001b[A\n",
      " 38%|███▊      | 32/84 [00:25<00:44,  1.18it/s]\u001b[A\n",
      " 39%|███▉      | 33/84 [00:26<00:41,  1.23it/s]\u001b[A\n",
      " 40%|████      | 34/84 [00:26<00:40,  1.24it/s]\u001b[A\n",
      " 42%|████▏     | 35/84 [00:27<00:39,  1.25it/s]\u001b[A\n",
      " 43%|████▎     | 36/84 [00:28<00:39,  1.21it/s]\u001b[A\n",
      " 44%|████▍     | 37/84 [00:29<00:38,  1.23it/s]\u001b[A\n",
      " 45%|████▌     | 38/84 [00:30<00:36,  1.26it/s]\u001b[A\n",
      " 46%|████▋     | 39/84 [00:31<00:37,  1.20it/s]\u001b[A\n",
      " 48%|████▊     | 40/84 [00:31<00:35,  1.24it/s]\u001b[A\n",
      " 49%|████▉     | 41/84 [00:32<00:34,  1.24it/s]\u001b[A\n",
      " 50%|█████     | 42/84 [00:33<00:32,  1.28it/s]\u001b[A\n",
      " 51%|█████     | 43/84 [00:34<00:33,  1.23it/s]\u001b[A\n",
      " 52%|█████▏    | 44/84 [00:35<00:31,  1.25it/s]\u001b[A\n",
      " 54%|█████▎    | 45/84 [00:35<00:31,  1.24it/s]\u001b[A\n",
      " 55%|█████▍    | 46/84 [00:36<00:32,  1.16it/s]\u001b[A\n",
      " 56%|█████▌    | 47/84 [00:37<00:31,  1.16it/s]\u001b[A\n",
      " 57%|█████▋    | 48/84 [00:38<00:30,  1.17it/s]\u001b[A\n",
      " 58%|█████▊    | 49/84 [00:39<00:29,  1.20it/s]\u001b[A\n",
      " 60%|█████▉    | 50/84 [00:40<00:27,  1.24it/s]\u001b[A\n",
      " 61%|██████    | 51/84 [00:40<00:25,  1.28it/s]\u001b[A\n",
      " 62%|██████▏   | 52/84 [00:41<00:24,  1.28it/s]\u001b[A\n",
      " 63%|██████▎   | 53/84 [00:42<00:24,  1.29it/s]\u001b[A\n",
      " 64%|██████▍   | 54/84 [00:43<00:22,  1.31it/s]\u001b[A\n",
      " 65%|██████▌   | 55/84 [00:43<00:20,  1.38it/s]\u001b[A\n",
      " 67%|██████▋   | 56/84 [00:44<00:20,  1.34it/s]\u001b[A\n",
      " 68%|██████▊   | 57/84 [00:45<00:21,  1.26it/s]\u001b[A\n",
      " 69%|██████▉   | 58/84 [00:46<00:20,  1.28it/s]\u001b[A\n",
      " 70%|███████   | 59/84 [00:46<00:19,  1.30it/s]\u001b[A\n",
      " 71%|███████▏  | 60/84 [00:47<00:18,  1.28it/s]\u001b[A\n",
      " 73%|███████▎  | 61/84 [00:48<00:18,  1.26it/s]\u001b[A\n",
      " 74%|███████▍  | 62/84 [00:49<00:17,  1.28it/s]\u001b[A\n",
      " 75%|███████▌  | 63/84 [00:50<00:16,  1.28it/s]\u001b[A\n",
      " 76%|███████▌  | 64/84 [00:50<00:15,  1.31it/s]\u001b[A\n",
      " 77%|███████▋  | 65/84 [00:51<00:14,  1.29it/s]\u001b[A\n",
      " 79%|███████▊  | 66/84 [00:52<00:14,  1.28it/s]\u001b[A\n",
      " 80%|███████▉  | 67/84 [00:53<00:12,  1.31it/s]\u001b[A\n",
      " 81%|████████  | 68/84 [00:53<00:12,  1.28it/s]\u001b[A\n",
      " 82%|████████▏ | 69/84 [00:54<00:11,  1.26it/s]\u001b[A\n",
      " 83%|████████▎ | 70/84 [00:55<00:10,  1.38it/s]\u001b[A\n",
      " 85%|████████▍ | 71/84 [00:56<00:09,  1.33it/s]\u001b[A\n",
      " 86%|████████▌ | 72/84 [00:57<00:09,  1.23it/s]\u001b[A\n",
      " 87%|████████▋ | 73/84 [00:57<00:09,  1.21it/s]\u001b[A\n",
      " 88%|████████▊ | 74/84 [00:58<00:08,  1.20it/s]\u001b[A\n",
      " 89%|████████▉ | 75/84 [00:59<00:07,  1.21it/s]\u001b[A\n",
      " 90%|█████████ | 76/84 [01:00<00:06,  1.18it/s]\u001b[A\n",
      " 92%|█████████▏| 77/84 [01:01<00:05,  1.24it/s]\u001b[A\n",
      " 93%|█████████▎| 78/84 [01:02<00:04,  1.25it/s]\u001b[A\n",
      " 94%|█████████▍| 79/84 [01:02<00:04,  1.22it/s]\u001b[A\n",
      " 95%|█████████▌| 80/84 [01:03<00:03,  1.19it/s]\u001b[A\n",
      " 96%|█████████▋| 81/84 [01:04<00:02,  1.20it/s]\u001b[A\n",
      " 98%|█████████▊| 82/84 [01:05<00:01,  1.26it/s]\u001b[A\n",
      " 99%|█████████▉| 83/84 [01:05<00:00,  1.33it/s]\u001b[A\n",
      "100%|██████████| 84/84 [01:06<00:00,  1.43it/s]\u001b[A\n",
      "100%|██████████| 20/20 [16:56<00:00, 59.06s/it]\n"
     ]
    }
   ],
   "source": [
    "n_trial = X_all.shape[0]\n",
    "T = X_all.shape[1]\n",
    "K = 10\n",
    "\n",
    "for h in [1, 2, 3]:\n",
    "    dnml_whole_list, nml_x_z_whole_list, nml_z_whole_list = \\\n",
    "        np.nan * np.ones((n_trial, T, K)), np.nan * np.ones((n_trial, T, K)), np.nan * np.ones((n_trial, T, K))\n",
    "    dnml_former_list, nml_x_z_former_list, nml_z_former_list = \\\n",
    "        np.nan * np.ones((n_trial, T, K)), np.nan * np.ones((n_trial, T, K)), np.nan * np.ones((n_trial, T, K))\n",
    "    dnml_latter_list, nml_x_z_latter_list, nml_z_latter_list = \\\n",
    "        np.nan * np.ones((n_trial, T, K)), np.nan * np.ones((n_trial, T, K)), np.nan * np.ones((n_trial, T, K))\n",
    "\n",
    "    for trial in tqdm.tqdm(range(n_trial)):\n",
    "        for t in tqdm.tqdm(range(h, T-h)):\n",
    "            for k in range(K):\n",
    "                t_start = t-h\n",
    "                t_end = t+h\n",
    "\n",
    "                # whole\n",
    "                n_whole = np.sum([[np.sum(np.argmax(Z_all[trial][tt][k], axis=1) == v) for v in range(k+1)] \n",
    "                                  for tt in range(t_start, t_end)], axis=0)\n",
    "\n",
    "                theta_hat_whole = np.sum(\n",
    "                        [[[np.sum(X_all[trial][tt][np.argmax(Z_all[trial][tt][k], axis=1) == k1, :][:, np.argmax(Z_all[trial][tt][k], axis=1) == k2])\n",
    "                           for k2 in range(k+1)] for k1 in range(k+1)] \n",
    "                           for tt in range(t_start, t_end)], axis=0) / \\\n",
    "                        np.sum(\n",
    "                            [[[np.sum(np.argmax(Z_all[trial][tt][k], axis=1) == k1) * \n",
    "                               np.sum(np.argmax(Z_all[trial][tt][k], axis=1) == k2) \n",
    "                            for k2 in range(k+1)] for k1 in range(k+1)] \n",
    "                            for tt in range(t_start, t_end)], axis=0)\n",
    "                theta_hat_whole = theta_hat_whole[n_whole !=0, :][:, n_whole !=0]\n",
    "                pi_hat_whole = n_whole[n_whole !=0] /np.sum(n_whole)\n",
    "\n",
    "                n_cluster_whole = len(pi_hat_whole)\n",
    "                res_w = np.array([calc_dnml_by_prob(X_all[trial, tt, :, :], \n",
    "                                                    Z_all[trial][tt][k], \n",
    "                                                    pi_hat_whole, theta_hat_whole,\n",
    "                                                    n_cluster_whole, n_cluster_whole) \n",
    "                                  for tt in range(t_start, t_end)])\n",
    "\n",
    "                dnml_whole = np.sum(res_w[:, 0])\n",
    "                nml_x_z_whole = np.sum(res_w[:, 1])\n",
    "                nml_z_whole = np.sum(res_w[:, 2])\n",
    "\n",
    "                val = dnml_whole_list[trial, t, n_cluster_whole-1]\n",
    "                if (np.isnan(val) | ( (np.isfinite(val)) & (dnml_whole < val) )):\n",
    "                    dnml_whole_list[trial, t, n_cluster_whole-1] = dnml_whole\n",
    "                    nml_x_z_whole_list[trial, t, n_cluster_whole-1] = nml_x_z_whole\n",
    "                    nml_z_whole_list[trial, t, n_cluster_whole-1] = nml_z_whole\n",
    "\n",
    "                # former\n",
    "                n_former = np.sum([[np.sum(np.argmax(Z_all[trial][tt][k], axis=1) == v) for v in range(k+1)] \n",
    "                                   for tt in range(t_start, t_start+h)], axis=0)\n",
    "\n",
    "                theta_hat_former = np.sum(\n",
    "                        [[[np.sum(X_all[trial][tt][np.argmax(Z_all[trial][tt][k], axis=1) == k1, :][:, np.argmax(Z_all[trial][tt][k], axis=1) == k2])\n",
    "                            for k2 in range(k+1)] for k1 in range(k+1)] \n",
    "                         for tt in range(t_start, t_start+h)], axis=0) / \\\n",
    "                        np.sum(\n",
    "                            [[[np.sum(np.argmax(Z_all[trial][tt][k], axis=1) == k1) * np.sum(np.argmax(Z_all[trial][tt][k], axis=1) == k2) \n",
    "                            for k2 in range(k+1)] for k1 in range(k+1)] \n",
    "                            for tt in range(t_start, t_start+h)], axis=0)\n",
    "\n",
    "                theta_hat_former = theta_hat_former[n_former !=0, :][:, n_former !=0]\n",
    "                pi_hat_former = n_former[n_former !=0] /np.sum(n_former)\n",
    "\n",
    "                n_cluster_former = len(pi_hat_former)\n",
    "                res_f = np.array([calc_dnml_by_prob(X_all[trial, tt, :, :], \n",
    "                                                    Z_all[trial][tt][k], \n",
    "                                                    pi_hat_former, theta_hat_former,\n",
    "                                                    n_cluster_former, n_cluster_former) \n",
    "                                  for tt in range(t_start, t_start+h)])\n",
    "\n",
    "                dnml_former = np.sum(res_f[:, 0])\n",
    "                nml_x_z_former = np.sum(res_f[:, 1])\n",
    "                nml_z_former = np.sum(res_f[:, 2])\n",
    "\n",
    "                val = dnml_former_list[trial, t, n_cluster_former-1]\n",
    "                if (np.isnan(val) | ( (np.isfinite(val)) & (dnml_former < val) )):\n",
    "                    dnml_former_list[trial, t, n_cluster_former-1] = dnml_former\n",
    "                    nml_x_z_former_list[trial, t, n_cluster_former-1] = nml_x_z_former\n",
    "                    nml_z_former_list[trial, t, n_cluster_former-1] = nml_z_former\n",
    "\n",
    "                # latter\n",
    "                n_latter = np.sum([[np.sum(np.argmax(Z_all[trial][tt][k], axis=1) == v) for v in range(k+1)]\n",
    "                                   for tt in range(t_start+h, t_end)], axis=0)\n",
    "\n",
    "                theta_hat_latter = np.sum(\n",
    "                         [[[np.sum(X_all[trial][tt][np.argmax(Z_all[trial][tt][k], axis=1) == k1, :][:, np.argmax(Z_all[trial][tt][k], axis=1) == k2])\n",
    "                            for k2 in range(k+1)] for k1 in range(k+1)] for tt in range(t_start+h, t_end)], axis=0) / \\\n",
    "                        np.sum(\n",
    "                         [[[np.sum(np.argmax(Z_all[trial][tt][k], axis=1) == k1) * \n",
    "                            np.sum(np.argmax(Z_all[trial][tt][k], axis=1) == k2) \n",
    "                            for k2 in range(k+1)] for k1 in range(k+1)] for tt in range(t_start+h, t_end)], axis=0)\n",
    "\n",
    "                theta_hat_latter = theta_hat_latter[n_latter != 0, :][:, n_latter !=0]\n",
    "                pi_hat_latter = n_latter[n_latter != 0] /np.sum(n_latter)\n",
    "\n",
    "                n_cluster_latter = len(pi_hat_latter)\n",
    "                res_l = np.array([calc_dnml_by_prob(X_all[trial, tt, :, :], \n",
    "                                                    Z_all[trial][tt][k], \n",
    "                                                    pi_hat_latter, theta_hat_latter,\n",
    "                                                    n_cluster_latter, n_cluster_latter) \n",
    "                                  for tt in range(t_start+h, t_end)])\n",
    "\n",
    "                dnml_latter = np.sum(res_l[:, 0])\n",
    "                nml_x_z_latter = np.sum(res_l[:, 1])\n",
    "                nml_z_latter = np.sum(res_l[:, 2])\n",
    "\n",
    "                val = dnml_latter_list[trial, t, n_cluster_latter-1]\n",
    "                if (np.isnan(val) | ( (np.isfinite(val)) & (dnml_latter < val) )):\n",
    "                    dnml_latter_list[trial, t, n_cluster_latter-1] = dnml_latter\n",
    "                    nml_x_z_latter_list[trial, t, n_cluster_latter-1] = nml_x_z_latter\n",
    "                    nml_z_latter_list[trial, t, n_cluster_latter-1] = nml_z_latter\n",
    "\n",
    "    with open(os.path.join(outdir, 'dnml_all_h' + str(h) + '.pkl'), 'wb') as f:\n",
    "        pickle.dump(dnml_whole_list, f)\n",
    "    with open(os.path.join(outdir, 'dnml_f_h' + str(h) + '.pkl'), 'wb') as f:\n",
    "        pickle.dump(dnml_former_list, f)\n",
    "    with open(os.path.join(outdir, 'dnml_l_h' + str(h) + '.pkl'), 'wb') as f:\n",
    "        pickle.dump(dnml_latter_list, f)\n",
    "\n",
    "    with open(os.path.join(outdir, 'nml_x_z_all_h' + str(h) + '.pkl'), 'wb') as f:\n",
    "        pickle.dump(nml_x_z_whole_list, f)\n",
    "    with open(os.path.join(outdir, 'nml_x_z_f_h' + str(h) + '.pkl'), 'wb') as f:\n",
    "        pickle.dump(nml_x_z_former_list, f)\n",
    "    with open(os.path.join(outdir, 'nml_x_z_l_h' + str(h) + '.pkl'), 'wb') as f:\n",
    "        pickle.dump(nml_x_z_latter_list, f)\n",
    "\n",
    "    with open(os.path.join(outdir, 'nml_z_all_h' + str(h) + '.pkl'), 'wb') as f:\n",
    "        pickle.dump(nml_z_whole_list, f)\n",
    "    with open(os.path.join(outdir, 'nml_z_f_h' + str(h) + '.pkl'), 'wb') as f:\n",
    "        pickle.dump(nml_z_former_list, f)\n",
    "    with open(os.path.join(outdir, 'nml_z_l_h' + str(h) + '.pkl'), 'wb') as f:\n",
    "        pickle.dump(nml_z_latter_list, f)"
   ]
  },
  {
   "cell_type": "code",
   "execution_count": null,
   "metadata": {},
   "outputs": [],
   "source": []
  }
 ],
 "metadata": {
  "kernelspec": {
   "display_name": "Python 3",
   "language": "python",
   "name": "python3"
  },
  "language_info": {
   "codemirror_mode": {
    "name": "ipython",
    "version": 3
   },
   "file_extension": ".py",
   "mimetype": "text/x-python",
   "name": "python",
   "nbconvert_exporter": "python",
   "pygments_lexer": "ipython3",
   "version": "3.7.2"
  }
 },
 "nbformat": 4,
 "nbformat_minor": 4
}
