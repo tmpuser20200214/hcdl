{
 "cells": [
  {
   "cell_type": "code",
   "execution_count": 1,
   "metadata": {},
   "outputs": [],
   "source": [
    "import numpy as np\n",
    "import pandas as pd\n",
    "import networkx as nx\n",
    "\n",
    "import matplotlib.pyplot as plt\n",
    "import seaborn as sns\n",
    "sns.reset_orig()\n",
    "\n",
    "from scipy.stats import bernoulli\n",
    "from scipy.special import loggamma\n",
    "\n",
    "import tqdm"
   ]
  },
  {
   "cell_type": "code",
   "execution_count": 2,
   "metadata": {},
   "outputs": [],
   "source": [
    "import os\n",
    "import pickle"
   ]
  },
  {
   "cell_type": "code",
   "execution_count": 3,
   "metadata": {},
   "outputs": [],
   "source": [
    "pd.options.display.max_rows = 200\n",
    "pd.options.display.max_columns = 200"
   ]
  },
  {
   "cell_type": "code",
   "execution_count": 4,
   "metadata": {},
   "outputs": [],
   "source": [
    "outdir = './data/'\n",
    "if not os.path.exists(outdir):\n",
    "    os.makedirs(outdir)"
   ]
  },
  {
   "cell_type": "code",
   "execution_count": 5,
   "metadata": {},
   "outputs": [],
   "source": [
    "def generate_data_random(N=100, K=2, alpha1=1.0, alpha2=1.0, a0=0.5, b0=0.5, \n",
    "                         pi1=None, pi2=None, theta=None, seed=0):\n",
    "    np.random.seed(seed)\n",
    "    # Dirichlet dist.\n",
    "    alpha1 = alpha1 * np.ones(K)\n",
    "    alpha2 = alpha2 * np.ones(K)\n",
    "    if pi1 is None:\n",
    "        #pi1 = np.random.dirichlet(alpha1, 1).ravel()\n",
    "        pi1 = np.sort(np.random.dirichlet(alpha1, 1).ravel())\n",
    "\n",
    "    Z1_true = np.random.multinomial(1, pi1, N)\n",
    "    while np.logical_not(np.all(np.sum(Z1_true, axis=0) >= 1)):\n",
    "        pi1 = np.sort(np.random.dirichlet(alpha1, 1).ravel())\n",
    "        Z1_true = np.random.multinomial(1, pi1, N)\n",
    "    \n",
    "    if pi2 is None:\n",
    "        #pi2 = np.random.dirichlet(alpha2, 1).ravel()\n",
    "        pi2 = np.sort(np.random.dirichlet(alpha2, 1).ravel())\n",
    "    \n",
    "    Z2_true = np.zeros((N, K))\n",
    "    while np.logical_not(np.all(np.sum(Z2_true, axis=0) >= 1)):\n",
    "        pi2 = np.sort(np.random.dirichlet(alpha2, 1).ravel())\n",
    "        Z2_true = np.random.multinomial(1, pi2, N)\n",
    "        \n",
    "    if theta is None:\n",
    "        theta = np.random.beta(a0, b0, (K, K))\n",
    "    \n",
    "    X = np.zeros((N, N), dtype=np.int)\n",
    "    for k in range(K):\n",
    "        for l in range(K):\n",
    "            point = Z1_true[:, k].reshape(-1, 1).dot(Z1_true[:, l].reshape(1, -1)).astype(bool)\n",
    "            #X[point] = bernoulli(theta[k, l]).rvs(np.sum(point))[0]\n",
    "            #X[point] = np.random.binomial(1, theta[k, l], np.sum(point))\n",
    "            X[point] = bernoulli(p=theta[k, l]).rvs(size=np.sum(point))\n",
    "    \n",
    "    return X, Z1_true, Z2_true, pi1, pi2, theta"
   ]
  },
  {
   "cell_type": "code",
   "execution_count": 6,
   "metadata": {},
   "outputs": [],
   "source": [
    "def generate_data_sequential(X, z, theta=None, n_trans=None, idx_before=None, ratio=0.1, seed=0):\n",
    "    np.random.seed(seed)\n",
    "    \n",
    "    N = X.shape[0]\n",
    "    \n",
    "    K = z.shape[1]\n",
    "    L = z.shape[1]\n",
    "\n",
    "    if (n_trans is None) & (idx_before is None):\n",
    "        n_z = np.sum(z, axis=0)\n",
    "        n_change = int(ratio * np.min(n_z))\n",
    "        z_new = z.copy()\n",
    "        idx_change = []\n",
    "        for i in range(z.shape[1]):\n",
    "            idxes_i = np.where(z[:, i] == 1)[0]\n",
    "            idxes_used = []\n",
    "            for j in range(z.shape[1]):\n",
    "                if i == j:\n",
    "                    continue\n",
    "                i_change = np.random.choice(np.setdiff1d(idxes_i, idxes_used), n_change, replace=False)\n",
    "                idxes_used += list(i_change)\n",
    "                z_replace = np.zeros(z_new.shape[1], dtype=np.int)\n",
    "                z_replace[j] = 1\n",
    "                z_new[i_change, :] = z_replace\n",
    "            idx_change += idxes_used\n",
    "    elif (n_trans is not None) & (idx_before is not None):\n",
    "        z_new = z.copy()\n",
    "        idx_change = np.random.choice(np.where(z[:, idx_before] == 1)[0], n_trans, replace=False)\n",
    "        z_replace = np.zeros(z_new.shape[1])\n",
    "        z_replace[-1] = 1\n",
    "        z_new[idx_change, :] = z_replace\n",
    "    \n",
    "    X_new = X.copy()\n",
    "    \n",
    "    for i in idx_change:\n",
    "        idx_i = np.where(z_new[i, :] == 1)[0]\n",
    "        for j in range(N):\n",
    "            idx_j = np.where(z_new[j, :] == 1)[0]\n",
    "            X_new[i, j] = bernoulli(p=theta[idx_i, idx_j]).rvs(size=1)\n",
    "            X_new[j, i] = bernoulli(p=theta[idx_j, idx_i]).rvs(size=1)\n",
    "    \n",
    "    return X_new, z_new"
   ]
  },
  {
   "cell_type": "code",
   "execution_count": 7,
   "metadata": {},
   "outputs": [],
   "source": [
    "def generate_data_sequential_randomtrans(X, z, theta=None, ratio=0.1, seed=0):\n",
    "    np.random.seed(seed)\n",
    "    \n",
    "    N = X.shape[0]\n",
    "\n",
    "    K = z.shape[1]\n",
    "    L = z.shape[1]\n",
    "\n",
    "    n_z = np.sum(z, axis=0)\n",
    "    n_change = int(ratio * np.min(n_z))\n",
    "    z_new = z.copy()\n",
    "    idx_change = []\n",
    "    for i in range(z.shape[1]):\n",
    "        idxes_i = np.where(z[:, i] == 1)[0]\n",
    "        idxes_used = []\n",
    "        for j in range(z.shape[1]):\n",
    "            if i == j:\n",
    "                continue\n",
    "            i_change = np.random.choice(np.setdiff1d(idxes_i, idxes_used), n_change, replace=False)\n",
    "            idxes_used += list(i_change)\n",
    "            z_replace = np.zeros(z_new.shape[1], dtype=np.int)\n",
    "            z_replace[j] = 1\n",
    "            z_new[i_change, :] = z_replace\n",
    "        idx_change += idxes_used\n",
    "    \n",
    "    X_new = X.copy()    \n",
    "    for i in idx_change:\n",
    "        idx_i = np.where(z_new[i, :] == 1)[0]\n",
    "        for j in range(N):\n",
    "            idx_j = np.where(z_new[j, :] == 1)[0]\n",
    "            X_new[i, j] = bernoulli(p=theta[idx_i, idx_j]).rvs(size=1)\n",
    "            X_new[j, i] = bernoulli(p=theta[idx_j, idx_i]).rvs(size=1)\n",
    "    \n",
    "    return X_new, z_new"
   ]
  },
  {
   "cell_type": "code",
   "execution_count": null,
   "metadata": {},
   "outputs": [],
   "source": []
  },
  {
   "cell_type": "code",
   "execution_count": 8,
   "metadata": {},
   "outputs": [],
   "source": [
    "def generate_data_abrupt_pi(X, z, theta=None, n_trans=None, idx_before=None, idx_after=-1, seed=0):\n",
    "    np.random.seed(seed)\n",
    "    \n",
    "    N = X.shape[0]\n",
    "    \n",
    "    K = z.shape[1]\n",
    "    L = z.shape[1]\n",
    "\n",
    "    z_new = z.copy()\n",
    "    idx_change = np.random.choice(np.where(z[:, idx_before] == 1)[0], n_trans, replace=False)\n",
    "    z_replace = np.zeros(z_new.shape[1])\n",
    "    z_replace[idx_after] = 1\n",
    "    z_new[idx_change, :] = z_replace\n",
    "\n",
    "    X_new = X.copy()\n",
    "    \n",
    "    for i in idx_change:\n",
    "        idx_i = np.where(z_new[i, :] == 1)[0]\n",
    "        for j in range(N):\n",
    "            idx_j = np.where(z_new[j, :] == 1)[0]\n",
    "            X_new[i, j] = bernoulli(p=theta[idx_i, idx_j]).rvs(size=1)\n",
    "            X_new[j, i] = bernoulli(p=theta[idx_j, idx_i]).rvs(size=1)\n",
    "    \n",
    "    return X_new, z_new"
   ]
  },
  {
   "cell_type": "code",
   "execution_count": 9,
   "metadata": {},
   "outputs": [],
   "source": [
    "def generate_data_abrupt_theta(X, z, theta2, seed=0):\n",
    "    np.random.seed(seed)\n",
    "    \n",
    "    N = X.shape[0]\n",
    "    \n",
    "    K = z.shape[1]\n",
    "    L = z.shape[1]\n",
    "\n",
    "    #X_new = X.copy()\n",
    "    X_new = np.zeros((N, N), dtype=np.int)\n",
    "    \n",
    "    for k in range(K):\n",
    "        for l in range(K):\n",
    "            point = z[:, k].reshape(-1, 1).dot(z[:, l].reshape(1, -1)).astype(bool)\n",
    "            X_new[point] = bernoulli(p=theta2[k, l]).rvs(size=np.sum(point))\n",
    "\n",
    "    return X_new"
   ]
  },
  {
   "cell_type": "code",
   "execution_count": 10,
   "metadata": {},
   "outputs": [],
   "source": [
    "def generate_data_split(X, z, \n",
    "                        #transmat_former, transmat_latter, \n",
    "                        K_former, K_latter, \n",
    "                        pi_former=None, theta_latter=None, \n",
    "                        a0=None, b0=None, seed=0):\n",
    "    np.random.seed(seed)\n",
    "    \n",
    "    N = X.shape[0]\n",
    "    \n",
    "    #K_former = transmat_former.shape[0]\n",
    "    #K_latter = transmat_latter.shape[0]\n",
    "        \n",
    "    i_max = np.argmax(pi_former)\n",
    "    pi_latter = np.hstack((pi_former.copy(), 0))\n",
    "    pi_latter[i_max] = pi_latter[-1] = pi_former[i_max]/2\n",
    "    \n",
    "    theta_latter = np.zeros((K_latter, K_latter))\n",
    "    theta_latter[:K_former, :K_former] = theta_former.copy()\n",
    "    #theta_latter[i_max, :-1] = theta_latter[-1, :-1] = theta_former[i_max, :]\n",
    "    #theta_latter[:-1, i_max] = theta_latter[:-1, -1] = theta_former[:, i_max]\n",
    "    #theta_latter[:-1, -1] = theta_former[:, i_max]\n",
    "    #theta_latter[-1, -1] = np.random.beta(a0, b0, 1)\n",
    "    theta_latter[-1, :] = np.random.beta(a0, b0, K_latter)\n",
    "    #theta_latter[:-1, -1] = np.random.beta(a0, b0, K_latter-1)\n",
    "    theta_latter[:-1, -1] = np.random.beta(a0, b0, K_latter-1)\n",
    "    \n",
    "    idx_change = np.where(z[:, i_max] == 1)[0]\n",
    "\n",
    "    z_new = np.zeros((z.shape[0], K_latter))\n",
    "    z_new[:, :K_former] = z.copy()\n",
    "    idx_new = np.random.choice(idx_change, int(len(idx_change)/2), replace=False)\n",
    "    z_new[idx_new, i_max] = 0\n",
    "    z_new[idx_new, -1] = 1\n",
    "    \n",
    "    X_new = X.copy()\n",
    "    \n",
    "    for i in idx_new:\n",
    "        for j in range(N):\n",
    "            z_i = np.where(z_new[i, :] == 1)[0]\n",
    "            z_j = np.where(z_new[j, :] == 1)[0]\n",
    "            X_new[i, j] = bernoulli(theta_latter[z_i, z_j]).rvs(size=1)\n",
    "            X_new[j, i] = bernoulli(theta_latter[z_j, z_i]).rvs(size=1)\n",
    "\n",
    "    return X_new, z_new, theta_latter"
   ]
  },
  {
   "cell_type": "code",
   "execution_count": 11,
   "metadata": {},
   "outputs": [],
   "source": [
    "cluster_range_max = 6"
   ]
  },
  {
   "cell_type": "code",
   "execution_count": 12,
   "metadata": {},
   "outputs": [
    {
     "name": "stderr",
     "output_type": "stream",
     "text": [
      "  0%|          | 0/80 [00:00<?, ?it/s]"
     ]
    },
    {
     "name": "stdout",
     "output_type": "stream",
     "text": [
      "trial = 0\n"
     ]
    },
    {
     "name": "stderr",
     "output_type": "stream",
     "text": [
      "100%|██████████| 80/80 [00:01<00:00, 47.33it/s]\n",
      "  0%|          | 0/80 [00:00<?, ?it/s]"
     ]
    },
    {
     "name": "stdout",
     "output_type": "stream",
     "text": [
      "trial = 1\n"
     ]
    },
    {
     "name": "stderr",
     "output_type": "stream",
     "text": [
      "100%|██████████| 80/80 [00:04<00:00, 17.08it/s]\n",
      "  0%|          | 0/80 [00:00<?, ?it/s]"
     ]
    },
    {
     "name": "stdout",
     "output_type": "stream",
     "text": [
      "trial = 2\n"
     ]
    },
    {
     "name": "stderr",
     "output_type": "stream",
     "text": [
      "100%|██████████| 80/80 [00:04<00:00, 17.09it/s]\n",
      " 25%|██▌       | 20/80 [00:00<00:00, 103.33it/s]"
     ]
    },
    {
     "name": "stdout",
     "output_type": "stream",
     "text": [
      "trial = 3\n"
     ]
    },
    {
     "name": "stderr",
     "output_type": "stream",
     "text": [
      "100%|██████████| 80/80 [00:02<00:00, 37.47it/s]\n",
      "  0%|          | 0/80 [00:00<?, ?it/s]"
     ]
    },
    {
     "name": "stdout",
     "output_type": "stream",
     "text": [
      "trial = 4\n"
     ]
    },
    {
     "name": "stderr",
     "output_type": "stream",
     "text": [
      "100%|██████████| 80/80 [00:03<00:00, 25.25it/s]\n",
      "  0%|          | 0/80 [00:00<?, ?it/s]"
     ]
    },
    {
     "name": "stdout",
     "output_type": "stream",
     "text": [
      "trial = 5\n"
     ]
    },
    {
     "name": "stderr",
     "output_type": "stream",
     "text": [
      "100%|██████████| 80/80 [00:03<00:00, 24.39it/s]\n",
      "  0%|          | 0/80 [00:00<?, ?it/s]"
     ]
    },
    {
     "name": "stdout",
     "output_type": "stream",
     "text": [
      "trial = 6\n"
     ]
    },
    {
     "name": "stderr",
     "output_type": "stream",
     "text": [
      "100%|██████████| 80/80 [00:07<00:00, 11.05it/s]\n",
      " 25%|██▌       | 20/80 [00:00<00:00, 145.28it/s]"
     ]
    },
    {
     "name": "stdout",
     "output_type": "stream",
     "text": [
      "trial = 7\n"
     ]
    },
    {
     "name": "stderr",
     "output_type": "stream",
     "text": [
      "100%|██████████| 80/80 [00:03<00:00, 25.30it/s]\n",
      "  0%|          | 0/80 [00:00<?, ?it/s]"
     ]
    },
    {
     "name": "stdout",
     "output_type": "stream",
     "text": [
      "trial = 8\n"
     ]
    },
    {
     "name": "stderr",
     "output_type": "stream",
     "text": [
      "100%|██████████| 80/80 [00:04<00:00, 16.92it/s]\n",
      "  0%|          | 0/80 [00:00<?, ?it/s]"
     ]
    },
    {
     "name": "stdout",
     "output_type": "stream",
     "text": [
      "trial = 9\n"
     ]
    },
    {
     "name": "stderr",
     "output_type": "stream",
     "text": [
      "100%|██████████| 80/80 [00:05<00:00, 14.90it/s]\n"
     ]
    }
   ],
   "source": [
    "EPS = np.finfo(np.float).eps\n",
    "\n",
    "T = 80\n",
    "\n",
    "a0 = 1.0\n",
    "b0 = 1.0\n",
    "ratio = 0.02\n",
    "\n",
    "X_all = []\n",
    "Z_all = []\n",
    "\n",
    "for trial in range(10):\n",
    "    print('trial =', trial)\n",
    "    \n",
    "    X_trial = []\n",
    "    Z_trial = []\n",
    "    pi1 = None\n",
    "    pi2 = None\n",
    "    theta_former = None   \n",
    "    \n",
    "    for t in tqdm.tqdm(range(1, T+1)):\n",
    "        seed = trial*T + t\n",
    "        if t == 1:\n",
    "            X, Z1_true, Z2_true, pi1, pi2, theta_former = generate_data_random(\n",
    "                N=100, K=3, alpha1=1.0, alpha2=1.0, a0=a0, b0=b0, \n",
    "                pi1=pi1, pi2=pi2, theta=theta_former, seed=seed)\n",
    "        elif t <= 19:\n",
    "            X, Z1_true = generate_data_sequential_randomtrans(\n",
    "                X, Z1_true, theta=theta_former, ratio=ratio, seed=seed)\n",
    "        elif t == 20:\n",
    "            # change of pi\n",
    "            n_z = np.sum(Z1_true, axis=0)\n",
    "            \n",
    "            idx_max_first, idx_max_second = n_z.argsort()[::-1][:2]\n",
    "            n_z_max_first, n_z_max_second = np.sort(n_z)[::-1][:2]\n",
    "            n_trans = int((n_z_max_first - n_z_max_second)/2)\n",
    "            \n",
    "            X, Z1_true = generate_data_abrupt_pi(\n",
    "                X, Z1_true, theta=theta_former, n_trans=n_trans, \n",
    "                idx_before=idx_max_first, idx_after=idx_max_second, seed=seed)            \n",
    "            \n",
    "        elif 21 <= t < 40:\n",
    "            X, Z1_true = generate_data_sequential_randomtrans(\n",
    "                X, Z1_true, theta=theta_former, ratio=ratio, seed=seed)\n",
    "        elif t == 40:\n",
    "            # change of theta\n",
    "            u = np.random.uniform(0.01, 0.05, (3, 3))\n",
    "            theta_former2 = theta_former + u\n",
    "            #theta_former2[theta_former2 > 1.0] = (theta_former2 - u)[theta_former2 > 1.0]\n",
    "            theta_former2[theta_former2 > 1.0] = 1.0\n",
    "            X = generate_data_abrupt_theta(\n",
    "                X, Z1_true, theta_former2, seed=seed)\n",
    "        elif 41 <= t < 60:\n",
    "            X, Z1_true = generate_data_sequential_randomtrans(\n",
    "                X, Z1_true, theta=theta_former2, ratio=ratio, seed=seed)\n",
    "        elif t == 60:\n",
    "            X, Z1_true, theta_latter = generate_data_split(\n",
    "                X, Z1_true, K_former=3, K_latter=4, \n",
    "                pi_former=pi1, a0=a0, b0=b0, seed=seed) \n",
    "        else:\n",
    "            X, Z1_true = generate_data_sequential_randomtrans(\n",
    "                X, Z1_true, theta=theta_latter, ratio=ratio, seed=seed)\n",
    "        \n",
    "        X_trial.append(X)\n",
    "        Z_trial.append(Z1_true)\n",
    "    \n",
    "    X_all.append(X_trial)\n",
    "    Z_all.append(Z_trial)\n",
    "            \n",
    "    X_all_array = np.array(X_all)\n",
    "    with open(os.path.join(outdir, 'X_abrupt.pkl'), 'wb') as f:\n",
    "        pickle.dump(X_all_array, f)\n",
    "    with open(os.path.join(outdir, 'Z_abrupt.pkl'), 'wb') as f:\n",
    "        pickle.dump(Z_all, f)"
   ]
  },
  {
   "cell_type": "code",
   "execution_count": null,
   "metadata": {},
   "outputs": [],
   "source": []
  }
 ],
 "metadata": {
  "kernelspec": {
   "display_name": "Python 3",
   "language": "python",
   "name": "python3"
  },
  "language_info": {
   "codemirror_mode": {
    "name": "ipython",
    "version": 3
   },
   "file_extension": ".py",
   "mimetype": "text/x-python",
   "name": "python",
   "nbconvert_exporter": "python",
   "pygments_lexer": "ipython3",
   "version": "3.7.2"
  }
 },
 "nbformat": 4,
 "nbformat_minor": 4
}
